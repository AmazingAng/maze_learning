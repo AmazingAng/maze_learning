{
 "cells": [
  {
   "cell_type": "code",
   "execution_count": 567,
   "metadata": {},
   "outputs": [],
   "source": [
    "from scipy.io import loadmat\n",
    "import matplotlib.pyplot as plt\n",
    "import numpy as np\n",
    "import pickle\n",
    "import h5py\n",
    "import scipy.stats\n",
    "from tqdm import tqdm\n",
    "import pdb\n",
    "import os\n",
    "from matplotlib.backends.backend_pdf import PdfPages\n",
    "import sklearn.preprocessing\n",
    "###Import functions for binning data for preprocessing###\n",
    "from Neural_Decoding.preprocessing_funcs import bin_spikes\n",
    "from Neural_Decoding.preprocessing_funcs import bin_output\n",
    "#Import metrics\n",
    "from Neural_Decoding.metrics import get_R2\n",
    "from Neural_Decoding.metrics import get_rho\n",
    "#Import decoder functions\n",
    "from Neural_Decoding.decoders import NaiveBayesDecoder\n",
    "import statsmodels.api as sm\n",
    "\n",
    "\n",
    "behav_mat = loadmat('behav_new.mat');\n",
    "behav_pos = behav_mat['behav'][\"position_original\"][0][0]\n",
    "behav_pos_smooth = behav_mat['behav'][\"position\"][0][0]\n",
    "behav_time = behav_mat['behav']['time'][0][0]\n",
    "\n",
    "# delete first 50 frames (~1.7s), when the mouse is not in the maze\n",
    "delete_start = 50\n",
    "behav_pos = np.delete(behav_pos, range(0,delete_start),0)\n",
    "behav_time = np.delete(behav_time, range(0,delete_start))\n",
    "behav_pos_smooth = np.delete(behav_pos_smooth, range(0,delete_start),0)\n",
    "\n",
    "\n",
    "# behav_mat = loadmat('ms.mat');\n",
    "# read calcium data\n",
    "with h5py.File('ms.mat', 'r') as f:\n",
    "    ms_mat = f['ms']\n",
    "    FiltTraces = np.array(ms_mat['FiltTraces'])\n",
    "    RawTraces = np.array(ms_mat['RawTraces'])\n",
    "    DeconvSignal = np.array(ms_mat['DeconvSignals'])\n",
    "    ms_time = np.array(ms_mat['time'])[0,]\n",
    "# read behav data\n",
    "with open('maze1.pkl', 'rb') as handle:\n",
    "    graph = pickle.load(handle)\n",
    "# time in seconds\n",
    "with open('behav_decision.pkl', 'rb') as handle:\n",
    "    correct_time, wrong_time, correct_time_percentage, decision_rate,_ = pickle.load(handle)\n",
    "with open('behav_processed.pkl', 'rb') as handle:\n",
    "    behav_time_original, behav_nodes_interpolated, behav_dir = pickle.load(handle)\n"
   ]
  },
  {
   "cell_type": "code",
   "execution_count": 568,
   "metadata": {
    "scrolled": true
   },
   "outputs": [
    {
     "data": {
      "text/plain": [
       "[<matplotlib.lines.Line2D at 0x205cf2d4610>]"
      ]
     },
     "execution_count": 568,
     "metadata": {},
     "output_type": "execute_result"
    },
    {
     "data": {
      "image/png": "[encoded data removed]",
      "text/plain": [
       "<Figure size 432x288 with 3 Axes>"
      ]
     },
     "metadata": {
      "needs_background": "light"
     },
     "output_type": "display_data"
    }
   ],
   "source": [
    "# remove no behav recording period\n",
    "behav_mask = (ms_time>=behav_time[0]) & (ms_time<behav_time[-1])\n",
    "FiltTraces_behav = FiltTraces[:,behav_mask]\n",
    "RawTraces_behav = RawTraces[:,behav_mask]\n",
    "DeconvSignal_behav = DeconvSignal[:,behav_mask]\n",
    "ms_time_behav = ms_time[behav_mask]\n",
    "\n",
    "# plot spike data\n",
    "deconv_sd = np.std(DeconvSignal_behav, axis = 1) * 3\n",
    "Spikes = np.where(DeconvSignal_behav>np.repeat(deconv_sd[:,np.newaxis], DeconvSignal_behav.shape[1],1), 1, 0)\n",
    "plt.subplot(311)\n",
    "plt.plot(Spikes[1,:])\n",
    "plt.subplot(312)\n",
    "plt.plot(Spikes[2,:])\n",
    "plt.subplot(313)\n",
    "plt.plot(Spikes[3,:])"
   ]
  },
  {
   "cell_type": "code",
   "execution_count": 569,
   "metadata": {},
   "outputs": [],
   "source": [
    "n_neuron = Spikes.shape[0]\n",
    "spike_times = []\n",
    "for i in range(n_neuron):\n",
    "    spike_time = ms_time_behav[np.where(Spikes[i,:] == 1)]\n",
    "    spike_times.append(spike_time)\n",
    "spike_times = np.array(spike_times, dtype = object)\n",
    "\n",
    "t_start = max(ms_time[0], behav_time[0])\n",
    "t_end = max(ms_time[-1], behav_time[-1])\n",
    "downsample_factor = 10\n",
    "dt = 100 # ms\n",
    "\n"
   ]
  },
  {
   "cell_type": "code",
   "execution_count": 570,
   "metadata": {},
   "outputs": [
    {
     "name": "stderr",
     "output_type": "stream",
     "text": [
      "D:\\Softwares\\anaconda3\\lib\\site-packages\\numpy\\core\\fromnumeric.py:3440: RuntimeWarning: Mean of empty slice.\n",
      "  return _methods._mean(a, axis=axis, dtype=dtype,\n",
      "D:\\Softwares\\anaconda3\\lib\\site-packages\\numpy\\core\\_methods.py:189: RuntimeWarning: invalid value encountered in double_scalars\n",
      "  ret = ret.dtype.type(ret / rcount)\n"
     ]
    }
   ],
   "source": [
    "neural_data=bin_spikes(spike_times,dt,t_start,t_end)\n",
    "\n",
    "#Bin output (velocity) data using \"bin_output\" function\n",
    "pos_binned=bin_output(behav_pos_smooth,behav_time,dt,t_start,t_end,downsample_factor) \n",
    "# pos_binned=bin_output(np.expand_dims(behav_nodes_interpolated,1),behav_time_original,dt,t_start,t_end,downsample_factor) "
   ]
  },
  {
   "cell_type": "code",
   "execution_count": 584,
   "metadata": {},
   "outputs": [],
   "source": [
    "bins_before=7 #How many bins of neural data prior to the output are used for decoding\n",
    "bins_current=1 #Whether to use concurrent time bin of neural data\n",
    "bins_after=4 #How many bins of neural data after the output are used for decoding"
   ]
  },
  {
   "cell_type": "code",
   "execution_count": 585,
   "metadata": {},
   "outputs": [],
   "source": [
    "#Remove neurons with too few spikes in HC dataset\n",
    "nd_sum=np.nansum(neural_data,axis=0) #Total number of spikes of each neuron\n",
    "rmv_nrn=np.where(nd_sum<20) #Find neurons who have less than 100 spikes total\n",
    "neural_data=np.delete(neural_data,rmv_nrn,1) #Remove those neurons\n",
    "X=neural_data"
   ]
  },
  {
   "cell_type": "code",
   "execution_count": 586,
   "metadata": {},
   "outputs": [],
   "source": [
    "#Set decoding output\n",
    "y=pos_binned"
   ]
  },
  {
   "cell_type": "code",
   "execution_count": 587,
   "metadata": {},
   "outputs": [],
   "source": [
    "#Number of bins to sum spikes over\n",
    "N=bins_before+bins_current+bins_after "
   ]
  },
  {
   "cell_type": "code",
   "execution_count": 588,
   "metadata": {},
   "outputs": [],
   "source": [
    "#Remove time bins with no output (y value)\n",
    "rmv_time=np.where(np.isnan(y[:,0]) | np.isnan(y[:,1]))\n",
    "X=np.delete(X,rmv_time,0)\n",
    "y=np.delete(y,rmv_time,0)"
   ]
  },
  {
   "cell_type": "code",
   "execution_count": 589,
   "metadata": {},
   "outputs": [
    {
     "name": "stderr",
     "output_type": "stream",
     "text": [
      "<ipython-input-589-66c7609f5761>:12: DeprecationWarning: `np.int` is a deprecated alias for the builtin `int`. To silence this warning, use `int` by itself. Doing this will not modify any behavior and is safe. When replacing `np.int`, you may wish to use e.g. `np.int64` or `np.int32` to specify the precision. If you wish to review your current use, check the release note link for additional information.\n",
      "Deprecated in NumPy 1.20; for more details and guidance: https://numpy.org/devdocs/release/1.20.0-notes.html#deprecations\n",
      "  training_set=np.arange(np.int(np.round(training_range[0]*num_examples))+bins_before,np.int(np.round(training_range[1]*num_examples))-bins_after)\n",
      "<ipython-input-589-66c7609f5761>:13: DeprecationWarning: `np.int` is a deprecated alias for the builtin `int`. To silence this warning, use `int` by itself. Doing this will not modify any behavior and is safe. When replacing `np.int`, you may wish to use e.g. `np.int64` or `np.int32` to specify the precision. If you wish to review your current use, check the release note link for additional information.\n",
      "Deprecated in NumPy 1.20; for more details and guidance: https://numpy.org/devdocs/release/1.20.0-notes.html#deprecations\n",
      "  testing_set=np.arange(np.int(np.round(testing_range[0]*num_examples))+bins_before,np.int(np.round(testing_range[1]*num_examples))-bins_after)\n",
      "<ipython-input-589-66c7609f5761>:14: DeprecationWarning: `np.int` is a deprecated alias for the builtin `int`. To silence this warning, use `int` by itself. Doing this will not modify any behavior and is safe. When replacing `np.int`, you may wish to use e.g. `np.int64` or `np.int32` to specify the precision. If you wish to review your current use, check the release note link for additional information.\n",
      "Deprecated in NumPy 1.20; for more details and guidance: https://numpy.org/devdocs/release/1.20.0-notes.html#deprecations\n",
      "  valid_set=np.arange(np.int(np.round(valid_range[0]*num_examples))+bins_before,np.int(np.round(valid_range[1]*num_examples))-bins_after)\n"
     ]
    }
   ],
   "source": [
    "#Set what part of data should be part of the training/testing/validation sets\n",
    "\n",
    "training_range=[0, 0.8]\n",
    "valid_range=[0.8,0.9]\n",
    "testing_range=[0.9, 1]\n",
    "\n",
    "#Number of examples after taking into account bins removed for lag alignment\n",
    "num_examples=X.shape[0]\n",
    "\n",
    "#Note that each range has a buffer of\"bins_before\" bins at the beginning, and \"bins_after\" bins at the end\n",
    "#This makes it so that the different sets don't include overlapping neural data\n",
    "training_set=np.arange(np.int(np.round(training_range[0]*num_examples))+bins_before,np.int(np.round(training_range[1]*num_examples))-bins_after)\n",
    "testing_set=np.arange(np.int(np.round(testing_range[0]*num_examples))+bins_before,np.int(np.round(testing_range[1]*num_examples))-bins_after)\n",
    "valid_set=np.arange(np.int(np.round(valid_range[0]*num_examples))+bins_before,np.int(np.round(valid_range[1]*num_examples))-bins_after)\n",
    "\n",
    "#Get training data\n",
    "X_train=X[training_set,:]\n",
    "y_train=y[training_set,:]\n",
    "\n",
    "#Get testing data\n",
    "X_test=X[testing_set,:]\n",
    "y_test=y[testing_set,:]\n",
    "\n",
    "#Get validation data\n",
    "X_valid=X[valid_set,:]\n",
    "y_valid=y[valid_set,:]"
   ]
  },
  {
   "cell_type": "code",
   "execution_count": 590,
   "metadata": {},
   "outputs": [],
   "source": [
    "#Initialize matrices for neural data in Naive bayes format\n",
    "num_nrns=X_train.shape[1]\n",
    "X_b_train=np.empty([X_train.shape[0]-N+1,num_nrns])\n",
    "X_b_valid=np.empty([X_valid.shape[0]-N+1,num_nrns])\n",
    "X_b_test=np.empty([X_test.shape[0]-N+1,num_nrns])\n",
    "\n",
    "#Below assumes that bins_current=1 (otherwise alignment will be off by 1 between the spikes and outputs)\n",
    "\n",
    "#For all neurons, within all the bins being used, get the total number of spikes (sum across all those bins)\n",
    "#Do this for the training/validation/testing sets\n",
    "for i in range(num_nrns):\n",
    "    X_b_train[:,i]=N*np.convolve(X_train[:,i], np.ones((N,))/N, mode='valid') #Convolving w/ ones is a sum across those N bins\n",
    "    X_b_valid[:,i]=N*np.convolve(X_valid[:,i], np.ones((N,))/N, mode='valid')\n",
    "    X_b_test[:,i]=N*np.convolve(X_test[:,i], np.ones((N,))/N, mode='valid')\n",
    "\n",
    "#Make integer format\n",
    "X_b_train=X_b_train.astype(int)\n",
    "X_b_valid=X_b_valid.astype(int)\n",
    "X_b_test=X_b_test.astype(int)\n",
    "\n",
    "#Make y's aligned w/ X's\n",
    "#e.g. we have to remove the first y if we are using 1 bin before, and have to remove the last y if we are using 1 bin after\n",
    "if bins_before>0 and bins_after>0:\n",
    "    y_train=y_train[bins_before:-bins_after,:]\n",
    "    y_valid=y_valid[bins_before:-bins_after,:]\n",
    "    y_test=y_test[bins_before:-bins_after,:]\n",
    "    \n",
    "if bins_before>0 and bins_after==0:\n",
    "    y_train=y_train[bins_before:,:]\n",
    "    y_valid=y_valid[bins_before:,:]\n",
    "    y_test=y_test[bins_before:,:]"
   ]
  },
  {
   "cell_type": "code",
   "execution_count": 591,
   "metadata": {},
   "outputs": [],
   "source": [
    "#Declare model\n",
    "\n",
    "#The parameter \"encoding_model\" can either be linear or quadratic, although additional encoding models could later be added.\n",
    "\n",
    "#The parameter \"res\" is the number of bins used (resolution) for decoding predictions\n",
    "#So if res=100, we create a 100 x 100 grid going from the minimum to maximum of the output variables (x and y positions)\n",
    "#The prediction the decoder makes will be a value on that grid \n",
    "\n",
    "model_nb=NaiveBayesDecoder(encoding_model='quadratic',res=12)\n",
    "\n",
    "#Fit model\n",
    "model_nb.fit(X_b_train,y_train)"
   ]
  },
  {
   "cell_type": "code",
   "execution_count": 592,
   "metadata": {},
   "outputs": [],
   "source": [
    "#Get predictions\n",
    "#y_valid_predicted=model_nb.predict(X_b_valid,y_valid)\n",
    "y_train_predicted=model_nb.predict(X_b_train,y_train)"
   ]
  },
  {
   "cell_type": "code",
   "execution_count": 593,
   "metadata": {},
   "outputs": [
    {
     "name": "stdout",
     "output_type": "stream",
     "text": [
      "[0.65717755 0.75986323]\n"
     ]
    }
   ],
   "source": [
    "#Get metric of fit\n",
    "R2_nb=get_R2(y_train,y_train_predicted)\n",
    "print(R2_nb)"
   ]
  },
  {
   "cell_type": "code",
   "execution_count": 594,
   "metadata": {},
   "outputs": [
    {
     "data": {
      "text/plain": [
       "[<matplotlib.lines.Line2D at 0x205cf4e6bb0>]"
      ]
     },
     "execution_count": 594,
     "metadata": {},
     "output_type": "execute_result"
    },
    {
     "data": {
      "image/png": "[encoded data removed]",
      "text/plain": [
       "<Figure size 432x288 with 1 Axes>"
      ]
     },
     "metadata": {
      "needs_background": "light"
     },
     "output_type": "display_data"
    }
   ],
   "source": [
    "#Make example plot\n",
    "plt.plot(y_train[:,1])\n",
    "plt.plot(y_train_predicted[:,1])"
   ]
  },
  {
   "cell_type": "code",
   "execution_count": 595,
   "metadata": {},
   "outputs": [
    {
     "data": {
      "text/plain": [
       "6.950965140065193"
      ]
     },
     "execution_count": 595,
     "metadata": {},
     "output_type": "execute_result"
    }
   ],
   "source": [
    "#Get predictions\n",
    "np.median(np.abs(y_train - y_train_predicted))"
   ]
  },
  {
   "cell_type": "code",
   "execution_count": 583,
   "metadata": {},
   "outputs": [
    {
     "data": {
      "text/plain": [
       "(628, 83)"
      ]
     },
     "execution_count": 583,
     "metadata": {},
     "output_type": "execute_result"
    }
   ],
   "source": [
    "X_b_train.shape"
   ]
  },
  {
   "cell_type": "code",
   "execution_count": 7,
   "metadata": {},
   "outputs": [],
   "source": [
    "class Cell:\n",
    "    \"\"\"A cell in the maze.\n",
    "\n",
    "    A maze \"Cell\" is a point in the grid which may be surrounded by walls to\n",
    "    the north, east, south or west.\n",
    "\n",
    "    \"\"\"\n",
    "\n",
    "    # A wall separates a pair of cells in the N-S or W-E directions.\n",
    "    wall_pairs = {'N': 'S', 'S': 'N', 'E': 'W', 'W': 'E'}\n",
    "\n",
    "    def __init__(self, x, y):\n",
    "        \"\"\"Initialize the cell at (x,y). At first it is surrounded by walls.\"\"\"\n",
    "\n",
    "        self.x, self.y = x, y\n",
    "        self.walls = {'N': True, 'S': True, 'E': True, 'W': True}\n",
    "\n",
    "    def has_all_walls(self):\n",
    "        \"\"\"Does this cell still have all its walls?\"\"\"\n",
    "\n",
    "        return all(self.walls.values())\n",
    "\n",
    "    def knock_down_wall(self, other, wall):\n",
    "        \"\"\"Knock down the wall between cells self and other.\"\"\"\n",
    "\n",
    "        self.walls[wall] = False\n",
    "        other.walls[Cell.wall_pairs[wall]] = False\n",
    "\n",
    "        \n",
    "class Maze:\n",
    "    \"\"\"    \n",
    "    This constructs a maze with a given graph, represented as a grid of cells.\n",
    "    The maze consists of square cells the width of a corridor.\n",
    "    Each cell in the maze has an (x,y) location, with x,y = 0,...,n\n",
    "    y runs top to bottom.\n",
    "    Each cell is also given a unique integer cell number.\n",
    "    The present maze consists of straight runs, each run terminates in a branch point or \n",
    "    an end point. \n",
    "    \n",
    "    graph: dict, keys-nodes: values-their neighbors\n",
    "    maze_map: list of Cells\n",
    "    decision_node: nodes with decision point\n",
    "    runs: list of list of nodes\n",
    "    \"\"\"\n",
    "\n",
    "    def __init__(self, nx, ny, graph, ix=0, iy=0, start_node = 1, end_node = 144):\n",
    "        \"\"\"Initialize the maze grid.\n",
    "        The maze consists of nx x ny cells and will be constructed starting\n",
    "        at the cell indexed at (ix, iy).\n",
    "\n",
    "        \"\"\"\n",
    "        self.nx, self.ny = nx, ny\n",
    "        self.ix, self.iy = ix, iy\n",
    "        self.cell_num = nx * ny\n",
    "        self.graph = graph\n",
    "        self.maze_map = [[Cell(x, y) for y in range(ny)] for x in range(nx)]\n",
    "        # Direction: neightbor - current\n",
    "        self.to_direction = {(-1, 0): 'W',\n",
    "                 (1, 0): 'E',\n",
    "                 (0, 1):'S',\n",
    "                 (0, -1): 'N'}\n",
    "        self.is_bidirectional = self.check_bidirectional(graph) # check if the graph is bidirectional\n",
    "        if self.is_bidirectional:\n",
    "            self.make_maze() # knock down walls according to graph\n",
    "            self.repeated_parents = set()\n",
    "            self.decision_nodes = []\n",
    "            self.runs = self.get_run_from_current(start_node, graph)\n",
    "            self.shortest_path = self.BFS_SP(graph, start_node, end_node)\n",
    "            self.run_levels = self.get_levels_for_runs()\n",
    "            self.cell_levels = self.get_levels_for_cells()\n",
    "            \n",
    "    def cell_at(self, x, y):\n",
    "        \"\"\"Return the Cell object at (x,y).\"\"\"\n",
    "        return self.maze_map[x][y]\n",
    "    \n",
    "    def idx_to_loc(self, idx):\n",
    "        # convert index to location (x,y), note: location start from 0\n",
    "        cell_w = idx % self.nx\n",
    "        cell_h = idx // self.ny\n",
    "        return cell_w, cell_h\n",
    "    \n",
    "    def loc_to_idx(self, cell_w, cell_h):\n",
    "        # convert location (x,y) to index\n",
    "        idx = cell_w * self.nx + cell_h +1\n",
    "        return idx\n",
    "    \n",
    "    def check_bidirectional(self, graph):\n",
    "        # check if the maze is bidirectional\n",
    "        is_bidirectional = True\n",
    "        for node in graph.keys():\n",
    "            child_nodes = graph[node]\n",
    "            for child in child_nodes:\n",
    "                if not node in graph[child]:\n",
    "                    print(\"Warning: node \" + str(node) + \" not in node \" + str(child))\n",
    "                    is_bidirectional = False\n",
    "        if is_bidirectional:\n",
    "            print(\"The maze is bidirectional, Ye!\")\n",
    "        else:\n",
    "            print(\"Something is wrong, check log\")\n",
    "        return is_bidirectional\n",
    "\n",
    "    def get_run_from_current(self, current_node, graph, runs = []):\n",
    "        # get all runs from current node. Runs are defined as independent decision unit consisting a group of nodes\n",
    "        # return runs\n",
    "        done = False\n",
    "        run = [current_node] # put current node in run\n",
    "        self.repeated_parents.add(current_node) # add current node to repeated node (each node only belongs to one run)\n",
    "        children_node = [value for value in graph[current_node] if not value in self.repeated_parents] # delete repeated children\n",
    "\n",
    "        while not done:\n",
    "            if len(children_node) >= 2: # child nodes >=2, decision point\n",
    "                print(\"Node \" + str(current_node) + \" is Decision point\")\n",
    "                self.decision_nodes.append(current_node)\n",
    "                runs.append(run) # \n",
    "                # b.set_trace()\n",
    "                for child in children_node:\n",
    "                    runs = self.get_run_from_current(child, graph, runs = runs)\n",
    "                done = True\n",
    "            elif len(children_node) == 0: # leaf node\n",
    "                print(\"Node \" + str(current_node) + \" is Leaf node\")\n",
    "                runs.append(run)\n",
    "                done = True\n",
    "            else:\n",
    "                current_node = children_node[0]\n",
    "                # print(current_node)\n",
    "                self.repeated_parents.add(current_node)\n",
    "                run.append(current_node)\n",
    "                # pdb.set_trace()\n",
    "                children_node = [value for value in graph[current_node] if not value in self.repeated_parents] # parent will not be children's children\n",
    "        return runs\n",
    "    \n",
    "    def get_levels_for_runs(self):\n",
    "        # calculate levels for all runs\n",
    "        # a level consists a group of cells separated by decision points\n",
    "        level_seq = list(range(len(self.decision_nodes)))\n",
    "        run_level = [0]*len(self.runs)\n",
    "        for i in range(len(self.runs)):\n",
    "            # if runs are on shortest path, the last node should be decision nodes and determine its level\n",
    "            if self.runs[i][-1] in self.decision_nodes:\n",
    "                run_level[i] = level_seq[self.decision_nodes.index(self.runs[i][-1])]\n",
    "            # if runs are not on shortest path, the neighbor of the first node should be decision nodes and determine its level\n",
    "            else:\n",
    "                first_neighbors = self.graph[self.runs[i][0]]\n",
    "                decision_node_ind = [ind for ind, val in enumerate(first_neighbors) if val in self.shortest_path][0]\n",
    "                decision_node_neighbor = first_neighbors[decision_node_ind]\n",
    "                run_level[i] = level_seq[self.decision_nodes.index(decision_node_neighbor)]\n",
    "        return run_level  \n",
    "\n",
    "    def get_levels_for_cells(self):\n",
    "        cell_levels = [0]*self.cell_num\n",
    "        # calculate levels for all cells\n",
    "        for i_run in range(len(self.runs)):\n",
    "            run_level = self.run_levels[i_run]\n",
    "            for i_cell in self.runs[i_run]:\n",
    "                cell_levels[i_cell-1] = run_level\n",
    "        return cell_levels\n",
    "        \n",
    "    # Function to find the shortest\n",
    "    # path between two nodes of a graph\n",
    "    def BFS_SP(self,graph, start, goal):\n",
    "        explored = []\n",
    "\n",
    "        # Queue for traversing the\n",
    "        # graph in the BFS\n",
    "        queue = [[start]]\n",
    "\n",
    "        # If the desired node is\n",
    "        # reached\n",
    "        if start == goal:\n",
    "            print(\"Same Node\")\n",
    "            return(None)\n",
    "\n",
    "        # Loop to traverse the graph\n",
    "        # with the help of the queue\n",
    "        while queue:\n",
    "            path = queue.pop(0)\n",
    "            node = path[-1]\n",
    "\n",
    "            # Condition to check if the\n",
    "            # current node is not visited\n",
    "            if node not in explored:\n",
    "                neighbours = graph[node]\n",
    "\n",
    "                # Loop to iterate over the\n",
    "                # neighbours of the node\n",
    "                for neighbour in neighbours:\n",
    "                    new_path = list(path)\n",
    "                    new_path.append(neighbour)\n",
    "                    queue.append(new_path)\n",
    "\n",
    "                    # Condition to check if the\n",
    "                    # neighbour node is the goal\n",
    "                    if neighbour == goal:\n",
    "                        print(\"Shortest path = \", *new_path)\n",
    "                        return(new_path)\n",
    "                explored.append(node)\n",
    "\n",
    "        # Condition when the nodes\n",
    "        # are not connected\n",
    "        print(\"So sorry, but a connecting\"\\\n",
    "                    \"path doesn't exist :(\")\n",
    "        return(None)\n",
    "    \n",
    "    def __str__(self):\n",
    "        \"\"\"Return a (crude) string representation of the maze.\"\"\"\n",
    "\n",
    "        maze_rows = ['-' * self.nx * 2]\n",
    "        for y in range(self.ny):\n",
    "            maze_row = ['|']\n",
    "            for x in range(self.nx):\n",
    "                if self.maze_map[x][y].walls['E']:\n",
    "                    maze_row.append(' |')\n",
    "                else:\n",
    "                    maze_row.append('  ')\n",
    "            maze_rows.append(''.join(maze_row))\n",
    "            maze_row = ['|']\n",
    "            for x in range(self.nx):\n",
    "                if self.maze_map[x][y].walls['S']:\n",
    "                    maze_row.append('-+')\n",
    "                else:\n",
    "                    maze_row.append(' +')\n",
    "            maze_rows.append(''.join(maze_row))\n",
    "        return '\\n'.join(maze_rows)\n",
    "    \n",
    "    def maze_plot(self, axes = None):\n",
    "        # plot maze with matplotlib.plot\n",
    "        aspect_ratio = self.nx / self.ny\n",
    "        # Pad the maze all around by this amount.\n",
    "        padding = 0.05\n",
    "        # Height and width of the maze image (excluding padding), in pixels\n",
    "        height = 6\n",
    "        width = int(height * aspect_ratio)\n",
    "        # Scaling factors mapping maze coordinates to image coordinates\n",
    "        scy, scx = height / self.ny, width / self.nx\n",
    "        # Write the SVG image file for maze\n",
    "        # SVG preamble and styles.\n",
    "        if axes == None:\n",
    "            fig = plt.figure(figsize=[(height + 2 * padding), (width + 2 * padding)])\n",
    "            axes = plt.gca()\n",
    "            axes.invert_yaxis()\n",
    "        \n",
    "        # Draw the \"South\" and \"East\" walls of each cell, if present (these\n",
    "        # are the \"North\" and \"West\" walls of a neighbouring cell in\n",
    "        # general, of course).\n",
    "        for x in range(self.nx):\n",
    "            for y in range(self.ny):\n",
    "                if self.cell_at(x, y).walls['S']:\n",
    "                    x1, y1, x2, y2 = x * scx, (y + 1) * scy, (x + 1) * scx, (y + 1) * scy\n",
    "                    axes.plot([x1, x2], [y1, y2], color = \"black\")\n",
    "                if self.cell_at(x, y).walls['E']:\n",
    "                    x1, y1, x2, y2 = (x + 1) * scx, y * scy, (x + 1) * scx, (y + 1) * scy\n",
    "                    axes.plot([x1, x2], [y1, y2], color = \"black\")\n",
    "        # Draw the North and West maze border, which won't have been drawn\n",
    "        # by the procedure above.\n",
    "        axes.plot([0, 0], [0, height], color = \"black\")\n",
    "        axes.plot([0, width], [0, 0], color = \"black\")\n",
    "        return axes\n",
    "    \n",
    "    def maze_plot_num(self, axes = None, mode='cells',numcol='blue'):\n",
    "        '''\n",
    "        adds numbering to an existing maze plot given by axes\n",
    "        m: maze\n",
    "        mode: 'cells','runs','nodes': depending on what gets numbered\n",
    "        numcol: color of the numbers\n",
    "        '''\n",
    "        axes = self.maze_plot(axes)\n",
    "        # plot maze with matplotlib.plot\n",
    "        aspect_ratio = self.nx / self.ny\n",
    "        # Pad the maze all around by this amount.\n",
    "        padding = 0.05\n",
    "        # Height and width of the maze image (excluding padding), in pixels\n",
    "        height = 6\n",
    "        width = int(height * aspect_ratio)\n",
    "        # Scaling factors mapping maze coordinates to image coordinates\n",
    "        scy, scx = height / self.ny, width / self.nx\n",
    "\n",
    "        if mode=='nodes':\n",
    "            for j,r in enumerate(self.runs):\n",
    "                x, y = self.idx_to_loc(r[-1]-1)\n",
    "                plt.text((x+0.25)*scx, (y+0.65)*scy, '{:d}'.format(j+1),color=numcol) # number the ends of a run    \n",
    "        \n",
    "        if mode=='cells':\n",
    "            for j in range(self.nx * self.ny):\n",
    "                x, y = self.idx_to_loc(j)\n",
    "                plt.text((x+0.25)*scx, (y+0.65)*scy, '{:d}'.format(j+1),color=numcol) # number the cells    \n",
    "        \n",
    "        if mode=='decisions':\n",
    "            for j,d in enumerate(self.decision_nodes):\n",
    "                x, y = self.idx_to_loc(d-1)\n",
    "                plt.text((x+0.25)*scx, (y+0.65)*scy, '{:d}'.format(j+1),color=numcol) # number the cells    \n",
    "\n",
    "    \n",
    "    def write_svg(self, filename):\n",
    "        \"\"\"Write an SVG image of the maze to filename.\"\"\"\n",
    "\n",
    "        aspect_ratio = self.nx / self.ny\n",
    "        # Pad the maze all around by this amount.\n",
    "        padding = 10\n",
    "        # Height and width of the maze image (excluding padding), in pixels\n",
    "        height = 500\n",
    "        width = int(height * aspect_ratio)\n",
    "        # Scaling factors mapping maze coordinates to image coordinates\n",
    "        scy, scx = height / self.ny, width / self.nx\n",
    "\n",
    "        def write_wall(ww_f, ww_x1, ww_y1, ww_x2, ww_y2):\n",
    "            \"\"\"Write a single wall to the SVG image file handle f.\"\"\"\n",
    "\n",
    "            print('<line x1=\"{}\" y1=\"{}\" x2=\"{}\" y2=\"{}\"/>'\n",
    "                  .format(ww_x1, ww_y1, ww_x2, ww_y2), file=ww_f)\n",
    "\n",
    "        # Write the SVG image file for maze\n",
    "        with open(filename, 'w') as f:\n",
    "            # SVG preamble and styles.\n",
    "            print('<?xml version=\"1.0\" encoding=\"utf-8\"?>', file=f)\n",
    "            print('<svg xmlns=\"http://www.w3.org/2000/svg\"', file=f)\n",
    "            print('    xmlns:xlink=\"http://www.w3.org/1999/xlink\"', file=f)\n",
    "            print('    width=\"{:d}\" height=\"{:d}\" viewBox=\"{} {} {} {}\">'\n",
    "                  .format(width + 2 * padding, height + 2 * padding,\n",
    "                          -padding, -padding, width + 2 * padding, height + 2 * padding),\n",
    "                  file=f)\n",
    "            print('<defs>\\n<style type=\"text/css\"><![CDATA[', file=f)\n",
    "            print('line {', file=f)\n",
    "            print('    stroke: #000000;\\n    stroke-linecap: square;', file=f)\n",
    "            print('    stroke-width: 5;\\n}', file=f)\n",
    "            print(']]></style>\\n</defs>', file=f)\n",
    "            # Draw the \"South\" and \"East\" walls of each cell, if present (these\n",
    "            # are the \"North\" and \"West\" walls of a neighbouring cell in\n",
    "            # general, of course).\n",
    "            for x in range(self.nx):\n",
    "                for y in range(self.ny):\n",
    "                    if self.cell_at(x, y).walls['S']:\n",
    "                        x1, y1, x2, y2 = x * scx, (y + 1) * scy, (x + 1) * scx, (y + 1) * scy\n",
    "                        write_wall(f, x1, y1, x2, y2)\n",
    "                    if self.cell_at(x, y).walls['E']:\n",
    "                        x1, y1, x2, y2 = (x + 1) * scx, y * scy, (x + 1) * scx, (y + 1) * scy\n",
    "                        write_wall(f, x1, y1, x2, y2)\n",
    "            # Draw the North and West maze border, which won't have been drawn\n",
    "            # by the procedure above.\n",
    "            print('<line x1=\"0\" y1=\"0\" x2=\"{}\" y2=\"0\"/>'.format(width), file=f)\n",
    "            print('<line x1=\"0\" y1=\"0\" x2=\"0\" y2=\"{}\"/>'.format(height), file=f)\n",
    "            print('</svg>', file=f)\n",
    "\n",
    "    def make_maze(self):\n",
    "        ##  Knock down walls according to graph\n",
    "        ## Note: location (x, y) start from 0, while index (idx) start from 1, BE CAREFUL!\n",
    "        # Total number of cells.\n",
    "        n_total = self.nx * self.ny\n",
    "        for i in range(n_total):\n",
    "            current_idx = i+1\n",
    "            current_x, current_y = self.idx_to_loc(current_idx-1)\n",
    "            current_cell = self.cell_at(current_x, current_y)\n",
    "            neighbor_idxs = self.graph[current_idx]\n",
    "            for neighbor_idx in neighbor_idxs:\n",
    "                #pdb.set_trace()\n",
    "                neighbor_x, neighbor_y = self.idx_to_loc(neighbor_idx-1)\n",
    "                next_cell = self.cell_at(neighbor_x, neighbor_y)\n",
    "                # print((current_idx, neighbor_idx) )\n",
    "\n",
    "                # pdb.set_trace()\n",
    "                diff_loc = (neighbor_x-current_x, neighbor_y-current_y)\n",
    "                neighbor_dir = self.to_direction[diff_loc]\n",
    "                current_cell.knock_down_wall(next_cell, neighbor_dir)\n",
    "               \n",
    "            "
   ]
  },
  {
   "cell_type": "code",
   "execution_count": 8,
   "metadata": {},
   "outputs": [
    {
     "name": "stdout",
     "output_type": "stream",
     "text": [
      "The maze is bidirectional, Ye!\n",
      "Node 1 is Decision point\n",
      "Node 2 is Leaf node\n",
      "Node 13 is Decision point\n",
      "Node 6 is Decision point\n",
      "Node 8 is Leaf node\n",
      "Node 17 is Decision point\n",
      "Node 28 is Leaf node\n",
      "Node 30 is Decision point\n",
      "Node 24 is Decision point\n",
      "Node 84 is Decision point\n",
      "Node 94 is Decision point\n",
      "Node 55 is Decision point\n",
      "Node 43 is Leaf node\n",
      "Node 54 is Decision point\n",
      "Node 53 is Leaf node\n",
      "Node 51 is Decision point\n",
      "Node 39 is Decision point\n",
      "Node 40 is Leaf node\n",
      "Node 97 is Decision point\n",
      "Node 86 is Leaf node\n",
      "Node 109 is Decision point\n",
      "Node 129 is Decision point\n",
      "Node 139 is Leaf node\n",
      "Node 142 is Decision point\n",
      "Node 130 is Decision point\n",
      "Node 120 is Leaf node\n",
      "Node 144 is Leaf node\n",
      "Node 143 is Leaf node\n",
      "Node 135 is Leaf node\n",
      "Node 52 is Leaf node\n",
      "Node 93 is Leaf node\n",
      "Node 96 is Leaf node\n",
      "Node 35 is Leaf node\n",
      "Node 41 is Leaf node\n",
      "Node 25 is Leaf node\n",
      "Shortest path =  1 13 14 26 27 15 3 4 5 6 18 17 29 30 31 19 20 21 9 10 11 12 24 23 22 34 33 32 44 45 46 47 48 60 59 58 57 56 68 69 70 71 72 84 83 95 94 82 81 80 92 104 103 91 90 78 79 67 55 54 66 65 64 63 75 74 62 50 51 39 38 37 49 61 73 85 97 109 110 122 123 111 112 100 99 87 88 76 77 89 101 102 114 113 125 124 136 137 138 126 127 115 116 117 129 141 142 130 131 132 144\n",
      "Shortest path =  1 13 14 26 27 15 3 4 5 6 18 17 29 30 31 19 20 21 9 10 11 12 24 23 22 34 33 32 44 45 46 47 48 60 59 58 57 56 68 69 70 71 72 84 83 95 94 82 81 80 92 104 103 91 90 78 79 67 55 54 66 65 64 63 75 74 62 50 51 39 38 37 49 61 73 85 97 109 110 122 123 111 112 100 99 87 88 76 77 89 101 102 114 113 125 124 136 137 138 126 127 115 116 117 129 141 142 130 131 132 144\n"
     ]
    }
   ],
   "source": [
    "# initialze maze object\n",
    "start_node = 1\n",
    "end_node = 144\n",
    "nx = 12\n",
    "ny = 12\n",
    "total_bin = nx*ny\n",
    "test_maze = Maze(nx, ny, graph)\n",
    "new_maze = test_maze.make_maze()\n",
    "shortest_path = test_maze.BFS_SP(graph, start_node, end_node)\n",
    "# behav_bins = test_maze.idx_to_loc(behav_nodes_interpolated-1) # start from 0"
   ]
  },
  {
   "cell_type": "code",
   "execution_count": 13,
   "metadata": {},
   "outputs": [],
   "source": [
    "# spike per bin\n",
    "spike_nodes = np.zeros_like(Spikes[0,:])\n",
    "for i in range(0, len(spike_nodes)):\n",
    "    if ms_time_behav[i] < behav_time_original[0]:\n",
    "        spike_nodes[i] = start_node;\n",
    "    else:\n",
    "        match_index = np.where(behav_time_original <= ms_time_behav[i])[0][-1]\n",
    "        spike_nodes[i] = behav_nodes_interpolated[match_index]\n",
    "spike_bins = test_maze.idx_to_loc(spike_nodes-1)"
   ]
  },
  {
   "cell_type": "code",
   "execution_count": 14,
   "metadata": {},
   "outputs": [],
   "source": [
    "# occupancy map, in ms\n",
    "# Duration for each (X,Y) sample (clipped to maxGap)\n",
    "maxGap = 100\n",
    "stay_time = np.append(np.ediff1d(ms_time_behav),0)\n",
    "stay_time[stay_time>maxGap] = maxGap\n",
    "_nbins = total_bin\n",
    "_coords_range = [0, _nbins + 0.0001]\n",
    "occu_time, xbin_edges, bin_numbers = scipy.stats.binned_statistic(\n",
    "        spike_nodes,\n",
    "        stay_time,\n",
    "        bins=_nbins,\n",
    "        statistic=\"sum\",\n",
    "        range=_coords_range)\n",
    "\n",
    "assert((bin_numbers == spike_nodes).all())\n",
    "minimum_occu_thres = 50 # ms, occupancy time less than the threshold are set to NAN, preventing large spike rate\n",
    "occu_time[occu_time<minimum_occu_thres] = np.nan"
   ]
  },
  {
   "cell_type": "code",
   "execution_count": 15,
   "metadata": {},
   "outputs": [],
   "source": [
    "### sum rate map (for first neuron)\n",
    "_nbins = total_bin\n",
    "_coords_range = [0, _nbins +0.0001 ]\n",
    "spikes = Spikes[0,:]\n",
    "\n",
    "# spike_map: total spikes per nodes\n",
    "spike_freq, xbin_edges, bin_numbers = scipy.stats.binned_statistic(\n",
    "        spike_nodes,\n",
    "        spikes,\n",
    "        bins=_nbins,\n",
    "        statistic=\"sum\",\n",
    "        range=_coords_range)\n",
    "\n",
    "rate_map = spike_freq/(occu_time/1000+ 1E-6) # ratemap: spike_map / occupancy_map\n",
    "assert((bin_numbers == spike_nodes).all())\n"
   ]
  },
  {
   "cell_type": "code",
   "execution_count": 16,
   "metadata": {},
   "outputs": [],
   "source": [
    "# rate map (for all neuron)\n",
    "n_neuron = Spikes.shape[0]\n",
    "spike_freq_all = np.zeros([n_neuron,total_bin])\n",
    "rate_map_all =  np.zeros_like(spike_freq_all)\n",
    "for i in range(n_neuron):\n",
    "    spike_freq_all[i,] ,_ ,_= scipy.stats.binned_statistic(\n",
    "        spike_nodes,\n",
    "        Spikes[i,:],\n",
    "        bins=_nbins,\n",
    "        statistic=\"sum\",\n",
    "        range=_coords_range)\n",
    "    rate_map_all[i,] = spike_freq_all[i,]/(occu_time/1000+ 1E-9)"
   ]
  },
  {
   "cell_type": "code",
   "execution_count": 17,
   "metadata": {},
   "outputs": [
    {
     "name": "stdout",
     "output_type": "stream",
     "text": [
      "This cell is rejected by 95% threshold, i.e. not place cell.\n"
     ]
    }
   ],
   "source": [
    "# spatial information (for one neuron) \n",
    "# see DOI: 10.1126/science.aav9199\n",
    "t_total = np.nansum(occu_time)/1000 # total time of trial\n",
    "t_nodes_frac = occu_time/1000/ (t_total+ 1E-6)   # time spent in ith bin/total session time\n",
    "\n",
    "def calc_SI(spikes, rate_map, t_total, t_nodes_frac):\n",
    "    mean_rate = sum(spikes)/t_total # mean firing rate\n",
    "    logArg = rate_map / mean_rate;\n",
    "    logArg[logArg == 0] = 1; # keep argument in log non-zero\n",
    "\n",
    "    IC = np.nansum(t_nodes_frac * rate_map * np.log2(logArg)) # information content\n",
    "    SI = IC / mean_rate; # spatial information (bits/spike)\n",
    "    return(SI)\n",
    "\n",
    "SI = calc_SI(spikes=spikes, rate_map=rate_map, t_total=t_total, t_nodes_frac=t_nodes_frac)\n",
    "\n",
    "# shuffle information for 1000 times\n",
    "shuffle_n = 1000\n",
    "SI_rand = np.zeros(shuffle_n)\n",
    "for i in range(shuffle_n):\n",
    "    shuffle_tmp = np.random.randint(Spikes.shape[1])\n",
    "    spikes_rand = np.roll(spikes, shuffle_tmp)\n",
    "    spike_freq_rand, _, _ = scipy.stats.binned_statistic(\n",
    "        spike_nodes,\n",
    "        spikes_rand,\n",
    "        bins=_nbins,\n",
    "        statistic=\"sum\",\n",
    "        range=_coords_range)\n",
    "    rate_map_rand = spike_freq_rand/(occu_time/1000+ 1E-6)    \n",
    "    SI_rand[i] = calc_SI(spikes = spikes_rand, rate_map = rate_map_rand, t_total = t_total, t_nodes_frac=t_nodes_frac)\n",
    "SI_thres = np.percentile(SI_rand, 95)\n",
    "if SI<SI_thres:\n",
    "    print(\"This cell is rejected by 95% threshold, i.e. not place cell.\" )\n",
    "else:\n",
    "    print(\"Ye! This cell is a place cell!\")"
   ]
  },
  {
   "cell_type": "code",
   "execution_count": 18,
   "metadata": {},
   "outputs": [
    {
     "name": "stderr",
     "output_type": "stream",
     "text": [
      "100%|██████████████████████████████████████████████████████████████████████████████████| 85/85 [00:53<00:00,  1.59it/s]\n"
     ]
    }
   ],
   "source": [
    "# spatial information (all neurons)\n",
    "SI_all = np.zeros(n_neuron)\n",
    "is_placecell_shift = np.zeros(n_neuron)\n",
    "\n",
    "def shuffle_test_shift(SI, spikes, spike_nodes, occu_time, _coords_range, _nbins = 144, shuffle_n = 1000):\n",
    "    SI_rand = np.zeros(shuffle_n)\n",
    "    t_total = np.nansum(occu_time)/1000\n",
    "    t_nodes_frac = occu_time/1000/ (t_total+ 1E-6)\n",
    "    for i in range(shuffle_n):\n",
    "        shuffle_tmp = np.random.randint(spikes.shape[0])\n",
    "        spikes_rand = np.roll(spikes, shuffle_tmp)\n",
    "        spike_freq_rand, _, _ = scipy.stats.binned_statistic(\n",
    "            spike_nodes,\n",
    "            spikes_rand,\n",
    "            bins=_nbins,\n",
    "            statistic=\"sum\",\n",
    "            range=_coords_range)\n",
    "        rate_map_rand = spike_freq_rand/(occu_time/1000+ 1E-6)    \n",
    "        SI_rand[i] = calc_SI(spikes = spikes_rand, rate_map = rate_map_rand, t_total = t_total, t_nodes_frac=t_nodes_frac)\n",
    "    is_placecell = SI > np.percentile(SI_rand, 95)\n",
    "    return is_placecell\n",
    "\n",
    "for i in tqdm(range(n_neuron)):\n",
    "    SI_all[i] = calc_SI(spikes=Spikes[i,], rate_map=rate_map_all[i,], t_total=t_total, t_nodes_frac=t_nodes_frac)\n",
    "    is_placecell_shift[i] = shuffle_test_shift(SI = SI_all[i], spikes = Spikes[i,], spike_nodes=spike_nodes, occu_time=occu_time, _coords_range=_coords_range)"
   ]
  },
  {
   "cell_type": "code",
   "execution_count": 19,
   "metadata": {},
   "outputs": [
    {
     "name": "stderr",
     "output_type": "stream",
     "text": [
      "100%|██████████████████████████████████████████████████████████████████████████████████| 85/85 [00:53<00:00,  1.59it/s]\n"
     ]
    }
   ],
   "source": [
    "# spatial information (all neurons)\n",
    "# Shuffle all random\n",
    "SI_all = np.zeros(n_neuron)\n",
    "is_placecell_all = np.zeros(n_neuron)\n",
    "\n",
    "def shuffle_test(SI, spikes, spike_nodes, occu_time, _coords_range, _nbins = 144, shuffle_n = 1000):\n",
    "    SI_rand = np.zeros(shuffle_n)\n",
    "    t_total = np.nansum(occu_time)/1000\n",
    "    t_nodes_frac = occu_time/1000/ (t_total+ 1E-6)\n",
    "    sum_spikes = np.sum(spikes)\n",
    "    for i in range(shuffle_n):\n",
    "        spikes_rand = np.zeros_like(spikes)\n",
    "        shuffle_spike_ind = np.random.randint(spikes.shape[0], size = sum_spikes)\n",
    "        \n",
    "        spikes_rand[shuffle_spike_ind] = 1\n",
    "        spike_freq_rand, _, _ = scipy.stats.binned_statistic(\n",
    "            spike_nodes,\n",
    "            spikes_rand,\n",
    "            bins=_nbins,\n",
    "            statistic=\"sum\",\n",
    "            range=_coords_range)\n",
    "        rate_map_rand = spike_freq_rand/(occu_time/1000+ 1E-6)    \n",
    "        SI_rand[i] = calc_SI(spikes = spikes_rand, rate_map = rate_map_rand, t_total = t_total, t_nodes_frac=t_nodes_frac)\n",
    "    is_placecell = SI > np.percentile(SI_rand, 95)\n",
    "    return is_placecell\n",
    "\n",
    "for i in tqdm(range(n_neuron)):\n",
    "    SI_all[i] = calc_SI(spikes=Spikes[i,], rate_map=rate_map_all[i,], t_total=t_total, t_nodes_frac=t_nodes_frac)\n",
    "    is_placecell_all[i] = shuffle_test(SI = SI_all[i], spikes = Spikes[i,], spike_nodes=spike_nodes, occu_time=occu_time, _coords_range=_coords_range)"
   ]
  },
  {
   "cell_type": "code",
   "execution_count": 49,
   "metadata": {},
   "outputs": [
    {
     "name": "stderr",
     "output_type": "stream",
     "text": [
      "100%|██████████████████████████████████████████████████████████████████████████████████| 85/85 [00:56<00:00,  1.51it/s]\n"
     ]
    }
   ],
   "source": [
    "# spatial information (all neurons)\n",
    "# Shuffle ISI: DOI: 10.1523/JNEUROSCI.19-21-09497.1999\n",
    "SI_all = np.zeros(n_neuron)\n",
    "is_placecell_isi = np.zeros(n_neuron)\n",
    "\n",
    "def shuffle_test_isi(SI, spikes, spike_nodes, occu_time, _coords_range, _nbins = 144, shuffle_n = 1000):\n",
    "    SI_rand = np.zeros(shuffle_n)\n",
    "    t_total = np.nansum(occu_time)/1000\n",
    "    t_nodes_frac = occu_time/1000/ (t_total+ 1E-6) \n",
    "    spike_ind = np.where(spikes==1)[0] # spike index\n",
    "    isi = np.append(spike_ind[0], np.ediff1d(spike_ind)) # get interspike interval\n",
    "\n",
    "    for i in range(shuffle_n):\n",
    "        shuffle_isi = np.random.choice(isi, size = len(isi), replace = False) # shuffle interspike interval\n",
    "        shuffle_spike_ind = np.cumsum(shuffle_isi) # shuffled spike index\n",
    "\n",
    "        spikes_rand = np.zeros_like(spikes)        \n",
    "        spikes_rand[shuffle_spike_ind] = 1\n",
    "        spike_freq_rand, _, _ = scipy.stats.binned_statistic(\n",
    "            spike_nodes,\n",
    "            spikes_rand,\n",
    "            bins=_nbins,\n",
    "            statistic=\"sum\",\n",
    "            range=_coords_range)\n",
    "        rate_map_rand = spike_freq_rand/(occu_time/1000+ 1E-6)    \n",
    "        SI_rand[i] = calc_SI(spikes = spikes_rand, rate_map = rate_map_rand, t_total = t_total, t_nodes_frac=t_nodes_frac)\n",
    "    is_placecell = SI > np.percentile(SI_rand, 95)\n",
    "    return is_placecell\n",
    "\n",
    "for i in tqdm(range(n_neuron)):\n",
    "    SI_all[i] = calc_SI(spikes=Spikes[i,], rate_map=rate_map_all[i,], t_total=t_total, t_nodes_frac=t_nodes_frac)\n",
    "    is_placecell_isi[i] = shuffle_test_isi(SI = SI_all[i], spikes = Spikes[i,], spike_nodes=spike_nodes, occu_time=occu_time, _coords_range=_coords_range)"
   ]
  },
  {
   "cell_type": "code",
   "execution_count": 50,
   "metadata": {},
   "outputs": [
    {
     "name": "stdout",
     "output_type": "stream",
     "text": [
      "# of place cell using time shift shuffle method: 4.0\n",
      "# of place cell using time all shuffle method: 77.0\n",
      "# of place cell using time isi shuffle method: 0.0\n"
     ]
    }
   ],
   "source": [
    "print(\"# of place cell using time shift shuffle method:\" ,np.sum(is_placecell_shift ))\n",
    "print(\"# of place cell using time all shuffle method:\", np.sum(is_placecell_all ))\n",
    "print(\"# of place cell using time isi shuffle method:\", np.sum(is_placecell_isi ))\n"
   ]
  },
  {
   "cell_type": "code",
   "execution_count": 22,
   "metadata": {},
   "outputs": [
    {
     "data": {
      "image/png": "[encoded data removed]",
      "text/plain": [
       "<Figure size 864x864 with 1 Axes>"
      ]
     },
     "metadata": {
      "needs_background": "light"
     },
     "output_type": "display_data"
    }
   ],
   "source": [
    "# plot ratemap 2d:\n",
    "# np.where(is_placecell_isi)\n",
    "import pylab as pl\n",
    "\n",
    "\n",
    "def plot_ratemap(ratemap, axes=None, title=None, extent = [0 , 12, 0 , 12],title_color = \"black\", *args, **kwargs):  # pylint: disable=keyword-arg-before-vararg\n",
    "    \"\"\"Plot ratemaps.\"\"\"\n",
    "    if axes is None:\n",
    "        axes = pl.gca()\n",
    "    # Plot the ratemap\n",
    "    axes.imshow(ratemap, interpolation='none', extent = extent, origin = \"lower\", alpha = 0.8, *args, **kwargs)\n",
    "    # ax.pcolormesh(ratemap, *args, **kwargs)\n",
    "    axes.axis('off')\n",
    "    if title is not None:\n",
    "        axes.set_title(title, color = title_color)\n",
    "\n",
    "fig = plt.figure(figsize=[(12), (12)])\n",
    "axes = fig.add_subplot(1, 1, 1)\n",
    "# axes.invert_yaxis()\n",
    "\n",
    "test_maze.maze_plot_num(axes = axes, mode = \"cells\")\n",
    "rate_map_2d = np.reshape(rate_map_all[2,], [12,12])\n",
    "plot_ratemap(rate_map_2d,  axes = axes)\n",
    "axes.invert_yaxis()\n",
    "# plt.scatter(1,1)\n"
   ]
  },
  {
   "cell_type": "code",
   "execution_count": 23,
   "metadata": {
    "scrolled": true
   },
   "outputs": [],
   "source": [
    "# plot ratemap 2d:\n",
    "# sorted by place cell first\n",
    "sort_by_place_cell = True\n",
    "directory = \"img_dir\"\n",
    "filename = \"rate_map.pdf\"\n",
    "# Sort by score if desired\n",
    "if sort_by_place_cell:\n",
    "    ordering = np.argsort(-np.array(is_placecell_isi))\n",
    "else:\n",
    "    ordering = range(n_neuron)\n",
    "# Plot\n",
    "cols = 8\n",
    "rows = int(np.ceil(n_neuron / cols))\n",
    "fig = plt.figure(figsize=(24, rows * 4))\n",
    "for i in range(n_neuron):\n",
    "    rf = plt.subplot(rows * 2, cols, i + 1)\n",
    "    if i < n_neuron:\n",
    "        index = ordering[i]\n",
    "        title = \"%d (%.2f)\" % (index, SI_all[index])\n",
    "        # Plot maze\n",
    "        # test_maze.maze_plot(axes = axes)\n",
    "        # Plot the activation maps\n",
    "        if is_placecell_isi[index] == 1:\n",
    "            plot_ratemap(np.reshape(rate_map_all[index,], [12,12]), axes=rf, title=title, title_color = \"red\")\n",
    "        else:\n",
    "            plot_ratemap(np.reshape(rate_map_all[index,], [12,12]), axes=rf, title=title)\n",
    "        # pl.colorbar()\n",
    "        rf.invert_yaxis()\n",
    "\n",
    "if not os.path.exists(directory):\n",
    "    os.makedirs(directory)\n",
    "with PdfPages(os.path.join(directory, filename), \"w\") as f:\n",
    "    plt.savefig(f, format=\"pdf\")\n",
    "    plt.close(fig)\n"
   ]
  },
  {
   "cell_type": "code",
   "execution_count": 24,
   "metadata": {},
   "outputs": [
    {
     "data": {
      "image/png": "[encoded data removed]",
      "text/plain": [
       "<Figure size 432x288 with 1 Axes>"
      ]
     },
     "metadata": {
      "needs_background": "light"
     },
     "output_type": "display_data"
    }
   ],
   "source": [
    "# plot ratemap 1d (all place cells):\n",
    "sort_by_nodes = True\n",
    "num_pc = int(sum(is_placecell_isi))\n",
    "rate_map_pc= rate_map_all[is_placecell_isi==1,]\n",
    "place_fields = np.nanargmax(rate_map_pc,axis=1)+1 # place field\n",
    "\n",
    "if sort_by_nodes:\n",
    "    ordering = np.argsort(-np.nanargmax(rate_map_pc,axis=1))\n",
    "else:\n",
    "    ordering = range(num_pc)\n",
    "\n",
    "# normalize tuning curve to [0, 1]\n",
    "rate_map_pc_norm = sklearn.preprocessing.minmax_scale(rate_map_pc, feature_range=(0, 1), axis=1, copy=True)\n",
    "# plot\n",
    "plot_ratemap(rate_map_pc_norm[ordering,:][:,~np.isnan(rate_map_pc_norm[0,])],extent = [0 , 1000, 0 , 300])\n",
    "# save figure\n",
    "filename = \"norm_ratemap_1d.pdf\"\n",
    "if not os.path.exists(directory):\n",
    "    os.makedirs(directory)\n",
    "with PdfPages(os.path.join(directory, filename), \"w\") as f:\n",
    "    plt.savefig(f, format=\"pdf\")\n",
    "    plt.close(fig)"
   ]
  },
  {
   "cell_type": "code",
   "execution_count": 25,
   "metadata": {},
   "outputs": [
    {
     "data": {
      "image/png": "[encoded data removed]",
      "text/plain": [
       "<Figure size 432x288 with 1 Axes>"
      ]
     },
     "metadata": {
      "needs_background": "light"
     },
     "output_type": "display_data"
    }
   ],
   "source": [
    "# ratemap 1d: orderd by shortest path\n",
    "sort_by_path = True\n",
    "num_pc = int(sum(is_placecell_isi))\n",
    "rate_map_pc= rate_map_all[is_placecell_isi==1,]\n",
    "if sort_by_path:\n",
    "    non_shortest_path = list(np.setdiff1d(list(graph.keys()), test_maze.shortest_path))\n",
    "    preferred_nodes = np.nanargmax(rate_map_pc,axis=1)+1 # place field\n",
    "    total_list = shortest_path + non_shortest_path\n",
    "    tmp_index = np.zeros(num_pc)\n",
    "    for i in range(num_pc):\n",
    "        tmp_index[i] =  np.where(total_list == preferred_nodes[i])[0]\n",
    "        \n",
    "    ordering = np.argsort(-tmp_index)\n",
    "else:\n",
    "    ordering = range(num_pc)\n",
    "\n",
    "# normalize tuning curve to [0, 1]\n",
    "rate_map_pc_norm = sklearn.preprocessing.minmax_scale(rate_map_pc, feature_range=(0, 1), axis=1, copy=True)\n",
    "# plot\n",
    "rate_map_ordered = rate_map_pc_norm[ordering,:][:,np.array(total_list)-1]\n",
    "plot_ratemap(rate_map_ordered[:,~np.isnan(rate_map_ordered[0,])],extent = [0 , 1000, 0 , 300])\n",
    "# save figure\n",
    "filename = \"norm_ratemap_1d_path.pdf\"\n",
    "if not os.path.exists(directory):\n",
    "    os.makedirs(directory)\n",
    "with PdfPages(os.path.join(directory, filename), \"w\") as f:\n",
    "    plt.savefig(f, format=\"pdf\")\n",
    "    plt.close(fig)"
   ]
  },
  {
   "cell_type": "code",
   "execution_count": 26,
   "metadata": {},
   "outputs": [
    {
     "name": "stdout",
     "output_type": "stream",
     "text": [
      "% of place fields on shortest path： 85.71%\n",
      " Chance Level: 77.08%\n"
     ]
    }
   ],
   "source": [
    "# shortest path selective %\n",
    "path_prefer_num = 0\n",
    "for i in range(num_pc):\n",
    "    if place_fields[i] in shortest_path:\n",
    "        path_prefer_num += 1\n",
    "        \n",
    "path_ratio = path_prefer_num/num_pc\n",
    "path_ratio_chance = len(shortest_path)/total_bin\n",
    "print(\"% of place fields on shortest path： \" + \"{:.2f}\".format(path_ratio*100) + \"%\\n Chance Level: \" + \"{:.2f}\".format(path_ratio_chance*100)+\"%\" )\n"
   ]
  },
  {
   "cell_type": "code",
   "execution_count": 27,
   "metadata": {},
   "outputs": [
    {
     "name": "stdout",
     "output_type": "stream",
     "text": [
      "% of place fields on decison nodes： 11.69%\n",
      " Chance Level: 11.81%\n"
     ]
    }
   ],
   "source": [
    "# decision node selective %\n",
    "decision_prefer_num = 0\n",
    "for i in range(num_pc):\n",
    "    if place_fields[i] in test_maze.decision_nodes:\n",
    "        decision_prefer_num += 1\n",
    "        \n",
    "decision_ratio = decision_prefer_num/num_pc\n",
    "decision_ratio_chance = len(test_maze.decision_nodes)/total_bin\n",
    "print(\"% of place fields on decison nodes： \" + \"{:.2f}\".format(decision_ratio*100) + \"%\\n Chance Level: \" + \"{:.2f}\".format(decision_ratio_chance*100)+\"%\" )\n"
   ]
  },
  {
   "cell_type": "code",
   "execution_count": 71,
   "metadata": {},
   "outputs": [],
   "source": [
    "# run selective %\n",
    "## spike node to runs\n",
    "def node_to_run(node, runs):\n",
    "    # transform node number (start from 1) to run number (start from 1)\n",
    "    # for example node 1, to run 1\n",
    "    run_ind = 0\n",
    "    for run_i in runs:\n",
    "        if node in run_i:\n",
    "            run_ind = runs.index(run_i)+1\n",
    "            return run_ind\n",
    "    return run_ind\n",
    "        \n",
    "spike_runs = np.zeros_like(spike_nodes)\n",
    "for i in range(len(spike_nodes)):\n",
    "    spike_runs[i] = node_to_run(spike_nodes[i], test_maze.runs)\n",
    "\n",
    "\n",
    "# occupancy map, in ms\n",
    "_nruns = len(test_maze.runs)\n",
    "_coords_range = [0, _nruns +0.0001 ]\n",
    "occu_time_run, _, run_numbers = scipy.stats.binned_statistic(\n",
    "        spike_runs,\n",
    "        stay_time,\n",
    "        bins=_nruns,\n",
    "        statistic=\"sum\",\n",
    "        range=_coords_range)\n",
    "assert((run_numbers == spike_runs).all())\n",
    "minimum_occu_thres = 50 # ms, occupancy time less than the threshold are set to NAN, preventing large spike rate\n",
    "occu_time_run[occu_time_run<minimum_occu_thres] = np.nan\n",
    "\n",
    "# run rate map \n",
    "### sum rate map (for first neuron)\n",
    "spikes = Spikes[0,:]\n",
    "# spike_map: total spikes per nodes\n",
    "spike_freq_run, xbin_edges, run_numbers = scipy.stats.binned_statistic(\n",
    "        spike_runs,\n",
    "        spikes,\n",
    "        bins=_nruns,\n",
    "        statistic=\"sum\",\n",
    "        range=_coords_range)\n",
    "rate_map_run = spike_freq_run/(occu_time_run/1000+ 1E-6) # ratemap: spike_map / occupancy_map\n",
    "assert((run_numbers == spike_runs).all())\n",
    "\n",
    "# rate map for runs (for all neuron)\n",
    "n_neuron = Spikes.shape[0]\n",
    "spike_freq_run_all = np.zeros([n_neuron, _nruns])\n",
    "rate_map_run_all =  np.zeros_like(spike_freq_run_all)\n",
    "for i in range(n_neuron):\n",
    "    spike_freq_run_all[i,] ,_ ,_= scipy.stats.binned_statistic(\n",
    "        spike_runs,\n",
    "        Spikes[i,:],\n",
    "        bins=_nruns,\n",
    "        statistic=\"sum\",\n",
    "        range=_coords_range)\n",
    "    rate_map_run_all[i,] = spike_freq_run_all[i,]/(occu_time_run/1000+ 1E-9)"
   ]
  },
  {
   "cell_type": "code",
   "execution_count": 29,
   "metadata": {},
   "outputs": [
    {
     "name": "stderr",
     "output_type": "stream",
     "text": [
      "100%|██████████████████████████████████████████████████████████████████████████████████| 85/85 [00:51<00:00,  1.66it/s]"
     ]
    },
    {
     "name": "stdout",
     "output_type": "stream",
     "text": [
      "# of run cell using time isi shuffle method: 79.0\n"
     ]
    },
    {
     "name": "stderr",
     "output_type": "stream",
     "text": [
      "\n"
     ]
    }
   ],
   "source": [
    "# spatial information for runs(all neurons)\n",
    "t_runs_frac = occu_time_run/1000/ (t_total+ 1E-6)   # time spent in ith bin/total session time\n",
    "\n",
    "# Shuffle ISI: DOI: 10.1523/JNEUROSCI.19-21-09497.1999\n",
    "SI_run_all = np.zeros(n_neuron)\n",
    "is_runcell_isi = np.zeros(n_neuron)\n",
    "\n",
    "for i in tqdm(range(n_neuron)):\n",
    "    SI_run_all[i] = calc_SI(spikes=Spikes[i,], rate_map=rate_map_run_all[i,], t_total=t_total, t_nodes_frac=t_runs_frac)\n",
    "    is_runcell_isi[i] = shuffle_test(SI = SI_run_all[i], spikes = Spikes[i,], spike_nodes=spike_runs, occu_time=occu_time_run, _coords_range=_coords_range, _nbins = _nruns)\n",
    "    \n",
    "print(\"# of run cell using time isi shuffle method:\", np.sum(is_runcell_isi ))\n"
   ]
  },
  {
   "cell_type": "code",
   "execution_count": 30,
   "metadata": {},
   "outputs": [
    {
     "data": {
      "image/png": "[encoded data removed]",
      "text/plain": [
       "<Figure size 432x288 with 1 Axes>"
      ]
     },
     "metadata": {
      "needs_background": "light"
     },
     "output_type": "display_data"
    }
   ],
   "source": [
    "# plot ratemap 1d (all run cells):\n",
    "sort_by_nodes = True\n",
    "num_rc = int(sum(is_runcell_isi))\n",
    "rate_map_rc= rate_map_run_all[is_runcell_isi==1,]\n",
    "run_fields = np.nanargmax(rate_map_rc,axis=1) # run field\n",
    "\n",
    "if sort_by_nodes:\n",
    "    ordering = np.argsort(-np.nanargmax(rate_map_rc,axis=1))\n",
    "else:\n",
    "    ordering = range(num_rc)\n",
    "\n",
    "# normalize tuning curve to [0, 1]\n",
    "rate_map_rc_norm = sklearn.preprocessing.minmax_scale(rate_map_rc, feature_range=(0, 1), axis=1, copy=True)\n",
    "# plot\n",
    "plot_ratemap(rate_map_rc_norm[ordering,:][:,~np.isnan(rate_map_rc_norm[0,])],extent = [0 , 1000, 0 , 300])\n",
    "# save figure\n",
    "filename = \"norm_ratemap_run_1d.pdf\"\n",
    "if not os.path.exists(directory):\n",
    "    os.makedirs(directory)\n",
    "with PdfPages(os.path.join(directory, filename), \"w\") as f:\n",
    "    plt.savefig(f, format=\"pdf\")\n",
    "    plt.close(fig)"
   ]
  },
  {
   "cell_type": "code",
   "execution_count": 31,
   "metadata": {},
   "outputs": [
    {
     "data": {
      "image/png": "[encoded data removed]",
      "text/plain": [
       "<Figure size 432x288 with 1 Axes>"
      ]
     },
     "metadata": {
      "needs_background": "light"
     },
     "output_type": "display_data"
    }
   ],
   "source": [
    "# run ratemap 1d: orderd by shortest path\n",
    "sort_by_path = True\n",
    "num_rc = int(sum(is_runcell_isi))\n",
    "rate_map_rc= rate_map_run_all[is_runcell_isi==1,]\n",
    "run_fields = np.nanargmax(rate_map_rc,axis=1) # place field\n",
    "run_ind = np.arange(len(test_maze.runs))\n",
    "\n",
    "if sort_by_path:\n",
    "    run_on_path = [test_maze.runs[i_run][0] in test_maze.shortest_path for i_run in range(_nruns)]\n",
    "    on_path_runs = run_ind[run_on_path]\n",
    "    non_shortest_path = list(np.setdiff1d(list(run_ind),on_path_runs))\n",
    "    preferred_runs = np.nanargmax(rate_map_rc,axis=1) # run field\n",
    "    total_list = list(on_path_runs) + non_shortest_path\n",
    "    tmp_index = np.zeros(num_rc)\n",
    "    for i in range(num_rc):\n",
    "        tmp_index[i] =  np.where(total_list == preferred_runs[i])[0]\n",
    "        \n",
    "    ordering = np.argsort(-tmp_index)\n",
    "else:\n",
    "    ordering = range(num_rc)\n",
    "\n",
    "# normalize tuning curve to [0, 1]\n",
    "rate_map_rc_norm = sklearn.preprocessing.minmax_scale(rate_map_rc, feature_range=(0, 1), axis=1, copy=True)\n",
    "# plot\n",
    "rate_map_rc_ordered = rate_map_rc_norm[ordering,:][:,np.array(total_list)]\n",
    "plot_ratemap(rate_map_rc_ordered[:,~np.isnan(rate_map_rc_ordered[0,])],extent = [0 , 1000, 0 , 300])\n",
    "# save figure\n",
    "filename = \"norm_ratemap_run_1d_path.pdf\"\n",
    "if not os.path.exists(directory):\n",
    "    os.makedirs(directory)\n",
    "with PdfPages(os.path.join(directory, filename), \"w\") as f:\n",
    "    plt.savefig(f, format=\"pdf\")\n",
    "    plt.close(fig)"
   ]
  },
  {
   "cell_type": "code",
   "execution_count": 35,
   "metadata": {},
   "outputs": [
    {
     "name": "stdout",
     "output_type": "stream",
     "text": [
      "% of run fields on shortest path： 54.43%\n",
      " Chance Level: 51.43%\n"
     ]
    }
   ],
   "source": [
    "# percent of run filed on shortest path\n",
    "\n",
    "num_shortpath_runfield = np.sum([preferred_run in on_path_runs for preferred_run in preferred_runs])\n",
    "run_path_ratio = num_shortpath_runfield/num_rc\n",
    "run_path_ratio_chance = np.sum(run_on_path)/len(test_maze.runs)\n",
    "print(\"% of run fields on shortest path： \" + \"{:.2f}\".format(run_path_ratio*100) + \"%\\n Chance Level: \" + \"{:.2f}\".format(run_path_ratio_chance*100)+\"%\" )\n"
   ]
  },
  {
   "cell_type": "code",
   "execution_count": null,
   "metadata": {},
   "outputs": [],
   "source": []
  },
  {
   "cell_type": "code",
   "execution_count": 33,
   "metadata": {},
   "outputs": [
    {
     "data": {
      "text/plain": [
       "array([ 0,  1,  2,  3,  4,  5,  6,  7,  8,  9, 10, 11, 12, 13, 14, 15, 16,\n",
       "       17, 18, 19, 20, 21, 22, 23, 24, 25, 26, 27, 28, 29, 30, 31, 32, 33,\n",
       "       34])"
      ]
     },
     "execution_count": 33,
     "metadata": {},
     "output_type": "execute_result"
    }
   ],
   "source": [
    "run_ind"
   ]
  },
  {
   "cell_type": "code",
   "execution_count": 82,
   "metadata": {},
   "outputs": [],
   "source": [
    "SI_rand = np.zeros(shuffle_n)\n",
    "t_total = np.nansum(occu_time)/1000\n",
    "t_nodes_frac = occu_time/1000/ (t_total+ 1E-6) \n",
    "spike_ind = np.where(spikes==1)[0] # spike index\n",
    "isi = np.append(spike_ind[0], np.ediff1d(spike_ind)) # get interspike interval\n",
    "for i in range(shuffle_n):\n",
    "    shuffle_isi = np.random.choice(isi, size = len(isi), replace = False) # shuffle interspike interval\n",
    "    shuffle_spike_ind = np.cumsum(shuffle_isi) # shuffled spike index\n",
    "\n",
    "    spikes_rand = np.zeros_like(spikes)        \n",
    "    spikes_rand[shuffle_spike_ind] = 1\n",
    "    spike_freq_rand, _, _ = scipy.stats.binned_statistic(\n",
    "        spike_nodes,\n",
    "        spikes_rand,\n",
    "        bins=_nbins,\n",
    "        statistic=\"sum\",\n",
    "        range=_coords_range)\n",
    "    rate_map_rand = spike_freq_rand/(occu_time/1000+ 1E-6)    \n",
    "    SI_rand[i] = calc_SI(spikes = spikes_rand, rate_map = rate_map_rand, t_total = t_total, t_nodes_frac=t_nodes_frac)\n",
    "is_placecell = SI > np.percentile(SI_rand, 95)\n"
   ]
  },
  {
   "cell_type": "code",
   "execution_count": 143,
   "metadata": {},
   "outputs": [
    {
     "data": {
      "text/plain": [
       "array([24, 15,  7,  8, 19, 10, 20,  9, 21,  1, 16, 12, 13,  6,  5,  3,  2,\n",
       "       18, 22, 11,  4, 23, 14, 17,  0], dtype=int64)"
      ]
     },
     "execution_count": 143,
     "metadata": {},
     "output_type": "execute_result"
    }
   ],
   "source": [
    "ordering"
   ]
  },
  {
   "cell_type": "code",
   "execution_count": 62,
   "metadata": {},
   "outputs": [
    {
     "data": {
      "text/plain": [
       "array([  5,   9,   2,   2, 149,   3,  89,   1,  40,  34,  44,   3,   1,\n",
       "         4,   1,   2,   3,   1,   2, 180,  86,   1,   8,   1,   1,  41,\n",
       "        19,   2,   1,   2,   3,   1,   4,   7,  17,  40,   1,   1,  24,\n",
       "       141,   1,   1,   1,   2,   1,  18,   3,   1,  41,   4,  13,  28,\n",
       "         1,   1,   2,   4,  13,  17,  14, 398,  14,  25,   1,   1,   2,\n",
       "        21,   6,  34,   1,   3,   4,  13,   2,   1,   6,  32,   4, 157,\n",
       "        25,   3,  46,   4,   1,  19,  26,   1,   9,  30,  13,  18, 465,\n",
       "         4,   1,   8,   5,   7,  35,  15,   1,  10,   2,  10,  16,   2,\n",
       "         6,   1,   4,   4,   6,  39,  45,  10,   6,   2,  55,   1,   7,\n",
       "         8,   1,   6,   2,  42,   5,  15,   5,  59,   1,   1,   2,  38,\n",
       "         1,  20,   1,  12,  76,  14,   1,   1,   1,   2,  12,   2,   1,\n",
       "         8,   2,  10,  27,   1,  15,   8,   1,   3,  10,   3,   1,   4,\n",
       "         1,  12,   3,   2,   9,   2,   7,   3,  20,  71,   2,  67,   1,\n",
       "        28,  46,   1,   1,   2,   4, 248,  30,   2,   3,  50,  87,  26,\n",
       "        18,   1,  50,   8,   1,  10,   9,  27,   1,   3,   1,  36,  86,\n",
       "       204,   2,   1, 319,   2,   2,  60,  49,   1,   3,   2,  58,   1,\n",
       "       121,   1,   1,  53,   5,   6,  54,   4,   1,  14,  62,   6,   1,\n",
       "         4,   1,   4,  31,   1,   4,   2, 124,   5,   5,  59,   6,   1,\n",
       "        14,   3,   2,   1, 226,  13,   1,  13,  18,   1,   4,   1,  62,\n",
       "         5,  10,   3,   2,   3,   4,   1,   5,  62, 253,   1,   4,   1,\n",
       "         4,   1,  52,   2,   5,   4, 143,  43, 166,  11,  42, 196,   3,\n",
       "         3,   1,  54,  49,   1,   1,   2,  10,   2,   8,  72,  13,   3,\n",
       "         1,  32], dtype=int64)"
      ]
     },
     "execution_count": 62,
     "metadata": {},
     "output_type": "execute_result"
    }
   ],
   "source": [
    "isi_before_shuffle"
   ]
  },
  {
   "cell_type": "code",
   "execution_count": 154,
   "metadata": {},
   "outputs": [
    {
     "data": {
      "text/plain": [
       "array([6], dtype=int64)"
      ]
     },
     "execution_count": 154,
     "metadata": {},
     "output_type": "execute_result"
    }
   ],
   "source": [
    " np.where(total_list == preferred_nodes[0])[0]"
   ]
  },
  {
   "cell_type": "code",
   "execution_count": 155,
   "metadata": {},
   "outputs": [
    {
     "data": {
      "text/plain": [
       "[1,\n",
       " 13,\n",
       " 14,\n",
       " 26,\n",
       " 27,\n",
       " 15,\n",
       " 3,\n",
       " 4,\n",
       " 5,\n",
       " 6,\n",
       " 18,\n",
       " 17,\n",
       " 29,\n",
       " 30,\n",
       " 31,\n",
       " 19,\n",
       " 20,\n",
       " 21,\n",
       " 9,\n",
       " 10,\n",
       " 11,\n",
       " 12,\n",
       " 24,\n",
       " 23,\n",
       " 22,\n",
       " 34,\n",
       " 33,\n",
       " 32,\n",
       " 44,\n",
       " 45,\n",
       " 46,\n",
       " 47,\n",
       " 48,\n",
       " 60,\n",
       " 59,\n",
       " 58,\n",
       " 57,\n",
       " 56,\n",
       " 68,\n",
       " 69,\n",
       " 70,\n",
       " 71,\n",
       " 72,\n",
       " 84,\n",
       " 83,\n",
       " 95,\n",
       " 94,\n",
       " 82,\n",
       " 81,\n",
       " 80,\n",
       " 92,\n",
       " 104,\n",
       " 103,\n",
       " 91,\n",
       " 90,\n",
       " 78,\n",
       " 79,\n",
       " 67,\n",
       " 55,\n",
       " 54,\n",
       " 66,\n",
       " 65,\n",
       " 64,\n",
       " 63,\n",
       " 75,\n",
       " 74,\n",
       " 62,\n",
       " 50,\n",
       " 51,\n",
       " 39,\n",
       " 38,\n",
       " 37,\n",
       " 49,\n",
       " 61,\n",
       " 73,\n",
       " 85,\n",
       " 97,\n",
       " 109,\n",
       " 110,\n",
       " 122,\n",
       " 123,\n",
       " 111,\n",
       " 112,\n",
       " 100,\n",
       " 99,\n",
       " 87,\n",
       " 88,\n",
       " 76,\n",
       " 77,\n",
       " 89,\n",
       " 101,\n",
       " 102,\n",
       " 114,\n",
       " 113,\n",
       " 125,\n",
       " 124,\n",
       " 136,\n",
       " 137,\n",
       " 138,\n",
       " 126,\n",
       " 127,\n",
       " 115,\n",
       " 116,\n",
       " 117,\n",
       " 129,\n",
       " 141,\n",
       " 142,\n",
       " 130,\n",
       " 131,\n",
       " 132,\n",
       " 144,\n",
       " 2,\n",
       " 7,\n",
       " 8,\n",
       " 16,\n",
       " 25,\n",
       " 28,\n",
       " 35,\n",
       " 36,\n",
       " 40,\n",
       " 41,\n",
       " 42,\n",
       " 43,\n",
       " 52,\n",
       " 53,\n",
       " 86,\n",
       " 93,\n",
       " 96,\n",
       " 98,\n",
       " 105,\n",
       " 106,\n",
       " 107,\n",
       " 108,\n",
       " 118,\n",
       " 119,\n",
       " 120,\n",
       " 121,\n",
       " 128,\n",
       " 133,\n",
       " 134,\n",
       " 135,\n",
       " 139,\n",
       " 140,\n",
       " 143]"
      ]
     },
     "execution_count": 155,
     "metadata": {},
     "output_type": "execute_result"
    }
   ],
   "source": [
    "total_list"
   ]
  },
  {
   "cell_type": "code",
   "execution_count": 65,
   "metadata": {},
   "outputs": [],
   "source": [
    "isi_before_shuffle = isi\n",
    "shuffle_isi = np.random.shuffle(isi_before_shuffle) # shuffle interspike interval\n",
    "shuffle_isi"
   ]
  },
  {
   "cell_type": "code",
   "execution_count": 88,
   "metadata": {},
   "outputs": [
    {
     "ename": "ValueError",
     "evalue": "1 is not in list",
     "output_type": "error",
     "traceback": [
      "\u001b[1;31m---------------------------------------------------------------------------\u001b[0m",
      "\u001b[1;31mValueError\u001b[0m                                Traceback (most recent call last)",
      "\u001b[1;32m<ipython-input-88-2c08d43909c8>\u001b[0m in \u001b[0;36m<module>\u001b[1;34m\u001b[0m\n\u001b[0;32m      1\u001b[0m \u001b[0mtes\u001b[0m \u001b[1;33m=\u001b[0m \u001b[1;33m[\u001b[0m\u001b[1;36m1\u001b[0m\u001b[1;33m,\u001b[0m\u001b[1;36m2\u001b[0m\u001b[1;33m,\u001b[0m\u001b[1;36m3\u001b[0m\u001b[1;33m]\u001b[0m\u001b[1;33m\u001b[0m\u001b[1;33m\u001b[0m\u001b[0m\n\u001b[1;32m----> 2\u001b[1;33m \u001b[0mtes\u001b[0m\u001b[1;33m.\u001b[0m\u001b[0mindex\u001b[0m\u001b[1;33m(\u001b[0m\u001b[1;36m1\u001b[0m\u001b[1;33m,\u001b[0m\u001b[1;36m2\u001b[0m\u001b[1;33m)\u001b[0m\u001b[1;33m\u001b[0m\u001b[1;33m\u001b[0m\u001b[0m\n\u001b[0m",
      "\u001b[1;31mValueError\u001b[0m: 1 is not in list"
     ]
    }
   ],
   "source": [
    "tes = [1,2,3]\n",
    "tes.index(1,2)"
   ]
  },
  {
   "cell_type": "code",
   "execution_count": 72,
   "metadata": {},
   "outputs": [
    {
     "data": {
      "text/plain": [
       "array([None], dtype=object)"
      ]
     },
     "execution_count": 72,
     "metadata": {},
     "output_type": "execute_result"
    }
   ],
   "source": [
    "shuffle_spike_ind = np.cumsum(shuffle_isi)\n",
    "shuffle_spike_ind"
   ]
  },
  {
   "cell_type": "code",
   "execution_count": 76,
   "metadata": {},
   "outputs": [
    {
     "data": {
      "text/plain": [
       "array([None], dtype=object)"
      ]
     },
     "execution_count": 76,
     "metadata": {},
     "output_type": "execute_result"
    }
   ],
   "source": [
    "tmp = isi\n",
    "shuffle_isi = np.random.shuffle(tmp) # shuffle interspike interval\n",
    "shuffle_spike_ind = np.cumsum(shuffle_isi) # shuffled spike index\n",
    "shuffle_spike_ind"
   ]
  },
  {
   "cell_type": "code",
   "execution_count": 162,
   "metadata": {},
   "outputs": [
    {
     "data": {
      "text/plain": [
       "(85, 7188)"
      ]
     },
     "execution_count": 162,
     "metadata": {},
     "output_type": "execute_result"
    }
   ],
   "source": [
    "DeconvSignal_behav.shape"
   ]
  },
  {
   "cell_type": "code",
   "execution_count": 78,
   "metadata": {},
   "outputs": [
    {
     "data": {
      "text/plain": [
       "array([   5,   20,   32,   33,   34,   36,   86,   88,   89,  115,  116,\n",
       "        120,  138,  139,  142,  145,  147,  209,  210,  213,  225,  271,\n",
       "        279,  281,  287,  289,  293,  299,  300,  303,  306,  358,  374,\n",
       "        378,  379,  380,  383,  385,  395,  409,  414,  415,  455,  708,\n",
       "        718,  719,  923,  977, 1039, 1180, 1181, 1194, 1197, 1198, 1199,\n",
       "       1200, 1201, 1203, 1204, 1290, 1291, 1299, 1375, 1376, 1378, 1419,\n",
       "       1422, 1511, 1556, 1699, 1700, 1731, 1732, 1737, 1886, 1887, 1905,\n",
       "       1907, 1911, 2309, 2351, 2599, 2612, 2655, 2663, 2665, 2697, 2698,\n",
       "       2728, 2783, 2808, 2847, 3013, 3016, 3034, 3038, 3048, 3051, 3055,\n",
       "       3072, 3078, 3080, 3081, 3084, 3103, 3104, 3105, 3137, 3208, 3242,\n",
       "       3250, 3251, 3338, 3339, 3360, 3361, 3363, 3589, 3590, 4055, 4059,\n",
       "       4062, 4067, 4068, 4114, 4172, 4174, 4175, 4177, 4178, 4193, 4194,\n",
       "       4196, 4208, 4222, 4225, 4232, 4234, 4235, 4236, 4274, 4298, 4302,\n",
       "       4330, 4333, 4334, 4335, 4338, 4340, 4341, 4346, 4350, 4351, 4352,\n",
       "       4357, 4367, 4407, 4417, 4435, 4439, 4444, 4503, 4504, 4506, 4521,\n",
       "       4524, 4528, 4529, 4588, 4591, 4640, 4647, 4675, 4994, 5000, 5004,\n",
       "       5008, 5009, 5011, 5017, 5059, 5084, 5144, 5157, 5184, 5204, 5208,\n",
       "       5209, 5389, 5393, 5397, 5427, 5429, 5435, 5507, 5509, 5522, 5530,\n",
       "       5531, 5540, 5575, 5579, 5592, 5593, 5714, 5716, 5778, 5786, 5788,\n",
       "       5789, 5790, 5795, 5796, 5810, 5829, 5830, 5987, 5994, 5999, 6012,\n",
       "       6014, 6022, 6032, 6036, 6045, 6072, 6076, 6078, 6079, 6080, 6081,\n",
       "       6167, 6216, 6218, 6228, 6230, 6231, 6241, 6254, 6258, 6269, 6295,\n",
       "       6315, 6324, 6325, 6327, 6331, 6332, 6337, 6338, 6339, 6340, 6394,\n",
       "       6400, 6401, 6403, 6420, 6421, 6422, 6431, 6432, 6473, 6523, 6525,\n",
       "       6526, 6528, 6529, 6532, 6546, 6547, 6581, 6648, 6654, 6656, 6709,\n",
       "       6710, 6754, 6761, 6764, 6770, 6784, 6785, 6981, 6984, 7108, 7144,\n",
       "       7145, 7147], dtype=int64)"
      ]
     },
     "execution_count": 78,
     "metadata": {},
     "output_type": "execute_result"
    }
   ],
   "source": [
    "arr =isi \n",
    "np.random.shuffle(arr)\n",
    "np.cumsum(arr)"
   ]
  },
  {
   "cell_type": "code",
   "execution_count": 244,
   "metadata": {},
   "outputs": [
    {
     "data": {
      "text/plain": [
       "[0,\n",
       " 0,\n",
       " 1,\n",
       " 2,\n",
       " 2,\n",
       " 3,\n",
       " 3,\n",
       " 4,\n",
       " 5,\n",
       " 6,\n",
       " 7,\n",
       " 8,\n",
       " 8,\n",
       " 9,\n",
       " 9,\n",
       " 10,\n",
       " 11,\n",
       " 11,\n",
       " 12,\n",
       " 12,\n",
       " 13,\n",
       " 14,\n",
       " 14,\n",
       " 15,\n",
       " 16,\n",
       " 16,\n",
       " 16,\n",
       " 15,\n",
       " 13,\n",
       " 10,\n",
       " 7,\n",
       " 6,\n",
       " 5,\n",
       " 4,\n",
       " 1]"
      ]
     },
     "execution_count": 244,
     "metadata": {},
     "output_type": "execute_result"
    }
   ],
   "source": [
    "test_maze.run_levels"
   ]
  },
  {
   "cell_type": "code",
   "execution_count": 80,
   "metadata": {},
   "outputs": [
    {
     "data": {
      "text/plain": [
       "array([  5,  15,  12,   1,   1,   2,  50,   2,   1,  26,   1,   4,  18,\n",
       "         1,   3,   3,   2,  62,   1,   3,  12,  46,   8,   2,   6,   2,\n",
       "         4,   6,   1,   3,   3,  52,  16,   4,   1,   1,   3,   2,  10,\n",
       "        14,   5,   1,  40, 253,  10,   1, 204,  54,  62, 141,   1,  13,\n",
       "         3,   1,   1,   1,   1,   2,   1,  86,   1,   8,  76,   1,   2,\n",
       "        41,   3,  89,  45, 143,   1,  31,   1,   5, 149,   1,  18,   2,\n",
       "         4, 398,  42, 248,  13,  43,   8,   2,  32,   1,  30,  55,  25,\n",
       "        39, 166,   3,  18,   4,  10,   3,   4,  17,   6,   2,   1,   3,\n",
       "        19,   1,   1,  32,  71,  34,   8,   1,  87,   1,  21,   1,   2,\n",
       "       226,   1, 465,   4,   3,   5,   1,  46,  58,   2,   1,   2,   1,\n",
       "        15,   1,   2,  12,  14,   3,   7,   2,   1,   1,  38,  24,   4,\n",
       "        28,   3,   1,   1,   3,   2,   1,   5,   4,   1,   1,   5,  10,\n",
       "        40,  10,  18,   4,   5,  59,   1,   2,  15,   3,   4,   1,  59,\n",
       "         3,  49,   7,  28, 319,   6,   4,   4,   1,   2,   6,  42,  25,\n",
       "        60,  13,  27,  20,   4,   1, 180,   4,   4,  30,   2,   6,  72,\n",
       "         2,  13,   8,   1,   9,  35,   4,  13,   1, 121,   2,  62,   8,\n",
       "         2,   1,   1,   5,   1,  14,  19,   1, 157,   7,   5,  13,   2,\n",
       "         8,  10,   4,   9,  27,   4,   2,   1,   1,   1,  86,  49,   2,\n",
       "        10,   2,   1,  10,  13,   4,  11,  26,  20,   9,   1,   2,   4,\n",
       "         1,   5,   1,   1,   1,  54,   6,   1,   2,  17,   1,   1,   9,\n",
       "         1,  41,  50,   2,   1,   2,   1,   3,  14,   1,  34,  67,   6,\n",
       "         2,  53,   1,  44,   7,   3,   6,  14,   1, 196,   3, 124,  36,\n",
       "         1,   2], dtype=int64)"
      ]
     },
     "execution_count": 80,
     "metadata": {},
     "output_type": "execute_result"
    }
   ],
   "source": [
    "arr"
   ]
  },
  {
   "cell_type": "code",
   "execution_count": 237,
   "metadata": {},
   "outputs": [],
   "source": [
    "occu_time, xbin_edges, bin_numbers = scipy.stats.binned_statistic(\n",
    "        spike_nodes,\n",
    "        stay_time,\n",
    "        bins=_nbins,\n",
    "        statistic=\"sum\",\n",
    "        range=_coords_range)\n"
   ]
  },
  {
   "cell_type": "code",
   "execution_count": 261,
   "metadata": {},
   "outputs": [
    {
     "data": {
      "text/plain": [
       "array([  2,  62,  38,  38,  26,  53,  49, 124, 125,  88, 103,  24,  81,\n",
       "        65,   8, 121,  44,   1,  29, 112, 100,  98,  25,   7, 124],\n",
       "      dtype=int64)"
      ]
     },
     "execution_count": 261,
     "metadata": {},
     "output_type": "execute_result"
    }
   ],
   "source": [
    "np.nanargmax(rate_map_pc,axis=1)"
   ]
  },
  {
   "cell_type": "code",
   "execution_count": 4,
   "metadata": {},
   "outputs": [
    {
     "data": {
      "text/plain": [
       "(85, 7188)"
      ]
     },
     "execution_count": 4,
     "metadata": {},
     "output_type": "execute_result"
    }
   ],
   "source": [
    "DeconvSignal_behav.shape"
   ]
  },
  {
   "cell_type": "code",
   "execution_count": 10,
   "metadata": {},
   "outputs": [
    {
     "data": {
      "text/plain": [
       "(85,)"
      ]
     },
     "execution_count": 10,
     "metadata": {},
     "output_type": "execute_result"
    }
   ],
   "source": [
    "np.std(DeconvSignal_behav, axis = 1).shape"
   ]
  },
  {
   "cell_type": "code",
   "execution_count": 12,
   "metadata": {},
   "outputs": [
    {
     "ename": "ValueError",
     "evalue": "operands could not be broadcast together with shapes (85,7188) (85,) ",
     "output_type": "error",
     "traceback": [
      "\u001b[1;31m---------------------------------------------------------------------------\u001b[0m",
      "\u001b[1;31mValueError\u001b[0m                                Traceback (most recent call last)",
      "\u001b[1;32m<ipython-input-12-a986737a39a4>\u001b[0m in \u001b[0;36m<module>\u001b[1;34m\u001b[0m\n\u001b[0;32m      1\u001b[0m \u001b[0mdeconv_sd\u001b[0m \u001b[1;33m=\u001b[0m \u001b[0mnp\u001b[0m\u001b[1;33m.\u001b[0m\u001b[0mstd\u001b[0m\u001b[1;33m(\u001b[0m\u001b[0mDeconvSignal_behav\u001b[0m\u001b[1;33m,\u001b[0m \u001b[0maxis\u001b[0m \u001b[1;33m=\u001b[0m \u001b[1;36m1\u001b[0m\u001b[1;33m)\u001b[0m\u001b[1;33m\u001b[0m\u001b[1;33m\u001b[0m\u001b[0m\n\u001b[1;32m----> 2\u001b[1;33m \u001b[0mtmp\u001b[0m \u001b[1;33m=\u001b[0m \u001b[0mnp\u001b[0m\u001b[1;33m.\u001b[0m\u001b[0mwhere\u001b[0m\u001b[1;33m(\u001b[0m\u001b[0mDeconvSignal_behav\u001b[0m\u001b[1;33m>\u001b[0m\u001b[0mdeconv_sd\u001b[0m\u001b[1;33m,\u001b[0m \u001b[1;36m1\u001b[0m\u001b[1;33m,\u001b[0m \u001b[1;36m0\u001b[0m\u001b[1;33m)\u001b[0m\u001b[1;33m\u001b[0m\u001b[1;33m\u001b[0m\u001b[0m\n\u001b[0m",
      "\u001b[1;31mValueError\u001b[0m: operands could not be broadcast together with shapes (85,7188) (85,) "
     ]
    }
   ],
   "source": [
    "deconv_sd = np.std(DeconvSignal_behav, axis = 1)\n",
    "tmp = np.where(DeconvSignal_behav>deconv_sd, 1, 0)\n"
   ]
  },
  {
   "cell_type": "code",
   "execution_count": 27,
   "metadata": {},
   "outputs": [
    {
     "data": {
      "text/plain": [
       "array([[1],\n",
       "       [1],\n",
       "       [1],\n",
       "       [2],\n",
       "       [2],\n",
       "       [2],\n",
       "       [3],\n",
       "       [3],\n",
       "       [3]])"
      ]
     },
     "execution_count": 27,
     "metadata": {},
     "output_type": "execute_result"
    }
   ],
   "source": [
    "x = np.array([1,2,3])\n",
    "\n",
    "np.repeat(x[:,np.newaxis], 3, 1)\n"
   ]
  },
  {
   "cell_type": "code",
   "execution_count": 20,
   "metadata": {},
   "outputs": [
    {
     "data": {
      "text/plain": [
       "array([[1, 2, 3],\n",
       "       [1, 2, 3],\n",
       "       [1, 2, 3]])"
      ]
     },
     "execution_count": 20,
     "metadata": {},
     "output_type": "execute_result"
    }
   ],
   "source": [
    "np.repeat(x[np.newaxis,:], 3, 0)\n"
   ]
  },
  {
   "cell_type": "code",
   "execution_count": 21,
   "metadata": {},
   "outputs": [],
   "source": [
    "?np.repeat"
   ]
  },
  {
   "cell_type": "code",
   "execution_count": 22,
   "metadata": {},
   "outputs": [
    {
     "data": {
      "text/plain": [
       "(3, 1)"
      ]
     },
     "execution_count": 22,
     "metadata": {},
     "output_type": "execute_result"
    }
   ],
   "source": [
    "x[:,np.newaxis].shape"
   ]
  },
  {
   "cell_type": "code",
   "execution_count": 23,
   "metadata": {},
   "outputs": [
    {
     "data": {
      "text/plain": [
       "(3,)"
      ]
     },
     "execution_count": 23,
     "metadata": {},
     "output_type": "execute_result"
    }
   ],
   "source": [
    "x.shape"
   ]
  },
  {
   "cell_type": "code",
   "execution_count": 30,
   "metadata": {},
   "outputs": [
    {
     "data": {
      "text/plain": [
       "array([[0.02039383, 0.02039383, 0.02039383, ..., 0.02039383, 0.02039383,\n",
       "        0.02039383],\n",
       "       [0.01646271, 0.01646271, 0.01646271, ..., 0.01646271, 0.01646271,\n",
       "        0.01646271],\n",
       "       [0.0312843 , 0.0312843 , 0.0312843 , ..., 0.0312843 , 0.0312843 ,\n",
       "        0.0312843 ],\n",
       "       ...,\n",
       "       [0.00335755, 0.00335755, 0.00335755, ..., 0.00335755, 0.00335755,\n",
       "        0.00335755],\n",
       "       [0.00980338, 0.00980338, 0.00980338, ..., 0.00980338, 0.00980338,\n",
       "        0.00980338],\n",
       "       [0.00695207, 0.00695207, 0.00695207, ..., 0.00695207, 0.00695207,\n",
       "        0.00695207]])"
      ]
     },
     "execution_count": 30,
     "metadata": {},
     "output_type": "execute_result"
    }
   ],
   "source": [
    "np.repeat(deconv_sd[:,np.newaxis], Spikes.shape[1],1)"
   ]
  },
  {
   "cell_type": "code",
   "execution_count": 29,
   "metadata": {},
   "outputs": [
    {
     "data": {
      "text/plain": [
       "7188"
      ]
     },
     "execution_count": 29,
     "metadata": {},
     "output_type": "execute_result"
    }
   ],
   "source": [
    "Spikes.shape[1]"
   ]
  },
  {
   "cell_type": "code",
   "execution_count": 116,
   "metadata": {},
   "outputs": [
    {
     "data": {
      "text/plain": [
       "array([  3,  63,  39,  39,  27,  54,  50, 125, 126,  89, 104,  25,  82,\n",
       "        66,   9, 122,  45,   2,  30, 113, 101,  99,  26,   8, 125],\n",
       "      dtype=int64)"
      ]
     },
     "execution_count": 116,
     "metadata": {},
     "output_type": "execute_result"
    }
   ],
   "source": [
    "preferred_nodes"
   ]
  },
  {
   "cell_type": "code",
   "execution_count": 263,
   "metadata": {},
   "outputs": [
    {
     "data": {
      "text/plain": [
       "array([16, 24, 16, 16,  1, 16, 29,  4, 13, 34, 15, 23, 16, 34,  3, 16, 12,\n",
       "       32, 30,  6, 29, 16,  7,  1,  4,  7, 16, 16, 16,  0,  1,  0,  0, 13,\n",
       "       34], dtype=int64)"
      ]
     },
     "execution_count": 263,
     "metadata": {},
     "output_type": "execute_result"
    }
   ],
   "source": [
    "np.nanargmax(rate_map_rc,axis=1)"
   ]
  },
  {
   "cell_type": "code",
   "execution_count": 268,
   "metadata": {},
   "outputs": [
    {
     "data": {
      "text/plain": [
       "array([[ 0.48651654,  0.        ,  0.        , ...,  0.        ,\n",
       "         0.        ,  0.        ],\n",
       "       [ 0.06950236,  0.16001707,  0.        , ...,  0.        ,\n",
       "         1.33244504,  0.        ],\n",
       "       [ 0.        ,  0.05333902,  0.20684662, ...,  0.        ,\n",
       "         0.        ,  4.63535229],\n",
       "       ...,\n",
       "       [ 3.75312761,  2.45359505,  1.55134967, ...,  0.        ,\n",
       "         0.        ,  1.54511743],\n",
       "       [ 1.04253545,  1.38681459,  0.51711656, ...,  1.87734668,\n",
       "         0.66622252,  0.92707046],\n",
       "       [ 0.62552127,  0.        ,  8.48071155, ...,  0.        ,\n",
       "         0.        , 11.43386897]])"
      ]
     },
     "execution_count": 268,
     "metadata": {},
     "output_type": "execute_result"
    }
   ],
   "source": [
    "rate_map_rc"
   ]
  },
  {
   "cell_type": "code",
   "execution_count": 262,
   "metadata": {},
   "outputs": [
    {
     "data": {
      "text/plain": [
       "array([[ 0.48651654,  0.        ,  0.        , ...,  0.        ,\n",
       "         0.        ,  0.        ],\n",
       "       [ 0.06950236,  0.16001707,  0.        , ...,  0.        ,\n",
       "         1.33244504,  0.        ],\n",
       "       [ 0.        ,  0.05333902,  0.20684662, ...,  0.        ,\n",
       "         0.        ,  4.63535229],\n",
       "       ...,\n",
       "       [ 3.75312761,  2.45359505,  1.55134967, ...,  0.        ,\n",
       "         0.        ,  1.54511743],\n",
       "       [ 1.04253545,  1.38681459,  0.51711656, ...,  1.87734668,\n",
       "         0.66622252,  0.92707046],\n",
       "       [ 0.62552127,  0.        ,  8.48071155, ...,  0.        ,\n",
       "         0.        , 11.43386897]])"
      ]
     },
     "execution_count": 262,
     "metadata": {},
     "output_type": "execute_result"
    }
   ],
   "source": [
    "rate_map_rc"
   ]
  },
  {
   "cell_type": "code",
   "execution_count": 36,
   "metadata": {},
   "outputs": [
    {
     "data": {
      "text/plain": [
       "array([1.49498733, 2.68210212, 1.21811104, 1.27613649, 1.51165436,\n",
       "       0.95051293, 3.32332848, 1.42778632, 0.88717287, 1.36169775,\n",
       "       0.64141668, 0.92343219, 0.71061013, 1.63099632, 0.62419204,\n",
       "       0.80457631, 1.26611799, 2.46820331, 1.61374397, 0.80857087,\n",
       "       0.37737995, 0.89251782, 0.51984037, 0.54127781, 0.38517056,\n",
       "       0.49234618, 0.41793509, 0.51396556, 0.7304565 , 0.45752368,\n",
       "       0.72471165, 0.68850056, 0.51787696, 0.42084189, 0.41336001,\n",
       "       0.29285347, 0.74033092, 0.53754752, 0.41876977, 0.41784021,\n",
       "       0.6797544 , 0.61273766, 0.48301148, 0.59727022, 0.52604189,\n",
       "       0.27478439, 0.42116694, 0.29617716, 0.58270066, 0.18197712,\n",
       "       0.375214  , 0.20759095, 0.56075143, 0.37961457, 0.45162183,\n",
       "       0.33521714, 0.31601146, 0.35404595, 0.18773484, 1.43080486,\n",
       "       0.19953204, 0.37677123, 0.20991828, 0.31443514, 0.69971348,\n",
       "       0.39118486, 0.29961375, 0.28904078, 0.23196357, 0.31444214,\n",
       "       0.25445247, 0.3023009 , 0.16158974, 0.28847575, 0.44621243,\n",
       "       0.26062107, 1.23380594, 1.35966973, 0.95203879, 0.96933293,\n",
       "       0.23375089, 2.01709951, 0.9014517 , 0.88198079, 1.16491273])"
      ]
     },
     "execution_count": 36,
     "metadata": {},
     "output_type": "execute_result"
    }
   ],
   "source": [
    "SI_run_all"
   ]
  },
  {
   "cell_type": "code",
   "execution_count": 5,
   "metadata": {},
   "outputs": [
    {
     "ename": "NameError",
     "evalue": "name 'n_neuron' is not defined",
     "output_type": "error",
     "traceback": [
      "\u001b[1;31m---------------------------------------------------------------------------\u001b[0m",
      "\u001b[1;31mNameError\u001b[0m                                 Traceback (most recent call last)",
      "\u001b[1;32m<ipython-input-5-4af6d955a8c9>\u001b[0m in \u001b[0;36m<module>\u001b[1;34m\u001b[0m\n\u001b[1;32m----> 1\u001b[1;33m \u001b[0mn_neuron\u001b[0m\u001b[1;33m\u001b[0m\u001b[1;33m\u001b[0m\u001b[0m\n\u001b[0m",
      "\u001b[1;31mNameError\u001b[0m: name 'n_neuron' is not defined"
     ]
    }
   ],
   "source": [
    "n_neuron"
   ]
  },
  {
   "cell_type": "code",
   "execution_count": 37,
   "metadata": {},
   "outputs": [
    {
     "data": {
      "text/plain": [
       "array([14388., 18748.,  4971.,  3336.,  4569.,  8410.,  4253.,  2134.,\n",
       "         233.,  1001.,   501.,   466.,  9669.,  6664.,  2935.,  1001.,\n",
       "        1064.,  2037.,   167.,  2201.,   967.,   667.,   668.,  1337.,\n",
       "        3236.,  2203.,  4301.,  1701.,   534.,   267.,   933.,   567.,\n",
       "         567.,   500.,   533.,  1065.,   867.,   567.,   833.,    nan,\n",
       "          nan,  1501.,   934.,   673.,   267.,   633.,   567.,   735.,\n",
       "         567.,   534.,  4269.,  2101.,  1268.,   486.,   768.,   600.,\n",
       "         343.,   967.,   734.,  1367.,  5200.,   467.,   500.,   300.,\n",
       "         434.,   433.,   335.,   567.,   334.,   333.,   601.,   133.,\n",
       "         401.,   301.,   400.,    51.,  1468.,   467.,   399.,   501.,\n",
       "         465.,   368.,   500.,   601.,   299.,    nan,   534.,   567.,\n",
       "         533.,   167.,   401.,   333.,    nan,   968.,    66.,    nan,\n",
       "         334.,    nan,   100.,   767.,   501.,   233.,   633.,   134.,\n",
       "          nan,   199.,  1468.,  1200.,   802.,  1199.,    nan,  1100.,\n",
       "         434.,   544.,   700.,   901.,   532.,  1495.,   701.,  2568.,\n",
       "        1100.,   500.,   901.,   601.,   199.,   434.,  1401.,  1000.,\n",
       "        1167.,  3241.,  4505.,  1901.,  1600.,  1570.,  2667.,  1582.,\n",
       "         500.,  1534.,  2335.,  1425.,  2434.,  2939.,  1998., 36078.])"
      ]
     },
     "execution_count": 37,
     "metadata": {},
     "output_type": "execute_result"
    }
   ],
   "source": [
    "occu_time"
   ]
  },
  {
   "cell_type": "code",
   "execution_count": 39,
   "metadata": {},
   "outputs": [
    {
     "data": {
      "text/plain": [
       "35"
      ]
     },
     "execution_count": 39,
     "metadata": {},
     "output_type": "execute_result"
    }
   ],
   "source": [
    "max(spike_runs)"
   ]
  },
  {
   "cell_type": "code",
   "execution_count": 42,
   "metadata": {},
   "outputs": [
    {
     "ename": "NameError",
     "evalue": "name 'run_i' is not defined",
     "output_type": "error",
     "traceback": [
      "\u001b[1;31m---------------------------------------------------------------------------\u001b[0m",
      "\u001b[1;31mNameError\u001b[0m                                 Traceback (most recent call last)",
      "\u001b[1;32m<ipython-input-42-1e10ca53739b>\u001b[0m in \u001b[0;36m<module>\u001b[1;34m\u001b[0m\n\u001b[0;32m      2\u001b[0m \u001b[1;32mfor\u001b[0m \u001b[0mi\u001b[0m \u001b[1;32min\u001b[0m \u001b[0mrange\u001b[0m\u001b[1;33m(\u001b[0m\u001b[0mlen\u001b[0m\u001b[1;33m(\u001b[0m\u001b[0mspike_nodes\u001b[0m\u001b[1;33m)\u001b[0m\u001b[1;33m)\u001b[0m\u001b[1;33m:\u001b[0m\u001b[1;33m\u001b[0m\u001b[1;33m\u001b[0m\u001b[0m\n\u001b[0;32m      3\u001b[0m     \u001b[0mspike_runs\u001b[0m\u001b[1;33m[\u001b[0m\u001b[0mi\u001b[0m\u001b[1;33m]\u001b[0m \u001b[1;33m=\u001b[0m \u001b[1;33m[\u001b[0m\u001b[0mrun_i\u001b[0m \u001b[1;32mfor\u001b[0m \u001b[0mrun_i\u001b[0m\u001b[1;33m,\u001b[0m \u001b[0mrun\u001b[0m \u001b[1;32min\u001b[0m \u001b[0menumerate\u001b[0m\u001b[1;33m(\u001b[0m\u001b[0mtest_maze\u001b[0m\u001b[1;33m.\u001b[0m\u001b[0mruns\u001b[0m\u001b[1;33m)\u001b[0m \u001b[1;32mif\u001b[0m \u001b[0mspike_nodes\u001b[0m\u001b[1;33m[\u001b[0m\u001b[0mi\u001b[0m\u001b[1;33m]\u001b[0m \u001b[1;32min\u001b[0m \u001b[0mrun\u001b[0m\u001b[1;33m]\u001b[0m\u001b[1;33m[\u001b[0m\u001b[1;36m0\u001b[0m\u001b[1;33m]\u001b[0m \u001b[1;33m+\u001b[0m\u001b[1;36m1\u001b[0m\u001b[1;33m\u001b[0m\u001b[1;33m\u001b[0m\u001b[0m\n\u001b[1;32m----> 4\u001b[1;33m     \u001b[0mprint\u001b[0m\u001b[1;33m(\u001b[0m\u001b[0mrun_i\u001b[0m\u001b[1;33m)\u001b[0m\u001b[1;33m\u001b[0m\u001b[1;33m\u001b[0m\u001b[0m\n\u001b[0m",
      "\u001b[1;31mNameError\u001b[0m: name 'run_i' is not defined"
     ]
    }
   ],
   "source": [
    "spike_runs = np.zeros_like(spike_nodes)\n",
    "for i in range(len(spike_nodes)):\n",
    "    spike_runs[i] = [run_i for run_i, run in enumerate(test_maze.runs) if spike_nodes[i] in run][0] +1\n"
   ]
  },
  {
   "cell_type": "code",
   "execution_count": 47,
   "metadata": {},
   "outputs": [
    {
     "data": {
      "text/plain": [
       "0"
      ]
     },
     "execution_count": 47,
     "metadata": {},
     "output_type": "execute_result"
    }
   ],
   "source": [
    "test_maze.runs.index(test_maze.runs[0])"
   ]
  },
  {
   "cell_type": "code",
   "execution_count": 48,
   "metadata": {},
   "outputs": [],
   "source": [
    "def node_to_run(node, runs):\n",
    "    # transform node number (start from 1) to run number (start from 1)\n",
    "    # for example node 1, to run 1\n",
    "    run_ind = 0\n",
    "    for run_i in runs:\n",
    "        if node in run_i:\n",
    "            run_ind = runs.index(run_i) +1\n",
    "            return run_ind\n",
    "    return run_ind\n",
    "        "
   ]
  },
  {
   "cell_type": "code",
   "execution_count": 51,
   "metadata": {},
   "outputs": [],
   "source": [
    "# run selective %\n",
    "## spike node to runs\n",
    "def node_to_run(node, runs):\n",
    "    # transform node number (start from 1) to run number (start from 1)\n",
    "    # for example node 1, to run 1\n",
    "    run_ind = 0\n",
    "    for run_i in runs:\n",
    "        if node in run_i:\n",
    "            run_ind = runs.index(run_i)+1\n",
    "            return run_ind\n",
    "    return run_ind\n",
    "        \n",
    "spike_runs = np.zeros_like(spike_nodes)\n",
    "for i in range(len(spike_nodes)):\n",
    "    spike_runs[i] = node_to_run(spike_nodes[i], test_maze.runs)\n",
    "\n"
   ]
  },
  {
   "cell_type": "code",
   "execution_count": 65,
   "metadata": {},
   "outputs": [
    {
     "data": {
      "text/plain": [
       "25"
      ]
     },
     "execution_count": 65,
     "metadata": {},
     "output_type": "execute_result"
    }
   ],
   "source": [
    "spike_nodes[850]"
   ]
  },
  {
   "cell_type": "code",
   "execution_count": 63,
   "metadata": {},
   "outputs": [
    {
     "data": {
      "text/plain": [
       "3"
      ]
     },
     "execution_count": 63,
     "metadata": {},
     "output_type": "execute_result"
    }
   ],
   "source": [
    "node_to_run(spike_nodes[851], test_maze.runs)"
   ]
  },
  {
   "cell_type": "code",
   "execution_count": 67,
   "metadata": {},
   "outputs": [
    {
     "data": {
      "text/plain": [
       "35"
      ]
     },
     "execution_count": 67,
     "metadata": {},
     "output_type": "execute_result"
    }
   ],
   "source": [
    "len(test_maze.runs)"
   ]
  },
  {
   "cell_type": "code",
   "execution_count": 68,
   "metadata": {
    "scrolled": true
   },
   "outputs": [
    {
     "data": {
      "text/plain": [
       "[[1],\n",
       " [2],\n",
       " [13],\n",
       " [14, 26, 27, 15, 3, 4, 5, 6],\n",
       " [7, 8],\n",
       " [18, 17],\n",
       " [16, 28],\n",
       " [29, 30],\n",
       " [31, 19, 20, 21, 9, 10, 11, 12, 24],\n",
       " [23,\n",
       "  22,\n",
       "  34,\n",
       "  33,\n",
       "  32,\n",
       "  44,\n",
       "  45,\n",
       "  46,\n",
       "  47,\n",
       "  48,\n",
       "  60,\n",
       "  59,\n",
       "  58,\n",
       "  57,\n",
       "  56,\n",
       "  68,\n",
       "  69,\n",
       "  70,\n",
       "  71,\n",
       "  72,\n",
       "  84],\n",
       " [83, 95, 94],\n",
       " [82, 81, 80, 92, 104, 103, 91, 90, 78, 79, 67, 55],\n",
       " [43],\n",
       " [54],\n",
       " [53],\n",
       " [66, 65, 64, 63, 75, 74, 62, 50, 51],\n",
       " [39],\n",
       " [40],\n",
       " [38, 37, 49, 61, 73, 85, 97],\n",
       " [98, 86],\n",
       " [109],\n",
       " [110,\n",
       "  122,\n",
       "  123,\n",
       "  111,\n",
       "  112,\n",
       "  100,\n",
       "  99,\n",
       "  87,\n",
       "  88,\n",
       "  76,\n",
       "  77,\n",
       "  89,\n",
       "  101,\n",
       "  102,\n",
       "  114,\n",
       "  113,\n",
       "  125,\n",
       "  124,\n",
       "  136,\n",
       "  137,\n",
       "  138,\n",
       "  126,\n",
       "  127,\n",
       "  115,\n",
       "  116,\n",
       "  117,\n",
       "  129],\n",
       " [128, 140, 139],\n",
       " [141, 142],\n",
       " [130],\n",
       " [118, 119, 107, 108, 120],\n",
       " [131, 132, 144],\n",
       " [143],\n",
       " [121, 133, 134, 135],\n",
       " [52],\n",
       " [106, 105, 93],\n",
       " [96],\n",
       " [36, 35],\n",
       " [42, 41],\n",
       " [25]]"
      ]
     },
     "execution_count": 68,
     "metadata": {},
     "output_type": "execute_result"
    }
   ],
   "source": [
    "test_maze.runs"
   ]
  },
  {
   "cell_type": "code",
   "execution_count": 69,
   "metadata": {},
   "outputs": [],
   "source": [
    "_nruns = len(test_maze.runs)\n",
    "_coords_range = [0, _nruns +0.0001 ]\n",
    "occu_time_run, _, run_numbers = scipy.stats.binned_statistic(\n",
    "        spike_runs,\n",
    "        stay_time,\n",
    "        bins=_nruns,\n",
    "        statistic=\"sum\",\n",
    "        range=_coords_range)\n",
    "assert((run_numbers == spike_runs).all())\n",
    "minimum_occu_thres = 50 # ms, occupancy time less than the threshold are set to NAN, preventing large spike rate\n",
    "occu_time_run[occu_time_run<minimum_occu_thres] = np.nan\n"
   ]
  },
  {
   "cell_type": "code",
   "execution_count": 70,
   "metadata": {},
   "outputs": [
    {
     "data": {
      "text/plain": [
       "(35,)"
      ]
     },
     "execution_count": 70,
     "metadata": {},
     "output_type": "execute_result"
    }
   ],
   "source": [
    "occu_time_run.shape"
   ]
  },
  {
   "cell_type": "code",
   "execution_count": 72,
   "metadata": {},
   "outputs": [
    {
     "data": {
      "text/plain": [
       "(85, 35)"
      ]
     },
     "execution_count": 72,
     "metadata": {},
     "output_type": "execute_result"
    }
   ],
   "source": [
    "rate_map_run_all.shape"
   ]
  },
  {
   "cell_type": "code",
   "execution_count": 74,
   "metadata": {},
   "outputs": [
    {
     "data": {
      "text/plain": [
       "[<matplotlib.lines.Line2D at 0x2567cc5d0a0>]"
      ]
     },
     "execution_count": 74,
     "metadata": {},
     "output_type": "execute_result"
    },
    {
     "data": {
      "image/png": "[encoded data removed]",
      "text/plain": [
       "<Figure size 432x288 with 3 Axes>"
      ]
     },
     "metadata": {
      "needs_background": "light"
     },
     "output_type": "display_data"
    }
   ],
   "source": [
    "plt.subplot(311)\n",
    "plt.plot(FiltTraces_behav[1,:])\n",
    "plt.subplot(312)\n",
    "plt.plot(FiltTraces_behav[2,:])\n",
    "plt.subplot(313)\n",
    "plt.plot(FiltTraces_behav[3,:])"
   ]
  },
  {
   "cell_type": "code",
   "execution_count": 4,
   "metadata": {},
   "outputs": [
    {
     "data": {
      "text/plain": [
       "[150.295,\n",
       " 90.473,\n",
       " 0.6242316254651781,\n",
       " 0.5079365079365079,\n",
       " array([33088., 12688., 43584.,  5728.,  2207., 10016., 12592.,  1584.,\n",
       "         5825.,  1760.,  9738.,   870.,  8208.,  7552., 23632.,  7440.,\n",
       "        54256.])]"
      ]
     },
     "execution_count": 4,
     "metadata": {},
     "output_type": "execute_result"
    }
   ],
   "source": [
    "test"
   ]
  },
  {
   "cell_type": "code",
   "execution_count": 9,
   "metadata": {},
   "outputs": [
    {
     "data": {
      "text/plain": [
       "<Closed HDF5 group>"
      ]
     },
     "execution_count": 9,
     "metadata": {},
     "output_type": "execute_result"
    }
   ],
   "source": [
    "ms_mat"
   ]
  },
  {
   "cell_type": "code",
   "execution_count": 6,
   "metadata": {},
   "outputs": [
    {
     "data": {
      "text/plain": [
       "(1,)"
      ]
     },
     "execution_count": 6,
     "metadata": {},
     "output_type": "execute_result"
    }
   ],
   "source": [
    "spike_times.shape"
   ]
  },
  {
   "cell_type": "code",
   "execution_count": 7,
   "metadata": {},
   "outputs": [
    {
     "data": {
      "text/plain": [
       "85"
      ]
     },
     "execution_count": 7,
     "metadata": {},
     "output_type": "execute_result"
    }
   ],
   "source": [
    "n_neuron"
   ]
  },
  {
   "cell_type": "code",
   "execution_count": 8,
   "metadata": {},
   "outputs": [],
   "source": [
    "?np.array"
   ]
  },
  {
   "cell_type": "code",
   "execution_count": 12,
   "metadata": {},
   "outputs": [
    {
     "data": {
      "text/plain": [
       "array([array([ 41497.,  41564.,  41597.,  41630.,  41698.,  42998.,  43031.,\n",
       "               43065.,  43098.,  43134.,  43264.,  43298.,  43631.,  43765.,\n",
       "               43965.,  54672.,  54704.,  62442.,  64110.,  64143.,  64610.,\n",
       "               65877.,  66211.,  66244.,  66911.,  66945.,  66978.,  67011.,\n",
       "               67044.,  80752.,  80786.,  87223.,  88591.,  88624.,  90191.,\n",
       "               97028., 117439., 138451., 143421., 160864., 160931., 160964.,\n",
       "              160997., 161031., 161498., 161531., 170036., 231154., 231504.,\n",
       "              247313., 247346., 256484., 256518., 257418.])                 ,\n",
       "       array([34826., 63142., 63342., 63376., 63442., 63542., 63643., 63676.,\n",
       "              63743., 88257., 88323., 88524., 88557.])                       ,\n",
       "       array([  7078.,  25655.,  26388.,  26422.,  28656.,  29257.,  35827.,\n",
       "               41597.,  41630.,  42497.,  42531.,  42564.,  42998.,  43065.,\n",
       "               43098.,  43164.,  43198.,  43365.,  43398.,  56705.,  56739.,\n",
       "               63943.,  66911.,  66945.,  67011.,  67178.,  90191.,  90224.,\n",
       "              105733., 109402., 109635., 109669., 109702., 109735., 109769.,\n",
       "              114938., 115038., 120575., 120608., 120675., 120708., 120808.,\n",
       "              120841., 121108., 132148., 132181., 132248., 132281., 132314.,\n",
       "              132348., 141086., 141154., 143087., 143155., 157396., 157462.,\n",
       "              158463., 165366., 165400., 165433., 174038., 209458., 222532.,\n",
       "              226034., 226067., 230803., 231154., 231570., 231604., 241476.,\n",
       "              241576., 247313., 247346., 256484., 256518.])                 ,\n",
       "       array([ 10346.,  10380.,  10415.,  10446.,  10480.,  10513.,  10546.,\n",
       "               21152.,  21186.,  21219.,  21252.,  21286.,  21319.,  21352.,\n",
       "               55238.,  63809.,  88591.,  88657.,  95629., 147523., 147557.,\n",
       "              166500., 166600., 166667., 166767., 180776., 189780., 190481.,\n",
       "              190548., 192949., 196050., 196117., 226334., 238874., 240309.,\n",
       "              241242.])                                                     ,\n",
       "       array([  7244.,  22786.,  35160.,  35293.,  36994.,  37328.,  39829.,\n",
       "               41063.,  54004.,  55104.,  89930.,  98095.,  98196.,  98262.,\n",
       "              110202., 131748., 131848., 131914., 131948., 131981., 132014.,\n",
       "              132048., 143621., 144188., 144221., 144288., 161564., 166967.,\n",
       "              187313., 209491., 209658., 209725., 209758., 209791., 209825.,\n",
       "              209858., 209925., 209958., 210058., 234605., 234706., 234805.,\n",
       "              234906., 242677., 242710., 242777., 242844., 253049., 254583.,\n",
       "              254683., 254818., 254850., 254883.])                          ,\n",
       "       array([ 11247.,  35227.,  63076.,  63409.,  88290., 118807., 169602.,\n",
       "              189647., 190214., 190281., 190314., 190347., 190381.])        ,\n",
       "       array([ 10713.,  30991.,  31024.,  31058.,  31091.,  31124.,  31158.,\n",
       "               31191.,  52370.,  58940.,  58973.,  59007.,  59040.,  59074.,\n",
       "               59107.,  59140.,  59173.,  59207.,  97362., 133885., 133916.,\n",
       "              140352., 140553., 140586., 140653., 140686., 157262., 187812.,\n",
       "              190180., 196551., 197685., 202691.])                          ,\n",
       "       array([  4309.,   6044.,  34059.,  34093.,  34161.,  38195.,  41597.,\n",
       "               45599.,  46067.,  46167.,  60741.,  69612.,  70180.,  70980.,\n",
       "               74482.,  74616.,  74715.,  74849., 109969., 112937., 119174.,\n",
       "              129447., 131781., 138918., 140252., 140322., 140453., 140489.,\n",
       "              140519., 140553., 140586., 140619., 160830., 174472., 183810.,\n",
       "              193682., 197685., 209392., 213527., 222500., 235139., 246780.,\n",
       "              247079.])                                                     ,\n",
       "       array([  8045.,   8078.,   8111.,   8145.,   8179.,   8211.,   8245.,\n",
       "                8278.,   8311.,   8345.,   8378.,  35060.,  43365.,  45432.,\n",
       "               52136.,  52238.,  62175.,  63509.,  79785.,  88123., 104232.,\n",
       "              116206., 120608., 120975., 124910., 130780., 139118., 169636.,\n",
       "              190047., 190214., 190281., 190381., 190447., 190514., 190548.,\n",
       "              195617., 207223., 208691., 213260., 213293., 238841., 259353.]),\n",
       "       array([  3409.,  26422.,  45699.,  45732.,  52238.,  52303.,  70747.,\n",
       "               70780.,  70813.,  70847.,  70880.,  70913.,  70947.,  70980.,\n",
       "               71014.,  71047.,  71080., 140453., 157262., 157365., 180776.,\n",
       "              197651., 197718., 197785., 206990., 212560., 212693., 219830.,\n",
       "              244778.])                                                     ,\n",
       "       array([  2408.,   2475.,  26755.,  31191.,  33926.,  38128.,  40029.,\n",
       "               40096.,  43465.,  45299.,  45566.,  45599.,  45667.,  45732.,\n",
       "               45766.,  45799.,  62142.,  62275.,  69646.,  71647.,  71781.,\n",
       "               74249.,  74549.,  74649.,  74682.,  75449.,  75849.,  76216.,\n",
       "               77750.,  77884.,  79085.,  80519.,  80585.,  83020.,  94093.,\n",
       "              109802., 109835., 109868., 110002., 116239., 117506., 126278.,\n",
       "              126578., 129279., 129346., 129380., 129447., 129513., 136884.,\n",
       "              139886., 140019., 140086., 140219., 140286., 140389., 140489.,\n",
       "              143187., 156828., 157195., 157229., 157262., 157330., 157333.,\n",
       "              157365., 157396., 170603., 170769., 180709., 181409., 182677.,\n",
       "              194483., 197585., 197651., 197685., 197718., 197751., 197785.,\n",
       "              197818., 202387., 202521., 202658., 204488., 205222., 206857.,\n",
       "              206890., 206990., 221765., 222065., 244878., 244978., 245045.,\n",
       "              248113., 248880., 255284., 255384., 258852.])                 ,\n",
       "       array([  2575.,   2942.,   3109.,   3275.,   3375.,   3409.,   3442.,\n",
       "                6477.,   6511.,   6877.,   6911.,   7378.,   7445.,   8045.,\n",
       "                8179.,  10079.,  10313.,  10415.,  10713.,  10980.,  11216.,\n",
       "               11281.,  11314.,  11447.,  13248.,  13317.,  13481.,  14415.,\n",
       "               14482.,  14615.,  15350.,  15415.,  15449.,  15749.,  18050.,\n",
       "               18084.,  18117.,  18150.,  18184.,  18217.,  18651.,  21019.,\n",
       "               21085.,  21385.,  21419.,  21486.,  21554.,  25388.,  25621.,\n",
       "               25855.,  25888.,  35360.,  35694.,  35727.,  41930.,  42197.,\n",
       "               43431.,  46633.,  46900.,  50168.,  52036.,  54739.,  55038.,\n",
       "               55104.,  55204.,  55305.,  55405.,  64210.,  64610.,  64743.,\n",
       "               66411.,  66545.,  66578.,  69479.,  69980.,  70013.,  86989.,\n",
       "               87089.,  87389.,  88190.,  88790.,  88890.,  91658.,  92126.,\n",
       "               99996., 109268., 125577., 137718., 139819., 155429., 156395.,\n",
       "              157095., 157762., 160497., 163699., 168835., 172737., 174273.,\n",
       "              182976., 184244., 184711., 186379., 187580., 188780., 194349.,\n",
       "              199753., 205289., 212560., 223599., 227968., 228035., 229836.,\n",
       "              235006., 243310., 243510., 245011., 248113., 248914., 255284.,\n",
       "              255484.])                                                     ,\n",
       "       array([  9579.,  15582.,  19451.,  31224.,  39796.,  47467.,  51169.,\n",
       "               51536.,  52269.,  57706.,  58207.,  58340.,  58740.,  68212.,\n",
       "               68245.,  70913.,  71080.,  75449.,  75483.,  75516.,  98896.,\n",
       "              100397., 104199., 104332., 104365., 109101., 111903., 116273.,\n",
       "              117640., 126411., 129313., 129413., 135550., 137885., 137951.,\n",
       "              140119., 140252., 140286., 140453., 140519., 140553., 140586.,\n",
       "              140653., 141019., 141154., 142253., 142320., 144621., 147390.,\n",
       "              154994., 156495., 156661., 157962., 158229., 159696., 178040.,\n",
       "              178141., 178174., 178207., 178241., 178274., 178307., 178608.,\n",
       "              178775., 184744., 184778., 184877., 191344., 191384., 191418.,\n",
       "              191448., 191481., 191514., 191548., 191581., 191614., 191648.,\n",
       "              191681., 196851., 197018., 197051., 197818., 201120., 201220.,\n",
       "              201553., 216362., 220931., 228402., 228669., 232606., 234439.,\n",
       "              234706., 235172., 236612., 238008., 238974., 239475., 240018.,\n",
       "              240020., 241443., 244044., 248113., 249014., 249214., 254316.,\n",
       "              255150., 255951., 259320.])                                   ,\n",
       "       array([  4543.,  33993.,  34026.,  34059.,  34093.,  34126.,  34193.,\n",
       "               45999.,  46067.,  46133.,  46167.,  46199.,  46233.,  70146.,\n",
       "               74149.,  74215.,  74315.,  74349.,  74449.,  74482.,  74515.,\n",
       "               74549.,  74582.,  74616.,  74649.,  74682., 112970., 119141.,\n",
       "              129480., 138051., 155494., 164966., 225967.])                 ,\n",
       "       array([  2141.,   4076.,   4243.,   5477.,   5651.,   5843.,   6044.,\n",
       "                6077.,  34026.,  36361.,  43198.,  45699.,  46867.,  50502.,\n",
       "               50869.,  50902.,  50935.,  51035.,  74182.,  74215.,  74283.,\n",
       "               74315.,  74349.,  74582.,  74949.,  75016.,  89922.,  89958.,\n",
       "               89991., 103298., 124610., 124745., 129447., 129880., 129913.,\n",
       "              137885., 137984., 138051., 138118., 138151., 152192., 156762.,\n",
       "              157262., 157396., 169969., 170036., 173939., 174006., 174105.,\n",
       "              180011., 180241., 180408., 180742., 180776., 180808., 180875.,\n",
       "              192849., 198152., 203088., 203188., 206356., 213393., 213427.,\n",
       "              213460., 213494., 218563., 219097., 219764., 219830., 219864.,\n",
       "              220030., 220064., 220097., 220131., 220164., 220197., 220231.,\n",
       "              220264., 234706., 234972., 235039., 235106., 235239., 241876.,\n",
       "              244944., 258652.])                                            ,\n",
       "       array([  1875.,   8945.,   9612.,  12047.,  12080.,  12114.,  12248.,\n",
       "               19251.,  19284.,  19484.,  19518.,  19551.,  19585.,  19618.,\n",
       "               19651.,  19685.,  19718.,  19752.,  19785.,  19818.,  21686.,\n",
       "               23453.,  23520.,  23553.,  23587.,  31491.,  32225.,  32358.,\n",
       "               32458.,  32592.,  34826.,  34893.,  35027.,  35627.,  35694.,\n",
       "               46633.,  47367.,  47700.,  47734.,  47834.,  47934.,  54271.,\n",
       "               54571.,  59774.,  59907.,  63342.,  63476.,  63509.,  63643.,\n",
       "               63709.,  63743.,  71314.,  87990.,  88190.,  88224.,  88591.,\n",
       "               96594.,  96795., 102031., 104866., 106033., 113937., 122409.,\n",
       "              124710., 125511., 130347., 130380., 138885., 138918., 138985.,\n",
       "              139018., 139085., 139218., 139252., 139285., 168768., 168935.,\n",
       "              175105., 177473., 189947., 190514., 190614., 190681., 190781.,\n",
       "              191781., 192282., 195717., 195884., 199619., 201920., 205089.,\n",
       "              213260., 213897., 213966., 217963., 218097., 227268., 231937.,\n",
       "              233805., 236643., 242510., 254683., 256451.])                 ,\n",
       "       array([  7445.,  16283.,  25288.,  41564.,  41597.,  41630.,  42964.,\n",
       "               42998.,  43031.,  43098.,  43134.,  43164.,  43198.,  43331.,\n",
       "               43398.,  43431.,  52103.,  54672.,  55738.,  59874.,  62442.,\n",
       "               64110.,  66211.,  66911.,  66945.,  66978.,  67011.,  67078.,\n",
       "               67113.,  67178.,  76250.,  77284.,  80786.,  88624.,  90158.,\n",
       "               90191.,  92559.,  92592.,  98962.,  98996., 115038., 131681.,\n",
       "              136317., 143388., 143421., 146122., 146156., 167271., 174338.,\n",
       "              174371., 174405., 174439., 210925., 211125., 226801., 229002.,\n",
       "              229035., 242480., 242977., 247313., 247346., 257418.])        ,\n",
       "       array([ 38128.,  39829.,  39896.,  39930.,  71113.,  75449., 104299.,\n",
       "              106033., 116239., 125644., 125911., 126481., 129179., 129279.,\n",
       "              129346., 129380., 129447., 139886., 139919., 140019., 140119.,\n",
       "              140152., 140219., 180875., 204455., 218496., 248146.])        ,\n",
       "       array([ 37028.,  37629.,  42564.,  43065.,  43098.,  43134.,  43198.,\n",
       "               64376.,  64410.,  65110.,  66883.,  66911.,  66945.,  67011.,\n",
       "               77617.,  77684.,  77717.,  77750.,  77784.,  77817.,  77884.,\n",
       "              109868., 140286., 175339., 189380., 190180., 220030., 220831.]),\n",
       "       array([  1775.,   1908.,   1941.,   2441.,   2575.,   2675.,   2808.,\n",
       "                3642.,   3842.,   4109.,   4209.,   5244.,   5378.,   5443.,\n",
       "                5510.,   6077.,   6110.,   6244.,   6311.,   6911.,   7845.,\n",
       "                7911.,   8045.,   8179.,   8211.,  16283.,  17450.,  18617.,\n",
       "               18651.,  22620.,  23553.,  24854.,  24954.,  25821.,  25888.,\n",
       "               25955.,  26021.,  26221.,  26288.,  29724.,  29824.,  30124.,\n",
       "               30157.,  30190.,  31124.,  31224.,  31891.,  32358.,  32458.,\n",
       "               32992.,  33292.,  33526.,  33592.,  43365.,  43498.,  43865.,\n",
       "               44498.,  45232.,  45400.,  45566.,  45632.,  45699.,  51203.,\n",
       "               51269.,  57806.,  58140.,  58540.,  58607.,  58640.,  58673.,\n",
       "               58740.,  58773.,  58807.,  58840.,  58973.,  59874.,  59941.,\n",
       "               60207.,  60241.,  66444.,  67245.,  67347.,  67447.,  68746.,\n",
       "               68882.,  82720.,  86357.,  88024.,  88190.,  93493.,  95027.,\n",
       "              105934., 106334., 108801., 111438., 112170., 116806., 117106.,\n",
       "              125277., 133048., 137718., 138418., 154460., 154660., 157762.,\n",
       "              158729., 160530., 170503., 170603., 170636., 178907., 182876.,\n",
       "              186345., 186945., 193716., 193816., 199819., 208157., 227001.,\n",
       "              227869., 228035., 248246.])                                   ,\n",
       "       array([  3642.,   5343.,   6177.,   6944.,   7044.,  14915.,  15015.,\n",
       "               19184.,  23553.,  25421.,  30157.,  30358.,  30457.,  30491.,\n",
       "               34726.,  34826.,  34893.,  34993.,  35126.,  35227.,  35360.,\n",
       "               44699.,  59641.,  69646.,  70747.,  70980.,  71080.,  71113.,\n",
       "               81553.,  87957.,  89958.,  90058., 101631., 101831., 104732.,\n",
       "              109602., 109735., 109868., 109902., 109935., 109969., 110002.,\n",
       "              110035., 110069., 110163., 120808., 121642., 131647., 131681.,\n",
       "              131748., 143221., 143354., 143454., 143554., 143587., 150225.,\n",
       "              150525., 150758., 150892., 150958., 172804., 174439., 174672.,\n",
       "              174805., 186245., 187445., 188013., 188146., 188213., 190314.,\n",
       "              190347., 190381., 211426., 213193., 213227., 213260., 213293.,\n",
       "              213329., 213393., 213460., 225134., 225167., 237774., 238541.,\n",
       "              242743., 250381., 258023.])                                   ,\n",
       "       array([ 12881.,  12915.,  13815.,  13881.,  14482.,  14615.,  14682.,\n",
       "               16250.,  16383.,  16549.,  16684.,  16783.,  17450.,  20518.,\n",
       "               20585.,  24787.,  38962.,  39499.,  75583.,  76983.,  77050.,\n",
       "               80285.,  81887.,  82420.,  82553., 111770., 112103., 136317.,\n",
       "              151425., 178907., 181976., 184212., 192949., 194883., 205456.,\n",
       "              210025., 215896., 218997., 220698., 222500., 223132., 226401.,\n",
       "              228936., 236708., 236807., 237741., 239241., 239441., 239575.,\n",
       "              239775., 239908., 240018., 240809., 240909., 246712., 247079.,\n",
       "              247180., 247246., 248513., 249014., 249114., 249214., 249480.,\n",
       "              249814., 250014., 250047., 250081., 250181., 250248., 250381.,\n",
       "              250881., 250981., 251048., 251081., 257453., 257989., 258023.,\n",
       "              260453.])                                                     ,\n",
       "       array([ 10680.,  10813.,  13481.,  18284.,  21286.,  26388.,  26655.,\n",
       "               28590.,  31091.,  33226.,  33894.,  34926.,  34960.,  35027.,\n",
       "               36961.,  38228.,  41564.,  45667.,  45799.,  46800.,  48234.,\n",
       "               50969.,  55405.,  58907.,  75717.,  89657.,  94593.,  95060.,\n",
       "              108301., 109802., 109902., 115005., 124710., 126278., 126545.,\n",
       "              129480., 129546., 133582., 133682., 133716., 133805., 133806.,\n",
       "              133816., 133849., 133885., 133916., 133982., 134015., 134382.,\n",
       "              134549., 134749., 134849., 136784., 136817., 136884., 138051.,\n",
       "              138084., 138184., 140086., 140519., 142121., 142857., 143187.,\n",
       "              147190., 149458., 152159., 153393., 155429., 156128., 156628.,\n",
       "              156828., 160030., 160397., 162298., 170603., 170736., 170870.,\n",
       "              171036., 173804., 173971., 174273., 177473., 181409., 185011.,\n",
       "              186045., 189447., 196350., 196517., 197585., 197651., 206890.,\n",
       "              206990., 211659., 212726., 212827., 215461., 218563., 222198.,\n",
       "              234605., 234706., 234805., 234939., 235139., 235206., 235673.,\n",
       "              241076., 244845., 244944., 245045., 245145., 245179., 248747.,\n",
       "              249147., 252716., 255217., 255284., 255317., 255417., 258652.]),\n",
       "       array([  8912.,   8945.,   9046.,   9312.,  15982.,  18484.,  19484.,\n",
       "               23487.,  23587.,  24054.,  24087.,  24187.,  33059.,  33159.,\n",
       "               34726.,  34793.,  34860.,  34893.,  35027.,  35060.,  40963.,\n",
       "               41097.,  46600.,  59741.,  63109.,  80685.,  87756.,  87856.,\n",
       "               88123.,  88157.,  88257.,  89757.,  89791.,  89922.,  89930.,\n",
       "               90024.,  90058., 104365., 106166., 108534., 119008., 119040.,\n",
       "              119107., 125711., 131681., 131814., 131881., 131914., 132014.,\n",
       "              132048., 132148., 143155., 143187., 143221., 143321., 143354.,\n",
       "              143421., 143454., 143554., 143587., 143654., 143754., 143921.,\n",
       "              144221., 154660., 155994., 159396., 160430., 160830., 161031.,\n",
       "              161164., 161264., 161498., 161564., 161598., 167001., 167034.,\n",
       "              167101., 167134., 167202., 177473., 187546., 201920., 218597.,\n",
       "              218663., 218730., 218797., 234674., 234805., 234840., 242460.,\n",
       "              242777., 242844., 242877., 254850., 254917., 254984., 259087.,\n",
       "              260387.])                                                     ,\n",
       "       array([  2842.,   3042.,   3075.,   4409.,   4609.,   4676.,   5143.,\n",
       "                5510.,   5680.,   7244.,   7344.,   7478.,   7678.,   9112.,\n",
       "                9245.,   9279.,   9345.,  14382.,  14482.,  18851.,  19518.,\n",
       "               23620.,  23853.,  25521.,  25655.,  28228.,  33125.,  33259.,\n",
       "               34726.,  34826.,  35027.,  41063.,  42397.,  42631.,  47600.,\n",
       "               53837.,  53870.,  53904.,  55838.,  56327.,  56672.,  61845.,\n",
       "               63242.,  65977.,  66945.,  69546.,  85522.,  85922.,  85956.,\n",
       "               85988.,  86989.,  89657.,  89724.,  89757.,  99229., 109868.,\n",
       "              110002., 110069., 110169., 110269., 114538., 114806., 114871.,\n",
       "              115238., 116606., 116673., 116772., 116839., 124243., 125644.,\n",
       "              125777., 130514., 143254., 159763., 165166., 169068., 169135.,\n",
       "              170369., 170436., 170469., 170503., 170736., 179241., 179308.,\n",
       "              183877., 187412., 204088., 206857., 213160., 219130., 222966.,\n",
       "              223000., 223066., 223099., 230336., 230503., 233205., 234138.,\n",
       "              234339., 234510., 234510., 234539., 234572., 234639., 234674.,\n",
       "              234739., 234772., 234805., 234840., 234906., 235039., 242460.,\n",
       "              242463., 242543., 242576., 242610., 242643., 242677., 242710.,\n",
       "              242743., 242777., 242810., 242844., 242877., 242943., 252882.,\n",
       "              253083., 253149., 253216., 253249., 253283., 259853., 260520.]),\n",
       "       array([ 11580.,  12080.,  12314.,  15849.,  17250.,  19318.,  19484.,\n",
       "               19551.,  23553.,  24821.,  24854.,  24922.,  26755.,  26855.,\n",
       "               34560.,  34760.,  34793.,  34860.,  34926.,  35027.,  40863.,\n",
       "               40963.,  53770.,  53804.,  53837.,  53904.,  53970.,  54004.,\n",
       "               54071.,  55305.,  55571.,  62675.,  69479.,  71280.,  71347.,\n",
       "               71881.,  76917.,  79752.,  81653.,  88056.,  99163., 100230.,\n",
       "              102031., 104966., 105233., 116239., 118440., 120241., 120642.,\n",
       "              123109., 129546., 130213., 130280., 131881., 138918., 139018.,\n",
       "              145355., 145389., 146623., 146789., 146924., 147056., 147790.,\n",
       "              148057., 148624., 149058., 152359., 160931., 160997., 161097.,\n",
       "              168802., 171370., 171503., 171537., 171570., 171603., 171637.,\n",
       "              171671., 171703., 171803., 171837., 172237., 172370., 174505.,\n",
       "              174538., 177740., 179041., 179174., 179274., 179374., 179408.,\n",
       "              179441., 179474., 179541., 179575., 179774., 186912., 186945.,\n",
       "              187345., 187580., 187612., 189814., 190481., 190548., 190681.,\n",
       "              191384., 192248., 195517., 201587., 211559., 213027., 214327.,\n",
       "              215061., 215328., 216762., 223000., 223034., 223066., 223132.,\n",
       "              231370., 231637., 231704., 231804., 231837., 231904., 231971.,\n",
       "              232071., 232171., 234405., 234605., 234840., 235740., 235974.,\n",
       "              237141., 242177., 242543., 242877., 242910., 245878., 246746.,\n",
       "              248747., 252615., 254917., 255017., 256418., 258152.])        ,\n",
       "       array([  4343.,  26422.,  27956.,  30991.,  33526.,  34059.,  34126.,\n",
       "               38128.,  38162.,  38295.,  38362.,  41797.,  41830.,  42564.,\n",
       "               42831.,  43164.,  43398.,  43465.,  45566.,  45632.,  46067.,\n",
       "               46099.,  46167.,  47667.,  47700.,  50935.,  50969.,  66911.,\n",
       "               67245.,  74249.,  74449.,  74515.,  74549.,  74616.,  74682.,\n",
       "               77750.,  77851.,  89922.,  90058.,  92025.,  99596., 101164.,\n",
       "              102431., 111503., 112937., 113037., 124745., 129413., 133615.,\n",
       "              133805., 134116., 134216., 140586., 146789., 147156., 152126.,\n",
       "              152192., 152292., 159463., 159830., 165000., 165066., 170603.,\n",
       "              170669., 170703., 170769., 170803., 170836., 170903., 170936.,\n",
       "              171003., 171070., 171170., 180109., 181409., 181509., 189280.,\n",
       "              189547., 196384., 202658., 206823., 206923., 206957., 207090.,\n",
       "              207323., 209458., 209625., 209758., 209925., 210058., 210125.,\n",
       "              212493., 212626., 212726., 218097., 218496., 219997., 220131.,\n",
       "              221965., 222098., 244711., 244778., 244811., 244878., 244911.,\n",
       "              244944., 244978., 245011., 245045., 245078., 245245., 246812.,\n",
       "              252615., 253249., 254450., 254984., 255184., 255217., 255250.,\n",
       "              255284., 255384., 255450., 260353., 260487.])                 ,\n",
       "       array([  2041.,   2341.,  11447.,  11747.,  16850.,  26622.,  32425.,\n",
       "               32859.,  33159.,  43198.,  43465.,  43765.,  60207.,  70847.,\n",
       "               71949.,  76917.,  82420.,  98762.,  99396., 100530., 100663.,\n",
       "              104299., 116139., 116239., 120041., 122609., 125878., 130247.,\n",
       "              137718., 149524., 149591., 154894., 156929., 159330., 168802.,\n",
       "              171737., 171937., 174872., 183577., 185911., 186445., 186945.,\n",
       "              186979., 187713., 190080., 190247., 190347., 190381., 190414.,\n",
       "              190447., 190581., 190614., 190647., 208232., 213227., 213427.,\n",
       "              214961., 215428., 215828., 224366., 225167., 231154., 231504.,\n",
       "              256117., 259320.])                                            ,\n",
       "       array([  2608.,   2908.,   3675.,   3809.,   4009.,   6677.,   6777.,\n",
       "               10546.,  21252.,  25988.,  32492.,  37629.,  45532.,  59707.,\n",
       "               68812.,  71616.,  72914.,  75683.,  82220.,  92225.,  97428.,\n",
       "              100730., 105166., 108401., 119774., 130580., 132281., 132348.,\n",
       "              132481., 144522., 146789., 152159., 154360., 155294., 155461.,\n",
       "              155528., 155561., 155594., 155628., 155661., 155695., 166767.,\n",
       "              170069., 172370., 174972., 179408., 181275., 181409., 181842.,\n",
       "              182009., 183810., 184377., 185715., 186512., 190548., 190581.,\n",
       "              203755., 205256., 211025., 215628., 218396., 222032., 222265.,\n",
       "              232871., 233638., 234510., 235706., 235974., 256386.])        ,\n",
       "       array([  3075.,   4409.,  23220.,  27723.,  37128.,  37428.,  38062.,\n",
       "               38162.,  38228.,  38795.,  40696.,  40963.,  41530.,  41630.,\n",
       "               41663.,  41698.,  44332.,  44398.,  56209.,  56330.,  57706.,\n",
       "               58207.,  60808.,  69213.,  69279.,  94193.,  98229.,  99630.,\n",
       "               99863., 101064., 101130., 101197., 101230., 101264., 111369.,\n",
       "              111503., 111570., 111636., 111670., 132048., 134182., 134416.,\n",
       "              134482., 145122., 147090., 147323., 148824., 161564., 161598.,\n",
       "              161631., 164399., 164466., 164633., 164833., 164933., 165000.,\n",
       "              165034., 165101., 165133., 179174., 179241., 179408., 183277.,\n",
       "              183677., 183743., 183843., 206757., 206823., 206857., 206957.,\n",
       "              206990., 207057., 207090., 207123., 220766., 220798., 224670.,\n",
       "              235406., 236708., 238008., 242310., 243010., 243210., 244077.,\n",
       "              246212., 246746., 246846., 246879., 247112., 247146., 247212.,\n",
       "              259753.])                                                     ,\n",
       "       array([  4009.,   4076.,   4109.,   4176.,   4209.,  20251.,  20452.,\n",
       "               31024.,  31091.,  34193.,  39930.,  44565.,  44633.,  44832.,\n",
       "               54704.,  54804.,  54904.,  59107.,  62609.,  69479.,  82787.,\n",
       "               95530., 104499., 116239., 116339., 126678., 129279., 133315.,\n",
       "              136951., 140119., 140453., 175706., 175906., 175972., 181676.,\n",
       "              186912., 193549., 199586., 199819., 216629., 216830., 229937.,\n",
       "              231238., 231804., 231871., 231904., 244878., 244944., 255250.,\n",
       "              255384., 255417.])                                            ,\n",
       "       array([  3509.,   4376.,   8979.,   9078.,   9212.,   9546.,  22353.,\n",
       "               24721.,  38763.,  41764.,  42064.,  42564.,  44433.,  44565.,\n",
       "               44633.,  44699.,  44732.,  60608.,  68146.,  89691.,  89724.,\n",
       "               89919.,  89930.,  89958., 104666., 106100., 106200., 106233.,\n",
       "              106300., 106367., 106434., 106500., 121042., 121642., 124477.,\n",
       "              125577., 125644., 125677., 139118., 152893., 153260., 153393.,\n",
       "              173838., 174538., 179241., 179541., 185011., 185144., 195884.,\n",
       "              196084., 204589., 204755., 209158., 209324., 209392., 209625.,\n",
       "              209691., 218663., 219163., 246812., 249180., 255317.])        ,\n",
       "       array([  3876.,   4009.,   4143.,   4176.,   4276.,   4309.,   8712.,\n",
       "               13514.,  16049.,  19985.,  20285.,  29624.,  30524.,  30757.,\n",
       "               31191.,  31224.,  31325.,  31458.,  31525.,  31658.,  31758.,\n",
       "               31958.,  32092.,  32125.,  34226.,  34259.,  38096.,  39129.,\n",
       "               39896.,  39930.,  39963.,  40063.,  42698.,  42731.,  42764.,\n",
       "               46333.,  47734.,  49368.,  50002.,  50402.,  51669.,  59474.,\n",
       "               59540.,  59774.,  61475.,  64610.,  68146.,  68212.,  68245.,\n",
       "               68312.,  68346.,  68379.,  71047.,  71080.,  75382.,  75449.,\n",
       "               75516.,  75549.,  75583.,  81653.,  82753.,  84755.,  84955.,\n",
       "               96528.,  97695., 104232., 104332., 104432., 104832., 116206.,\n",
       "              116306., 124844., 125844., 129346., 129413., 133348., 133885.,\n",
       "              133949., 135616., 136750., 139852., 139985., 140119., 154961.,\n",
       "              156095., 156261., 156461., 156561., 156661., 156895., 162131.,\n",
       "              175806., 178107., 184845., 184877., 191384., 191614., 191781.,\n",
       "              197084., 198252., 199119., 199152., 201087., 201120., 201153.,\n",
       "              201187., 201220., 201320., 201353., 201553., 201587., 201620.,\n",
       "              216762., 216830., 225401., 229803., 231154., 231904., 232004.,\n",
       "              232537., 238074., 240542., 248146., 250214., 250314., 251015.]),\n",
       "       array([  8245.,   8378.,  10415.,  10480.,  10513.,  10580.,  10613.,\n",
       "               15315.,  15782.,  15816.,  21219.,  21352.,  21385.,  26989.,\n",
       "               54672.,  55138.,  55271.,  55305.,  55371.,  55405.,  55471.,\n",
       "               55505.,  55571.,  67044.,  71247.,  71347.,  71381.,  71414.,\n",
       "               71480.,  74349.,  77083.,  79352.,  80185.,  81386.,  82853.,\n",
       "               84187.,  86622.,  87256.,  87523.,  87690.,  97895.,  97963.,\n",
       "               97995.,  98062.,  98095., 100630., 100730., 102466., 103498.,\n",
       "              105099., 107867., 109702., 112403., 116139., 116873., 119607.,\n",
       "              119641., 119707., 120775., 121075., 123209., 126078., 128346.,\n",
       "              128479., 128779., 130514., 136917., 142220., 142521., 143721.,\n",
       "              144621., 147523., 153727., 161131., 161898., 162065., 162165.,\n",
       "              166435., 166801., 173404., 173604., 177340., 179174., 182509.,\n",
       "              183577., 186445., 187646., 189280., 189413., 189613., 193716.,\n",
       "              193883., 193982., 194416., 194516., 194816., 197618., 197785.,\n",
       "              199586., 202421., 207624., 210325., 210625., 210692., 222466.,\n",
       "              222532., 222565., 222599., 222632., 222666., 222699., 222765.,\n",
       "              222832., 222865., 226234., 226301., 228535., 229869., 230003.,\n",
       "              235306., 240108.])                                            ,\n",
       "       array([  5945.,   6044.,   6077.,   8645.,   9579.,  10680.,  20285.,\n",
       "               30557.,  31058.,  31124.,  31158.,  34161.,  34526.,  37661.,\n",
       "               37695.,  38162.,  40630.,  46266.,  46633.,  50235.,  51002.,\n",
       "               51269.,  51502.,  58240.,  58940.,  59007.,  59107.,  59207.,\n",
       "               59240.,  59874.,  61108.,  62308.,  62909.,  70546.,  74682.,\n",
       "               74882.,  75349.,  75516.,  75583.,  75616.,  76917.,  77684.,\n",
       "               82720., 100863., 104132., 104232., 104365., 109101., 109168.,\n",
       "              109302., 109969., 110903., 111236., 112137., 112937., 113037.,\n",
       "              113072., 113304., 116173., 118474., 119607., 120274., 124444.,\n",
       "              124745., 124810., 125711., 126345., 126778., 126878., 129313.,\n",
       "              129880., 132648., 132681., 132715., 133716., 133816., 133849.,\n",
       "              133885., 133916., 135750., 135783., 136250., 136750., 136784.,\n",
       "              137784., 137818., 138018., 138084., 140119., 140286., 140422.,\n",
       "              140489., 140553., 140619., 142121., 142620., 147457., 149491.,\n",
       "              154794., 155728., 156561., 157696., 157796., 158163., 158596.,\n",
       "              159130., 159663., 159696., 159797., 159930., 162065., 162131.,\n",
       "              164966., 165233., 170169., 170970., 171870., 174472., 178174.,\n",
       "              179985., 180776., 180842., 180975., 182109., 182976., 183977.,\n",
       "              184077., 184177., 184277., 184311., 184377., 184511., 186412.,\n",
       "              186478., 187846., 191351., 191581., 196150., 196184., 196517.,\n",
       "              197418., 197618., 198385., 199586., 201087., 202421., 202658.,\n",
       "              203021., 203088., 203154., 203188., 203455., 204555., 205222.,\n",
       "              206289., 209358., 212560., 213460., 213594., 214594., 216362.,\n",
       "              219930., 220164., 220197., 220264., 220431., 221331., 223466.,\n",
       "              223566., 224333., 224900., 225303., 226367., 226701., 228235.,\n",
       "              228268., 228302., 228335., 228502., 228635., 228702., 229803.,\n",
       "              229903., 234674., 234772., 238708., 239475., 239775., 240108.,\n",
       "              241576., 245111., 245678., 247079., 247413., 248113., 248146.,\n",
       "              251748.])                                                     ,\n",
       "       array([  3008.,   3479.,   8011.,   8045.,   8145.,   8645.,   8945.,\n",
       "                9078.,  11146.,  11580.,  12248.,  12380.,  13881.,  15282.,\n",
       "               15882.,  16483.,  17450.,  19218.,  20185.,  23653.,  23821.,\n",
       "               24254.,  24420.,  24488.,  26388.,  26422.,  29557.,  30190.,\n",
       "               30457.,  31024.,  31458.,  31791.,  32225.,  32425.,  32759.,\n",
       "               33059.,  33226.,  33526.,  34660.,  34726.,  34793.,  34826.,\n",
       "               34893.,  34960.,  34993.,  35126.,  35160.,  35193.,  35260.,\n",
       "               35327.,  35395.,  40663.,  40796.,  40930.,  40996.,  41097.,\n",
       "               41230.,  41263.,  43865.,  45232.,  45299.,  45866.,  47534.,\n",
       "               47900.,  47967.,  48067.,  49535.,  49701.,  50135.,  50369.,\n",
       "               50402.,  51602.,  52937.,  53671.,  53837.,  54004.,  54304.,\n",
       "               55005.,  56505.,  57706.,  59440.,  59774.,  59941.,  60474.,\n",
       "               63109.,  63409.,  63542.,  63609.,  67845.,  71347.,  71781.,\n",
       "               71881.,  79818.,  81319.,  87823.,  88024.,  88123.,  88190.,\n",
       "               88224.,  88390.,  96661.,  99630., 100130., 109268., 109702.,\n",
       "              109969., 110202., 110402., 117973., 120575., 123276., 125244.,\n",
       "              125377., 125511., 125577., 130380., 131681., 132214., 138918.,\n",
       "              147323., 147390., 152659., 154827., 157129., 157762., 160964.,\n",
       "              168636., 174371., 174472., 175072., 179408., 179441., 179474.,\n",
       "              179985., 187612., 188213., 189080., 189447., 190647., 190681.,\n",
       "              190747., 191248., 191344., 192182., 192348., 194850., 195617.,\n",
       "              195884., 199686., 208691., 209791., 214394., 217062., 223000.,\n",
       "              224500., 231937., 232237., 232804., 246579., 249581., 254450.,\n",
       "              254650., 254783.])                                            ,\n",
       "       array([  3075.,   3275.,   3776.,   3842.,   3876.,   6377.,   6911.,\n",
       "                6977.,   7244.,   7378.,   8145.,   8245.,  15916.,  17817.,\n",
       "               19985.,  21019.,  21554.,  25655.,  25721.,  25821.,  25888.,\n",
       "               26021.,  26221.,  26789.,  26822.,  26855.,  26955.,  29423.,\n",
       "               29457.,  29524.,  30190.,  30757.,  30824.,  30991.,  31158.,\n",
       "               31725.,  32358.,  32492.,  32558.,  32925.,  32959.,  32992.,\n",
       "               33326.,  33377.,  33492.,  34993.,  35126.,  35627.,  35860.,\n",
       "               44899.,  46700.,  47434.,  48834.,  49435.,  50235.,  50335.,\n",
       "               50435.,  51203.,  56327.,  57106.,  57640.,  58574.,  58707.,\n",
       "               58740.,  58840.,  58940.,  59107.,  59874.,  60274.,  60808.,\n",
       "               60841.,  61341.,  62809.,  63009.,  66711.,  67413.,  68446.,\n",
       "               69546.,  69646.,  73848.,  74048.,  74215.,  74249.,  74315.,\n",
       "               74749.,  74982.,  75416.,  75516.,  75717.,  76717.,  77517.,\n",
       "               79752.,  80719.,  81052.,  81086.,  81519.,  82888.,  83754.,\n",
       "               83921.,  84257.,  84921.,  86555.,  87723.,  88224., 113037.,\n",
       "              121875., 139318., 154761., 156995., 157062., 157762., 159096.,\n",
       "              160230., 163532., 164299., 172804., 176940., 177774., 181976.,\n",
       "              182211., 184244., 184845., 192949., 194650., 199819., 203855.,\n",
       "              205456., 206189., 208391., 212194., 212560., 215862., 218930.,\n",
       "              227601., 228002., 228068., 228235., 228569., 229836., 232171.,\n",
       "              234706., 237007., 239441., 240442., 241109., 243710., 244478.,\n",
       "              248346., 250081., 251882., 255484., 257552., 258519., 258852.,\n",
       "              259886., 259986., 260520.])                                   ,\n",
       "       array([  1941.,   2441.,   3311.,   3609.,   3709.,   4109.,   4209.,\n",
       "                5343.,   5443.,   6077.,   6144.,   6311.,   6911.,   7078.,\n",
       "                7178.,   7344.,   7911.,   8179.,   8211.,   8245.,   8345.,\n",
       "                8479.,   8945.,   9546.,   9646.,   9712.,   9879.,  10613.,\n",
       "               10913.,  11381.,  11913.,  12547.,  12581.,  12614.,  13815.,\n",
       "               15282.,  16183.,  19585.,  20618.,  22920.,  25789.,  26789.,\n",
       "               26855.,  26955.,  27189.,  27689.,  29423.,  29557.,  31058.,\n",
       "               31224.,  31725.,  32092.,  32458.,  32525.,  32558.,  32959.,\n",
       "               33025.,  33226.,  33392.,  33425.,  33659.,  33959.,  34126.,\n",
       "               34660.,  34793.,  34893.,  35027.,  35160.,  35660.,  35727.,\n",
       "               36094.,  36395.,  36694.,  36762.,  36994.,  37094.,  37261.,\n",
       "               37862.,  37895.,  38028.,  38428.,  39466.,  40063.,  40196.,\n",
       "               40330.,  40496.,  41964.,  43865.,  45566.,  48201.,  48868.,\n",
       "               51903.,  52937.,  53037.,  53437.,  53770.,  57706.,  59674.,\n",
       "               59941.,  60241.,  60274.,  60374.,  60808.,  60941.,  61275.,\n",
       "               61408.,  62308.,  62809.,  62876.,  63009.,  63342.,  63542.,\n",
       "               63809.,  64176.,  64676.,  64877.,  65043.,  65110.,  65510.,\n",
       "               65544.,  65710.,  66010.,  66244.,  66545.,  66611.,  67211.,\n",
       "               67945.,  68446.,  68579.,  68812.,  70246.,  70580.,  70947.,\n",
       "               71381.,  71847.,  72348.,  73948.,  74015.,  74048.,  74582.,\n",
       "               75583.,  75717.,  76751.,  76917.,  77083.,  77117.,  77917.,\n",
       "               78551.,  79185.,  79619.,  80185.,  80385.,  84821.,  85021.,\n",
       "               86523.,  86555.,  86622.,  87489.,  88157.,  88190.,  88690.,\n",
       "               88757.,  89091.,  89291.,  89524.,  89930.,  90458.,  90725.,\n",
       "               90991.,  91758.,  92025.,  92126.,  92692.,  93059.,  93459.,\n",
       "               93760.,  93862.,  95827.,  96661.,  96728.,  98062.,  98362.,\n",
       "              102665., 105266., 110769., 122509., 122909., 123143., 123276.,\n",
       "              125511., 125644., 126244., 128145., 128446., 130614., 133115.,\n",
       "              133282., 133916., 134015., 134816., 135316., 136284., 136951.,\n",
       "              137451., 148324., 151525., 153026., 153693., 156461., 157062.,\n",
       "              157729., 158496., 160197., 160530., 164233., 164266., 170237.,\n",
       "              175472., 177740., 178040., 178141., 178874., 179441., 180475.,\n",
       "              181342., 181576., 182309., 183343., 184677., 184845., 186012.,\n",
       "              188246., 193082., 195283., 204055., 206089., 207290., 207857.,\n",
       "              210358., 210759., 214428., 215161., 217029., 217696., 228002.,\n",
       "              229769., 231937., 232971., 236140., 255117.])                 ,\n",
       "       array([  4543.,   5877.,   6544.,   8078.,   8111.,   8179.,   8245.,\n",
       "                9279.,   9913.,   9946.,  11580.,  12314.,  13481.,  14548.,\n",
       "               15649.,  18717.,  28424.,  29890.,  30024.,  30224.,  30358.,\n",
       "               30424.,  30591.,  30757.,  30891.,  30924.,  30991.,  31024.,\n",
       "               35293.,  37528.,  37995.,  52136.,  56330.,  57372.,  58140.,\n",
       "               58507.,  58540.,  58607.,  60774.,  60974.,  62776.,  65010.,\n",
       "               65178.,  66744.,  66883.,  67211.,  69146.,  69447.,  69513.,\n",
       "               69546.,  69612.,  69679.,  69746.,  70880.,  70947.,  71113.,\n",
       "               71147.,  71347.,  77550.,  77584.,  77817.,  78184.,  90024.,\n",
       "               90958.,  91692.,  91758.,  93426.,  95260.,  96094.,  96395.,\n",
       "               96528.,  96628.,  96795.,  99396., 109135., 110235., 111503.,\n",
       "              111603., 112470., 112870., 112937., 112970., 114838., 115539.,\n",
       "              115972., 116372., 116406., 118007., 118607., 119874., 120108.,\n",
       "              120308., 133805., 135750., 135850., 137718., 139752., 140489.,\n",
       "              140586., 140619., 149357., 155027., 156828., 159897., 160497.,\n",
       "              160997., 163565., 163665., 163732., 164466., 164966., 165101.,\n",
       "              165200., 169403., 170169., 170669., 170936., 170970., 171070.,\n",
       "              171203., 171370., 171637., 173271., 173671., 174805., 176306.,\n",
       "              179308., 179374., 187445., 196651., 200420., 200753., 200820.,\n",
       "              204655., 204956., 207891., 208235., 210994., 211459., 212059.,\n",
       "              214894., 218364., 218763., 219731., 220766., 221898., 222065.,\n",
       "              222132., 222599., 222932., 223034., 224700., 225700., 225867.,\n",
       "              226934., 229402., 229703., 229903., 231737., 233338., 238241.,\n",
       "              238774., 242643., 244111., 246846., 247546., 247647., 249314.,\n",
       "              252249., 254683., 254917., 259386.])                          ,\n",
       "       array([  4843.,   5176.,   5276.,   5443.,   6110.,   7478.,   8179.,\n",
       "                8278.,   8378.,  10546.,  15282.,  15949.,  16049.,  21385.,\n",
       "               32525.,  42064.,  42998.,  43731.,  48501.,  48568.,  48634.,\n",
       "               48768.,  48834.,  48868.,  48934.,  54504.,  54672.,  61108.,\n",
       "               61375.,  63743.,  64743.,  66711.,  71847.,  80652.,  82186.,\n",
       "               84187.,  84821.,  85555.,  86489.,  86555.,  88557.,  93293.,\n",
       "               93493.,  93563.,  93629.,  96661.,  96895.,  96961.,  97061.,\n",
       "               97195.,  98962.,  99329.,  99563., 100830., 101697., 101964.,\n",
       "              102564., 103832., 103965., 107334., 108568., 108668., 109135.,\n",
       "              109201., 109669., 109735., 110336., 111936., 112599., 113037.,\n",
       "              114138., 114605., 115038., 115205., 116839., 119507., 119641.,\n",
       "              119674., 119707., 119941., 120041., 120141., 120274., 120408.,\n",
       "              120510., 120675., 122943., 123043., 123209., 125210., 125945.,\n",
       "              126411., 127856., 128045., 128179., 128246., 128346., 128379.,\n",
       "              128412., 128446., 128512., 128579., 128646., 128679., 130614.,\n",
       "              130847., 130880., 130947., 131047., 131114., 135383., 136017.,\n",
       "              136884., 137384., 138485., 138751., 138985., 145889., 147457.,\n",
       "              158496., 161764., 162365., 166467., 170469., 171303., 171637.,\n",
       "              173204., 173304., 173338., 173371., 173438., 173471., 173571.,\n",
       "              173604., 176106., 177307., 179007., 179985., 180100., 180508.,\n",
       "              182443., 182976., 183977., 187313., 188747., 189013., 189313.,\n",
       "              193250., 193316., 194416., 195283., 195850., 196117., 196817.,\n",
       "              197318., 197384., 199252., 199552., 199953., 202187., 202554.,\n",
       "              202655., 204555., 205289., 210458., 210792., 212493., 215396.,\n",
       "              215962., 216228., 221798., 224534., 225033., 226367., 228068.,\n",
       "              228535., 228635., 231154., 231604., 232738., 232804., 233838.,\n",
       "              236473., 236612., 241380., 241476., 242076., 243644., 246245.]),\n",
       "       array([ 26822.,  40130.,  41830.,  41864.,  41997.,  53270.,  53404.,\n",
       "               54804.,  62242.,  62275.,  62442.,  69679.,  70113.,  70180.,\n",
       "               74449.,  74649.,  99463., 109835., 109868., 109935., 117640.,\n",
       "              118640., 118741., 126411., 126512., 126545., 147457., 157129.,\n",
       "              170769., 180776., 189380., 189480., 202454., 211726., 219964.,\n",
       "              220131., 221532., 221765., 221865., 221931., 222065., 222098.,\n",
       "              222132., 244911., 247180., 248080., 248146., 260420., 260553.]),\n",
       "       array([  2275.,   8778.,   8812.,  25054.,  25254.,  38062.,  38096.,\n",
       "               41764.,  41898.,  41930.,  42097.,  42431.,  52736.,  53237.,\n",
       "               53470.,  54672.,  54771.,  54904.,  55138.,  55438.,  55872.,\n",
       "               61875.,  62208.,  66978.,  67845.,  69746.,  69948.,  74582.,\n",
       "               74616.,  74882.,  74982.,  75150.,  77917.,  78151.,  79118.,\n",
       "               95328.,  95494.,  95961.,  98929., 112597., 112737., 118674.,\n",
       "              122142., 122175., 122242., 134049., 136317., 136517., 136584.,\n",
       "              136684., 136717., 136817., 136850., 136917., 136984., 137017.,\n",
       "              157333., 157365., 170669., 176173., 194083., 197685., 197751.,\n",
       "              204088., 206356., 206456., 211326., 219097., 220030., 220864.,\n",
       "              221898., 222232., 222332., 231153., 234572., 234674., 234739.,\n",
       "              234772., 242943., 244811., 255317., 255350., 255384., 255417.]),\n",
       "       array([  3809.,   5577.,   7378.,   7978.,   8078.,   8179.,   8245.,\n",
       "               21286.,  21319.,  26322.,  26388.,  26488.,  26522.,  28056.,\n",
       "               29023.,  29857.,  30157.,  30557.,  30957.,  31258.,  31358.,\n",
       "               31991.,  32158.,  32225.,  32258.,  32525.,  32792.,  32825.,\n",
       "               34926.,  35027.,  35126.,  35327.,  35560.,  35627.,  43065.,\n",
       "               43164.,  43398.,  43431.,  43465.,  43998.,  47200.,  47434.,\n",
       "               47534.,  49635.,  49768.,  49902.,  50135.,  50168.,  50202.,\n",
       "               50302.,  52736.,  52903.,  59407.,  60007.,  60074.,  62909.,\n",
       "               63109.,  63209.,  63476.,  67044.,  67113.,  71347.,  73281.,\n",
       "               73515.,  73615.,  76083.,  79518.,  79651.,  87923.,  88024.,\n",
       "               88090.,  88157.,  88224.,  90725.,  91358.,  94093.,  94960.,\n",
       "               95094.,  95160.,  95494.,  95662.,  95827., 100130., 100363.,\n",
       "              100497., 100797., 102765., 103532., 103965., 104032., 105166.,\n",
       "              106700., 107234., 107601., 108035., 108101., 108234., 108601.,\n",
       "              108768., 108801., 111836., 111903., 112103., 118007., 120174.,\n",
       "              120608., 120642., 121675., 121775., 121842., 121909., 124510.,\n",
       "              126244., 126878., 127412., 127881., 128045., 129780., 139852.,\n",
       "              141019., 141086., 146489., 147490., 147523., 150958., 151662.,\n",
       "              155429., 155561., 155628., 157095., 157962., 159696., 159997.,\n",
       "              160630., 162365., 162665., 163632., 169202., 175006., 175140.,\n",
       "              181976., 185945., 186111., 186412., 187279., 189080., 193482.,\n",
       "              200153., 201453., 202554., 205923., 206990., 207023., 209525.,\n",
       "              209758., 210625., 210692., 219797., 221131., 227502., 229937.,\n",
       "              231206., 231437., 242463., 252582., 254783., 260553.])        ,\n",
       "       array([  1741.,   2175.,   8345.,   8412.,  14048.,  19551.,  19618.,\n",
       "               22886.,  27189.,  32759.,  32792.,  32892.,  32959.,  33025.,\n",
       "               33125.,  50902.,  51702.,  60274.,  72481.,  79852.,  83387.,\n",
       "               90658.,  90725., 113604., 120074., 123176., 129680., 130480.,\n",
       "              130747., 130814., 130847., 130914., 130947., 148190., 166435.,\n",
       "              171537., 171603., 176339., 181676., 184044., 186345., 187146.,\n",
       "              187979., 194783., 195550., 201954., 213160., 213293., 231437.,\n",
       "              231904., 241276., 246179., 249047., 253519.])                 ,\n",
       "       array([  4009.,   8645.,   8878.,  10179.,  10480.,  16483.,  22620.,\n",
       "               28123.,  28397.,  30757.,  32658.,  32759.,  33377.,  41797.,\n",
       "               41964.,  43365.,  43565.,  43731.,  43798.,  43831.,  45332.,\n",
       "               45432.,  51969.,  52070.,  62242.,  65877.,  66078.,  66111.,\n",
       "               69179.,  69213.,  73381.,  79218.,  82888.,  91692.,  92492.,\n",
       "               94427.,  94560.,  96694.,  99730., 101297., 102098., 103298.,\n",
       "              103765., 109702., 114004., 114104., 114371., 118774., 123643.,\n",
       "              126778., 129613., 129880., 130180., 134816., 139485., 139519.,\n",
       "              139552., 140286., 142453., 146026., 149391., 166634., 169502.,\n",
       "              169535., 169602., 181209., 181275., 181375., 181409., 185945.,\n",
       "              190247., 190281., 190381., 190447., 190514., 190548., 190814.,\n",
       "              190847., 190881., 190914., 190981., 191014., 195517., 195584.,\n",
       "              195617., 202355., 205422., 207457., 211759., 211859., 211993.,\n",
       "              212226., 212493., 214127., 214194., 214728., 216395., 217462.,\n",
       "              217529., 217563., 217596., 217663., 221731., 221832., 221965.,\n",
       "              221998., 222032., 222065., 222098., 222165., 225335., 230570.,\n",
       "              231270., 232137., 232537., 235306., 236840., 238641., 241209.,\n",
       "              247479., 249714., 250214., 251315., 253450., 256451., 257952.]),\n",
       "       array([  2508.,   2675.,  10480.,  10580.,  10613.,  10647.,  10713.,\n",
       "               21219.,  21252.,  21319.,  21419.,  26855.,  27089.,  29457.,\n",
       "               30991.,  34860.,  43164.,  56739.,  63209.,  63376.,  64410.,\n",
       "               64476.,  65110.,  65444.,  66911.,  67245.,  68712.,  71414.,\n",
       "               71447.,  71514.,  72581.,  72881.,  73112.,  73481.,  74449.,\n",
       "               74482.,  77017.,  78951.,  80919.,  84154.,  84325.,  85322.,\n",
       "               86622.,  86789.,  88024.,  88090.,  88390.,  94493.,  95127.,\n",
       "               95927.,  97195.,  97929.,  97963.,  97995.,  98029.,  98062.,\n",
       "               98095.,  98129.,  98162.,  98196.,  98229., 100630., 105266.,\n",
       "              105533., 109769., 109935., 112704., 112804., 120642., 120775.,\n",
       "              121443., 121542., 122509., 122709., 122742., 123810., 126145.,\n",
       "              126244., 129580., 130514., 130580., 131981., 132181., 132314.,\n",
       "              132515., 133048., 138852., 138885., 138918., 141286., 142220.,\n",
       "              142420., 142790., 143121., 143587., 143788., 144021., 145055.,\n",
       "              147156., 147490., 147523., 147557., 148791., 150058., 150858.,\n",
       "              151425., 151592., 152559., 153226., 154193., 154527., 166435.,\n",
       "              166534., 166735., 167768., 168335., 169569., 169836., 170202.,\n",
       "              172337., 174805., 176573., 178907., 179041., 179107., 179141.,\n",
       "              179207., 179241., 180475., 180642., 184677., 185445., 186912.,\n",
       "              187979., 188313., 189714., 192815., 193616., 194216., 197618.,\n",
       "              201520., 202020., 202087., 202320., 209491., 210125., 210559.,\n",
       "              210592., 210692., 210925., 211059., 211159., 221598., 222399.,\n",
       "              222500., 222732., 222765., 223132., 223933., 224199., 225700.,\n",
       "              226034., 227001., 229102., 230069., 230205., 230272., 230336.,\n",
       "              230370., 230503., 232671., 233505., 234572., 235339., 235473.,\n",
       "              235940., 236206., 236807., 237274., 237741., 237874., 238474.,\n",
       "              240475., 241309., 241443., 241509., 242877., 243510., 243710.,\n",
       "              250448., 251348., 251548., 252582., 253216., 253556., 253716.,\n",
       "              254483., 254617., 254650.])                                   ,\n",
       "       array([  2175.,   2275.,   2341.,  10046.,  10213.,  16783.,  17684.,\n",
       "               23754.,  25221.,  25588.,  25655.,  25721.,  27789.,  28358.,\n",
       "               28590.,  29824.,  30891.,  31358.,  36928.,  38062.,  38096.,\n",
       "               38795.,  41898.,  42497.,  42931.,  44131.,  44298.,  44398.,\n",
       "               48701.,  49001.,  53237.,  53604.,  55905.,  56672.,  56705.,\n",
       "               56872.,  57039.,  61845.,  65944.,  69279.,  73448.,  76317.,\n",
       "               76817.,  77150.,  77651.,  85488.,  85956.,  91858.,  92192.,\n",
       "               92692.,  94226.,  94293.,  94493.,  94660.,  95160.,  95228.,\n",
       "               95294.,  95394.,  95662.,  95894.,  95994.,  96094.,  99363.,\n",
       "               99529.,  99596.,  99630.,  99697.,  99730.,  99763.,  99896.,\n",
       "              103532., 104365., 104766., 106100., 106500., 106938., 107767.,\n",
       "              111704., 112704., 113771., 114505., 117173., 118266., 118807.,\n",
       "              118974., 121142., 123943., 124610., 127112., 127881., 136050.,\n",
       "              143654., 147090., 147123., 147190., 147223., 147357., 147457.,\n",
       "              147490., 147557., 147590., 147690., 147890., 148224., 148390.,\n",
       "              148691., 148724., 149424., 150025., 150525., 151860., 152759.,\n",
       "              152893., 153827., 158363., 158663., 158729., 158829., 158930.,\n",
       "              159463., 160264., 160330., 160464., 163565., 163799., 165000.,\n",
       "              165066., 171136., 172804., 172971., 176273., 179341., 179575.,\n",
       "              189380., 189547., 193582., 194116., 200453., 204155., 206656.,\n",
       "              206723., 206923., 206957., 207023., 213460., 214294., 214761.,\n",
       "              215561., 215661., 222032., 222332., 222399., 224670., 224733.,\n",
       "              224767., 224833., 226001., 230303., 234572., 234605., 234739.,\n",
       "              234805., 234840., 235106., 237107., 239075., 242460., 247146.,\n",
       "              247279., 259620., 260287.])                                   ,\n",
       "       array([  7344.,   7411.,   7545.,   7578.,   7611.,   7678.,   7711.,\n",
       "               21686.,  35360.,  35593.,  38228.,  39029.,  54037.,  54237.,\n",
       "               54471.,  54571.,  54637.,  54704.,  59874.,  63376.,  63809.,\n",
       "               63909.,  64043.,  64310.,  64410.,  64476.,  64512.,  64543.,\n",
       "               64610.,  64676.,  67912.,  68046.,  69513.,  71014.,  71180.,\n",
       "               72881.,  76083.,  78719.,  80218.,  82453.,  84554.,  86389.,\n",
       "               86489.,  88190.,  88690.,  88724.,  88757.,  88991.,  89291.,\n",
       "               89324.,  89919.,  90058.,  90725.,  91858.,  92025.,  93259.,\n",
       "               95427.,  96528.,  96761.,  96795.,  99229., 101764., 102599.,\n",
       "              103899., 106600., 108568., 108701., 109135., 110402., 112599.,\n",
       "              112770., 113571., 115539., 116572., 120541., 122776., 123043.,\n",
       "              124377., 125644., 130447., 138852., 138918., 139218., 139252.,\n",
       "              139318., 144421., 147357., 157495., 159630., 163799., 163899.,\n",
       "              164266., 169068., 171070., 173271., 173338., 173371., 175773.,\n",
       "              175939., 175972., 176106., 177307., 177407., 179985., 181876.,\n",
       "              182509., 182943., 183343., 185111., 185278., 188447., 190147.,\n",
       "              192815., 192849., 195151., 196684., 197318., 198018., 199552.,\n",
       "              200353., 200689., 200786., 200853., 204655., 204722., 205055.,\n",
       "              207757., 208291., 210358., 215194., 216328., 221931., 222065.,\n",
       "              222098., 222132., 222165., 225901., 226567., 228535., 231437.,\n",
       "              232838., 233638., 236612., 243510., 243877., 246245., 249480.,\n",
       "              252249., 254350., 254517., 259320.])                          ,\n",
       "       array([  3842.,   5443.,   5510.,   6110.,   6210.,   8846.,  16549.,\n",
       "               19418.,  23653.,  24054.,  24220.,  30358.,  30457.,  30658.,\n",
       "               34660.,  35193.,  35227.,  35260.,  35327.,  35360.,  35395.,\n",
       "               59674.,  59707.,  71047.,  71080.,  71180.,  71247.,  81519.,\n",
       "               87623.,  89691.,  89791.,  89919.,  89958., 101431., 114905.,\n",
       "              118707., 119040., 119174., 125544., 125711., 143421., 146756.,\n",
       "              153660., 155828., 179007., 179141., 179174., 179207., 179274.,\n",
       "              188213., 189247., 193782., 204055., 208124., 209825., 210158.,\n",
       "              212793., 220664., 222932., 228068., 231971., 238675., 246679.,\n",
       "              251381.])                                                     ,\n",
       "       array([  8378.,   8512.,   8612.,   9446.,  11580.,  11913.,  11981.,\n",
       "               12114.,  13815.,  19284.,  19351.,  20185.,  21252.,  22620.,\n",
       "               23821.,  23853.,  24420.,  24454.,  26422.,  31491.,  31825.,\n",
       "               34660.,  34860.,  35460.,  35593.,  35961.,  36128.,  38262.,\n",
       "               41163.,  43298.,  43565.,  43731.,  47767.,  47934.,  49368.,\n",
       "               49935.,  50035.,  50802.,  51069.,  51569.,  51836.,  52238.,\n",
       "               55271.,  55371.,  55872.,  59040.,  60007.,  60741.,  63476.,\n",
       "               65744.,  67278.,  67413.,  70847.,  71347.,  75549.,  78217.,\n",
       "               78884.,  79585.,  81786.,  83020.,  83087.,  84721.,  87890.,\n",
       "               88056.,  94960.,  95127.,  96528.,  96561.,  96628.,  99129.,\n",
       "               99229.,  99730., 101864., 105567., 105934., 106467., 108168.,\n",
       "              108335., 109802., 109969., 110169., 110269., 110636., 113571.,\n",
       "              113971., 118741., 118774., 120510., 120608., 120975., 122209.,\n",
       "              123009., 123143., 123276., 123379., 124210., 124410., 124810.,\n",
       "              125377., 125511., 127445., 128346., 129447., 131114., 132581.,\n",
       "              138852., 139452., 139619., 146756., 146856., 148324., 155027.,\n",
       "              155528., 156328., 160997., 162665., 166134., 166467., 166634.,\n",
       "              168587., 168969., 169435., 169902., 170469., 170636., 174242.,\n",
       "              174305., 174538., 174938., 177473., 177940., 180408., 181709.,\n",
       "              187445., 188213., 188279., 188380., 189880., 190781., 190914.,\n",
       "              191614., 192115., 192715., 192815., 194616., 195316., 195417.,\n",
       "              195517., 195550., 195617., 195650., 195717., 195750., 195785.,\n",
       "              195817., 195850., 195951., 197218., 197284., 199753., 200288.,\n",
       "              200486., 201053., 201587., 202154., 210125., 210225., 212560.,\n",
       "              213027., 213193., 213227., 213260., 213293., 213329., 213360.,\n",
       "              213393., 213427., 213460., 213494., 213594., 213627., 213660.,\n",
       "              213760., 213827., 213860., 214027., 214061., 214094., 227635.,\n",
       "              231154., 231206., 231270., 231370., 231704., 231904., 239508.,\n",
       "              259353.])                                                     ,\n",
       "       array([  4443.,   4709.,   7878.,   8078.,   8111.,   8245.,   8278.,\n",
       "                8311.,   8345.,   8378.,   8479.,   8612.,   8846.,  10446.,\n",
       "               10513.,  10546.,  10647.,  21352.,  21385.,  21554.,  32225.,\n",
       "               32458.,  32558.,  34693.,  34793.,  34893.,  35160.,  43698.,\n",
       "               45833.,  48467.,  51702.,  54337.,  54504.,  54537.,  54571.,\n",
       "               54604.,  54637.,  54672.,  54704.,  54771.,  54804.,  54838.,\n",
       "               54938.,  54971.,  63309.,  63342.,  63809.,  63843.,  63876.,\n",
       "               64243.,  64476.,  65043.,  68912.,  70146.,  70180.,  75583.,\n",
       "               76751.,  79485.,  86555.,  88024.,  88123.,  88157.,  88690.,\n",
       "               89491.,  91625.,  93226.,  94527.,  96694.,  97162.,  97428.,\n",
       "               98496., 100497., 100730., 101330., 102398., 102466., 103832.,\n",
       "              108534., 109802., 112597., 112599., 112737., 112770., 112804.,\n",
       "              112870., 113004., 113237., 114104., 116173., 119774., 121342.,\n",
       "              122109., 123176., 128346., 128646., 128746., 130580., 130847.,\n",
       "              138885., 139252., 139318., 168935., 170102., 173871., 181609.,\n",
       "              188747., 190014., 190080., 190180., 190281., 190314., 190414.,\n",
       "              195016., 195717., 195750., 195884., 202320., 205122., 207857.,\n",
       "              209625., 212693., 213995., 216629., 217029., 224300., 234205.,\n",
       "              236340., 236907., 237040., 239908., 240976., 243810., 244679.,\n",
       "              244944., 244978., 245179., 245445., 245478., 246245., 246546.,\n",
       "              248113., 249280., 250047., 252215.])                          ,\n",
       "       array([  1841.,   5176.,   5648.,   5710.,   5810.,   6244.,   6578.,\n",
       "                7478.,   8045.,   8179.,  13481.,  14848.,  14982.,  15582.,\n",
       "               15882.,  16817.,  16919.,  17484.,  18651.,  23086.,  23253.,\n",
       "               24020.,  24120.,  24187.,  24922.,  24988.,  25021.,  25121.,\n",
       "               25455.,  27889.,  27989.,  29490.,  29924.,  30157.,  30291.,\n",
       "               30691.,  35327.,  35627.,  43631.,  44965.,  45117.,  53970.,\n",
       "               56175.,  58240.,  58440.,  58507.,  58607.,  59274.,  59574.,\n",
       "               59874.,  61082.,  62575.,  62609.,  63976.,  64543.,  64676.,\n",
       "               65277.,  65377.,  66545.,  67011.,  67712.,  68779.,  68846.,\n",
       "               69012.,  69079.,  76350.,  77484.,  77750.,  78051.,  82853.,\n",
       "               86357.,  86489.,  86722.,  86856.,  87156.,  87756.,  87990.,\n",
       "               88024.,  88056.,  89024.,  89190.,  92492.,  93293.,  99496.,\n",
       "              106801., 108835., 109201., 109268., 110402., 110702., 116839.,\n",
       "              118440., 123379., 123576., 123677., 125744., 126711., 129746.,\n",
       "              129780., 133716., 133805., 135550., 135716., 135783., 135816.,\n",
       "              135984., 136183., 136217., 136284., 136917., 137084., 142087.,\n",
       "              142320., 142857., 143988., 145455., 145522., 146030., 146122.,\n",
       "              148424., 158463., 158696., 159830., 159897., 162732., 164533.,\n",
       "              166390., 169202., 169302., 169403., 170102., 170736., 171003.,\n",
       "              171036., 174405., 175406., 176806., 179985., 180011., 187479.,\n",
       "              188046., 191418., 196484., 200753., 204021., 204088., 204222.,\n",
       "              204655., 204755., 204789., 205122., 205689., 205923., 211025.,\n",
       "              211392., 211826., 212026., 212460., 213127., 213227., 213360.,\n",
       "              213995., 214194., 214428., 214529., 215094., 215661., 216228.,\n",
       "              218697., 219297., 219497., 220097., 220131., 220798., 221231.,\n",
       "              221898., 222032., 222899., 223099., 223167., 223199., 223432.,\n",
       "              223466., 223999., 224033., 225303., 225335., 227101., 227469.,\n",
       "              228936., 229035., 229136., 229302., 229469., 233104., 233338.,\n",
       "              237207., 238708., 242463., 242480., 243043., 252849., 254116.]),\n",
       "       array([  3442.,  13451.,  14048.,  14215.,  14350.,  22853.,  33192.,\n",
       "               38096.,  38128.,  38162.,  38195.,  38262.,  38362.,  38562.,\n",
       "               38595.,  38629.,  39362.,  39562.,  39696.,  39930.,  39996.,\n",
       "               45432.,  45466.,  45532.,  46266.,  46400.,  46533.,  58040.,\n",
       "               58140.,  58273.,  58307.,  69646.,  69746.,  69813.,  77617.,\n",
       "               78351.,  79918.,  82987.,  90658.,  91058.,  91258.,  97061.,\n",
       "               97162., 104832., 105299., 106166., 106267., 134149., 138885.,\n",
       "              138918., 139052., 140219., 140286., 140653., 145022., 145122.,\n",
       "              145155., 145188., 145223., 145289., 148457., 152226., 173237.,\n",
       "              174138., 174371., 177473., 179408., 179985., 180011., 185144.,\n",
       "              185178., 190114., 190147., 190180., 190247., 190281., 190314.,\n",
       "              190347., 199552., 219731., 220030., 220064., 220131., 220731.,\n",
       "              228068., 229369., 232371., 242877., 246780., 246812., 246846.,\n",
       "              246879., 253416., 258686., 259186., 260353., 260387.])        ,\n",
       "       array([  1808.,   1975.,   2608.,   3342.,   3509.,   3709.,   3809.,\n",
       "                3876.,   4143.,   6477.,   6578.,   6711.,   6911.,   6944.,\n",
       "                7344.,   9679.,   9846.,   9879.,  11314.,  11381.,  11981.,\n",
       "               12480.,  13548.,  13714.,  14682.,  14748.,  14882.,  15182.,\n",
       "               15251.,  18050.,  18184.,  18217.,  18550.,  18651.,  19051.,\n",
       "               19118.,  21352.,  21419.,  21554.,  23420.,  23653.,  24087.,\n",
       "               29924.,  29957.,  30124.,  35694.,  35961.,  36060.,  43264.,\n",
       "               43665.,  43765.,  44565.,  45199.,  47067.,  47200.,  47400.,\n",
       "               47600.,  47800.,  47967.,  49835.,  49902.,  50168.,  50335.,\n",
       "               50536.,  51569.,  52070.,  52870.,  53504.,  53637.,  55204.,\n",
       "               55305.,  55471.,  55538.,  56105.,  56606.,  56805.,  57239.,\n",
       "               57673.,  59874.,  63643.,  64210.,  65277.,  66311.,  66646.,\n",
       "               66811.,  66945.,  66978.,  67044.,  67078.,  70847.,  71814.,\n",
       "               72247.,  72281.,  73648.,  73748.,  74082.,  74315.,  76616.,\n",
       "               84988.,  86822.,  86956.,  87289.,  88224.,  88257.,  88457.,\n",
       "               89124.,  91992.,  92126.,  92359.,  92626.,  95360., 100197.,\n",
       "              101397., 104699., 106334., 109268., 109735., 109902., 110202.,\n",
       "              110235., 110736., 110769., 117640., 123977., 125544., 126878.,\n",
       "              126978., 127046., 130180., 130347., 132081., 134482., 137718.,\n",
       "              138018., 140119., 140686., 148490., 148524., 155928., 156128.,\n",
       "              156362., 157028., 157762., 159063., 159297., 163732., 164533.,\n",
       "              172037., 172404., 174371., 176106., 176841., 181009., 185682.,\n",
       "              185978., 187479., 187612., 188747., 188883., 192215., 198785.,\n",
       "              199152., 200119., 200219., 201920., 204055., 205923., 212128.,\n",
       "              212460., 228169.])                                            ,\n",
       "       array([  1908.,   4143.,   8145.,   8546.,   8612.,   8645.,  11580.,\n",
       "               12047.,  13514.,  13848.,  16885.,  22186.,  22620.,  22753.,\n",
       "               22886.,  25154.,  26789.,  32358.,  32558.,  32625.,  33025.,\n",
       "               34660.,  35126.,  35560.,  35927.,  38328.,  40230.,  40996.,\n",
       "               46466.,  47100.,  50869.,  51702.,  51836.,  53704.,  54337.,\n",
       "               55371.,  55505.,  59974.,  63076.,  63142.,  63209.,  63342.,\n",
       "               63409.,  63442.,  63476.,  63509.,  63542.,  63609.,  63709.,\n",
       "               63743.,  63809.,  63909.,  73915.,  74149.,  74349.,  75717.,\n",
       "               76650.,  82053.,  82322.,  83053.,  84888.,  86523.,  88224.,\n",
       "               88290.,  88424.,  88557.,  88624.,  88757.,  88857.,  96528.,\n",
       "              101797., 102231., 104132., 105366., 106700., 107701., 108168.,\n",
       "              108301., 113604., 116406., 119441., 120541., 120608., 121443.,\n",
       "              122442., 123143., 125377., 125411., 125644., 130347., 130413.,\n",
       "              138885., 138918., 138952., 138985., 139018., 139052., 139185.,\n",
       "              139218., 139252., 139285., 139318., 139352., 139385., 146756.,\n",
       "              147256., 148290., 155494., 159396., 160530., 172204., 174538.,\n",
       "              177940., 186678., 187612., 188883., 189814., 190047., 190114.,\n",
       "              190314., 190381., 190414., 190481., 190548., 190581., 190647.,\n",
       "              190681., 191344., 191351., 194983., 195050., 197351., 199619.,\n",
       "              200086., 203154., 205055., 207690., 207924., 210092., 212960.,\n",
       "              213160., 213260., 213329., 213360., 213427., 213827., 214127.,\n",
       "              216029., 216263., 217162., 227235., 236612., 238441., 239408.,\n",
       "              239508., 239542., 239675., 240909., 242009., 243977., 248613.,\n",
       "              249247., 256518.])                                            ,\n",
       "       array([  1841.,   2708.,   4976.,   5743.,  18617.,  19451.,  21554.,\n",
       "               21819.,  22719.,  32625.,  35093.,  35160.,  35360.,  35527.,\n",
       "               35660.,  36060.,  36395.,  38195.,  40996.,  43865.,  43932.,\n",
       "               48801.,  53970.,  64276.,  64443.,  64576.,  64877.,  65043.,\n",
       "               66911.,  67245.,  67278.,  67978.,  68712.,  69447.,  70046.,\n",
       "               70646.,  71514.,  72447.,  72748.,  72781.,  73281.,  73816.,\n",
       "               83087.,  86523.,  88690.,  88724.,  89091.,  89491.,  89691.,\n",
       "               89922.,  90591.,  91158.,  91658.,  91758.,  93326., 108201.,\n",
       "              108835., 112403., 112597., 112640., 112670., 112737., 112770.,\n",
       "              112804., 112837., 112870., 112904., 112937., 113072., 113737.,\n",
       "              113937., 114238., 114371., 114972., 115939., 116406., 117906.,\n",
       "              118274., 120475., 121408., 125677., 128246., 130380., 131247.,\n",
       "              134049., 134182., 135050., 135616., 138818., 138918., 139018.,\n",
       "              139085., 139218., 139285., 139352., 141620., 141720., 141887.,\n",
       "              142554., 142857., 144288., 144922., 148157., 150358., 156028.,\n",
       "              158596., 159063., 160297., 160697., 162298., 163732., 163866.,\n",
       "              164032., 164335., 164599., 164699., 164866., 165667., 165767.,\n",
       "              166167., 166934., 170436., 172237., 172404., 177807., 178707.,\n",
       "              179984., 179985., 183443., 184778., 187345., 188013., 188146.,\n",
       "              190314., 190347., 190447., 192982., 193015., 193216., 194016.,\n",
       "              195016., 196817., 197051., 200019., 201720., 206790., 209958.,\n",
       "              211593., 213027., 213227., 213927., 214160., 217329., 218330.,\n",
       "              219567., 220631., 226001., 226067., 226801., 228002., 229937.,\n",
       "              232838., 237774., 238374., 240020., 240409., 241380., 242177.,\n",
       "              242310., 242710., 243077., 244344., 244644., 247613., 249847.,\n",
       "              250548., 252048., 252417., 252882., 253850., 254316., 254483.,\n",
       "              254717., 254883., 256017., 258989., 259753., 259920., 260220.,\n",
       "              260520.])                                                     ,\n",
       "       array([  8512.,   8945.,   9813.,  12547.,  13815.,  17450.,  17684.,\n",
       "               20185.,  20318.,  25188.,  29157.,  30190.,  30424.,  35027.,\n",
       "               37629.,  38162.,  41663.,  45432.,  45667.,  46233.,  58207.,\n",
       "               58574.,  59207.,  60675.,  60741.,  61081.,  61175.,  61408.,\n",
       "               62511.,  62542.,  66578.,  70246.,  70913.,  71080.,  74149.,\n",
       "               74482.,  74682.,  74849.,  76783.,  77184.,  77651.,  78621.,\n",
       "               83020.,  87856.,  89919.,  90291.,  95597.,  96328.,  97395.,\n",
       "              100030., 101130., 108501., 109335., 110235., 110369., 111469.,\n",
       "              112970., 113104., 115539., 116173., 116939., 118474., 120475.,\n",
       "              121175., 125044., 126978., 127112., 129680., 129713., 129746.,\n",
       "              129913., 132048., 133805., 133806., 133816., 133849., 133885.,\n",
       "              136850., 137885., 138018., 138118., 138651., 140219., 140286.,\n",
       "              140453., 140489., 140553., 140619., 140653., 140686., 142922.,\n",
       "              142987., 143587., 144021., 144255., 145090., 146323., 147090.,\n",
       "              148557., 149357., 150792., 155194., 157796., 158863., 159163.,\n",
       "              160997., 163565., 164068., 165034., 165101., 165500., 167701.,\n",
       "              170002., 170202., 174472., 174605., 174905., 175773., 179408.,\n",
       "              180342., 180742., 180776., 180842., 180942., 183076., 184244.,\n",
       "              196384., 196417., 196451., 196484., 196517., 198719., 200386.,\n",
       "              203354., 205289., 207223., 208424., 209158., 209491., 211226.,\n",
       "              211726., 212194., 212293., 214994., 218697., 219797., 219997.,\n",
       "              220064., 220097., 220164., 220231., 220264., 220297., 220331.,\n",
       "              220698., 220766., 223132., 224670., 225335., 226934., 234772.,\n",
       "              235006., 239375., 244878., 246846., 247246., 247546., 250915.]),\n",
       "       array([  5577.,   5743.,   5877.,   6177.,   6911.,   6977.,   7178.,\n",
       "                7812.,   7845.,   8245.,   8512.,   8846.,   8945.,   9179.,\n",
       "               10146.,  10280.,  10846.,  11281.,  12581.,  13014.,  13614.,\n",
       "               14116.,  15115.,  15882.,  16283.,  17484.,  18017.,  18084.,\n",
       "               18550.,  18584.,  19585.,  20018.,  20752.,  23220.,  23253.,\n",
       "               23487.,  23520.,  23787.,  24220.,  24287.,  24787.,  24887.,\n",
       "               25789.,  25888.,  26122.,  26288.,  26622.,  27622.,  27856.,\n",
       "               28089.,  28325.,  29423.,  29490.,  29557.,  29590.,  29924.,\n",
       "               29990.,  31925.,  33059.,  33659.,  34426.,  35794.,  38128.,\n",
       "               38896.,  39296.,  39662.,  39696.,  40430.,  40463.,  41063.,\n",
       "               41698.,  41830.,  41997.,  42231.,  42564.,  43031.,  43098.,\n",
       "               44065.,  44199.,  44433.,  44832.,  45135.,  45466.,  45799.,\n",
       "               48634.,  48868.,  49068.,  50035.,  51102.,  52670.,  54337.,\n",
       "               54971.,  56072.,  56105.,  56639.,  56739.,  57673.,  57706.,\n",
       "               57739.,  58773.,  59907.,  60474.,  60875.,  60941.,  61441.,\n",
       "               62409.,  62776.,  65043.,  66911.,  66978.,  67745.,  68612.,\n",
       "               69447.,  70246.,  70713.,  71014.,  71514.,  71680.,  72348.,\n",
       "               78151.,  78851.,  79251.,  81052.,  81353.,  82286.,  83821.,\n",
       "               83921.,  84988.,  85155.,  85221.,  86555.,  88224.,  88557.,\n",
       "               93293.,  93760.,  97528.,  97929., 106166., 109235., 110769.,\n",
       "              112270., 125677., 130413., 142121., 142420., 142922., 144121.,\n",
       "              144355., 147423., 147757., 147857., 149224., 149291., 157062.,\n",
       "              157365., 157762., 157962., 158629., 159130., 160197., 161564.,\n",
       "              161731., 162165., 162565., 164533., 175006., 175505., 176841.,\n",
       "              177006., 177273., 178107., 178241., 179274., 179441., 180011.,\n",
       "              181009., 182476., 182943., 183076., 183377., 185311., 187979.,\n",
       "              188179., 188313., 189213., 190681., 191351., 192548., 192748.,\n",
       "              193349., 193516., 195151., 196050., 196817., 196992., 197118.,\n",
       "              199021., 199986., 200786., 200926., 201387., 202754., 206223.,\n",
       "              207891., 208891., 210192., 210994., 212593., 212893., 219634.,\n",
       "              222198., 223666., 224733., 224933., 225335., 225433., 225700.,\n",
       "              225767., 226101., 226801., 226968., 227235., 227502., 228035.,\n",
       "              228569., 228669., 229269., 229469., 229603., 229769., 229836.,\n",
       "              230870., 231537., 231737., 232037., 232337., 232804., 240175.,\n",
       "              241380., 241643., 243944., 246345., 260553.])                 ,\n",
       "       array([  2608.,   5210.,   7311.,   7378.,   7411.,   7445.,   7511.,\n",
       "                7745.,   7878.,   7911.,   8111.,   8145.,   8378.,  12214.,\n",
       "               12781.,  14748.,  15350.,  16885.,  18584.,  22153.,  22820.,\n",
       "               29423.,  31991.,  40496.,  43431.,  50135.,  52070.,  52169.,\n",
       "               53970.,  54204.,  58040.,  58173.,  58273.,  59874.,  60007.,\n",
       "               61408.,  63743.,  64512.,  64610.,  64743.,  66811.,  67078.,\n",
       "               67812.,  69546.,  69612.,  70947.,  77517.,  77684.,  77717.,\n",
       "               77750.,  77917.,  78017.,  78384.,  81119.,  81353.,  81686.,\n",
       "               82787.,  83854.,  83987.,  84588.,  85121.,  85155.,  86357.,\n",
       "               86489.,  86555.,  88557.,  93293.,  96361.,  96661.,  96694.,\n",
       "               96728.,  97195.,  98662.,  98962., 102298., 102631., 102665.,\n",
       "              104832., 108568., 108601., 108735., 109101., 110702., 111136.,\n",
       "              111836., 112305., 112337., 112403., 113671., 115906., 116372.,\n",
       "              116439., 116839., 117807., 118507., 123043., 123076., 123243.,\n",
       "              123545., 124343., 124810., 125311., 125911., 127856., 127881.,\n",
       "              130247., 130447., 130614., 130714., 131681., 131748., 131781.,\n",
       "              131814., 135583., 136017., 136117., 136183., 136450., 136784.,\n",
       "              137017., 137151., 137184., 137284., 137317., 137417., 138018.,\n",
       "              138551., 139318., 139886., 142053., 144355., 145355., 147357.,\n",
       "              147757., 153126., 153727., 158763., 163899., 164068., 164266.,\n",
       "              164533., 164599., 164833., 165667., 166067., 166467., 167935.,\n",
       "              169235., 169335., 169403., 169435., 170970., 171003., 171503.,\n",
       "              171637., 173237., 173304., 173338., 173371., 173471., 174805.,\n",
       "              174938., 174972., 175239., 175305., 175339., 175773., 176239.,\n",
       "              176841., 177840., 178707., 179985., 180043., 181776., 182045.,\n",
       "              183643., 185278., 187379., 188279., 188813., 190681., 196817.,\n",
       "              197585., 198352., 199020., 199152., 199686., 199953., 200753.,\n",
       "              200786., 200820., 203588., 208724., 210994., 211759., 214961.,\n",
       "              215396., 215661., 216362., 217196., 218730., 221965., 222098.,\n",
       "              222132., 222165., 224534., 226501., 228035., 229603., 231154.,\n",
       "              231171., 231206., 231437., 231470., 231504., 231537., 231570.,\n",
       "              231604., 231637., 231937., 233071., 233305., 233805., 235706.,\n",
       "              236373., 242143., 242543., 243010., 243911., 244044., 246312.,\n",
       "              250481.])                                                     ,\n",
       "       array([  3311.,   6311.,   7078.,   8945.,  10713.,  10880.,  10913.,\n",
       "               11381.,  11480.,  11913.,  12547.,  12614.,  12781.,  13014.,\n",
       "               13418.,  13815.,  13881.,  13948.,  14116.,  14682.,  14715.,\n",
       "               14815.,  15282.,  16082.,  16183.,  16216.,  16549.,  16583.,\n",
       "               16616.,  17450.,  17484.,  17750.,  17783.,  17950.,  18017.,\n",
       "               18484.,  18517.,  18550.,  19585.,  19718.,  19851.,  20518.,\n",
       "               20618.,  20718.,  21385.,  21419.,  21452.,  21719.,  21786.,\n",
       "               22019.,  22153.,  22186.,  22786.,  22820.,  22886.,  22920.,\n",
       "               22986.,  23020.,  23086.,  23153.,  23186.,  23220.,  24087.,\n",
       "               24120.,  25154.,  25188.,  25221.,  25421.,  25921.,  26221.,\n",
       "               26255.,  26789.,  26955.,  27122.,  27189.,  27222.,  27856.,\n",
       "               27923.,  29423.,  29524.,  29557.,  29590.,  30190.,  30791.,\n",
       "               31158.,  32525.,  32959.,  33092.,  33292.,  33392.,  33559.,\n",
       "               33659.,  33759.,  34161.,  34626.,  34660.,  34893.,  35093.,\n",
       "               35193.,  35727.,  36128.,  36327.,  36395.,  36694.,  37128.,\n",
       "               37862.,  38428.,  40496.,  47300.,  55538.,  55571.,  56072.,\n",
       "               57706.,  57739.,  60374.,  60941.,  61341.,  61475.,  62308.,\n",
       "               65043.,  65077.,  65144.,  69713.,  69846.,  72315.,  74015.,\n",
       "               74982.,  75583.,  76917.,  82987.,  86589.,  87223.,  88190.,\n",
       "               88724.,  89524.,  92159.,  93459.,  94126.,  97195., 113671.,\n",
       "              116906., 120575., 176039., 179341., 188380., 197718., 228735.,\n",
       "              259519.])                                                     ,\n",
       "       array([  4809.,   8245.,   8278.,   8378.,   8445.,   8479.,  10713.,\n",
       "               10846.,  12581.,  13848.,  14649.,  18284.,  22319.,  22489.,\n",
       "               22753.,  31424.,  32458.,  32492.,  32558.,  32692.,  34860.,\n",
       "               35093.,  35560.,  35694.,  35760.,  35927.,  45566.,  45799.,\n",
       "               48201.,  48401.,  54571.,  54637.,  54672.,  54771.,  54904.,\n",
       "               54938.,  54971.,  55138.,  55271.,  55471.,  57973.,  59941.,\n",
       "               63242.,  63442.,  63576.,  63676.,  63709.,  63943.,  63976.,\n",
       "               64009.,  64076.,  64110.,  64344.,  64443.,  64543.,  64610.,\n",
       "               66144.,  66178.,  67178.,  67447.,  67878.,  68346.,  68479.,\n",
       "               82453.,  83087.,  83154.,  84755.,  86656.,  86789.,  87957.,\n",
       "               88056.,  88290.,  88390.,  88457.,  88857.,  88890.,  88957.,\n",
       "               89024., 108001., 108434., 112837., 119408., 120608., 120908.,\n",
       "              121942., 122476., 122876., 125110., 125511., 126378., 128079.,\n",
       "              128312., 128846., 129213., 130347., 130547., 130914., 130947.,\n",
       "              132281., 134983., 137484., 138885., 139018., 139218., 139285.,\n",
       "              141586., 143187., 143454., 146523., 151629., 151892., 152126.,\n",
       "              152393., 152759., 155928., 156461., 157028., 157129., 157829.,\n",
       "              161064., 163966., 168735., 169302., 169636., 170403., 171737.,\n",
       "              172071., 175006., 177740., 178907., 180011., 181509., 183143.,\n",
       "              184144., 184845., 186745., 187946., 189413., 189647., 189847.,\n",
       "              190114., 190247., 190347., 190548., 190647., 190681., 191281.,\n",
       "              191384., 191448., 191715., 192448., 192482., 194684., 194883.,\n",
       "              195617., 195884., 196050., 196150., 198152., 203455., 205256.,\n",
       "              206323., 207624., 208024., 208658., 209558., 210492., 213760.,\n",
       "              217829., 221565., 232771., 233605., 236510., 237274., 239542.,\n",
       "              239642., 240776., 241109., 244378., 245011., 245345., 245878.,\n",
       "              246413., 246712., 249814., 250681., 251315., 251615., 251882.,\n",
       "              252649., 253623., 256451.])                                   ,\n",
       "       array([  2041.,   2141.,   2175.,   2208.,   2241.,   2275.,   8412.,\n",
       "                8546.,  14181.,  14215.,  15916.,  16483.,  17551.,  17617.,\n",
       "               23887.,  23987.,  26388.,  26755.,  26989.,  29057.,  30190.,\n",
       "               30757.,  32592.,  32959.,  33292.,  33526.,  33559.,  36961.,\n",
       "               41497.,  41698.,  45232.,  47267.,  50369.,  50469.,  51736.,\n",
       "               51803.,  62108.,  63743.,  69412.,  69679.,  72281.,  72581.,\n",
       "               74882.,  75983.,  76383.,  76616.,  82787.,  93226.,  94226.,\n",
       "               94260.,  94293.,  94360.,  94493.,  94660.,  94727.,  95027.,\n",
       "               95127.,  95260.,  95530.,  95629.,  96161., 100230., 100830.,\n",
       "              101431., 102865., 103332., 103565., 103698., 104032., 105633.,\n",
       "              107867., 108368., 114271., 116173., 116472., 116572., 118741.,\n",
       "              120608., 121042., 123910., 124745., 129179., 129346., 130780.,\n",
       "              130880., 130947., 134282., 134693., 135917., 139519., 139619.,\n",
       "              139652., 139719., 146656., 146789., 147990., 148257., 149491.,\n",
       "              151698., 151992., 152159., 152192., 152259., 152292., 152359.,\n",
       "              152426., 157762., 166404., 169569., 169602., 169802., 170636.,\n",
       "              171637., 177473., 181042., 181342., 181409., 184212., 186712.,\n",
       "              187846., 187912., 187946., 188046., 188146., 188213., 189447.,\n",
       "              189880., 190214., 190247., 190347., 197651., 201553., 205089.,\n",
       "              205456., 207457., 207891., 208057., 208691., 211692., 221231.,\n",
       "              228702., 230205., 235206., 240609., 240742., 241109., 244878.,\n",
       "              245612., 248714., 249581., 250981., 251148., 251448., 252615.,\n",
       "              253716., 255684., 256584., 258352., 259386.])                 ,\n",
       "       array([  5276.,   8111.,   8179.,   8245.,   8278.,   8311.,   8546.,\n",
       "               10346.,  10580.,  10713.,  10747.,  11381.,  12547.,  13881.,\n",
       "               21419.,  21452.,  22853.,  22886.,  26989.,  32458.,  32525.,\n",
       "               39562.,  43465.,  46700.,  48467.,  53504.,  54571.,  54604.,\n",
       "               54637.,  54672.,  54739.,  55005.,  55071.,  55305.,  55405.,\n",
       "               55438.,  55538.,  57673.,  63242.,  63376.,  63743.,  63809.,\n",
       "               64443.,  64576.,  64676.,  65144.,  66010.,  66646.,  67211.,\n",
       "               67347.,  67612.,  68646.,  71180.,  71247.,  71381.,  71414.,\n",
       "               71447.,  71480.,  71547.,  71781.,  75349.,  77017.,  80619.,\n",
       "               81353.,  86622.,  87489.,  88157.,  88224.,  88724.,  89491.,\n",
       "               89524.,  90658.,  94995.,  95427.,  95662.,  95961.,  96628.,\n",
       "               96728.,  96995.,  99163., 101898., 102431., 112640., 112770.,\n",
       "              112804., 112837., 115539., 119741., 120009., 120642., 120942.,\n",
       "              122476., 124644., 124844., 125878., 126512., 128882., 129113.,\n",
       "              130814., 136984., 139252., 139318., 143721., 147490., 147523.,\n",
       "              150058., 150658., 151460., 152593., 155828., 157262., 165800.,\n",
       "              168402., 168602., 170237., 172004., 172839., 176473., 176940.,\n",
       "              177774., 179985., 180308., 180675., 181576., 183710., 184177.,\n",
       "              186812., 187012., 187612., 187646., 187779., 187846., 189447.,\n",
       "              189547., 189714., 190147., 190180., 194316., 194449., 195316.,\n",
       "              195550., 197618., 197751., 197785., 198185., 202721., 210458.,\n",
       "              216762., 221498., 226468., 228535., 229869., 236340., 237840.,\n",
       "              238241., 238508., 238774., 239542., 240020., 240342., 240475.,\n",
       "              240843., 241009., 241380., 241443., 241743., 242043., 243810.,\n",
       "              243844., 244878., 245546., 246179., 246746., 248380., 248813.,\n",
       "              250817., 251348., 251615., 252384., 252417., 253749., 254116.]),\n",
       "       array([  1841.,   2541.,   2575.,   2608.,   2642.,   2708.,   3742.,\n",
       "                6711.,  21219.,  25921.,  37595.,  37629.,  37728.,  39562.,\n",
       "               41597.,  41964.,  42397.,  42998.,  43031.,  43134.,  43264.,\n",
       "               43798.,  44065.,  47367.,  55738.,  65844.,  66311.,  66882.,\n",
       "               66978.,  67011.,  67078.,  67145.,  70546.,  72581.,  77083.,\n",
       "               80152.,  80819.,  81853.,  83188.,  84154.,  84755.,  86689.,\n",
       "               87189.,  90191.,  90658.,  90758.,  90791.,  90925.,  90958.,\n",
       "               91025.,  91125.,  91325.,  91391.,  91425.,  91492.,  91558.,\n",
       "               91625.,  95794.,  97963.,  97995.,  98029.,  98062.,  99996.,\n",
       "              100597., 102431., 103098., 103765., 105633., 108401., 109602.,\n",
       "              109669., 111469., 113204., 117640., 120208., 122576., 123243.,\n",
       "              124710., 126278., 127679., 128446., 128813., 128948., 129060.,\n",
       "              130447., 130580., 132181., 132214., 132281., 132314., 132348.,\n",
       "              132381., 136817., 138385., 138451., 143155., 146789., 152192.,\n",
       "              160097., 160264., 160598., 160864., 160964., 160997., 161031.,\n",
       "              161531., 161664., 164199., 166667., 168668., 169902., 170136.,\n",
       "              173604., 175105., 176072., 176973., 177240., 179007., 181242.,\n",
       "              181375., 182176., 183076., 183277., 184111., 186645., 189313.,\n",
       "              190514., 192882., 193782., 194850., 200288., 200786., 201420.,\n",
       "              202387., 205289., 206189., 208424., 209392., 210559., 210759.,\n",
       "              215094., 215528., 221631., 222532., 222632., 222799., 225934.,\n",
       "              226267., 228669., 229903., 231206., 231604., 231671., 231804.,\n",
       "              233471., 243377., 247346., 251315., 251882., 256484.])        ,\n",
       "       array([  1841.,   2108.,   2675.,   2908.,   3042.,   3409.,   3876.,\n",
       "                4276.,   4343.,   4443.,   4543.,   5043.,   5143.,   5477.,\n",
       "                5743.,   5843.,   5977.,   6477.,   6544.,   6844.,   7311.,\n",
       "                7611.,   7645.,   7678.,   7745.,   7978.,   8111.,   8445.,\n",
       "                8546.,   8579.,   8612.,   8645.,   9112.,   9145.,   9279.,\n",
       "                9512.,  10113.,  11046.,  11180.,  12047.,  12281.,  12781.,\n",
       "               13147.,  13548.,  14148.,  14215.,  14982.,  15049.,  18651.,\n",
       "               19284.,  19985.,  20152.,  25821.,  26088.,  26388.,  26422.,\n",
       "               26488.,  26555.,  27489.,  27556.,  28123.,  28292.,  28456.,\n",
       "               28490.,  29957.,  29990.,  30358.,  31491.,  31558.,  31625.,\n",
       "               31858.,  32158.,  32192.,  32859.,  33125.,  34259.,  34359.,\n",
       "               34826.,  35227.,  35327.,  35360.,  35560.,  35794.,  36027.,\n",
       "               36528.,  36861.,  37962.,  38528.,  39829.,  40730.,  41063.,\n",
       "               41530.,  42030.,  42231.,  42597.,  42764.,  43031.,  43631.,\n",
       "               43698.,  43998.,  44065.,  44365.,  45115.,  45117.,  48434.,\n",
       "               49368.,  50135.,  50802.,  51102.,  51636.,  52036.,  54704.,\n",
       "               56072.,  57372.,  58106.,  58173.,  59374.,  59540.,  60007.,\n",
       "               60041.,  60608.,  60675.,  61082.,  61609.,  61642.,  61744.,\n",
       "               62609.,  63042.,  63209.,  63509.,  63609.,  64643.,  65244.,\n",
       "               65677.,  65777.,  65877.,  65911.,  66211.,  66344.,  66378.,\n",
       "               66444.,  66511.,  66646.,  66811.,  67044.,  67113.,  67480.,\n",
       "               67546.,  67845.,  68079.,  68178.,  68278.,  70413.,  70514.,\n",
       "               71747.,  72181.,  72381.,  72881.,  72948.,  73415.,  74115.,\n",
       "               74283.,  74449.,  74582.,  75382.,  75416.,  75849.,  76116.,\n",
       "               76284.,  76350.,  77217.,  77484.,  77884.,  78284.,  78686.,\n",
       "               78851.,  79651.,  79818.,  81086.,  81119.,  84988.,  85188.,\n",
       "               86989.,  87189.,  87323.,  87423.,  87990.,  88257.,  88424.,\n",
       "               88490.,  88857.,  89757.,  90124.,  90191.,  90824.,  92326.,\n",
       "               92525.,  92959.,  93527.,  93629.,  93993.,  94927., 108968.,\n",
       "              109235., 109735., 118073., 123312., 124844., 125611., 126611.,\n",
       "              128279., 128346., 133716., 134182., 134282., 134549., 134883.,\n",
       "              135116., 136450., 138918., 139852., 148557., 158229., 158729.,\n",
       "              160997., 166567., 166867., 170636., 175006., 176339., 176906.,\n",
       "              177774., 178374., 178508., 178674., 179308., 179741., 180908.,\n",
       "              181976., 183610., 184644., 185682., 186145., 186412., 187946.,\n",
       "              190814., 194016., 199786., 200386., 204722., 208232., 218530.,\n",
       "              229903., 231671., 231971., 242777., 247479., 258485.])        ,\n",
       "       array([  2241.,   4744.,   5410.,   8712.,  11046.,  18017.,  19551.,\n",
       "               19718.,  21686.,  22620.,  22986.,  26388.,  26655.,  26855.,\n",
       "               29290.,  31091.,  31391.,  37295.,  38096.,  39466.,  40029.,\n",
       "               40563.,  46800.,  50502.,  50569.,  50737.,  51069.,  51302.,\n",
       "               52703.,  53170.,  54571.,  54637.,  59040.,  59540.,  71214.,\n",
       "               71381.,  74749.,  74882.,  75416.,  75483.,  75549.,  75583.,\n",
       "               75616.,  75650.,  75683.,  76751.,  76817.,  76883.,  77717.,\n",
       "               78251.,  82787.,  84888.,  96461.,  98996., 101030., 102698.,\n",
       "              104632., 106033., 106467., 106567., 106634., 106700., 107000.,\n",
       "              107967., 108835., 109268., 109902., 114771., 117973., 120575.,\n",
       "              124710., 125844., 125911., 126411., 129279., 129413., 130380.,\n",
       "              130413., 133215., 133885., 133916., 133949., 137718., 139852.,\n",
       "              140152., 140252., 140286., 140322., 140422., 140519., 140653.,\n",
       "              140686., 147390., 148457., 158629., 161764., 164299., 177407.,\n",
       "              184744., 184911., 189347., 194550., 196992., 197885., 198552.,\n",
       "              199486., 201854., 202020., 202087., 202287., 202888., 204622.,\n",
       "              207457., 211593., 219397., 222098., 224500., 224700., 228268.,\n",
       "              232271., 232404., 239775., 245778., 246879., 247881., 251682.,\n",
       "              256084.])                                                     ,\n",
       "       array([  1875.,   2375.,   7244.,   7278.,   7311.,   7344.,   7411.,\n",
       "                7478.,   7511.,   7545.,   7578.,   7645.,   7678.,  21152.,\n",
       "               21219.,  26555.,  26955.,  26989.,  27022.,  27156.,  28656.,\n",
       "               28790.,  29090.,  37661.,  38096.,  39029.,  43098.,  45332.,\n",
       "               48201.,  56639.,  65043.,  68178.,  69948.,  72548.,  73215.,\n",
       "               73816.,  74849.,  76650.,  78184.,  78985.,  79985.,  80819.,\n",
       "               81786.,  82386.,  84257.,  86789.,  89024.,  89324.,  89390.,\n",
       "               92192.,  93226.,  95228., 101497., 102965., 103665., 104199.,\n",
       "              104532., 105733., 107467., 107934., 116206., 116606., 118073.,\n",
       "              123610., 126111., 127712., 129113., 129713., 132848., 133015.,\n",
       "              133082., 133115., 133248., 136850., 137484., 145389., 146623.,\n",
       "              146789., 147156., 147557., 147590., 147723., 149291., 149324.,\n",
       "              149524., 150158., 151559., 151629., 152026., 152159., 152828.,\n",
       "              153393., 153927., 159163., 159396., 161598., 165567., 166404.,\n",
       "              167386., 169403., 169869., 170169., 171970., 172370., 175639.,\n",
       "              176439., 177441., 181375., 181776., 182343., 182509., 184010.,\n",
       "              184444., 186712., 190347., 190381., 193749., 194383., 196974.,\n",
       "              196992., 198852., 200253., 200786., 203721., 204989., 206389.,\n",
       "              211092., 211259., 211926., 214828., 217429., 217462., 217630.,\n",
       "              217696., 219997., 221532., 222298., 222500., 224933., 226801.,\n",
       "              227034., 228869., 229736., 230272., 230603., 232471., 235139.,\n",
       "              237641., 239908., 243744., 247246., 248180., 248513., 248613.,\n",
       "              249847., 250681., 251948., 253485., 253623., 256451., 256718.,\n",
       "              257618., 259553.])                                            ,\n",
       "       array([  5143.,   7344.,  25588.,  25721.,  35593.,  35727.,  35860.,\n",
       "               35961.,  36528.,  36894.,  37094.,  37194.,  40463.,  41597.,\n",
       "               41630.,  42898.,  43031.,  43134.,  43298.,  43398.,  43465.,\n",
       "               48934.,  49868.,  49968.,  50135.,  50935.,  51035.,  51069.,\n",
       "               52203.,  52837.,  53170.,  53370.,  53970.,  54104.,  54371.,\n",
       "               55771.,  56330.,  57706.,  58140.,  59874.,  63676.,  64276.,\n",
       "               66211.,  66945.,  66978.,  67011.,  67145.,  67178.,  67278.,\n",
       "               67311.,  72948.,  73215.,  73315.,  73381.,  73448.,  76250.,\n",
       "               76350.,  76851.,  77484.,  78719.,  79218.,  79352.,  79752.,\n",
       "               79785.,  80752.,  80953.,  81286.,  83053.,  83487.,  83821.,\n",
       "               85188.,  86357.,  86756.,  87289.,  88624.,  90524.,  90624.,\n",
       "               92459.,  92559.,  93426.,  94093.,  94126.,  96561.,  98162.,\n",
       "               98962., 101764., 106334., 107167., 109002., 110469., 110502.,\n",
       "              112070., 112305., 112337., 114471., 117807., 120575., 121408.,\n",
       "              121575., 121675., 121711., 121975., 123009., 123411., 125711.,\n",
       "              125744., 127345., 127745., 127881., 130114., 131647., 131748.,\n",
       "              134516., 135783., 135984., 136717., 142253., 142656., 143054.,\n",
       "              143654., 144121., 144421., 144456., 147323., 148424., 148524.,\n",
       "              150925., 150992., 151058., 151092., 151192., 155461., 156762.,\n",
       "              156895., 156962., 163332., 164366., 165066., 165233., 165333.,\n",
       "              165400., 165868., 165900., 165934., 166033., 167134., 167168.,\n",
       "              169269., 169802., 171003., 171503., 172537., 173004., 173271.,\n",
       "              173338., 174273., 174371., 174405., 174472., 174572., 178541.,\n",
       "              179984., 180208., 182976., 185244., 185311., 185878., 188913.,\n",
       "              189080., 197151., 200720., 202821., 204088., 206123., 208324.,\n",
       "              210825., 210859., 210994., 211626., 213160., 215061., 220798.,\n",
       "              225534., 226134., 226634., 230870., 233104., 247346., 251248.,\n",
       "              252215., 255751., 255851., 255884., 255918., 256117.])        ,\n",
       "       array([  2608.,   2675.,   2808.,   3209.,   3642.,   4309.,   4343.,\n",
       "                4409.,   4443.,   4609.,   4809.,   6210.,   6544.,   7678.,\n",
       "                8945.,   9112.,  12248.,  14181.,  17183.,  18617.,  19251.,\n",
       "               24854.,  24954.,  26422.,  28397.,  34826.,  35160.,  35193.,\n",
       "               35260.,  35395.,  35760.,  37361.,  38195.,  38228.,  38696.,\n",
       "               40463.,  40930.,  41030.,  41063.,  41097.,  41163.,  41263.,\n",
       "               41297.,  41497.,  41597.,  46333.,  47100.,  47700.,  47767.,\n",
       "               47967.,  48234.,  48367.,  48768.,  49535.,  50935.,  51035.,\n",
       "               51602.,  51769.,  52303.,  53737.,  53837.,  53937.,  54004.,\n",
       "               54171.,  54404.,  54672.,  54804.,  56105.,  56175.,  57739.,\n",
       "               58106.,  58173.,  59774.,  60841.,  60941.,  63709.,  63743.,\n",
       "               70446.,  71080.,  71314.,  72081.,  72381.,  74449.,  74982.,\n",
       "               75349.,  75849.,  76150.,  76216.,  76350.,  77150.,  77584.,\n",
       "               77717.,  77884.,  78051.,  78217.,  78819.,  79818.,  81186.,\n",
       "               81353.,  81586.,  82053.,  82322.,  83087.,  86389.,  88457.,\n",
       "               89724.,  89922.,  89991.,  90024., 101230., 101797., 104866.,\n",
       "              107467., 111438., 111570., 112370., 112837., 112937., 116439.,\n",
       "              117873., 118345., 120510., 120575., 122542., 124844., 125377.,\n",
       "              128145., 131581., 131714., 131781., 131881., 131948., 132148.,\n",
       "              134084., 135616., 139385., 143454., 144288., 145389., 146656.,\n",
       "              148124., 149158., 149558., 153993., 156028., 156195., 158163.,\n",
       "              159830., 160931., 161097., 161131., 164466., 165166., 167001.,\n",
       "              171637., 172237., 174505., 174538., 174572., 177441., 178407.,\n",
       "              179207., 179441., 179774., 179985., 181943., 183443., 183810.,\n",
       "              187379., 187512., 189747., 192282., 196651., 196851., 197218.,\n",
       "              197484., 199819., 206656., 206723., 206790., 206823., 208324.,\n",
       "              209291., 209691., 209791., 209958., 210092., 210358., 218330.,\n",
       "              218730., 218763., 220766., 221898., 223034., 223167., 224603.,\n",
       "              224700., 224767., 225101., 227735., 228035., 233205., 233305.,\n",
       "              234372., 242350., 242710., 242943., 246546., 246780., 246846.,\n",
       "              246946., 247112., 248613., 249214., 249514., 250548., 252282.,\n",
       "              252882., 253016., 254116., 254483., 254550., 254683., 254717.,\n",
       "              254818., 254883., 254950., 255117., 255284., 255350., 256374.,\n",
       "              256818., 258720., 259486., 259853.])                          ,\n",
       "       array([  1674.,   1808.,   2508.,   2775.,   3809.,   7011.,   7044.,\n",
       "                7078.,  15782.,  26288.,  26555.,  27756.,  28228.,  34526.,\n",
       "               39530.,  41564.,  42397.,  42497.,  42998.,  43031.,  43164.,\n",
       "               43231.,  43298.,  44065.,  44098.,  47467.,  47868.,  54672.,\n",
       "               55271.,  55838.,  60741.,  65344.,  65877.,  66678.,  66945.,\n",
       "               67011.,  67044.,  67113.,  71247.,  74015.,  79185.,  80285.,\n",
       "               80419.,  80752.,  81786.,  83454.,  84521.,  87256.,  87856.,\n",
       "               90191.,  90925.,  91158.,  91458.,  91525.,  94027.,  97963.,\n",
       "               97995.,  98029.,  98062.,  98095.,  98162., 101364., 103165.,\n",
       "              104999., 105666., 105733., 107734., 109302., 109402., 109835.,\n",
       "              109868., 112438., 113837., 121008., 121842., 121875., 122576.,\n",
       "              123743., 124977., 126244., 126578., 128179., 128512., 128612.,\n",
       "              128779., 128882., 129980., 130247., 132014., 132581., 133082.,\n",
       "              134316., 135950., 138351., 138451., 138485., 138518., 138651.,\n",
       "              138818., 138885., 138952., 142487., 142824., 143155., 143421.,\n",
       "              144555., 144988., 146689., 147723., 148057., 148957., 149424.,\n",
       "              151662., 152126., 152526., 152893., 153260., 153993., 155294.,\n",
       "              155594., 160430., 160997., 161064., 161598., 161664., 161831.,\n",
       "              164666., 165500., 166435., 166700., 167834., 167901., 168636.,\n",
       "              170769., 172737., 172804., 173604., 173738., 175006., 175839.,\n",
       "              176373., 178341., 179041., 179141., 182211., 183743., 186145.,\n",
       "              186245., 186412., 187846., 189280., 192782., 192982., 193382.,\n",
       "              193649., 193982., 197651., 199119., 202487., 202921., 203655.,\n",
       "              208424., 210492., 210559., 210659., 211059., 220464., 222565.,\n",
       "              222699., 226001., 226835., 228869., 229035., 229769., 229836.,\n",
       "              229969., 230103., 231154., 231206., 231470., 231671., 233471.,\n",
       "              235106., 235773., 237674., 237741., 240108., 241343., 241543.,\n",
       "              243277., 247746., 248014., 248380., 251615., 253585., 256551.,\n",
       "              257418.])                                                     ,\n",
       "       array([  2642.,   4643.,  14482.,  15816.,  18517.,  20552.,  20852.,\n",
       "               21019.,  21219.,  24387.,  25655.,  25721.,  28358.,  33259.,\n",
       "               36727.,  37161.,  39530.,  39930.,  41497.,  41597.,  41630.,\n",
       "               42330.,  43031.,  43098.,  43198.,  43264.,  43331.,  43565.,\n",
       "               43932.,  44032.,  47600.,  56739.,  65043.,  66244.,  66911.,\n",
       "               66978.,  67011.,  67044.,  67113.,  67145.,  77017.,  79418.,\n",
       "               84291.,  84454.,  85956.,  86589.,  90191.,  90691.,  90991.,\n",
       "               91092.,  92159.,  93393.,  94060.,  94627.,  95994.,  96995.,\n",
       "               97061.,  98029.,  98162.,  99863., 105066., 105567., 107801.,\n",
       "              108434., 109669., 109702., 113370., 115539., 116939., 122576.,\n",
       "              122843., 124910., 126145., 127145., 128379., 128746., 129947.,\n",
       "              130814., 132181., 132314., 134149., 136050., 137451., 143155.,\n",
       "              143254., 143354., 146623., 147423., 151460., 152026., 152459.,\n",
       "              153393., 155594., 155628., 158030., 160964., 160997., 161498.,\n",
       "              161598., 161731., 164366., 167134., 167202., 167768., 168587.,\n",
       "              169836., 169969., 171870., 172637., 175039., 175672., 176740.,\n",
       "              178207., 179241., 179308., 180342., 181275., 181309., 183910.,\n",
       "              184377., 184544., 185645., 186012., 188579., 190581., 200320.,\n",
       "              201620., 202721., 204088., 204155., 206223., 208357., 208491.,\n",
       "              208591., 208724., 210492., 215298., 220766., 222500., 222565.,\n",
       "              222666., 231154., 231470., 231570., 231704., 231737., 231771.,\n",
       "              234510., 236510., 236612., 256518.])                          ,\n",
       "       array([  2875.,   4476.,   5910.,   6677.,  13181.,  13481.,  14181.,\n",
       "               14515.,  14615.,  14649.,  14715.,  14782.,  14982.,  15616.,\n",
       "               16817.,  18818.,  19384.,  19885.,  22453.,  22753.,  22820.,\n",
       "               22920.,  23020.,  23186.,  23220.,  24087.,  24154.,  24854.,\n",
       "               26422.,  26522.,  28424.,  35227.,  35260.,  35460.,  35593.,\n",
       "               36494.,  37028.,  37561.,  39129.,  41063.,  41163.,  41297.,\n",
       "               41530.,  41730.,  43798.,  43898.,  44232.,  45115.,  45799.,\n",
       "               48467.,  48735.,  48834.,  48901.,  49168.,  49468.,  50168.,\n",
       "               50402.,  52336.,  52603.,  53203.,  53837.,  54037.,  54771.,\n",
       "               55005.,  56209.,  56348.,  58073.,  58273.,  59540.,  59941.,\n",
       "               60708.,  60908.,  61542.,  62975.,  63309.,  63376.,  63476.,\n",
       "               63576.,  63609.,  63943.,  65277.,  65777.,  65844.,  65877.,\n",
       "               66711.,  67845.,  68278.,  68312.,  71047.,  71314.,  73281.,\n",
       "               73448.,  74682.,  74715.,  74782.,  76751.,  77450.,  78284.,\n",
       "               81619.,  82253.,  84021.,  85121.,  86357.,  87957.,  88224.,\n",
       "               88457.,  88490.,  89757.,  90124.,  90158.,  91492.,  92392.,\n",
       "              106634., 107067., 107301., 108201., 109235., 109302., 110269.,\n",
       "              111503., 112305., 112597., 112870., 112970., 113604., 113837.,\n",
       "              114838., 115472., 115939., 116506., 120575., 123346., 126878.,\n",
       "              128412., 131914., 135083., 135616., 135984., 136183., 138952.,\n",
       "              139118., 139252., 139318., 139385., 139419., 139752., 139919.,\n",
       "              140052., 140119., 140453., 140786., 140919., 141254., 141453.,\n",
       "              141887., 142121., 143487., 144154., 156095., 156328., 158863.,\n",
       "              159163., 160997., 161564., 162632., 163999., 164566., 164799.,\n",
       "              165034., 165333., 165633., 165733., 165833., 166167., 166600.,\n",
       "              169369., 170636., 172804., 178274., 178442., 179374., 179474.,\n",
       "              179774., 190147., 190347., 190414., 192715., 192782., 192915.,\n",
       "              193015., 193049., 193182., 193349., 193416., 193916., 194316.,\n",
       "              194950., 195151., 197151., 197351., 198252., 199986., 200386.,\n",
       "              200689., 200786., 200820., 200954., 201020., 201087., 201320.,\n",
       "              201553., 201587., 201920., 202087., 202287., 202521., 202954.,\n",
       "              203955., 204722., 205055., 206223., 209725., 209858., 210092.,\n",
       "              210325., 211392., 211559., 211926., 217229., 218330., 218697.,\n",
       "              218830., 219097., 219698., 221164., 225767., 226101., 226868.,\n",
       "              227034., 227201., 227335., 228169., 229035., 229369., 230036.,\n",
       "              232004., 242510., 242910., 243344., 244077., 247513., 252849.,\n",
       "              254717., 254850., 255284., 255384., 255784., 256151., 259353.,\n",
       "              259953.])                                                     ,\n",
       "       array([  1808.,   3543.,   7244.,   7344.,   7545.,  21186.,  21286.,\n",
       "               26555.,  28523.,  29890.,  30224.,  32658.,  33425.,  34493.,\n",
       "               34560.,  36694.,  37629.,  37695.,  38763.,  39029.,  40563.,\n",
       "               41997.,  42364.,  45299.,  45400.,  45599.,  45799.,  47100.,\n",
       "               48101.,  51969.,  52203.,  52403.,  56639.,  61945.,  62175.,\n",
       "               65077.,  65944.,  69846.,  72381.,  72548.,  72648.,  72781.,\n",
       "               73615.,  74849.,  76616.,  76817.,  77584.,  79185.,  79285.,\n",
       "               79785.,  83354.,  86789.,  91892.,  92559.,  93459.,  94393.,\n",
       "               95194.,  95994.,  98496.,  99263., 101631., 103098., 103432.,\n",
       "              103698., 104399., 105733., 105866., 106833., 107834., 116306.,\n",
       "              118874., 119174., 119908., 123576., 124310., 125110., 126678.,\n",
       "              127145., 129447., 132948., 133015., 133048., 133082., 133115.,\n",
       "              133148., 133182., 141320., 143654., 146589., 146756., 148157.,\n",
       "              149191., 149558., 149958., 150358., 150458., 151460., 151892.,\n",
       "              153293., 153860., 156095., 158996., 159273., 163265., 164966.,\n",
       "              167701., 170036., 170503., 170569., 171603., 172037., 175542.,\n",
       "              177273., 177373., 178374., 182076., 182309., 184778., 186612.,\n",
       "              190514., 190881., 192448., 193349., 193582., 200786., 203154.,\n",
       "              205656., 206723., 208891., 209858., 211593., 211926., 212093.,\n",
       "              217496., 217596., 218196., 219097., 219330., 219698., 220231.,\n",
       "              220864., 222032., 222098., 223867., 225335., 226901., 227068.,\n",
       "              228735., 230470., 232471., 233171., 233540., 234510., 239041.,\n",
       "              240676., 242350., 245478., 248513., 249514., 250214., 250648.,\n",
       "              251015., 251281., 253623., 254984., 256451.])                 ,\n",
       "       array([  2308.,   2508.,   3842.,   4243.,   6611.,   6877.,   7078.,\n",
       "                7111.,   7278.,   7378.,   7445.,   7545.,   7578.,   7812.,\n",
       "                8011.,  25755.,  25921.,  26322.,  26388.,  26422.,  26589.,\n",
       "               26689.,  27622.,  28424.,  30991.,  31358.,  32692.,  33292.,\n",
       "               33659.,  34693.,  34993.,  35427.,  37661.,  37795.,  42197.,\n",
       "               43065.,  43498.,  43998.,  44165.,  44732.,  45332.,  47067.,\n",
       "               47267.,  48334.,  49001.,  49034.,  49368.,  49635.,  49668.,\n",
       "               49735.,  49768.,  49902.,  50068.,  50102.,  53370.,  55972.,\n",
       "               56105.,  59240.,  59874.,  59941.,  60007.,  60174.,  60207.,\n",
       "               60274.,  60374.,  62942.,  63342.,  64610.,  65310.,  65510.,\n",
       "               65744.,  66444.,  66545.,  67245.,  67413.,  67480.,  67512.,\n",
       "               68812.,  68882.,  70413.,  71280.,  71414.,  72281.,  72348.,\n",
       "               72881.,  73112.,  73281.,  73682.,  73748.,  75650.,  75849.,\n",
       "               77517.,  78654.,  79352.,  79651.,  81086.,  81353.,  84521.,\n",
       "               87823.,  87957.,  88090.,  88224.,  90324.,  92259.,  92392.,\n",
       "               93862.,  94060.,  94160.,  94260.,  94527.,  94860., 100130.,\n",
       "              100730., 101364., 101597., 103965., 108368., 108735., 109135.,\n",
       "              110163., 110235., 111236., 111536., 111903., 112305., 112837.,\n",
       "              113937., 114705., 114938., 115073., 116539., 121842., 121909.,\n",
       "              122309., 124510., 124844., 124878., 132515., 137885., 138885.,\n",
       "              139318., 140453., 141086., 141254., 142893., 143155., 143254.,\n",
       "              143854., 144088., 144255., 144288., 146189., 147557., 147590.,\n",
       "              151592., 152559., 152828., 153326., 153993., 154394., 154560.,\n",
       "              155027., 155429., 155528., 156828., 157062., 159830., 161698.,\n",
       "              162365., 163632., 163932., 164199., 164433., 164599., 165366.,\n",
       "              165567., 166000., 166391., 167901., 167935., 169135., 169369.,\n",
       "              170202., 170237., 174505., 174938., 176940., 181342., 182009.,\n",
       "              183076., 183877., 186111., 186245., 187612., 188013., 192782.,\n",
       "              192815., 192982., 200288., 200786., 201453., 202421., 202655.,\n",
       "              203188., 207357., 207524., 209491., 210559., 211059., 215161.,\n",
       "              218296., 227235., 227668., 229769., 231154., 232271., 232871.,\n",
       "              233438., 233571., 234372., 235806., 237874., 238808., 241543.,\n",
       "              241643., 242576., 243010., 244378., 248647., 250481., 250648.,\n",
       "              252449., 254583., 254917., 255818., 259119., 260553.])        ,\n",
       "       array([  5210.,   6044.,   6077.,   6977.,   7111.,   7445.,   7678.,\n",
       "                7778.,  23053.,  23420.,  23787.,  25655.,  25721.,  42998.,\n",
       "               43264.,  43698.,  46600.,  47367.,  47534.,  52303.,  56572.,\n",
       "               56639.,  57339.,  57506.,  65611.,  65844.,  67278.,  67712.,\n",
       "               71113.,  71347.,  87056.,  87356.,  88490.,  88557.,  90891.,\n",
       "               94226.,  97662., 101864., 105700., 105866., 107067., 109235.,\n",
       "              118940., 119174., 120074., 120274., 120642., 123243., 133649.,\n",
       "              133949., 134015., 134116., 141186., 141254., 143354., 143521.,\n",
       "              157829., 159363., 159963., 166134., 168301., 170069., 170269.,\n",
       "              170503., 170536., 180342., 186812., 187445., 188946., 192715.,\n",
       "              192949., 198220., 199017., 199021., 199086., 200853., 213927.,\n",
       "              213966., 220197., 220564., 221498., 224568., 224670., 260553.]),\n",
       "       array([  4476.,   7978.,   8979.,   9579.,   9946.,  11314.,  12248.,\n",
       "               12314.,  12480.,  14315.,  15582.,  17049.,  17183.,  17517.,\n",
       "               18284.,  18751.,  24854.,  26388.,  26422.,  28023.,  28325.,\n",
       "               35027.,  37161.,  38096.,  38162.,  38662.,  39296.,  39729.,\n",
       "               42898.,  43031.,  43565.,  45117.,  45167.,  45566.,  45732.,\n",
       "               46633.,  46967.,  48201.,  48801.,  50605.,  52003.,  52169.,\n",
       "               53937.,  57372.,  58207.,  59941.,  60741.,  61141.,  61341.,\n",
       "               62511.,  62675.,  62909.,  63676.,  63743.,  64777.,  66144.,\n",
       "               66646.,  66911.,  66978.,  67245.,  67447.,  67878.,  68746.,\n",
       "               69146.,  69412.,  69447.,  69546.,  69746.,  70680.,  70813.,\n",
       "               71047.,  71080.,  71214.,  73816.,  74082.,  75717.,  75749.,\n",
       "               76817.,  77250.,  77550.,  77617.,  77717.,  77817.,  77884.,\n",
       "               78151.,  78217.,  78551.,  79118.,  80385.,  81186.,  81619.,\n",
       "               82888.,  83053.,  84721.,  86422.,  87289.,  87957.,  88056.,\n",
       "               89791.,  89919.,  89958.,  90258.,  90291.,  91725.,  93393.,\n",
       "               95597.,  98329., 100930., 102564., 105833., 108368., 109002.,\n",
       "              111438., 111636., 111770., 112270., 112904., 113137., 114838.,\n",
       "              115605., 116339., 117206., 121142., 121875., 126978., 127078.,\n",
       "              129279., 129613., 129680., 129746., 131714., 132014., 132048.,\n",
       "              133805., 134749., 135917., 138485., 138818., 138918., 139018.,\n",
       "              139685., 139985., 140489., 140519., 140586., 144188., 145090.,\n",
       "              145323., 146623., 156695., 159096., 160997., 162231., 164499.,\n",
       "              165166., 165200., 169369., 169469., 169869., 170569., 170703.,\n",
       "              171937., 173338., 174472., 174605., 174638., 176573., 177707.,\n",
       "              179174., 179408., 183843., 184511., 194950., 200853., 201087.,\n",
       "              202487., 203455., 205256., 205656., 206056., 206723., 206957.,\n",
       "              209124., 209258., 209891., 210058., 211025., 211192., 211659.,\n",
       "              218630., 218697., 218897., 219330., 220664., 220766., 220864.,\n",
       "              223000., 223366., 224603., 225734., 226535., 227201., 229035.,\n",
       "              229302., 229436., 229937., 233405., 234706., 236106., 238374.,\n",
       "              246780., 246879., 247180., 247279., 248914., 249914., 250681.,\n",
       "              252315., 255150., 255551., 259021., 259519.])                 ,\n",
       "       array([  3008.,   3142.,   3342.,   3442.,   3776.,   3942.,   4476.,\n",
       "                5043.,   5110.,   5877.,   5977.,   7411.,   7611.,   7711.,\n",
       "                7745.,   7911.,   7978.,   8278.,   8546.,   8645.,   8878.,\n",
       "                9112.,   9345.,   9446.,   9979.,  11216.,  12080.,  17049.,\n",
       "               18250.,  18784.,  18818.,  18884.,  19284.,  19351.,  20251.,\n",
       "               21119.,  22586.,  22620.,  23853.,  24320.,  24520.,  25721.,\n",
       "               25755.,  25789.,  25988.,  26055.,  26088.,  26355.,  26422.,\n",
       "               26455.,  26488.,  26522.,  26555.,  27456.,  27489.,  27522.,\n",
       "               28089.,  28158.,  28325.,  28456.,  28490.,  28523.,  28957.,\n",
       "               28990.,  29057.,  29824.,  29924.,  29990.,  30324.,  30591.,\n",
       "               30658.,  30924.,  31558.,  31591.,  31858.,  31925.,  32026.,\n",
       "               32225.,  32825.,  32859.,  33159.,  33259.,  33894.,  34359.,\n",
       "               34393.,  34560.,  35260.,  35360.,  35593.,  35727.,  35794.,\n",
       "               36060.,  36194.,  39162.,  39530.,  39863.,  45400.,  46099.,\n",
       "               46333.,  50402.,  51203.,  51702.,  52636.,  54037.,  55938.,\n",
       "               57106.,  57406.,  57473.,  58406.,  58473.,  58973.,  59374.,\n",
       "               59474.,  59507.,  60007.,  60110.,  60574.,  60641.,  60741.,\n",
       "               61082.,  61642.,  61778.,  61812.,  62008.,  62609.,  62642.,\n",
       "               63176.,  63476.,  63576.,  63976.,  67078.,  67145.,  67480.,\n",
       "               67812.,  67878.,  68245.,  68346.,  68646.,  69079.,  70480.,\n",
       "               74682.,  74782.,  75182.,  75849.,  76116.,  76250.,  76350.,\n",
       "               76416.,  76650.,  77250.,  77484.,  77817.,  78084.,  78318.,\n",
       "               78719.,  78884.,  81152.,  81486.,  81686.,  81919.,  82253.,\n",
       "               82453.,  83554.,  83987.,  84588.,  84621.,  85088.,  85455.,\n",
       "               85956.,  86155.,  86989.,  87156.,  87356.,  87789.,  87990.,\n",
       "               88424.,  88457.,  88490.,  92892., 158329., 160864., 185715.,\n",
       "              223499., 230205., 231771., 232771., 240575., 241743., 256584.,\n",
       "              258219., 258452.])                                            ,\n",
       "       array([  3876.,   5176.,   5977.,   7711.,  10680.,  13317.,  13348.,\n",
       "               14350.,  14382.,  15949.,  16049.,  16450.,  16483.,  17049.,\n",
       "               17283.,  17684.,  17950.,  18317.,  18351.,  18384.,  18417.,\n",
       "               18818.,  18917.,  19318.,  19351.,  19384.,  20518.,  21152.,\n",
       "               21219.,  21252.,  21286.,  21319.,  21619.,  21652.,  21986.,\n",
       "               22019.,  22052.,  22086.,  22119.,  22153.,  22286.,  22353.,\n",
       "               22620.,  22653.,  23887.,  23954.,  24583.,  24591.,  24621.,\n",
       "               24654.,  25588.,  25721.,  25789.,  25821.,  25955.,  26122.,\n",
       "               26455.,  26488.,  26522.,  26555.,  27022.,  27422.,  28490.,\n",
       "               28523.,  28556.,  29057.,  29157.,  29224.,  29257.,  29323.,\n",
       "               30024.,  30624.,  30757.,  30924.,  30991.,  31124.,  31258.,\n",
       "               32658.,  33159.,  33292.,  36060.,  36561.,  55938.,  55972.,\n",
       "               56972.,  57006.,  57139.,  57172.,  57272.,  57372.,  57439.,\n",
       "               57473.,  57572.,  57839.,  58273.,  58473.,  59007.,  59240.,\n",
       "               59974.,  60041.,  60207.,  60641.,  60708.,  61875.,  63209.,\n",
       "               67211.,  67581.,  72581.,  74649.,  74882.,  74982.,  76383.,\n",
       "               82920.,  89224.,  89457.,  89557.,  89624.,  93527.,  94126.,\n",
       "              110235., 120575., 190781., 211993., 222632., 228702., 228735.,\n",
       "              230036., 230205., 232204., 232938., 236612., 241242., 259653.,\n",
       "              259886., 259953.])                                            ,\n",
       "       array([  1841.,   2075.,   2208.,   3008.,   3409.,   3442.,   3776.,\n",
       "                3809.,   3942.,   3976.,   4042.,   4276.,   4409.,   4709.,\n",
       "                4876.,   5110.,   5843.,   5945.,   6578.,   6844.,   7411.,\n",
       "                7445.,   7611.,   7711.,   7745.,   8645.,   9112.,   9479.,\n",
       "               11647.,  12080.,  12281.,  13281.,  14315.,  15916.,  16450.,\n",
       "               17053.,  18250.,  18284.,  18784.,  18818.,  18985.,  19351.,\n",
       "               20251.,  21186.,  22620.,  23853.,  23887.,  24254.,  24420.,\n",
       "               24488.,  24520.,  24591.,  25789.,  26055.,  26455.,  26522.,\n",
       "               28490.,  28523.,  29057.,  29924.,  30024.,  30591.,  30658.,\n",
       "               30791.,  31591.,  36094.,  42597.,  43031.,  43098.,  43565.,\n",
       "               43965.,  44131.,  44199.,  44265.,  44433.,  44899.,  45135.,\n",
       "               49902.,  53637.,  55905.,  55972.,  56175.,  56372.,  56739.,\n",
       "               56805.,  56872.,  56905.,  56972.,  57039.,  57106.,  57372.,\n",
       "               57406.,  57439.,  58273.,  58406.,  58473.,  59007.,  59107.,\n",
       "               59474.,  59540.,  59974.,  60007.,  60641.,  60708.,  60908.,\n",
       "               66978.,  67078.,  67113.,  67480.,  67581.,  67845.,  68079.,\n",
       "               68245.,  68346.,  71647.,  72147.,  72281.,  72681.,  72848.,\n",
       "               73248.,  73648.,  75016.,  79185.,  83254.,  86289.,  86756.,\n",
       "               87289.,  87356.,  87456.,  87690.,  88390.,  88490.,  88857.,\n",
       "               89424.,  89557., 117706., 118407., 127078., 127679., 135683.,\n",
       "              139985., 143821., 147357., 155429., 161698., 172771., 173171.,\n",
       "              179774., 199419., 204522., 206490., 208825., 209425., 212360.,\n",
       "              213561., 213760., 213927., 225303., 225767., 228635., 228735.,\n",
       "              237174., 241410., 245478., 245979., 251181., 259486.])        ,\n",
       "       array([  1975.,   2508.,   2608.,   2642.,   2742.,   2808.,   2908.,\n",
       "                3075.,   3142.,   3209.,   3242.,   3642.,   3675.,   4243.,\n",
       "                4476.,   4776.,   5043.,   5310.,   5543.,   5710.,   5810.,\n",
       "                5843.,   5877.,   6110.,   6244.,   6578.,   6644.,   6677.,\n",
       "                7078.,   7178.,   7311.,   7578.,   7645.,   7711.,   7911.,\n",
       "                8011.,   8445.,   8479.,   8512.,   8612.,   8945.,   9846.,\n",
       "                9913.,   9979.,  11580.,  11613.,  12147.,  12414.,  12714.,\n",
       "               13047.,  13114.,  13548.,  14116.,  14148.,  14181.,  14915.,\n",
       "               15049.,  15816.,  17150.,  18284.,  18617.,  18684.,  18717.,\n",
       "               18751.,  18784.,  18851.,  18884.,  18917.,  19218.,  19284.,\n",
       "               19585.,  19651.,  19851.,  20152.,  20218.,  20318.,  20352.,\n",
       "               22553.,  23821.,  23887.,  24320.,  24354.,  24821.,  24854.,\n",
       "               24922.,  26288.,  26388.,  26422.,  26488.,  26555.,  26622.,\n",
       "               27522.,  28089.,  28325.,  28456.,  29724.,  29990.,  30090.,\n",
       "               31591.,  31858.,  32158.,  32959.,  36060.,  38228.,  38395.,\n",
       "               38496.,  40996.,  42431.,  42764.,  43898.,  54337.,  55638.,\n",
       "               56439.,  56505.,  57272.,  57640.,  57673.,  57906.,  58006.,\n",
       "               58207.,  58307.,  58406.,  58507.,  59074.,  59874.,  61375.,\n",
       "               62975.,  65210.,  68882.,  70813.,  71347.,  71781.,  72014.,\n",
       "               72214.,  72315.,  72381.,  72481.,  72581.,  72816.,  72981.,\n",
       "               78787.,  82653.,  82820.,  82853.,  84821.,  84988.,  88323.,\n",
       "               88490.,  88557.,  93493.,  93596., 101997., 102431., 111503.,\n",
       "              112170., 112370., 113604., 113937., 114371., 115605., 116806.,\n",
       "              117706., 120575., 123243., 123977., 136017., 147156., 147624.,\n",
       "              148490., 157762., 160564., 165967., 166934., 171603., 173038.,\n",
       "              173604., 200420., 201854., 206289., 209225., 225335., 225767.,\n",
       "              228635., 228702., 229903., 230036., 237307., 241109., 258956.]),\n",
       "       array([  1808.,   2008.,   2375.,   2608.,   2642.,   4376.,  10415.,\n",
       "               10513.,  12214.,  12480.,  13881.,  14281.,  14350.,  16416.,\n",
       "               16783.,  17150.,  17250.,  18751.,  18951.,  20218.,  21019.,\n",
       "               21219.,  21319.,  22353.,  23053.,  23389.,  23987.,  24120.,\n",
       "               24387.,  24922.,  25354.,  25488.,  26522.,  27389.,  28056.,\n",
       "               28523.,  28990.,  29157.,  29724.,  30124.,  30291.,  32158.,\n",
       "               32225.,  36928.,  37561.,  41930.,  42097.,  44465.,  45135.,\n",
       "               46133.,  46266.,  52136.,  53770.,  55771.,  56327.,  68312.,\n",
       "               68545.,  68779.,  70213.,  70613.,  77750.,  78251.,  78351.,\n",
       "               79918.,  81753.,  85421.,  90558.,  91792.,  93059.,  94327.,\n",
       "               94693.,  94894.,  95060.,  95127.,  95768.,  95894.,  99296.,\n",
       "              100697., 100930., 101731., 102331., 103465., 105066., 107434.,\n",
       "              108001., 108335., 111770., 112704., 114571., 114871., 116939.,\n",
       "              118073., 118640., 119310., 120875., 121975., 122042., 123977.,\n",
       "              124310., 129070., 129082., 129246., 132148., 132314., 134149.,\n",
       "              134349., 135950., 135984., 137484., 137851., 140086., 140653.,\n",
       "              141420., 145122., 146589., 146689., 147156., 147223., 148024.,\n",
       "              149458., 149991., 151629., 151959., 152059., 153026., 153393.,\n",
       "              153893., 154027., 155194., 155628., 155695., 157929., 158296.,\n",
       "              159330., 163332., 165133., 166700., 167101., 167134., 167302.,\n",
       "              169169., 169802., 170202., 170736., 172237., 172839., 174972.,\n",
       "              178407., 179207., 180342., 181409., 181809., 181909., 181943.,\n",
       "              185445., 186211., 187612., 187779., 190581., 197618., 198018.,\n",
       "              198819., 200386., 200453., 200586., 202355., 204155., 205289.,\n",
       "              206123., 207090., 207190., 207557., 209091., 209291., 209625.,\n",
       "              210392., 210525., 211125., 215528., 217429., 219600., 219964.,\n",
       "              221064., 221131., 223933., 226801., 233104., 235573., 236040.,\n",
       "              238908., 239241., 242710., 243277., 244412., 246812., 247679.,\n",
       "              247813., 248346., 248547., 249714., 250014., 250681., 252649.,\n",
       "              254850., 256618., 258619., 260320.])                          ,\n",
       "       array([  5210.,  66678.,  70947.,  75849.,  76083.,  76216.,  76483.,\n",
       "               76516.,  76684.,  76817.,  76851.,  76950.,  77284.,  77350.,\n",
       "               77387.,  77550.,  77651.,  77851.,  77917.,  77951.,  77984.,\n",
       "               78117.,  78217.,  78518.,  78754.,  78787.,  78851.,  78884.,\n",
       "               78985.,  79185.,  80752.,  81119.,  81186.,  81219.,  81252.,\n",
       "               81286.,  81319.,  81353.,  81386.,  81419.,  81455.,  81486.,\n",
       "               81519.,  81553.,  81586.,  81619.,  81653.,  81686.,  81753.,\n",
       "               81786.,  81819.,  81853.,  81887.,  81953.,  81986.,  82020.,\n",
       "               82053.,  82086.,  82186.,  82253.,  82286.,  82322.,  82353.,\n",
       "               82386.,  82420.,  82520.,  82620.,  82653.,  82687.,  82720.,\n",
       "               82753.,  82787.,  82820.,  82888.,  82920.,  83087.,  83154.,\n",
       "               83220.,  83254.,  83321.,  83387.,  83520.,  83554.,  83587.,\n",
       "               83654.,  83687.,  83721.,  83754.,  83787.,  83821.,  83854.,\n",
       "               83887.,  83921.,  83954.,  83987.,  84021.,  84054.,  84087.,\n",
       "               84121.,  84154.,  84187.,  84224.,  84257.,  84291.,  84325.,\n",
       "               84356.,  84389.,  84422.,  84454.,  84488.,  84521.,  84554.,\n",
       "               84588.,  84621.,  84654.,  84688.,  84721.,  84755.,  84788.,\n",
       "               84821.,  84855.,  84888.,  84921.,  84955.,  84988.,  85021.,\n",
       "               85055.,  85121.,  85155.,  85188.,  85221.,  85255.,  85288.,\n",
       "               85322.,  85355.,  85421.,  85455.,  85488.,  85555.,  85588.,\n",
       "               85622.,  85655.,  85722.,  85822.,  85855.,  85922.,  86022.,\n",
       "               86055.,  86089.,  86255.,  86322.,  86389.,  86422.,  86455.,\n",
       "               86489.,  86523.,  87022.,  87056.,  87089.,  87122.,  87189.,\n",
       "               87289.,  87389.,  87589.,  87656.,  87690.,  87723.,  87789.,\n",
       "               87823.,  87890.,  87923.,  87957.,  87990.,  88024.,  88056.,\n",
       "               88123.,  88190.,  88224.,  88257.,  88290.,  88323.,  88357.,\n",
       "               88390.,  88457.,  88557.,  88591.,  88624.,  88657.,  88690.,\n",
       "               88724.,  88757.,  88790.,  88824.,  88857.,  88890.,  88957.,\n",
       "               88991.,  89024.,  89057.,  89091.,  89124.,  89157.,  89190.,\n",
       "               89224.,  89257.,  89291.,  89324.,  89357.,  89390.,  89424.,\n",
       "               89491.,  89524.,  89591.,  89657.,  89691.,  89724.,  89919.,\n",
       "               89922.,  89930.,  89958.,  89991.,  90058.,  90224.,  90291.,\n",
       "               90324.,  90358.,  90391.,  90458.,  90491.,  90524.,  90558.,\n",
       "               90591.,  90624.,  90658.,  90725.,  90824.,  90891.,  90958.,\n",
       "               90991.,  91125.,  91158.,  91191.,  91225.,  91294.,  91325.,\n",
       "               91391.,  91425.,  91458.,  91492.,  91558.,  91592.,  91625.,\n",
       "               91658.,  91692.,  91725.,  91758.,  91792.,  91827.,  91858.,\n",
       "               91892.,  91925.,  91959.,  91992.,  92025.,  92059.,  92092.,\n",
       "               92126.,  92159.,  92192.,  92259.,  92392.,  92459.,  92525.,\n",
       "               92592.,  92626.,  92692.,  92759.,  92859.,  92926.,  93026.,\n",
       "               93059.,  93094.,  93126.,  93193.,  93259.,  93293.,  93326.,\n",
       "               93359.,  93393.,  93459.,  93527.,  93563.,  93596.,  93660.,\n",
       "               93726.,  93837.,  93862.,  93893.,  93960.,  94126.,  94160.,\n",
       "               94193.,  94260.,  94293.,  94760.,  94860.,  95027.,  95160.,\n",
       "               95260.,  95360.,  95662.,  95827.,  95861.,  96261.,  96328.,\n",
       "               96428.,  96461.,  96528.,  96594.,  96628.,  96661.,  96694.,\n",
       "               96761.,  96895.,  96961.,  97095.,  97895., 118474., 200420.,\n",
       "              229969., 258385., 258485., 260020., 260153.])                 ,\n",
       "       array([ 13581.,  18017.,  18550.,  18584.,  23220.,  25188.,  27222.,\n",
       "               27255.,  29590.,  40496.,  57706.,  57739.,  61475.,  69879.,\n",
       "               74916.,  86555.,  87756.,  88757., 108735., 110569., 135616.,\n",
       "              137417., 172637., 178241., 210959., 210994., 220331.])        ,\n",
       "       array([ 13081.,  16684.,  17484.,  18017.,  18584.,  20752.,  20785.,\n",
       "               23220.,  23520.,  25188.,  25221.,  25254.,  27222.,  27255.,\n",
       "               29557.,  29590.,  29657.,  32625.,  37261.,  40463.,  40496.,\n",
       "               40530.,  44832.,  57706.,  57739.,  59841.,  60374.,  61408.,\n",
       "               61508.,  62242.,  65178.,  68912.,  70213.,  70346.,  86555.,\n",
       "               86589.,  86622.,  86656.,  88757., 135616., 137417., 172637.,\n",
       "              178241., 178274., 195350., 210859., 210994., 217362., 221832.,\n",
       "              227168., 228669., 233438., 257318.])                          ,\n",
       "       array([ 12547.,  18584.,  20752.,  23220.,  25188.,  27222.,  27255.,\n",
       "               29590.,  32325.,  40496.,  45135.,  57739.,  59741.,  61475.,\n",
       "               65178.,  68846.,  86555.,  86589.,  96694.,  99463., 120541.,\n",
       "              135616., 137417., 172637., 178241., 210859., 210994.])        ],\n",
       "      dtype=object)"
      ]
     },
     "execution_count": 12,
     "metadata": {},
     "output_type": "execute_result"
    }
   ],
   "source": [
    "np.array(spike_times, dtype = object)"
   ]
  },
  {
   "cell_type": "code",
   "execution_count": 27,
   "metadata": {},
   "outputs": [
    {
     "data": {
      "text/plain": [
       "(1347, 85)"
      ]
     },
     "execution_count": 27,
     "metadata": {},
     "output_type": "execute_result"
    }
   ],
   "source": [
    "neural_data.shape"
   ]
  },
  {
   "cell_type": "code",
   "execution_count": 29,
   "metadata": {},
   "outputs": [
    {
     "data": {
      "text/plain": [
       "(array([   0,    0,    0, ..., 1294, 1294, 1294], dtype=int64),\n",
       " array([19, 43, 51, ..., 57, 73, 74], dtype=int64))"
      ]
     },
     "execution_count": 29,
     "metadata": {},
     "output_type": "execute_result"
    }
   ],
   "source": [
    "np.where(neural_data >0 )"
   ]
  },
  {
   "cell_type": "code",
   "execution_count": 42,
   "metadata": {},
   "outputs": [
    {
     "data": {
      "text/plain": [
       "[<matplotlib.lines.Line2D at 0x17fd4fae370>]"
      ]
     },
     "execution_count": 42,
     "metadata": {},
     "output_type": "execute_result"
    },
    {
     "data": {
      "image/png": "[encoded data removed]",
      "text/plain": [
       "<Figure size 432x288 with 1 Axes>"
      ]
     },
     "metadata": {
      "needs_background": "light"
     },
     "output_type": "display_data"
    }
   ],
   "source": [
    "plt.plot(neural_data[:,4])"
   ]
  },
  {
   "cell_type": "code",
   "execution_count": 38,
   "metadata": {},
   "outputs": [
    {
     "data": {
      "text/plain": [
       "(1347, 85)"
      ]
     },
     "execution_count": 38,
     "metadata": {},
     "output_type": "execute_result"
    }
   ],
   "source": [
    "neural_data.shape"
   ]
  },
  {
   "cell_type": "code",
   "execution_count": 49,
   "metadata": {},
   "outputs": [
    {
     "data": {
      "text/plain": [
       "(1347, 2)"
      ]
     },
     "execution_count": 49,
     "metadata": {},
     "output_type": "execute_result"
    }
   ],
   "source": [
    "pos_binned.numpy.expand_dims"
   ]
  },
  {
   "cell_type": "code",
   "execution_count": 108,
   "metadata": {},
   "outputs": [
    {
     "data": {
      "text/plain": [
       "72"
      ]
     },
     "execution_count": 108,
     "metadata": {},
     "output_type": "execute_result"
    }
   ],
   "source": [
    "num_nrns"
   ]
  },
  {
   "cell_type": "code",
   "execution_count": 477,
   "metadata": {},
   "outputs": [
    {
     "data": {
      "text/plain": [
       "array([  1,   1,   1, ..., 144, 144, 144])"
      ]
     },
     "execution_count": 477,
     "metadata": {},
     "output_type": "execute_result"
    }
   ],
   "source": [
    "behav_nodes_interpolated"
   ]
  },
  {
   "cell_type": "code",
   "execution_count": 479,
   "metadata": {},
   "outputs": [
    {
     "ename": "AttributeError",
     "evalue": "'numpy.ndarray' object has no attribute 'expand_dims'",
     "output_type": "error",
     "traceback": [
      "\u001b[1;31m---------------------------------------------------------------------------\u001b[0m",
      "\u001b[1;31mAttributeError\u001b[0m                            Traceback (most recent call last)",
      "\u001b[1;32m<ipython-input-479-4182531f79c2>\u001b[0m in \u001b[0;36m<module>\u001b[1;34m\u001b[0m\n\u001b[1;32m----> 1\u001b[1;33m \u001b[0mbehav_nodes_interpolated\u001b[0m\u001b[1;33m.\u001b[0m\u001b[0mexpand_dims\u001b[0m\u001b[1;33m\u001b[0m\u001b[1;33m\u001b[0m\u001b[0m\n\u001b[0m",
      "\u001b[1;31mAttributeError\u001b[0m: 'numpy.ndarray' object has no attribute 'expand_dims'"
     ]
    }
   ],
   "source": [
    "behav_nodes_interpolated.expand_dims"
   ]
  },
  {
   "cell_type": "code",
   "execution_count": 598,
   "metadata": {},
   "outputs": [
    {
     "data": {
      "text/plain": [
       "array([[  7.62149533,   6.21028037, 383.02803738, 368.09345794]])"
      ]
     },
     "execution_count": 598,
     "metadata": {},
     "output_type": "execute_result"
    }
   ],
   "source": [
    "behav_mat['behav']['ROI'][0][0]"
   ]
  },
  {
   "cell_type": "code",
   "execution_count": 600,
   "metadata": {},
   "outputs": [
    {
     "data": {
      "text/plain": [
       "array([100], dtype=uint8)"
      ]
     },
     "execution_count": 600,
     "metadata": {},
     "output_type": "execute_result"
    }
   ],
   "source": [
    "behav_mat['behav']['trackLength'][0][0][0]"
   ]
  },
  {
   "cell_type": "code",
   "execution_count": null,
   "metadata": {},
   "outputs": [],
   "source": []
  }
 ],
 "metadata": {
  "kernelspec": {
   "display_name": "Python 3",
   "language": "python",
   "name": "python3"
  },
  "language_info": {
   "codemirror_mode": {
    "name": "ipython",
    "version": 3
   },
   "file_extension": ".py",
   "mimetype": "text/x-python",
   "name": "python",
   "nbconvert_exporter": "python",
   "pygments_lexer": "ipython3",
   "version": "3.8.5"
  }
 },
 "nbformat": 4,
 "nbformat_minor": 4
}
