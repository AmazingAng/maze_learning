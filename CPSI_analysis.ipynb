{
 "cells": [
  {
   "cell_type": "code",
   "execution_count": 2,
   "id": "0191fd24",
   "metadata": {},
   "outputs": [],
   "source": [
    "# Retrieve the ratemap data saved from previous code.\n",
    "# Spatial information and\n",
    "import os\n",
    "import pickle\n",
    "import numpy as np\n",
    "import pandas as pd\n",
    "import scipy.stats\n",
    "from tqdm import tqdm\n",
    "import pdb\n",
    "import sklearn.preprocessing\n",
    "import h5py\n",
    "\n",
    "from maze_graph import *\n",
    "\n",
    "# read in a key .xlsx file which contains information of all sessions and all mice.\n",
    "file = pd.read_excel(\"D:\\YSY\\mice_maze_metadata_time_correction.xls\", sheet_name = \"training_recording_new\")  \n",
    "\n",
    "# set the total path for figure saving\n",
    "totalpath = \"D:\\YSY\"\n",
    "\n",
    "# Check whether the file path is existed or not\n",
    "def FindPathOfPRPC(Rec):\n",
    "    totalpath = \"D:\\YSY\"\n",
    "    path = os.path.join(totalpath,str(Rec[0]),str(Rec[1]),\"rate_map_pcrc.pkl\")\n",
    "    if os.path.exists(path):\n",
    "        return path\n",
    "    return \"F\"\n",
    "\n",
    "# Check whether the file path is existed or not\n",
    "def FindPathOfRawRate(Rec):\n",
    "    totalpath = \"D:\\YSY\"\n",
    "    path = os.path.join(totalpath,str(Rec[0]),str(Rec[1]),\"rate_map_all.pkl\")\n",
    "    if os.path.exists(path):\n",
    "        return path\n",
    "    return \"F\"\n",
    "\n",
    "# Check whether the file path is existed or not\n",
    "def FindPathOfTime(Rec):\n",
    "    totalpath = \"D:\\YSY\"\n",
    "    path = os.path.join(totalpath,str(Rec[0]),str(Rec[1]),\"SI_cal.pkl\")\n",
    "    if os.path.exists(path):\n",
    "        return path\n",
    "    return \"F\"\n",
    "\n",
    "# Return the array of pkl files in certain days. \"days\" provide the certain day.\n",
    "def GetFilePathCollection(maze_type = 1, training_days = 1, file = file):\n",
    "    days = training_days\n",
    "    # index of collections\n",
    "    Col_ind = np.where((file['training_day'] == days) & (file['maze_type'] == maze_type))[0]\n",
    "    if len(Col_ind) == 0:\n",
    "        return [],[],[]\n",
    "    \n",
    "    # Files that store the behav/ms information of cells. [spikes_all, spike_nodes_all, t_total_all, t_nodes_frac_all]\n",
    "    ms_file = []     \n",
    "    # Files that store the place cells(pc)' data. [rate_map_pc, rate_map_pc_norm, rate_map_ordered, rate_map_rc, rate_map_rc_norm, is_runcell_isi, rate_map_rc_ordered]\n",
    "    pc_file = []\n",
    "    # Files that store the all cells(ac)' data. [is_placecell_isi, SI_all, rate_map_all]\n",
    "    ac_file = []\n",
    "    \n",
    "    for i in range(len(Col_ind)):\n",
    "        NumDate = [0,0]\n",
    "        NumDate[0] = file['number'][Col_ind[i]]\n",
    "        NumDate[1] = file['date'][Col_ind[i]]\n",
    "        if FindPathOfPRPC(NumDate) == \"F\" or FindPathOfRawRate(NumDate) == \"F\" or FindPathOfTime(NumDate) == \"F\":\n",
    "            print(NumDate[0],NumDate[1],\" Meet a FILE LOSS ERROR!\")\n",
    "            if FindPathOfPRPC(NumDate) == \"F\":\n",
    "                print(os.path.join(totalpath,str(NumDate[0]),str(NumDate[1]),\"rate_map_pcrc.pkl   LOSS\"))\n",
    "            if FindPathOfRawRate(NumDate) == \"F\":\n",
    "                print(os.path.join(totalpath,str(NumDate[0]),str(NumDate[1]),\"rate_map_all.pkl    LOSS\"))\n",
    "            if FindPathOfTime(NumDate) == \"F\":\n",
    "                print(os.path.join(totalpath,str(NumDate[0]),str(NumDate[1]),\"SI_cal.pkl          LOSS\"))\n",
    "            continue\n",
    "        pc_file.append(FindPathOfPRPC(NumDate))\n",
    "        ac_file.append(FindPathOfRawRate(NumDate))\n",
    "        ms_file.append(FindPathOfTime(NumDate))\n",
    "    if len(pc_file) != len(ac_file) or len(pc_file) != len(ms_file) or len(ac_file) != len(ms_file):\n",
    "        print(\"Warning! The dimension of Col_file and SI_file is not the same! That may throw errors in later analysis!\")\n",
    "    return pc_file, ac_file, ms_file"
   ]
  },
  {
   "cell_type": "code",
   "execution_count": 3,
   "id": "fba0cd9f",
   "metadata": {},
   "outputs": [],
   "source": [
    "# data_type = 'pc'  -- place cells, \n",
    "#             'ac'  -- all cells,\n",
    "#             'npc' -- nonplace cells,\n",
    "#             'pcn' -- place cell (normed),\n",
    "#             'aSI'  -- Spatial information for all cells\n",
    "#             'pSI'  -- Spatial information for place cells\n",
    "#             'npSI' -- Spatial information for nonplace cells\n",
    "#             'ispc_isi' -- is_placecll_isi\n",
    "#             'spikes' -- Spatial information for nonplace cells\n",
    "#             'spike_nodes' -- is_placecll_isi\n",
    "#             't_total' -- Spatial information for nonplace cells\n",
    "#             't_nodes_frac' -- is_placecll_isi\n",
    "#             'aWPF'  -- WPFmap_allmice\n",
    "\n",
    "def Combination(data_type = 'pc',training_days = 1, maze_type = 1):\n",
    "    pc_file, ac_file, ms_file = GetFilePathCollection(file = file, training_days = training_days, maze_type = maze_type)\n",
    "    \n",
    "    # 'pc'  -- place cells firing rate, 'pcn' -- place cell firing rate (normed)。\n",
    "    if data_type == 'pc' or data_type == 'pcn':\n",
    "        data = []\n",
    "        for i in range(len(pc_file)):\n",
    "            if os.path.getsize(pc_file[i]) > 0:\n",
    "                with open(pc_file[i],'rb') as handle:\n",
    "                    pc_data = pickle.load(handle)\n",
    "            else:\n",
    "                print(pc_file[i],\"is not existed!\")\n",
    "            if data_type == 'pc':\n",
    "                for j in range(len(pc_data[0])):\n",
    "                    data.append(pc_data[0][j])\n",
    "            else:\n",
    "                for j in range(len(pc_data[1])):\n",
    "                    data.append(pc_data[1][j])\n",
    "        return data\n",
    "    \n",
    "    # 'ac'  -- all cells,\n",
    "    elif data_type == 'ac':\n",
    "        data = []\n",
    "        for i in range(len(ac_file)):\n",
    "            if os.path.getsize(ac_file[i]) > 0:\n",
    "                with open(ac_file[i],'rb') as handle:\n",
    "                    ac_data = pickle.load(handle)\n",
    "            else:\n",
    "                print(ac_file[i],\"is not existed!\")\n",
    "            for j in range(len(ac_data[2])):\n",
    "                data.append(ac_data[2][j])\n",
    "        return data\n",
    "    \n",
    "    # 'npc' -- nonplace cells,\n",
    "    elif data_type == 'npc':\n",
    "        data = []\n",
    "        for i in range(len(ac_file)):\n",
    "            if os.path.getsize(ac_file[i]) > 0:\n",
    "                with open(ac_file[i],'rb') as handle:\n",
    "                    ac_data = pickle.load(handle)\n",
    "            else:\n",
    "                print(ac_file[i],\"is not existed!\")\n",
    "            for j in range(len(ac_data[2])):\n",
    "                if ac_data[0][j] == 0: # is_placecell_isi[j] == 0 -> non place cell\n",
    "                    data.append(ac_data[2][j])\n",
    "        return data\n",
    "\n",
    "    # 'aSI'  -- SI of all cells,\n",
    "    elif data_type == 'aSI':\n",
    "        data = []\n",
    "        for i in range(len(ac_file)):\n",
    "            if os.path.getsize(ac_file[i]) > 0:\n",
    "                with open(ac_file[i],'rb') as handle:\n",
    "                    ac_data = pickle.load(handle)\n",
    "            else:\n",
    "                print(ac_file[i],\"is not existed!\")\n",
    "            for j in range(len(ac_data[1])):\n",
    "                data.append(ac_data[1][j])\n",
    "        return data\n",
    "    \n",
    "    # 'pSI'  --SI of place cells\n",
    "    elif data_type == 'pSI':\n",
    "        data = []\n",
    "        for i in range(len(ac_file)):\n",
    "            if os.path.getsize(ac_file[i]) > 0:\n",
    "                with open(ac_file[i],'rb') as handle:\n",
    "                    ac_data = pickle.load(handle)\n",
    "            else:\n",
    "                print(ac_file[i],\"is not existed!\")\n",
    "            for j in range(len(ac_data[1])):\n",
    "                if ac_data[0][j] == 1: # is_placecell_isi[j] == 0 -> non place cell\n",
    "                    data.append(ac_data[1][j])\n",
    "        return data\n",
    "    \n",
    "    # 'npSI'  --SI of nonplace cells\n",
    "    elif data_type == 'npSI':\n",
    "        data = []\n",
    "        for i in range(len(ac_file)):\n",
    "            if os.path.getsize(ac_file[i]) > 0:\n",
    "                with open(ac_file[i],'rb') as handle:\n",
    "                    ac_data = pickle.load(handle)\n",
    "            else:\n",
    "                print(ac_file[i],\"is not existed!\")\n",
    "            for j in range(len(ac_data[1])):\n",
    "                if ac_data[0][j] == 0: # is_placecell_isi[j] == 0 -> non place cell\n",
    "                    data.append(ac_data[1][j])\n",
    "        return data    \n",
    "    \n",
    "    # 'ispc_isi'  -- is_placecell_isi\n",
    "    elif data_type == 'ispc_isi':\n",
    "        data = []\n",
    "        for i in range(len(ac_file)):\n",
    "            if os.path.getsize(ac_file[i]) > 0:\n",
    "                with open(ac_file[i],'rb') as handle:\n",
    "                    ac_data = pickle.load(handle)\n",
    "            else:\n",
    "                print(ac_file[i],\"is not existed!\")\n",
    "            for j in range(len(ac_data[0])):\n",
    "                data.append(ac_data[0][j])\n",
    "        return data\n",
    "    \n",
    "    # 'spikes'  -- spikes of all neurons, combined all neurons (in different mice)\n",
    "    elif data_type == 'spikes':\n",
    "        data = []\n",
    "        for i in range(len(ms_file)):\n",
    "            if os.path.getsize(ms_file[i]) > 0:\n",
    "                with open(ms_file[i],'rb') as handle:\n",
    "                    ms_data = pickle.load(handle)\n",
    "            else:\n",
    "                print(ms_file[i],\"is not existed!\")\n",
    "            for j in range(len(ms_data[0])):\n",
    "                data.append(ms_data[0][j])\n",
    "        return data\n",
    "\n",
    "    # 'spike_nodes'  -- spike_nodes of each spike, combined all neurons (in different mice)\n",
    "    elif data_type == 'spike_nodes':\n",
    "        data = []\n",
    "        for i in range(len(ms_file)):\n",
    "            if os.path.getsize(ms_file[i]) > 0:\n",
    "                with open(ms_file[i],'rb') as handle:\n",
    "                    ms_data = pickle.load(handle)\n",
    "            else:\n",
    "                print(ms_file[i],\"is not existed!\")\n",
    "            for j in range(len(ms_data[1])):\n",
    "                data.append(ms_data[1][j])\n",
    "        return data\n",
    "    \n",
    "    # 't_total'  -- t_total of each session, combined all sessions\n",
    "    elif data_type == 't_total':\n",
    "        data = []\n",
    "        for i in range(len(ms_file)):\n",
    "            if os.path.getsize(ms_file[i]) > 0:\n",
    "                with open(ms_file[i],'rb') as handle:\n",
    "                    ms_data = pickle.load(handle)\n",
    "            else:\n",
    "                print(ms_file[i],\"is not existed!\")\n",
    "            for j in range(len(ms_data[2])):\n",
    "                data.append(ms_data[2][j])\n",
    "        return data\n",
    "    \n",
    "    # 't_nodes_frac'  -- t_nodes_frac of each session, combined all sessions\n",
    "    elif data_type == 't_nodes_frac':\n",
    "        data = []\n",
    "        for i in range(len(ms_file)):\n",
    "            if os.path.getsize(ms_file[i]) > 0:\n",
    "                with open(ms_file[i],'rb') as handle:\n",
    "                    ms_data = pickle.load(handle)\n",
    "            else:\n",
    "                print(ms_file[i],\"is not existed!\")\n",
    "            for j in range(len(ms_data[3])):\n",
    "                data.append(ms_data[3][j])\n",
    "        return data\n",
    "    \n",
    "    # WPFmap_allmice for place cells\n",
    "    elif data_type[0:7] == 'aWPF_pc':\n",
    "        rate_map_all = Get_split_FRdata(training_days = training_days,maze_type = maze_type, data_type = 'pc',path_type = 'ap')\n",
    "        WPFmap_all = []\n",
    "        for i in range(len(rate_map_all)):\n",
    "            WPFmap = Generate_WholePlaceFieldMap(rate_map_all[i],maze_type)\n",
    "            if data_type[8::] in ['','c','C','co','Co','cor','Cor','Core','core']:\n",
    "                WPFmap = BubbleSortWithcore(WPFmap, rate_map_all[i])\n",
    "            elif data_type[8::] in ['l','L','len','Len','le','Le','Length','length','lent','Lent','lenth','Lenth']:\n",
    "                WPFmap = BubbleSortWithLength(WPFmap)\n",
    "            elif data_type[8::] in ['d','D','Dist','dist','distance','Distance','di','Di','Dis','dis']:\n",
    "                WPFmap = BubbleSortWithDistance(WPFmap, maze_type = maze_type)\n",
    "            else:\n",
    "                print(\"only 'c','C','co','Co','cor','Cor','Core','core','l','L','len','Len','le','Le','Length','length','lent','Lent','lenth','Lenth','d','D','Dist','dist','distance','Distance','di','Di','Dis','dis' are all legal.\")\n",
    "                print(\"Do you mean not sort the WPFmap?\")\n",
    "            WPFmap_all.append(WPFmap)\n",
    "        return WPFmap_all\n",
    "    \n",
    "    # WPFmap_allmice for nonplace cells\n",
    "    elif data_type[0:8] == 'aWPF_npc':\n",
    "        rate_map_all = Get_split_FRdata(training_days = training_days,maze_type = maze_type, data_type = 'npc',path_type = 'ap')\n",
    "        WPFmap_all = []\n",
    "        for i in range(len(rate_map_all)):\n",
    "            WPFmap = Generate_WholePlaceFieldMap(rate_map_all[i],maze_type)\n",
    "            if data_type[9::] in ['','c','C','co','Co','cor','Cor','Core','core']:\n",
    "                WPFmap = BubbleSortWithcore(WPFmap, rate_map_all[i])\n",
    "            elif data_type[9::] in ['l','L','len','Len','le','Le','Length','length','lent','Lent','lenth','Lenth']:\n",
    "                WPFmap = BubbleSortWithLength(WPFmap)\n",
    "            elif data_type[9::] in ['d','D','Dist','dist','distance','Distance','di','Di','Dis','dis']:\n",
    "                WPFmap = BubbleSortWithDistance(WPFmap, maze_type = maze_type)\n",
    "            else:\n",
    "                print(\"only 'c','C','co','Co','cor','Cor','Core','core','l','L','len','Len','le','Le','Length','length','lent','Lent','lenth','Lenth','d','D','Dist','dist','distance','Distance','di','Di','Dis','dis' are all legal.\")\n",
    "                print(\"Do you mean not sort the WPFmap?\")\n",
    "            WPFmap_all.append(WPFmap)\n",
    "        return WPFmap_all\n",
    "    \n",
    "    # WPFmap_allmice for all cells\n",
    "    elif data_type[0:7] == 'aWPF_ac':\n",
    "        rate_map_all = Get_split_FRdata(training_days = training_days,maze_type = maze_type, data_type = 'adc',path_type = 'ap')\n",
    "        WPFmap_all = []\n",
    "        for i in range(len(rate_map_all)):\n",
    "            WPFmap = Generate_WholePlaceFieldMap(rate_map_all[i],maze_type)\n",
    "            if data_type[8::] in ['','c','C','co','Co','cor','Cor','Core','core']:\n",
    "                WPFmap = BubbleSortWithcore(WPFmap, rate_map_all[i])\n",
    "            elif data_type[8::] in ['l','L','len','Len','le','Le','Length','length','lent','Lent','lenth','Lenth']:\n",
    "                WPFmap = BubbleSortWithLength(WPFmap)\n",
    "            elif data_type[8::] in ['d','D','Dist','dist','distance','Distance','di','Di','Dis','dis']:\n",
    "                WPFmap = BubbleSortWithDistance(WPFmap, maze_type = maze_type)\n",
    "            else:\n",
    "                print(\"only 'c','C','co','Co','cor','Cor','Core','core','l','L','len','Len','le','Le','Length','length','lent','Lent','lenth','Lenth','d','D','Dist','dist','distance','Distance','di','Di','Dis','dis' are all legal.\")\n",
    "                print(\"Do you mean not sort the WPFmap?\")\n",
    "            WPFmap_all.append(WPFmap)\n",
    "        return WPFmap_all\n",
    "\n",
    "    else:\n",
    "        print(\"Invalid data_type! Please check your spelling! only value 'pc','ac','npc','pcn','si_all','spikes','spike_nodes','t_total','t_nodes_frac' are available!\")\n",
    "        return []\n",
    "    \n",
    "# Clean the NaN value\n",
    "def Clear_Ratemap_NaN(rate_map_all):\n",
    "    for j in range(len(rate_map_all)):\n",
    "        for k in range(np.shape(rate_map_all)[1]):\n",
    "            if mt.isnan(rate_map_all[j][k]):\n",
    "                rate_map_all[j][k] = 0.0\n",
    "    return rate_map_all\n",
    "\n",
    "def calc_SI_path(training_days = 1, maze_type = 1, path_type = 'cp'):\n",
    "    # SI in total path is no need to calculate but could be called in files directly\n",
    "    if path_type == 'ap' or path_type == 'no':\n",
    "        print(\"  Also you can get the answer, however we strongly recommend you to use function Combination() directly!\")\n",
    "        return Combination(training_days=training_days, maze_type=maze_type,data_type='aSI')\n",
    "    \n",
    "    spikes, spike_nodes, t_total, t_nodes_frac = Get_split_msdata(training_days = training_days, maze_type = maze_type, data_type = 'spikes',path_type=path_type)\n",
    "    SI = np.zeros(len(spikes))\n",
    "    for i in range(len(spikes)):\n",
    "        SI[i] = calc_SI(spikes[i], spike_nodes[i], t_total[i], t_nodes_frac[i])\n",
    "    return SI\n",
    "\n",
    "# spatial information (for one neuron) \n",
    "# see DOI: 10.1126/science.aav9199\n",
    "# mean_rate = sum(spikes)/t_total # mean firing rate\n",
    "def calc_SI(spikes, rate_map, t_total, t_nodes_frac):\n",
    "    mean_rate = sum(spikes)/t_total # mean firing rate\n",
    "    logArg = rate_map / mean_rate;\n",
    "    logArg[logArg == 0] = 1; # keep argument in log non-zero\n",
    "\n",
    "    IC = np.nansum(t_nodes_frac * rate_map * np.log2(logArg)) # information content\n",
    "    SI = IC / mean_rate; # spatial information (bits/spike)\n",
    "    return(SI)"
   ]
  },
  {
   "cell_type": "code",
   "execution_count": 4,
   "id": "62b38240",
   "metadata": {},
   "outputs": [],
   "source": [
    "# split data in correct path, incorrect path or reorder them in a ranked order.\n",
    "# path_type : 'ap' (all path in certain order), 'cp' (correct path), 'icp'(incorrect path), 'no' (not orderred all path)\n",
    "\n",
    "# data_type = 'pc'  -- place cells, \n",
    "#             'ac'  -- all cells,\n",
    "#             'npc' -- nonplace cells,\n",
    "#             'pcn' -- place cell (normed),\n",
    "#             'aSI'  -- Spatial information for all cells\n",
    "#             'pSI'  -- Spatial information for place cells\n",
    "#             'npSI' -- Spatial information for nonplace cells\n",
    "#             'ispc_isi' -- is_placecll_isi\n",
    "#             'spikes' -- Spatial information for nonplace cells\n",
    "#             'spike_nodes' -- is_placecll_isi\n",
    "#             't_total' -- Spatial information for nonplace cells\n",
    "#             't_nodes_frac' -- is_placecll_isi\n",
    "\n",
    "# split ms/behav data with different path\n",
    "def Get_split_msdata(data_type = 'spikes',training_days = 1, maze_type = 1, path_type = 'ap', GetFourResults = 1):\n",
    "    # Get four necessary variable matrices.\n",
    "    bef_spikes = Combination(data_type = 'spikes', training_days = training_days, maze_type = maze_type)\n",
    "    bef_spike_nodes = Combination(data_type = 'spike_nodes', training_days = training_days, maze_type = maze_type)\n",
    "    bef_t_total = Combination(data_type = 't_total', training_days = training_days, maze_type = maze_type)\n",
    "    bef_t_nodes_frac = Combination(data_type = 't_nodes_frac', training_days = training_days, maze_type = maze_type)\n",
    "    \n",
    "    correct_path = CorrectPath_maze_1 if maze_type == 1 else CorrectPath_maze_2\n",
    "    incorrect_path = IncorrectPath_maze_1 if maze_type == 1 else IncorrectPath_maze_2\n",
    "    reorderred_path = correct_path + incorrect_path\n",
    "    \n",
    "    if path_type in ['no','ap']:\n",
    "        if GetFourResults == 1:\n",
    "            if data_type in ['spikes','spike_nodes','t_total','t_nodes_frac']:\n",
    "                return [bef_spikes,bef_spike_nodes,bef_t_total,bef_t_nodes_frac]\n",
    "            elif data_type in ['pc','ac','npc']:\n",
    "                print(\"WARNING!!! You should use another funciton Get_split_FRdata() to deel with data_type '\"+str(data_type)+\"'\")\n",
    "                print(\"Here we help you to call this funciton. However we strongly recommend you to correct it.\")\n",
    "                return Get_split_FRdata(data_type = data_type,training_days = training_days, maze_type = maze_type, path_type = path_type)\n",
    "            else:\n",
    "                print(\"WARNING!!! Type Error !!! data_type '\",data_type,\"' cannot be split into correct path!\")\n",
    "                return []\n",
    "            \n",
    "        else:\n",
    "            if data_type == 'spikes':\n",
    "                return bef_spikes\n",
    "            elif data_type == 'spike_nodes':\n",
    "                return bef_spike_nodes\n",
    "            elif data_type == 't_total':\n",
    "                return bef_t_total\n",
    "            elif data_type == 't_nodes_frac':\n",
    "                return bef_t_nodes_frac\n",
    "            elif data_type in ['pc','ac','npc']:\n",
    "                print(\"WARNING!!! You should use another funciton Get_split_FRdata() to deel with data_type '\"+str(data_type)+\"'\")\n",
    "                print(\"Here we help you to call this funciton. However we strongly recommend you to correct it.\")\n",
    "                return Get_split_FRdata(data_type = data_type,training_days = training_days, maze_type = maze_type, path_type = path_type)\n",
    "            else:\n",
    "                print(\"WARNING!!! Type Error !!! data_type '\",data_type,\"' cannot be split into correct path!\")\n",
    "                return []    \n",
    "    \n",
    "    elif path_type == 'cp':\n",
    "        print('path_type = '+path_type)\n",
    "        if data_type in ['pc','ac','npc']:\n",
    "            print(\"WARNING!!! You should use another funciton Get_split_FRdata() to deel with data_type '\"+str(data_type)+\"'\")\n",
    "            print(\"Here we help you to call this funciton. However we strongly recommend you to correct it.\")\n",
    "            return Get_split_FRdata(data_type = data_type,training_days = training_days, maze_type = maze_type, path_type = path_type)\n",
    "        \n",
    "        elif data_type in ['spikes','spike_nodes','t_total','t_nodes_frac']:\n",
    "            print(\"data_type: \"+data_type)\n",
    "            aft_spikes = []\n",
    "            aft_spike_nodes = []\n",
    "            aft_t_total = np.zeros_like(bef_t_total)    # n_neuron_all * 1\n",
    "            aft_t_nodes_frac = np.zeros((len(bef_t_total),len(correct_path)))  # n_neuron_all * 144(111/xxx)\n",
    "            if len(bef_t_total) != len(bef_t_nodes_frac):\n",
    "                print(\"WARNING!!! the dimension of t_total is not equal to the dimension of t_nodes_frac_all, that may cause ERROR in later analysis!\")\n",
    "            \n",
    "            print(\"began to calculate time\")\n",
    "            for i in range(len(bef_t_total)):\n",
    "                for k in range(len(correct_path)):\n",
    "                    aft_t_nodes_frac[i][k] = bef_t_nodes_frac[i][correct_path[k]-1]\n",
    "                    if np.isnan(bef_t_nodes_frac[i][correct_path[k]-1] * bef_t_total[i]):\n",
    "                        continue\n",
    "                    aft_t_total[i] += bef_t_nodes_frac[i][correct_path[k]-1] * bef_t_total[i]   \n",
    "            aft_t_nodes_frac = Norm_t_nodes_frac_part(aft_t_nodes_frac)\n",
    "            \n",
    "            print(\"began to calculate spikes\")\n",
    "            for i in range(len(bef_spikes)):\n",
    "                ind = [list(np.where(np.array(bef_spike_nodes[i]) == correct_path[j])[0]) for j in range(len(correct_path))]\n",
    "                merge_ind = sum(ind,[])\n",
    "                co_spikes = [bef_spikes[i][k] for k in merge_ind]\n",
    "                co_spike_nodes = [bef_spike_nodes[i][k] for k in merge_ind]\n",
    "\n",
    "                aft_spike_nodes.append(co_spike_nodes)\n",
    "                aft_spikes.append(co_spikes)\n",
    "        \n",
    "            print(\"Finish calculating!\")\n",
    "            \n",
    "            if GetFourResults == 1:\n",
    "                return [aft_spikes,aft_spike_nodes,aft_t_total,aft_t_nodes_frac]\n",
    "            else:\n",
    "                if data_type == 'spikes':\n",
    "                    return aft_spikes\n",
    "                elif data_type == 'spike_nodes':\n",
    "                    return aft_spike_nodes\n",
    "                elif data_type == 't_total':\n",
    "                    return aft_t_total\n",
    "                elif data_type == 't_nodes_frac':\n",
    "                    return aft_t_nodes_frac\n",
    "                else:\n",
    "                    print(\"ERROR!\")\n",
    "                    return []\n",
    "        \n",
    "        else:\n",
    "            print(\"WARNING!!! Type Error !!! data_type '\",data_type,\"' cannot be split into correct path!\")\n",
    "            return []\n",
    "        \n",
    "    elif path_type == 'icp':\n",
    "        if data_type in ['pc','ac','npc']:\n",
    "            print(\"WARNING!!! You should use another funciton Get_split_FRdata() to deel with data_type '\"+str(data_type)+\"'\")\n",
    "            print(\"Here we help you to call this funciton. However we strongly recommend you to correct it.\")\n",
    "            return Get_split_FRdata(data_type = data_type,training_days = training_days, maze_type = maze_type, path_type = path_type)\n",
    "        \n",
    "        elif data_type in ['spikes','spike_nodes','t_total','t_nodes_frac']:\n",
    "            aft_spikes = []\n",
    "            aft_spike_nodes = []\n",
    "            aft_t_total = np.zeros_like(bef_t_total)    # n_neuron_all * 1\n",
    "            aft_t_nodes_frac = np.zeros((len(bef_t_total),len(incorrect_path)))  # n_neuron_all * 144(111/xxx)\n",
    "            if len(bef_t_total) != len(bef_t_nodes_frac):\n",
    "                print(\"WARNING!!! the dimension of t_total is not equal to the dimension of t_nodes_frac_all, that may cause ERROR in later analysis!\")\n",
    "            \n",
    "            for i in range(len(bef_t_total)):\n",
    "                for k in range(len(incorrect_path)):\n",
    "                    aft_t_nodes_frac[i][k] = bef_t_nodes_frac[i][incorrect_path[k]-1]\n",
    "                    if np.isnan(bef_t_nodes_frac[i][incorrect_path[k]-1] * bef_t_total[i]):\n",
    "                        continue\n",
    "                    aft_t_total[i] += bef_t_nodes_frac[i][incorrect_path[k]-1] * bef_t_total[i]   \n",
    "            aft_t_nodes_frac = Norm_t_nodes_frac_part(aft_t_nodes_frac)\n",
    "            \n",
    "            for i in range(len(bef_spikes)):\n",
    "                ind = [list(np.where(np.array(bef_spike_nodes[i]) == incorrect_path[j])[0]) for j in range(len(incorrect_path))]\n",
    "                merge_ind = sum(ind,[])\n",
    "                inco_spikes = [bef_spikes[i][k] for k in merge_ind]\n",
    "                inco_spike_nodes = [bef_spike_nodes[i][k] for k in merge_ind]\n",
    "\n",
    "                aft_spike_nodes.append(inco_spike_nodes)\n",
    "                aft_spikes.append(inco_spikes)\n",
    "            \n",
    "            if GetFourResults == 1:\n",
    "                return [aft_spikes,aft_spike_nodes,aft_t_total,aft_t_nodes_frac]\n",
    "            else:\n",
    "                if data_type == 'spikes':\n",
    "                    return aft_spikes\n",
    "                elif data_type == 'spike_nodes':\n",
    "                    return aft_spike_nodes\n",
    "                elif data_type == 't_total':\n",
    "                    return aft_t_total\n",
    "                elif data_type == 't_nodes_frac':\n",
    "                    return aft_t_nodes_frac\n",
    "                else:\n",
    "                    print(\"ERROR!\")\n",
    "                    return []\n",
    "        \n",
    "        else:\n",
    "            print(\"WARNING!!! Type Error !!! data_type '\",data_type,\"' cannot be split into correct path!\")\n",
    "            return []\n",
    "    \n",
    "    else:\n",
    "        print(\"Invalid path_type! Please check your spelling! only value 'spikes','in','ap','no' are acceptable!\")\n",
    "        return []        \n",
    "              \n",
    "              \n",
    "#---------------------------------------------------------------------------------------------------------------------------------------\n",
    "# split firing rate data with different path\n",
    "def Get_split_FRdata(data_type = 'pc',training_days = 1, maze_type = 1, path_type = 'ap'):\n",
    "    bef_data = Combination(data_type = data_type, training_days = training_days, maze_type = maze_type)\n",
    "    \n",
    "    correct_path = CorrectPath_maze_1 if maze_type == 1 else CorrectPath_maze_2\n",
    "    incorrect_path = IncorrectPath_maze_1 if maze_type == 1 else IncorrectPath_maze_2\n",
    "    reorderred_path = correct_path + incorrect_path\n",
    "    \n",
    "    if path_type == 'no':\n",
    "        bef_data = Clear_Ratemap_NaN(bef_data)\n",
    "        return bef_data\n",
    "    \n",
    "    elif path_type == 'cp':\n",
    "        if data_type in ['spikes','spike_nodes','t_total','t_nodes_frac']:\n",
    "            print(\"WARNING!!! You should use another funciton Get_split_msdata() to deel with data_type '\"+str(data_type)+\"'\")\n",
    "            print(\"Here we help you to call this funciton. However we strongly recommend you to correct it.\")\n",
    "            return Get_split_msdata(data_type = data_type,training_days = training_days, maze_type = maze_type, path_type = path_type)\n",
    "        \n",
    "        elif data_type in ['pc','ac','npc']:\n",
    "            bef_data = Clear_Ratemap_NaN(bef_data)\n",
    "            aft_data = np.zeros((len(bef_data),len(correct_path)))\n",
    "            for i in range(len(bef_data)):\n",
    "                for j in range(len(aft_data[0])):\n",
    "                    aft_data[i][j] = bef_data[i][correct_path[j]-1]\n",
    "            print(\"Get_split_FRdata: \",np.shape(aft_data))\n",
    "            return aft_data\n",
    "        \n",
    "        else:\n",
    "            print(\"WARNING!!! Type Error !!! data_type '\",data_type,\"' cannot be split into correct path!\")\n",
    "            return []\n",
    "        \n",
    "    elif path_type == 'icp':\n",
    "        if data_type in ['spikes','spike_nodes','t_total','t_nodes_frac']:\n",
    "            print(\"WARNING!!! You should use another funciton Get_split_msdata() to deel with data_type '\"+str(data_type)+\"'\")\n",
    "            print(\"Here we help you to call this funciton. However we strongly recommend you to correct it.\")\n",
    "            return Get_split_msdata(data_type = data_type,training_days = training_days, maze_type = maze_type, path_type = path_type)\n",
    "        \n",
    "        elif data_type in ['pc','ac','npc']:\n",
    "            bef_data = Clear_Ratemap_NaN(bef_data)\n",
    "            aft_data = np.zeros((len(bef_data),len(incorrect_path)))\n",
    "            for i in range(len(bef_data)):\n",
    "                for j in range(len(aft_data[0])):\n",
    "                    aft_data[i][j] = bef_data[i][incorrect_path[j]-1]\n",
    "            print(\"Get_split_FRdata: \",np.shape(aft_data))\n",
    "            return aft_data\n",
    "        \n",
    "        else:\n",
    "            print(\"WARNING!!! Type Error !!! data_type '\",data_type,\"' cannot be split into correct path!\")\n",
    "            return []\n",
    "        \n",
    "    elif path_type == 'ap':\n",
    "        if data_type in ['spikes','spike_nodes','t_total','t_nodes_frac']:\n",
    "            print(\"WARNING!!! You should use another funciton Get_split_msdata() to deel with data_type '\"+str(data_type)+\"'\")\n",
    "            print(\"Here we help you to call this funciton. However we strongly recommend you to correct it.\")\n",
    "            return Get_split_msdata(data_type = data_type,training_days = training_days, maze_type = maze_type, path_type = path_type)\n",
    "        \n",
    "        elif data_type in ['pc','ac','npc']:\n",
    "            bef_data = Clear_Ratemap_NaN(bef_data)\n",
    "            aft_data = np.zeros((len(bef_data),len(reorderred_path)))\n",
    "            for i in range(len(bef_data)):\n",
    "                for j in range(len(aft_data[0])):\n",
    "                    aft_data[i][j] = bef_data[i][reorderred_path[j]-1]\n",
    "            print(\"Get_split_FRdata: \",np.shape(aft_data))\n",
    "            return aft_data\n",
    "        \n",
    "        else:\n",
    "            print(\"WARNING!!! Type Error !!! data_type '\",data_type,\"' cannot be split into correct path!\")\n",
    "            return []\n",
    "    \n",
    "    else:\n",
    "        print(\"Invalid path_type! Please check your spelling! only value 'cp','icp','ap','no' are acceptable!\")\n",
    "        return []        \n",
    "\n",
    "#---------------------------------------------------------------------------------------------------------------------------------------\n",
    "# split spatial information with different path   \n",
    "def Get_Split_SIdata(training_days = 1, maze_type = 1, data_type = 'pc'):\n",
    "    # Devide the data into two groups: the correct path group and the incorrect path group\n",
    "    msdata_co = Get_split_msdata(training_days = training_days, maze_type = maze_type, data_type = 'spikes', path_type = 'cp')\n",
    "    ratemap_co = Get_split_FRdata(training_days = training_days, maze_type = maze_type, data_type = 'ac', path_type = 'cp')\n",
    "    msdata_inc = Get_split_msdata(training_days = training_days, maze_type = maze_type, data_type = 'spikes', path_type = 'icp')\n",
    "    ratemap_inc = Get_split_FRdata(training_days = training_days, maze_type = maze_type, data_type = 'ac', path_type = 'icp')\n",
    "    \n",
    "    aSI = Combination(training_days = training_days, maze_type = maze_type, data_type = 'aSI')\n",
    "    pSI = Combination(training_days = training_days, maze_type = maze_type, data_type = 'pSI')\n",
    "    npSI = Combination(training_days = training_days, maze_type = maze_type, data_type = 'npSI')\n",
    "    is_placecell_isi_all = Combination(training_days = training_days, maze_type = maze_type, data_type = 'ispc_isi')\n",
    "    \n",
    "    SI_co_all = np.zeros(len(is_placecell_isi_all))\n",
    "    SI_inc_all = np.zeros(len(is_placecell_isi_all))\n",
    "    for i in range(len(is_placecell_isi_all)):\n",
    "        SI_co_all[i] = calc_SI(msdata_co[0][i],ratemap_co[i],msdata_co[2][i],msdata_co[3][i])\n",
    "        SI_inc_all[i] = calc_SI(msdata_inc[0][i],ratemap_inc[i],msdata_inc[2][i],msdata_inc[3][i])\n",
    "    \n",
    "    if data_type == 'pc':\n",
    "        pc_SI_co = []\n",
    "        pc_SI_inc = []\n",
    "        for i in range(len(is_placecell_isi_all)):\n",
    "            if is_placecell_isi_all[i] == 1:\n",
    "                pc_SI_co.append(SI_co_all[i])\n",
    "                pc_SI_inc.append(SI_inc_all[i])\n",
    "        return pSI, pc_SI_co, pc_SI_inc\n",
    "    \n",
    "    elif data_type == 'npc':\n",
    "        npc_SI_co = []\n",
    "        npc_SI_inc = []\n",
    "        for i in range(len(is_placecell_isi_all)):\n",
    "            if is_placecell_isi_all[i] == 0:\n",
    "                npc_SI_co.append(SI_co_all[i])\n",
    "                npc_SI_inc.append(SI_inc_all[i])\n",
    "        return npSI, npc_SI_co, npc_SI_inc        \n",
    "    \n",
    "    elif data_type == 'ac':\n",
    "        return aSI, SI_co_all, SI_inc_all\n",
    "    \n",
    "    else:\n",
    "        print(\"Invalid path_type! Please check your spelling! only value 'pc','npc','ac' are acceptable!\")\n",
    "        return aSI, SI_co_all, SI_inc_all\n",
    "\n",
    "    \n",
    "def Norm_t_nodes_frac_part(t_nodes_frac):\n",
    "    t_nodes_frac_norm = np.zeros_like(t_nodes_frac)\n",
    "    for i in range(len(t_nodes_frac_norm)):\n",
    "        sum_all = np.nansum(t_nodes_frac[i])\n",
    "        for j in range(len(t_nodes_frac_norm[i])):\n",
    "            if np.isnan(t_nodes_frac[i][j]):\n",
    "                t_nodes_frac_norm[i][j] = np.nan\n",
    "            else:\n",
    "                t_nodes_frac_norm[i][j] = t_nodes_frac[i][j]/sum_all\n",
    "    return t_nodes_frac_norm\n",
    "\n",
    "def Norm_ratemap(rate_map_all):\n",
    "    rate_map_all_norm = sklearn.preprocessing.minmax_scale(rate_map_all, feature_range=(0, 1), axis=1, copy=True)\n",
    "    return rate_map_all_norm"
   ]
  },
  {
   "cell_type": "code",
   "execution_count": null,
   "id": "e40406b1",
   "metadata": {
    "scrolled": false
   },
   "outputs": [
    {
     "name": "stdout",
     "output_type": "stream",
     "text": [
      "10027 20200417  Meet a FILE LOSS ERROR!\n",
      "D:\\YSY\\10027\\20200417\\rate_map_pcrc.pkl   LOSS\n",
      "D:\\YSY\\10027\\20200417\\rate_map_all.pkl    LOSS\n",
      "D:\\YSY\\10027\\20200417\\SI_cal.pkl          LOSS\n",
      "10027 20200417  Meet a FILE LOSS ERROR!\n",
      "D:\\YSY\\10027\\20200417\\rate_map_pcrc.pkl   LOSS\n",
      "D:\\YSY\\10027\\20200417\\rate_map_all.pkl    LOSS\n",
      "D:\\YSY\\10027\\20200417\\SI_cal.pkl          LOSS\n",
      "10027 20200417  Meet a FILE LOSS ERROR!\n",
      "D:\\YSY\\10027\\20200417\\rate_map_pcrc.pkl   LOSS\n",
      "D:\\YSY\\10027\\20200417\\rate_map_all.pkl    LOSS\n",
      "D:\\YSY\\10027\\20200417\\SI_cal.pkl          LOSS\n",
      "10027 20200417  Meet a FILE LOSS ERROR!\n",
      "D:\\YSY\\10027\\20200417\\rate_map_pcrc.pkl   LOSS\n",
      "D:\\YSY\\10027\\20200417\\rate_map_all.pkl    LOSS\n",
      "D:\\YSY\\10027\\20200417\\SI_cal.pkl          LOSS\n"
     ]
    },
    {
     "name": "stderr",
     "output_type": "stream",
     "text": [
      "\r",
      "  0%|                                                                                          | 0/665 [00:00<?, ?it/s]"
     ]
    },
    {
     "name": "stdout",
     "output_type": "stream",
     "text": [
      "1/665 "
     ]
    },
    {
     "name": "stderr",
     "output_type": "stream",
     "text": [
      "\r",
      "  0%|                                                                                | 1/665 [00:06<1:14:03,  6.69s/it]"
     ]
    },
    {
     "name": "stdout",
     "output_type": "stream",
     "text": [
      "  This cell is rejected by 95% threshold, i.e. does not encode correct path.\n",
      "CPSI:      -0.07586808395185211\n",
      "2/665 "
     ]
    },
    {
     "name": "stderr",
     "output_type": "stream",
     "text": [
      "\r",
      "  0%|▏                                                                               | 2/665 [00:13<1:15:58,  6.88s/it]"
     ]
    },
    {
     "name": "stdout",
     "output_type": "stream",
     "text": [
      "  This cell is rejected by 95% threshold, i.e. does not encode correct path.\n",
      "CPSI:      0.15659638709928753\n",
      "3/665 "
     ]
    },
    {
     "name": "stderr",
     "output_type": "stream",
     "text": [
      "\r",
      "  0%|▎                                                                               | 3/665 [00:20<1:15:04,  6.80s/it]"
     ]
    },
    {
     "name": "stdout",
     "output_type": "stream",
     "text": [
      "  This cell is rejected by 95% threshold, i.e. does not encode correct path.\n",
      "CPSI:      -0.03969298808151939\n",
      "4/665 "
     ]
    },
    {
     "name": "stderr",
     "output_type": "stream",
     "text": [
      "\r",
      "  1%|▍                                                                               | 4/665 [00:26<1:13:59,  6.72s/it]"
     ]
    },
    {
     "name": "stdout",
     "output_type": "stream",
     "text": [
      "  This cell is rejected by 95% threshold, i.e. does not encode correct path.\n",
      "CPSI:      0.03234823091942261\n",
      "5/665 "
     ]
    },
    {
     "name": "stderr",
     "output_type": "stream",
     "text": [
      "\r",
      "  1%|▌                                                                               | 5/665 [00:33<1:13:39,  6.70s/it]"
     ]
    },
    {
     "name": "stdout",
     "output_type": "stream",
     "text": [
      "  This cell is rejected by 95% threshold, i.e. does not encode correct path.\n",
      "CPSI:      -0.11900112529065456\n",
      "6/665 "
     ]
    },
    {
     "name": "stderr",
     "output_type": "stream",
     "text": [
      "\r",
      "  1%|▋                                                                               | 6/665 [00:40<1:13:10,  6.66s/it]"
     ]
    },
    {
     "name": "stdout",
     "output_type": "stream",
     "text": [
      "  This cell is rejected by 95% threshold, i.e. does not encode correct path.\n",
      "CPSI:      -0.00928772847668309\n",
      "7/665 "
     ]
    },
    {
     "name": "stderr",
     "output_type": "stream",
     "text": [
      "\r",
      "  1%|▊                                                                               | 7/665 [00:46<1:13:10,  6.67s/it]"
     ]
    },
    {
     "name": "stdout",
     "output_type": "stream",
     "text": [
      "  This cell is rejected by 95% threshold, i.e. does not encode correct path.\n",
      "CPSI:      0.2511337059103739\n",
      "8/665 "
     ]
    },
    {
     "name": "stderr",
     "output_type": "stream",
     "text": [
      "\r",
      "  1%|▉                                                                               | 8/665 [00:53<1:13:20,  6.70s/it]"
     ]
    },
    {
     "name": "stdout",
     "output_type": "stream",
     "text": [
      "  This cell is rejected by 95% threshold, i.e. does not encode correct path.\n",
      "CPSI:      0.0077303569514370896\n",
      "9/665 "
     ]
    },
    {
     "name": "stderr",
     "output_type": "stream",
     "text": [
      "\r",
      "  1%|█                                                                               | 9/665 [01:00<1:12:51,  6.66s/it]"
     ]
    },
    {
     "name": "stdout",
     "output_type": "stream",
     "text": [
      "  This cell is rejected by 95% threshold, i.e. does not encode correct path.\n",
      "CPSI:      -0.07190722691918959\n",
      "10/665 "
     ]
    },
    {
     "name": "stderr",
     "output_type": "stream",
     "text": [
      "\r",
      "  2%|█▏                                                                             | 10/665 [01:07<1:13:53,  6.77s/it]"
     ]
    },
    {
     "name": "stdout",
     "output_type": "stream",
     "text": [
      "  This cell is rejected by 95% threshold, i.e. does not encode correct path.\n",
      "CPSI:      -0.015573157631129847\n",
      "11/665 "
     ]
    },
    {
     "name": "stderr",
     "output_type": "stream",
     "text": [
      "\r",
      "  2%|█▎                                                                             | 11/665 [01:14<1:13:46,  6.77s/it]"
     ]
    },
    {
     "name": "stdout",
     "output_type": "stream",
     "text": [
      "  This cell is rejected by 95% threshold, i.e. does not encode correct path.\n",
      "CPSI:      0.14874922272785585\n",
      "12/665 "
     ]
    },
    {
     "name": "stderr",
     "output_type": "stream",
     "text": [
      "\r",
      "  2%|█▍                                                                             | 12/665 [01:20<1:13:12,  6.73s/it]"
     ]
    },
    {
     "name": "stdout",
     "output_type": "stream",
     "text": [
      "  This cell is rejected by 95% threshold, i.e. does not encode correct path.\n",
      "CPSI:      -0.2786259575050811\n",
      "13/665 "
     ]
    },
    {
     "name": "stderr",
     "output_type": "stream",
     "text": [
      "\r",
      "  2%|█▌                                                                             | 13/665 [01:27<1:12:57,  6.71s/it]"
     ]
    },
    {
     "name": "stdout",
     "output_type": "stream",
     "text": [
      "  This cell is rejected by 95% threshold, i.e. does not encode correct path.\n",
      "CPSI:      0.05467555734993352\n",
      "14/665 "
     ]
    },
    {
     "name": "stderr",
     "output_type": "stream",
     "text": [
      "\r",
      "  2%|█▋                                                                             | 14/665 [01:33<1:12:19,  6.67s/it]"
     ]
    },
    {
     "name": "stdout",
     "output_type": "stream",
     "text": [
      "  This cell is rejected by 95% threshold, i.e. does not encode correct path.\n",
      "CPSI:      -0.03265634334548291\n",
      "15/665 "
     ]
    },
    {
     "name": "stderr",
     "output_type": "stream",
     "text": [
      "\r",
      "  2%|█▊                                                                             | 15/665 [01:40<1:12:35,  6.70s/it]"
     ]
    },
    {
     "name": "stdout",
     "output_type": "stream",
     "text": [
      "  This cell is rejected by 95% threshold, i.e. does not encode correct path.\n",
      "CPSI:      0.029199120376397686\n",
      "16/665 "
     ]
    },
    {
     "name": "stderr",
     "output_type": "stream",
     "text": [
      "\r",
      "  2%|█▉                                                                             | 16/665 [01:47<1:13:35,  6.80s/it]"
     ]
    },
    {
     "name": "stdout",
     "output_type": "stream",
     "text": [
      "  This cell is rejected by 95% threshold, i.e. does not encode correct path.\n",
      "CPSI:      0.018177361480071746\n",
      "17/665 "
     ]
    },
    {
     "name": "stderr",
     "output_type": "stream",
     "text": [
      "\r",
      "  3%|██                                                                             | 17/665 [01:54<1:13:55,  6.84s/it]"
     ]
    },
    {
     "name": "stdout",
     "output_type": "stream",
     "text": [
      "  This cell is rejected by 95% threshold, i.e. does not encode correct path.\n",
      "CPSI:      0.12211466322701442\n",
      "18/665 "
     ]
    },
    {
     "name": "stderr",
     "output_type": "stream",
     "text": [
      "\r",
      "  3%|██▏                                                                            | 18/665 [02:01<1:13:49,  6.85s/it]"
     ]
    },
    {
     "name": "stdout",
     "output_type": "stream",
     "text": [
      "  Ye! This cell encodes correct path!\n",
      "CPSI:      0.27076036860458386\n",
      "19/665 "
     ]
    },
    {
     "name": "stderr",
     "output_type": "stream",
     "text": [
      "\r",
      "  3%|██▎                                                                            | 19/665 [02:08<1:13:19,  6.81s/it]"
     ]
    },
    {
     "name": "stdout",
     "output_type": "stream",
     "text": [
      "  This cell is rejected by 95% threshold, i.e. does not encode correct path.\n",
      "CPSI:      0.18263229297405537\n",
      "20/665 "
     ]
    },
    {
     "name": "stderr",
     "output_type": "stream",
     "text": [
      "\r",
      "  3%|██▍                                                                            | 20/665 [02:15<1:13:03,  6.80s/it]"
     ]
    },
    {
     "name": "stdout",
     "output_type": "stream",
     "text": [
      "  This cell is rejected by 95% threshold, i.e. does not encode correct path.\n",
      "CPSI:      0.07732988442339457\n",
      "21/665 "
     ]
    },
    {
     "name": "stderr",
     "output_type": "stream",
     "text": [
      "\r",
      "  3%|██▍                                                                            | 21/665 [02:21<1:12:55,  6.79s/it]"
     ]
    },
    {
     "name": "stdout",
     "output_type": "stream",
     "text": [
      "  This cell is rejected by 95% threshold, i.e. does not encode correct path.\n",
      "CPSI:      -0.02682328598353538\n",
      "22/665 "
     ]
    },
    {
     "name": "stderr",
     "output_type": "stream",
     "text": [
      "\r",
      "  3%|██▌                                                                            | 22/665 [02:29<1:15:15,  7.02s/it]"
     ]
    },
    {
     "name": "stdout",
     "output_type": "stream",
     "text": [
      "  This cell is rejected by 95% threshold, i.e. does not encode correct path.\n",
      "CPSI:      -0.06932571746198295\n",
      "23/665 "
     ]
    },
    {
     "name": "stderr",
     "output_type": "stream",
     "text": [
      "\r",
      "  3%|██▋                                                                            | 23/665 [02:36<1:14:57,  7.01s/it]"
     ]
    },
    {
     "name": "stdout",
     "output_type": "stream",
     "text": [
      "  This cell is rejected by 95% threshold, i.e. does not encode correct path.\n",
      "CPSI:      -0.014753321329497087\n",
      "24/665 "
     ]
    },
    {
     "name": "stderr",
     "output_type": "stream",
     "text": [
      "\r",
      "  4%|██▊                                                                            | 24/665 [02:43<1:14:41,  6.99s/it]"
     ]
    },
    {
     "name": "stdout",
     "output_type": "stream",
     "text": [
      "  Ye! This cell encodes correct path!\n",
      "CPSI:      0.3727652167329436\n",
      "25/665 "
     ]
    },
    {
     "name": "stderr",
     "output_type": "stream",
     "text": [
      "\r",
      "  4%|██▉                                                                            | 25/665 [02:50<1:13:57,  6.93s/it]"
     ]
    },
    {
     "name": "stdout",
     "output_type": "stream",
     "text": [
      "  This cell is rejected by 95% threshold, i.e. does not encode correct path.\n",
      "CPSI:      -0.10236766329735014\n",
      "26/665 "
     ]
    },
    {
     "name": "stderr",
     "output_type": "stream",
     "text": [
      "\r",
      "  4%|███                                                                            | 26/665 [02:56<1:13:14,  6.88s/it]"
     ]
    },
    {
     "name": "stdout",
     "output_type": "stream",
     "text": [
      "  This cell is rejected by 95% threshold, i.e. does not encode correct path.\n",
      "CPSI:      0.02762488611664282\n",
      "27/665 "
     ]
    },
    {
     "name": "stderr",
     "output_type": "stream",
     "text": [
      "\r",
      "  4%|███▏                                                                           | 27/665 [03:03<1:12:26,  6.81s/it]"
     ]
    },
    {
     "name": "stdout",
     "output_type": "stream",
     "text": [
      "  This cell is rejected by 95% threshold, i.e. does not encode correct path.\n",
      "CPSI:      0.15874685642034359\n",
      "28/665 "
     ]
    },
    {
     "name": "stderr",
     "output_type": "stream",
     "text": [
      "\r",
      "  4%|███▎                                                                           | 28/665 [03:10<1:11:33,  6.74s/it]"
     ]
    },
    {
     "name": "stdout",
     "output_type": "stream",
     "text": [
      "  This cell is rejected by 95% threshold, i.e. does not encode correct path.\n",
      "CPSI:      -0.10311117473051493\n",
      "29/665 "
     ]
    },
    {
     "name": "stderr",
     "output_type": "stream",
     "text": [
      "\r",
      "  4%|███▍                                                                           | 29/665 [03:17<1:12:02,  6.80s/it]"
     ]
    },
    {
     "name": "stdout",
     "output_type": "stream",
     "text": [
      "  This cell is rejected by 95% threshold, i.e. does not encode correct path.\n",
      "CPSI:      -0.07796476040059387\n",
      "30/665 "
     ]
    },
    {
     "name": "stderr",
     "output_type": "stream",
     "text": [
      "\r",
      "  5%|███▌                                                                           | 30/665 [03:23<1:11:16,  6.74s/it]"
     ]
    },
    {
     "name": "stdout",
     "output_type": "stream",
     "text": [
      "  This cell is rejected by 95% threshold, i.e. does not encode correct path.\n",
      "CPSI:      -0.049669158493515046\n",
      "31/665 "
     ]
    },
    {
     "name": "stderr",
     "output_type": "stream",
     "text": [
      "\r",
      "  5%|███▋                                                                           | 31/665 [03:30<1:10:30,  6.67s/it]"
     ]
    },
    {
     "name": "stdout",
     "output_type": "stream",
     "text": [
      "  This cell is rejected by 95% threshold, i.e. does not encode correct path.\n",
      "CPSI:      -0.14280775078637925\n",
      "32/665 "
     ]
    },
    {
     "name": "stderr",
     "output_type": "stream",
     "text": [
      "\r",
      "  5%|███▊                                                                           | 32/665 [03:36<1:10:29,  6.68s/it]"
     ]
    },
    {
     "name": "stdout",
     "output_type": "stream",
     "text": [
      "  This cell is rejected by 95% threshold, i.e. does not encode correct path.\n",
      "CPSI:      -0.1197134003465253\n",
      "33/665 "
     ]
    },
    {
     "name": "stderr",
     "output_type": "stream",
     "text": [
      "\r",
      "  5%|███▉                                                                           | 33/665 [03:43<1:11:10,  6.76s/it]"
     ]
    },
    {
     "name": "stdout",
     "output_type": "stream",
     "text": [
      "  This cell is rejected by 95% threshold, i.e. does not encode correct path.\n",
      "CPSI:      -0.02281352216390008\n",
      "34/665 "
     ]
    },
    {
     "name": "stderr",
     "output_type": "stream",
     "text": [
      "\r",
      "  5%|████                                                                           | 34/665 [03:50<1:11:37,  6.81s/it]"
     ]
    },
    {
     "name": "stdout",
     "output_type": "stream",
     "text": [
      "  This cell is rejected by 95% threshold, i.e. does not encode correct path.\n",
      "CPSI:      0.034917466247372714\n",
      "35/665 "
     ]
    },
    {
     "name": "stderr",
     "output_type": "stream",
     "text": [
      "\r",
      "  5%|████▏                                                                          | 35/665 [03:58<1:13:56,  7.04s/it]"
     ]
    },
    {
     "name": "stdout",
     "output_type": "stream",
     "text": [
      "  This cell is rejected by 95% threshold, i.e. does not encode correct path.\n",
      "CPSI:      0.04180332056942187\n",
      "36/665 "
     ]
    },
    {
     "name": "stderr",
     "output_type": "stream",
     "text": [
      "\r",
      "  5%|████▎                                                                          | 36/665 [04:05<1:12:59,  6.96s/it]"
     ]
    },
    {
     "name": "stdout",
     "output_type": "stream",
     "text": [
      "  This cell is rejected by 95% threshold, i.e. does not encode correct path.\n",
      "CPSI:      -0.16828816501667482\n",
      "37/665 "
     ]
    },
    {
     "name": "stderr",
     "output_type": "stream",
     "text": [
      "\r",
      "  6%|████▍                                                                          | 37/665 [04:11<1:11:40,  6.85s/it]"
     ]
    },
    {
     "name": "stdout",
     "output_type": "stream",
     "text": [
      "  This cell is rejected by 95% threshold, i.e. does not encode correct path.\n",
      "CPSI:      0.2653800487049351\n",
      "38/665 "
     ]
    },
    {
     "name": "stderr",
     "output_type": "stream",
     "text": [
      "\r",
      "  6%|████▌                                                                          | 38/665 [04:18<1:11:16,  6.82s/it]"
     ]
    },
    {
     "name": "stdout",
     "output_type": "stream",
     "text": [
      "  This cell is rejected by 95% threshold, i.e. does not encode correct path.\n",
      "CPSI:      -0.19038897528302606\n",
      "39/665 "
     ]
    },
    {
     "name": "stderr",
     "output_type": "stream",
     "text": [
      "\r",
      "  6%|████▋                                                                          | 39/665 [04:25<1:11:07,  6.82s/it]"
     ]
    },
    {
     "name": "stdout",
     "output_type": "stream",
     "text": [
      "  Ye! This cell encodes correct path!\n",
      "CPSI:      0.2732595646026431\n",
      "40/665 "
     ]
    },
    {
     "name": "stderr",
     "output_type": "stream",
     "text": [
      "\r",
      "  6%|████▊                                                                          | 40/665 [04:32<1:11:07,  6.83s/it]"
     ]
    },
    {
     "name": "stdout",
     "output_type": "stream",
     "text": [
      "  Ye! This cell encodes correct path!\n",
      "CPSI:      0.3360163896158664\n",
      "41/665 "
     ]
    },
    {
     "name": "stderr",
     "output_type": "stream",
     "text": [
      "\r",
      "  6%|████▊                                                                          | 41/665 [04:39<1:12:00,  6.92s/it]"
     ]
    },
    {
     "name": "stdout",
     "output_type": "stream",
     "text": [
      "  Ye! This cell encodes correct path!\n",
      "CPSI:      0.5968901916127018\n",
      "42/665 "
     ]
    },
    {
     "name": "stderr",
     "output_type": "stream",
     "text": [
      "\r",
      "  6%|████▉                                                                          | 42/665 [04:46<1:12:49,  7.01s/it]"
     ]
    },
    {
     "name": "stdout",
     "output_type": "stream",
     "text": [
      "  This cell is rejected by 95% threshold, i.e. does not encode correct path.\n",
      "CPSI:      -0.0913055323886849\n",
      "43/665 "
     ]
    },
    {
     "name": "stderr",
     "output_type": "stream",
     "text": [
      "\r",
      "  6%|█████                                                                          | 43/665 [04:53<1:12:06,  6.96s/it]"
     ]
    },
    {
     "name": "stdout",
     "output_type": "stream",
     "text": [
      "  This cell is rejected by 95% threshold, i.e. does not encode correct path.\n",
      "CPSI:      -0.016762387683911122\n",
      "44/665 "
     ]
    },
    {
     "name": "stderr",
     "output_type": "stream",
     "text": [
      "\r",
      "  7%|█████▏                                                                         | 44/665 [04:59<1:11:06,  6.87s/it]"
     ]
    },
    {
     "name": "stdout",
     "output_type": "stream",
     "text": [
      "  This cell is rejected by 95% threshold, i.e. does not encode correct path.\n",
      "CPSI:      0.028729264737609273\n",
      "45/665 "
     ]
    },
    {
     "name": "stderr",
     "output_type": "stream",
     "text": [
      "\r",
      "  7%|█████▎                                                                         | 45/665 [05:06<1:10:29,  6.82s/it]"
     ]
    },
    {
     "name": "stdout",
     "output_type": "stream",
     "text": [
      "  This cell is rejected by 95% threshold, i.e. does not encode correct path.\n",
      "CPSI:      0.13565893969555107\n",
      "46/665 "
     ]
    },
    {
     "name": "stderr",
     "output_type": "stream",
     "text": [
      "\r",
      "  7%|█████▍                                                                         | 46/665 [05:13<1:10:11,  6.80s/it]"
     ]
    },
    {
     "name": "stdout",
     "output_type": "stream",
     "text": [
      "  This cell is rejected by 95% threshold, i.e. does not encode correct path.\n",
      "CPSI:      -0.04682572033360632\n",
      "47/665 "
     ]
    },
    {
     "name": "stderr",
     "output_type": "stream",
     "text": [
      "\r",
      "  7%|█████▌                                                                         | 47/665 [05:20<1:11:23,  6.93s/it]"
     ]
    },
    {
     "name": "stdout",
     "output_type": "stream",
     "text": [
      "  This cell is rejected by 95% threshold, i.e. does not encode correct path.\n",
      "CPSI:      0.04030922852975205\n",
      "48/665 "
     ]
    },
    {
     "name": "stderr",
     "output_type": "stream",
     "text": [
      "\r",
      "  7%|█████▋                                                                         | 48/665 [05:27<1:11:44,  6.98s/it]"
     ]
    },
    {
     "name": "stdout",
     "output_type": "stream",
     "text": [
      "  This cell is rejected by 95% threshold, i.e. does not encode correct path.\n",
      "CPSI:      -0.012433507069693194\n",
      "49/665 "
     ]
    },
    {
     "name": "stderr",
     "output_type": "stream",
     "text": [
      "\r",
      "  7%|█████▊                                                                         | 49/665 [05:34<1:11:52,  7.00s/it]"
     ]
    },
    {
     "name": "stdout",
     "output_type": "stream",
     "text": [
      "  Ye! This cell encodes correct path!\n",
      "CPSI:      0.2137270049658028\n",
      "50/665 "
     ]
    },
    {
     "name": "stderr",
     "output_type": "stream",
     "text": [
      "\r",
      "  8%|█████▉                                                                         | 50/665 [05:41<1:12:15,  7.05s/it]"
     ]
    },
    {
     "name": "stdout",
     "output_type": "stream",
     "text": [
      "  This cell is rejected by 95% threshold, i.e. does not encode correct path.\n",
      "CPSI:      -0.026253995430168712\n",
      "51/665 "
     ]
    },
    {
     "name": "stderr",
     "output_type": "stream",
     "text": [
      "\r",
      "  8%|██████                                                                         | 51/665 [05:49<1:12:38,  7.10s/it]"
     ]
    },
    {
     "name": "stdout",
     "output_type": "stream",
     "text": [
      "  This cell is rejected by 95% threshold, i.e. does not encode correct path.\n",
      "CPSI:      0.0457196706058531\n",
      "52/665 "
     ]
    },
    {
     "name": "stderr",
     "output_type": "stream",
     "text": [
      "\r",
      "  8%|██████▏                                                                        | 52/665 [05:56<1:13:16,  7.17s/it]"
     ]
    },
    {
     "name": "stdout",
     "output_type": "stream",
     "text": [
      "  This cell is rejected by 95% threshold, i.e. does not encode correct path.\n",
      "CPSI:      0.08127257772778416\n",
      "53/665 "
     ]
    },
    {
     "name": "stderr",
     "output_type": "stream",
     "text": [
      "\r",
      "  8%|██████▎                                                                        | 53/665 [06:03<1:12:27,  7.10s/it]"
     ]
    },
    {
     "name": "stdout",
     "output_type": "stream",
     "text": [
      "  This cell is rejected by 95% threshold, i.e. does not encode correct path.\n",
      "CPSI:      0.00444836426951368\n",
      "54/665 "
     ]
    },
    {
     "name": "stderr",
     "output_type": "stream",
     "text": [
      "\r",
      "  8%|██████▍                                                                        | 54/665 [06:10<1:12:24,  7.11s/it]"
     ]
    },
    {
     "name": "stdout",
     "output_type": "stream",
     "text": [
      "  This cell is rejected by 95% threshold, i.e. does not encode correct path.\n",
      "CPSI:      0.03923369204727771\n",
      "55/665 "
     ]
    },
    {
     "name": "stderr",
     "output_type": "stream",
     "text": [
      "\r",
      "  8%|██████▌                                                                        | 55/665 [06:17<1:12:04,  7.09s/it]"
     ]
    },
    {
     "name": "stdout",
     "output_type": "stream",
     "text": [
      "  This cell is rejected by 95% threshold, i.e. does not encode correct path.\n",
      "CPSI:      0.13565996551874998\n",
      "56/665 "
     ]
    },
    {
     "name": "stderr",
     "output_type": "stream",
     "text": [
      "\r",
      "  8%|██████▋                                                                        | 56/665 [06:24<1:10:58,  6.99s/it]"
     ]
    },
    {
     "name": "stdout",
     "output_type": "stream",
     "text": [
      "  This cell is rejected by 95% threshold, i.e. does not encode correct path.\n",
      "CPSI:      0.09153614966592953\n",
      "57/665 "
     ]
    },
    {
     "name": "stderr",
     "output_type": "stream",
     "text": [
      "\r",
      "  9%|██████▊                                                                        | 57/665 [06:31<1:11:05,  7.02s/it]"
     ]
    },
    {
     "name": "stdout",
     "output_type": "stream",
     "text": [
      "  This cell is rejected by 95% threshold, i.e. does not encode correct path.\n",
      "CPSI:      0.1902369438752272\n",
      "58/665 "
     ]
    },
    {
     "name": "stderr",
     "output_type": "stream",
     "text": [
      "\r",
      "  9%|██████▉                                                                        | 58/665 [06:38<1:10:42,  6.99s/it]"
     ]
    },
    {
     "name": "stdout",
     "output_type": "stream",
     "text": [
      "  This cell is rejected by 95% threshold, i.e. does not encode correct path.\n",
      "CPSI:      0.13684245050119692\n",
      "59/665 "
     ]
    },
    {
     "name": "stderr",
     "output_type": "stream",
     "text": [
      "\r",
      "  9%|███████                                                                        | 59/665 [06:45<1:09:59,  6.93s/it]"
     ]
    },
    {
     "name": "stdout",
     "output_type": "stream",
     "text": [
      "  Ye! This cell encodes correct path!\n",
      "CPSI:      0.239171721438181\n",
      "60/665 "
     ]
    },
    {
     "name": "stderr",
     "output_type": "stream",
     "text": [
      "\r",
      "  9%|███████▏                                                                       | 60/665 [06:52<1:10:01,  6.94s/it]"
     ]
    },
    {
     "name": "stdout",
     "output_type": "stream",
     "text": [
      "  This cell is rejected by 95% threshold, i.e. does not encode correct path.\n",
      "CPSI:      0.016285430495336806\n",
      "61/665 "
     ]
    },
    {
     "name": "stderr",
     "output_type": "stream",
     "text": [
      "\r",
      "  9%|███████▏                                                                       | 61/665 [06:59<1:09:57,  6.95s/it]"
     ]
    },
    {
     "name": "stdout",
     "output_type": "stream",
     "text": [
      "  This cell is rejected by 95% threshold, i.e. does not encode correct path.\n",
      "CPSI:      0.005773961404279737\n",
      "62/665 "
     ]
    },
    {
     "name": "stderr",
     "output_type": "stream",
     "text": [
      "\r",
      "  9%|███████▎                                                                       | 62/665 [07:06<1:10:17,  6.99s/it]"
     ]
    },
    {
     "name": "stdout",
     "output_type": "stream",
     "text": [
      "  This cell is rejected by 95% threshold, i.e. does not encode correct path.\n",
      "CPSI:      0.007746361368130426\n",
      "63/665 "
     ]
    },
    {
     "name": "stderr",
     "output_type": "stream",
     "text": [
      "\r",
      "  9%|███████▍                                                                       | 63/665 [07:13<1:10:51,  7.06s/it]"
     ]
    },
    {
     "name": "stdout",
     "output_type": "stream",
     "text": [
      "  This cell is rejected by 95% threshold, i.e. does not encode correct path.\n",
      "CPSI:      0.06452528839331849\n",
      "64/665 "
     ]
    },
    {
     "name": "stderr",
     "output_type": "stream",
     "text": [
      "\r",
      " 10%|███████▌                                                                       | 64/665 [07:21<1:12:28,  7.23s/it]"
     ]
    },
    {
     "name": "stdout",
     "output_type": "stream",
     "text": [
      "  This cell is rejected by 95% threshold, i.e. does not encode correct path.\n",
      "CPSI:      0.16540668238394124\n",
      "65/665 "
     ]
    },
    {
     "name": "stderr",
     "output_type": "stream",
     "text": [
      "\r",
      " 10%|███████▋                                                                       | 65/665 [07:28<1:11:47,  7.18s/it]"
     ]
    },
    {
     "name": "stdout",
     "output_type": "stream",
     "text": [
      "  This cell is rejected by 95% threshold, i.e. does not encode correct path.\n",
      "CPSI:      0.09365029114059484\n",
      "66/665 "
     ]
    },
    {
     "name": "stderr",
     "output_type": "stream",
     "text": [
      "\r",
      " 10%|███████▊                                                                       | 66/665 [07:35<1:11:21,  7.15s/it]"
     ]
    },
    {
     "name": "stdout",
     "output_type": "stream",
     "text": [
      "  This cell is rejected by 95% threshold, i.e. does not encode correct path.\n",
      "CPSI:      -0.11565279187220392\n",
      "67/665 "
     ]
    },
    {
     "name": "stderr",
     "output_type": "stream",
     "text": [
      "\r",
      " 10%|███████▉                                                                       | 67/665 [07:42<1:11:25,  7.17s/it]"
     ]
    },
    {
     "name": "stdout",
     "output_type": "stream",
     "text": [
      "  This cell is rejected by 95% threshold, i.e. does not encode correct path.\n",
      "CPSI:      0.027134906306995294\n",
      "68/665 "
     ]
    },
    {
     "name": "stderr",
     "output_type": "stream",
     "text": [
      "\r",
      " 10%|████████                                                                       | 68/665 [07:49<1:10:01,  7.04s/it]"
     ]
    },
    {
     "name": "stdout",
     "output_type": "stream",
     "text": [
      "  This cell is rejected by 95% threshold, i.e. does not encode correct path.\n",
      "CPSI:      0.006741891552328693\n",
      "69/665 "
     ]
    },
    {
     "name": "stderr",
     "output_type": "stream",
     "text": [
      "\r",
      " 10%|████████▏                                                                      | 69/665 [07:56<1:09:59,  7.05s/it]"
     ]
    },
    {
     "name": "stdout",
     "output_type": "stream",
     "text": [
      "  This cell is rejected by 95% threshold, i.e. does not encode correct path.\n",
      "CPSI:      0.01491531037521992\n",
      "70/665 "
     ]
    },
    {
     "name": "stderr",
     "output_type": "stream",
     "text": [
      "\r",
      " 11%|████████▎                                                                      | 70/665 [08:03<1:10:01,  7.06s/it]"
     ]
    },
    {
     "name": "stdout",
     "output_type": "stream",
     "text": [
      "  This cell is rejected by 95% threshold, i.e. does not encode correct path.\n",
      "CPSI:      -0.00497327683351479\n",
      "71/665 "
     ]
    },
    {
     "name": "stderr",
     "output_type": "stream",
     "text": [
      "\r",
      " 11%|████████▍                                                                      | 71/665 [08:10<1:10:14,  7.10s/it]"
     ]
    },
    {
     "name": "stdout",
     "output_type": "stream",
     "text": [
      "  This cell is rejected by 95% threshold, i.e. does not encode correct path.\n",
      "CPSI:      0.06554573884821892\n",
      "72/665 "
     ]
    },
    {
     "name": "stderr",
     "output_type": "stream",
     "text": [
      "\r",
      " 11%|████████▌                                                                      | 72/665 [08:17<1:10:43,  7.16s/it]"
     ]
    },
    {
     "name": "stdout",
     "output_type": "stream",
     "text": [
      "  This cell is rejected by 95% threshold, i.e. does not encode correct path.\n",
      "CPSI:      0.022300176586855968\n",
      "73/665 "
     ]
    },
    {
     "name": "stderr",
     "output_type": "stream",
     "text": [
      "\r",
      " 11%|████████▋                                                                      | 73/665 [08:24<1:10:13,  7.12s/it]"
     ]
    },
    {
     "name": "stdout",
     "output_type": "stream",
     "text": [
      "  This cell is rejected by 95% threshold, i.e. does not encode correct path.\n",
      "CPSI:      0.1999216965149022\n",
      "74/665 "
     ]
    },
    {
     "name": "stderr",
     "output_type": "stream",
     "text": [
      "\r",
      " 11%|████████▊                                                                      | 74/665 [08:31<1:09:36,  7.07s/it]"
     ]
    },
    {
     "name": "stdout",
     "output_type": "stream",
     "text": [
      "  This cell is rejected by 95% threshold, i.e. does not encode correct path.\n",
      "CPSI:      -0.059044956742849465\n",
      "75/665 "
     ]
    },
    {
     "name": "stderr",
     "output_type": "stream",
     "text": [
      "\r",
      " 11%|████████▉                                                                      | 75/665 [08:38<1:08:40,  6.98s/it]"
     ]
    },
    {
     "name": "stdout",
     "output_type": "stream",
     "text": [
      "  This cell is rejected by 95% threshold, i.e. does not encode correct path.\n",
      "CPSI:      0.17005066968408208\n",
      "76/665 "
     ]
    },
    {
     "name": "stderr",
     "output_type": "stream",
     "text": [
      "\r",
      " 11%|█████████                                                                      | 76/665 [08:45<1:07:54,  6.92s/it]"
     ]
    },
    {
     "name": "stdout",
     "output_type": "stream",
     "text": [
      "  This cell is rejected by 95% threshold, i.e. does not encode correct path.\n",
      "CPSI:      0.06115172466391495\n",
      "77/665 "
     ]
    },
    {
     "name": "stderr",
     "output_type": "stream",
     "text": [
      "\r",
      " 12%|█████████▏                                                                     | 77/665 [08:52<1:08:04,  6.95s/it]"
     ]
    },
    {
     "name": "stdout",
     "output_type": "stream",
     "text": [
      "  This cell is rejected by 95% threshold, i.e. does not encode correct path.\n",
      "CPSI:      -0.06716170602126653\n",
      "78/665 "
     ]
    },
    {
     "name": "stderr",
     "output_type": "stream",
     "text": [
      "\r",
      " 12%|█████████▎                                                                     | 78/665 [08:59<1:08:44,  7.03s/it]"
     ]
    },
    {
     "name": "stdout",
     "output_type": "stream",
     "text": [
      "  This cell is rejected by 95% threshold, i.e. does not encode correct path.\n",
      "CPSI:      -0.04439176321109754\n",
      "79/665 "
     ]
    },
    {
     "name": "stderr",
     "output_type": "stream",
     "text": [
      "\r",
      " 12%|█████████▍                                                                     | 79/665 [09:06<1:08:21,  7.00s/it]"
     ]
    },
    {
     "name": "stdout",
     "output_type": "stream",
     "text": [
      "  This cell is rejected by 95% threshold, i.e. does not encode correct path.\n",
      "CPSI:      0.042751153442078894\n",
      "80/665 "
     ]
    },
    {
     "name": "stderr",
     "output_type": "stream",
     "text": [
      "\r",
      " 12%|█████████▌                                                                     | 80/665 [09:13<1:08:12,  7.00s/it]"
     ]
    },
    {
     "name": "stdout",
     "output_type": "stream",
     "text": [
      "  This cell is rejected by 95% threshold, i.e. does not encode correct path.\n",
      "CPSI:      -0.08745714522916358\n",
      "81/665 "
     ]
    },
    {
     "name": "stderr",
     "output_type": "stream",
     "text": [
      "\r",
      " 12%|█████████▌                                                                     | 81/665 [09:20<1:07:06,  6.89s/it]"
     ]
    },
    {
     "name": "stdout",
     "output_type": "stream",
     "text": [
      "  This cell is rejected by 95% threshold, i.e. does not encode correct path.\n",
      "CPSI:      0.08499070076975465\n",
      "82/665 "
     ]
    },
    {
     "name": "stderr",
     "output_type": "stream",
     "text": [
      "\r",
      " 12%|█████████▋                                                                     | 82/665 [09:26<1:05:56,  6.79s/it]"
     ]
    },
    {
     "name": "stdout",
     "output_type": "stream",
     "text": [
      "  This cell is rejected by 95% threshold, i.e. does not encode correct path.\n",
      "CPSI:      0.4555182199412081\n",
      "83/665 "
     ]
    },
    {
     "name": "stderr",
     "output_type": "stream",
     "text": [
      "\r",
      " 12%|█████████▊                                                                     | 83/665 [09:42<1:33:42,  9.66s/it]"
     ]
    },
    {
     "name": "stdout",
     "output_type": "stream",
     "text": [
      "  This cell is rejected by 95% threshold, i.e. does not encode correct path.\n",
      "CPSI:      0.016246692394147045\n",
      "84/665 "
     ]
    },
    {
     "name": "stderr",
     "output_type": "stream",
     "text": [
      "\r",
      " 13%|█████████▉                                                                     | 84/665 [09:59<1:52:56, 11.66s/it]"
     ]
    },
    {
     "name": "stdout",
     "output_type": "stream",
     "text": [
      "  This cell is rejected by 95% threshold, i.e. does not encode correct path.\n",
      "CPSI:      -0.3107189712435007\n",
      "85/665 "
     ]
    },
    {
     "name": "stderr",
     "output_type": "stream",
     "text": [
      "\r",
      " 13%|██████████                                                                     | 85/665 [10:15<2:06:46, 13.12s/it]"
     ]
    },
    {
     "name": "stdout",
     "output_type": "stream",
     "text": [
      "  This cell is rejected by 95% threshold, i.e. does not encode correct path.\n",
      "CPSI:      0.009618340137922277\n",
      "86/665 "
     ]
    },
    {
     "name": "stderr",
     "output_type": "stream",
     "text": [
      "\r",
      " 13%|██████████▏                                                                    | 86/665 [10:32<2:15:45, 14.07s/it]"
     ]
    },
    {
     "name": "stdout",
     "output_type": "stream",
     "text": [
      "  This cell is rejected by 95% threshold, i.e. does not encode correct path.\n",
      "CPSI:      0.03279162362758159\n",
      "87/665 "
     ]
    },
    {
     "name": "stderr",
     "output_type": "stream",
     "text": [
      "\r",
      " 13%|██████████▎                                                                    | 87/665 [10:48<2:22:24, 14.78s/it]"
     ]
    },
    {
     "name": "stdout",
     "output_type": "stream",
     "text": [
      "  This cell is rejected by 95% threshold, i.e. does not encode correct path.\n",
      "CPSI:      0.06759418679158925\n",
      "88/665 "
     ]
    },
    {
     "name": "stderr",
     "output_type": "stream",
     "text": [
      "\r",
      " 13%|██████████▍                                                                    | 88/665 [11:05<2:27:14, 15.31s/it]"
     ]
    },
    {
     "name": "stdout",
     "output_type": "stream",
     "text": [
      "  This cell is rejected by 95% threshold, i.e. does not encode correct path.\n",
      "CPSI:      0.04892549880482691\n",
      "89/665 "
     ]
    },
    {
     "name": "stderr",
     "output_type": "stream",
     "text": [
      "\r",
      " 13%|██████████▌                                                                    | 89/665 [11:21<2:30:52, 15.72s/it]"
     ]
    },
    {
     "name": "stdout",
     "output_type": "stream",
     "text": [
      "  This cell is rejected by 95% threshold, i.e. does not encode correct path.\n",
      "CPSI:      0.07746871969235167\n",
      "90/665 "
     ]
    },
    {
     "name": "stderr",
     "output_type": "stream",
     "text": [
      "\r",
      " 14%|██████████▋                                                                    | 90/665 [11:38<2:33:09, 15.98s/it]"
     ]
    },
    {
     "name": "stdout",
     "output_type": "stream",
     "text": [
      "  This cell is rejected by 95% threshold, i.e. does not encode correct path.\n",
      "CPSI:      0.12396695712174674\n",
      "91/665 "
     ]
    },
    {
     "name": "stderr",
     "output_type": "stream",
     "text": [
      "\r",
      " 14%|██████████▊                                                                    | 91/665 [11:54<2:32:35, 15.95s/it]"
     ]
    },
    {
     "name": "stdout",
     "output_type": "stream",
     "text": [
      "  This cell is rejected by 95% threshold, i.e. does not encode correct path.\n",
      "CPSI:      0.07335112600608092\n",
      "92/665 "
     ]
    },
    {
     "name": "stderr",
     "output_type": "stream",
     "text": [
      "\r",
      " 14%|██████████▉                                                                    | 92/665 [12:10<2:34:17, 16.16s/it]"
     ]
    },
    {
     "name": "stdout",
     "output_type": "stream",
     "text": [
      "  Ye! This cell encodes correct path!\n",
      "CPSI:      0.4603485587909767\n",
      "93/665 "
     ]
    },
    {
     "name": "stderr",
     "output_type": "stream",
     "text": [
      "\r",
      " 14%|███████████                                                                    | 93/665 [12:27<2:36:01, 16.37s/it]"
     ]
    },
    {
     "name": "stdout",
     "output_type": "stream",
     "text": [
      "  This cell is rejected by 95% threshold, i.e. does not encode correct path.\n",
      "CPSI:      0.061483510089787\n",
      "94/665 "
     ]
    },
    {
     "name": "stderr",
     "output_type": "stream",
     "text": [
      "\r",
      " 14%|███████████▏                                                                   | 94/665 [12:44<2:36:13, 16.42s/it]"
     ]
    },
    {
     "name": "stdout",
     "output_type": "stream",
     "text": [
      "  This cell is rejected by 95% threshold, i.e. does not encode correct path.\n",
      "CPSI:      0.07875854717650757\n",
      "95/665 "
     ]
    },
    {
     "name": "stderr",
     "output_type": "stream",
     "text": [
      "\r",
      " 14%|███████████▎                                                                   | 95/665 [13:00<2:35:43, 16.39s/it]"
     ]
    },
    {
     "name": "stdout",
     "output_type": "stream",
     "text": [
      "  This cell is rejected by 95% threshold, i.e. does not encode correct path.\n",
      "CPSI:      0.20809883794427417\n",
      "96/665 "
     ]
    },
    {
     "name": "stderr",
     "output_type": "stream",
     "text": [
      "\r",
      " 14%|███████████▍                                                                   | 96/665 [13:17<2:35:46, 16.43s/it]"
     ]
    },
    {
     "name": "stdout",
     "output_type": "stream",
     "text": [
      "  Ye! This cell encodes correct path!\n",
      "CPSI:      0.4906101529541525\n",
      "97/665 "
     ]
    }
   ],
   "source": [
    "# correct path selective index (CPSI): (FR_correct - FR_incorrect)/(FR_correct + FR_incorrect)\n",
    "# spatial information (for one neuron) \n",
    "\n",
    "# Calculate CPSI\n",
    "def calc_CPSI(spikes, spike_nodes, t_total, t_nodes_frac, maze_type = 1):\n",
    "    co_path = CorrectPath_maze_1 if maze_type == 1 else CorrectPath_maze_2\n",
    "    inc_path = IncorrectPath_maze_1 if maze_type else IncorrectPath_maze_2\n",
    "    \n",
    "    # time used for correct path and incorrect path, either.\n",
    "    t_total_co = t_total * np.nansum([t_nodes_frac[i-1] for i in co_path])\n",
    "    t_total_inc = t_total * np.nansum([t_nodes_frac[i-1] for i in inc_path])\n",
    "    \n",
    "    # check if t_total_co + t_total_inc = t_total\n",
    "    if t_total_co + t_total_inc - t_total > 0.0001 or t_total_co + t_total_inc - t_total < -0.0001:\n",
    "        print(\"WARNING!!! t_total_co, t_total_inc calculate error!\")\n",
    "        print(\"///\",t_total_co,\"+\",t_total_inc,'=?',t_total)\n",
    "    \n",
    "    # spikes number of each bin in correct path and incorrect path, either.\n",
    "    co_count = [np.nansum(np.where((spike_nodes == co_path[i])&(spikes == 1))[0]) for i in range(len(co_path))]\n",
    "    correct_spikes_number = np.nansum(co_count) # total spikes number in correct path\n",
    "    inc_count = [np.nansum(np.where((spike_nodes == inc_path[i])&(spikes == 1))[0]) for i in range(len(inc_path))]\n",
    "    incorrect_spikes_number = np.nansum(inc_count) # total spikes number in incorrect path\n",
    "    \n",
    "    \n",
    "    # mean firing rate.\n",
    "    meanFR_co = correct_spikes_number / t_total_co\n",
    "    meanFR_inc = incorrect_spikes_number / t_total_inc\n",
    "    #print(\"co_spikes:\",correct_spikes_number)\n",
    "    #print(\"in_spikes:\",incorrect_spikes_number)\n",
    "    #print(\"meanFR_co:\",meanFR_co)\n",
    "    #print(\"meanFR_in:\",meanFR_inc)\n",
    "    \n",
    "    CPSI = (meanFR_co - meanFR_inc)/(meanFR_co + meanFR_inc)\n",
    "    #print(\"CPSI:     \",CPSI)\n",
    "    return CPSI\n",
    "\n",
    "# 1000 times isi shuffle\n",
    "def isCorrectPathEncodingCell(spikes, spike_nodes, t_total, t_nodes_frac,maze_type = 1):\n",
    "    CPSI = calc_CPSI(spikes=spikes, spike_nodes=spike_nodes, t_total=t_total, t_nodes_frac=t_nodes_frac, maze_type = maze_type)\n",
    "    \n",
    "    _nbins = 144\n",
    "    _coords_range = [0, _nbins +0.0001 ]\n",
    "    # shuffle information for 1000 times\n",
    "    shuffle_n = 1000\n",
    "    CPSI_rand = np.zeros(shuffle_n)\n",
    "    for i in range(shuffle_n):\n",
    "        shuffle_tmp = np.random.randint(len(spikes))\n",
    "        spikes_rand = np.roll(spikes, shuffle_tmp)\n",
    "        spike_freq_rand, _, _ = scipy.stats.binned_statistic(\n",
    "            spike_nodes,\n",
    "            spikes_rand,\n",
    "            bins=_nbins,\n",
    "            statistic=\"sum\",\n",
    "            range=_coords_range)\n",
    "        CPSI_rand[i] = calc_CPSI(spikes = spikes_rand, spike_nodes = spike_nodes, t_total = t_total, t_nodes_frac=t_nodes_frac, maze_type = maze_type)\n",
    "    CPSI_thres = np.percentile(CPSI_rand, 95)\n",
    "    if CPSI < CPSI_thres:\n",
    "        print(\"  This cell is rejected by 95% threshold, i.e. does not encode correct path.\" )\n",
    "        print(\"CPSI:     \",CPSI)\n",
    "        return 0, CPSI\n",
    "    else:\n",
    "        print(\"  Ye! This cell encodes correct path!\")\n",
    "        print(\"CPSI:     \",CPSI)\n",
    "        return 1, CPSI\n",
    "\n",
    "# Generate all neuron's (combine all mice data together) selective information and save into 2 lists: \n",
    "# the 'is_CPEC_isi' which consists of values 0,1, only. 0 represents this neuron is not a CPEC, while 1 represents this neuron is CPEC\n",
    "# the 'CPSI_all' which saves the absolute value of CPSI calculated by function calc_CPSI()\n",
    "def Get_CPEC_1day(training_days = 1, maze_type = 1):\n",
    "    \n",
    "    # Get_split_msdata(training_days, maze_type, data_type,path_type) is used to generate a list of spikes, spike_nodes, t_total\n",
    "    # t_nodes_frac of all neurons that have been detected in 1 certain day(training_days).\n",
    "    # This function has been tested for many times and no bug is found, so you can use it directly.\n",
    "    spikes, spike_nodes, t_total, t_nodes_frac = Get_split_msdata(training_days = training_days, maze_type = maze_type, data_type = 'spikes',path_type = 'ap')\n",
    "    \n",
    "    \n",
    "    is_CPEC_isi = np.zeros(len(spikes))\n",
    "    CPSI_all = np.zeros(len(spikes))\n",
    "    \n",
    "    # In place cells identificaiton there're some cases (for example, mice 10019, date 4_20, neuron 23) that found some \n",
    "    # 'silent neurons' which has indistinct firing activity and as a result, the size of spike_ind is 0 and could not be able \n",
    "    # to used for further shuffling. \n",
    "    # So, whenever the size of spike_ind is equal to zero, stop shuffling and return 0, because the silent neuron \n",
    "    # is actually neither a place cell nor a correct path/incorrect path encoding cell.\n",
    "    SilentCell = []\n",
    "    isSilent = np.zeros(len(spikes))\n",
    "    for i in range(len(spikes)):\n",
    "        isSilent[i] = isSilentNeuron(spikes[i][:])\n",
    "        if isSilent[i] == 0:\n",
    "            SilentCell.append(i)\n",
    "            \n",
    "    for i in tqdm(range(len(spikes))):\n",
    "        # So whenever meet a silent cell, skip it and remain its is_CPEC_isi value and CPSI_all value as 0.\n",
    "        if i in SilentCell:\n",
    "            continue\n",
    "        print(str(i+1)+\"/\"+str(len(spikes))+\" \",end='')\n",
    "        is_CPEC_isi[i], CPSI_all[i] = isCorrectPathEncodingCell(spikes[i], spike_nodes[i], t_total[i], t_nodes_frac[i],maze_type = maze_type)\n",
    "    print(is_CPEC_isi, CPSI_all)\n",
    "    \n",
    "    return is_CPEC_isi, CPSI_all\n",
    "\n",
    "# Judge whether a neuron is 'silent' from its spike sequence.\n",
    "def isSilentNeuron(spikes):\n",
    "    spike_ind = np.where(spikes==1)[0] # spike index\n",
    "    if np.shape(spike_ind)[0] == 0:\n",
    "        return 0\n",
    "    else:\n",
    "        return 1\n",
    "\n",
    "# Generate CPEC information of all training days(9 days for maze 1 and 8 days for maze 2) and save them as a pickle file\n",
    "# because the CPEC information generation costs too much times and it seems really necessary to avoiding running generation codes\n",
    "# again.\n",
    "def Get_CPEC_Allday():\n",
    "    is_CPEC_isi_all_maze1 = []\n",
    "    is_CPEC_isi_all_maze2 = []\n",
    "    CPSI_all_maze1 = []\n",
    "    CPSI_all_maze2 = []\n",
    "    for i in range(0,9):\n",
    "        is_CPEC_isi, CPSI_all = Get_CPEC_1day(training_days = i+1, maze_type = 1)\n",
    "        is_CPEC_isi_all_maze1.append(is_CPEC_isi)\n",
    "        CPSI_all_maze1.append(CPSI_all)\n",
    "\n",
    "    for i in range(0,8):\n",
    "        is_CPEC_isi, CPSI_all = Get_CPEC_1day(training_days = i+1, maze_type = 2)\n",
    "        is_CPEC_isi_all_maze2.append(is_CPEC_isi)\n",
    "        CPSI_all_maze2.append(CPSI_all)        \n",
    "        \n",
    "    path = os.path.join(totalpath,\"all_mice_data_maze\\CPEC.pkl\")\n",
    "    with open(path, 'wb') as f:\n",
    "        pickle.dump([is_CPEC_isi_all_maze1,CPSI_all_maze1,is_CPEC_isi_all_maze2,CPSI_all_maze2], f)\n",
    "    \n",
    "Get_CPEC_Allday()"
   ]
  }
 ],
 "metadata": {
  "kernelspec": {
   "display_name": "Python 3 (ipykernel)",
   "language": "python",
   "name": "python3"
  },
  "language_info": {
   "codemirror_mode": {
    "name": "ipython",
    "version": 3
   },
   "file_extension": ".py",
   "mimetype": "text/x-python",
   "name": "python",
   "nbconvert_exporter": "python",
   "pygments_lexer": "ipython3",
   "version": "3.8.0"
  }
 },
 "nbformat": 4,
 "nbformat_minor": 5
}
