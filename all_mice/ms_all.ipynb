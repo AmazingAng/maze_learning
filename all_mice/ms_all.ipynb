{
 "cells": [
  {
   "cell_type": "code",
   "execution_count": 1,
   "metadata": {},
   "outputs": [],
   "source": [
    "import pandas as pd\n",
    "from scipy.io import loadmat\n",
    "import matplotlib.pyplot as plt\n",
    "import pickle\n",
    "import h5py\n",
    "import cv2\n",
    "import os\n",
    "import numpy as np\n",
    "import time\n",
    "import sklearn.preprocessing\n",
    "from tqdm import tqdm\n",
    "from matplotlib.backends.backend_pdf import PdfPages\n",
    "import pylab as pl\n",
    "\n",
    "from maze_utils import *\n",
    "from behav_utils import *\n",
    "from ms_utils import *\n",
    "\n",
    "mice_status = pd.read_excel(\"mice_maze_metadataAng.xlsx\", sheet_name=0)\n",
    "mice_names = mice_status[\"name\"].values\n",
    "data = pd.read_excel(\"mice_maze_metadataAng.xlsx\", sheet_name=2)\n",
    "if not os.path.exists('data'):\n",
    "    os.makedirs('data')\n",
    "if not os.path.exists('img'):\n",
    "    os.makedirs('img')"
   ]
  },
  {
   "cell_type": "code",
   "execution_count": 2,
   "metadata": {},
   "outputs": [
    {
     "name": "stdout",
     "output_type": "stream",
     "text": [
      "M10019maze1Day1\n",
      "0    Z:/miniscope_recording/maze/4_18_2020/10019H16...\n",
      "Name: recording_folder_local, dtype: object\n",
      "The maze is bidirectional, Ye!\n",
      "Node 1 is Decision point\n",
      "Node 2 is Leaf node\n",
      "Node 13 is Decision point\n",
      "Node 6 is Decision point\n",
      "Node 8 is Leaf node\n",
      "Node 17 is Decision point\n",
      "Node 28 is Leaf node\n",
      "Node 30 is Decision point\n",
      "Node 24 is Decision point\n",
      "Node 84 is Decision point\n",
      "Node 94 is Decision point\n",
      "Node 55 is Decision point\n",
      "Node 43 is Leaf node\n",
      "Node 54 is Decision point\n",
      "Node 53 is Leaf node\n",
      "Node 51 is Decision point\n",
      "Node 39 is Decision point\n",
      "Node 40 is Leaf node\n",
      "Node 97 is Decision point\n",
      "Node 86 is Leaf node\n",
      "Node 109 is Decision point\n",
      "Node 129 is Decision point\n",
      "Node 139 is Leaf node\n",
      "Node 142 is Decision point\n",
      "Node 130 is Decision point\n",
      "Node 120 is Leaf node\n",
      "Node 144 is Leaf node\n",
      "Node 143 is Leaf node\n",
      "Node 135 is Leaf node\n",
      "Node 52 is Leaf node\n",
      "Node 93 is Leaf node\n",
      "Node 96 is Leaf node\n",
      "Node 35 is Leaf node\n",
      "Node 41 is Leaf node\n",
      "Node 25 is Leaf node\n",
      "Shortest path =  1 13 14 26 27 15 3 4 5 6 18 17 29 30 31 19 20 21 9 10 11 12 24 23 22 34 33 32 44 45 46 47 48 60 59 58 57 56 68 69 70 71 72 84 83 95 94 82 81 80 92 104 103 91 90 78 79 67 55 54 66 65 64 63 75 74 62 50 51 39 38 37 49 61 73 85 97 109 110 122 123 111 112 100 99 87 88 76 77 89 101 102 114 113 125 124 136 137 138 126 127 115 116 117 129 141 142 130 131 132 144\n",
      "Shortest path =  1 13 14 26 27 15 3 4 5 6 18 17 29 30 31 19 20 21 9 10 11 12 24 23 22 34 33 32 44 45 46 47 48 60 59 58 57 56 68 69 70 71 72 84 83 95 94 82 81 80 92 104 103 91 90 78 79 67 55 54 66 65 64 63 75 74 62 50 51 39 38 37 49 61 73 85 97 109 110 122 123 111 112 100 99 87 88 76 77 89 101 102 114 113 125 124 136 137 138 126 127 115 116 117 129 141 142 130 131 132 144\n"
     ]
    },
    {
     "name": "stderr",
     "output_type": "stream",
     "text": [
      "100%|██████████████████████████████████████████████████████████████████████████████████| 82/82 [02:29<00:00,  1.82s/it]\n"
     ]
    },
    {
     "name": "stdout",
     "output_type": "stream",
     "text": [
      "# of place cell using time shift shuffle method: 28.0 / 82\n"
     ]
    },
    {
     "name": "stderr",
     "output_type": "stream",
     "text": [
      "100%|██████████████████████████████████████████████████████████████████████████████████| 82/82 [02:23<00:00,  1.74s/it]\n"
     ]
    },
    {
     "name": "stdout",
     "output_type": "stream",
     "text": [
      "# of run cell using time shift shuffle method: 21.0 / 82\n",
      "M10019maze1Day2\n",
      "1    Z:/miniscope_recording/maze/4_19_2020/10019H16...\n",
      "Name: recording_folder_local, dtype: object\n",
      "The maze is bidirectional, Ye!\n",
      "Node 1 is Decision point\n",
      "Node 2 is Leaf node\n",
      "Node 13 is Decision point\n",
      "Node 6 is Decision point\n",
      "Node 8 is Leaf node\n",
      "Node 17 is Decision point\n",
      "Node 28 is Leaf node\n",
      "Node 30 is Decision point\n",
      "Node 24 is Decision point\n",
      "Node 84 is Decision point\n",
      "Node 94 is Decision point\n",
      "Node 55 is Decision point\n",
      "Node 43 is Leaf node\n",
      "Node 54 is Decision point\n",
      "Node 53 is Leaf node\n",
      "Node 51 is Decision point\n",
      "Node 39 is Decision point\n",
      "Node 40 is Leaf node\n",
      "Node 97 is Decision point\n",
      "Node 86 is Leaf node\n",
      "Node 109 is Decision point\n",
      "Node 129 is Decision point\n",
      "Node 139 is Leaf node\n",
      "Node 142 is Decision point\n",
      "Node 130 is Decision point\n",
      "Node 120 is Leaf node\n",
      "Node 144 is Leaf node\n",
      "Node 143 is Leaf node\n",
      "Node 135 is Leaf node\n",
      "Node 52 is Leaf node\n",
      "Node 93 is Leaf node\n",
      "Node 96 is Leaf node\n",
      "Node 35 is Leaf node\n",
      "Node 41 is Leaf node\n",
      "Node 25 is Leaf node\n",
      "Shortest path =  1 13 14 26 27 15 3 4 5 6 18 17 29 30 31 19 20 21 9 10 11 12 24 23 22 34 33 32 44 45 46 47 48 60 59 58 57 56 68 69 70 71 72 84 83 95 94 82 81 80 92 104 103 91 90 78 79 67 55 54 66 65 64 63 75 74 62 50 51 39 38 37 49 61 73 85 97 109 110 122 123 111 112 100 99 87 88 76 77 89 101 102 114 113 125 124 136 137 138 126 127 115 116 117 129 141 142 130 131 132 144\n",
      "Shortest path =  1 13 14 26 27 15 3 4 5 6 18 17 29 30 31 19 20 21 9 10 11 12 24 23 22 34 33 32 44 45 46 47 48 60 59 58 57 56 68 69 70 71 72 84 83 95 94 82 81 80 92 104 103 91 90 78 79 67 55 54 66 65 64 63 75 74 62 50 51 39 38 37 49 61 73 85 97 109 110 122 123 111 112 100 99 87 88 76 77 89 101 102 114 113 125 124 136 137 138 126 127 115 116 117 129 141 142 130 131 132 144\n"
     ]
    },
    {
     "name": "stderr",
     "output_type": "stream",
     "text": [
      "100%|██████████████████████████████████████████████████████████████████████████████████| 52/52 [01:26<00:00,  1.67s/it]\n"
     ]
    },
    {
     "name": "stdout",
     "output_type": "stream",
     "text": [
      "# of place cell using time shift shuffle method: 31.0 / 52\n"
     ]
    },
    {
     "name": "stderr",
     "output_type": "stream",
     "text": [
      "100%|██████████████████████████████████████████████████████████████████████████████████| 52/52 [01:22<00:00,  1.59s/it]\n"
     ]
    },
    {
     "name": "stdout",
     "output_type": "stream",
     "text": [
      "# of run cell using time shift shuffle method: 32.0 / 52\n",
      "M10019maze1Day3\n",
      "2    Z:/miniscope_recording/maze/4_20_2020/10019H21...\n",
      "Name: recording_folder_local, dtype: object\n",
      "The maze is bidirectional, Ye!\n",
      "Node 1 is Decision point\n",
      "Node 2 is Leaf node\n",
      "Node 13 is Decision point\n",
      "Node 6 is Decision point\n",
      "Node 8 is Leaf node\n",
      "Node 17 is Decision point\n",
      "Node 28 is Leaf node\n",
      "Node 30 is Decision point\n",
      "Node 24 is Decision point\n",
      "Node 84 is Decision point\n",
      "Node 94 is Decision point\n",
      "Node 55 is Decision point\n",
      "Node 43 is Leaf node\n",
      "Node 54 is Decision point\n",
      "Node 53 is Leaf node\n",
      "Node 51 is Decision point\n",
      "Node 39 is Decision point\n",
      "Node 40 is Leaf node\n",
      "Node 97 is Decision point\n",
      "Node 86 is Leaf node\n",
      "Node 109 is Decision point\n",
      "Node 129 is Decision point\n",
      "Node 139 is Leaf node\n",
      "Node 142 is Decision point\n",
      "Node 130 is Decision point\n",
      "Node 120 is Leaf node\n",
      "Node 144 is Leaf node\n",
      "Node 143 is Leaf node\n",
      "Node 135 is Leaf node\n",
      "Node 52 is Leaf node\n",
      "Node 93 is Leaf node\n",
      "Node 96 is Leaf node\n",
      "Node 35 is Leaf node\n",
      "Node 41 is Leaf node\n",
      "Node 25 is Leaf node\n",
      "Shortest path =  1 13 14 26 27 15 3 4 5 6 18 17 29 30 31 19 20 21 9 10 11 12 24 23 22 34 33 32 44 45 46 47 48 60 59 58 57 56 68 69 70 71 72 84 83 95 94 82 81 80 92 104 103 91 90 78 79 67 55 54 66 65 64 63 75 74 62 50 51 39 38 37 49 61 73 85 97 109 110 122 123 111 112 100 99 87 88 76 77 89 101 102 114 113 125 124 136 137 138 126 127 115 116 117 129 141 142 130 131 132 144\n",
      "Shortest path =  1 13 14 26 27 15 3 4 5 6 18 17 29 30 31 19 20 21 9 10 11 12 24 23 22 34 33 32 44 45 46 47 48 60 59 58 57 56 68 69 70 71 72 84 83 95 94 82 81 80 92 104 103 91 90 78 79 67 55 54 66 65 64 63 75 74 62 50 51 39 38 37 49 61 73 85 97 109 110 122 123 111 112 100 99 87 88 76 77 89 101 102 114 113 125 124 136 137 138 126 127 115 116 117 129 141 142 130 131 132 144\n"
     ]
    },
    {
     "name": "stderr",
     "output_type": "stream",
     "text": [
      " 88%|████████████████████████████████████████████████████████████████████████▏         | 22/25 [00:52<00:07,  2.40s/it]D:\\Research\\exploration in maze\\code\\AllMice\\ms_utils.py:10: RuntimeWarning: invalid value encountered in true_divide\n",
      "  logArg = rate_map / mean_rate;\n",
      "D:\\Research\\exploration in maze\\code\\AllMice\\ms_utils.py:14: RuntimeWarning: invalid value encountered in double_scalars\n",
      "  SI = IC / mean_rate; # spatial information (bits/spike)\n",
      "100%|██████████████████████████████████████████████████████████████████████████████████| 25/25 [00:59<00:00,  2.40s/it]\n"
     ]
    },
    {
     "name": "stdout",
     "output_type": "stream",
     "text": [
      "# of place cell using time shift shuffle method: 20.0 / 25\n"
     ]
    },
    {
     "name": "stderr",
     "output_type": "stream",
     "text": [
      "100%|██████████████████████████████████████████████████████████████████████████████████| 25/25 [00:57<00:00,  2.29s/it]\n"
     ]
    },
    {
     "name": "stdout",
     "output_type": "stream",
     "text": [
      "# of run cell using time shift shuffle method: 21.0 / 25\n",
      "M10019maze1Day4\n",
      "3    Z:/miniscope_recording/maze/4_21_2020/10019H20...\n",
      "Name: recording_folder_local, dtype: object\n",
      "The maze is bidirectional, Ye!\n",
      "Node 1 is Decision point\n",
      "Node 2 is Leaf node\n",
      "Node 13 is Decision point\n",
      "Node 6 is Decision point\n",
      "Node 8 is Leaf node\n",
      "Node 17 is Decision point\n",
      "Node 28 is Leaf node\n",
      "Node 30 is Decision point\n",
      "Node 24 is Decision point\n",
      "Node 84 is Decision point\n",
      "Node 94 is Decision point\n",
      "Node 55 is Decision point\n",
      "Node 43 is Leaf node\n",
      "Node 54 is Decision point\n",
      "Node 53 is Leaf node\n",
      "Node 51 is Decision point\n",
      "Node 39 is Decision point\n",
      "Node 40 is Leaf node\n",
      "Node 97 is Decision point\n",
      "Node 86 is Leaf node\n",
      "Node 109 is Decision point\n",
      "Node 129 is Decision point\n",
      "Node 139 is Leaf node\n",
      "Node 142 is Decision point\n",
      "Node 130 is Decision point\n",
      "Node 120 is Leaf node\n",
      "Node 144 is Leaf node\n",
      "Node 143 is Leaf node\n",
      "Node 135 is Leaf node\n",
      "Node 52 is Leaf node\n",
      "Node 93 is Leaf node\n",
      "Node 96 is Leaf node\n",
      "Node 35 is Leaf node\n",
      "Node 41 is Leaf node\n",
      "Node 25 is Leaf node\n",
      "Shortest path =  1 13 14 26 27 15 3 4 5 6 18 17 29 30 31 19 20 21 9 10 11 12 24 23 22 34 33 32 44 45 46 47 48 60 59 58 57 56 68 69 70 71 72 84 83 95 94 82 81 80 92 104 103 91 90 78 79 67 55 54 66 65 64 63 75 74 62 50 51 39 38 37 49 61 73 85 97 109 110 122 123 111 112 100 99 87 88 76 77 89 101 102 114 113 125 124 136 137 138 126 127 115 116 117 129 141 142 130 131 132 144\n",
      "Shortest path =  1 13 14 26 27 15 3 4 5 6 18 17 29 30 31 19 20 21 9 10 11 12 24 23 22 34 33 32 44 45 46 47 48 60 59 58 57 56 68 69 70 71 72 84 83 95 94 82 81 80 92 104 103 91 90 78 79 67 55 54 66 65 64 63 75 74 62 50 51 39 38 37 49 61 73 85 97 109 110 122 123 111 112 100 99 87 88 76 77 89 101 102 114 113 125 124 136 137 138 126 127 115 116 117 129 141 142 130 131 132 144\n"
     ]
    },
    {
     "name": "stderr",
     "output_type": "stream",
     "text": [
      "100%|██████████████████████████████████████████████████████████████████████████████████| 30/30 [00:11<00:00,  2.59it/s]\n"
     ]
    },
    {
     "name": "stdout",
     "output_type": "stream",
     "text": [
      "# of place cell using time shift shuffle method: 4.0 / 30\n"
     ]
    },
    {
     "name": "stderr",
     "output_type": "stream",
     "text": [
      "100%|██████████████████████████████████████████████████████████████████████████████████| 30/30 [00:11<00:00,  2.67it/s]\n"
     ]
    },
    {
     "name": "stdout",
     "output_type": "stream",
     "text": [
      "# of run cell using time shift shuffle method: 4.0 / 30\n",
      "M10019maze1Day5\n",
      "4    Z:/miniscope_recording/maze/4_22_2020/10019H10...\n",
      "Name: recording_folder_local, dtype: object\n",
      "The maze is bidirectional, Ye!\n",
      "Node 1 is Decision point\n",
      "Node 2 is Leaf node\n",
      "Node 13 is Decision point\n",
      "Node 6 is Decision point\n",
      "Node 8 is Leaf node\n",
      "Node 17 is Decision point\n",
      "Node 28 is Leaf node\n",
      "Node 30 is Decision point\n",
      "Node 24 is Decision point\n",
      "Node 84 is Decision point\n",
      "Node 94 is Decision point\n",
      "Node 55 is Decision point\n",
      "Node 43 is Leaf node\n",
      "Node 54 is Decision point\n",
      "Node 53 is Leaf node\n",
      "Node 51 is Decision point\n",
      "Node 39 is Decision point\n",
      "Node 40 is Leaf node\n",
      "Node 97 is Decision point\n",
      "Node 86 is Leaf node\n",
      "Node 109 is Decision point\n",
      "Node 129 is Decision point\n",
      "Node 139 is Leaf node\n",
      "Node 142 is Decision point\n",
      "Node 130 is Decision point\n",
      "Node 120 is Leaf node\n",
      "Node 144 is Leaf node\n",
      "Node 143 is Leaf node\n",
      "Node 135 is Leaf node\n",
      "Node 52 is Leaf node\n",
      "Node 93 is Leaf node\n",
      "Node 96 is Leaf node\n",
      "Node 35 is Leaf node\n",
      "Node 41 is Leaf node\n",
      "Node 25 is Leaf node\n",
      "Shortest path =  1 13 14 26 27 15 3 4 5 6 18 17 29 30 31 19 20 21 9 10 11 12 24 23 22 34 33 32 44 45 46 47 48 60 59 58 57 56 68 69 70 71 72 84 83 95 94 82 81 80 92 104 103 91 90 78 79 67 55 54 66 65 64 63 75 74 62 50 51 39 38 37 49 61 73 85 97 109 110 122 123 111 112 100 99 87 88 76 77 89 101 102 114 113 125 124 136 137 138 126 127 115 116 117 129 141 142 130 131 132 144\n",
      "Shortest path =  1 13 14 26 27 15 3 4 5 6 18 17 29 30 31 19 20 21 9 10 11 12 24 23 22 34 33 32 44 45 46 47 48 60 59 58 57 56 68 69 70 71 72 84 83 95 94 82 81 80 92 104 103 91 90 78 79 67 55 54 66 65 64 63 75 74 62 50 51 39 38 37 49 61 73 85 97 109 110 122 123 111 112 100 99 87 88 76 77 89 101 102 114 113 125 124 136 137 138 126 127 115 116 117 129 141 142 130 131 132 144\n"
     ]
    },
    {
     "name": "stderr",
     "output_type": "stream",
     "text": [
      "100%|██████████████████████████████████████████████████████████████████████████████████| 45/45 [00:21<00:00,  2.09it/s]\n"
     ]
    },
    {
     "name": "stdout",
     "output_type": "stream",
     "text": [
      "# of place cell using time shift shuffle method: 19.0 / 45\n"
     ]
    },
    {
     "name": "stderr",
     "output_type": "stream",
     "text": [
      "100%|██████████████████████████████████████████████████████████████████████████████████| 45/45 [00:20<00:00,  2.15it/s]\n"
     ]
    },
    {
     "name": "stdout",
     "output_type": "stream",
     "text": [
      "# of run cell using time shift shuffle method: 18.0 / 45\n",
      "M10019maze1Day6\n",
      "5    Z:/miniscope_recording/maze/4_23_2020/10019H10...\n",
      "Name: recording_folder_local, dtype: object\n",
      "The maze is bidirectional, Ye!\n",
      "Node 1 is Decision point\n",
      "Node 2 is Leaf node\n",
      "Node 13 is Decision point\n",
      "Node 6 is Decision point\n",
      "Node 8 is Leaf node\n",
      "Node 17 is Decision point\n",
      "Node 28 is Leaf node\n",
      "Node 30 is Decision point\n",
      "Node 24 is Decision point\n",
      "Node 84 is Decision point\n",
      "Node 94 is Decision point\n",
      "Node 55 is Decision point\n",
      "Node 43 is Leaf node\n",
      "Node 54 is Decision point\n",
      "Node 53 is Leaf node\n",
      "Node 51 is Decision point\n",
      "Node 39 is Decision point\n",
      "Node 40 is Leaf node\n",
      "Node 97 is Decision point\n",
      "Node 86 is Leaf node\n",
      "Node 109 is Decision point\n",
      "Node 129 is Decision point\n",
      "Node 139 is Leaf node\n",
      "Node 142 is Decision point\n",
      "Node 130 is Decision point\n",
      "Node 120 is Leaf node\n",
      "Node 144 is Leaf node\n",
      "Node 143 is Leaf node\n",
      "Node 135 is Leaf node\n",
      "Node 52 is Leaf node\n",
      "Node 93 is Leaf node\n",
      "Node 96 is Leaf node\n",
      "Node 35 is Leaf node\n",
      "Node 41 is Leaf node\n",
      "Node 25 is Leaf node\n",
      "Shortest path =  1 13 14 26 27 15 3 4 5 6 18 17 29 30 31 19 20 21 9 10 11 12 24 23 22 34 33 32 44 45 46 47 48 60 59 58 57 56 68 69 70 71 72 84 83 95 94 82 81 80 92 104 103 91 90 78 79 67 55 54 66 65 64 63 75 74 62 50 51 39 38 37 49 61 73 85 97 109 110 122 123 111 112 100 99 87 88 76 77 89 101 102 114 113 125 124 136 137 138 126 127 115 116 117 129 141 142 130 131 132 144\n",
      "Shortest path =  1 13 14 26 27 15 3 4 5 6 18 17 29 30 31 19 20 21 9 10 11 12 24 23 22 34 33 32 44 45 46 47 48 60 59 58 57 56 68 69 70 71 72 84 83 95 94 82 81 80 92 104 103 91 90 78 79 67 55 54 66 65 64 63 75 74 62 50 51 39 38 37 49 61 73 85 97 109 110 122 123 111 112 100 99 87 88 76 77 89 101 102 114 113 125 124 136 137 138 126 127 115 116 117 129 141 142 130 131 132 144\n"
     ]
    },
    {
     "name": "stderr",
     "output_type": "stream",
     "text": [
      "100%|██████████████████████████████████████████████████████████████████████████████████| 71/71 [00:34<00:00,  2.06it/s]\n"
     ]
    },
    {
     "name": "stdout",
     "output_type": "stream",
     "text": [
      "# of place cell using time shift shuffle method: 16.0 / 71\n"
     ]
    },
    {
     "name": "stderr",
     "output_type": "stream",
     "text": [
      "100%|██████████████████████████████████████████████████████████████████████████████████| 71/71 [00:32<00:00,  2.16it/s]\n"
     ]
    },
    {
     "name": "stdout",
     "output_type": "stream",
     "text": [
      "# of run cell using time shift shuffle method: 12.0 / 71\n",
      "M10019maze1Day7\n",
      "6    Z:/miniscope_recording/maze/4_24_2020/10019H10...\n",
      "Name: recording_folder_local, dtype: object\n",
      "The maze is bidirectional, Ye!\n",
      "Node 1 is Decision point\n",
      "Node 2 is Leaf node\n",
      "Node 13 is Decision point\n",
      "Node 6 is Decision point\n",
      "Node 8 is Leaf node\n",
      "Node 17 is Decision point\n",
      "Node 28 is Leaf node\n",
      "Node 30 is Decision point\n",
      "Node 24 is Decision point\n",
      "Node 84 is Decision point\n",
      "Node 94 is Decision point\n",
      "Node 55 is Decision point\n",
      "Node 43 is Leaf node\n",
      "Node 54 is Decision point\n",
      "Node 53 is Leaf node\n",
      "Node 51 is Decision point\n",
      "Node 39 is Decision point\n",
      "Node 40 is Leaf node\n",
      "Node 97 is Decision point\n",
      "Node 86 is Leaf node\n",
      "Node 109 is Decision point\n",
      "Node 129 is Decision point\n",
      "Node 139 is Leaf node\n",
      "Node 142 is Decision point\n",
      "Node 130 is Decision point\n",
      "Node 120 is Leaf node\n",
      "Node 144 is Leaf node\n",
      "Node 143 is Leaf node\n",
      "Node 135 is Leaf node\n",
      "Node 52 is Leaf node\n",
      "Node 93 is Leaf node\n",
      "Node 96 is Leaf node\n",
      "Node 35 is Leaf node\n",
      "Node 41 is Leaf node\n",
      "Node 25 is Leaf node\n",
      "Shortest path =  1 13 14 26 27 15 3 4 5 6 18 17 29 30 31 19 20 21 9 10 11 12 24 23 22 34 33 32 44 45 46 47 48 60 59 58 57 56 68 69 70 71 72 84 83 95 94 82 81 80 92 104 103 91 90 78 79 67 55 54 66 65 64 63 75 74 62 50 51 39 38 37 49 61 73 85 97 109 110 122 123 111 112 100 99 87 88 76 77 89 101 102 114 113 125 124 136 137 138 126 127 115 116 117 129 141 142 130 131 132 144\n",
      "Shortest path =  1 13 14 26 27 15 3 4 5 6 18 17 29 30 31 19 20 21 9 10 11 12 24 23 22 34 33 32 44 45 46 47 48 60 59 58 57 56 68 69 70 71 72 84 83 95 94 82 81 80 92 104 103 91 90 78 79 67 55 54 66 65 64 63 75 74 62 50 51 39 38 37 49 61 73 85 97 109 110 122 123 111 112 100 99 87 88 76 77 89 101 102 114 113 125 124 136 137 138 126 127 115 116 117 129 141 142 130 131 132 144\n"
     ]
    },
    {
     "name": "stderr",
     "output_type": "stream",
     "text": [
      "100%|████████████████████████████████████████████████████████████████████████████████| 131/131 [01:22<00:00,  1.60it/s]\n"
     ]
    },
    {
     "name": "stdout",
     "output_type": "stream",
     "text": [
      "# of place cell using time shift shuffle method: 28.0 / 131\n"
     ]
    },
    {
     "name": "stderr",
     "output_type": "stream",
     "text": [
      "100%|████████████████████████████████████████████████████████████████████████████████| 131/131 [01:18<00:00,  1.66it/s]\n"
     ]
    },
    {
     "name": "stdout",
     "output_type": "stream",
     "text": [
      "# of run cell using time shift shuffle method: 28.0 / 131\n",
      "M10019maze1Day8\n",
      "7    Z:/miniscope_recording/maze/4_25_2020/10019H10...\n",
      "Name: recording_folder_local, dtype: object\n",
      "The maze is bidirectional, Ye!\n",
      "Node 1 is Decision point\n",
      "Node 2 is Leaf node\n",
      "Node 13 is Decision point\n",
      "Node 6 is Decision point\n",
      "Node 8 is Leaf node\n",
      "Node 17 is Decision point\n",
      "Node 28 is Leaf node\n",
      "Node 30 is Decision point\n",
      "Node 24 is Decision point\n",
      "Node 84 is Decision point\n",
      "Node 94 is Decision point\n",
      "Node 55 is Decision point\n",
      "Node 43 is Leaf node\n",
      "Node 54 is Decision point\n",
      "Node 53 is Leaf node\n",
      "Node 51 is Decision point\n",
      "Node 39 is Decision point\n",
      "Node 40 is Leaf node\n",
      "Node 97 is Decision point\n",
      "Node 86 is Leaf node\n",
      "Node 109 is Decision point\n",
      "Node 129 is Decision point\n",
      "Node 139 is Leaf node\n",
      "Node 142 is Decision point\n",
      "Node 130 is Decision point\n",
      "Node 120 is Leaf node\n",
      "Node 144 is Leaf node\n",
      "Node 143 is Leaf node\n",
      "Node 135 is Leaf node\n",
      "Node 52 is Leaf node\n",
      "Node 93 is Leaf node\n",
      "Node 96 is Leaf node\n",
      "Node 35 is Leaf node\n",
      "Node 41 is Leaf node\n",
      "Node 25 is Leaf node\n",
      "Shortest path =  1 13 14 26 27 15 3 4 5 6 18 17 29 30 31 19 20 21 9 10 11 12 24 23 22 34 33 32 44 45 46 47 48 60 59 58 57 56 68 69 70 71 72 84 83 95 94 82 81 80 92 104 103 91 90 78 79 67 55 54 66 65 64 63 75 74 62 50 51 39 38 37 49 61 73 85 97 109 110 122 123 111 112 100 99 87 88 76 77 89 101 102 114 113 125 124 136 137 138 126 127 115 116 117 129 141 142 130 131 132 144\n",
      "Shortest path =  1 13 14 26 27 15 3 4 5 6 18 17 29 30 31 19 20 21 9 10 11 12 24 23 22 34 33 32 44 45 46 47 48 60 59 58 57 56 68 69 70 71 72 84 83 95 94 82 81 80 92 104 103 91 90 78 79 67 55 54 66 65 64 63 75 74 62 50 51 39 38 37 49 61 73 85 97 109 110 122 123 111 112 100 99 87 88 76 77 89 101 102 114 113 125 124 136 137 138 126 127 115 116 117 129 141 142 130 131 132 144\n"
     ]
    },
    {
     "name": "stderr",
     "output_type": "stream",
     "text": [
      "100%|██████████████████████████████████████████████████████████████████████████████████| 60/60 [00:50<00:00,  1.19it/s]\n"
     ]
    },
    {
     "name": "stdout",
     "output_type": "stream",
     "text": [
      "# of place cell using time shift shuffle method: 30.0 / 60\n"
     ]
    },
    {
     "name": "stderr",
     "output_type": "stream",
     "text": [
      "100%|██████████████████████████████████████████████████████████████████████████████████| 60/60 [00:47<00:00,  1.26it/s]\n"
     ]
    },
    {
     "name": "stdout",
     "output_type": "stream",
     "text": [
      "# of run cell using time shift shuffle method: 15.0 / 60\n",
      "M10021maze1Day1\n",
      "16    Z:/miniscope_recording/maze/4_17_2020/10021H19...\n",
      "Name: recording_folder_local, dtype: object\n",
      "The maze is bidirectional, Ye!\n",
      "Node 1 is Decision point\n",
      "Node 2 is Leaf node\n",
      "Node 13 is Decision point\n",
      "Node 6 is Decision point\n",
      "Node 8 is Leaf node\n",
      "Node 17 is Decision point\n",
      "Node 28 is Leaf node\n",
      "Node 30 is Decision point\n",
      "Node 24 is Decision point\n",
      "Node 84 is Decision point\n",
      "Node 94 is Decision point\n",
      "Node 55 is Decision point\n",
      "Node 43 is Leaf node\n",
      "Node 54 is Decision point\n",
      "Node 53 is Leaf node\n",
      "Node 51 is Decision point\n",
      "Node 39 is Decision point\n",
      "Node 40 is Leaf node\n",
      "Node 97 is Decision point\n",
      "Node 86 is Leaf node\n",
      "Node 109 is Decision point\n",
      "Node 129 is Decision point\n",
      "Node 139 is Leaf node\n",
      "Node 142 is Decision point\n",
      "Node 130 is Decision point\n",
      "Node 120 is Leaf node\n",
      "Node 144 is Leaf node\n",
      "Node 143 is Leaf node\n",
      "Node 135 is Leaf node\n",
      "Node 52 is Leaf node\n",
      "Node 93 is Leaf node\n",
      "Node 96 is Leaf node\n",
      "Node 35 is Leaf node\n",
      "Node 41 is Leaf node\n",
      "Node 25 is Leaf node\n",
      "Shortest path =  1 13 14 26 27 15 3 4 5 6 18 17 29 30 31 19 20 21 9 10 11 12 24 23 22 34 33 32 44 45 46 47 48 60 59 58 57 56 68 69 70 71 72 84 83 95 94 82 81 80 92 104 103 91 90 78 79 67 55 54 66 65 64 63 75 74 62 50 51 39 38 37 49 61 73 85 97 109 110 122 123 111 112 100 99 87 88 76 77 89 101 102 114 113 125 124 136 137 138 126 127 115 116 117 129 141 142 130 131 132 144\n",
      "Shortest path =  1 13 14 26 27 15 3 4 5 6 18 17 29 30 31 19 20 21 9 10 11 12 24 23 22 34 33 32 44 45 46 47 48 60 59 58 57 56 68 69 70 71 72 84 83 95 94 82 81 80 92 104 103 91 90 78 79 67 55 54 66 65 64 63 75 74 62 50 51 39 38 37 49 61 73 85 97 109 110 122 123 111 112 100 99 87 88 76 77 89 101 102 114 113 125 124 136 137 138 126 127 115 116 117 129 141 142 130 131 132 144\n"
     ]
    },
    {
     "name": "stderr",
     "output_type": "stream",
     "text": [
      "100%|██████████████████████████████████████████████████████████████████████████████████| 31/31 [02:38<00:00,  5.11s/it]\n"
     ]
    },
    {
     "name": "stdout",
     "output_type": "stream",
     "text": [
      "# of place cell using time shift shuffle method: 24.0 / 31\n"
     ]
    },
    {
     "name": "stderr",
     "output_type": "stream",
     "text": [
      "100%|██████████████████████████████████████████████████████████████████████████████████| 31/31 [02:32<00:00,  4.93s/it]\n"
     ]
    },
    {
     "name": "stdout",
     "output_type": "stream",
     "text": [
      "# of run cell using time shift shuffle method: 24.0 / 31\n",
      "M10021maze1Day2\n",
      "17    Z:/miniscope_recording/maze/4_18_2020/10021H18...\n",
      "Name: recording_folder_local, dtype: object\n",
      "The maze is bidirectional, Ye!\n",
      "Node 1 is Decision point\n",
      "Node 2 is Leaf node\n",
      "Node 13 is Decision point\n",
      "Node 6 is Decision point\n",
      "Node 8 is Leaf node\n",
      "Node 17 is Decision point\n",
      "Node 28 is Leaf node\n",
      "Node 30 is Decision point\n",
      "Node 24 is Decision point\n",
      "Node 84 is Decision point\n",
      "Node 94 is Decision point\n",
      "Node 55 is Decision point\n",
      "Node 43 is Leaf node\n",
      "Node 54 is Decision point\n",
      "Node 53 is Leaf node\n",
      "Node 51 is Decision point\n",
      "Node 39 is Decision point\n",
      "Node 40 is Leaf node\n",
      "Node 97 is Decision point\n",
      "Node 86 is Leaf node\n",
      "Node 109 is Decision point\n",
      "Node 129 is Decision point\n",
      "Node 139 is Leaf node\n",
      "Node 142 is Decision point\n",
      "Node 130 is Decision point\n",
      "Node 120 is Leaf node\n",
      "Node 144 is Leaf node\n",
      "Node 143 is Leaf node\n",
      "Node 135 is Leaf node\n",
      "Node 52 is Leaf node\n",
      "Node 93 is Leaf node\n",
      "Node 96 is Leaf node\n",
      "Node 35 is Leaf node\n",
      "Node 41 is Leaf node\n",
      "Node 25 is Leaf node\n",
      "Shortest path =  1 13 14 26 27 15 3 4 5 6 18 17 29 30 31 19 20 21 9 10 11 12 24 23 22 34 33 32 44 45 46 47 48 60 59 58 57 56 68 69 70 71 72 84 83 95 94 82 81 80 92 104 103 91 90 78 79 67 55 54 66 65 64 63 75 74 62 50 51 39 38 37 49 61 73 85 97 109 110 122 123 111 112 100 99 87 88 76 77 89 101 102 114 113 125 124 136 137 138 126 127 115 116 117 129 141 142 130 131 132 144\n",
      "Shortest path =  1 13 14 26 27 15 3 4 5 6 18 17 29 30 31 19 20 21 9 10 11 12 24 23 22 34 33 32 44 45 46 47 48 60 59 58 57 56 68 69 70 71 72 84 83 95 94 82 81 80 92 104 103 91 90 78 79 67 55 54 66 65 64 63 75 74 62 50 51 39 38 37 49 61 73 85 97 109 110 122 123 111 112 100 99 87 88 76 77 89 101 102 114 113 125 124 136 137 138 126 127 115 116 117 129 141 142 130 131 132 144\n"
     ]
    },
    {
     "name": "stderr",
     "output_type": "stream",
     "text": [
      "100%|██████████████████████████████████████████████████████████████████████████████████| 47/47 [01:00<00:00,  1.29s/it]\n"
     ]
    },
    {
     "name": "stdout",
     "output_type": "stream",
     "text": [
      "# of place cell using time shift shuffle method: 23.0 / 47\n"
     ]
    },
    {
     "name": "stderr",
     "output_type": "stream",
     "text": [
      "100%|██████████████████████████████████████████████████████████████████████████████████| 47/47 [00:57<00:00,  1.22s/it]\n"
     ]
    },
    {
     "name": "stdout",
     "output_type": "stream",
     "text": [
      "# of run cell using time shift shuffle method: 22.0 / 47\n",
      "M10021maze1Day3\n",
      "18    Z:/miniscope_recording/maze/4_19_2020/10021_H1...\n",
      "Name: recording_folder_local, dtype: object\n",
      "The maze is bidirectional, Ye!\n",
      "Node 1 is Decision point\n",
      "Node 2 is Leaf node\n",
      "Node 13 is Decision point\n",
      "Node 6 is Decision point\n",
      "Node 8 is Leaf node\n",
      "Node 17 is Decision point\n",
      "Node 28 is Leaf node\n",
      "Node 30 is Decision point\n",
      "Node 24 is Decision point\n",
      "Node 84 is Decision point\n",
      "Node 94 is Decision point\n",
      "Node 55 is Decision point\n",
      "Node 43 is Leaf node\n",
      "Node 54 is Decision point\n",
      "Node 53 is Leaf node\n",
      "Node 51 is Decision point\n",
      "Node 39 is Decision point\n",
      "Node 40 is Leaf node\n",
      "Node 97 is Decision point\n",
      "Node 86 is Leaf node\n",
      "Node 109 is Decision point\n",
      "Node 129 is Decision point\n",
      "Node 139 is Leaf node\n",
      "Node 142 is Decision point\n",
      "Node 130 is Decision point\n",
      "Node 120 is Leaf node\n",
      "Node 144 is Leaf node\n",
      "Node 143 is Leaf node\n",
      "Node 135 is Leaf node\n",
      "Node 52 is Leaf node\n",
      "Node 93 is Leaf node\n",
      "Node 96 is Leaf node\n",
      "Node 35 is Leaf node\n",
      "Node 41 is Leaf node\n",
      "Node 25 is Leaf node\n",
      "Shortest path =  1 13 14 26 27 15 3 4 5 6 18 17 29 30 31 19 20 21 9 10 11 12 24 23 22 34 33 32 44 45 46 47 48 60 59 58 57 56 68 69 70 71 72 84 83 95 94 82 81 80 92 104 103 91 90 78 79 67 55 54 66 65 64 63 75 74 62 50 51 39 38 37 49 61 73 85 97 109 110 122 123 111 112 100 99 87 88 76 77 89 101 102 114 113 125 124 136 137 138 126 127 115 116 117 129 141 142 130 131 132 144\n",
      "Shortest path =  1 13 14 26 27 15 3 4 5 6 18 17 29 30 31 19 20 21 9 10 11 12 24 23 22 34 33 32 44 45 46 47 48 60 59 58 57 56 68 69 70 71 72 84 83 95 94 82 81 80 92 104 103 91 90 78 79 67 55 54 66 65 64 63 75 74 62 50 51 39 38 37 49 61 73 85 97 109 110 122 123 111 112 100 99 87 88 76 77 89 101 102 114 113 125 124 136 137 138 126 127 115 116 117 129 141 142 130 131 132 144\n"
     ]
    },
    {
     "name": "stderr",
     "output_type": "stream",
     "text": [
      "100%|██████████████████████████████████████████████████████████████████████████████████| 43/43 [00:28<00:00,  1.51it/s]\n"
     ]
    },
    {
     "name": "stdout",
     "output_type": "stream",
     "text": [
      "# of place cell using time shift shuffle method: 9.0 / 43\n"
     ]
    },
    {
     "name": "stderr",
     "output_type": "stream",
     "text": [
      "100%|██████████████████████████████████████████████████████████████████████████████████| 43/43 [00:27<00:00,  1.57it/s]\n"
     ]
    },
    {
     "name": "stdout",
     "output_type": "stream",
     "text": [
      "# of run cell using time shift shuffle method: 7.0 / 43\n",
      "M10021maze1Day4\n",
      "19    Z:/miniscope_recording/maze/4_20_2020/10021H20...\n",
      "Name: recording_folder_local, dtype: object\n",
      "The maze is bidirectional, Ye!\n",
      "Node 1 is Decision point\n",
      "Node 2 is Leaf node\n",
      "Node 13 is Decision point\n",
      "Node 6 is Decision point\n",
      "Node 8 is Leaf node\n",
      "Node 17 is Decision point\n",
      "Node 28 is Leaf node\n",
      "Node 30 is Decision point\n",
      "Node 24 is Decision point\n",
      "Node 84 is Decision point\n",
      "Node 94 is Decision point\n",
      "Node 55 is Decision point\n",
      "Node 43 is Leaf node\n",
      "Node 54 is Decision point\n",
      "Node 53 is Leaf node\n",
      "Node 51 is Decision point\n",
      "Node 39 is Decision point\n",
      "Node 40 is Leaf node\n",
      "Node 97 is Decision point\n",
      "Node 86 is Leaf node\n",
      "Node 109 is Decision point\n",
      "Node 129 is Decision point\n",
      "Node 139 is Leaf node\n",
      "Node 142 is Decision point\n",
      "Node 130 is Decision point\n",
      "Node 120 is Leaf node\n",
      "Node 144 is Leaf node\n",
      "Node 143 is Leaf node\n",
      "Node 135 is Leaf node\n",
      "Node 52 is Leaf node\n",
      "Node 93 is Leaf node\n",
      "Node 96 is Leaf node\n",
      "Node 35 is Leaf node\n",
      "Node 41 is Leaf node\n",
      "Node 25 is Leaf node\n",
      "Shortest path =  1 13 14 26 27 15 3 4 5 6 18 17 29 30 31 19 20 21 9 10 11 12 24 23 22 34 33 32 44 45 46 47 48 60 59 58 57 56 68 69 70 71 72 84 83 95 94 82 81 80 92 104 103 91 90 78 79 67 55 54 66 65 64 63 75 74 62 50 51 39 38 37 49 61 73 85 97 109 110 122 123 111 112 100 99 87 88 76 77 89 101 102 114 113 125 124 136 137 138 126 127 115 116 117 129 141 142 130 131 132 144\n",
      "Shortest path =  1 13 14 26 27 15 3 4 5 6 18 17 29 30 31 19 20 21 9 10 11 12 24 23 22 34 33 32 44 45 46 47 48 60 59 58 57 56 68 69 70 71 72 84 83 95 94 82 81 80 92 104 103 91 90 78 79 67 55 54 66 65 64 63 75 74 62 50 51 39 38 37 49 61 73 85 97 109 110 122 123 111 112 100 99 87 88 76 77 89 101 102 114 113 125 124 136 137 138 126 127 115 116 117 129 141 142 130 131 132 144\n"
     ]
    },
    {
     "name": "stderr",
     "output_type": "stream",
     "text": [
      "100%|████████████████████████████████████████████████████████████████████████████████| 245/245 [11:13<00:00,  2.75s/it]\n"
     ]
    },
    {
     "name": "stdout",
     "output_type": "stream",
     "text": [
      "# of place cell using time shift shuffle method: 7.0 / 245\n"
     ]
    },
    {
     "name": "stderr",
     "output_type": "stream",
     "text": [
      "100%|████████████████████████████████████████████████████████████████████████████████| 245/245 [10:52<00:00,  2.66s/it]\n"
     ]
    },
    {
     "name": "stdout",
     "output_type": "stream",
     "text": [
      "# of run cell using time shift shuffle method: 20.0 / 245\n",
      "M10021maze1Day5\n",
      "20    Z:/miniscope_recording/maze/4_21_2020/10021H20...\n",
      "Name: recording_folder_local, dtype: object\n",
      "The maze is bidirectional, Ye!\n",
      "Node 1 is Decision point\n",
      "Node 2 is Leaf node\n",
      "Node 13 is Decision point\n",
      "Node 6 is Decision point\n",
      "Node 8 is Leaf node\n",
      "Node 17 is Decision point\n",
      "Node 28 is Leaf node\n",
      "Node 30 is Decision point\n",
      "Node 24 is Decision point\n",
      "Node 84 is Decision point\n",
      "Node 94 is Decision point\n",
      "Node 55 is Decision point\n",
      "Node 43 is Leaf node\n",
      "Node 54 is Decision point\n",
      "Node 53 is Leaf node\n",
      "Node 51 is Decision point\n",
      "Node 39 is Decision point\n",
      "Node 40 is Leaf node\n",
      "Node 97 is Decision point\n",
      "Node 86 is Leaf node\n",
      "Node 109 is Decision point\n",
      "Node 129 is Decision point\n",
      "Node 139 is Leaf node\n",
      "Node 142 is Decision point\n",
      "Node 130 is Decision point\n",
      "Node 120 is Leaf node\n",
      "Node 144 is Leaf node\n",
      "Node 143 is Leaf node\n",
      "Node 135 is Leaf node\n",
      "Node 52 is Leaf node\n",
      "Node 93 is Leaf node\n",
      "Node 96 is Leaf node\n",
      "Node 35 is Leaf node\n",
      "Node 41 is Leaf node\n",
      "Node 25 is Leaf node\n",
      "Shortest path =  1 13 14 26 27 15 3 4 5 6 18 17 29 30 31 19 20 21 9 10 11 12 24 23 22 34 33 32 44 45 46 47 48 60 59 58 57 56 68 69 70 71 72 84 83 95 94 82 81 80 92 104 103 91 90 78 79 67 55 54 66 65 64 63 75 74 62 50 51 39 38 37 49 61 73 85 97 109 110 122 123 111 112 100 99 87 88 76 77 89 101 102 114 113 125 124 136 137 138 126 127 115 116 117 129 141 142 130 131 132 144\n",
      "Shortest path =  1 13 14 26 27 15 3 4 5 6 18 17 29 30 31 19 20 21 9 10 11 12 24 23 22 34 33 32 44 45 46 47 48 60 59 58 57 56 68 69 70 71 72 84 83 95 94 82 81 80 92 104 103 91 90 78 79 67 55 54 66 65 64 63 75 74 62 50 51 39 38 37 49 61 73 85 97 109 110 122 123 111 112 100 99 87 88 76 77 89 101 102 114 113 125 124 136 137 138 126 127 115 116 117 129 141 142 130 131 132 144\n"
     ]
    },
    {
     "name": "stderr",
     "output_type": "stream",
     "text": [
      "100%|██████████████████████████████████████████████████████████████████████████████████| 21/21 [00:09<00:00,  2.27it/s]\n"
     ]
    },
    {
     "name": "stdout",
     "output_type": "stream",
     "text": [
      "# of place cell using time shift shuffle method: 5.0 / 21\n"
     ]
    },
    {
     "name": "stderr",
     "output_type": "stream",
     "text": [
      "100%|██████████████████████████████████████████████████████████████████████████████████| 21/21 [00:08<00:00,  2.35it/s]\n"
     ]
    },
    {
     "name": "stdout",
     "output_type": "stream",
     "text": [
      "# of run cell using time shift shuffle method: 1.0 / 21\n",
      "M10021maze1Day6\n",
      "21    Z:/miniscope_recording/maze/4_22_2020/10021H11...\n",
      "Name: recording_folder_local, dtype: object\n",
      "The maze is bidirectional, Ye!\n",
      "Node 1 is Decision point\n",
      "Node 2 is Leaf node\n",
      "Node 13 is Decision point\n",
      "Node 6 is Decision point\n",
      "Node 8 is Leaf node\n",
      "Node 17 is Decision point\n",
      "Node 28 is Leaf node\n",
      "Node 30 is Decision point\n",
      "Node 24 is Decision point\n",
      "Node 84 is Decision point\n",
      "Node 94 is Decision point\n",
      "Node 55 is Decision point\n",
      "Node 43 is Leaf node\n",
      "Node 54 is Decision point\n",
      "Node 53 is Leaf node\n",
      "Node 51 is Decision point\n",
      "Node 39 is Decision point\n",
      "Node 40 is Leaf node\n",
      "Node 97 is Decision point\n",
      "Node 86 is Leaf node\n",
      "Node 109 is Decision point\n",
      "Node 129 is Decision point\n",
      "Node 139 is Leaf node\n",
      "Node 142 is Decision point\n",
      "Node 130 is Decision point\n",
      "Node 120 is Leaf node\n",
      "Node 144 is Leaf node\n",
      "Node 143 is Leaf node\n",
      "Node 135 is Leaf node\n",
      "Node 52 is Leaf node\n",
      "Node 93 is Leaf node\n",
      "Node 96 is Leaf node\n",
      "Node 35 is Leaf node\n",
      "Node 41 is Leaf node\n",
      "Node 25 is Leaf node\n",
      "Shortest path =  1 13 14 26 27 15 3 4 5 6 18 17 29 30 31 19 20 21 9 10 11 12 24 23 22 34 33 32 44 45 46 47 48 60 59 58 57 56 68 69 70 71 72 84 83 95 94 82 81 80 92 104 103 91 90 78 79 67 55 54 66 65 64 63 75 74 62 50 51 39 38 37 49 61 73 85 97 109 110 122 123 111 112 100 99 87 88 76 77 89 101 102 114 113 125 124 136 137 138 126 127 115 116 117 129 141 142 130 131 132 144\n",
      "Shortest path =  1 13 14 26 27 15 3 4 5 6 18 17 29 30 31 19 20 21 9 10 11 12 24 23 22 34 33 32 44 45 46 47 48 60 59 58 57 56 68 69 70 71 72 84 83 95 94 82 81 80 92 104 103 91 90 78 79 67 55 54 66 65 64 63 75 74 62 50 51 39 38 37 49 61 73 85 97 109 110 122 123 111 112 100 99 87 88 76 77 89 101 102 114 113 125 124 136 137 138 126 127 115 116 117 129 141 142 130 131 132 144\n"
     ]
    },
    {
     "name": "stderr",
     "output_type": "stream",
     "text": [
      "100%|██████████████████████████████████████████████████████████████████████████████████| 21/21 [00:15<00:00,  1.33it/s]\n"
     ]
    },
    {
     "name": "stdout",
     "output_type": "stream",
     "text": [
      "# of place cell using time shift shuffle method: 9.0 / 21\n"
     ]
    },
    {
     "name": "stderr",
     "output_type": "stream",
     "text": [
      "100%|██████████████████████████████████████████████████████████████████████████████████| 21/21 [00:15<00:00,  1.38it/s]\n"
     ]
    },
    {
     "name": "stdout",
     "output_type": "stream",
     "text": [
      "# of run cell using time shift shuffle method: 9.0 / 21\n",
      "M10021maze1Day7\n",
      "22    Z:/miniscope_recording/maze/4_23_2020/10021H11...\n",
      "Name: recording_folder_local, dtype: object\n",
      "The maze is bidirectional, Ye!\n",
      "Node 1 is Decision point\n",
      "Node 2 is Leaf node\n",
      "Node 13 is Decision point\n",
      "Node 6 is Decision point\n",
      "Node 8 is Leaf node\n",
      "Node 17 is Decision point\n",
      "Node 28 is Leaf node\n",
      "Node 30 is Decision point\n",
      "Node 24 is Decision point\n",
      "Node 84 is Decision point\n",
      "Node 94 is Decision point\n",
      "Node 55 is Decision point\n",
      "Node 43 is Leaf node\n",
      "Node 54 is Decision point\n",
      "Node 53 is Leaf node\n",
      "Node 51 is Decision point\n",
      "Node 39 is Decision point\n",
      "Node 40 is Leaf node\n",
      "Node 97 is Decision point\n",
      "Node 86 is Leaf node\n",
      "Node 109 is Decision point\n",
      "Node 129 is Decision point\n",
      "Node 139 is Leaf node\n",
      "Node 142 is Decision point\n",
      "Node 130 is Decision point\n",
      "Node 120 is Leaf node\n",
      "Node 144 is Leaf node\n",
      "Node 143 is Leaf node\n",
      "Node 135 is Leaf node\n",
      "Node 52 is Leaf node\n",
      "Node 93 is Leaf node\n",
      "Node 96 is Leaf node\n",
      "Node 35 is Leaf node\n",
      "Node 41 is Leaf node\n",
      "Node 25 is Leaf node\n",
      "Shortest path =  1 13 14 26 27 15 3 4 5 6 18 17 29 30 31 19 20 21 9 10 11 12 24 23 22 34 33 32 44 45 46 47 48 60 59 58 57 56 68 69 70 71 72 84 83 95 94 82 81 80 92 104 103 91 90 78 79 67 55 54 66 65 64 63 75 74 62 50 51 39 38 37 49 61 73 85 97 109 110 122 123 111 112 100 99 87 88 76 77 89 101 102 114 113 125 124 136 137 138 126 127 115 116 117 129 141 142 130 131 132 144\n",
      "Shortest path =  1 13 14 26 27 15 3 4 5 6 18 17 29 30 31 19 20 21 9 10 11 12 24 23 22 34 33 32 44 45 46 47 48 60 59 58 57 56 68 69 70 71 72 84 83 95 94 82 81 80 92 104 103 91 90 78 79 67 55 54 66 65 64 63 75 74 62 50 51 39 38 37 49 61 73 85 97 109 110 122 123 111 112 100 99 87 88 76 77 89 101 102 114 113 125 124 136 137 138 126 127 115 116 117 129 141 142 130 131 132 144\n"
     ]
    },
    {
     "name": "stderr",
     "output_type": "stream",
     "text": [
      "100%|████████████████████████████████████████████████████████████████████████████████████| 7/7 [00:02<00:00,  2.79it/s]\n"
     ]
    },
    {
     "name": "stdout",
     "output_type": "stream",
     "text": [
      "# of place cell using time shift shuffle method: 0.0 / 7\n"
     ]
    },
    {
     "name": "stderr",
     "output_type": "stream",
     "text": [
      "100%|████████████████████████████████████████████████████████████████████████████████████| 7/7 [00:02<00:00,  2.80it/s]\n"
     ]
    },
    {
     "name": "stdout",
     "output_type": "stream",
     "text": [
      "# of run cell using time shift shuffle method: 0.0 / 7\n",
      "M10021maze1Day8\n",
      "23    Z:/miniscope_recording/maze/4_24_2020/10021H11...\n",
      "Name: recording_folder_local, dtype: object\n",
      "The maze is bidirectional, Ye!\n",
      "Node 1 is Decision point\n",
      "Node 2 is Leaf node\n",
      "Node 13 is Decision point\n",
      "Node 6 is Decision point\n",
      "Node 8 is Leaf node\n",
      "Node 17 is Decision point\n",
      "Node 28 is Leaf node\n",
      "Node 30 is Decision point\n",
      "Node 24 is Decision point\n",
      "Node 84 is Decision point\n",
      "Node 94 is Decision point\n",
      "Node 55 is Decision point\n",
      "Node 43 is Leaf node\n",
      "Node 54 is Decision point\n",
      "Node 53 is Leaf node\n",
      "Node 51 is Decision point\n",
      "Node 39 is Decision point\n",
      "Node 40 is Leaf node\n",
      "Node 97 is Decision point\n",
      "Node 86 is Leaf node\n",
      "Node 109 is Decision point\n",
      "Node 129 is Decision point\n",
      "Node 139 is Leaf node\n",
      "Node 142 is Decision point\n",
      "Node 130 is Decision point\n",
      "Node 120 is Leaf node\n",
      "Node 144 is Leaf node\n",
      "Node 143 is Leaf node\n",
      "Node 135 is Leaf node\n",
      "Node 52 is Leaf node\n",
      "Node 93 is Leaf node\n",
      "Node 96 is Leaf node\n",
      "Node 35 is Leaf node\n",
      "Node 41 is Leaf node\n",
      "Node 25 is Leaf node\n",
      "Shortest path =  1 13 14 26 27 15 3 4 5 6 18 17 29 30 31 19 20 21 9 10 11 12 24 23 22 34 33 32 44 45 46 47 48 60 59 58 57 56 68 69 70 71 72 84 83 95 94 82 81 80 92 104 103 91 90 78 79 67 55 54 66 65 64 63 75 74 62 50 51 39 38 37 49 61 73 85 97 109 110 122 123 111 112 100 99 87 88 76 77 89 101 102 114 113 125 124 136 137 138 126 127 115 116 117 129 141 142 130 131 132 144\n",
      "Shortest path =  1 13 14 26 27 15 3 4 5 6 18 17 29 30 31 19 20 21 9 10 11 12 24 23 22 34 33 32 44 45 46 47 48 60 59 58 57 56 68 69 70 71 72 84 83 95 94 82 81 80 92 104 103 91 90 78 79 67 55 54 66 65 64 63 75 74 62 50 51 39 38 37 49 61 73 85 97 109 110 122 123 111 112 100 99 87 88 76 77 89 101 102 114 113 125 124 136 137 138 126 127 115 116 117 129 141 142 130 131 132 144\n"
     ]
    },
    {
     "name": "stderr",
     "output_type": "stream",
     "text": [
      "100%|██████████████████████████████████████████████████████████████████████████████████| 36/36 [00:11<00:00,  3.06it/s]\n"
     ]
    },
    {
     "name": "stdout",
     "output_type": "stream",
     "text": [
      "# of place cell using time shift shuffle method: 6.0 / 36\n"
     ]
    },
    {
     "name": "stderr",
     "output_type": "stream",
     "text": [
      "100%|██████████████████████████████████████████████████████████████████████████████████| 36/36 [00:11<00:00,  3.09it/s]\n"
     ]
    },
    {
     "name": "stdout",
     "output_type": "stream",
     "text": [
      "# of run cell using time shift shuffle method: 5.0 / 36\n",
      "M10021maze1Day9\n",
      "24    Z:/miniscope_recording/maze/4_25_2020/10021H11...\n",
      "Name: recording_folder_local, dtype: object\n",
      "The maze is bidirectional, Ye!\n",
      "Node 1 is Decision point\n",
      "Node 2 is Leaf node\n",
      "Node 13 is Decision point\n",
      "Node 6 is Decision point\n",
      "Node 8 is Leaf node\n",
      "Node 17 is Decision point\n",
      "Node 28 is Leaf node\n",
      "Node 30 is Decision point\n",
      "Node 24 is Decision point\n",
      "Node 84 is Decision point\n",
      "Node 94 is Decision point\n",
      "Node 55 is Decision point\n",
      "Node 43 is Leaf node\n",
      "Node 54 is Decision point\n",
      "Node 53 is Leaf node\n",
      "Node 51 is Decision point\n",
      "Node 39 is Decision point\n",
      "Node 40 is Leaf node\n",
      "Node 97 is Decision point\n",
      "Node 86 is Leaf node\n",
      "Node 109 is Decision point\n",
      "Node 129 is Decision point\n",
      "Node 139 is Leaf node\n",
      "Node 142 is Decision point\n",
      "Node 130 is Decision point\n",
      "Node 120 is Leaf node\n",
      "Node 144 is Leaf node\n",
      "Node 143 is Leaf node\n",
      "Node 135 is Leaf node\n",
      "Node 52 is Leaf node\n",
      "Node 93 is Leaf node\n",
      "Node 96 is Leaf node\n",
      "Node 35 is Leaf node\n",
      "Node 41 is Leaf node\n",
      "Node 25 is Leaf node\n",
      "Shortest path =  1 13 14 26 27 15 3 4 5 6 18 17 29 30 31 19 20 21 9 10 11 12 24 23 22 34 33 32 44 45 46 47 48 60 59 58 57 56 68 69 70 71 72 84 83 95 94 82 81 80 92 104 103 91 90 78 79 67 55 54 66 65 64 63 75 74 62 50 51 39 38 37 49 61 73 85 97 109 110 122 123 111 112 100 99 87 88 76 77 89 101 102 114 113 125 124 136 137 138 126 127 115 116 117 129 141 142 130 131 132 144\n",
      "Shortest path =  1 13 14 26 27 15 3 4 5 6 18 17 29 30 31 19 20 21 9 10 11 12 24 23 22 34 33 32 44 45 46 47 48 60 59 58 57 56 68 69 70 71 72 84 83 95 94 82 81 80 92 104 103 91 90 78 79 67 55 54 66 65 64 63 75 74 62 50 51 39 38 37 49 61 73 85 97 109 110 122 123 111 112 100 99 87 88 76 77 89 101 102 114 113 125 124 136 137 138 126 127 115 116 117 129 141 142 130 131 132 144\n"
     ]
    },
    {
     "name": "stderr",
     "output_type": "stream",
     "text": [
      "100%|██████████████████████████████████████████████████████████████████████████████████| 22/22 [00:11<00:00,  1.85it/s]\n"
     ]
    },
    {
     "name": "stdout",
     "output_type": "stream",
     "text": [
      "# of place cell using time shift shuffle method: 6.0 / 22\n"
     ]
    },
    {
     "name": "stderr",
     "output_type": "stream",
     "text": [
      "100%|██████████████████████████████████████████████████████████████████████████████████| 22/22 [00:11<00:00,  1.90it/s]\n"
     ]
    },
    {
     "name": "stdout",
     "output_type": "stream",
     "text": [
      "# of run cell using time shift shuffle method: 7.0 / 22\n",
      "M10023maze1Day1\n",
      "25    Z:/miniscope_recording/maze/4_17_2020/10023H20...\n",
      "Name: recording_folder_local, dtype: object\n",
      "The maze is bidirectional, Ye!\n",
      "Node 1 is Decision point\n",
      "Node 2 is Leaf node\n",
      "Node 13 is Decision point\n",
      "Node 6 is Decision point\n",
      "Node 8 is Leaf node\n",
      "Node 17 is Decision point\n",
      "Node 28 is Leaf node\n",
      "Node 30 is Decision point\n",
      "Node 24 is Decision point\n",
      "Node 84 is Decision point\n",
      "Node 94 is Decision point\n",
      "Node 55 is Decision point\n",
      "Node 43 is Leaf node\n",
      "Node 54 is Decision point\n",
      "Node 53 is Leaf node\n",
      "Node 51 is Decision point\n",
      "Node 39 is Decision point\n",
      "Node 40 is Leaf node\n",
      "Node 97 is Decision point\n",
      "Node 86 is Leaf node\n",
      "Node 109 is Decision point\n",
      "Node 129 is Decision point\n",
      "Node 139 is Leaf node\n",
      "Node 142 is Decision point\n",
      "Node 130 is Decision point\n",
      "Node 120 is Leaf node\n",
      "Node 144 is Leaf node\n",
      "Node 143 is Leaf node\n",
      "Node 135 is Leaf node\n",
      "Node 52 is Leaf node\n",
      "Node 93 is Leaf node\n",
      "Node 96 is Leaf node\n",
      "Node 35 is Leaf node\n",
      "Node 41 is Leaf node\n",
      "Node 25 is Leaf node\n",
      "Shortest path =  1 13 14 26 27 15 3 4 5 6 18 17 29 30 31 19 20 21 9 10 11 12 24 23 22 34 33 32 44 45 46 47 48 60 59 58 57 56 68 69 70 71 72 84 83 95 94 82 81 80 92 104 103 91 90 78 79 67 55 54 66 65 64 63 75 74 62 50 51 39 38 37 49 61 73 85 97 109 110 122 123 111 112 100 99 87 88 76 77 89 101 102 114 113 125 124 136 137 138 126 127 115 116 117 129 141 142 130 131 132 144\n",
      "Shortest path =  1 13 14 26 27 15 3 4 5 6 18 17 29 30 31 19 20 21 9 10 11 12 24 23 22 34 33 32 44 45 46 47 48 60 59 58 57 56 68 69 70 71 72 84 83 95 94 82 81 80 92 104 103 91 90 78 79 67 55 54 66 65 64 63 75 74 62 50 51 39 38 37 49 61 73 85 97 109 110 122 123 111 112 100 99 87 88 76 77 89 101 102 114 113 125 124 136 137 138 126 127 115 116 117 129 141 142 130 131 132 144\n"
     ]
    },
    {
     "name": "stderr",
     "output_type": "stream",
     "text": [
      "100%|██████████████████████████████████████████████████████████████████████████████████| 52/52 [01:40<00:00,  1.93s/it]\n"
     ]
    },
    {
     "name": "stdout",
     "output_type": "stream",
     "text": [
      "# of place cell using time shift shuffle method: 16.0 / 52\n"
     ]
    },
    {
     "name": "stderr",
     "output_type": "stream",
     "text": [
      "100%|██████████████████████████████████████████████████████████████████████████████████| 52/52 [01:38<00:00,  1.89s/it]\n"
     ]
    },
    {
     "name": "stdout",
     "output_type": "stream",
     "text": [
      "# of run cell using time shift shuffle method: 9.0 / 52\n",
      "M10023maze1Day2\n",
      "26    Z:/miniscope_recording/maze/4_18_2020/10023H18...\n",
      "Name: recording_folder_local, dtype: object\n",
      "The maze is bidirectional, Ye!\n",
      "Node 1 is Decision point\n",
      "Node 2 is Leaf node\n",
      "Node 13 is Decision point\n",
      "Node 6 is Decision point\n",
      "Node 8 is Leaf node\n",
      "Node 17 is Decision point\n",
      "Node 28 is Leaf node\n",
      "Node 30 is Decision point\n",
      "Node 24 is Decision point\n",
      "Node 84 is Decision point\n",
      "Node 94 is Decision point\n",
      "Node 55 is Decision point\n",
      "Node 43 is Leaf node\n",
      "Node 54 is Decision point\n",
      "Node 53 is Leaf node\n",
      "Node 51 is Decision point\n",
      "Node 39 is Decision point\n",
      "Node 40 is Leaf node\n",
      "Node 97 is Decision point\n",
      "Node 86 is Leaf node\n",
      "Node 109 is Decision point\n",
      "Node 129 is Decision point\n",
      "Node 139 is Leaf node\n",
      "Node 142 is Decision point\n",
      "Node 130 is Decision point\n",
      "Node 120 is Leaf node\n",
      "Node 144 is Leaf node\n",
      "Node 143 is Leaf node\n",
      "Node 135 is Leaf node\n",
      "Node 52 is Leaf node\n",
      "Node 93 is Leaf node\n",
      "Node 96 is Leaf node\n",
      "Node 35 is Leaf node\n",
      "Node 41 is Leaf node\n",
      "Node 25 is Leaf node\n",
      "Shortest path =  1 13 14 26 27 15 3 4 5 6 18 17 29 30 31 19 20 21 9 10 11 12 24 23 22 34 33 32 44 45 46 47 48 60 59 58 57 56 68 69 70 71 72 84 83 95 94 82 81 80 92 104 103 91 90 78 79 67 55 54 66 65 64 63 75 74 62 50 51 39 38 37 49 61 73 85 97 109 110 122 123 111 112 100 99 87 88 76 77 89 101 102 114 113 125 124 136 137 138 126 127 115 116 117 129 141 142 130 131 132 144\n",
      "Shortest path =  1 13 14 26 27 15 3 4 5 6 18 17 29 30 31 19 20 21 9 10 11 12 24 23 22 34 33 32 44 45 46 47 48 60 59 58 57 56 68 69 70 71 72 84 83 95 94 82 81 80 92 104 103 91 90 78 79 67 55 54 66 65 64 63 75 74 62 50 51 39 38 37 49 61 73 85 97 109 110 122 123 111 112 100 99 87 88 76 77 89 101 102 114 113 125 124 136 137 138 126 127 115 116 117 129 141 142 130 131 132 144\n"
     ]
    },
    {
     "name": "stderr",
     "output_type": "stream",
     "text": [
      "100%|██████████████████████████████████████████████████████████████████████████████████| 51/51 [02:07<00:00,  2.49s/it]\n"
     ]
    },
    {
     "name": "stdout",
     "output_type": "stream",
     "text": [
      "# of place cell using time shift shuffle method: 13.0 / 51\n"
     ]
    },
    {
     "name": "stderr",
     "output_type": "stream",
     "text": [
      "100%|██████████████████████████████████████████████████████████████████████████████████| 51/51 [02:04<00:00,  2.44s/it]\n"
     ]
    },
    {
     "name": "stdout",
     "output_type": "stream",
     "text": [
      "# of run cell using time shift shuffle method: 15.0 / 51\n",
      "M10023maze1Day3\n",
      "27    Z:/miniscope_recording/maze/4_19_2020/10023_H1...\n",
      "Name: recording_folder_local, dtype: object\n",
      "The maze is bidirectional, Ye!\n",
      "Node 1 is Decision point\n",
      "Node 2 is Leaf node\n",
      "Node 13 is Decision point\n",
      "Node 6 is Decision point\n",
      "Node 8 is Leaf node\n",
      "Node 17 is Decision point\n",
      "Node 28 is Leaf node\n",
      "Node 30 is Decision point\n",
      "Node 24 is Decision point\n",
      "Node 84 is Decision point\n",
      "Node 94 is Decision point\n",
      "Node 55 is Decision point\n",
      "Node 43 is Leaf node\n",
      "Node 54 is Decision point\n",
      "Node 53 is Leaf node\n",
      "Node 51 is Decision point\n",
      "Node 39 is Decision point\n",
      "Node 40 is Leaf node\n",
      "Node 97 is Decision point\n",
      "Node 86 is Leaf node\n",
      "Node 109 is Decision point\n",
      "Node 129 is Decision point\n",
      "Node 139 is Leaf node\n",
      "Node 142 is Decision point\n",
      "Node 130 is Decision point\n",
      "Node 120 is Leaf node\n",
      "Node 144 is Leaf node\n",
      "Node 143 is Leaf node\n",
      "Node 135 is Leaf node\n",
      "Node 52 is Leaf node\n",
      "Node 93 is Leaf node\n",
      "Node 96 is Leaf node\n",
      "Node 35 is Leaf node\n",
      "Node 41 is Leaf node\n",
      "Node 25 is Leaf node\n",
      "Shortest path =  1 13 14 26 27 15 3 4 5 6 18 17 29 30 31 19 20 21 9 10 11 12 24 23 22 34 33 32 44 45 46 47 48 60 59 58 57 56 68 69 70 71 72 84 83 95 94 82 81 80 92 104 103 91 90 78 79 67 55 54 66 65 64 63 75 74 62 50 51 39 38 37 49 61 73 85 97 109 110 122 123 111 112 100 99 87 88 76 77 89 101 102 114 113 125 124 136 137 138 126 127 115 116 117 129 141 142 130 131 132 144\n",
      "Shortest path =  1 13 14 26 27 15 3 4 5 6 18 17 29 30 31 19 20 21 9 10 11 12 24 23 22 34 33 32 44 45 46 47 48 60 59 58 57 56 68 69 70 71 72 84 83 95 94 82 81 80 92 104 103 91 90 78 79 67 55 54 66 65 64 63 75 74 62 50 51 39 38 37 49 61 73 85 97 109 110 122 123 111 112 100 99 87 88 76 77 89 101 102 114 113 125 124 136 137 138 126 127 115 116 117 129 141 142 130 131 132 144\n"
     ]
    },
    {
     "name": "stderr",
     "output_type": "stream",
     "text": [
      "100%|██████████████████████████████████████████████████████████████████████████████████| 42/42 [00:43<00:00,  1.03s/it]\n"
     ]
    },
    {
     "name": "stdout",
     "output_type": "stream",
     "text": [
      "# of place cell using time shift shuffle method: 12.0 / 42\n"
     ]
    },
    {
     "name": "stderr",
     "output_type": "stream",
     "text": [
      "100%|██████████████████████████████████████████████████████████████████████████████████| 42/42 [00:41<00:00,  1.02it/s]\n"
     ]
    },
    {
     "name": "stdout",
     "output_type": "stream",
     "text": [
      "# of run cell using time shift shuffle method: 13.0 / 42\n",
      "M10023maze1Day4\n",
      "28    Z:/miniscope_recording/maze/4_20_2020/10023H20...\n",
      "Name: recording_folder_local, dtype: object\n",
      "The maze is bidirectional, Ye!\n",
      "Node 1 is Decision point\n",
      "Node 2 is Leaf node\n",
      "Node 13 is Decision point\n",
      "Node 6 is Decision point\n",
      "Node 8 is Leaf node\n",
      "Node 17 is Decision point\n",
      "Node 28 is Leaf node\n",
      "Node 30 is Decision point\n",
      "Node 24 is Decision point\n",
      "Node 84 is Decision point\n",
      "Node 94 is Decision point\n",
      "Node 55 is Decision point\n",
      "Node 43 is Leaf node\n",
      "Node 54 is Decision point\n",
      "Node 53 is Leaf node\n",
      "Node 51 is Decision point\n",
      "Node 39 is Decision point\n",
      "Node 40 is Leaf node\n",
      "Node 97 is Decision point\n",
      "Node 86 is Leaf node\n",
      "Node 109 is Decision point\n",
      "Node 129 is Decision point\n",
      "Node 139 is Leaf node\n",
      "Node 142 is Decision point\n",
      "Node 130 is Decision point\n",
      "Node 120 is Leaf node\n",
      "Node 144 is Leaf node\n",
      "Node 143 is Leaf node\n",
      "Node 135 is Leaf node\n",
      "Node 52 is Leaf node\n",
      "Node 93 is Leaf node\n",
      "Node 96 is Leaf node\n",
      "Node 35 is Leaf node\n",
      "Node 41 is Leaf node\n",
      "Node 25 is Leaf node\n",
      "Shortest path =  1 13 14 26 27 15 3 4 5 6 18 17 29 30 31 19 20 21 9 10 11 12 24 23 22 34 33 32 44 45 46 47 48 60 59 58 57 56 68 69 70 71 72 84 83 95 94 82 81 80 92 104 103 91 90 78 79 67 55 54 66 65 64 63 75 74 62 50 51 39 38 37 49 61 73 85 97 109 110 122 123 111 112 100 99 87 88 76 77 89 101 102 114 113 125 124 136 137 138 126 127 115 116 117 129 141 142 130 131 132 144\n",
      "Shortest path =  1 13 14 26 27 15 3 4 5 6 18 17 29 30 31 19 20 21 9 10 11 12 24 23 22 34 33 32 44 45 46 47 48 60 59 58 57 56 68 69 70 71 72 84 83 95 94 82 81 80 92 104 103 91 90 78 79 67 55 54 66 65 64 63 75 74 62 50 51 39 38 37 49 61 73 85 97 109 110 122 123 111 112 100 99 87 88 76 77 89 101 102 114 113 125 124 136 137 138 126 127 115 116 117 129 141 142 130 131 132 144\n"
     ]
    },
    {
     "name": "stderr",
     "output_type": "stream",
     "text": [
      "100%|██████████████████████████████████████████████████████████████████████████████████| 76/76 [01:05<00:00,  1.17it/s]\n"
     ]
    },
    {
     "name": "stdout",
     "output_type": "stream",
     "text": [
      "# of place cell using time shift shuffle method: 18.0 / 76\n"
     ]
    },
    {
     "name": "stderr",
     "output_type": "stream",
     "text": [
      "100%|██████████████████████████████████████████████████████████████████████████████████| 76/76 [01:03<00:00,  1.20it/s]\n"
     ]
    },
    {
     "name": "stdout",
     "output_type": "stream",
     "text": [
      "# of run cell using time shift shuffle method: 26.0 / 76\n",
      "M10023maze1Day5\n",
      "29    Z:/miniscope_recording/maze/4_21_2020/10023H19...\n",
      "Name: recording_folder_local, dtype: object\n",
      "The maze is bidirectional, Ye!\n",
      "Node 1 is Decision point\n",
      "Node 2 is Leaf node\n",
      "Node 13 is Decision point\n",
      "Node 6 is Decision point\n",
      "Node 8 is Leaf node\n",
      "Node 17 is Decision point\n",
      "Node 28 is Leaf node\n",
      "Node 30 is Decision point\n",
      "Node 24 is Decision point\n",
      "Node 84 is Decision point\n",
      "Node 94 is Decision point\n",
      "Node 55 is Decision point\n",
      "Node 43 is Leaf node\n",
      "Node 54 is Decision point\n",
      "Node 53 is Leaf node\n",
      "Node 51 is Decision point\n",
      "Node 39 is Decision point\n",
      "Node 40 is Leaf node\n",
      "Node 97 is Decision point\n",
      "Node 86 is Leaf node\n",
      "Node 109 is Decision point\n",
      "Node 129 is Decision point\n",
      "Node 139 is Leaf node\n",
      "Node 142 is Decision point\n",
      "Node 130 is Decision point\n",
      "Node 120 is Leaf node\n",
      "Node 144 is Leaf node\n",
      "Node 143 is Leaf node\n",
      "Node 135 is Leaf node\n",
      "Node 52 is Leaf node\n",
      "Node 93 is Leaf node\n",
      "Node 96 is Leaf node\n",
      "Node 35 is Leaf node\n",
      "Node 41 is Leaf node\n",
      "Node 25 is Leaf node\n",
      "Shortest path =  1 13 14 26 27 15 3 4 5 6 18 17 29 30 31 19 20 21 9 10 11 12 24 23 22 34 33 32 44 45 46 47 48 60 59 58 57 56 68 69 70 71 72 84 83 95 94 82 81 80 92 104 103 91 90 78 79 67 55 54 66 65 64 63 75 74 62 50 51 39 38 37 49 61 73 85 97 109 110 122 123 111 112 100 99 87 88 76 77 89 101 102 114 113 125 124 136 137 138 126 127 115 116 117 129 141 142 130 131 132 144\n",
      "Shortest path =  1 13 14 26 27 15 3 4 5 6 18 17 29 30 31 19 20 21 9 10 11 12 24 23 22 34 33 32 44 45 46 47 48 60 59 58 57 56 68 69 70 71 72 84 83 95 94 82 81 80 92 104 103 91 90 78 79 67 55 54 66 65 64 63 75 74 62 50 51 39 38 37 49 61 73 85 97 109 110 122 123 111 112 100 99 87 88 76 77 89 101 102 114 113 125 124 136 137 138 126 127 115 116 117 129 141 142 130 131 132 144\n"
     ]
    },
    {
     "name": "stderr",
     "output_type": "stream",
     "text": [
      "100%|██████████████████████████████████████████████████████████████████████████████████| 53/53 [01:13<00:00,  1.39s/it]\n"
     ]
    },
    {
     "name": "stdout",
     "output_type": "stream",
     "text": [
      "# of place cell using time shift shuffle method: 42.0 / 53\n"
     ]
    },
    {
     "name": "stderr",
     "output_type": "stream",
     "text": [
      "100%|██████████████████████████████████████████████████████████████████████████████████| 53/53 [01:12<00:00,  1.37s/it]\n"
     ]
    },
    {
     "name": "stdout",
     "output_type": "stream",
     "text": [
      "# of run cell using time shift shuffle method: 37.0 / 53\n",
      "M10023maze1Day6\n",
      "30    Z:/miniscope_recording/maze/4_22_2020/10023H11...\n",
      "Name: recording_folder_local, dtype: object\n",
      "The maze is bidirectional, Ye!\n",
      "Node 1 is Decision point\n",
      "Node 2 is Leaf node\n",
      "Node 13 is Decision point\n",
      "Node 6 is Decision point\n",
      "Node 8 is Leaf node\n",
      "Node 17 is Decision point\n",
      "Node 28 is Leaf node\n",
      "Node 30 is Decision point\n",
      "Node 24 is Decision point\n",
      "Node 84 is Decision point\n",
      "Node 94 is Decision point\n",
      "Node 55 is Decision point\n",
      "Node 43 is Leaf node\n",
      "Node 54 is Decision point\n",
      "Node 53 is Leaf node\n",
      "Node 51 is Decision point\n",
      "Node 39 is Decision point\n",
      "Node 40 is Leaf node\n",
      "Node 97 is Decision point\n",
      "Node 86 is Leaf node\n",
      "Node 109 is Decision point\n",
      "Node 129 is Decision point\n",
      "Node 139 is Leaf node\n",
      "Node 142 is Decision point\n",
      "Node 130 is Decision point\n",
      "Node 120 is Leaf node\n",
      "Node 144 is Leaf node\n",
      "Node 143 is Leaf node\n",
      "Node 135 is Leaf node\n",
      "Node 52 is Leaf node\n",
      "Node 93 is Leaf node\n",
      "Node 96 is Leaf node\n",
      "Node 35 is Leaf node\n",
      "Node 41 is Leaf node\n",
      "Node 25 is Leaf node\n",
      "Shortest path =  1 13 14 26 27 15 3 4 5 6 18 17 29 30 31 19 20 21 9 10 11 12 24 23 22 34 33 32 44 45 46 47 48 60 59 58 57 56 68 69 70 71 72 84 83 95 94 82 81 80 92 104 103 91 90 78 79 67 55 54 66 65 64 63 75 74 62 50 51 39 38 37 49 61 73 85 97 109 110 122 123 111 112 100 99 87 88 76 77 89 101 102 114 113 125 124 136 137 138 126 127 115 116 117 129 141 142 130 131 132 144\n",
      "Shortest path =  1 13 14 26 27 15 3 4 5 6 18 17 29 30 31 19 20 21 9 10 11 12 24 23 22 34 33 32 44 45 46 47 48 60 59 58 57 56 68 69 70 71 72 84 83 95 94 82 81 80 92 104 103 91 90 78 79 67 55 54 66 65 64 63 75 74 62 50 51 39 38 37 49 61 73 85 97 109 110 122 123 111 112 100 99 87 88 76 77 89 101 102 114 113 125 124 136 137 138 126 127 115 116 117 129 141 142 130 131 132 144\n"
     ]
    },
    {
     "name": "stderr",
     "output_type": "stream",
     "text": [
      "100%|██████████████████████████████████████████████████████████████████████████████████| 56/56 [02:10<00:00,  2.33s/it]\n"
     ]
    },
    {
     "name": "stdout",
     "output_type": "stream",
     "text": [
      "# of place cell using time shift shuffle method: 48.0 / 56\n"
     ]
    },
    {
     "name": "stderr",
     "output_type": "stream",
     "text": [
      "100%|██████████████████████████████████████████████████████████████████████████████████| 56/56 [02:04<00:00,  2.23s/it]\n"
     ]
    },
    {
     "name": "stdout",
     "output_type": "stream",
     "text": [
      "# of run cell using time shift shuffle method: 46.0 / 56\n",
      "M10023maze1Day7\n",
      "31    Z:/miniscope_recording/maze/4_23_2020/10023H11...\n",
      "Name: recording_folder_local, dtype: object\n",
      "The maze is bidirectional, Ye!\n",
      "Node 1 is Decision point\n",
      "Node 2 is Leaf node\n",
      "Node 13 is Decision point\n",
      "Node 6 is Decision point\n",
      "Node 8 is Leaf node\n",
      "Node 17 is Decision point\n",
      "Node 28 is Leaf node\n",
      "Node 30 is Decision point\n",
      "Node 24 is Decision point\n",
      "Node 84 is Decision point\n",
      "Node 94 is Decision point\n",
      "Node 55 is Decision point\n",
      "Node 43 is Leaf node\n",
      "Node 54 is Decision point\n",
      "Node 53 is Leaf node\n",
      "Node 51 is Decision point\n",
      "Node 39 is Decision point\n",
      "Node 40 is Leaf node\n",
      "Node 97 is Decision point\n",
      "Node 86 is Leaf node\n",
      "Node 109 is Decision point\n",
      "Node 129 is Decision point\n",
      "Node 139 is Leaf node\n",
      "Node 142 is Decision point\n",
      "Node 130 is Decision point\n",
      "Node 120 is Leaf node\n",
      "Node 144 is Leaf node\n",
      "Node 143 is Leaf node\n",
      "Node 135 is Leaf node\n",
      "Node 52 is Leaf node\n",
      "Node 93 is Leaf node\n",
      "Node 96 is Leaf node\n",
      "Node 35 is Leaf node\n",
      "Node 41 is Leaf node\n",
      "Node 25 is Leaf node\n",
      "Shortest path =  1 13 14 26 27 15 3 4 5 6 18 17 29 30 31 19 20 21 9 10 11 12 24 23 22 34 33 32 44 45 46 47 48 60 59 58 57 56 68 69 70 71 72 84 83 95 94 82 81 80 92 104 103 91 90 78 79 67 55 54 66 65 64 63 75 74 62 50 51 39 38 37 49 61 73 85 97 109 110 122 123 111 112 100 99 87 88 76 77 89 101 102 114 113 125 124 136 137 138 126 127 115 116 117 129 141 142 130 131 132 144\n",
      "Shortest path =  1 13 14 26 27 15 3 4 5 6 18 17 29 30 31 19 20 21 9 10 11 12 24 23 22 34 33 32 44 45 46 47 48 60 59 58 57 56 68 69 70 71 72 84 83 95 94 82 81 80 92 104 103 91 90 78 79 67 55 54 66 65 64 63 75 74 62 50 51 39 38 37 49 61 73 85 97 109 110 122 123 111 112 100 99 87 88 76 77 89 101 102 114 113 125 124 136 137 138 126 127 115 116 117 129 141 142 130 131 132 144\n"
     ]
    },
    {
     "name": "stderr",
     "output_type": "stream",
     "text": [
      "100%|██████████████████████████████████████████████████████████████████████████████████| 29/29 [00:12<00:00,  2.37it/s]\n"
     ]
    },
    {
     "name": "stdout",
     "output_type": "stream",
     "text": [
      "# of place cell using time shift shuffle method: 8.0 / 29\n"
     ]
    },
    {
     "name": "stderr",
     "output_type": "stream",
     "text": [
      "100%|██████████████████████████████████████████████████████████████████████████████████| 29/29 [00:12<00:00,  2.39it/s]\n"
     ]
    },
    {
     "name": "stdout",
     "output_type": "stream",
     "text": [
      "# of run cell using time shift shuffle method: 8.0 / 29\n",
      "M10023maze1Day8\n",
      "32    Z:/miniscope_recording/maze/4_24_2020/10023H11...\n",
      "Name: recording_folder_local, dtype: object\n",
      "The maze is bidirectional, Ye!\n",
      "Node 1 is Decision point\n",
      "Node 2 is Leaf node\n",
      "Node 13 is Decision point\n",
      "Node 6 is Decision point\n",
      "Node 8 is Leaf node\n",
      "Node 17 is Decision point\n",
      "Node 28 is Leaf node\n",
      "Node 30 is Decision point\n",
      "Node 24 is Decision point\n",
      "Node 84 is Decision point\n",
      "Node 94 is Decision point\n",
      "Node 55 is Decision point\n",
      "Node 43 is Leaf node\n",
      "Node 54 is Decision point\n",
      "Node 53 is Leaf node\n",
      "Node 51 is Decision point\n",
      "Node 39 is Decision point\n",
      "Node 40 is Leaf node\n",
      "Node 97 is Decision point\n",
      "Node 86 is Leaf node\n",
      "Node 109 is Decision point\n",
      "Node 129 is Decision point\n",
      "Node 139 is Leaf node\n",
      "Node 142 is Decision point\n",
      "Node 130 is Decision point\n",
      "Node 120 is Leaf node\n",
      "Node 144 is Leaf node\n",
      "Node 143 is Leaf node\n",
      "Node 135 is Leaf node\n",
      "Node 52 is Leaf node\n",
      "Node 93 is Leaf node\n",
      "Node 96 is Leaf node\n",
      "Node 35 is Leaf node\n",
      "Node 41 is Leaf node\n",
      "Node 25 is Leaf node\n",
      "Shortest path =  1 13 14 26 27 15 3 4 5 6 18 17 29 30 31 19 20 21 9 10 11 12 24 23 22 34 33 32 44 45 46 47 48 60 59 58 57 56 68 69 70 71 72 84 83 95 94 82 81 80 92 104 103 91 90 78 79 67 55 54 66 65 64 63 75 74 62 50 51 39 38 37 49 61 73 85 97 109 110 122 123 111 112 100 99 87 88 76 77 89 101 102 114 113 125 124 136 137 138 126 127 115 116 117 129 141 142 130 131 132 144\n",
      "Shortest path =  1 13 14 26 27 15 3 4 5 6 18 17 29 30 31 19 20 21 9 10 11 12 24 23 22 34 33 32 44 45 46 47 48 60 59 58 57 56 68 69 70 71 72 84 83 95 94 82 81 80 92 104 103 91 90 78 79 67 55 54 66 65 64 63 75 74 62 50 51 39 38 37 49 61 73 85 97 109 110 122 123 111 112 100 99 87 88 76 77 89 101 102 114 113 125 124 136 137 138 126 127 115 116 117 129 141 142 130 131 132 144\n"
     ]
    },
    {
     "name": "stderr",
     "output_type": "stream",
     "text": [
      "100%|██████████████████████████████████████████████████████████████████████████████████| 39/39 [00:18<00:00,  2.08it/s]\n"
     ]
    },
    {
     "name": "stdout",
     "output_type": "stream",
     "text": [
      "# of place cell using time shift shuffle method: 12.0 / 39\n"
     ]
    },
    {
     "name": "stderr",
     "output_type": "stream",
     "text": [
      "100%|██████████████████████████████████████████████████████████████████████████████████| 39/39 [00:18<00:00,  2.11it/s]\n"
     ]
    },
    {
     "name": "stdout",
     "output_type": "stream",
     "text": [
      "# of run cell using time shift shuffle method: 12.0 / 39\n",
      "M10023maze1Day9\n",
      "33    Z:/miniscope_recording/maze/4_25_2020/10023H11...\n",
      "Name: recording_folder_local, dtype: object\n",
      "The maze is bidirectional, Ye!\n",
      "Node 1 is Decision point\n",
      "Node 2 is Leaf node\n",
      "Node 13 is Decision point\n",
      "Node 6 is Decision point\n",
      "Node 8 is Leaf node\n",
      "Node 17 is Decision point\n",
      "Node 28 is Leaf node\n",
      "Node 30 is Decision point\n",
      "Node 24 is Decision point\n",
      "Node 84 is Decision point\n",
      "Node 94 is Decision point\n",
      "Node 55 is Decision point\n",
      "Node 43 is Leaf node\n",
      "Node 54 is Decision point\n",
      "Node 53 is Leaf node\n",
      "Node 51 is Decision point\n",
      "Node 39 is Decision point\n",
      "Node 40 is Leaf node\n",
      "Node 97 is Decision point\n",
      "Node 86 is Leaf node\n",
      "Node 109 is Decision point\n",
      "Node 129 is Decision point\n",
      "Node 139 is Leaf node\n",
      "Node 142 is Decision point\n",
      "Node 130 is Decision point\n",
      "Node 120 is Leaf node\n",
      "Node 144 is Leaf node\n",
      "Node 143 is Leaf node\n",
      "Node 135 is Leaf node\n",
      "Node 52 is Leaf node\n",
      "Node 93 is Leaf node\n",
      "Node 96 is Leaf node\n",
      "Node 35 is Leaf node\n",
      "Node 41 is Leaf node\n",
      "Node 25 is Leaf node\n",
      "Shortest path =  1 13 14 26 27 15 3 4 5 6 18 17 29 30 31 19 20 21 9 10 11 12 24 23 22 34 33 32 44 45 46 47 48 60 59 58 57 56 68 69 70 71 72 84 83 95 94 82 81 80 92 104 103 91 90 78 79 67 55 54 66 65 64 63 75 74 62 50 51 39 38 37 49 61 73 85 97 109 110 122 123 111 112 100 99 87 88 76 77 89 101 102 114 113 125 124 136 137 138 126 127 115 116 117 129 141 142 130 131 132 144\n",
      "Shortest path =  1 13 14 26 27 15 3 4 5 6 18 17 29 30 31 19 20 21 9 10 11 12 24 23 22 34 33 32 44 45 46 47 48 60 59 58 57 56 68 69 70 71 72 84 83 95 94 82 81 80 92 104 103 91 90 78 79 67 55 54 66 65 64 63 75 74 62 50 51 39 38 37 49 61 73 85 97 109 110 122 123 111 112 100 99 87 88 76 77 89 101 102 114 113 125 124 136 137 138 126 127 115 116 117 129 141 142 130 131 132 144\n"
     ]
    },
    {
     "name": "stderr",
     "output_type": "stream",
     "text": [
      "100%|██████████████████████████████████████████████████████████████████████████████████| 76/76 [01:12<00:00,  1.05it/s]\n"
     ]
    },
    {
     "name": "stdout",
     "output_type": "stream",
     "text": [
      "# of place cell using time shift shuffle method: 41.0 / 76\n"
     ]
    },
    {
     "name": "stderr",
     "output_type": "stream",
     "text": [
      "100%|██████████████████████████████████████████████████████████████████████████████████| 76/76 [01:10<00:00,  1.08it/s]\n"
     ]
    },
    {
     "name": "stdout",
     "output_type": "stream",
     "text": [
      "# of run cell using time shift shuffle method: 21.0 / 76\n",
      "M10024maze1Day1\n",
      "42    Z:/miniscope_recording/maze/4_17_2020/10024H13...\n",
      "Name: recording_folder_local, dtype: object\n",
      "The maze is bidirectional, Ye!\n",
      "Node 1 is Decision point\n",
      "Node 2 is Leaf node\n",
      "Node 13 is Decision point\n",
      "Node 6 is Decision point\n",
      "Node 8 is Leaf node\n",
      "Node 17 is Decision point\n",
      "Node 28 is Leaf node\n",
      "Node 30 is Decision point\n",
      "Node 24 is Decision point\n",
      "Node 84 is Decision point\n",
      "Node 94 is Decision point\n",
      "Node 55 is Decision point\n",
      "Node 43 is Leaf node\n",
      "Node 54 is Decision point\n",
      "Node 53 is Leaf node\n",
      "Node 51 is Decision point\n",
      "Node 39 is Decision point\n",
      "Node 40 is Leaf node\n",
      "Node 97 is Decision point\n",
      "Node 86 is Leaf node\n",
      "Node 109 is Decision point\n",
      "Node 129 is Decision point\n",
      "Node 139 is Leaf node\n",
      "Node 142 is Decision point\n",
      "Node 130 is Decision point\n",
      "Node 120 is Leaf node\n",
      "Node 144 is Leaf node\n",
      "Node 143 is Leaf node\n",
      "Node 135 is Leaf node\n",
      "Node 52 is Leaf node\n",
      "Node 93 is Leaf node\n",
      "Node 96 is Leaf node\n",
      "Node 35 is Leaf node\n",
      "Node 41 is Leaf node\n",
      "Node 25 is Leaf node\n",
      "Shortest path =  1 13 14 26 27 15 3 4 5 6 18 17 29 30 31 19 20 21 9 10 11 12 24 23 22 34 33 32 44 45 46 47 48 60 59 58 57 56 68 69 70 71 72 84 83 95 94 82 81 80 92 104 103 91 90 78 79 67 55 54 66 65 64 63 75 74 62 50 51 39 38 37 49 61 73 85 97 109 110 122 123 111 112 100 99 87 88 76 77 89 101 102 114 113 125 124 136 137 138 126 127 115 116 117 129 141 142 130 131 132 144\n",
      "Shortest path =  1 13 14 26 27 15 3 4 5 6 18 17 29 30 31 19 20 21 9 10 11 12 24 23 22 34 33 32 44 45 46 47 48 60 59 58 57 56 68 69 70 71 72 84 83 95 94 82 81 80 92 104 103 91 90 78 79 67 55 54 66 65 64 63 75 74 62 50 51 39 38 37 49 61 73 85 97 109 110 122 123 111 112 100 99 87 88 76 77 89 101 102 114 113 125 124 136 137 138 126 127 115 116 117 129 141 142 130 131 132 144\n"
     ]
    },
    {
     "name": "stderr",
     "output_type": "stream",
     "text": [
      "100%|██████████████████████████████████████████████████████████████████████████████████| 48/48 [01:27<00:00,  1.81s/it]\n"
     ]
    },
    {
     "name": "stdout",
     "output_type": "stream",
     "text": [
      "# of place cell using time shift shuffle method: 5.0 / 48\n"
     ]
    },
    {
     "name": "stderr",
     "output_type": "stream",
     "text": [
      "100%|██████████████████████████████████████████████████████████████████████████████████| 48/48 [01:26<00:00,  1.79s/it]\n"
     ]
    },
    {
     "name": "stdout",
     "output_type": "stream",
     "text": [
      "# of run cell using time shift shuffle method: 6.0 / 48\n",
      "M10024maze1Day2\n",
      "43    Z:/miniscope_recording/maze/4_18_2020/10024H15...\n",
      "Name: recording_folder_local, dtype: object\n",
      "The maze is bidirectional, Ye!\n",
      "Node 1 is Decision point\n",
      "Node 2 is Leaf node\n",
      "Node 13 is Decision point\n",
      "Node 6 is Decision point\n",
      "Node 8 is Leaf node\n",
      "Node 17 is Decision point\n",
      "Node 28 is Leaf node\n",
      "Node 30 is Decision point\n",
      "Node 24 is Decision point\n",
      "Node 84 is Decision point\n",
      "Node 94 is Decision point\n",
      "Node 55 is Decision point\n",
      "Node 43 is Leaf node\n",
      "Node 54 is Decision point\n",
      "Node 53 is Leaf node\n",
      "Node 51 is Decision point\n",
      "Node 39 is Decision point\n",
      "Node 40 is Leaf node\n",
      "Node 97 is Decision point\n",
      "Node 86 is Leaf node\n",
      "Node 109 is Decision point\n",
      "Node 129 is Decision point\n",
      "Node 139 is Leaf node\n",
      "Node 142 is Decision point\n",
      "Node 130 is Decision point\n",
      "Node 120 is Leaf node\n",
      "Node 144 is Leaf node\n",
      "Node 143 is Leaf node\n",
      "Node 135 is Leaf node\n",
      "Node 52 is Leaf node\n",
      "Node 93 is Leaf node\n",
      "Node 96 is Leaf node\n",
      "Node 35 is Leaf node\n",
      "Node 41 is Leaf node\n",
      "Node 25 is Leaf node\n",
      "Shortest path =  1 13 14 26 27 15 3 4 5 6 18 17 29 30 31 19 20 21 9 10 11 12 24 23 22 34 33 32 44 45 46 47 48 60 59 58 57 56 68 69 70 71 72 84 83 95 94 82 81 80 92 104 103 91 90 78 79 67 55 54 66 65 64 63 75 74 62 50 51 39 38 37 49 61 73 85 97 109 110 122 123 111 112 100 99 87 88 76 77 89 101 102 114 113 125 124 136 137 138 126 127 115 116 117 129 141 142 130 131 132 144\n",
      "Shortest path =  1 13 14 26 27 15 3 4 5 6 18 17 29 30 31 19 20 21 9 10 11 12 24 23 22 34 33 32 44 45 46 47 48 60 59 58 57 56 68 69 70 71 72 84 83 95 94 82 81 80 92 104 103 91 90 78 79 67 55 54 66 65 64 63 75 74 62 50 51 39 38 37 49 61 73 85 97 109 110 122 123 111 112 100 99 87 88 76 77 89 101 102 114 113 125 124 136 137 138 126 127 115 116 117 129 141 142 130 131 132 144\n"
     ]
    },
    {
     "name": "stderr",
     "output_type": "stream",
     "text": [
      "100%|██████████████████████████████████████████████████████████████████████████████████| 60/60 [02:08<00:00,  2.15s/it]\n"
     ]
    },
    {
     "name": "stdout",
     "output_type": "stream",
     "text": [
      "# of place cell using time shift shuffle method: 25.0 / 60\n"
     ]
    },
    {
     "name": "stderr",
     "output_type": "stream",
     "text": [
      "100%|██████████████████████████████████████████████████████████████████████████████████| 60/60 [02:04<00:00,  2.07s/it]\n"
     ]
    },
    {
     "name": "stdout",
     "output_type": "stream",
     "text": [
      "# of run cell using time shift shuffle method: 17.0 / 60\n",
      "M10024maze1Day3\n",
      "44    Z:/miniscope_recording/maze/4_19_2020/10024H16...\n",
      "Name: recording_folder_local, dtype: object\n",
      "The maze is bidirectional, Ye!\n",
      "Node 1 is Decision point\n",
      "Node 2 is Leaf node\n",
      "Node 13 is Decision point\n",
      "Node 6 is Decision point\n",
      "Node 8 is Leaf node\n",
      "Node 17 is Decision point\n",
      "Node 28 is Leaf node\n",
      "Node 30 is Decision point\n",
      "Node 24 is Decision point\n",
      "Node 84 is Decision point\n",
      "Node 94 is Decision point\n",
      "Node 55 is Decision point\n",
      "Node 43 is Leaf node\n",
      "Node 54 is Decision point\n",
      "Node 53 is Leaf node\n",
      "Node 51 is Decision point\n",
      "Node 39 is Decision point\n",
      "Node 40 is Leaf node\n",
      "Node 97 is Decision point\n",
      "Node 86 is Leaf node\n",
      "Node 109 is Decision point\n",
      "Node 129 is Decision point\n",
      "Node 139 is Leaf node\n",
      "Node 142 is Decision point\n",
      "Node 130 is Decision point\n",
      "Node 120 is Leaf node\n",
      "Node 144 is Leaf node\n",
      "Node 143 is Leaf node\n",
      "Node 135 is Leaf node\n",
      "Node 52 is Leaf node\n",
      "Node 93 is Leaf node\n",
      "Node 96 is Leaf node\n",
      "Node 35 is Leaf node\n",
      "Node 41 is Leaf node\n",
      "Node 25 is Leaf node\n",
      "Shortest path =  1 13 14 26 27 15 3 4 5 6 18 17 29 30 31 19 20 21 9 10 11 12 24 23 22 34 33 32 44 45 46 47 48 60 59 58 57 56 68 69 70 71 72 84 83 95 94 82 81 80 92 104 103 91 90 78 79 67 55 54 66 65 64 63 75 74 62 50 51 39 38 37 49 61 73 85 97 109 110 122 123 111 112 100 99 87 88 76 77 89 101 102 114 113 125 124 136 137 138 126 127 115 116 117 129 141 142 130 131 132 144\n",
      "Shortest path =  1 13 14 26 27 15 3 4 5 6 18 17 29 30 31 19 20 21 9 10 11 12 24 23 22 34 33 32 44 45 46 47 48 60 59 58 57 56 68 69 70 71 72 84 83 95 94 82 81 80 92 104 103 91 90 78 79 67 55 54 66 65 64 63 75 74 62 50 51 39 38 37 49 61 73 85 97 109 110 122 123 111 112 100 99 87 88 76 77 89 101 102 114 113 125 124 136 137 138 126 127 115 116 117 129 141 142 130 131 132 144\n"
     ]
    },
    {
     "name": "stderr",
     "output_type": "stream",
     "text": [
      "100%|██████████████████████████████████████████████████████████████████████████████████| 66/66 [00:50<00:00,  1.30it/s]\n"
     ]
    },
    {
     "name": "stdout",
     "output_type": "stream",
     "text": [
      "# of place cell using time shift shuffle method: 12.0 / 66\n"
     ]
    },
    {
     "name": "stderr",
     "output_type": "stream",
     "text": [
      "100%|██████████████████████████████████████████████████████████████████████████████████| 66/66 [00:49<00:00,  1.33it/s]\n"
     ]
    },
    {
     "name": "stdout",
     "output_type": "stream",
     "text": [
      "# of run cell using time shift shuffle method: 17.0 / 66\n",
      "M10024maze1Day4\n",
      "45    Z:/miniscope_recording/maze/4_20_2020/10024H20...\n",
      "Name: recording_folder_local, dtype: object\n",
      "The maze is bidirectional, Ye!\n",
      "Node 1 is Decision point\n",
      "Node 2 is Leaf node\n",
      "Node 13 is Decision point\n",
      "Node 6 is Decision point\n",
      "Node 8 is Leaf node\n",
      "Node 17 is Decision point\n",
      "Node 28 is Leaf node\n",
      "Node 30 is Decision point\n",
      "Node 24 is Decision point\n",
      "Node 84 is Decision point\n",
      "Node 94 is Decision point\n",
      "Node 55 is Decision point\n",
      "Node 43 is Leaf node\n",
      "Node 54 is Decision point\n",
      "Node 53 is Leaf node\n",
      "Node 51 is Decision point\n",
      "Node 39 is Decision point\n",
      "Node 40 is Leaf node\n",
      "Node 97 is Decision point\n",
      "Node 86 is Leaf node\n",
      "Node 109 is Decision point\n",
      "Node 129 is Decision point\n",
      "Node 139 is Leaf node\n",
      "Node 142 is Decision point\n",
      "Node 130 is Decision point\n",
      "Node 120 is Leaf node\n",
      "Node 144 is Leaf node\n",
      "Node 143 is Leaf node\n",
      "Node 135 is Leaf node\n",
      "Node 52 is Leaf node\n",
      "Node 93 is Leaf node\n",
      "Node 96 is Leaf node\n",
      "Node 35 is Leaf node\n",
      "Node 41 is Leaf node\n",
      "Node 25 is Leaf node\n",
      "Shortest path =  1 13 14 26 27 15 3 4 5 6 18 17 29 30 31 19 20 21 9 10 11 12 24 23 22 34 33 32 44 45 46 47 48 60 59 58 57 56 68 69 70 71 72 84 83 95 94 82 81 80 92 104 103 91 90 78 79 67 55 54 66 65 64 63 75 74 62 50 51 39 38 37 49 61 73 85 97 109 110 122 123 111 112 100 99 87 88 76 77 89 101 102 114 113 125 124 136 137 138 126 127 115 116 117 129 141 142 130 131 132 144\n",
      "Shortest path =  1 13 14 26 27 15 3 4 5 6 18 17 29 30 31 19 20 21 9 10 11 12 24 23 22 34 33 32 44 45 46 47 48 60 59 58 57 56 68 69 70 71 72 84 83 95 94 82 81 80 92 104 103 91 90 78 79 67 55 54 66 65 64 63 75 74 62 50 51 39 38 37 49 61 73 85 97 109 110 122 123 111 112 100 99 87 88 76 77 89 101 102 114 113 125 124 136 137 138 126 127 115 116 117 129 141 142 130 131 132 144\n"
     ]
    },
    {
     "name": "stderr",
     "output_type": "stream",
     "text": [
      "100%|██████████████████████████████████████████████████████████████████████████████████| 50/50 [00:58<00:00,  1.18s/it]\n"
     ]
    },
    {
     "name": "stdout",
     "output_type": "stream",
     "text": [
      "# of place cell using time shift shuffle method: 26.0 / 50\n"
     ]
    },
    {
     "name": "stderr",
     "output_type": "stream",
     "text": [
      "100%|██████████████████████████████████████████████████████████████████████████████████| 50/50 [00:57<00:00,  1.15s/it]\n"
     ]
    },
    {
     "name": "stdout",
     "output_type": "stream",
     "text": [
      "# of run cell using time shift shuffle method: 11.0 / 50\n",
      "M10024maze1Day5\n",
      "46    Z:/miniscope_recording/maze/4_21_2020/10024H19...\n",
      "Name: recording_folder_local, dtype: object\n",
      "The maze is bidirectional, Ye!\n",
      "Node 1 is Decision point\n",
      "Node 2 is Leaf node\n",
      "Node 13 is Decision point\n",
      "Node 6 is Decision point\n",
      "Node 8 is Leaf node\n",
      "Node 17 is Decision point\n",
      "Node 28 is Leaf node\n",
      "Node 30 is Decision point\n",
      "Node 24 is Decision point\n",
      "Node 84 is Decision point\n",
      "Node 94 is Decision point\n",
      "Node 55 is Decision point\n",
      "Node 43 is Leaf node\n",
      "Node 54 is Decision point\n",
      "Node 53 is Leaf node\n",
      "Node 51 is Decision point\n",
      "Node 39 is Decision point\n",
      "Node 40 is Leaf node\n",
      "Node 97 is Decision point\n",
      "Node 86 is Leaf node\n",
      "Node 109 is Decision point\n",
      "Node 129 is Decision point\n",
      "Node 139 is Leaf node\n",
      "Node 142 is Decision point\n",
      "Node 130 is Decision point\n",
      "Node 120 is Leaf node\n",
      "Node 144 is Leaf node\n",
      "Node 143 is Leaf node\n",
      "Node 135 is Leaf node\n",
      "Node 52 is Leaf node\n",
      "Node 93 is Leaf node\n",
      "Node 96 is Leaf node\n",
      "Node 35 is Leaf node\n",
      "Node 41 is Leaf node\n",
      "Node 25 is Leaf node\n",
      "Shortest path =  1 13 14 26 27 15 3 4 5 6 18 17 29 30 31 19 20 21 9 10 11 12 24 23 22 34 33 32 44 45 46 47 48 60 59 58 57 56 68 69 70 71 72 84 83 95 94 82 81 80 92 104 103 91 90 78 79 67 55 54 66 65 64 63 75 74 62 50 51 39 38 37 49 61 73 85 97 109 110 122 123 111 112 100 99 87 88 76 77 89 101 102 114 113 125 124 136 137 138 126 127 115 116 117 129 141 142 130 131 132 144\n",
      "Shortest path =  1 13 14 26 27 15 3 4 5 6 18 17 29 30 31 19 20 21 9 10 11 12 24 23 22 34 33 32 44 45 46 47 48 60 59 58 57 56 68 69 70 71 72 84 83 95 94 82 81 80 92 104 103 91 90 78 79 67 55 54 66 65 64 63 75 74 62 50 51 39 38 37 49 61 73 85 97 109 110 122 123 111 112 100 99 87 88 76 77 89 101 102 114 113 125 124 136 137 138 126 127 115 116 117 129 141 142 130 131 132 144\n"
     ]
    },
    {
     "name": "stderr",
     "output_type": "stream",
     "text": [
      "100%|██████████████████████████████████████████████████████████████████████████████████| 70/70 [01:23<00:00,  1.19s/it]\n"
     ]
    },
    {
     "name": "stdout",
     "output_type": "stream",
     "text": [
      "# of place cell using time shift shuffle method: 24.0 / 70\n"
     ]
    },
    {
     "name": "stderr",
     "output_type": "stream",
     "text": [
      "100%|██████████████████████████████████████████████████████████████████████████████████| 70/70 [01:20<00:00,  1.16s/it]\n"
     ]
    },
    {
     "name": "stdout",
     "output_type": "stream",
     "text": [
      "# of run cell using time shift shuffle method: 11.0 / 70\n",
      "M10024maze1Day6\n",
      "47    Z:/miniscope_recording/maze/4_22_2020/10024H17...\n",
      "Name: recording_folder_local, dtype: object\n",
      "The maze is bidirectional, Ye!\n",
      "Node 1 is Decision point\n",
      "Node 2 is Leaf node\n",
      "Node 13 is Decision point\n",
      "Node 6 is Decision point\n",
      "Node 8 is Leaf node\n",
      "Node 17 is Decision point\n",
      "Node 28 is Leaf node\n",
      "Node 30 is Decision point\n",
      "Node 24 is Decision point\n",
      "Node 84 is Decision point\n",
      "Node 94 is Decision point\n",
      "Node 55 is Decision point\n",
      "Node 43 is Leaf node\n",
      "Node 54 is Decision point\n",
      "Node 53 is Leaf node\n",
      "Node 51 is Decision point\n",
      "Node 39 is Decision point\n",
      "Node 40 is Leaf node\n",
      "Node 97 is Decision point\n",
      "Node 86 is Leaf node\n",
      "Node 109 is Decision point\n",
      "Node 129 is Decision point\n",
      "Node 139 is Leaf node\n",
      "Node 142 is Decision point\n",
      "Node 130 is Decision point\n",
      "Node 120 is Leaf node\n",
      "Node 144 is Leaf node\n",
      "Node 143 is Leaf node\n",
      "Node 135 is Leaf node\n",
      "Node 52 is Leaf node\n",
      "Node 93 is Leaf node\n",
      "Node 96 is Leaf node\n",
      "Node 35 is Leaf node\n",
      "Node 41 is Leaf node\n",
      "Node 25 is Leaf node\n",
      "Shortest path =  1 13 14 26 27 15 3 4 5 6 18 17 29 30 31 19 20 21 9 10 11 12 24 23 22 34 33 32 44 45 46 47 48 60 59 58 57 56 68 69 70 71 72 84 83 95 94 82 81 80 92 104 103 91 90 78 79 67 55 54 66 65 64 63 75 74 62 50 51 39 38 37 49 61 73 85 97 109 110 122 123 111 112 100 99 87 88 76 77 89 101 102 114 113 125 124 136 137 138 126 127 115 116 117 129 141 142 130 131 132 144\n",
      "Shortest path =  1 13 14 26 27 15 3 4 5 6 18 17 29 30 31 19 20 21 9 10 11 12 24 23 22 34 33 32 44 45 46 47 48 60 59 58 57 56 68 69 70 71 72 84 83 95 94 82 81 80 92 104 103 91 90 78 79 67 55 54 66 65 64 63 75 74 62 50 51 39 38 37 49 61 73 85 97 109 110 122 123 111 112 100 99 87 88 76 77 89 101 102 114 113 125 124 136 137 138 126 127 115 116 117 129 141 142 130 131 132 144\n"
     ]
    },
    {
     "name": "stderr",
     "output_type": "stream",
     "text": [
      "100%|██████████████████████████████████████████████████████████████████████████████████| 66/66 [01:03<00:00,  1.03it/s]\n"
     ]
    },
    {
     "name": "stdout",
     "output_type": "stream",
     "text": [
      "# of place cell using time shift shuffle method: 36.0 / 66\n"
     ]
    },
    {
     "name": "stderr",
     "output_type": "stream",
     "text": [
      "100%|██████████████████████████████████████████████████████████████████████████████████| 66/66 [01:01<00:00,  1.07it/s]\n"
     ]
    },
    {
     "name": "stdout",
     "output_type": "stream",
     "text": [
      "# of run cell using time shift shuffle method: 22.0 / 66\n",
      "M10024maze1Day7\n",
      "48    Z:/miniscope_recording/maze/4_23_2020/10024H16...\n",
      "Name: recording_folder_local, dtype: object\n",
      "The maze is bidirectional, Ye!\n",
      "Node 1 is Decision point\n",
      "Node 2 is Leaf node\n",
      "Node 13 is Decision point\n",
      "Node 6 is Decision point\n",
      "Node 8 is Leaf node\n",
      "Node 17 is Decision point\n",
      "Node 28 is Leaf node\n",
      "Node 30 is Decision point\n",
      "Node 24 is Decision point\n",
      "Node 84 is Decision point\n",
      "Node 94 is Decision point\n",
      "Node 55 is Decision point\n",
      "Node 43 is Leaf node\n",
      "Node 54 is Decision point\n",
      "Node 53 is Leaf node\n",
      "Node 51 is Decision point\n",
      "Node 39 is Decision point\n",
      "Node 40 is Leaf node\n",
      "Node 97 is Decision point\n",
      "Node 86 is Leaf node\n",
      "Node 109 is Decision point\n",
      "Node 129 is Decision point\n",
      "Node 139 is Leaf node\n",
      "Node 142 is Decision point\n",
      "Node 130 is Decision point\n",
      "Node 120 is Leaf node\n",
      "Node 144 is Leaf node\n",
      "Node 143 is Leaf node\n",
      "Node 135 is Leaf node\n",
      "Node 52 is Leaf node\n",
      "Node 93 is Leaf node\n",
      "Node 96 is Leaf node\n",
      "Node 35 is Leaf node\n",
      "Node 41 is Leaf node\n",
      "Node 25 is Leaf node\n",
      "Shortest path =  1 13 14 26 27 15 3 4 5 6 18 17 29 30 31 19 20 21 9 10 11 12 24 23 22 34 33 32 44 45 46 47 48 60 59 58 57 56 68 69 70 71 72 84 83 95 94 82 81 80 92 104 103 91 90 78 79 67 55 54 66 65 64 63 75 74 62 50 51 39 38 37 49 61 73 85 97 109 110 122 123 111 112 100 99 87 88 76 77 89 101 102 114 113 125 124 136 137 138 126 127 115 116 117 129 141 142 130 131 132 144\n",
      "Shortest path =  1 13 14 26 27 15 3 4 5 6 18 17 29 30 31 19 20 21 9 10 11 12 24 23 22 34 33 32 44 45 46 47 48 60 59 58 57 56 68 69 70 71 72 84 83 95 94 82 81 80 92 104 103 91 90 78 79 67 55 54 66 65 64 63 75 74 62 50 51 39 38 37 49 61 73 85 97 109 110 122 123 111 112 100 99 87 88 76 77 89 101 102 114 113 125 124 136 137 138 126 127 115 116 117 129 141 142 130 131 132 144\n"
     ]
    },
    {
     "name": "stderr",
     "output_type": "stream",
     "text": [
      "100%|██████████████████████████████████████████████████████████████████████████████████| 61/61 [01:02<00:00,  1.02s/it]\n"
     ]
    },
    {
     "name": "stdout",
     "output_type": "stream",
     "text": [
      "# of place cell using time shift shuffle method: 27.0 / 61\n"
     ]
    },
    {
     "name": "stderr",
     "output_type": "stream",
     "text": [
      "100%|██████████████████████████████████████████████████████████████████████████████████| 61/61 [00:59<00:00,  1.02it/s]\n"
     ]
    },
    {
     "name": "stdout",
     "output_type": "stream",
     "text": [
      "# of run cell using time shift shuffle method: 17.0 / 61\n",
      "M10024maze1Day8\n",
      "49    Z:/miniscope_recording/maze/4_24_2020/10024H17...\n",
      "Name: recording_folder_local, dtype: object\n",
      "The maze is bidirectional, Ye!\n",
      "Node 1 is Decision point\n",
      "Node 2 is Leaf node\n",
      "Node 13 is Decision point\n",
      "Node 6 is Decision point\n",
      "Node 8 is Leaf node\n",
      "Node 17 is Decision point\n",
      "Node 28 is Leaf node\n",
      "Node 30 is Decision point\n",
      "Node 24 is Decision point\n",
      "Node 84 is Decision point\n",
      "Node 94 is Decision point\n",
      "Node 55 is Decision point\n",
      "Node 43 is Leaf node\n",
      "Node 54 is Decision point\n",
      "Node 53 is Leaf node\n",
      "Node 51 is Decision point\n",
      "Node 39 is Decision point\n",
      "Node 40 is Leaf node\n",
      "Node 97 is Decision point\n",
      "Node 86 is Leaf node\n",
      "Node 109 is Decision point\n",
      "Node 129 is Decision point\n",
      "Node 139 is Leaf node\n",
      "Node 142 is Decision point\n",
      "Node 130 is Decision point\n",
      "Node 120 is Leaf node\n",
      "Node 144 is Leaf node\n",
      "Node 143 is Leaf node\n",
      "Node 135 is Leaf node\n",
      "Node 52 is Leaf node\n",
      "Node 93 is Leaf node\n",
      "Node 96 is Leaf node\n",
      "Node 35 is Leaf node\n",
      "Node 41 is Leaf node\n",
      "Node 25 is Leaf node\n",
      "Shortest path =  1 13 14 26 27 15 3 4 5 6 18 17 29 30 31 19 20 21 9 10 11 12 24 23 22 34 33 32 44 45 46 47 48 60 59 58 57 56 68 69 70 71 72 84 83 95 94 82 81 80 92 104 103 91 90 78 79 67 55 54 66 65 64 63 75 74 62 50 51 39 38 37 49 61 73 85 97 109 110 122 123 111 112 100 99 87 88 76 77 89 101 102 114 113 125 124 136 137 138 126 127 115 116 117 129 141 142 130 131 132 144\n",
      "Shortest path =  1 13 14 26 27 15 3 4 5 6 18 17 29 30 31 19 20 21 9 10 11 12 24 23 22 34 33 32 44 45 46 47 48 60 59 58 57 56 68 69 70 71 72 84 83 95 94 82 81 80 92 104 103 91 90 78 79 67 55 54 66 65 64 63 75 74 62 50 51 39 38 37 49 61 73 85 97 109 110 122 123 111 112 100 99 87 88 76 77 89 101 102 114 113 125 124 136 137 138 126 127 115 116 117 129 141 142 130 131 132 144\n"
     ]
    },
    {
     "name": "stderr",
     "output_type": "stream",
     "text": [
      "100%|██████████████████████████████████████████████████████████████████████████████████| 41/41 [00:25<00:00,  1.62it/s]\n"
     ]
    },
    {
     "name": "stdout",
     "output_type": "stream",
     "text": [
      "# of place cell using time shift shuffle method: 13.0 / 41\n"
     ]
    },
    {
     "name": "stderr",
     "output_type": "stream",
     "text": [
      "100%|██████████████████████████████████████████████████████████████████████████████████| 41/41 [00:24<00:00,  1.65it/s]\n"
     ]
    },
    {
     "name": "stdout",
     "output_type": "stream",
     "text": [
      "# of run cell using time shift shuffle method: 9.0 / 41\n",
      "M10024maze1Day9\n",
      "50    Z:/miniscope_recording/maze/4_25_2020/10024H17...\n",
      "Name: recording_folder_local, dtype: object\n",
      "The maze is bidirectional, Ye!\n",
      "Node 1 is Decision point\n",
      "Node 2 is Leaf node\n",
      "Node 13 is Decision point\n",
      "Node 6 is Decision point\n",
      "Node 8 is Leaf node\n",
      "Node 17 is Decision point\n",
      "Node 28 is Leaf node\n",
      "Node 30 is Decision point\n",
      "Node 24 is Decision point\n",
      "Node 84 is Decision point\n",
      "Node 94 is Decision point\n",
      "Node 55 is Decision point\n",
      "Node 43 is Leaf node\n",
      "Node 54 is Decision point\n",
      "Node 53 is Leaf node\n",
      "Node 51 is Decision point\n",
      "Node 39 is Decision point\n",
      "Node 40 is Leaf node\n",
      "Node 97 is Decision point\n",
      "Node 86 is Leaf node\n",
      "Node 109 is Decision point\n",
      "Node 129 is Decision point\n",
      "Node 139 is Leaf node\n",
      "Node 142 is Decision point\n",
      "Node 130 is Decision point\n",
      "Node 120 is Leaf node\n",
      "Node 144 is Leaf node\n",
      "Node 143 is Leaf node\n",
      "Node 135 is Leaf node\n",
      "Node 52 is Leaf node\n",
      "Node 93 is Leaf node\n",
      "Node 96 is Leaf node\n",
      "Node 35 is Leaf node\n",
      "Node 41 is Leaf node\n",
      "Node 25 is Leaf node\n",
      "Shortest path =  1 13 14 26 27 15 3 4 5 6 18 17 29 30 31 19 20 21 9 10 11 12 24 23 22 34 33 32 44 45 46 47 48 60 59 58 57 56 68 69 70 71 72 84 83 95 94 82 81 80 92 104 103 91 90 78 79 67 55 54 66 65 64 63 75 74 62 50 51 39 38 37 49 61 73 85 97 109 110 122 123 111 112 100 99 87 88 76 77 89 101 102 114 113 125 124 136 137 138 126 127 115 116 117 129 141 142 130 131 132 144\n",
      "Shortest path =  1 13 14 26 27 15 3 4 5 6 18 17 29 30 31 19 20 21 9 10 11 12 24 23 22 34 33 32 44 45 46 47 48 60 59 58 57 56 68 69 70 71 72 84 83 95 94 82 81 80 92 104 103 91 90 78 79 67 55 54 66 65 64 63 75 74 62 50 51 39 38 37 49 61 73 85 97 109 110 122 123 111 112 100 99 87 88 76 77 89 101 102 114 113 125 124 136 137 138 126 127 115 116 117 129 141 142 130 131 132 144\n"
     ]
    },
    {
     "name": "stderr",
     "output_type": "stream",
     "text": [
      "100%|██████████████████████████████████████████████████████████████████████████████████| 38/38 [00:12<00:00,  3.10it/s]\n"
     ]
    },
    {
     "name": "stdout",
     "output_type": "stream",
     "text": [
      "# of place cell using time shift shuffle method: 4.0 / 38\n"
     ]
    },
    {
     "name": "stderr",
     "output_type": "stream",
     "text": [
      "100%|██████████████████████████████████████████████████████████████████████████████████| 38/38 [00:12<00:00,  3.10it/s]\n"
     ]
    },
    {
     "name": "stdout",
     "output_type": "stream",
     "text": [
      "# of run cell using time shift shuffle method: 2.0 / 38\n",
      "M10026maze1Day1\n",
      "59    Z:/miniscope_recording/maze/4_17_2020/10026H14...\n",
      "Name: recording_folder_local, dtype: object\n",
      "The maze is bidirectional, Ye!\n",
      "Node 1 is Decision point\n",
      "Node 2 is Leaf node\n",
      "Node 13 is Decision point\n",
      "Node 6 is Decision point\n",
      "Node 8 is Leaf node\n",
      "Node 17 is Decision point\n",
      "Node 28 is Leaf node\n",
      "Node 30 is Decision point\n",
      "Node 24 is Decision point\n",
      "Node 84 is Decision point\n",
      "Node 94 is Decision point\n",
      "Node 55 is Decision point\n",
      "Node 43 is Leaf node\n",
      "Node 54 is Decision point\n",
      "Node 53 is Leaf node\n",
      "Node 51 is Decision point\n",
      "Node 39 is Decision point\n",
      "Node 40 is Leaf node\n",
      "Node 97 is Decision point\n",
      "Node 86 is Leaf node\n",
      "Node 109 is Decision point\n",
      "Node 129 is Decision point\n",
      "Node 139 is Leaf node\n",
      "Node 142 is Decision point\n",
      "Node 130 is Decision point\n",
      "Node 120 is Leaf node\n",
      "Node 144 is Leaf node\n",
      "Node 143 is Leaf node\n",
      "Node 135 is Leaf node\n",
      "Node 52 is Leaf node\n",
      "Node 93 is Leaf node\n",
      "Node 96 is Leaf node\n",
      "Node 35 is Leaf node\n",
      "Node 41 is Leaf node\n",
      "Node 25 is Leaf node\n",
      "Shortest path =  1 13 14 26 27 15 3 4 5 6 18 17 29 30 31 19 20 21 9 10 11 12 24 23 22 34 33 32 44 45 46 47 48 60 59 58 57 56 68 69 70 71 72 84 83 95 94 82 81 80 92 104 103 91 90 78 79 67 55 54 66 65 64 63 75 74 62 50 51 39 38 37 49 61 73 85 97 109 110 122 123 111 112 100 99 87 88 76 77 89 101 102 114 113 125 124 136 137 138 126 127 115 116 117 129 141 142 130 131 132 144\n",
      "Shortest path =  1 13 14 26 27 15 3 4 5 6 18 17 29 30 31 19 20 21 9 10 11 12 24 23 22 34 33 32 44 45 46 47 48 60 59 58 57 56 68 69 70 71 72 84 83 95 94 82 81 80 92 104 103 91 90 78 79 67 55 54 66 65 64 63 75 74 62 50 51 39 38 37 49 61 73 85 97 109 110 122 123 111 112 100 99 87 88 76 77 89 101 102 114 113 125 124 136 137 138 126 127 115 116 117 129 141 142 130 131 132 144\n"
     ]
    },
    {
     "name": "stderr",
     "output_type": "stream",
     "text": [
      "100%|██████████████████████████████████████████████████████████████████████████████████| 47/47 [03:53<00:00,  4.96s/it]\n"
     ]
    },
    {
     "name": "stdout",
     "output_type": "stream",
     "text": [
      "# of place cell using time shift shuffle method: 36.0 / 47\n"
     ]
    },
    {
     "name": "stderr",
     "output_type": "stream",
     "text": [
      "100%|██████████████████████████████████████████████████████████████████████████████████| 47/47 [03:43<00:00,  4.76s/it]\n"
     ]
    },
    {
     "name": "stdout",
     "output_type": "stream",
     "text": [
      "# of run cell using time shift shuffle method: 25.0 / 47\n",
      "M10026maze1Day2\n",
      "60    Z:/miniscope_recording/maze/4_18_2020/10026H14...\n",
      "Name: recording_folder_local, dtype: object\n",
      "The maze is bidirectional, Ye!\n",
      "Node 1 is Decision point\n",
      "Node 2 is Leaf node\n",
      "Node 13 is Decision point\n",
      "Node 6 is Decision point\n",
      "Node 8 is Leaf node\n",
      "Node 17 is Decision point\n",
      "Node 28 is Leaf node\n",
      "Node 30 is Decision point\n",
      "Node 24 is Decision point\n",
      "Node 84 is Decision point\n",
      "Node 94 is Decision point\n",
      "Node 55 is Decision point\n",
      "Node 43 is Leaf node\n",
      "Node 54 is Decision point\n",
      "Node 53 is Leaf node\n",
      "Node 51 is Decision point\n",
      "Node 39 is Decision point\n",
      "Node 40 is Leaf node\n",
      "Node 97 is Decision point\n",
      "Node 86 is Leaf node\n",
      "Node 109 is Decision point\n",
      "Node 129 is Decision point\n",
      "Node 139 is Leaf node\n",
      "Node 142 is Decision point\n",
      "Node 130 is Decision point\n",
      "Node 120 is Leaf node\n",
      "Node 144 is Leaf node\n",
      "Node 143 is Leaf node\n",
      "Node 135 is Leaf node\n",
      "Node 52 is Leaf node\n",
      "Node 93 is Leaf node\n",
      "Node 96 is Leaf node\n",
      "Node 35 is Leaf node\n",
      "Node 41 is Leaf node\n",
      "Node 25 is Leaf node\n",
      "Shortest path =  1 13 14 26 27 15 3 4 5 6 18 17 29 30 31 19 20 21 9 10 11 12 24 23 22 34 33 32 44 45 46 47 48 60 59 58 57 56 68 69 70 71 72 84 83 95 94 82 81 80 92 104 103 91 90 78 79 67 55 54 66 65 64 63 75 74 62 50 51 39 38 37 49 61 73 85 97 109 110 122 123 111 112 100 99 87 88 76 77 89 101 102 114 113 125 124 136 137 138 126 127 115 116 117 129 141 142 130 131 132 144\n",
      "Shortest path =  1 13 14 26 27 15 3 4 5 6 18 17 29 30 31 19 20 21 9 10 11 12 24 23 22 34 33 32 44 45 46 47 48 60 59 58 57 56 68 69 70 71 72 84 83 95 94 82 81 80 92 104 103 91 90 78 79 67 55 54 66 65 64 63 75 74 62 50 51 39 38 37 49 61 73 85 97 109 110 122 123 111 112 100 99 87 88 76 77 89 101 102 114 113 125 124 136 137 138 126 127 115 116 117 129 141 142 130 131 132 144\n"
     ]
    },
    {
     "name": "stderr",
     "output_type": "stream",
     "text": [
      "100%|██████████████████████████████████████████████████████████████████████████████████| 56/56 [00:42<00:00,  1.30it/s]\n"
     ]
    },
    {
     "name": "stdout",
     "output_type": "stream",
     "text": [
      "# of place cell using time shift shuffle method: 21.0 / 56\n"
     ]
    },
    {
     "name": "stderr",
     "output_type": "stream",
     "text": [
      "100%|██████████████████████████████████████████████████████████████████████████████████| 56/56 [00:42<00:00,  1.33it/s]\n"
     ]
    },
    {
     "name": "stdout",
     "output_type": "stream",
     "text": [
      "# of run cell using time shift shuffle method: 25.0 / 56\n",
      "M10026maze1Day3\n",
      "61    Z:/miniscope_recording/maze/4_19_2020/10026H14...\n",
      "Name: recording_folder_local, dtype: object\n",
      "The maze is bidirectional, Ye!\n",
      "Node 1 is Decision point\n",
      "Node 2 is Leaf node\n",
      "Node 13 is Decision point\n",
      "Node 6 is Decision point\n",
      "Node 8 is Leaf node\n",
      "Node 17 is Decision point\n",
      "Node 28 is Leaf node\n",
      "Node 30 is Decision point\n",
      "Node 24 is Decision point\n",
      "Node 84 is Decision point\n",
      "Node 94 is Decision point\n",
      "Node 55 is Decision point\n",
      "Node 43 is Leaf node\n",
      "Node 54 is Decision point\n",
      "Node 53 is Leaf node\n",
      "Node 51 is Decision point\n",
      "Node 39 is Decision point\n",
      "Node 40 is Leaf node\n",
      "Node 97 is Decision point\n",
      "Node 86 is Leaf node\n",
      "Node 109 is Decision point\n",
      "Node 129 is Decision point\n",
      "Node 139 is Leaf node\n",
      "Node 142 is Decision point\n",
      "Node 130 is Decision point\n",
      "Node 120 is Leaf node\n",
      "Node 144 is Leaf node\n",
      "Node 143 is Leaf node\n",
      "Node 135 is Leaf node\n",
      "Node 52 is Leaf node\n",
      "Node 93 is Leaf node\n",
      "Node 96 is Leaf node\n",
      "Node 35 is Leaf node\n",
      "Node 41 is Leaf node\n",
      "Node 25 is Leaf node\n",
      "Shortest path =  1 13 14 26 27 15 3 4 5 6 18 17 29 30 31 19 20 21 9 10 11 12 24 23 22 34 33 32 44 45 46 47 48 60 59 58 57 56 68 69 70 71 72 84 83 95 94 82 81 80 92 104 103 91 90 78 79 67 55 54 66 65 64 63 75 74 62 50 51 39 38 37 49 61 73 85 97 109 110 122 123 111 112 100 99 87 88 76 77 89 101 102 114 113 125 124 136 137 138 126 127 115 116 117 129 141 142 130 131 132 144\n",
      "Shortest path =  1 13 14 26 27 15 3 4 5 6 18 17 29 30 31 19 20 21 9 10 11 12 24 23 22 34 33 32 44 45 46 47 48 60 59 58 57 56 68 69 70 71 72 84 83 95 94 82 81 80 92 104 103 91 90 78 79 67 55 54 66 65 64 63 75 74 62 50 51 39 38 37 49 61 73 85 97 109 110 122 123 111 112 100 99 87 88 76 77 89 101 102 114 113 125 124 136 137 138 126 127 115 116 117 129 141 142 130 131 132 144\n"
     ]
    },
    {
     "name": "stderr",
     "output_type": "stream",
     "text": [
      "100%|██████████████████████████████████████████████████████████████████████████████████| 39/39 [00:21<00:00,  1.82it/s]\n"
     ]
    },
    {
     "name": "stdout",
     "output_type": "stream",
     "text": [
      "# of place cell using time shift shuffle method: 9.0 / 39\n"
     ]
    },
    {
     "name": "stderr",
     "output_type": "stream",
     "text": [
      "100%|██████████████████████████████████████████████████████████████████████████████████| 39/39 [00:21<00:00,  1.83it/s]\n"
     ]
    },
    {
     "name": "stdout",
     "output_type": "stream",
     "text": [
      "# of run cell using time shift shuffle method: 8.0 / 39\n",
      "M10026maze1Day4\n",
      "62    Z:/miniscope_recording/maze/4_20_2020/10026H19...\n",
      "Name: recording_folder_local, dtype: object\n",
      "The maze is bidirectional, Ye!\n",
      "Node 1 is Decision point\n",
      "Node 2 is Leaf node\n",
      "Node 13 is Decision point\n",
      "Node 6 is Decision point\n",
      "Node 8 is Leaf node\n",
      "Node 17 is Decision point\n",
      "Node 28 is Leaf node\n",
      "Node 30 is Decision point\n",
      "Node 24 is Decision point\n",
      "Node 84 is Decision point\n",
      "Node 94 is Decision point\n",
      "Node 55 is Decision point\n",
      "Node 43 is Leaf node\n",
      "Node 54 is Decision point\n",
      "Node 53 is Leaf node\n",
      "Node 51 is Decision point\n",
      "Node 39 is Decision point\n",
      "Node 40 is Leaf node\n",
      "Node 97 is Decision point\n",
      "Node 86 is Leaf node\n",
      "Node 109 is Decision point\n",
      "Node 129 is Decision point\n",
      "Node 139 is Leaf node\n",
      "Node 142 is Decision point\n",
      "Node 130 is Decision point\n",
      "Node 120 is Leaf node\n",
      "Node 144 is Leaf node\n",
      "Node 143 is Leaf node\n",
      "Node 135 is Leaf node\n",
      "Node 52 is Leaf node\n",
      "Node 93 is Leaf node\n",
      "Node 96 is Leaf node\n",
      "Node 35 is Leaf node\n",
      "Node 41 is Leaf node\n",
      "Node 25 is Leaf node\n",
      "Shortest path =  1 13 14 26 27 15 3 4 5 6 18 17 29 30 31 19 20 21 9 10 11 12 24 23 22 34 33 32 44 45 46 47 48 60 59 58 57 56 68 69 70 71 72 84 83 95 94 82 81 80 92 104 103 91 90 78 79 67 55 54 66 65 64 63 75 74 62 50 51 39 38 37 49 61 73 85 97 109 110 122 123 111 112 100 99 87 88 76 77 89 101 102 114 113 125 124 136 137 138 126 127 115 116 117 129 141 142 130 131 132 144\n",
      "Shortest path =  1 13 14 26 27 15 3 4 5 6 18 17 29 30 31 19 20 21 9 10 11 12 24 23 22 34 33 32 44 45 46 47 48 60 59 58 57 56 68 69 70 71 72 84 83 95 94 82 81 80 92 104 103 91 90 78 79 67 55 54 66 65 64 63 75 74 62 50 51 39 38 37 49 61 73 85 97 109 110 122 123 111 112 100 99 87 88 76 77 89 101 102 114 113 125 124 136 137 138 126 127 115 116 117 129 141 142 130 131 132 144\n"
     ]
    },
    {
     "name": "stderr",
     "output_type": "stream",
     "text": [
      "100%|██████████████████████████████████████████████████████████████████████████████████| 29/29 [00:15<00:00,  1.83it/s]\n"
     ]
    },
    {
     "name": "stdout",
     "output_type": "stream",
     "text": [
      "# of place cell using time shift shuffle method: 7.0 / 29\n"
     ]
    },
    {
     "name": "stderr",
     "output_type": "stream",
     "text": [
      "100%|██████████████████████████████████████████████████████████████████████████████████| 29/29 [00:15<00:00,  1.84it/s]\n"
     ]
    },
    {
     "name": "stdout",
     "output_type": "stream",
     "text": [
      "# of run cell using time shift shuffle method: 6.0 / 29\n",
      "M10026maze1Day5\n",
      "63    Z:/miniscope_recording/maze/4_21_2020/10026H18...\n",
      "Name: recording_folder_local, dtype: object\n",
      "The maze is bidirectional, Ye!\n",
      "Node 1 is Decision point\n",
      "Node 2 is Leaf node\n",
      "Node 13 is Decision point\n",
      "Node 6 is Decision point\n",
      "Node 8 is Leaf node\n",
      "Node 17 is Decision point\n",
      "Node 28 is Leaf node\n",
      "Node 30 is Decision point\n",
      "Node 24 is Decision point\n",
      "Node 84 is Decision point\n",
      "Node 94 is Decision point\n",
      "Node 55 is Decision point\n",
      "Node 43 is Leaf node\n",
      "Node 54 is Decision point\n",
      "Node 53 is Leaf node\n",
      "Node 51 is Decision point\n",
      "Node 39 is Decision point\n",
      "Node 40 is Leaf node\n",
      "Node 97 is Decision point\n",
      "Node 86 is Leaf node\n",
      "Node 109 is Decision point\n",
      "Node 129 is Decision point\n",
      "Node 139 is Leaf node\n",
      "Node 142 is Decision point\n",
      "Node 130 is Decision point\n",
      "Node 120 is Leaf node\n",
      "Node 144 is Leaf node\n",
      "Node 143 is Leaf node\n",
      "Node 135 is Leaf node\n",
      "Node 52 is Leaf node\n",
      "Node 93 is Leaf node\n",
      "Node 96 is Leaf node\n",
      "Node 35 is Leaf node\n",
      "Node 41 is Leaf node\n",
      "Node 25 is Leaf node\n",
      "Shortest path =  1 13 14 26 27 15 3 4 5 6 18 17 29 30 31 19 20 21 9 10 11 12 24 23 22 34 33 32 44 45 46 47 48 60 59 58 57 56 68 69 70 71 72 84 83 95 94 82 81 80 92 104 103 91 90 78 79 67 55 54 66 65 64 63 75 74 62 50 51 39 38 37 49 61 73 85 97 109 110 122 123 111 112 100 99 87 88 76 77 89 101 102 114 113 125 124 136 137 138 126 127 115 116 117 129 141 142 130 131 132 144\n",
      "Shortest path =  1 13 14 26 27 15 3 4 5 6 18 17 29 30 31 19 20 21 9 10 11 12 24 23 22 34 33 32 44 45 46 47 48 60 59 58 57 56 68 69 70 71 72 84 83 95 94 82 81 80 92 104 103 91 90 78 79 67 55 54 66 65 64 63 75 74 62 50 51 39 38 37 49 61 73 85 97 109 110 122 123 111 112 100 99 87 88 76 77 89 101 102 114 113 125 124 136 137 138 126 127 115 116 117 129 141 142 130 131 132 144\n"
     ]
    },
    {
     "name": "stderr",
     "output_type": "stream",
     "text": [
      "100%|██████████████████████████████████████████████████████████████████████████████████| 15/15 [00:04<00:00,  3.08it/s]\n"
     ]
    },
    {
     "name": "stdout",
     "output_type": "stream",
     "text": [
      "# of place cell using time shift shuffle method: 1.0 / 15\n"
     ]
    },
    {
     "name": "stderr",
     "output_type": "stream",
     "text": [
      "100%|██████████████████████████████████████████████████████████████████████████████████| 15/15 [00:04<00:00,  3.06it/s]\n"
     ]
    },
    {
     "name": "stdout",
     "output_type": "stream",
     "text": [
      "# of run cell using time shift shuffle method: 2.0 / 15\n",
      "M10026maze1Day6\n",
      "64    Z:/miniscope_recording/maze/4_22_2020/10026H16...\n",
      "Name: recording_folder_local, dtype: object\n",
      "The maze is bidirectional, Ye!\n",
      "Node 1 is Decision point\n",
      "Node 2 is Leaf node\n",
      "Node 13 is Decision point\n",
      "Node 6 is Decision point\n",
      "Node 8 is Leaf node\n",
      "Node 17 is Decision point\n",
      "Node 28 is Leaf node\n",
      "Node 30 is Decision point\n",
      "Node 24 is Decision point\n",
      "Node 84 is Decision point\n",
      "Node 94 is Decision point\n",
      "Node 55 is Decision point\n",
      "Node 43 is Leaf node\n",
      "Node 54 is Decision point\n",
      "Node 53 is Leaf node\n",
      "Node 51 is Decision point\n",
      "Node 39 is Decision point\n",
      "Node 40 is Leaf node\n",
      "Node 97 is Decision point\n",
      "Node 86 is Leaf node\n",
      "Node 109 is Decision point\n",
      "Node 129 is Decision point\n",
      "Node 139 is Leaf node\n",
      "Node 142 is Decision point\n",
      "Node 130 is Decision point\n",
      "Node 120 is Leaf node\n",
      "Node 144 is Leaf node\n",
      "Node 143 is Leaf node\n",
      "Node 135 is Leaf node\n",
      "Node 52 is Leaf node\n",
      "Node 93 is Leaf node\n",
      "Node 96 is Leaf node\n",
      "Node 35 is Leaf node\n",
      "Node 41 is Leaf node\n",
      "Node 25 is Leaf node\n",
      "Shortest path =  1 13 14 26 27 15 3 4 5 6 18 17 29 30 31 19 20 21 9 10 11 12 24 23 22 34 33 32 44 45 46 47 48 60 59 58 57 56 68 69 70 71 72 84 83 95 94 82 81 80 92 104 103 91 90 78 79 67 55 54 66 65 64 63 75 74 62 50 51 39 38 37 49 61 73 85 97 109 110 122 123 111 112 100 99 87 88 76 77 89 101 102 114 113 125 124 136 137 138 126 127 115 116 117 129 141 142 130 131 132 144\n",
      "Shortest path =  1 13 14 26 27 15 3 4 5 6 18 17 29 30 31 19 20 21 9 10 11 12 24 23 22 34 33 32 44 45 46 47 48 60 59 58 57 56 68 69 70 71 72 84 83 95 94 82 81 80 92 104 103 91 90 78 79 67 55 54 66 65 64 63 75 74 62 50 51 39 38 37 49 61 73 85 97 109 110 122 123 111 112 100 99 87 88 76 77 89 101 102 114 113 125 124 136 137 138 126 127 115 116 117 129 141 142 130 131 132 144\n"
     ]
    },
    {
     "name": "stderr",
     "output_type": "stream",
     "text": [
      "100%|██████████████████████████████████████████████████████████████████████████████████| 34/34 [00:27<00:00,  1.24it/s]\n"
     ]
    },
    {
     "name": "stdout",
     "output_type": "stream",
     "text": [
      "# of place cell using time shift shuffle method: 22.0 / 34\n"
     ]
    },
    {
     "name": "stderr",
     "output_type": "stream",
     "text": [
      "100%|██████████████████████████████████████████████████████████████████████████████████| 34/34 [00:26<00:00,  1.28it/s]\n"
     ]
    },
    {
     "name": "stdout",
     "output_type": "stream",
     "text": [
      "# of run cell using time shift shuffle method: 14.0 / 34\n",
      "M10026maze1Day7\n",
      "65    Z:/miniscope_recording/maze/4_23_2020/10026H16...\n",
      "Name: recording_folder_local, dtype: object\n",
      "The maze is bidirectional, Ye!\n",
      "Node 1 is Decision point\n",
      "Node 2 is Leaf node\n",
      "Node 13 is Decision point\n",
      "Node 6 is Decision point\n",
      "Node 8 is Leaf node\n",
      "Node 17 is Decision point\n",
      "Node 28 is Leaf node\n",
      "Node 30 is Decision point\n",
      "Node 24 is Decision point\n",
      "Node 84 is Decision point\n",
      "Node 94 is Decision point\n",
      "Node 55 is Decision point\n",
      "Node 43 is Leaf node\n",
      "Node 54 is Decision point\n",
      "Node 53 is Leaf node\n",
      "Node 51 is Decision point\n",
      "Node 39 is Decision point\n",
      "Node 40 is Leaf node\n",
      "Node 97 is Decision point\n",
      "Node 86 is Leaf node\n",
      "Node 109 is Decision point\n",
      "Node 129 is Decision point\n",
      "Node 139 is Leaf node\n",
      "Node 142 is Decision point\n",
      "Node 130 is Decision point\n",
      "Node 120 is Leaf node\n",
      "Node 144 is Leaf node\n",
      "Node 143 is Leaf node\n",
      "Node 135 is Leaf node\n",
      "Node 52 is Leaf node\n",
      "Node 93 is Leaf node\n",
      "Node 96 is Leaf node\n",
      "Node 35 is Leaf node\n",
      "Node 41 is Leaf node\n",
      "Node 25 is Leaf node\n",
      "Shortest path =  1 13 14 26 27 15 3 4 5 6 18 17 29 30 31 19 20 21 9 10 11 12 24 23 22 34 33 32 44 45 46 47 48 60 59 58 57 56 68 69 70 71 72 84 83 95 94 82 81 80 92 104 103 91 90 78 79 67 55 54 66 65 64 63 75 74 62 50 51 39 38 37 49 61 73 85 97 109 110 122 123 111 112 100 99 87 88 76 77 89 101 102 114 113 125 124 136 137 138 126 127 115 116 117 129 141 142 130 131 132 144\n",
      "Shortest path =  1 13 14 26 27 15 3 4 5 6 18 17 29 30 31 19 20 21 9 10 11 12 24 23 22 34 33 32 44 45 46 47 48 60 59 58 57 56 68 69 70 71 72 84 83 95 94 82 81 80 92 104 103 91 90 78 79 67 55 54 66 65 64 63 75 74 62 50 51 39 38 37 49 61 73 85 97 109 110 122 123 111 112 100 99 87 88 76 77 89 101 102 114 113 125 124 136 137 138 126 127 115 116 117 129 141 142 130 131 132 144\n"
     ]
    },
    {
     "name": "stderr",
     "output_type": "stream",
     "text": [
      "100%|██████████████████████████████████████████████████████████████████████████████████| 36/36 [00:15<00:00,  2.40it/s]\n"
     ]
    },
    {
     "name": "stdout",
     "output_type": "stream",
     "text": [
      "# of place cell using time shift shuffle method: 7.0 / 36\n"
     ]
    },
    {
     "name": "stderr",
     "output_type": "stream",
     "text": [
      "100%|██████████████████████████████████████████████████████████████████████████████████| 36/36 [00:14<00:00,  2.41it/s]\n"
     ]
    },
    {
     "name": "stdout",
     "output_type": "stream",
     "text": [
      "# of run cell using time shift shuffle method: 5.0 / 36\n",
      "M10026maze1Day8\n",
      "66    Z:/miniscope_recording/maze/4_24_2020/10026H16...\n",
      "Name: recording_folder_local, dtype: object\n",
      "The maze is bidirectional, Ye!\n",
      "Node 1 is Decision point\n",
      "Node 2 is Leaf node\n",
      "Node 13 is Decision point\n",
      "Node 6 is Decision point\n",
      "Node 8 is Leaf node\n",
      "Node 17 is Decision point\n",
      "Node 28 is Leaf node\n",
      "Node 30 is Decision point\n",
      "Node 24 is Decision point\n",
      "Node 84 is Decision point\n",
      "Node 94 is Decision point\n",
      "Node 55 is Decision point\n",
      "Node 43 is Leaf node\n",
      "Node 54 is Decision point\n",
      "Node 53 is Leaf node\n",
      "Node 51 is Decision point\n",
      "Node 39 is Decision point\n",
      "Node 40 is Leaf node\n",
      "Node 97 is Decision point\n",
      "Node 86 is Leaf node\n",
      "Node 109 is Decision point\n",
      "Node 129 is Decision point\n",
      "Node 139 is Leaf node\n",
      "Node 142 is Decision point\n",
      "Node 130 is Decision point\n",
      "Node 120 is Leaf node\n",
      "Node 144 is Leaf node\n",
      "Node 143 is Leaf node\n",
      "Node 135 is Leaf node\n",
      "Node 52 is Leaf node\n",
      "Node 93 is Leaf node\n",
      "Node 96 is Leaf node\n",
      "Node 35 is Leaf node\n",
      "Node 41 is Leaf node\n",
      "Node 25 is Leaf node\n",
      "Shortest path =  1 13 14 26 27 15 3 4 5 6 18 17 29 30 31 19 20 21 9 10 11 12 24 23 22 34 33 32 44 45 46 47 48 60 59 58 57 56 68 69 70 71 72 84 83 95 94 82 81 80 92 104 103 91 90 78 79 67 55 54 66 65 64 63 75 74 62 50 51 39 38 37 49 61 73 85 97 109 110 122 123 111 112 100 99 87 88 76 77 89 101 102 114 113 125 124 136 137 138 126 127 115 116 117 129 141 142 130 131 132 144\n",
      "Shortest path =  1 13 14 26 27 15 3 4 5 6 18 17 29 30 31 19 20 21 9 10 11 12 24 23 22 34 33 32 44 45 46 47 48 60 59 58 57 56 68 69 70 71 72 84 83 95 94 82 81 80 92 104 103 91 90 78 79 67 55 54 66 65 64 63 75 74 62 50 51 39 38 37 49 61 73 85 97 109 110 122 123 111 112 100 99 87 88 76 77 89 101 102 114 113 125 124 136 137 138 126 127 115 116 117 129 141 142 130 131 132 144\n"
     ]
    },
    {
     "name": "stderr",
     "output_type": "stream",
     "text": [
      "100%|██████████████████████████████████████████████████████████████████████████████████| 17/17 [00:07<00:00,  2.39it/s]\n"
     ]
    },
    {
     "name": "stdout",
     "output_type": "stream",
     "text": [
      "# of place cell using time shift shuffle method: 3.0 / 17\n"
     ]
    },
    {
     "name": "stderr",
     "output_type": "stream",
     "text": [
      "100%|██████████████████████████████████████████████████████████████████████████████████| 17/17 [00:07<00:00,  2.37it/s]\n"
     ]
    },
    {
     "name": "stdout",
     "output_type": "stream",
     "text": [
      "# of run cell using time shift shuffle method: 1.0 / 17\n",
      "M10026maze1Day9\n",
      "67    Z:/miniscope_recording/maze/4_25_2020/10026H17...\n",
      "Name: recording_folder_local, dtype: object\n",
      "The maze is bidirectional, Ye!\n",
      "Node 1 is Decision point\n",
      "Node 2 is Leaf node\n",
      "Node 13 is Decision point\n",
      "Node 6 is Decision point\n",
      "Node 8 is Leaf node\n",
      "Node 17 is Decision point\n",
      "Node 28 is Leaf node\n",
      "Node 30 is Decision point\n",
      "Node 24 is Decision point\n",
      "Node 84 is Decision point\n",
      "Node 94 is Decision point\n",
      "Node 55 is Decision point\n",
      "Node 43 is Leaf node\n",
      "Node 54 is Decision point\n",
      "Node 53 is Leaf node\n",
      "Node 51 is Decision point\n",
      "Node 39 is Decision point\n",
      "Node 40 is Leaf node\n",
      "Node 97 is Decision point\n",
      "Node 86 is Leaf node\n",
      "Node 109 is Decision point\n",
      "Node 129 is Decision point\n",
      "Node 139 is Leaf node\n",
      "Node 142 is Decision point\n",
      "Node 130 is Decision point\n",
      "Node 120 is Leaf node\n",
      "Node 144 is Leaf node\n",
      "Node 143 is Leaf node\n",
      "Node 135 is Leaf node\n",
      "Node 52 is Leaf node\n",
      "Node 93 is Leaf node\n",
      "Node 96 is Leaf node\n",
      "Node 35 is Leaf node\n",
      "Node 41 is Leaf node\n",
      "Node 25 is Leaf node\n",
      "Shortest path =  1 13 14 26 27 15 3 4 5 6 18 17 29 30 31 19 20 21 9 10 11 12 24 23 22 34 33 32 44 45 46 47 48 60 59 58 57 56 68 69 70 71 72 84 83 95 94 82 81 80 92 104 103 91 90 78 79 67 55 54 66 65 64 63 75 74 62 50 51 39 38 37 49 61 73 85 97 109 110 122 123 111 112 100 99 87 88 76 77 89 101 102 114 113 125 124 136 137 138 126 127 115 116 117 129 141 142 130 131 132 144\n",
      "Shortest path =  1 13 14 26 27 15 3 4 5 6 18 17 29 30 31 19 20 21 9 10 11 12 24 23 22 34 33 32 44 45 46 47 48 60 59 58 57 56 68 69 70 71 72 84 83 95 94 82 81 80 92 104 103 91 90 78 79 67 55 54 66 65 64 63 75 74 62 50 51 39 38 37 49 61 73 85 97 109 110 122 123 111 112 100 99 87 88 76 77 89 101 102 114 113 125 124 136 137 138 126 127 115 116 117 129 141 142 130 131 132 144\n"
     ]
    },
    {
     "name": "stderr",
     "output_type": "stream",
     "text": [
      "100%|████████████████████████████████████████████████████████████████████████████████████| 7/7 [00:02<00:00,  3.46it/s]\n"
     ]
    },
    {
     "name": "stdout",
     "output_type": "stream",
     "text": [
      "# of place cell using time shift shuffle method: 2.0 / 7\n"
     ]
    },
    {
     "name": "stderr",
     "output_type": "stream",
     "text": [
      "100%|████████████████████████████████████████████████████████████████████████████████████| 7/7 [00:02<00:00,  3.31it/s]\n"
     ]
    },
    {
     "name": "stdout",
     "output_type": "stream",
     "text": [
      "# of run cell using time shift shuffle method: 2.0 / 7\n",
      "M10027maze1Day1\n",
      "68    Z:/miniscope_recording/maze/4_17_2020/10027H15...\n",
      "Name: recording_folder_local, dtype: object\n",
      "The maze is bidirectional, Ye!\n",
      "Node 1 is Decision point\n",
      "Node 2 is Leaf node\n",
      "Node 13 is Decision point\n",
      "Node 6 is Decision point\n",
      "Node 8 is Leaf node\n",
      "Node 17 is Decision point\n",
      "Node 28 is Leaf node\n",
      "Node 30 is Decision point\n",
      "Node 24 is Decision point\n",
      "Node 84 is Decision point\n",
      "Node 94 is Decision point\n",
      "Node 55 is Decision point\n",
      "Node 43 is Leaf node\n",
      "Node 54 is Decision point\n",
      "Node 53 is Leaf node\n",
      "Node 51 is Decision point\n",
      "Node 39 is Decision point\n",
      "Node 40 is Leaf node\n",
      "Node 97 is Decision point\n",
      "Node 86 is Leaf node\n",
      "Node 109 is Decision point\n",
      "Node 129 is Decision point\n",
      "Node 139 is Leaf node\n",
      "Node 142 is Decision point\n",
      "Node 130 is Decision point\n",
      "Node 120 is Leaf node\n",
      "Node 144 is Leaf node\n",
      "Node 143 is Leaf node\n",
      "Node 135 is Leaf node\n",
      "Node 52 is Leaf node\n",
      "Node 93 is Leaf node\n",
      "Node 96 is Leaf node\n",
      "Node 35 is Leaf node\n",
      "Node 41 is Leaf node\n",
      "Node 25 is Leaf node\n",
      "Shortest path =  1 13 14 26 27 15 3 4 5 6 18 17 29 30 31 19 20 21 9 10 11 12 24 23 22 34 33 32 44 45 46 47 48 60 59 58 57 56 68 69 70 71 72 84 83 95 94 82 81 80 92 104 103 91 90 78 79 67 55 54 66 65 64 63 75 74 62 50 51 39 38 37 49 61 73 85 97 109 110 122 123 111 112 100 99 87 88 76 77 89 101 102 114 113 125 124 136 137 138 126 127 115 116 117 129 141 142 130 131 132 144\n",
      "Shortest path =  1 13 14 26 27 15 3 4 5 6 18 17 29 30 31 19 20 21 9 10 11 12 24 23 22 34 33 32 44 45 46 47 48 60 59 58 57 56 68 69 70 71 72 84 83 95 94 82 81 80 92 104 103 91 90 78 79 67 55 54 66 65 64 63 75 74 62 50 51 39 38 37 49 61 73 85 97 109 110 122 123 111 112 100 99 87 88 76 77 89 101 102 114 113 125 124 136 137 138 126 127 115 116 117 129 141 142 130 131 132 144\n"
     ]
    },
    {
     "name": "stderr",
     "output_type": "stream",
     "text": [
      "100%|██████████████████████████████████████████████████████████████████████████████████| 18/18 [02:14<00:00,  7.48s/it]\n"
     ]
    },
    {
     "name": "stdout",
     "output_type": "stream",
     "text": [
      "# of place cell using time shift shuffle method: 8.0 / 18\n"
     ]
    },
    {
     "name": "stderr",
     "output_type": "stream",
     "text": [
      "100%|██████████████████████████████████████████████████████████████████████████████████| 18/18 [02:15<00:00,  7.54s/it]\n"
     ]
    },
    {
     "name": "stdout",
     "output_type": "stream",
     "text": [
      "# of run cell using time shift shuffle method: 7.0 / 18\n",
      "M10027maze1Day2\n",
      "69    Z:/miniscope_recording/maze/4_18_2020/10027H17...\n",
      "Name: recording_folder_local, dtype: object\n",
      "The maze is bidirectional, Ye!\n",
      "Node 1 is Decision point\n",
      "Node 2 is Leaf node\n",
      "Node 13 is Decision point\n",
      "Node 6 is Decision point\n",
      "Node 8 is Leaf node\n",
      "Node 17 is Decision point\n",
      "Node 28 is Leaf node\n",
      "Node 30 is Decision point\n",
      "Node 24 is Decision point\n",
      "Node 84 is Decision point\n",
      "Node 94 is Decision point\n",
      "Node 55 is Decision point\n",
      "Node 43 is Leaf node\n",
      "Node 54 is Decision point\n",
      "Node 53 is Leaf node\n",
      "Node 51 is Decision point\n",
      "Node 39 is Decision point\n",
      "Node 40 is Leaf node\n",
      "Node 97 is Decision point\n",
      "Node 86 is Leaf node\n",
      "Node 109 is Decision point\n",
      "Node 129 is Decision point\n",
      "Node 139 is Leaf node\n",
      "Node 142 is Decision point\n",
      "Node 130 is Decision point\n",
      "Node 120 is Leaf node\n",
      "Node 144 is Leaf node\n",
      "Node 143 is Leaf node\n",
      "Node 135 is Leaf node\n",
      "Node 52 is Leaf node\n",
      "Node 93 is Leaf node\n",
      "Node 96 is Leaf node\n",
      "Node 35 is Leaf node\n",
      "Node 41 is Leaf node\n",
      "Node 25 is Leaf node\n",
      "Shortest path =  1 13 14 26 27 15 3 4 5 6 18 17 29 30 31 19 20 21 9 10 11 12 24 23 22 34 33 32 44 45 46 47 48 60 59 58 57 56 68 69 70 71 72 84 83 95 94 82 81 80 92 104 103 91 90 78 79 67 55 54 66 65 64 63 75 74 62 50 51 39 38 37 49 61 73 85 97 109 110 122 123 111 112 100 99 87 88 76 77 89 101 102 114 113 125 124 136 137 138 126 127 115 116 117 129 141 142 130 131 132 144\n",
      "Shortest path =  1 13 14 26 27 15 3 4 5 6 18 17 29 30 31 19 20 21 9 10 11 12 24 23 22 34 33 32 44 45 46 47 48 60 59 58 57 56 68 69 70 71 72 84 83 95 94 82 81 80 92 104 103 91 90 78 79 67 55 54 66 65 64 63 75 74 62 50 51 39 38 37 49 61 73 85 97 109 110 122 123 111 112 100 99 87 88 76 77 89 101 102 114 113 125 124 136 137 138 126 127 115 116 117 129 141 142 130 131 132 144\n"
     ]
    },
    {
     "name": "stderr",
     "output_type": "stream",
     "text": [
      "100%|██████████████████████████████████████████████████████████████████████████████████| 34/34 [00:47<00:00,  1.40s/it]\n"
     ]
    },
    {
     "name": "stdout",
     "output_type": "stream",
     "text": [
      "# of place cell using time shift shuffle method: 21.0 / 34\n"
     ]
    },
    {
     "name": "stderr",
     "output_type": "stream",
     "text": [
      "100%|██████████████████████████████████████████████████████████████████████████████████| 34/34 [00:46<00:00,  1.36s/it]\n"
     ]
    },
    {
     "name": "stdout",
     "output_type": "stream",
     "text": [
      "# of run cell using time shift shuffle method: 23.0 / 34\n",
      "M10027maze1Day3\n",
      "70    Z:/miniscope_recording/maze/4_19_2020/10027H16...\n",
      "Name: recording_folder_local, dtype: object\n",
      "The maze is bidirectional, Ye!\n",
      "Node 1 is Decision point\n",
      "Node 2 is Leaf node\n",
      "Node 13 is Decision point\n",
      "Node 6 is Decision point\n",
      "Node 8 is Leaf node\n",
      "Node 17 is Decision point\n",
      "Node 28 is Leaf node\n",
      "Node 30 is Decision point\n",
      "Node 24 is Decision point\n",
      "Node 84 is Decision point\n",
      "Node 94 is Decision point\n",
      "Node 55 is Decision point\n",
      "Node 43 is Leaf node\n",
      "Node 54 is Decision point\n",
      "Node 53 is Leaf node\n",
      "Node 51 is Decision point\n",
      "Node 39 is Decision point\n",
      "Node 40 is Leaf node\n",
      "Node 97 is Decision point\n",
      "Node 86 is Leaf node\n",
      "Node 109 is Decision point\n",
      "Node 129 is Decision point\n",
      "Node 139 is Leaf node\n",
      "Node 142 is Decision point\n",
      "Node 130 is Decision point\n",
      "Node 120 is Leaf node\n",
      "Node 144 is Leaf node\n",
      "Node 143 is Leaf node\n",
      "Node 135 is Leaf node\n",
      "Node 52 is Leaf node\n",
      "Node 93 is Leaf node\n",
      "Node 96 is Leaf node\n",
      "Node 35 is Leaf node\n",
      "Node 41 is Leaf node\n",
      "Node 25 is Leaf node\n",
      "Shortest path =  1 13 14 26 27 15 3 4 5 6 18 17 29 30 31 19 20 21 9 10 11 12 24 23 22 34 33 32 44 45 46 47 48 60 59 58 57 56 68 69 70 71 72 84 83 95 94 82 81 80 92 104 103 91 90 78 79 67 55 54 66 65 64 63 75 74 62 50 51 39 38 37 49 61 73 85 97 109 110 122 123 111 112 100 99 87 88 76 77 89 101 102 114 113 125 124 136 137 138 126 127 115 116 117 129 141 142 130 131 132 144\n",
      "Shortest path =  1 13 14 26 27 15 3 4 5 6 18 17 29 30 31 19 20 21 9 10 11 12 24 23 22 34 33 32 44 45 46 47 48 60 59 58 57 56 68 69 70 71 72 84 83 95 94 82 81 80 92 104 103 91 90 78 79 67 55 54 66 65 64 63 75 74 62 50 51 39 38 37 49 61 73 85 97 109 110 122 123 111 112 100 99 87 88 76 77 89 101 102 114 113 125 124 136 137 138 126 127 115 116 117 129 141 142 130 131 132 144\n"
     ]
    },
    {
     "name": "stderr",
     "output_type": "stream",
     "text": [
      "100%|██████████████████████████████████████████████████████████████████████████████████| 28/28 [00:12<00:00,  2.32it/s]\n"
     ]
    },
    {
     "name": "stdout",
     "output_type": "stream",
     "text": [
      "# of place cell using time shift shuffle method: 3.0 / 28\n"
     ]
    },
    {
     "name": "stderr",
     "output_type": "stream",
     "text": [
      "100%|██████████████████████████████████████████████████████████████████████████████████| 28/28 [00:12<00:00,  2.31it/s]\n"
     ]
    },
    {
     "name": "stdout",
     "output_type": "stream",
     "text": [
      "# of run cell using time shift shuffle method: 1.0 / 28\n",
      "M10027maze1Day4\n",
      "71    Z:/miniscope_recording/maze/4_20_2020/10027H19...\n",
      "Name: recording_folder_local, dtype: object\n",
      "The maze is bidirectional, Ye!\n",
      "Node 1 is Decision point\n",
      "Node 2 is Leaf node\n",
      "Node 13 is Decision point\n",
      "Node 6 is Decision point\n",
      "Node 8 is Leaf node\n",
      "Node 17 is Decision point\n",
      "Node 28 is Leaf node\n",
      "Node 30 is Decision point\n",
      "Node 24 is Decision point\n",
      "Node 84 is Decision point\n",
      "Node 94 is Decision point\n",
      "Node 55 is Decision point\n",
      "Node 43 is Leaf node\n",
      "Node 54 is Decision point\n",
      "Node 53 is Leaf node\n",
      "Node 51 is Decision point\n",
      "Node 39 is Decision point\n",
      "Node 40 is Leaf node\n",
      "Node 97 is Decision point\n",
      "Node 86 is Leaf node\n",
      "Node 109 is Decision point\n",
      "Node 129 is Decision point\n",
      "Node 139 is Leaf node\n",
      "Node 142 is Decision point\n",
      "Node 130 is Decision point\n",
      "Node 120 is Leaf node\n",
      "Node 144 is Leaf node\n",
      "Node 143 is Leaf node\n",
      "Node 135 is Leaf node\n",
      "Node 52 is Leaf node\n",
      "Node 93 is Leaf node\n",
      "Node 96 is Leaf node\n",
      "Node 35 is Leaf node\n",
      "Node 41 is Leaf node\n",
      "Node 25 is Leaf node\n",
      "Shortest path =  1 13 14 26 27 15 3 4 5 6 18 17 29 30 31 19 20 21 9 10 11 12 24 23 22 34 33 32 44 45 46 47 48 60 59 58 57 56 68 69 70 71 72 84 83 95 94 82 81 80 92 104 103 91 90 78 79 67 55 54 66 65 64 63 75 74 62 50 51 39 38 37 49 61 73 85 97 109 110 122 123 111 112 100 99 87 88 76 77 89 101 102 114 113 125 124 136 137 138 126 127 115 116 117 129 141 142 130 131 132 144\n",
      "Shortest path =  1 13 14 26 27 15 3 4 5 6 18 17 29 30 31 19 20 21 9 10 11 12 24 23 22 34 33 32 44 45 46 47 48 60 59 58 57 56 68 69 70 71 72 84 83 95 94 82 81 80 92 104 103 91 90 78 79 67 55 54 66 65 64 63 75 74 62 50 51 39 38 37 49 61 73 85 97 109 110 122 123 111 112 100 99 87 88 76 77 89 101 102 114 113 125 124 136 137 138 126 127 115 116 117 129 141 142 130 131 132 144\n"
     ]
    },
    {
     "name": "stderr",
     "output_type": "stream",
     "text": [
      "100%|██████████████████████████████████████████████████████████████████████████████████| 36/36 [00:41<00:00,  1.14s/it]\n"
     ]
    },
    {
     "name": "stdout",
     "output_type": "stream",
     "text": [
      "# of place cell using time shift shuffle method: 9.0 / 36\n"
     ]
    },
    {
     "name": "stderr",
     "output_type": "stream",
     "text": [
      "100%|██████████████████████████████████████████████████████████████████████████████████| 36/36 [00:39<00:00,  1.11s/it]\n"
     ]
    },
    {
     "name": "stdout",
     "output_type": "stream",
     "text": [
      "# of run cell using time shift shuffle method: 5.0 / 36\n",
      "M10027maze1Day5\n",
      "72    Z:/miniscope_recording/maze/4_21_2020/10027H18...\n",
      "Name: recording_folder_local, dtype: object\n",
      "The maze is bidirectional, Ye!\n",
      "Node 1 is Decision point\n",
      "Node 2 is Leaf node\n",
      "Node 13 is Decision point\n",
      "Node 6 is Decision point\n",
      "Node 8 is Leaf node\n",
      "Node 17 is Decision point\n",
      "Node 28 is Leaf node\n",
      "Node 30 is Decision point\n",
      "Node 24 is Decision point\n",
      "Node 84 is Decision point\n",
      "Node 94 is Decision point\n",
      "Node 55 is Decision point\n",
      "Node 43 is Leaf node\n",
      "Node 54 is Decision point\n",
      "Node 53 is Leaf node\n",
      "Node 51 is Decision point\n",
      "Node 39 is Decision point\n",
      "Node 40 is Leaf node\n",
      "Node 97 is Decision point\n",
      "Node 86 is Leaf node\n",
      "Node 109 is Decision point\n",
      "Node 129 is Decision point\n",
      "Node 139 is Leaf node\n",
      "Node 142 is Decision point\n",
      "Node 130 is Decision point\n",
      "Node 120 is Leaf node\n",
      "Node 144 is Leaf node\n",
      "Node 143 is Leaf node\n",
      "Node 135 is Leaf node\n",
      "Node 52 is Leaf node\n",
      "Node 93 is Leaf node\n",
      "Node 96 is Leaf node\n",
      "Node 35 is Leaf node\n",
      "Node 41 is Leaf node\n",
      "Node 25 is Leaf node\n",
      "Shortest path =  1 13 14 26 27 15 3 4 5 6 18 17 29 30 31 19 20 21 9 10 11 12 24 23 22 34 33 32 44 45 46 47 48 60 59 58 57 56 68 69 70 71 72 84 83 95 94 82 81 80 92 104 103 91 90 78 79 67 55 54 66 65 64 63 75 74 62 50 51 39 38 37 49 61 73 85 97 109 110 122 123 111 112 100 99 87 88 76 77 89 101 102 114 113 125 124 136 137 138 126 127 115 116 117 129 141 142 130 131 132 144\n",
      "Shortest path =  1 13 14 26 27 15 3 4 5 6 18 17 29 30 31 19 20 21 9 10 11 12 24 23 22 34 33 32 44 45 46 47 48 60 59 58 57 56 68 69 70 71 72 84 83 95 94 82 81 80 92 104 103 91 90 78 79 67 55 54 66 65 64 63 75 74 62 50 51 39 38 37 49 61 73 85 97 109 110 122 123 111 112 100 99 87 88 76 77 89 101 102 114 113 125 124 136 137 138 126 127 115 116 117 129 141 142 130 131 132 144\n"
     ]
    },
    {
     "name": "stderr",
     "output_type": "stream",
     "text": [
      "100%|██████████████████████████████████████████████████████████████████████████████████| 30/30 [00:17<00:00,  1.74it/s]\n"
     ]
    },
    {
     "name": "stdout",
     "output_type": "stream",
     "text": [
      "# of place cell using time shift shuffle method: 3.0 / 30\n"
     ]
    },
    {
     "name": "stderr",
     "output_type": "stream",
     "text": [
      "100%|██████████████████████████████████████████████████████████████████████████████████| 30/30 [00:17<00:00,  1.76it/s]\n"
     ]
    },
    {
     "name": "stdout",
     "output_type": "stream",
     "text": [
      "# of run cell using time shift shuffle method: 5.0 / 30\n",
      "M10027maze1Day6\n",
      "73    Z:/miniscope_recording/maze/4_22_2020/10027H16...\n",
      "Name: recording_folder_local, dtype: object\n",
      "The maze is bidirectional, Ye!\n",
      "Node 1 is Decision point\n",
      "Node 2 is Leaf node\n",
      "Node 13 is Decision point\n",
      "Node 6 is Decision point\n",
      "Node 8 is Leaf node\n",
      "Node 17 is Decision point\n",
      "Node 28 is Leaf node\n",
      "Node 30 is Decision point\n",
      "Node 24 is Decision point\n",
      "Node 84 is Decision point\n",
      "Node 94 is Decision point\n",
      "Node 55 is Decision point\n",
      "Node 43 is Leaf node\n",
      "Node 54 is Decision point\n",
      "Node 53 is Leaf node\n",
      "Node 51 is Decision point\n",
      "Node 39 is Decision point\n",
      "Node 40 is Leaf node\n",
      "Node 97 is Decision point\n",
      "Node 86 is Leaf node\n",
      "Node 109 is Decision point\n",
      "Node 129 is Decision point\n",
      "Node 139 is Leaf node\n",
      "Node 142 is Decision point\n",
      "Node 130 is Decision point\n",
      "Node 120 is Leaf node\n",
      "Node 144 is Leaf node\n",
      "Node 143 is Leaf node\n",
      "Node 135 is Leaf node\n",
      "Node 52 is Leaf node\n",
      "Node 93 is Leaf node\n",
      "Node 96 is Leaf node\n",
      "Node 35 is Leaf node\n",
      "Node 41 is Leaf node\n",
      "Node 25 is Leaf node\n",
      "Shortest path =  1 13 14 26 27 15 3 4 5 6 18 17 29 30 31 19 20 21 9 10 11 12 24 23 22 34 33 32 44 45 46 47 48 60 59 58 57 56 68 69 70 71 72 84 83 95 94 82 81 80 92 104 103 91 90 78 79 67 55 54 66 65 64 63 75 74 62 50 51 39 38 37 49 61 73 85 97 109 110 122 123 111 112 100 99 87 88 76 77 89 101 102 114 113 125 124 136 137 138 126 127 115 116 117 129 141 142 130 131 132 144\n",
      "Shortest path =  1 13 14 26 27 15 3 4 5 6 18 17 29 30 31 19 20 21 9 10 11 12 24 23 22 34 33 32 44 45 46 47 48 60 59 58 57 56 68 69 70 71 72 84 83 95 94 82 81 80 92 104 103 91 90 78 79 67 55 54 66 65 64 63 75 74 62 50 51 39 38 37 49 61 73 85 97 109 110 122 123 111 112 100 99 87 88 76 77 89 101 102 114 113 125 124 136 137 138 126 127 115 116 117 129 141 142 130 131 132 144\n"
     ]
    },
    {
     "name": "stderr",
     "output_type": "stream",
     "text": [
      "100%|██████████████████████████████████████████████████████████████████████████████████| 15/15 [00:09<00:00,  1.66it/s]\n"
     ]
    },
    {
     "name": "stdout",
     "output_type": "stream",
     "text": [
      "# of place cell using time shift shuffle method: 2.0 / 15\n"
     ]
    },
    {
     "name": "stderr",
     "output_type": "stream",
     "text": [
      "100%|██████████████████████████████████████████████████████████████████████████████████| 15/15 [00:08<00:00,  1.68it/s]\n"
     ]
    },
    {
     "name": "stdout",
     "output_type": "stream",
     "text": [
      "# of run cell using time shift shuffle method: 2.0 / 15\n",
      "M10027maze1Day7\n",
      "74    Z:/miniscope_recording/maze/4_23_2020/10027H15...\n",
      "Name: recording_folder_local, dtype: object\n",
      "The maze is bidirectional, Ye!\n",
      "Node 1 is Decision point\n",
      "Node 2 is Leaf node\n",
      "Node 13 is Decision point\n",
      "Node 6 is Decision point\n",
      "Node 8 is Leaf node\n",
      "Node 17 is Decision point\n",
      "Node 28 is Leaf node\n",
      "Node 30 is Decision point\n",
      "Node 24 is Decision point\n",
      "Node 84 is Decision point\n",
      "Node 94 is Decision point\n",
      "Node 55 is Decision point\n",
      "Node 43 is Leaf node\n",
      "Node 54 is Decision point\n",
      "Node 53 is Leaf node\n",
      "Node 51 is Decision point\n",
      "Node 39 is Decision point\n",
      "Node 40 is Leaf node\n",
      "Node 97 is Decision point\n",
      "Node 86 is Leaf node\n",
      "Node 109 is Decision point\n",
      "Node 129 is Decision point\n",
      "Node 139 is Leaf node\n",
      "Node 142 is Decision point\n",
      "Node 130 is Decision point\n",
      "Node 120 is Leaf node\n",
      "Node 144 is Leaf node\n",
      "Node 143 is Leaf node\n",
      "Node 135 is Leaf node\n",
      "Node 52 is Leaf node\n",
      "Node 93 is Leaf node\n",
      "Node 96 is Leaf node\n",
      "Node 35 is Leaf node\n",
      "Node 41 is Leaf node\n",
      "Node 25 is Leaf node\n",
      "Shortest path =  1 13 14 26 27 15 3 4 5 6 18 17 29 30 31 19 20 21 9 10 11 12 24 23 22 34 33 32 44 45 46 47 48 60 59 58 57 56 68 69 70 71 72 84 83 95 94 82 81 80 92 104 103 91 90 78 79 67 55 54 66 65 64 63 75 74 62 50 51 39 38 37 49 61 73 85 97 109 110 122 123 111 112 100 99 87 88 76 77 89 101 102 114 113 125 124 136 137 138 126 127 115 116 117 129 141 142 130 131 132 144\n",
      "Shortest path =  1 13 14 26 27 15 3 4 5 6 18 17 29 30 31 19 20 21 9 10 11 12 24 23 22 34 33 32 44 45 46 47 48 60 59 58 57 56 68 69 70 71 72 84 83 95 94 82 81 80 92 104 103 91 90 78 79 67 55 54 66 65 64 63 75 74 62 50 51 39 38 37 49 61 73 85 97 109 110 122 123 111 112 100 99 87 88 76 77 89 101 102 114 113 125 124 136 137 138 126 127 115 116 117 129 141 142 130 131 132 144\n"
     ]
    },
    {
     "name": "stderr",
     "output_type": "stream",
     "text": [
      "100%|██████████████████████████████████████████████████████████████████████████████████| 17/17 [00:10<00:00,  1.62it/s]\n"
     ]
    },
    {
     "name": "stdout",
     "output_type": "stream",
     "text": [
      "# of place cell using time shift shuffle method: 3.0 / 17\n"
     ]
    },
    {
     "name": "stderr",
     "output_type": "stream",
     "text": [
      "100%|██████████████████████████████████████████████████████████████████████████████████| 17/17 [00:10<00:00,  1.61it/s]\n"
     ]
    },
    {
     "name": "stdout",
     "output_type": "stream",
     "text": [
      "# of run cell using time shift shuffle method: 2.0 / 17\n",
      "M10027maze1Day8\n",
      "75    Z:/miniscope_recording/maze/4_24_2020/10027H16...\n",
      "Name: recording_folder_local, dtype: object\n",
      "The maze is bidirectional, Ye!\n",
      "Node 1 is Decision point\n",
      "Node 2 is Leaf node\n",
      "Node 13 is Decision point\n",
      "Node 6 is Decision point\n",
      "Node 8 is Leaf node\n",
      "Node 17 is Decision point\n",
      "Node 28 is Leaf node\n",
      "Node 30 is Decision point\n",
      "Node 24 is Decision point\n",
      "Node 84 is Decision point\n",
      "Node 94 is Decision point\n",
      "Node 55 is Decision point\n",
      "Node 43 is Leaf node\n",
      "Node 54 is Decision point\n",
      "Node 53 is Leaf node\n",
      "Node 51 is Decision point\n",
      "Node 39 is Decision point\n",
      "Node 40 is Leaf node\n",
      "Node 97 is Decision point\n",
      "Node 86 is Leaf node\n",
      "Node 109 is Decision point\n",
      "Node 129 is Decision point\n",
      "Node 139 is Leaf node\n",
      "Node 142 is Decision point\n",
      "Node 130 is Decision point\n",
      "Node 120 is Leaf node\n",
      "Node 144 is Leaf node\n",
      "Node 143 is Leaf node\n",
      "Node 135 is Leaf node\n",
      "Node 52 is Leaf node\n",
      "Node 93 is Leaf node\n",
      "Node 96 is Leaf node\n",
      "Node 35 is Leaf node\n",
      "Node 41 is Leaf node\n",
      "Node 25 is Leaf node\n",
      "Shortest path =  1 13 14 26 27 15 3 4 5 6 18 17 29 30 31 19 20 21 9 10 11 12 24 23 22 34 33 32 44 45 46 47 48 60 59 58 57 56 68 69 70 71 72 84 83 95 94 82 81 80 92 104 103 91 90 78 79 67 55 54 66 65 64 63 75 74 62 50 51 39 38 37 49 61 73 85 97 109 110 122 123 111 112 100 99 87 88 76 77 89 101 102 114 113 125 124 136 137 138 126 127 115 116 117 129 141 142 130 131 132 144\n",
      "Shortest path =  1 13 14 26 27 15 3 4 5 6 18 17 29 30 31 19 20 21 9 10 11 12 24 23 22 34 33 32 44 45 46 47 48 60 59 58 57 56 68 69 70 71 72 84 83 95 94 82 81 80 92 104 103 91 90 78 79 67 55 54 66 65 64 63 75 74 62 50 51 39 38 37 49 61 73 85 97 109 110 122 123 111 112 100 99 87 88 76 77 89 101 102 114 113 125 124 136 137 138 126 127 115 116 117 129 141 142 130 131 132 144\n"
     ]
    },
    {
     "name": "stderr",
     "output_type": "stream",
     "text": [
      "100%|██████████████████████████████████████████████████████████████████████████████████| 14/14 [00:04<00:00,  3.11it/s]\n"
     ]
    },
    {
     "name": "stdout",
     "output_type": "stream",
     "text": [
      "# of place cell using time shift shuffle method: 0.0 / 14\n"
     ]
    },
    {
     "name": "stderr",
     "output_type": "stream",
     "text": [
      "100%|██████████████████████████████████████████████████████████████████████████████████| 14/14 [00:04<00:00,  3.05it/s]\n"
     ]
    },
    {
     "name": "stdout",
     "output_type": "stream",
     "text": [
      "# of run cell using time shift shuffle method: 0.0 / 14\n",
      "M10027maze1Day9\n",
      "76    Z:/miniscope_recording/maze/4_25_2020/10027H16...\n",
      "Name: recording_folder_local, dtype: object\n",
      "The maze is bidirectional, Ye!\n",
      "Node 1 is Decision point\n",
      "Node 2 is Leaf node\n",
      "Node 13 is Decision point\n",
      "Node 6 is Decision point\n",
      "Node 8 is Leaf node\n",
      "Node 17 is Decision point\n",
      "Node 28 is Leaf node\n",
      "Node 30 is Decision point\n",
      "Node 24 is Decision point\n",
      "Node 84 is Decision point\n",
      "Node 94 is Decision point\n",
      "Node 55 is Decision point\n",
      "Node 43 is Leaf node\n",
      "Node 54 is Decision point\n",
      "Node 53 is Leaf node\n",
      "Node 51 is Decision point\n",
      "Node 39 is Decision point\n",
      "Node 40 is Leaf node\n",
      "Node 97 is Decision point\n",
      "Node 86 is Leaf node\n",
      "Node 109 is Decision point\n",
      "Node 129 is Decision point\n",
      "Node 139 is Leaf node\n",
      "Node 142 is Decision point\n",
      "Node 130 is Decision point\n",
      "Node 120 is Leaf node\n",
      "Node 144 is Leaf node\n",
      "Node 143 is Leaf node\n",
      "Node 135 is Leaf node\n",
      "Node 52 is Leaf node\n",
      "Node 93 is Leaf node\n",
      "Node 96 is Leaf node\n",
      "Node 35 is Leaf node\n",
      "Node 41 is Leaf node\n",
      "Node 25 is Leaf node\n",
      "Shortest path =  1 13 14 26 27 15 3 4 5 6 18 17 29 30 31 19 20 21 9 10 11 12 24 23 22 34 33 32 44 45 46 47 48 60 59 58 57 56 68 69 70 71 72 84 83 95 94 82 81 80 92 104 103 91 90 78 79 67 55 54 66 65 64 63 75 74 62 50 51 39 38 37 49 61 73 85 97 109 110 122 123 111 112 100 99 87 88 76 77 89 101 102 114 113 125 124 136 137 138 126 127 115 116 117 129 141 142 130 131 132 144\n",
      "Shortest path =  1 13 14 26 27 15 3 4 5 6 18 17 29 30 31 19 20 21 9 10 11 12 24 23 22 34 33 32 44 45 46 47 48 60 59 58 57 56 68 69 70 71 72 84 83 95 94 82 81 80 92 104 103 91 90 78 79 67 55 54 66 65 64 63 75 74 62 50 51 39 38 37 49 61 73 85 97 109 110 122 123 111 112 100 99 87 88 76 77 89 101 102 114 113 125 124 136 137 138 126 127 115 116 117 129 141 142 130 131 132 144\n"
     ]
    },
    {
     "name": "stderr",
     "output_type": "stream",
     "text": [
      "100%|████████████████████████████████████████████████████████████████████████████████████| 7/7 [00:02<00:00,  3.46it/s]\n"
     ]
    },
    {
     "name": "stdout",
     "output_type": "stream",
     "text": [
      "# of place cell using time shift shuffle method: 1.0 / 7\n"
     ]
    },
    {
     "name": "stderr",
     "output_type": "stream",
     "text": [
      "100%|████████████████████████████████████████████████████████████████████████████████████| 7/7 [00:02<00:00,  3.35it/s]\n"
     ]
    },
    {
     "name": "stdout",
     "output_type": "stream",
     "text": [
      "# of run cell using time shift shuffle method: 0.0 / 7\n",
      "M10028maze1Day1\n",
      "77    Z:/miniscope_recording/maze/4_17_2020/10028H16...\n",
      "Name: recording_folder_local, dtype: object\n",
      "The maze is bidirectional, Ye!\n",
      "Node 1 is Decision point\n",
      "Node 2 is Leaf node\n",
      "Node 13 is Decision point\n",
      "Node 6 is Decision point\n",
      "Node 8 is Leaf node\n",
      "Node 17 is Decision point\n",
      "Node 28 is Leaf node\n",
      "Node 30 is Decision point\n",
      "Node 24 is Decision point\n",
      "Node 84 is Decision point\n",
      "Node 94 is Decision point\n",
      "Node 55 is Decision point\n",
      "Node 43 is Leaf node\n",
      "Node 54 is Decision point\n",
      "Node 53 is Leaf node\n",
      "Node 51 is Decision point\n",
      "Node 39 is Decision point\n",
      "Node 40 is Leaf node\n",
      "Node 97 is Decision point\n",
      "Node 86 is Leaf node\n",
      "Node 109 is Decision point\n",
      "Node 129 is Decision point\n",
      "Node 139 is Leaf node\n",
      "Node 142 is Decision point\n",
      "Node 130 is Decision point\n",
      "Node 120 is Leaf node\n",
      "Node 144 is Leaf node\n",
      "Node 143 is Leaf node\n",
      "Node 135 is Leaf node\n",
      "Node 52 is Leaf node\n",
      "Node 93 is Leaf node\n",
      "Node 96 is Leaf node\n",
      "Node 35 is Leaf node\n",
      "Node 41 is Leaf node\n",
      "Node 25 is Leaf node\n",
      "Shortest path =  1 13 14 26 27 15 3 4 5 6 18 17 29 30 31 19 20 21 9 10 11 12 24 23 22 34 33 32 44 45 46 47 48 60 59 58 57 56 68 69 70 71 72 84 83 95 94 82 81 80 92 104 103 91 90 78 79 67 55 54 66 65 64 63 75 74 62 50 51 39 38 37 49 61 73 85 97 109 110 122 123 111 112 100 99 87 88 76 77 89 101 102 114 113 125 124 136 137 138 126 127 115 116 117 129 141 142 130 131 132 144\n",
      "Shortest path =  1 13 14 26 27 15 3 4 5 6 18 17 29 30 31 19 20 21 9 10 11 12 24 23 22 34 33 32 44 45 46 47 48 60 59 58 57 56 68 69 70 71 72 84 83 95 94 82 81 80 92 104 103 91 90 78 79 67 55 54 66 65 64 63 75 74 62 50 51 39 38 37 49 61 73 85 97 109 110 122 123 111 112 100 99 87 88 76 77 89 101 102 114 113 125 124 136 137 138 126 127 115 116 117 129 141 142 130 131 132 144\n"
     ]
    },
    {
     "name": "stderr",
     "output_type": "stream",
     "text": [
      "100%|██████████████████████████████████████████████████████████████████████████████████| 41/41 [02:13<00:00,  3.26s/it]\n"
     ]
    },
    {
     "name": "stdout",
     "output_type": "stream",
     "text": [
      "# of place cell using time shift shuffle method: 16.0 / 41\n"
     ]
    },
    {
     "name": "stderr",
     "output_type": "stream",
     "text": [
      "100%|██████████████████████████████████████████████████████████████████████████████████| 41/41 [02:10<00:00,  3.19s/it]\n"
     ]
    },
    {
     "name": "stdout",
     "output_type": "stream",
     "text": [
      "# of run cell using time shift shuffle method: 13.0 / 41\n",
      "M10028maze1Day2\n",
      "78    Z:/miniscope_recording/maze/4_18_2020/10028H16...\n",
      "Name: recording_folder_local, dtype: object\n",
      "The maze is bidirectional, Ye!\n",
      "Node 1 is Decision point\n",
      "Node 2 is Leaf node\n",
      "Node 13 is Decision point\n",
      "Node 6 is Decision point\n",
      "Node 8 is Leaf node\n",
      "Node 17 is Decision point\n",
      "Node 28 is Leaf node\n",
      "Node 30 is Decision point\n",
      "Node 24 is Decision point\n",
      "Node 84 is Decision point\n",
      "Node 94 is Decision point\n",
      "Node 55 is Decision point\n",
      "Node 43 is Leaf node\n",
      "Node 54 is Decision point\n",
      "Node 53 is Leaf node\n",
      "Node 51 is Decision point\n",
      "Node 39 is Decision point\n",
      "Node 40 is Leaf node\n",
      "Node 97 is Decision point\n",
      "Node 86 is Leaf node\n",
      "Node 109 is Decision point\n",
      "Node 129 is Decision point\n",
      "Node 139 is Leaf node\n",
      "Node 142 is Decision point\n",
      "Node 130 is Decision point\n",
      "Node 120 is Leaf node\n",
      "Node 144 is Leaf node\n",
      "Node 143 is Leaf node\n",
      "Node 135 is Leaf node\n",
      "Node 52 is Leaf node\n",
      "Node 93 is Leaf node\n",
      "Node 96 is Leaf node\n",
      "Node 35 is Leaf node\n",
      "Node 41 is Leaf node\n",
      "Node 25 is Leaf node\n",
      "Shortest path =  1 13 14 26 27 15 3 4 5 6 18 17 29 30 31 19 20 21 9 10 11 12 24 23 22 34 33 32 44 45 46 47 48 60 59 58 57 56 68 69 70 71 72 84 83 95 94 82 81 80 92 104 103 91 90 78 79 67 55 54 66 65 64 63 75 74 62 50 51 39 38 37 49 61 73 85 97 109 110 122 123 111 112 100 99 87 88 76 77 89 101 102 114 113 125 124 136 137 138 126 127 115 116 117 129 141 142 130 131 132 144\n",
      "Shortest path =  1 13 14 26 27 15 3 4 5 6 18 17 29 30 31 19 20 21 9 10 11 12 24 23 22 34 33 32 44 45 46 47 48 60 59 58 57 56 68 69 70 71 72 84 83 95 94 82 81 80 92 104 103 91 90 78 79 67 55 54 66 65 64 63 75 74 62 50 51 39 38 37 49 61 73 85 97 109 110 122 123 111 112 100 99 87 88 76 77 89 101 102 114 113 125 124 136 137 138 126 127 115 116 117 129 141 142 130 131 132 144\n"
     ]
    },
    {
     "name": "stderr",
     "output_type": "stream",
     "text": [
      "100%|██████████████████████████████████████████████████████████████████████████████████| 53/53 [01:11<00:00,  1.35s/it]\n"
     ]
    },
    {
     "name": "stdout",
     "output_type": "stream",
     "text": [
      "# of place cell using time shift shuffle method: 24.0 / 53\n"
     ]
    },
    {
     "name": "stderr",
     "output_type": "stream",
     "text": [
      "100%|██████████████████████████████████████████████████████████████████████████████████| 53/53 [01:10<00:00,  1.33s/it]\n"
     ]
    },
    {
     "name": "stdout",
     "output_type": "stream",
     "text": [
      "# of run cell using time shift shuffle method: 24.0 / 53\n",
      "M10028maze1Day3\n",
      "79    Z:/miniscope_recording/maze/4_19_2020/10028H15...\n",
      "Name: recording_folder_local, dtype: object\n",
      "The maze is bidirectional, Ye!\n",
      "Node 1 is Decision point\n",
      "Node 2 is Leaf node\n",
      "Node 13 is Decision point\n",
      "Node 6 is Decision point\n",
      "Node 8 is Leaf node\n",
      "Node 17 is Decision point\n",
      "Node 28 is Leaf node\n",
      "Node 30 is Decision point\n",
      "Node 24 is Decision point\n",
      "Node 84 is Decision point\n",
      "Node 94 is Decision point\n",
      "Node 55 is Decision point\n",
      "Node 43 is Leaf node\n",
      "Node 54 is Decision point\n",
      "Node 53 is Leaf node\n",
      "Node 51 is Decision point\n",
      "Node 39 is Decision point\n",
      "Node 40 is Leaf node\n",
      "Node 97 is Decision point\n",
      "Node 86 is Leaf node\n",
      "Node 109 is Decision point\n",
      "Node 129 is Decision point\n",
      "Node 139 is Leaf node\n",
      "Node 142 is Decision point\n",
      "Node 130 is Decision point\n",
      "Node 120 is Leaf node\n",
      "Node 144 is Leaf node\n",
      "Node 143 is Leaf node\n",
      "Node 135 is Leaf node\n",
      "Node 52 is Leaf node\n",
      "Node 93 is Leaf node\n",
      "Node 96 is Leaf node\n",
      "Node 35 is Leaf node\n",
      "Node 41 is Leaf node\n",
      "Node 25 is Leaf node\n",
      "Shortest path =  1 13 14 26 27 15 3 4 5 6 18 17 29 30 31 19 20 21 9 10 11 12 24 23 22 34 33 32 44 45 46 47 48 60 59 58 57 56 68 69 70 71 72 84 83 95 94 82 81 80 92 104 103 91 90 78 79 67 55 54 66 65 64 63 75 74 62 50 51 39 38 37 49 61 73 85 97 109 110 122 123 111 112 100 99 87 88 76 77 89 101 102 114 113 125 124 136 137 138 126 127 115 116 117 129 141 142 130 131 132 144\n",
      "Shortest path =  1 13 14 26 27 15 3 4 5 6 18 17 29 30 31 19 20 21 9 10 11 12 24 23 22 34 33 32 44 45 46 47 48 60 59 58 57 56 68 69 70 71 72 84 83 95 94 82 81 80 92 104 103 91 90 78 79 67 55 54 66 65 64 63 75 74 62 50 51 39 38 37 49 61 73 85 97 109 110 122 123 111 112 100 99 87 88 76 77 89 101 102 114 113 125 124 136 137 138 126 127 115 116 117 129 141 142 130 131 132 144\n"
     ]
    },
    {
     "name": "stderr",
     "output_type": "stream",
     "text": [
      "100%|██████████████████████████████████████████████████████████████████████████████████| 44/44 [00:58<00:00,  1.32s/it]\n"
     ]
    },
    {
     "name": "stdout",
     "output_type": "stream",
     "text": [
      "# of place cell using time shift shuffle method: 21.0 / 44\n"
     ]
    },
    {
     "name": "stderr",
     "output_type": "stream",
     "text": [
      "100%|██████████████████████████████████████████████████████████████████████████████████| 44/44 [00:56<00:00,  1.28s/it]\n"
     ]
    },
    {
     "name": "stdout",
     "output_type": "stream",
     "text": [
      "# of run cell using time shift shuffle method: 19.0 / 44\n",
      "M10028maze1Day4\n",
      "80    Z:/miniscope_recording/maze/4_20_2020/10028H18...\n",
      "Name: recording_folder_local, dtype: object\n",
      "The maze is bidirectional, Ye!\n",
      "Node 1 is Decision point\n",
      "Node 2 is Leaf node\n",
      "Node 13 is Decision point\n",
      "Node 6 is Decision point\n",
      "Node 8 is Leaf node\n",
      "Node 17 is Decision point\n",
      "Node 28 is Leaf node\n",
      "Node 30 is Decision point\n",
      "Node 24 is Decision point\n",
      "Node 84 is Decision point\n",
      "Node 94 is Decision point\n",
      "Node 55 is Decision point\n",
      "Node 43 is Leaf node\n",
      "Node 54 is Decision point\n",
      "Node 53 is Leaf node\n",
      "Node 51 is Decision point\n",
      "Node 39 is Decision point\n",
      "Node 40 is Leaf node\n",
      "Node 97 is Decision point\n",
      "Node 86 is Leaf node\n",
      "Node 109 is Decision point\n",
      "Node 129 is Decision point\n",
      "Node 139 is Leaf node\n",
      "Node 142 is Decision point\n",
      "Node 130 is Decision point\n",
      "Node 120 is Leaf node\n",
      "Node 144 is Leaf node\n",
      "Node 143 is Leaf node\n",
      "Node 135 is Leaf node\n",
      "Node 52 is Leaf node\n",
      "Node 93 is Leaf node\n",
      "Node 96 is Leaf node\n",
      "Node 35 is Leaf node\n",
      "Node 41 is Leaf node\n",
      "Node 25 is Leaf node\n",
      "Shortest path =  1 13 14 26 27 15 3 4 5 6 18 17 29 30 31 19 20 21 9 10 11 12 24 23 22 34 33 32 44 45 46 47 48 60 59 58 57 56 68 69 70 71 72 84 83 95 94 82 81 80 92 104 103 91 90 78 79 67 55 54 66 65 64 63 75 74 62 50 51 39 38 37 49 61 73 85 97 109 110 122 123 111 112 100 99 87 88 76 77 89 101 102 114 113 125 124 136 137 138 126 127 115 116 117 129 141 142 130 131 132 144\n",
      "Shortest path =  1 13 14 26 27 15 3 4 5 6 18 17 29 30 31 19 20 21 9 10 11 12 24 23 22 34 33 32 44 45 46 47 48 60 59 58 57 56 68 69 70 71 72 84 83 95 94 82 81 80 92 104 103 91 90 78 79 67 55 54 66 65 64 63 75 74 62 50 51 39 38 37 49 61 73 85 97 109 110 122 123 111 112 100 99 87 88 76 77 89 101 102 114 113 125 124 136 137 138 126 127 115 116 117 129 141 142 130 131 132 144\n"
     ]
    },
    {
     "name": "stderr",
     "output_type": "stream",
     "text": [
      "100%|██████████████████████████████████████████████████████████████████████████████████| 64/64 [00:30<00:00,  2.07it/s]\n"
     ]
    },
    {
     "name": "stdout",
     "output_type": "stream",
     "text": [
      "# of place cell using time shift shuffle method: 10.0 / 64\n"
     ]
    },
    {
     "name": "stderr",
     "output_type": "stream",
     "text": [
      "100%|██████████████████████████████████████████████████████████████████████████████████| 64/64 [00:30<00:00,  2.07it/s]\n"
     ]
    },
    {
     "name": "stdout",
     "output_type": "stream",
     "text": [
      "# of run cell using time shift shuffle method: 6.0 / 64\n",
      "M10028maze1Day5\n",
      "81    Z:/miniscope_recording/maze/4_21_2020/10028H18...\n",
      "Name: recording_folder_local, dtype: object\n",
      "The maze is bidirectional, Ye!\n",
      "Node 1 is Decision point\n",
      "Node 2 is Leaf node\n",
      "Node 13 is Decision point\n",
      "Node 6 is Decision point\n",
      "Node 8 is Leaf node\n",
      "Node 17 is Decision point\n",
      "Node 28 is Leaf node\n",
      "Node 30 is Decision point\n",
      "Node 24 is Decision point\n",
      "Node 84 is Decision point\n",
      "Node 94 is Decision point\n",
      "Node 55 is Decision point\n",
      "Node 43 is Leaf node\n",
      "Node 54 is Decision point\n",
      "Node 53 is Leaf node\n",
      "Node 51 is Decision point\n",
      "Node 39 is Decision point\n",
      "Node 40 is Leaf node\n",
      "Node 97 is Decision point\n",
      "Node 86 is Leaf node\n",
      "Node 109 is Decision point\n",
      "Node 129 is Decision point\n",
      "Node 139 is Leaf node\n",
      "Node 142 is Decision point\n",
      "Node 130 is Decision point\n",
      "Node 120 is Leaf node\n",
      "Node 144 is Leaf node\n",
      "Node 143 is Leaf node\n",
      "Node 135 is Leaf node\n",
      "Node 52 is Leaf node\n",
      "Node 93 is Leaf node\n",
      "Node 96 is Leaf node\n",
      "Node 35 is Leaf node\n",
      "Node 41 is Leaf node\n",
      "Node 25 is Leaf node\n",
      "Shortest path =  1 13 14 26 27 15 3 4 5 6 18 17 29 30 31 19 20 21 9 10 11 12 24 23 22 34 33 32 44 45 46 47 48 60 59 58 57 56 68 69 70 71 72 84 83 95 94 82 81 80 92 104 103 91 90 78 79 67 55 54 66 65 64 63 75 74 62 50 51 39 38 37 49 61 73 85 97 109 110 122 123 111 112 100 99 87 88 76 77 89 101 102 114 113 125 124 136 137 138 126 127 115 116 117 129 141 142 130 131 132 144\n",
      "Shortest path =  1 13 14 26 27 15 3 4 5 6 18 17 29 30 31 19 20 21 9 10 11 12 24 23 22 34 33 32 44 45 46 47 48 60 59 58 57 56 68 69 70 71 72 84 83 95 94 82 81 80 92 104 103 91 90 78 79 67 55 54 66 65 64 63 75 74 62 50 51 39 38 37 49 61 73 85 97 109 110 122 123 111 112 100 99 87 88 76 77 89 101 102 114 113 125 124 136 137 138 126 127 115 116 117 129 141 142 130 131 132 144\n"
     ]
    },
    {
     "name": "stderr",
     "output_type": "stream",
     "text": [
      "100%|██████████████████████████████████████████████████████████████████████████████████| 69/69 [00:59<00:00,  1.17it/s]\n"
     ]
    },
    {
     "name": "stdout",
     "output_type": "stream",
     "text": [
      "# of place cell using time shift shuffle method: 29.0 / 69\n"
     ]
    },
    {
     "name": "stderr",
     "output_type": "stream",
     "text": [
      "100%|██████████████████████████████████████████████████████████████████████████████████| 69/69 [00:58<00:00,  1.19it/s]\n"
     ]
    },
    {
     "name": "stdout",
     "output_type": "stream",
     "text": [
      "# of run cell using time shift shuffle method: 24.0 / 69\n",
      "M10028maze1Day6\n",
      "82    Z:/miniscope_recording/maze/4_22_2020/10028H16...\n",
      "Name: recording_folder_local, dtype: object\n",
      "The maze is bidirectional, Ye!\n",
      "Node 1 is Decision point\n",
      "Node 2 is Leaf node\n",
      "Node 13 is Decision point\n",
      "Node 6 is Decision point\n",
      "Node 8 is Leaf node\n",
      "Node 17 is Decision point\n",
      "Node 28 is Leaf node\n",
      "Node 30 is Decision point\n",
      "Node 24 is Decision point\n",
      "Node 84 is Decision point\n",
      "Node 94 is Decision point\n",
      "Node 55 is Decision point\n",
      "Node 43 is Leaf node\n",
      "Node 54 is Decision point\n",
      "Node 53 is Leaf node\n",
      "Node 51 is Decision point\n",
      "Node 39 is Decision point\n",
      "Node 40 is Leaf node\n",
      "Node 97 is Decision point\n",
      "Node 86 is Leaf node\n",
      "Node 109 is Decision point\n",
      "Node 129 is Decision point\n",
      "Node 139 is Leaf node\n",
      "Node 142 is Decision point\n",
      "Node 130 is Decision point\n",
      "Node 120 is Leaf node\n",
      "Node 144 is Leaf node\n",
      "Node 143 is Leaf node\n",
      "Node 135 is Leaf node\n",
      "Node 52 is Leaf node\n",
      "Node 93 is Leaf node\n",
      "Node 96 is Leaf node\n",
      "Node 35 is Leaf node\n",
      "Node 41 is Leaf node\n",
      "Node 25 is Leaf node\n",
      "Shortest path =  1 13 14 26 27 15 3 4 5 6 18 17 29 30 31 19 20 21 9 10 11 12 24 23 22 34 33 32 44 45 46 47 48 60 59 58 57 56 68 69 70 71 72 84 83 95 94 82 81 80 92 104 103 91 90 78 79 67 55 54 66 65 64 63 75 74 62 50 51 39 38 37 49 61 73 85 97 109 110 122 123 111 112 100 99 87 88 76 77 89 101 102 114 113 125 124 136 137 138 126 127 115 116 117 129 141 142 130 131 132 144\n",
      "Shortest path =  1 13 14 26 27 15 3 4 5 6 18 17 29 30 31 19 20 21 9 10 11 12 24 23 22 34 33 32 44 45 46 47 48 60 59 58 57 56 68 69 70 71 72 84 83 95 94 82 81 80 92 104 103 91 90 78 79 67 55 54 66 65 64 63 75 74 62 50 51 39 38 37 49 61 73 85 97 109 110 122 123 111 112 100 99 87 88 76 77 89 101 102 114 113 125 124 136 137 138 126 127 115 116 117 129 141 142 130 131 132 144\n"
     ]
    },
    {
     "name": "stderr",
     "output_type": "stream",
     "text": [
      "100%|██████████████████████████████████████████████████████████████████████████████████| 52/52 [00:16<00:00,  3.20it/s]\n"
     ]
    },
    {
     "name": "stdout",
     "output_type": "stream",
     "text": [
      "# of place cell using time shift shuffle method: 5.0 / 52\n"
     ]
    },
    {
     "name": "stderr",
     "output_type": "stream",
     "text": [
      "100%|██████████████████████████████████████████████████████████████████████████████████| 52/52 [00:17<00:00,  3.02it/s]\n"
     ]
    },
    {
     "name": "stdout",
     "output_type": "stream",
     "text": [
      "# of run cell using time shift shuffle method: 4.0 / 52\n",
      "M10028maze1Day7\n",
      "83    Z:/miniscope_recording/maze/4_23_2020/10028H15...\n",
      "Name: recording_folder_local, dtype: object\n",
      "The maze is bidirectional, Ye!\n",
      "Node 1 is Decision point\n",
      "Node 2 is Leaf node\n",
      "Node 13 is Decision point\n",
      "Node 6 is Decision point\n",
      "Node 8 is Leaf node\n",
      "Node 17 is Decision point\n",
      "Node 28 is Leaf node\n",
      "Node 30 is Decision point\n",
      "Node 24 is Decision point\n",
      "Node 84 is Decision point\n",
      "Node 94 is Decision point\n",
      "Node 55 is Decision point\n",
      "Node 43 is Leaf node\n",
      "Node 54 is Decision point\n",
      "Node 53 is Leaf node\n",
      "Node 51 is Decision point\n",
      "Node 39 is Decision point\n",
      "Node 40 is Leaf node\n",
      "Node 97 is Decision point\n",
      "Node 86 is Leaf node\n",
      "Node 109 is Decision point\n",
      "Node 129 is Decision point\n",
      "Node 139 is Leaf node\n",
      "Node 142 is Decision point\n",
      "Node 130 is Decision point\n",
      "Node 120 is Leaf node\n",
      "Node 144 is Leaf node\n",
      "Node 143 is Leaf node\n",
      "Node 135 is Leaf node\n",
      "Node 52 is Leaf node\n",
      "Node 93 is Leaf node\n",
      "Node 96 is Leaf node\n",
      "Node 35 is Leaf node\n",
      "Node 41 is Leaf node\n",
      "Node 25 is Leaf node\n",
      "Shortest path =  1 13 14 26 27 15 3 4 5 6 18 17 29 30 31 19 20 21 9 10 11 12 24 23 22 34 33 32 44 45 46 47 48 60 59 58 57 56 68 69 70 71 72 84 83 95 94 82 81 80 92 104 103 91 90 78 79 67 55 54 66 65 64 63 75 74 62 50 51 39 38 37 49 61 73 85 97 109 110 122 123 111 112 100 99 87 88 76 77 89 101 102 114 113 125 124 136 137 138 126 127 115 116 117 129 141 142 130 131 132 144\n",
      "Shortest path =  1 13 14 26 27 15 3 4 5 6 18 17 29 30 31 19 20 21 9 10 11 12 24 23 22 34 33 32 44 45 46 47 48 60 59 58 57 56 68 69 70 71 72 84 83 95 94 82 81 80 92 104 103 91 90 78 79 67 55 54 66 65 64 63 75 74 62 50 51 39 38 37 49 61 73 85 97 109 110 122 123 111 112 100 99 87 88 76 77 89 101 102 114 113 125 124 136 137 138 126 127 115 116 117 129 141 142 130 131 132 144\n"
     ]
    },
    {
     "name": "stderr",
     "output_type": "stream",
     "text": [
      "100%|██████████████████████████████████████████████████████████████████████████████████| 75/75 [00:33<00:00,  2.23it/s]\n"
     ]
    },
    {
     "name": "stdout",
     "output_type": "stream",
     "text": [
      "# of place cell using time shift shuffle method: 18.0 / 75\n"
     ]
    },
    {
     "name": "stderr",
     "output_type": "stream",
     "text": [
      "100%|██████████████████████████████████████████████████████████████████████████████████| 75/75 [00:33<00:00,  2.22it/s]\n"
     ]
    },
    {
     "name": "stdout",
     "output_type": "stream",
     "text": [
      "# of run cell using time shift shuffle method: 9.0 / 75\n",
      "M10028maze1Day8\n",
      "84    Z:/miniscope_recording/maze/4_24_2020/10028H16...\n",
      "Name: recording_folder_local, dtype: object\n",
      "The maze is bidirectional, Ye!\n",
      "Node 1 is Decision point\n",
      "Node 2 is Leaf node\n",
      "Node 13 is Decision point\n",
      "Node 6 is Decision point\n",
      "Node 8 is Leaf node\n",
      "Node 17 is Decision point\n",
      "Node 28 is Leaf node\n",
      "Node 30 is Decision point\n",
      "Node 24 is Decision point\n",
      "Node 84 is Decision point\n",
      "Node 94 is Decision point\n",
      "Node 55 is Decision point\n",
      "Node 43 is Leaf node\n",
      "Node 54 is Decision point\n",
      "Node 53 is Leaf node\n",
      "Node 51 is Decision point\n",
      "Node 39 is Decision point\n",
      "Node 40 is Leaf node\n",
      "Node 97 is Decision point\n",
      "Node 86 is Leaf node\n",
      "Node 109 is Decision point\n",
      "Node 129 is Decision point\n",
      "Node 139 is Leaf node\n",
      "Node 142 is Decision point\n",
      "Node 130 is Decision point\n",
      "Node 120 is Leaf node\n",
      "Node 144 is Leaf node\n",
      "Node 143 is Leaf node\n",
      "Node 135 is Leaf node\n",
      "Node 52 is Leaf node\n",
      "Node 93 is Leaf node\n",
      "Node 96 is Leaf node\n",
      "Node 35 is Leaf node\n",
      "Node 41 is Leaf node\n",
      "Node 25 is Leaf node\n",
      "Shortest path =  1 13 14 26 27 15 3 4 5 6 18 17 29 30 31 19 20 21 9 10 11 12 24 23 22 34 33 32 44 45 46 47 48 60 59 58 57 56 68 69 70 71 72 84 83 95 94 82 81 80 92 104 103 91 90 78 79 67 55 54 66 65 64 63 75 74 62 50 51 39 38 37 49 61 73 85 97 109 110 122 123 111 112 100 99 87 88 76 77 89 101 102 114 113 125 124 136 137 138 126 127 115 116 117 129 141 142 130 131 132 144\n",
      "Shortest path =  1 13 14 26 27 15 3 4 5 6 18 17 29 30 31 19 20 21 9 10 11 12 24 23 22 34 33 32 44 45 46 47 48 60 59 58 57 56 68 69 70 71 72 84 83 95 94 82 81 80 92 104 103 91 90 78 79 67 55 54 66 65 64 63 75 74 62 50 51 39 38 37 49 61 73 85 97 109 110 122 123 111 112 100 99 87 88 76 77 89 101 102 114 113 125 124 136 137 138 126 127 115 116 117 129 141 142 130 131 132 144\n"
     ]
    },
    {
     "name": "stderr",
     "output_type": "stream",
     "text": [
      "100%|██████████████████████████████████████████████████████████████████████████████████| 61/61 [00:23<00:00,  2.55it/s]\n"
     ]
    },
    {
     "name": "stdout",
     "output_type": "stream",
     "text": [
      "# of place cell using time shift shuffle method: 9.0 / 61\n"
     ]
    },
    {
     "name": "stderr",
     "output_type": "stream",
     "text": [
      "100%|██████████████████████████████████████████████████████████████████████████████████| 61/61 [00:24<00:00,  2.48it/s]\n"
     ]
    },
    {
     "name": "stdout",
     "output_type": "stream",
     "text": [
      "# of run cell using time shift shuffle method: 5.0 / 61\n",
      "M10028maze1Day9\n",
      "85    Z:/miniscope_recording/maze/4_25_2020/10028H16...\n",
      "Name: recording_folder_local, dtype: object\n",
      "The maze is bidirectional, Ye!\n",
      "Node 1 is Decision point\n",
      "Node 2 is Leaf node\n",
      "Node 13 is Decision point\n",
      "Node 6 is Decision point\n",
      "Node 8 is Leaf node\n",
      "Node 17 is Decision point\n",
      "Node 28 is Leaf node\n",
      "Node 30 is Decision point\n",
      "Node 24 is Decision point\n",
      "Node 84 is Decision point\n",
      "Node 94 is Decision point\n",
      "Node 55 is Decision point\n",
      "Node 43 is Leaf node\n",
      "Node 54 is Decision point\n",
      "Node 53 is Leaf node\n",
      "Node 51 is Decision point\n",
      "Node 39 is Decision point\n",
      "Node 40 is Leaf node\n",
      "Node 97 is Decision point\n",
      "Node 86 is Leaf node\n",
      "Node 109 is Decision point\n",
      "Node 129 is Decision point\n",
      "Node 139 is Leaf node\n",
      "Node 142 is Decision point\n",
      "Node 130 is Decision point\n",
      "Node 120 is Leaf node\n",
      "Node 144 is Leaf node\n",
      "Node 143 is Leaf node\n",
      "Node 135 is Leaf node\n",
      "Node 52 is Leaf node\n",
      "Node 93 is Leaf node\n",
      "Node 96 is Leaf node\n",
      "Node 35 is Leaf node\n",
      "Node 41 is Leaf node\n",
      "Node 25 is Leaf node\n",
      "Shortest path =  1 13 14 26 27 15 3 4 5 6 18 17 29 30 31 19 20 21 9 10 11 12 24 23 22 34 33 32 44 45 46 47 48 60 59 58 57 56 68 69 70 71 72 84 83 95 94 82 81 80 92 104 103 91 90 78 79 67 55 54 66 65 64 63 75 74 62 50 51 39 38 37 49 61 73 85 97 109 110 122 123 111 112 100 99 87 88 76 77 89 101 102 114 113 125 124 136 137 138 126 127 115 116 117 129 141 142 130 131 132 144\n",
      "Shortest path =  1 13 14 26 27 15 3 4 5 6 18 17 29 30 31 19 20 21 9 10 11 12 24 23 22 34 33 32 44 45 46 47 48 60 59 58 57 56 68 69 70 71 72 84 83 95 94 82 81 80 92 104 103 91 90 78 79 67 55 54 66 65 64 63 75 74 62 50 51 39 38 37 49 61 73 85 97 109 110 122 123 111 112 100 99 87 88 76 77 89 101 102 114 113 125 124 136 137 138 126 127 115 116 117 129 141 142 130 131 132 144\n"
     ]
    },
    {
     "name": "stderr",
     "output_type": "stream",
     "text": [
      "100%|██████████████████████████████████████████████████████████████████████████████████| 39/39 [00:10<00:00,  3.71it/s]\n"
     ]
    },
    {
     "name": "stdout",
     "output_type": "stream",
     "text": [
      "# of place cell using time shift shuffle method: 4.0 / 39\n"
     ]
    },
    {
     "name": "stderr",
     "output_type": "stream",
     "text": [
      "100%|██████████████████████████████████████████████████████████████████████████████████| 39/39 [00:11<00:00,  3.44it/s]\n"
     ]
    },
    {
     "name": "stdout",
     "output_type": "stream",
     "text": [
      "# of run cell using time shift shuffle method: 0.0 / 39\n",
      "M10030maze1Day1\n",
      "94    Z:/miniscope_recording/maze/4_17_2020/10030H17...\n",
      "Name: recording_folder_local, dtype: object\n",
      "The maze is bidirectional, Ye!\n",
      "Node 1 is Decision point\n",
      "Node 2 is Leaf node\n",
      "Node 13 is Decision point\n",
      "Node 6 is Decision point\n",
      "Node 8 is Leaf node\n",
      "Node 17 is Decision point\n",
      "Node 28 is Leaf node\n",
      "Node 30 is Decision point\n",
      "Node 24 is Decision point\n",
      "Node 84 is Decision point\n",
      "Node 94 is Decision point\n",
      "Node 55 is Decision point\n",
      "Node 43 is Leaf node\n",
      "Node 54 is Decision point\n",
      "Node 53 is Leaf node\n",
      "Node 51 is Decision point\n",
      "Node 39 is Decision point\n",
      "Node 40 is Leaf node\n",
      "Node 97 is Decision point\n",
      "Node 86 is Leaf node\n",
      "Node 109 is Decision point\n",
      "Node 129 is Decision point\n",
      "Node 139 is Leaf node\n",
      "Node 142 is Decision point\n",
      "Node 130 is Decision point\n",
      "Node 120 is Leaf node\n",
      "Node 144 is Leaf node\n",
      "Node 143 is Leaf node\n",
      "Node 135 is Leaf node\n",
      "Node 52 is Leaf node\n",
      "Node 93 is Leaf node\n",
      "Node 96 is Leaf node\n",
      "Node 35 is Leaf node\n",
      "Node 41 is Leaf node\n",
      "Node 25 is Leaf node\n",
      "Shortest path =  1 13 14 26 27 15 3 4 5 6 18 17 29 30 31 19 20 21 9 10 11 12 24 23 22 34 33 32 44 45 46 47 48 60 59 58 57 56 68 69 70 71 72 84 83 95 94 82 81 80 92 104 103 91 90 78 79 67 55 54 66 65 64 63 75 74 62 50 51 39 38 37 49 61 73 85 97 109 110 122 123 111 112 100 99 87 88 76 77 89 101 102 114 113 125 124 136 137 138 126 127 115 116 117 129 141 142 130 131 132 144\n",
      "Shortest path =  1 13 14 26 27 15 3 4 5 6 18 17 29 30 31 19 20 21 9 10 11 12 24 23 22 34 33 32 44 45 46 47 48 60 59 58 57 56 68 69 70 71 72 84 83 95 94 82 81 80 92 104 103 91 90 78 79 67 55 54 66 65 64 63 75 74 62 50 51 39 38 37 49 61 73 85 97 109 110 122 123 111 112 100 99 87 88 76 77 89 101 102 114 113 125 124 136 137 138 126 127 115 116 117 129 141 142 130 131 132 144\n"
     ]
    },
    {
     "name": "stderr",
     "output_type": "stream",
     "text": [
      "100%|████████████████████████████████████████████████████████████████████████████████| 101/101 [05:49<00:00,  3.46s/it]\n"
     ]
    },
    {
     "name": "stdout",
     "output_type": "stream",
     "text": [
      "# of place cell using time shift shuffle method: 62.0 / 101\n"
     ]
    },
    {
     "name": "stderr",
     "output_type": "stream",
     "text": [
      "100%|████████████████████████████████████████████████████████████████████████████████| 101/101 [05:36<00:00,  3.33s/it]\n"
     ]
    },
    {
     "name": "stdout",
     "output_type": "stream",
     "text": [
      "# of run cell using time shift shuffle method: 58.0 / 101\n",
      "M10030maze1Day2\n",
      "95    Z:/miniscope_recording/maze/4_18_2020/10030H14...\n",
      "Name: recording_folder_local, dtype: object\n",
      "The maze is bidirectional, Ye!\n",
      "Node 1 is Decision point\n",
      "Node 2 is Leaf node\n",
      "Node 13 is Decision point\n",
      "Node 6 is Decision point\n",
      "Node 8 is Leaf node\n",
      "Node 17 is Decision point\n",
      "Node 28 is Leaf node\n",
      "Node 30 is Decision point\n",
      "Node 24 is Decision point\n",
      "Node 84 is Decision point\n",
      "Node 94 is Decision point\n",
      "Node 55 is Decision point\n",
      "Node 43 is Leaf node\n",
      "Node 54 is Decision point\n",
      "Node 53 is Leaf node\n",
      "Node 51 is Decision point\n",
      "Node 39 is Decision point\n",
      "Node 40 is Leaf node\n",
      "Node 97 is Decision point\n",
      "Node 86 is Leaf node\n",
      "Node 109 is Decision point\n",
      "Node 129 is Decision point\n",
      "Node 139 is Leaf node\n",
      "Node 142 is Decision point\n",
      "Node 130 is Decision point\n",
      "Node 120 is Leaf node\n",
      "Node 144 is Leaf node\n",
      "Node 143 is Leaf node\n",
      "Node 135 is Leaf node\n",
      "Node 52 is Leaf node\n",
      "Node 93 is Leaf node\n",
      "Node 96 is Leaf node\n",
      "Node 35 is Leaf node\n",
      "Node 41 is Leaf node\n",
      "Node 25 is Leaf node\n",
      "Shortest path =  1 13 14 26 27 15 3 4 5 6 18 17 29 30 31 19 20 21 9 10 11 12 24 23 22 34 33 32 44 45 46 47 48 60 59 58 57 56 68 69 70 71 72 84 83 95 94 82 81 80 92 104 103 91 90 78 79 67 55 54 66 65 64 63 75 74 62 50 51 39 38 37 49 61 73 85 97 109 110 122 123 111 112 100 99 87 88 76 77 89 101 102 114 113 125 124 136 137 138 126 127 115 116 117 129 141 142 130 131 132 144\n",
      "Shortest path =  1 13 14 26 27 15 3 4 5 6 18 17 29 30 31 19 20 21 9 10 11 12 24 23 22 34 33 32 44 45 46 47 48 60 59 58 57 56 68 69 70 71 72 84 83 95 94 82 81 80 92 104 103 91 90 78 79 67 55 54 66 65 64 63 75 74 62 50 51 39 38 37 49 61 73 85 97 109 110 122 123 111 112 100 99 87 88 76 77 89 101 102 114 113 125 124 136 137 138 126 127 115 116 117 129 141 142 130 131 132 144\n"
     ]
    },
    {
     "name": "stderr",
     "output_type": "stream",
     "text": [
      "100%|██████████████████████████████████████████████████████████████████████████████████| 84/84 [01:16<00:00,  1.10it/s]\n"
     ]
    },
    {
     "name": "stdout",
     "output_type": "stream",
     "text": [
      "# of place cell using time shift shuffle method: 31.0 / 84\n"
     ]
    },
    {
     "name": "stderr",
     "output_type": "stream",
     "text": [
      "100%|██████████████████████████████████████████████████████████████████████████████████| 84/84 [01:15<00:00,  1.12it/s]\n"
     ]
    },
    {
     "name": "stdout",
     "output_type": "stream",
     "text": [
      "# of run cell using time shift shuffle method: 31.0 / 84\n",
      "M10030maze1Day3\n",
      "96    Z:/miniscope_recording/maze/4_19_2020/10030H15...\n",
      "Name: recording_folder_local, dtype: object\n",
      "The maze is bidirectional, Ye!\n",
      "Node 1 is Decision point\n",
      "Node 2 is Leaf node\n",
      "Node 13 is Decision point\n",
      "Node 6 is Decision point\n",
      "Node 8 is Leaf node\n",
      "Node 17 is Decision point\n",
      "Node 28 is Leaf node\n",
      "Node 30 is Decision point\n",
      "Node 24 is Decision point\n",
      "Node 84 is Decision point\n",
      "Node 94 is Decision point\n",
      "Node 55 is Decision point\n",
      "Node 43 is Leaf node\n",
      "Node 54 is Decision point\n",
      "Node 53 is Leaf node\n",
      "Node 51 is Decision point\n",
      "Node 39 is Decision point\n",
      "Node 40 is Leaf node\n",
      "Node 97 is Decision point\n",
      "Node 86 is Leaf node\n",
      "Node 109 is Decision point\n",
      "Node 129 is Decision point\n",
      "Node 139 is Leaf node\n",
      "Node 142 is Decision point\n",
      "Node 130 is Decision point\n",
      "Node 120 is Leaf node\n",
      "Node 144 is Leaf node\n",
      "Node 143 is Leaf node\n",
      "Node 135 is Leaf node\n",
      "Node 52 is Leaf node\n",
      "Node 93 is Leaf node\n",
      "Node 96 is Leaf node\n",
      "Node 35 is Leaf node\n",
      "Node 41 is Leaf node\n",
      "Node 25 is Leaf node\n",
      "Shortest path =  1 13 14 26 27 15 3 4 5 6 18 17 29 30 31 19 20 21 9 10 11 12 24 23 22 34 33 32 44 45 46 47 48 60 59 58 57 56 68 69 70 71 72 84 83 95 94 82 81 80 92 104 103 91 90 78 79 67 55 54 66 65 64 63 75 74 62 50 51 39 38 37 49 61 73 85 97 109 110 122 123 111 112 100 99 87 88 76 77 89 101 102 114 113 125 124 136 137 138 126 127 115 116 117 129 141 142 130 131 132 144\n",
      "Shortest path =  1 13 14 26 27 15 3 4 5 6 18 17 29 30 31 19 20 21 9 10 11 12 24 23 22 34 33 32 44 45 46 47 48 60 59 58 57 56 68 69 70 71 72 84 83 95 94 82 81 80 92 104 103 91 90 78 79 67 55 54 66 65 64 63 75 74 62 50 51 39 38 37 49 61 73 85 97 109 110 122 123 111 112 100 99 87 88 76 77 89 101 102 114 113 125 124 136 137 138 126 127 115 116 117 129 141 142 130 131 132 144\n"
     ]
    },
    {
     "name": "stderr",
     "output_type": "stream",
     "text": [
      "100%|████████████████████████████████████████████████████████████████████████████████| 109/109 [02:12<00:00,  1.22s/it]\n"
     ]
    },
    {
     "name": "stdout",
     "output_type": "stream",
     "text": [
      "# of place cell using time shift shuffle method: 88.0 / 109\n"
     ]
    },
    {
     "name": "stderr",
     "output_type": "stream",
     "text": [
      "100%|████████████████████████████████████████████████████████████████████████████████| 109/109 [02:13<00:00,  1.23s/it]\n"
     ]
    },
    {
     "name": "stdout",
     "output_type": "stream",
     "text": [
      "# of run cell using time shift shuffle method: 77.0 / 109\n",
      "M10030maze1Day4\n",
      "97    Z:/miniscope_recording/maze/4_20_2020/10030H16...\n",
      "Name: recording_folder_local, dtype: object\n",
      "The maze is bidirectional, Ye!\n",
      "Node 1 is Decision point\n",
      "Node 2 is Leaf node\n",
      "Node 13 is Decision point\n",
      "Node 6 is Decision point\n",
      "Node 8 is Leaf node\n",
      "Node 17 is Decision point\n",
      "Node 28 is Leaf node\n",
      "Node 30 is Decision point\n",
      "Node 24 is Decision point\n",
      "Node 84 is Decision point\n",
      "Node 94 is Decision point\n",
      "Node 55 is Decision point\n",
      "Node 43 is Leaf node\n",
      "Node 54 is Decision point\n",
      "Node 53 is Leaf node\n",
      "Node 51 is Decision point\n",
      "Node 39 is Decision point\n",
      "Node 40 is Leaf node\n",
      "Node 97 is Decision point\n",
      "Node 86 is Leaf node\n",
      "Node 109 is Decision point\n",
      "Node 129 is Decision point\n",
      "Node 139 is Leaf node\n",
      "Node 142 is Decision point\n",
      "Node 130 is Decision point\n",
      "Node 120 is Leaf node\n",
      "Node 144 is Leaf node\n",
      "Node 143 is Leaf node\n",
      "Node 135 is Leaf node\n",
      "Node 52 is Leaf node\n",
      "Node 93 is Leaf node\n",
      "Node 96 is Leaf node\n",
      "Node 35 is Leaf node\n",
      "Node 41 is Leaf node\n",
      "Node 25 is Leaf node\n",
      "Shortest path =  1 13 14 26 27 15 3 4 5 6 18 17 29 30 31 19 20 21 9 10 11 12 24 23 22 34 33 32 44 45 46 47 48 60 59 58 57 56 68 69 70 71 72 84 83 95 94 82 81 80 92 104 103 91 90 78 79 67 55 54 66 65 64 63 75 74 62 50 51 39 38 37 49 61 73 85 97 109 110 122 123 111 112 100 99 87 88 76 77 89 101 102 114 113 125 124 136 137 138 126 127 115 116 117 129 141 142 130 131 132 144\n",
      "Shortest path =  1 13 14 26 27 15 3 4 5 6 18 17 29 30 31 19 20 21 9 10 11 12 24 23 22 34 33 32 44 45 46 47 48 60 59 58 57 56 68 69 70 71 72 84 83 95 94 82 81 80 92 104 103 91 90 78 79 67 55 54 66 65 64 63 75 74 62 50 51 39 38 37 49 61 73 85 97 109 110 122 123 111 112 100 99 87 88 76 77 89 101 102 114 113 125 124 136 137 138 126 127 115 116 117 129 141 142 130 131 132 144\n"
     ]
    },
    {
     "name": "stderr",
     "output_type": "stream",
     "text": [
      "100%|██████████████████████████████████████████████████████████████████████████████████| 83/83 [01:52<00:00,  1.35s/it]\n"
     ]
    },
    {
     "name": "stdout",
     "output_type": "stream",
     "text": [
      "# of place cell using time shift shuffle method: 55.0 / 83\n"
     ]
    },
    {
     "name": "stderr",
     "output_type": "stream",
     "text": [
      "100%|██████████████████████████████████████████████████████████████████████████████████| 83/83 [01:49<00:00,  1.31s/it]\n"
     ]
    },
    {
     "name": "stdout",
     "output_type": "stream",
     "text": [
      "# of run cell using time shift shuffle method: 37.0 / 83\n",
      "M10030maze1Day5\n",
      "98    Z:/miniscope_recording/maze/4_21_2020/10030H17...\n",
      "Name: recording_folder_local, dtype: object\n",
      "The maze is bidirectional, Ye!\n",
      "Node 1 is Decision point\n",
      "Node 2 is Leaf node\n",
      "Node 13 is Decision point\n",
      "Node 6 is Decision point\n",
      "Node 8 is Leaf node\n",
      "Node 17 is Decision point\n",
      "Node 28 is Leaf node\n",
      "Node 30 is Decision point\n",
      "Node 24 is Decision point\n",
      "Node 84 is Decision point\n",
      "Node 94 is Decision point\n",
      "Node 55 is Decision point\n",
      "Node 43 is Leaf node\n",
      "Node 54 is Decision point\n",
      "Node 53 is Leaf node\n",
      "Node 51 is Decision point\n",
      "Node 39 is Decision point\n",
      "Node 40 is Leaf node\n",
      "Node 97 is Decision point\n",
      "Node 86 is Leaf node\n",
      "Node 109 is Decision point\n",
      "Node 129 is Decision point\n",
      "Node 139 is Leaf node\n",
      "Node 142 is Decision point\n",
      "Node 130 is Decision point\n",
      "Node 120 is Leaf node\n",
      "Node 144 is Leaf node\n",
      "Node 143 is Leaf node\n",
      "Node 135 is Leaf node\n",
      "Node 52 is Leaf node\n",
      "Node 93 is Leaf node\n",
      "Node 96 is Leaf node\n",
      "Node 35 is Leaf node\n",
      "Node 41 is Leaf node\n",
      "Node 25 is Leaf node\n",
      "Shortest path =  1 13 14 26 27 15 3 4 5 6 18 17 29 30 31 19 20 21 9 10 11 12 24 23 22 34 33 32 44 45 46 47 48 60 59 58 57 56 68 69 70 71 72 84 83 95 94 82 81 80 92 104 103 91 90 78 79 67 55 54 66 65 64 63 75 74 62 50 51 39 38 37 49 61 73 85 97 109 110 122 123 111 112 100 99 87 88 76 77 89 101 102 114 113 125 124 136 137 138 126 127 115 116 117 129 141 142 130 131 132 144\n",
      "Shortest path =  1 13 14 26 27 15 3 4 5 6 18 17 29 30 31 19 20 21 9 10 11 12 24 23 22 34 33 32 44 45 46 47 48 60 59 58 57 56 68 69 70 71 72 84 83 95 94 82 81 80 92 104 103 91 90 78 79 67 55 54 66 65 64 63 75 74 62 50 51 39 38 37 49 61 73 85 97 109 110 122 123 111 112 100 99 87 88 76 77 89 101 102 114 113 125 124 136 137 138 126 127 115 116 117 129 141 142 130 131 132 144\n"
     ]
    },
    {
     "name": "stderr",
     "output_type": "stream",
     "text": [
      "100%|██████████████████████████████████████████████████████████████████████████████████| 67/67 [02:29<00:00,  2.23s/it]\n"
     ]
    },
    {
     "name": "stdout",
     "output_type": "stream",
     "text": [
      "# of place cell using time shift shuffle method: 63.0 / 67\n"
     ]
    },
    {
     "name": "stderr",
     "output_type": "stream",
     "text": [
      "100%|██████████████████████████████████████████████████████████████████████████████████| 67/67 [02:24<00:00,  2.16s/it]\n"
     ]
    },
    {
     "name": "stdout",
     "output_type": "stream",
     "text": [
      "# of run cell using time shift shuffle method: 52.0 / 67\n",
      "M10030maze1Day6\n",
      "99    Z:/miniscope_recording/maze/4_22_2020/10030H15...\n",
      "Name: recording_folder_local, dtype: object\n",
      "The maze is bidirectional, Ye!\n",
      "Node 1 is Decision point\n",
      "Node 2 is Leaf node\n",
      "Node 13 is Decision point\n",
      "Node 6 is Decision point\n",
      "Node 8 is Leaf node\n",
      "Node 17 is Decision point\n",
      "Node 28 is Leaf node\n",
      "Node 30 is Decision point\n",
      "Node 24 is Decision point\n",
      "Node 84 is Decision point\n",
      "Node 94 is Decision point\n",
      "Node 55 is Decision point\n",
      "Node 43 is Leaf node\n",
      "Node 54 is Decision point\n",
      "Node 53 is Leaf node\n",
      "Node 51 is Decision point\n",
      "Node 39 is Decision point\n",
      "Node 40 is Leaf node\n",
      "Node 97 is Decision point\n",
      "Node 86 is Leaf node\n",
      "Node 109 is Decision point\n",
      "Node 129 is Decision point\n",
      "Node 139 is Leaf node\n",
      "Node 142 is Decision point\n",
      "Node 130 is Decision point\n",
      "Node 120 is Leaf node\n",
      "Node 144 is Leaf node\n",
      "Node 143 is Leaf node\n",
      "Node 135 is Leaf node\n",
      "Node 52 is Leaf node\n",
      "Node 93 is Leaf node\n",
      "Node 96 is Leaf node\n",
      "Node 35 is Leaf node\n",
      "Node 41 is Leaf node\n",
      "Node 25 is Leaf node\n",
      "Shortest path =  1 13 14 26 27 15 3 4 5 6 18 17 29 30 31 19 20 21 9 10 11 12 24 23 22 34 33 32 44 45 46 47 48 60 59 58 57 56 68 69 70 71 72 84 83 95 94 82 81 80 92 104 103 91 90 78 79 67 55 54 66 65 64 63 75 74 62 50 51 39 38 37 49 61 73 85 97 109 110 122 123 111 112 100 99 87 88 76 77 89 101 102 114 113 125 124 136 137 138 126 127 115 116 117 129 141 142 130 131 132 144\n",
      "Shortest path =  1 13 14 26 27 15 3 4 5 6 18 17 29 30 31 19 20 21 9 10 11 12 24 23 22 34 33 32 44 45 46 47 48 60 59 58 57 56 68 69 70 71 72 84 83 95 94 82 81 80 92 104 103 91 90 78 79 67 55 54 66 65 64 63 75 74 62 50 51 39 38 37 49 61 73 85 97 109 110 122 123 111 112 100 99 87 88 76 77 89 101 102 114 113 125 124 136 137 138 126 127 115 116 117 129 141 142 130 131 132 144\n"
     ]
    },
    {
     "name": "stderr",
     "output_type": "stream",
     "text": [
      "100%|██████████████████████████████████████████████████████████████████████████████████| 15/15 [00:16<00:00,  1.09s/it]\n"
     ]
    },
    {
     "name": "stdout",
     "output_type": "stream",
     "text": [
      "# of place cell using time shift shuffle method: 13.0 / 15\n"
     ]
    },
    {
     "name": "stderr",
     "output_type": "stream",
     "text": [
      "100%|██████████████████████████████████████████████████████████████████████████████████| 15/15 [00:15<00:00,  1.06s/it]\n"
     ]
    },
    {
     "name": "stdout",
     "output_type": "stream",
     "text": [
      "# of run cell using time shift shuffle method: 12.0 / 15\n",
      "M10030maze1Day7\n",
      "100    Z:/miniscope_recording/maze/4_23_2020/10030H15...\n",
      "Name: recording_folder_local, dtype: object\n",
      "The maze is bidirectional, Ye!\n",
      "Node 1 is Decision point\n",
      "Node 2 is Leaf node\n",
      "Node 13 is Decision point\n",
      "Node 6 is Decision point\n",
      "Node 8 is Leaf node\n",
      "Node 17 is Decision point\n",
      "Node 28 is Leaf node\n",
      "Node 30 is Decision point\n",
      "Node 24 is Decision point\n",
      "Node 84 is Decision point\n",
      "Node 94 is Decision point\n",
      "Node 55 is Decision point\n",
      "Node 43 is Leaf node\n",
      "Node 54 is Decision point\n",
      "Node 53 is Leaf node\n",
      "Node 51 is Decision point\n",
      "Node 39 is Decision point\n",
      "Node 40 is Leaf node\n",
      "Node 97 is Decision point\n",
      "Node 86 is Leaf node\n",
      "Node 109 is Decision point\n",
      "Node 129 is Decision point\n",
      "Node 139 is Leaf node\n",
      "Node 142 is Decision point\n",
      "Node 130 is Decision point\n",
      "Node 120 is Leaf node\n",
      "Node 144 is Leaf node\n",
      "Node 143 is Leaf node\n",
      "Node 135 is Leaf node\n",
      "Node 52 is Leaf node\n",
      "Node 93 is Leaf node\n",
      "Node 96 is Leaf node\n",
      "Node 35 is Leaf node\n",
      "Node 41 is Leaf node\n",
      "Node 25 is Leaf node\n",
      "Shortest path =  1 13 14 26 27 15 3 4 5 6 18 17 29 30 31 19 20 21 9 10 11 12 24 23 22 34 33 32 44 45 46 47 48 60 59 58 57 56 68 69 70 71 72 84 83 95 94 82 81 80 92 104 103 91 90 78 79 67 55 54 66 65 64 63 75 74 62 50 51 39 38 37 49 61 73 85 97 109 110 122 123 111 112 100 99 87 88 76 77 89 101 102 114 113 125 124 136 137 138 126 127 115 116 117 129 141 142 130 131 132 144\n",
      "Shortest path =  1 13 14 26 27 15 3 4 5 6 18 17 29 30 31 19 20 21 9 10 11 12 24 23 22 34 33 32 44 45 46 47 48 60 59 58 57 56 68 69 70 71 72 84 83 95 94 82 81 80 92 104 103 91 90 78 79 67 55 54 66 65 64 63 75 74 62 50 51 39 38 37 49 61 73 85 97 109 110 122 123 111 112 100 99 87 88 76 77 89 101 102 114 113 125 124 136 137 138 126 127 115 116 117 129 141 142 130 131 132 144\n"
     ]
    },
    {
     "name": "stderr",
     "output_type": "stream",
     "text": [
      "100%|██████████████████████████████████████████████████████████████████████████████████| 54/54 [00:23<00:00,  2.27it/s]\n"
     ]
    },
    {
     "name": "stdout",
     "output_type": "stream",
     "text": [
      "# of place cell using time shift shuffle method: 4.0 / 54\n"
     ]
    },
    {
     "name": "stderr",
     "output_type": "stream",
     "text": [
      "100%|██████████████████████████████████████████████████████████████████████████████████| 54/54 [00:24<00:00,  2.22it/s]\n"
     ]
    },
    {
     "name": "stdout",
     "output_type": "stream",
     "text": [
      "# of run cell using time shift shuffle method: 8.0 / 54\n",
      "M10030maze1Day8\n",
      "101    Z:/miniscope_recording/maze/4_24_2020/10030H15...\n",
      "Name: recording_folder_local, dtype: object\n",
      "The maze is bidirectional, Ye!\n",
      "Node 1 is Decision point\n",
      "Node 2 is Leaf node\n",
      "Node 13 is Decision point\n",
      "Node 6 is Decision point\n",
      "Node 8 is Leaf node\n",
      "Node 17 is Decision point\n",
      "Node 28 is Leaf node\n",
      "Node 30 is Decision point\n",
      "Node 24 is Decision point\n",
      "Node 84 is Decision point\n",
      "Node 94 is Decision point\n",
      "Node 55 is Decision point\n",
      "Node 43 is Leaf node\n",
      "Node 54 is Decision point\n",
      "Node 53 is Leaf node\n",
      "Node 51 is Decision point\n",
      "Node 39 is Decision point\n",
      "Node 40 is Leaf node\n",
      "Node 97 is Decision point\n",
      "Node 86 is Leaf node\n",
      "Node 109 is Decision point\n",
      "Node 129 is Decision point\n",
      "Node 139 is Leaf node\n",
      "Node 142 is Decision point\n",
      "Node 130 is Decision point\n",
      "Node 120 is Leaf node\n",
      "Node 144 is Leaf node\n",
      "Node 143 is Leaf node\n",
      "Node 135 is Leaf node\n",
      "Node 52 is Leaf node\n",
      "Node 93 is Leaf node\n",
      "Node 96 is Leaf node\n",
      "Node 35 is Leaf node\n",
      "Node 41 is Leaf node\n",
      "Node 25 is Leaf node\n",
      "Shortest path =  1 13 14 26 27 15 3 4 5 6 18 17 29 30 31 19 20 21 9 10 11 12 24 23 22 34 33 32 44 45 46 47 48 60 59 58 57 56 68 69 70 71 72 84 83 95 94 82 81 80 92 104 103 91 90 78 79 67 55 54 66 65 64 63 75 74 62 50 51 39 38 37 49 61 73 85 97 109 110 122 123 111 112 100 99 87 88 76 77 89 101 102 114 113 125 124 136 137 138 126 127 115 116 117 129 141 142 130 131 132 144\n",
      "Shortest path =  1 13 14 26 27 15 3 4 5 6 18 17 29 30 31 19 20 21 9 10 11 12 24 23 22 34 33 32 44 45 46 47 48 60 59 58 57 56 68 69 70 71 72 84 83 95 94 82 81 80 92 104 103 91 90 78 79 67 55 54 66 65 64 63 75 74 62 50 51 39 38 37 49 61 73 85 97 109 110 122 123 111 112 100 99 87 88 76 77 89 101 102 114 113 125 124 136 137 138 126 127 115 116 117 129 141 142 130 131 132 144\n"
     ]
    },
    {
     "name": "stderr",
     "output_type": "stream",
     "text": [
      "100%|██████████████████████████████████████████████████████████████████████████████████| 60/60 [00:49<00:00,  1.22it/s]\n"
     ]
    },
    {
     "name": "stdout",
     "output_type": "stream",
     "text": [
      "# of place cell using time shift shuffle method: 26.0 / 60\n"
     ]
    },
    {
     "name": "stderr",
     "output_type": "stream",
     "text": [
      "100%|██████████████████████████████████████████████████████████████████████████████████| 60/60 [00:48<00:00,  1.24it/s]\n"
     ]
    },
    {
     "name": "stdout",
     "output_type": "stream",
     "text": [
      "# of run cell using time shift shuffle method: 19.0 / 60\n",
      "M10030maze1Day9\n",
      "102    Z:/miniscope_recording/maze/4_25_2020/10030H16...\n",
      "Name: recording_folder_local, dtype: object\n",
      "The maze is bidirectional, Ye!\n",
      "Node 1 is Decision point\n",
      "Node 2 is Leaf node\n",
      "Node 13 is Decision point\n",
      "Node 6 is Decision point\n",
      "Node 8 is Leaf node\n",
      "Node 17 is Decision point\n",
      "Node 28 is Leaf node\n",
      "Node 30 is Decision point\n",
      "Node 24 is Decision point\n",
      "Node 84 is Decision point\n",
      "Node 94 is Decision point\n",
      "Node 55 is Decision point\n",
      "Node 43 is Leaf node\n",
      "Node 54 is Decision point\n",
      "Node 53 is Leaf node\n",
      "Node 51 is Decision point\n",
      "Node 39 is Decision point\n",
      "Node 40 is Leaf node\n",
      "Node 97 is Decision point\n",
      "Node 86 is Leaf node\n",
      "Node 109 is Decision point\n",
      "Node 129 is Decision point\n",
      "Node 139 is Leaf node\n",
      "Node 142 is Decision point\n",
      "Node 130 is Decision point\n",
      "Node 120 is Leaf node\n",
      "Node 144 is Leaf node\n",
      "Node 143 is Leaf node\n",
      "Node 135 is Leaf node\n",
      "Node 52 is Leaf node\n",
      "Node 93 is Leaf node\n",
      "Node 96 is Leaf node\n",
      "Node 35 is Leaf node\n",
      "Node 41 is Leaf node\n",
      "Node 25 is Leaf node\n",
      "Shortest path =  1 13 14 26 27 15 3 4 5 6 18 17 29 30 31 19 20 21 9 10 11 12 24 23 22 34 33 32 44 45 46 47 48 60 59 58 57 56 68 69 70 71 72 84 83 95 94 82 81 80 92 104 103 91 90 78 79 67 55 54 66 65 64 63 75 74 62 50 51 39 38 37 49 61 73 85 97 109 110 122 123 111 112 100 99 87 88 76 77 89 101 102 114 113 125 124 136 137 138 126 127 115 116 117 129 141 142 130 131 132 144\n",
      "Shortest path =  1 13 14 26 27 15 3 4 5 6 18 17 29 30 31 19 20 21 9 10 11 12 24 23 22 34 33 32 44 45 46 47 48 60 59 58 57 56 68 69 70 71 72 84 83 95 94 82 81 80 92 104 103 91 90 78 79 67 55 54 66 65 64 63 75 74 62 50 51 39 38 37 49 61 73 85 97 109 110 122 123 111 112 100 99 87 88 76 77 89 101 102 114 113 125 124 136 137 138 126 127 115 116 117 129 141 142 130 131 132 144\n"
     ]
    },
    {
     "name": "stderr",
     "output_type": "stream",
     "text": [
      "100%|██████████████████████████████████████████████████████████████████████████████████| 38/38 [00:13<00:00,  2.74it/s]\n"
     ]
    },
    {
     "name": "stdout",
     "output_type": "stream",
     "text": [
      "# of place cell using time shift shuffle method: 3.0 / 38\n"
     ]
    },
    {
     "name": "stderr",
     "output_type": "stream",
     "text": [
      "100%|██████████████████████████████████████████████████████████████████████████████████| 38/38 [00:14<00:00,  2.62it/s]\n"
     ]
    },
    {
     "name": "stdout",
     "output_type": "stream",
     "text": [
      "# of run cell using time shift shuffle method: 2.0 / 38\n",
      "M10031maze1Day1\n",
      "128    Z:/miniscope_recording/maze/4_18_2020/10031H13...\n",
      "Name: recording_folder_local, dtype: object\n",
      "The maze is bidirectional, Ye!\n",
      "Node 1 is Decision point\n",
      "Node 2 is Leaf node\n",
      "Node 13 is Decision point\n",
      "Node 6 is Decision point\n",
      "Node 8 is Leaf node\n",
      "Node 17 is Decision point\n",
      "Node 28 is Leaf node\n",
      "Node 30 is Decision point\n",
      "Node 24 is Decision point\n",
      "Node 84 is Decision point\n",
      "Node 94 is Decision point\n",
      "Node 55 is Decision point\n",
      "Node 43 is Leaf node\n",
      "Node 54 is Decision point\n",
      "Node 53 is Leaf node\n",
      "Node 51 is Decision point\n",
      "Node 39 is Decision point\n",
      "Node 40 is Leaf node\n",
      "Node 97 is Decision point\n",
      "Node 86 is Leaf node\n",
      "Node 109 is Decision point\n",
      "Node 129 is Decision point\n",
      "Node 139 is Leaf node\n",
      "Node 142 is Decision point\n",
      "Node 130 is Decision point\n",
      "Node 120 is Leaf node\n",
      "Node 144 is Leaf node\n",
      "Node 143 is Leaf node\n",
      "Node 135 is Leaf node\n",
      "Node 52 is Leaf node\n",
      "Node 93 is Leaf node\n",
      "Node 96 is Leaf node\n",
      "Node 35 is Leaf node\n",
      "Node 41 is Leaf node\n",
      "Node 25 is Leaf node\n",
      "Shortest path =  1 13 14 26 27 15 3 4 5 6 18 17 29 30 31 19 20 21 9 10 11 12 24 23 22 34 33 32 44 45 46 47 48 60 59 58 57 56 68 69 70 71 72 84 83 95 94 82 81 80 92 104 103 91 90 78 79 67 55 54 66 65 64 63 75 74 62 50 51 39 38 37 49 61 73 85 97 109 110 122 123 111 112 100 99 87 88 76 77 89 101 102 114 113 125 124 136 137 138 126 127 115 116 117 129 141 142 130 131 132 144\n",
      "Shortest path =  1 13 14 26 27 15 3 4 5 6 18 17 29 30 31 19 20 21 9 10 11 12 24 23 22 34 33 32 44 45 46 47 48 60 59 58 57 56 68 69 70 71 72 84 83 95 94 82 81 80 92 104 103 91 90 78 79 67 55 54 66 65 64 63 75 74 62 50 51 39 38 37 49 61 73 85 97 109 110 122 123 111 112 100 99 87 88 76 77 89 101 102 114 113 125 124 136 137 138 126 127 115 116 117 129 141 142 130 131 132 144\n"
     ]
    },
    {
     "name": "stderr",
     "output_type": "stream",
     "text": [
      "100%|████████████████████████████████████████████████████████████████████████████████| 144/144 [09:27<00:00,  3.94s/it]\n"
     ]
    },
    {
     "name": "stdout",
     "output_type": "stream",
     "text": [
      "# of place cell using time shift shuffle method: 101.0 / 144\n"
     ]
    },
    {
     "name": "stderr",
     "output_type": "stream",
     "text": [
      "100%|████████████████████████████████████████████████████████████████████████████████| 144/144 [09:14<00:00,  3.85s/it]\n"
     ]
    },
    {
     "name": "stdout",
     "output_type": "stream",
     "text": [
      "# of run cell using time shift shuffle method: 96.0 / 144\n",
      "M10031maze1Day2\n",
      "129    Z:/miniscope_recording/maze/4_19_2020/10031H15...\n",
      "Name: recording_folder_local, dtype: object\n",
      "The maze is bidirectional, Ye!\n",
      "Node 1 is Decision point\n",
      "Node 2 is Leaf node\n",
      "Node 13 is Decision point\n",
      "Node 6 is Decision point\n",
      "Node 8 is Leaf node\n",
      "Node 17 is Decision point\n",
      "Node 28 is Leaf node\n",
      "Node 30 is Decision point\n",
      "Node 24 is Decision point\n",
      "Node 84 is Decision point\n",
      "Node 94 is Decision point\n",
      "Node 55 is Decision point\n",
      "Node 43 is Leaf node\n",
      "Node 54 is Decision point\n",
      "Node 53 is Leaf node\n",
      "Node 51 is Decision point\n",
      "Node 39 is Decision point\n",
      "Node 40 is Leaf node\n",
      "Node 97 is Decision point\n",
      "Node 86 is Leaf node\n",
      "Node 109 is Decision point\n",
      "Node 129 is Decision point\n",
      "Node 139 is Leaf node\n",
      "Node 142 is Decision point\n",
      "Node 130 is Decision point\n",
      "Node 120 is Leaf node\n",
      "Node 144 is Leaf node\n",
      "Node 143 is Leaf node\n",
      "Node 135 is Leaf node\n",
      "Node 52 is Leaf node\n",
      "Node 93 is Leaf node\n",
      "Node 96 is Leaf node\n",
      "Node 35 is Leaf node\n",
      "Node 41 is Leaf node\n",
      "Node 25 is Leaf node\n",
      "Shortest path =  1 13 14 26 27 15 3 4 5 6 18 17 29 30 31 19 20 21 9 10 11 12 24 23 22 34 33 32 44 45 46 47 48 60 59 58 57 56 68 69 70 71 72 84 83 95 94 82 81 80 92 104 103 91 90 78 79 67 55 54 66 65 64 63 75 74 62 50 51 39 38 37 49 61 73 85 97 109 110 122 123 111 112 100 99 87 88 76 77 89 101 102 114 113 125 124 136 137 138 126 127 115 116 117 129 141 142 130 131 132 144\n",
      "Shortest path =  1 13 14 26 27 15 3 4 5 6 18 17 29 30 31 19 20 21 9 10 11 12 24 23 22 34 33 32 44 45 46 47 48 60 59 58 57 56 68 69 70 71 72 84 83 95 94 82 81 80 92 104 103 91 90 78 79 67 55 54 66 65 64 63 75 74 62 50 51 39 38 37 49 61 73 85 97 109 110 122 123 111 112 100 99 87 88 76 77 89 101 102 114 113 125 124 136 137 138 126 127 115 116 117 129 141 142 130 131 132 144\n"
     ]
    },
    {
     "name": "stderr",
     "output_type": "stream",
     "text": [
      "100%|████████████████████████████████████████████████████████████████████████████████| 135/135 [02:10<00:00,  1.03it/s]\n"
     ]
    },
    {
     "name": "stdout",
     "output_type": "stream",
     "text": [
      "# of place cell using time shift shuffle method: 39.0 / 135\n"
     ]
    },
    {
     "name": "stderr",
     "output_type": "stream",
     "text": [
      "100%|████████████████████████████████████████████████████████████████████████████████| 135/135 [02:07<00:00,  1.06it/s]\n"
     ]
    },
    {
     "name": "stdout",
     "output_type": "stream",
     "text": [
      "# of run cell using time shift shuffle method: 32.0 / 135\n",
      "M10031maze1Day3\n",
      "130    Z:/miniscope_recording/maze/4_20_2020/10031H16...\n",
      "Name: recording_folder_local, dtype: object\n",
      "The maze is bidirectional, Ye!\n",
      "Node 1 is Decision point\n",
      "Node 2 is Leaf node\n",
      "Node 13 is Decision point\n",
      "Node 6 is Decision point\n",
      "Node 8 is Leaf node\n",
      "Node 17 is Decision point\n",
      "Node 28 is Leaf node\n",
      "Node 30 is Decision point\n",
      "Node 24 is Decision point\n",
      "Node 84 is Decision point\n",
      "Node 94 is Decision point\n",
      "Node 55 is Decision point\n",
      "Node 43 is Leaf node\n",
      "Node 54 is Decision point\n",
      "Node 53 is Leaf node\n",
      "Node 51 is Decision point\n",
      "Node 39 is Decision point\n",
      "Node 40 is Leaf node\n",
      "Node 97 is Decision point\n",
      "Node 86 is Leaf node\n",
      "Node 109 is Decision point\n",
      "Node 129 is Decision point\n",
      "Node 139 is Leaf node\n",
      "Node 142 is Decision point\n",
      "Node 130 is Decision point\n",
      "Node 120 is Leaf node\n",
      "Node 144 is Leaf node\n",
      "Node 143 is Leaf node\n",
      "Node 135 is Leaf node\n",
      "Node 52 is Leaf node\n",
      "Node 93 is Leaf node\n",
      "Node 96 is Leaf node\n",
      "Node 35 is Leaf node\n",
      "Node 41 is Leaf node\n",
      "Node 25 is Leaf node\n",
      "Shortest path =  1 13 14 26 27 15 3 4 5 6 18 17 29 30 31 19 20 21 9 10 11 12 24 23 22 34 33 32 44 45 46 47 48 60 59 58 57 56 68 69 70 71 72 84 83 95 94 82 81 80 92 104 103 91 90 78 79 67 55 54 66 65 64 63 75 74 62 50 51 39 38 37 49 61 73 85 97 109 110 122 123 111 112 100 99 87 88 76 77 89 101 102 114 113 125 124 136 137 138 126 127 115 116 117 129 141 142 130 131 132 144\n",
      "Shortest path =  1 13 14 26 27 15 3 4 5 6 18 17 29 30 31 19 20 21 9 10 11 12 24 23 22 34 33 32 44 45 46 47 48 60 59 58 57 56 68 69 70 71 72 84 83 95 94 82 81 80 92 104 103 91 90 78 79 67 55 54 66 65 64 63 75 74 62 50 51 39 38 37 49 61 73 85 97 109 110 122 123 111 112 100 99 87 88 76 77 89 101 102 114 113 125 124 136 137 138 126 127 115 116 117 129 141 142 130 131 132 144\n"
     ]
    },
    {
     "name": "stderr",
     "output_type": "stream",
     "text": [
      "100%|████████████████████████████████████████████████████████████████████████████████| 165/165 [05:26<00:00,  1.98s/it]\n"
     ]
    },
    {
     "name": "stdout",
     "output_type": "stream",
     "text": [
      "# of place cell using time shift shuffle method: 46.0 / 165\n"
     ]
    },
    {
     "name": "stderr",
     "output_type": "stream",
     "text": [
      "100%|████████████████████████████████████████████████████████████████████████████████| 165/165 [05:27<00:00,  1.98s/it]\n"
     ]
    },
    {
     "name": "stdout",
     "output_type": "stream",
     "text": [
      "# of run cell using time shift shuffle method: 55.0 / 165\n",
      "M10031maze1Day4\n",
      "131    Z:/miniscope_recording/maze/4_21_2020/10031H17...\n",
      "Name: recording_folder_local, dtype: object\n",
      "The maze is bidirectional, Ye!\n",
      "Node 1 is Decision point\n",
      "Node 2 is Leaf node\n",
      "Node 13 is Decision point\n",
      "Node 6 is Decision point\n",
      "Node 8 is Leaf node\n",
      "Node 17 is Decision point\n",
      "Node 28 is Leaf node\n",
      "Node 30 is Decision point\n",
      "Node 24 is Decision point\n",
      "Node 84 is Decision point\n",
      "Node 94 is Decision point\n",
      "Node 55 is Decision point\n",
      "Node 43 is Leaf node\n",
      "Node 54 is Decision point\n",
      "Node 53 is Leaf node\n",
      "Node 51 is Decision point\n",
      "Node 39 is Decision point\n",
      "Node 40 is Leaf node\n",
      "Node 97 is Decision point\n",
      "Node 86 is Leaf node\n",
      "Node 109 is Decision point\n",
      "Node 129 is Decision point\n",
      "Node 139 is Leaf node\n",
      "Node 142 is Decision point\n",
      "Node 130 is Decision point\n",
      "Node 120 is Leaf node\n",
      "Node 144 is Leaf node\n",
      "Node 143 is Leaf node\n",
      "Node 135 is Leaf node\n",
      "Node 52 is Leaf node\n",
      "Node 93 is Leaf node\n",
      "Node 96 is Leaf node\n",
      "Node 35 is Leaf node\n",
      "Node 41 is Leaf node\n",
      "Node 25 is Leaf node\n",
      "Shortest path =  1 13 14 26 27 15 3 4 5 6 18 17 29 30 31 19 20 21 9 10 11 12 24 23 22 34 33 32 44 45 46 47 48 60 59 58 57 56 68 69 70 71 72 84 83 95 94 82 81 80 92 104 103 91 90 78 79 67 55 54 66 65 64 63 75 74 62 50 51 39 38 37 49 61 73 85 97 109 110 122 123 111 112 100 99 87 88 76 77 89 101 102 114 113 125 124 136 137 138 126 127 115 116 117 129 141 142 130 131 132 144\n",
      "Shortest path =  1 13 14 26 27 15 3 4 5 6 18 17 29 30 31 19 20 21 9 10 11 12 24 23 22 34 33 32 44 45 46 47 48 60 59 58 57 56 68 69 70 71 72 84 83 95 94 82 81 80 92 104 103 91 90 78 79 67 55 54 66 65 64 63 75 74 62 50 51 39 38 37 49 61 73 85 97 109 110 122 123 111 112 100 99 87 88 76 77 89 101 102 114 113 125 124 136 137 138 126 127 115 116 117 129 141 142 130 131 132 144\n"
     ]
    },
    {
     "name": "stderr",
     "output_type": "stream",
     "text": [
      "100%|██████████████████████████████████████████████████████████████████████████████████| 85/85 [00:56<00:00,  1.51it/s]\n"
     ]
    },
    {
     "name": "stdout",
     "output_type": "stream",
     "text": [
      "# of place cell using time shift shuffle method: 6.0 / 85\n"
     ]
    },
    {
     "name": "stderr",
     "output_type": "stream",
     "text": [
      "100%|██████████████████████████████████████████████████████████████████████████████████| 85/85 [00:57<00:00,  1.49it/s]\n"
     ]
    },
    {
     "name": "stdout",
     "output_type": "stream",
     "text": [
      "# of run cell using time shift shuffle method: 12.0 / 85\n",
      "M10031maze1Day5\n",
      "132    Z:/miniscope_recording/maze/4_22_2020/10031H14...\n",
      "Name: recording_folder_local, dtype: object\n",
      "The maze is bidirectional, Ye!\n",
      "Node 1 is Decision point\n",
      "Node 2 is Leaf node\n",
      "Node 13 is Decision point\n",
      "Node 6 is Decision point\n",
      "Node 8 is Leaf node\n",
      "Node 17 is Decision point\n",
      "Node 28 is Leaf node\n",
      "Node 30 is Decision point\n",
      "Node 24 is Decision point\n",
      "Node 84 is Decision point\n",
      "Node 94 is Decision point\n",
      "Node 55 is Decision point\n",
      "Node 43 is Leaf node\n",
      "Node 54 is Decision point\n",
      "Node 53 is Leaf node\n",
      "Node 51 is Decision point\n",
      "Node 39 is Decision point\n",
      "Node 40 is Leaf node\n",
      "Node 97 is Decision point\n",
      "Node 86 is Leaf node\n",
      "Node 109 is Decision point\n",
      "Node 129 is Decision point\n",
      "Node 139 is Leaf node\n",
      "Node 142 is Decision point\n",
      "Node 130 is Decision point\n",
      "Node 120 is Leaf node\n",
      "Node 144 is Leaf node\n",
      "Node 143 is Leaf node\n",
      "Node 135 is Leaf node\n",
      "Node 52 is Leaf node\n",
      "Node 93 is Leaf node\n",
      "Node 96 is Leaf node\n",
      "Node 35 is Leaf node\n",
      "Node 41 is Leaf node\n",
      "Node 25 is Leaf node\n",
      "Shortest path =  1 13 14 26 27 15 3 4 5 6 18 17 29 30 31 19 20 21 9 10 11 12 24 23 22 34 33 32 44 45 46 47 48 60 59 58 57 56 68 69 70 71 72 84 83 95 94 82 81 80 92 104 103 91 90 78 79 67 55 54 66 65 64 63 75 74 62 50 51 39 38 37 49 61 73 85 97 109 110 122 123 111 112 100 99 87 88 76 77 89 101 102 114 113 125 124 136 137 138 126 127 115 116 117 129 141 142 130 131 132 144\n",
      "Shortest path =  1 13 14 26 27 15 3 4 5 6 18 17 29 30 31 19 20 21 9 10 11 12 24 23 22 34 33 32 44 45 46 47 48 60 59 58 57 56 68 69 70 71 72 84 83 95 94 82 81 80 92 104 103 91 90 78 79 67 55 54 66 65 64 63 75 74 62 50 51 39 38 37 49 61 73 85 97 109 110 122 123 111 112 100 99 87 88 76 77 89 101 102 114 113 125 124 136 137 138 126 127 115 116 117 129 141 142 130 131 132 144\n"
     ]
    },
    {
     "name": "stderr",
     "output_type": "stream",
     "text": [
      "100%|████████████████████████████████████████████████████████████████████████████████| 100/100 [02:45<00:00,  1.66s/it]\n"
     ]
    },
    {
     "name": "stdout",
     "output_type": "stream",
     "text": [
      "# of place cell using time shift shuffle method: 75.0 / 100\n"
     ]
    },
    {
     "name": "stderr",
     "output_type": "stream",
     "text": [
      "100%|████████████████████████████████████████████████████████████████████████████████| 100/100 [02:44<00:00,  1.64s/it]\n"
     ]
    },
    {
     "name": "stdout",
     "output_type": "stream",
     "text": [
      "# of run cell using time shift shuffle method: 64.0 / 100\n",
      "M10031maze1Day6\n",
      "133    Z:/miniscope_recording/maze/4_23_2020/10031H14...\n",
      "Name: recording_folder_local, dtype: object\n",
      "The maze is bidirectional, Ye!\n",
      "Node 1 is Decision point\n",
      "Node 2 is Leaf node\n",
      "Node 13 is Decision point\n",
      "Node 6 is Decision point\n",
      "Node 8 is Leaf node\n",
      "Node 17 is Decision point\n",
      "Node 28 is Leaf node\n",
      "Node 30 is Decision point\n",
      "Node 24 is Decision point\n",
      "Node 84 is Decision point\n",
      "Node 94 is Decision point\n",
      "Node 55 is Decision point\n",
      "Node 43 is Leaf node\n",
      "Node 54 is Decision point\n",
      "Node 53 is Leaf node\n",
      "Node 51 is Decision point\n",
      "Node 39 is Decision point\n",
      "Node 40 is Leaf node\n",
      "Node 97 is Decision point\n",
      "Node 86 is Leaf node\n",
      "Node 109 is Decision point\n",
      "Node 129 is Decision point\n",
      "Node 139 is Leaf node\n",
      "Node 142 is Decision point\n",
      "Node 130 is Decision point\n",
      "Node 120 is Leaf node\n",
      "Node 144 is Leaf node\n",
      "Node 143 is Leaf node\n",
      "Node 135 is Leaf node\n",
      "Node 52 is Leaf node\n",
      "Node 93 is Leaf node\n",
      "Node 96 is Leaf node\n",
      "Node 35 is Leaf node\n",
      "Node 41 is Leaf node\n",
      "Node 25 is Leaf node\n",
      "Shortest path =  1 13 14 26 27 15 3 4 5 6 18 17 29 30 31 19 20 21 9 10 11 12 24 23 22 34 33 32 44 45 46 47 48 60 59 58 57 56 68 69 70 71 72 84 83 95 94 82 81 80 92 104 103 91 90 78 79 67 55 54 66 65 64 63 75 74 62 50 51 39 38 37 49 61 73 85 97 109 110 122 123 111 112 100 99 87 88 76 77 89 101 102 114 113 125 124 136 137 138 126 127 115 116 117 129 141 142 130 131 132 144\n",
      "Shortest path =  1 13 14 26 27 15 3 4 5 6 18 17 29 30 31 19 20 21 9 10 11 12 24 23 22 34 33 32 44 45 46 47 48 60 59 58 57 56 68 69 70 71 72 84 83 95 94 82 81 80 92 104 103 91 90 78 79 67 55 54 66 65 64 63 75 74 62 50 51 39 38 37 49 61 73 85 97 109 110 122 123 111 112 100 99 87 88 76 77 89 101 102 114 113 125 124 136 137 138 126 127 115 116 117 129 141 142 130 131 132 144\n"
     ]
    },
    {
     "name": "stderr",
     "output_type": "stream",
     "text": [
      "100%|████████████████████████████████████████████████████████████████████████████████| 106/106 [01:17<00:00,  1.37it/s]\n"
     ]
    },
    {
     "name": "stdout",
     "output_type": "stream",
     "text": [
      "# of place cell using time shift shuffle method: 16.0 / 106\n"
     ]
    },
    {
     "name": "stderr",
     "output_type": "stream",
     "text": [
      "100%|████████████████████████████████████████████████████████████████████████████████| 106/106 [01:17<00:00,  1.36it/s]\n"
     ]
    },
    {
     "name": "stdout",
     "output_type": "stream",
     "text": [
      "# of run cell using time shift shuffle method: 13.0 / 106\n",
      "M10031maze1Day7\n",
      "134    Z:/miniscope_recording/maze/4_24_2020/10031H15...\n",
      "Name: recording_folder_local, dtype: object\n",
      "The maze is bidirectional, Ye!\n",
      "Node 1 is Decision point\n",
      "Node 2 is Leaf node\n",
      "Node 13 is Decision point\n",
      "Node 6 is Decision point\n",
      "Node 8 is Leaf node\n",
      "Node 17 is Decision point\n",
      "Node 28 is Leaf node\n",
      "Node 30 is Decision point\n",
      "Node 24 is Decision point\n",
      "Node 84 is Decision point\n",
      "Node 94 is Decision point\n",
      "Node 55 is Decision point\n",
      "Node 43 is Leaf node\n",
      "Node 54 is Decision point\n",
      "Node 53 is Leaf node\n",
      "Node 51 is Decision point\n",
      "Node 39 is Decision point\n",
      "Node 40 is Leaf node\n",
      "Node 97 is Decision point\n",
      "Node 86 is Leaf node\n",
      "Node 109 is Decision point\n",
      "Node 129 is Decision point\n",
      "Node 139 is Leaf node\n",
      "Node 142 is Decision point\n",
      "Node 130 is Decision point\n",
      "Node 120 is Leaf node\n",
      "Node 144 is Leaf node\n",
      "Node 143 is Leaf node\n",
      "Node 135 is Leaf node\n",
      "Node 52 is Leaf node\n",
      "Node 93 is Leaf node\n",
      "Node 96 is Leaf node\n",
      "Node 35 is Leaf node\n",
      "Node 41 is Leaf node\n",
      "Node 25 is Leaf node\n",
      "Shortest path =  1 13 14 26 27 15 3 4 5 6 18 17 29 30 31 19 20 21 9 10 11 12 24 23 22 34 33 32 44 45 46 47 48 60 59 58 57 56 68 69 70 71 72 84 83 95 94 82 81 80 92 104 103 91 90 78 79 67 55 54 66 65 64 63 75 74 62 50 51 39 38 37 49 61 73 85 97 109 110 122 123 111 112 100 99 87 88 76 77 89 101 102 114 113 125 124 136 137 138 126 127 115 116 117 129 141 142 130 131 132 144\n",
      "Shortest path =  1 13 14 26 27 15 3 4 5 6 18 17 29 30 31 19 20 21 9 10 11 12 24 23 22 34 33 32 44 45 46 47 48 60 59 58 57 56 68 69 70 71 72 84 83 95 94 82 81 80 92 104 103 91 90 78 79 67 55 54 66 65 64 63 75 74 62 50 51 39 38 37 49 61 73 85 97 109 110 122 123 111 112 100 99 87 88 76 77 89 101 102 114 113 125 124 136 137 138 126 127 115 116 117 129 141 142 130 131 132 144\n"
     ]
    },
    {
     "name": "stderr",
     "output_type": "stream",
     "text": [
      "100%|██████████████████████████████████████████████████████████████████████████████████| 69/69 [00:36<00:00,  1.88it/s]\n"
     ]
    },
    {
     "name": "stdout",
     "output_type": "stream",
     "text": [
      "# of place cell using time shift shuffle method: 13.0 / 69\n"
     ]
    },
    {
     "name": "stderr",
     "output_type": "stream",
     "text": [
      "100%|██████████████████████████████████████████████████████████████████████████████████| 69/69 [00:37<00:00,  1.85it/s]\n"
     ]
    },
    {
     "name": "stdout",
     "output_type": "stream",
     "text": [
      "# of run cell using time shift shuffle method: 11.0 / 69\n",
      "M10031maze1Day8\n",
      "135    Z:/miniscope_recording/maze/4_25_2020/10031H15...\n",
      "Name: recording_folder_local, dtype: object\n",
      "The maze is bidirectional, Ye!\n",
      "Node 1 is Decision point\n",
      "Node 2 is Leaf node\n",
      "Node 13 is Decision point\n",
      "Node 6 is Decision point\n",
      "Node 8 is Leaf node\n",
      "Node 17 is Decision point\n",
      "Node 28 is Leaf node\n",
      "Node 30 is Decision point\n",
      "Node 24 is Decision point\n",
      "Node 84 is Decision point\n",
      "Node 94 is Decision point\n",
      "Node 55 is Decision point\n",
      "Node 43 is Leaf node\n",
      "Node 54 is Decision point\n",
      "Node 53 is Leaf node\n",
      "Node 51 is Decision point\n",
      "Node 39 is Decision point\n",
      "Node 40 is Leaf node\n",
      "Node 97 is Decision point\n",
      "Node 86 is Leaf node\n",
      "Node 109 is Decision point\n",
      "Node 129 is Decision point\n",
      "Node 139 is Leaf node\n",
      "Node 142 is Decision point\n",
      "Node 130 is Decision point\n",
      "Node 120 is Leaf node\n",
      "Node 144 is Leaf node\n",
      "Node 143 is Leaf node\n",
      "Node 135 is Leaf node\n",
      "Node 52 is Leaf node\n",
      "Node 93 is Leaf node\n",
      "Node 96 is Leaf node\n",
      "Node 35 is Leaf node\n",
      "Node 41 is Leaf node\n",
      "Node 25 is Leaf node\n",
      "Shortest path =  1 13 14 26 27 15 3 4 5 6 18 17 29 30 31 19 20 21 9 10 11 12 24 23 22 34 33 32 44 45 46 47 48 60 59 58 57 56 68 69 70 71 72 84 83 95 94 82 81 80 92 104 103 91 90 78 79 67 55 54 66 65 64 63 75 74 62 50 51 39 38 37 49 61 73 85 97 109 110 122 123 111 112 100 99 87 88 76 77 89 101 102 114 113 125 124 136 137 138 126 127 115 116 117 129 141 142 130 131 132 144\n",
      "Shortest path =  1 13 14 26 27 15 3 4 5 6 18 17 29 30 31 19 20 21 9 10 11 12 24 23 22 34 33 32 44 45 46 47 48 60 59 58 57 56 68 69 70 71 72 84 83 95 94 82 81 80 92 104 103 91 90 78 79 67 55 54 66 65 64 63 75 74 62 50 51 39 38 37 49 61 73 85 97 109 110 122 123 111 112 100 99 87 88 76 77 89 101 102 114 113 125 124 136 137 138 126 127 115 116 117 129 141 142 130 131 132 144\n"
     ]
    },
    {
     "name": "stderr",
     "output_type": "stream",
     "text": [
      "100%|██████████████████████████████████████████████████████████████████████████████████| 90/90 [01:14<00:00,  1.21it/s]\n"
     ]
    },
    {
     "name": "stdout",
     "output_type": "stream",
     "text": [
      "# of place cell using time shift shuffle method: 55.0 / 90\n"
     ]
    },
    {
     "name": "stderr",
     "output_type": "stream",
     "text": [
      "100%|██████████████████████████████████████████████████████████████████████████████████| 90/90 [01:13<00:00,  1.22it/s]\n"
     ]
    },
    {
     "name": "stdout",
     "output_type": "stream",
     "text": [
      "# of run cell using time shift shuffle method: 48.0 / 90\n",
      "M10032maze1Day1\n",
      "111    Z:/miniscope_recording/maze/4_17_2020/10032H18...\n",
      "Name: recording_folder_local, dtype: object\n",
      "The maze is bidirectional, Ye!\n",
      "Node 1 is Decision point\n",
      "Node 2 is Leaf node\n",
      "Node 13 is Decision point\n",
      "Node 6 is Decision point\n",
      "Node 8 is Leaf node\n",
      "Node 17 is Decision point\n",
      "Node 28 is Leaf node\n",
      "Node 30 is Decision point\n",
      "Node 24 is Decision point\n",
      "Node 84 is Decision point\n",
      "Node 94 is Decision point\n",
      "Node 55 is Decision point\n",
      "Node 43 is Leaf node\n",
      "Node 54 is Decision point\n",
      "Node 53 is Leaf node\n",
      "Node 51 is Decision point\n",
      "Node 39 is Decision point\n",
      "Node 40 is Leaf node\n",
      "Node 97 is Decision point\n",
      "Node 86 is Leaf node\n",
      "Node 109 is Decision point\n",
      "Node 129 is Decision point\n",
      "Node 139 is Leaf node\n",
      "Node 142 is Decision point\n",
      "Node 130 is Decision point\n",
      "Node 120 is Leaf node\n",
      "Node 144 is Leaf node\n",
      "Node 143 is Leaf node\n",
      "Node 135 is Leaf node\n",
      "Node 52 is Leaf node\n",
      "Node 93 is Leaf node\n",
      "Node 96 is Leaf node\n",
      "Node 35 is Leaf node\n",
      "Node 41 is Leaf node\n",
      "Node 25 is Leaf node\n",
      "Shortest path =  1 13 14 26 27 15 3 4 5 6 18 17 29 30 31 19 20 21 9 10 11 12 24 23 22 34 33 32 44 45 46 47 48 60 59 58 57 56 68 69 70 71 72 84 83 95 94 82 81 80 92 104 103 91 90 78 79 67 55 54 66 65 64 63 75 74 62 50 51 39 38 37 49 61 73 85 97 109 110 122 123 111 112 100 99 87 88 76 77 89 101 102 114 113 125 124 136 137 138 126 127 115 116 117 129 141 142 130 131 132 144\n",
      "Shortest path =  1 13 14 26 27 15 3 4 5 6 18 17 29 30 31 19 20 21 9 10 11 12 24 23 22 34 33 32 44 45 46 47 48 60 59 58 57 56 68 69 70 71 72 84 83 95 94 82 81 80 92 104 103 91 90 78 79 67 55 54 66 65 64 63 75 74 62 50 51 39 38 37 49 61 73 85 97 109 110 122 123 111 112 100 99 87 88 76 77 89 101 102 114 113 125 124 136 137 138 126 127 115 116 117 129 141 142 130 131 132 144\n"
     ]
    },
    {
     "name": "stderr",
     "output_type": "stream",
     "text": [
      "100%|██████████████████████████████████████████████████████████████████████████████████| 72/72 [04:05<00:00,  3.41s/it]\n"
     ]
    },
    {
     "name": "stdout",
     "output_type": "stream",
     "text": [
      "# of place cell using time shift shuffle method: 48.0 / 72\n"
     ]
    },
    {
     "name": "stderr",
     "output_type": "stream",
     "text": [
      "100%|██████████████████████████████████████████████████████████████████████████████████| 72/72 [04:00<00:00,  3.34s/it]\n"
     ]
    },
    {
     "name": "stdout",
     "output_type": "stream",
     "text": [
      "# of run cell using time shift shuffle method: 41.0 / 72\n",
      "M10032maze1Day2\n",
      "112    Z:/miniscope_recording/maze/4_18_2020/10032H15...\n",
      "Name: recording_folder_local, dtype: object\n",
      "The maze is bidirectional, Ye!\n",
      "Node 1 is Decision point\n",
      "Node 2 is Leaf node\n",
      "Node 13 is Decision point\n",
      "Node 6 is Decision point\n",
      "Node 8 is Leaf node\n",
      "Node 17 is Decision point\n",
      "Node 28 is Leaf node\n",
      "Node 30 is Decision point\n",
      "Node 24 is Decision point\n",
      "Node 84 is Decision point\n",
      "Node 94 is Decision point\n",
      "Node 55 is Decision point\n",
      "Node 43 is Leaf node\n",
      "Node 54 is Decision point\n",
      "Node 53 is Leaf node\n",
      "Node 51 is Decision point\n",
      "Node 39 is Decision point\n",
      "Node 40 is Leaf node\n",
      "Node 97 is Decision point\n",
      "Node 86 is Leaf node\n",
      "Node 109 is Decision point\n",
      "Node 129 is Decision point\n",
      "Node 139 is Leaf node\n",
      "Node 142 is Decision point\n",
      "Node 130 is Decision point\n",
      "Node 120 is Leaf node\n",
      "Node 144 is Leaf node\n",
      "Node 143 is Leaf node\n",
      "Node 135 is Leaf node\n",
      "Node 52 is Leaf node\n",
      "Node 93 is Leaf node\n",
      "Node 96 is Leaf node\n",
      "Node 35 is Leaf node\n",
      "Node 41 is Leaf node\n",
      "Node 25 is Leaf node\n",
      "Shortest path =  1 13 14 26 27 15 3 4 5 6 18 17 29 30 31 19 20 21 9 10 11 12 24 23 22 34 33 32 44 45 46 47 48 60 59 58 57 56 68 69 70 71 72 84 83 95 94 82 81 80 92 104 103 91 90 78 79 67 55 54 66 65 64 63 75 74 62 50 51 39 38 37 49 61 73 85 97 109 110 122 123 111 112 100 99 87 88 76 77 89 101 102 114 113 125 124 136 137 138 126 127 115 116 117 129 141 142 130 131 132 144\n",
      "Shortest path =  1 13 14 26 27 15 3 4 5 6 18 17 29 30 31 19 20 21 9 10 11 12 24 23 22 34 33 32 44 45 46 47 48 60 59 58 57 56 68 69 70 71 72 84 83 95 94 82 81 80 92 104 103 91 90 78 79 67 55 54 66 65 64 63 75 74 62 50 51 39 38 37 49 61 73 85 97 109 110 122 123 111 112 100 99 87 88 76 77 89 101 102 114 113 125 124 136 137 138 126 127 115 116 117 129 141 142 130 131 132 144\n"
     ]
    },
    {
     "name": "stderr",
     "output_type": "stream",
     "text": [
      "100%|██████████████████████████████████████████████████████████████████████████████████| 72/72 [01:26<00:00,  1.20s/it]\n"
     ]
    },
    {
     "name": "stdout",
     "output_type": "stream",
     "text": [
      "# of place cell using time shift shuffle method: 50.0 / 72\n"
     ]
    },
    {
     "name": "stderr",
     "output_type": "stream",
     "text": [
      "100%|██████████████████████████████████████████████████████████████████████████████████| 72/72 [01:26<00:00,  1.20s/it]\n"
     ]
    },
    {
     "name": "stdout",
     "output_type": "stream",
     "text": [
      "# of run cell using time shift shuffle method: 39.0 / 72\n",
      "M10032maze1Day3\n",
      "113    Z:/miniscope_recording/maze/4_19_2020/10032H14...\n",
      "Name: recording_folder_local, dtype: object\n",
      "The maze is bidirectional, Ye!\n",
      "Node 1 is Decision point\n",
      "Node 2 is Leaf node\n",
      "Node 13 is Decision point\n",
      "Node 6 is Decision point\n",
      "Node 8 is Leaf node\n",
      "Node 17 is Decision point\n",
      "Node 28 is Leaf node\n",
      "Node 30 is Decision point\n",
      "Node 24 is Decision point\n",
      "Node 84 is Decision point\n",
      "Node 94 is Decision point\n",
      "Node 55 is Decision point\n",
      "Node 43 is Leaf node\n",
      "Node 54 is Decision point\n",
      "Node 53 is Leaf node\n",
      "Node 51 is Decision point\n",
      "Node 39 is Decision point\n",
      "Node 40 is Leaf node\n",
      "Node 97 is Decision point\n",
      "Node 86 is Leaf node\n",
      "Node 109 is Decision point\n",
      "Node 129 is Decision point\n",
      "Node 139 is Leaf node\n",
      "Node 142 is Decision point\n",
      "Node 130 is Decision point\n",
      "Node 120 is Leaf node\n",
      "Node 144 is Leaf node\n",
      "Node 143 is Leaf node\n",
      "Node 135 is Leaf node\n",
      "Node 52 is Leaf node\n",
      "Node 93 is Leaf node\n",
      "Node 96 is Leaf node\n",
      "Node 35 is Leaf node\n",
      "Node 41 is Leaf node\n",
      "Node 25 is Leaf node\n",
      "Shortest path =  1 13 14 26 27 15 3 4 5 6 18 17 29 30 31 19 20 21 9 10 11 12 24 23 22 34 33 32 44 45 46 47 48 60 59 58 57 56 68 69 70 71 72 84 83 95 94 82 81 80 92 104 103 91 90 78 79 67 55 54 66 65 64 63 75 74 62 50 51 39 38 37 49 61 73 85 97 109 110 122 123 111 112 100 99 87 88 76 77 89 101 102 114 113 125 124 136 137 138 126 127 115 116 117 129 141 142 130 131 132 144\n",
      "Shortest path =  1 13 14 26 27 15 3 4 5 6 18 17 29 30 31 19 20 21 9 10 11 12 24 23 22 34 33 32 44 45 46 47 48 60 59 58 57 56 68 69 70 71 72 84 83 95 94 82 81 80 92 104 103 91 90 78 79 67 55 54 66 65 64 63 75 74 62 50 51 39 38 37 49 61 73 85 97 109 110 122 123 111 112 100 99 87 88 76 77 89 101 102 114 113 125 124 136 137 138 126 127 115 116 117 129 141 142 130 131 132 144\n"
     ]
    },
    {
     "name": "stderr",
     "output_type": "stream",
     "text": [
      "100%|██████████████████████████████████████████████████████████████████████████████████| 70/70 [01:23<00:00,  1.19s/it]\n"
     ]
    },
    {
     "name": "stdout",
     "output_type": "stream",
     "text": [
      "# of place cell using time shift shuffle method: 45.0 / 70\n"
     ]
    },
    {
     "name": "stderr",
     "output_type": "stream",
     "text": [
      "100%|██████████████████████████████████████████████████████████████████████████████████| 70/70 [01:22<00:00,  1.17s/it]\n"
     ]
    },
    {
     "name": "stdout",
     "output_type": "stream",
     "text": [
      "# of run cell using time shift shuffle method: 27.0 / 70\n",
      "M10032maze1Day4\n",
      "114    Z:/miniscope_recording/maze/4_20_2020/10032H16...\n",
      "Name: recording_folder_local, dtype: object\n",
      "The maze is bidirectional, Ye!\n",
      "Node 1 is Decision point\n",
      "Node 2 is Leaf node\n",
      "Node 13 is Decision point\n",
      "Node 6 is Decision point\n",
      "Node 8 is Leaf node\n",
      "Node 17 is Decision point\n",
      "Node 28 is Leaf node\n",
      "Node 30 is Decision point\n",
      "Node 24 is Decision point\n",
      "Node 84 is Decision point\n",
      "Node 94 is Decision point\n",
      "Node 55 is Decision point\n",
      "Node 43 is Leaf node\n",
      "Node 54 is Decision point\n",
      "Node 53 is Leaf node\n",
      "Node 51 is Decision point\n",
      "Node 39 is Decision point\n",
      "Node 40 is Leaf node\n",
      "Node 97 is Decision point\n",
      "Node 86 is Leaf node\n",
      "Node 109 is Decision point\n",
      "Node 129 is Decision point\n",
      "Node 139 is Leaf node\n",
      "Node 142 is Decision point\n",
      "Node 130 is Decision point\n",
      "Node 120 is Leaf node\n",
      "Node 144 is Leaf node\n",
      "Node 143 is Leaf node\n",
      "Node 135 is Leaf node\n",
      "Node 52 is Leaf node\n",
      "Node 93 is Leaf node\n",
      "Node 96 is Leaf node\n",
      "Node 35 is Leaf node\n",
      "Node 41 is Leaf node\n",
      "Node 25 is Leaf node\n",
      "Shortest path =  1 13 14 26 27 15 3 4 5 6 18 17 29 30 31 19 20 21 9 10 11 12 24 23 22 34 33 32 44 45 46 47 48 60 59 58 57 56 68 69 70 71 72 84 83 95 94 82 81 80 92 104 103 91 90 78 79 67 55 54 66 65 64 63 75 74 62 50 51 39 38 37 49 61 73 85 97 109 110 122 123 111 112 100 99 87 88 76 77 89 101 102 114 113 125 124 136 137 138 126 127 115 116 117 129 141 142 130 131 132 144\n",
      "Shortest path =  1 13 14 26 27 15 3 4 5 6 18 17 29 30 31 19 20 21 9 10 11 12 24 23 22 34 33 32 44 45 46 47 48 60 59 58 57 56 68 69 70 71 72 84 83 95 94 82 81 80 92 104 103 91 90 78 79 67 55 54 66 65 64 63 75 74 62 50 51 39 38 37 49 61 73 85 97 109 110 122 123 111 112 100 99 87 88 76 77 89 101 102 114 113 125 124 136 137 138 126 127 115 116 117 129 141 142 130 131 132 144\n"
     ]
    },
    {
     "name": "stderr",
     "output_type": "stream",
     "text": [
      "100%|██████████████████████████████████████████████████████████████████████████████████| 80/80 [01:07<00:00,  1.18it/s]\n"
     ]
    },
    {
     "name": "stdout",
     "output_type": "stream",
     "text": [
      "# of place cell using time shift shuffle method: 62.0 / 80\n"
     ]
    },
    {
     "name": "stderr",
     "output_type": "stream",
     "text": [
      "100%|██████████████████████████████████████████████████████████████████████████████████| 80/80 [01:07<00:00,  1.19it/s]\n"
     ]
    },
    {
     "name": "stdout",
     "output_type": "stream",
     "text": [
      "# of run cell using time shift shuffle method: 28.0 / 80\n",
      "M10032maze1Day5\n",
      "115    Z:/miniscope_recording/maze/4_21_2020/10032H16...\n",
      "Name: recording_folder_local, dtype: object\n",
      "The maze is bidirectional, Ye!\n",
      "Node 1 is Decision point\n",
      "Node 2 is Leaf node\n",
      "Node 13 is Decision point\n",
      "Node 6 is Decision point\n",
      "Node 8 is Leaf node\n",
      "Node 17 is Decision point\n",
      "Node 28 is Leaf node\n",
      "Node 30 is Decision point\n",
      "Node 24 is Decision point\n",
      "Node 84 is Decision point\n",
      "Node 94 is Decision point\n",
      "Node 55 is Decision point\n",
      "Node 43 is Leaf node\n",
      "Node 54 is Decision point\n",
      "Node 53 is Leaf node\n",
      "Node 51 is Decision point\n",
      "Node 39 is Decision point\n",
      "Node 40 is Leaf node\n",
      "Node 97 is Decision point\n",
      "Node 86 is Leaf node\n",
      "Node 109 is Decision point\n",
      "Node 129 is Decision point\n",
      "Node 139 is Leaf node\n",
      "Node 142 is Decision point\n",
      "Node 130 is Decision point\n",
      "Node 120 is Leaf node\n",
      "Node 144 is Leaf node\n",
      "Node 143 is Leaf node\n",
      "Node 135 is Leaf node\n",
      "Node 52 is Leaf node\n",
      "Node 93 is Leaf node\n",
      "Node 96 is Leaf node\n",
      "Node 35 is Leaf node\n",
      "Node 41 is Leaf node\n",
      "Node 25 is Leaf node\n",
      "Shortest path =  1 13 14 26 27 15 3 4 5 6 18 17 29 30 31 19 20 21 9 10 11 12 24 23 22 34 33 32 44 45 46 47 48 60 59 58 57 56 68 69 70 71 72 84 83 95 94 82 81 80 92 104 103 91 90 78 79 67 55 54 66 65 64 63 75 74 62 50 51 39 38 37 49 61 73 85 97 109 110 122 123 111 112 100 99 87 88 76 77 89 101 102 114 113 125 124 136 137 138 126 127 115 116 117 129 141 142 130 131 132 144\n",
      "Shortest path =  1 13 14 26 27 15 3 4 5 6 18 17 29 30 31 19 20 21 9 10 11 12 24 23 22 34 33 32 44 45 46 47 48 60 59 58 57 56 68 69 70 71 72 84 83 95 94 82 81 80 92 104 103 91 90 78 79 67 55 54 66 65 64 63 75 74 62 50 51 39 38 37 49 61 73 85 97 109 110 122 123 111 112 100 99 87 88 76 77 89 101 102 114 113 125 124 136 137 138 126 127 115 116 117 129 141 142 130 131 132 144\n"
     ]
    },
    {
     "name": "stderr",
     "output_type": "stream",
     "text": [
      "100%|██████████████████████████████████████████████████████████████████████████████████| 87/87 [00:53<00:00,  1.62it/s]\n"
     ]
    },
    {
     "name": "stdout",
     "output_type": "stream",
     "text": [
      "# of place cell using time shift shuffle method: 32.0 / 87\n"
     ]
    },
    {
     "name": "stderr",
     "output_type": "stream",
     "text": [
      "100%|██████████████████████████████████████████████████████████████████████████████████| 87/87 [00:53<00:00,  1.62it/s]\n"
     ]
    },
    {
     "name": "stdout",
     "output_type": "stream",
     "text": [
      "# of run cell using time shift shuffle method: 18.0 / 87\n",
      "M10032maze1Day6\n",
      "116    Z:/miniscope_recording/maze/4_22_2020/10032H14...\n",
      "Name: recording_folder_local, dtype: object\n",
      "The maze is bidirectional, Ye!\n",
      "Node 1 is Decision point\n",
      "Node 2 is Leaf node\n",
      "Node 13 is Decision point\n",
      "Node 6 is Decision point\n",
      "Node 8 is Leaf node\n",
      "Node 17 is Decision point\n",
      "Node 28 is Leaf node\n",
      "Node 30 is Decision point\n",
      "Node 24 is Decision point\n",
      "Node 84 is Decision point\n",
      "Node 94 is Decision point\n",
      "Node 55 is Decision point\n",
      "Node 43 is Leaf node\n",
      "Node 54 is Decision point\n",
      "Node 53 is Leaf node\n",
      "Node 51 is Decision point\n",
      "Node 39 is Decision point\n",
      "Node 40 is Leaf node\n",
      "Node 97 is Decision point\n",
      "Node 86 is Leaf node\n",
      "Node 109 is Decision point\n",
      "Node 129 is Decision point\n",
      "Node 139 is Leaf node\n",
      "Node 142 is Decision point\n",
      "Node 130 is Decision point\n",
      "Node 120 is Leaf node\n",
      "Node 144 is Leaf node\n",
      "Node 143 is Leaf node\n",
      "Node 135 is Leaf node\n",
      "Node 52 is Leaf node\n",
      "Node 93 is Leaf node\n",
      "Node 96 is Leaf node\n",
      "Node 35 is Leaf node\n",
      "Node 41 is Leaf node\n",
      "Node 25 is Leaf node\n",
      "Shortest path =  1 13 14 26 27 15 3 4 5 6 18 17 29 30 31 19 20 21 9 10 11 12 24 23 22 34 33 32 44 45 46 47 48 60 59 58 57 56 68 69 70 71 72 84 83 95 94 82 81 80 92 104 103 91 90 78 79 67 55 54 66 65 64 63 75 74 62 50 51 39 38 37 49 61 73 85 97 109 110 122 123 111 112 100 99 87 88 76 77 89 101 102 114 113 125 124 136 137 138 126 127 115 116 117 129 141 142 130 131 132 144\n",
      "Shortest path =  1 13 14 26 27 15 3 4 5 6 18 17 29 30 31 19 20 21 9 10 11 12 24 23 22 34 33 32 44 45 46 47 48 60 59 58 57 56 68 69 70 71 72 84 83 95 94 82 81 80 92 104 103 91 90 78 79 67 55 54 66 65 64 63 75 74 62 50 51 39 38 37 49 61 73 85 97 109 110 122 123 111 112 100 99 87 88 76 77 89 101 102 114 113 125 124 136 137 138 126 127 115 116 117 129 141 142 130 131 132 144\n"
     ]
    },
    {
     "name": "stderr",
     "output_type": "stream",
     "text": [
      "100%|██████████████████████████████████████████████████████████████████████████████████| 39/39 [00:11<00:00,  3.49it/s]\n"
     ]
    },
    {
     "name": "stdout",
     "output_type": "stream",
     "text": [
      "# of place cell using time shift shuffle method: 5.0 / 39\n"
     ]
    },
    {
     "name": "stderr",
     "output_type": "stream",
     "text": [
      "100%|██████████████████████████████████████████████████████████████████████████████████| 39/39 [00:12<00:00,  3.22it/s]\n"
     ]
    },
    {
     "name": "stdout",
     "output_type": "stream",
     "text": [
      "# of run cell using time shift shuffle method: 5.0 / 39\n",
      "M10032maze1Day7\n",
      "117    Z:/miniscope_recording/maze/4_23_2020/10032H14...\n",
      "Name: recording_folder_local, dtype: object\n",
      "The maze is bidirectional, Ye!\n",
      "Node 1 is Decision point\n",
      "Node 2 is Leaf node\n",
      "Node 13 is Decision point\n",
      "Node 6 is Decision point\n",
      "Node 8 is Leaf node\n",
      "Node 17 is Decision point\n",
      "Node 28 is Leaf node\n",
      "Node 30 is Decision point\n",
      "Node 24 is Decision point\n",
      "Node 84 is Decision point\n",
      "Node 94 is Decision point\n",
      "Node 55 is Decision point\n",
      "Node 43 is Leaf node\n",
      "Node 54 is Decision point\n",
      "Node 53 is Leaf node\n",
      "Node 51 is Decision point\n",
      "Node 39 is Decision point\n",
      "Node 40 is Leaf node\n",
      "Node 97 is Decision point\n",
      "Node 86 is Leaf node\n",
      "Node 109 is Decision point\n",
      "Node 129 is Decision point\n",
      "Node 139 is Leaf node\n",
      "Node 142 is Decision point\n",
      "Node 130 is Decision point\n",
      "Node 120 is Leaf node\n",
      "Node 144 is Leaf node\n",
      "Node 143 is Leaf node\n",
      "Node 135 is Leaf node\n",
      "Node 52 is Leaf node\n",
      "Node 93 is Leaf node\n",
      "Node 96 is Leaf node\n",
      "Node 35 is Leaf node\n",
      "Node 41 is Leaf node\n",
      "Node 25 is Leaf node\n",
      "Shortest path =  1 13 14 26 27 15 3 4 5 6 18 17 29 30 31 19 20 21 9 10 11 12 24 23 22 34 33 32 44 45 46 47 48 60 59 58 57 56 68 69 70 71 72 84 83 95 94 82 81 80 92 104 103 91 90 78 79 67 55 54 66 65 64 63 75 74 62 50 51 39 38 37 49 61 73 85 97 109 110 122 123 111 112 100 99 87 88 76 77 89 101 102 114 113 125 124 136 137 138 126 127 115 116 117 129 141 142 130 131 132 144\n",
      "Shortest path =  1 13 14 26 27 15 3 4 5 6 18 17 29 30 31 19 20 21 9 10 11 12 24 23 22 34 33 32 44 45 46 47 48 60 59 58 57 56 68 69 70 71 72 84 83 95 94 82 81 80 92 104 103 91 90 78 79 67 55 54 66 65 64 63 75 74 62 50 51 39 38 37 49 61 73 85 97 109 110 122 123 111 112 100 99 87 88 76 77 89 101 102 114 113 125 124 136 137 138 126 127 115 116 117 129 141 142 130 131 132 144\n"
     ]
    },
    {
     "name": "stderr",
     "output_type": "stream",
     "text": [
      "100%|██████████████████████████████████████████████████████████████████████████████████| 55/55 [00:15<00:00,  3.60it/s]\n"
     ]
    },
    {
     "name": "stdout",
     "output_type": "stream",
     "text": [
      "# of place cell using time shift shuffle method: 3.0 / 55\n"
     ]
    },
    {
     "name": "stderr",
     "output_type": "stream",
     "text": [
      "100%|██████████████████████████████████████████████████████████████████████████████████| 55/55 [00:16<00:00,  3.28it/s]\n"
     ]
    },
    {
     "name": "stdout",
     "output_type": "stream",
     "text": [
      "# of run cell using time shift shuffle method: 1.0 / 55\n",
      "M10032maze1Day8\n",
      "118    Z:/miniscope_recording/maze/4_24_2020/10032H15...\n",
      "Name: recording_folder_local, dtype: object\n",
      "The maze is bidirectional, Ye!\n",
      "Node 1 is Decision point\n",
      "Node 2 is Leaf node\n",
      "Node 13 is Decision point\n",
      "Node 6 is Decision point\n",
      "Node 8 is Leaf node\n",
      "Node 17 is Decision point\n",
      "Node 28 is Leaf node\n",
      "Node 30 is Decision point\n",
      "Node 24 is Decision point\n",
      "Node 84 is Decision point\n",
      "Node 94 is Decision point\n",
      "Node 55 is Decision point\n",
      "Node 43 is Leaf node\n",
      "Node 54 is Decision point\n",
      "Node 53 is Leaf node\n",
      "Node 51 is Decision point\n",
      "Node 39 is Decision point\n",
      "Node 40 is Leaf node\n",
      "Node 97 is Decision point\n",
      "Node 86 is Leaf node\n",
      "Node 109 is Decision point\n",
      "Node 129 is Decision point\n",
      "Node 139 is Leaf node\n",
      "Node 142 is Decision point\n",
      "Node 130 is Decision point\n",
      "Node 120 is Leaf node\n",
      "Node 144 is Leaf node\n",
      "Node 143 is Leaf node\n",
      "Node 135 is Leaf node\n",
      "Node 52 is Leaf node\n",
      "Node 93 is Leaf node\n",
      "Node 96 is Leaf node\n",
      "Node 35 is Leaf node\n",
      "Node 41 is Leaf node\n",
      "Node 25 is Leaf node\n",
      "Shortest path =  1 13 14 26 27 15 3 4 5 6 18 17 29 30 31 19 20 21 9 10 11 12 24 23 22 34 33 32 44 45 46 47 48 60 59 58 57 56 68 69 70 71 72 84 83 95 94 82 81 80 92 104 103 91 90 78 79 67 55 54 66 65 64 63 75 74 62 50 51 39 38 37 49 61 73 85 97 109 110 122 123 111 112 100 99 87 88 76 77 89 101 102 114 113 125 124 136 137 138 126 127 115 116 117 129 141 142 130 131 132 144\n",
      "Shortest path =  1 13 14 26 27 15 3 4 5 6 18 17 29 30 31 19 20 21 9 10 11 12 24 23 22 34 33 32 44 45 46 47 48 60 59 58 57 56 68 69 70 71 72 84 83 95 94 82 81 80 92 104 103 91 90 78 79 67 55 54 66 65 64 63 75 74 62 50 51 39 38 37 49 61 73 85 97 109 110 122 123 111 112 100 99 87 88 76 77 89 101 102 114 113 125 124 136 137 138 126 127 115 116 117 129 141 142 130 131 132 144\n"
     ]
    },
    {
     "name": "stderr",
     "output_type": "stream",
     "text": [
      "100%|██████████████████████████████████████████████████████████████████████████████████| 92/92 [00:23<00:00,  3.87it/s]\n"
     ]
    },
    {
     "name": "stdout",
     "output_type": "stream",
     "text": [
      "# of place cell using time shift shuffle method: 9.0 / 92\n"
     ]
    },
    {
     "name": "stderr",
     "output_type": "stream",
     "text": [
      "100%|██████████████████████████████████████████████████████████████████████████████████| 92/92 [00:26<00:00,  3.49it/s]\n"
     ]
    },
    {
     "name": "stdout",
     "output_type": "stream",
     "text": [
      "# of run cell using time shift shuffle method: 6.0 / 92\n",
      "M10032maze1Day9\n",
      "119    Z:/miniscope_recording/maze/4_25_2020/10032H15...\n",
      "Name: recording_folder_local, dtype: object\n",
      "The maze is bidirectional, Ye!\n",
      "Node 1 is Decision point\n",
      "Node 2 is Leaf node\n",
      "Node 13 is Decision point\n",
      "Node 6 is Decision point\n",
      "Node 8 is Leaf node\n",
      "Node 17 is Decision point\n",
      "Node 28 is Leaf node\n",
      "Node 30 is Decision point\n",
      "Node 24 is Decision point\n",
      "Node 84 is Decision point\n",
      "Node 94 is Decision point\n",
      "Node 55 is Decision point\n",
      "Node 43 is Leaf node\n",
      "Node 54 is Decision point\n",
      "Node 53 is Leaf node\n",
      "Node 51 is Decision point\n",
      "Node 39 is Decision point\n",
      "Node 40 is Leaf node\n",
      "Node 97 is Decision point\n",
      "Node 86 is Leaf node\n",
      "Node 109 is Decision point\n",
      "Node 129 is Decision point\n",
      "Node 139 is Leaf node\n",
      "Node 142 is Decision point\n",
      "Node 130 is Decision point\n",
      "Node 120 is Leaf node\n",
      "Node 144 is Leaf node\n",
      "Node 143 is Leaf node\n",
      "Node 135 is Leaf node\n",
      "Node 52 is Leaf node\n",
      "Node 93 is Leaf node\n",
      "Node 96 is Leaf node\n",
      "Node 35 is Leaf node\n",
      "Node 41 is Leaf node\n",
      "Node 25 is Leaf node\n",
      "Shortest path =  1 13 14 26 27 15 3 4 5 6 18 17 29 30 31 19 20 21 9 10 11 12 24 23 22 34 33 32 44 45 46 47 48 60 59 58 57 56 68 69 70 71 72 84 83 95 94 82 81 80 92 104 103 91 90 78 79 67 55 54 66 65 64 63 75 74 62 50 51 39 38 37 49 61 73 85 97 109 110 122 123 111 112 100 99 87 88 76 77 89 101 102 114 113 125 124 136 137 138 126 127 115 116 117 129 141 142 130 131 132 144\n",
      "Shortest path =  1 13 14 26 27 15 3 4 5 6 18 17 29 30 31 19 20 21 9 10 11 12 24 23 22 34 33 32 44 45 46 47 48 60 59 58 57 56 68 69 70 71 72 84 83 95 94 82 81 80 92 104 103 91 90 78 79 67 55 54 66 65 64 63 75 74 62 50 51 39 38 37 49 61 73 85 97 109 110 122 123 111 112 100 99 87 88 76 77 89 101 102 114 113 125 124 136 137 138 126 127 115 116 117 129 141 142 130 131 132 144\n"
     ]
    },
    {
     "name": "stderr",
     "output_type": "stream",
     "text": [
      "100%|██████████████████████████████████████████████████████████████████████████████████| 31/31 [00:08<00:00,  3.84it/s]\n"
     ]
    },
    {
     "name": "stdout",
     "output_type": "stream",
     "text": [
      "# of place cell using time shift shuffle method: 4.0 / 31\n"
     ]
    },
    {
     "name": "stderr",
     "output_type": "stream",
     "text": [
      "100%|██████████████████████████████████████████████████████████████████████████████████| 31/31 [00:08<00:00,  3.45it/s]\n"
     ]
    },
    {
     "name": "stdout",
     "output_type": "stream",
     "text": [
      "# of run cell using time shift shuffle method: 3.0 / 31\n",
      "M10033maze1Day1\n",
      "144    Z:/miniscope_recording/maze/4_18_2020/10033H12...\n",
      "Name: recording_folder_local, dtype: object\n",
      "The maze is bidirectional, Ye!\n",
      "Node 1 is Decision point\n",
      "Node 2 is Leaf node\n",
      "Node 13 is Decision point\n",
      "Node 6 is Decision point\n",
      "Node 8 is Leaf node\n",
      "Node 17 is Decision point\n",
      "Node 28 is Leaf node\n",
      "Node 30 is Decision point\n",
      "Node 24 is Decision point\n",
      "Node 84 is Decision point\n",
      "Node 94 is Decision point\n",
      "Node 55 is Decision point\n",
      "Node 43 is Leaf node\n",
      "Node 54 is Decision point\n",
      "Node 53 is Leaf node\n",
      "Node 51 is Decision point\n",
      "Node 39 is Decision point\n",
      "Node 40 is Leaf node\n",
      "Node 97 is Decision point\n",
      "Node 86 is Leaf node\n",
      "Node 109 is Decision point\n",
      "Node 129 is Decision point\n",
      "Node 139 is Leaf node\n",
      "Node 142 is Decision point\n",
      "Node 130 is Decision point\n",
      "Node 120 is Leaf node\n",
      "Node 144 is Leaf node\n",
      "Node 143 is Leaf node\n",
      "Node 135 is Leaf node\n",
      "Node 52 is Leaf node\n",
      "Node 93 is Leaf node\n",
      "Node 96 is Leaf node\n",
      "Node 35 is Leaf node\n",
      "Node 41 is Leaf node\n",
      "Node 25 is Leaf node\n",
      "Shortest path =  1 13 14 26 27 15 3 4 5 6 18 17 29 30 31 19 20 21 9 10 11 12 24 23 22 34 33 32 44 45 46 47 48 60 59 58 57 56 68 69 70 71 72 84 83 95 94 82 81 80 92 104 103 91 90 78 79 67 55 54 66 65 64 63 75 74 62 50 51 39 38 37 49 61 73 85 97 109 110 122 123 111 112 100 99 87 88 76 77 89 101 102 114 113 125 124 136 137 138 126 127 115 116 117 129 141 142 130 131 132 144\n",
      "Shortest path =  1 13 14 26 27 15 3 4 5 6 18 17 29 30 31 19 20 21 9 10 11 12 24 23 22 34 33 32 44 45 46 47 48 60 59 58 57 56 68 69 70 71 72 84 83 95 94 82 81 80 92 104 103 91 90 78 79 67 55 54 66 65 64 63 75 74 62 50 51 39 38 37 49 61 73 85 97 109 110 122 123 111 112 100 99 87 88 76 77 89 101 102 114 113 125 124 136 137 138 126 127 115 116 117 129 141 142 130 131 132 144\n"
     ]
    },
    {
     "name": "stderr",
     "output_type": "stream",
     "text": [
      "100%|██████████████████████████████████████████████████████████████████████████████████| 47/47 [03:24<00:00,  4.36s/it]\n"
     ]
    },
    {
     "name": "stdout",
     "output_type": "stream",
     "text": [
      "# of place cell using time shift shuffle method: 23.0 / 47\n"
     ]
    },
    {
     "name": "stderr",
     "output_type": "stream",
     "text": [
      "100%|██████████████████████████████████████████████████████████████████████████████████| 47/47 [03:19<00:00,  4.24s/it]\n"
     ]
    },
    {
     "name": "stdout",
     "output_type": "stream",
     "text": [
      "# of run cell using time shift shuffle method: 22.0 / 47\n",
      "M10033maze1Day2\n",
      "145    Z:/miniscope_recording/maze/4_19_2020/10033H14...\n",
      "Name: recording_folder_local, dtype: object\n",
      "The maze is bidirectional, Ye!\n",
      "Node 1 is Decision point\n",
      "Node 2 is Leaf node\n",
      "Node 13 is Decision point\n",
      "Node 6 is Decision point\n",
      "Node 8 is Leaf node\n",
      "Node 17 is Decision point\n",
      "Node 28 is Leaf node\n",
      "Node 30 is Decision point\n",
      "Node 24 is Decision point\n",
      "Node 84 is Decision point\n",
      "Node 94 is Decision point\n",
      "Node 55 is Decision point\n",
      "Node 43 is Leaf node\n",
      "Node 54 is Decision point\n",
      "Node 53 is Leaf node\n",
      "Node 51 is Decision point\n",
      "Node 39 is Decision point\n",
      "Node 40 is Leaf node\n",
      "Node 97 is Decision point\n",
      "Node 86 is Leaf node\n",
      "Node 109 is Decision point\n",
      "Node 129 is Decision point\n",
      "Node 139 is Leaf node\n",
      "Node 142 is Decision point\n",
      "Node 130 is Decision point\n",
      "Node 120 is Leaf node\n",
      "Node 144 is Leaf node\n",
      "Node 143 is Leaf node\n",
      "Node 135 is Leaf node\n",
      "Node 52 is Leaf node\n",
      "Node 93 is Leaf node\n",
      "Node 96 is Leaf node\n",
      "Node 35 is Leaf node\n",
      "Node 41 is Leaf node\n",
      "Node 25 is Leaf node\n",
      "Shortest path =  1 13 14 26 27 15 3 4 5 6 18 17 29 30 31 19 20 21 9 10 11 12 24 23 22 34 33 32 44 45 46 47 48 60 59 58 57 56 68 69 70 71 72 84 83 95 94 82 81 80 92 104 103 91 90 78 79 67 55 54 66 65 64 63 75 74 62 50 51 39 38 37 49 61 73 85 97 109 110 122 123 111 112 100 99 87 88 76 77 89 101 102 114 113 125 124 136 137 138 126 127 115 116 117 129 141 142 130 131 132 144\n",
      "Shortest path =  1 13 14 26 27 15 3 4 5 6 18 17 29 30 31 19 20 21 9 10 11 12 24 23 22 34 33 32 44 45 46 47 48 60 59 58 57 56 68 69 70 71 72 84 83 95 94 82 81 80 92 104 103 91 90 78 79 67 55 54 66 65 64 63 75 74 62 50 51 39 38 37 49 61 73 85 97 109 110 122 123 111 112 100 99 87 88 76 77 89 101 102 114 113 125 124 136 137 138 126 127 115 116 117 129 141 142 130 131 132 144\n"
     ]
    },
    {
     "name": "stderr",
     "output_type": "stream",
     "text": [
      "100%|████████████████████████████████████████████████████████████████████████████████████| 3/3 [00:03<00:00,  1.13s/it]\n"
     ]
    },
    {
     "name": "stdout",
     "output_type": "stream",
     "text": [
      "# of place cell using time shift shuffle method: 0.0 / 3\n"
     ]
    },
    {
     "name": "stderr",
     "output_type": "stream",
     "text": [
      "100%|████████████████████████████████████████████████████████████████████████████████████| 3/3 [00:03<00:00,  1.12s/it]\n"
     ]
    },
    {
     "name": "stdout",
     "output_type": "stream",
     "text": [
      "# of run cell using time shift shuffle method: 0.0 / 3\n",
      "M10033maze1Day3\n",
      "146    Z:/miniscope_recording/maze/4_20_2020/10033H15...\n",
      "Name: recording_folder_local, dtype: object\n",
      "The maze is bidirectional, Ye!\n",
      "Node 1 is Decision point\n",
      "Node 2 is Leaf node\n",
      "Node 13 is Decision point\n",
      "Node 6 is Decision point\n",
      "Node 8 is Leaf node\n",
      "Node 17 is Decision point\n",
      "Node 28 is Leaf node\n",
      "Node 30 is Decision point\n",
      "Node 24 is Decision point\n",
      "Node 84 is Decision point\n",
      "Node 94 is Decision point\n",
      "Node 55 is Decision point\n",
      "Node 43 is Leaf node\n",
      "Node 54 is Decision point\n",
      "Node 53 is Leaf node\n",
      "Node 51 is Decision point\n",
      "Node 39 is Decision point\n",
      "Node 40 is Leaf node\n",
      "Node 97 is Decision point\n",
      "Node 86 is Leaf node\n",
      "Node 109 is Decision point\n",
      "Node 129 is Decision point\n",
      "Node 139 is Leaf node\n",
      "Node 142 is Decision point\n",
      "Node 130 is Decision point\n",
      "Node 120 is Leaf node\n",
      "Node 144 is Leaf node\n",
      "Node 143 is Leaf node\n",
      "Node 135 is Leaf node\n",
      "Node 52 is Leaf node\n",
      "Node 93 is Leaf node\n",
      "Node 96 is Leaf node\n",
      "Node 35 is Leaf node\n",
      "Node 41 is Leaf node\n",
      "Node 25 is Leaf node\n",
      "Shortest path =  1 13 14 26 27 15 3 4 5 6 18 17 29 30 31 19 20 21 9 10 11 12 24 23 22 34 33 32 44 45 46 47 48 60 59 58 57 56 68 69 70 71 72 84 83 95 94 82 81 80 92 104 103 91 90 78 79 67 55 54 66 65 64 63 75 74 62 50 51 39 38 37 49 61 73 85 97 109 110 122 123 111 112 100 99 87 88 76 77 89 101 102 114 113 125 124 136 137 138 126 127 115 116 117 129 141 142 130 131 132 144\n",
      "Shortest path =  1 13 14 26 27 15 3 4 5 6 18 17 29 30 31 19 20 21 9 10 11 12 24 23 22 34 33 32 44 45 46 47 48 60 59 58 57 56 68 69 70 71 72 84 83 95 94 82 81 80 92 104 103 91 90 78 79 67 55 54 66 65 64 63 75 74 62 50 51 39 38 37 49 61 73 85 97 109 110 122 123 111 112 100 99 87 88 76 77 89 101 102 114 113 125 124 136 137 138 126 127 115 116 117 129 141 142 130 131 132 144\n"
     ]
    },
    {
     "name": "stderr",
     "output_type": "stream",
     "text": [
      "100%|██████████████████████████████████████████████████████████████████████████████████| 22/22 [00:18<00:00,  1.20it/s]\n"
     ]
    },
    {
     "name": "stdout",
     "output_type": "stream",
     "text": [
      "# of place cell using time shift shuffle method: 2.0 / 22\n"
     ]
    },
    {
     "name": "stderr",
     "output_type": "stream",
     "text": [
      "100%|██████████████████████████████████████████████████████████████████████████████████| 22/22 [00:18<00:00,  1.20it/s]\n"
     ]
    },
    {
     "name": "stdout",
     "output_type": "stream",
     "text": [
      "# of run cell using time shift shuffle method: 1.0 / 22\n",
      "M10033maze1Day4\n",
      "147    Z:/miniscope_recording/maze/4_21_2020/10033H14...\n",
      "Name: recording_folder_local, dtype: object\n",
      "The maze is bidirectional, Ye!\n",
      "Node 1 is Decision point\n",
      "Node 2 is Leaf node\n",
      "Node 13 is Decision point\n",
      "Node 6 is Decision point\n",
      "Node 8 is Leaf node\n",
      "Node 17 is Decision point\n",
      "Node 28 is Leaf node\n",
      "Node 30 is Decision point\n",
      "Node 24 is Decision point\n",
      "Node 84 is Decision point\n",
      "Node 94 is Decision point\n",
      "Node 55 is Decision point\n",
      "Node 43 is Leaf node\n",
      "Node 54 is Decision point\n",
      "Node 53 is Leaf node\n",
      "Node 51 is Decision point\n",
      "Node 39 is Decision point\n",
      "Node 40 is Leaf node\n",
      "Node 97 is Decision point\n",
      "Node 86 is Leaf node\n",
      "Node 109 is Decision point\n",
      "Node 129 is Decision point\n",
      "Node 139 is Leaf node\n",
      "Node 142 is Decision point\n",
      "Node 130 is Decision point\n",
      "Node 120 is Leaf node\n",
      "Node 144 is Leaf node\n",
      "Node 143 is Leaf node\n",
      "Node 135 is Leaf node\n",
      "Node 52 is Leaf node\n",
      "Node 93 is Leaf node\n",
      "Node 96 is Leaf node\n",
      "Node 35 is Leaf node\n",
      "Node 41 is Leaf node\n",
      "Node 25 is Leaf node\n",
      "Shortest path =  1 13 14 26 27 15 3 4 5 6 18 17 29 30 31 19 20 21 9 10 11 12 24 23 22 34 33 32 44 45 46 47 48 60 59 58 57 56 68 69 70 71 72 84 83 95 94 82 81 80 92 104 103 91 90 78 79 67 55 54 66 65 64 63 75 74 62 50 51 39 38 37 49 61 73 85 97 109 110 122 123 111 112 100 99 87 88 76 77 89 101 102 114 113 125 124 136 137 138 126 127 115 116 117 129 141 142 130 131 132 144\n",
      "Shortest path =  1 13 14 26 27 15 3 4 5 6 18 17 29 30 31 19 20 21 9 10 11 12 24 23 22 34 33 32 44 45 46 47 48 60 59 58 57 56 68 69 70 71 72 84 83 95 94 82 81 80 92 104 103 91 90 78 79 67 55 54 66 65 64 63 75 74 62 50 51 39 38 37 49 61 73 85 97 109 110 122 123 111 112 100 99 87 88 76 77 89 101 102 114 113 125 124 136 137 138 126 127 115 116 117 129 141 142 130 131 132 144\n"
     ]
    },
    {
     "name": "stderr",
     "output_type": "stream",
     "text": [
      "100%|██████████████████████████████████████████████████████████████████████████████████| 19/19 [00:15<00:00,  1.23it/s]\n"
     ]
    },
    {
     "name": "stdout",
     "output_type": "stream",
     "text": [
      "# of place cell using time shift shuffle method: 1.0 / 19\n"
     ]
    },
    {
     "name": "stderr",
     "output_type": "stream",
     "text": [
      "100%|██████████████████████████████████████████████████████████████████████████████████| 19/19 [00:15<00:00,  1.22it/s]\n"
     ]
    },
    {
     "name": "stdout",
     "output_type": "stream",
     "text": [
      "# of run cell using time shift shuffle method: 1.0 / 19\n",
      "M10033maze1Day5\n",
      "148    Z:/miniscope_recording/maze/4_22_2020/10033H14...\n",
      "Name: recording_folder_local, dtype: object\n",
      "The maze is bidirectional, Ye!\n",
      "Node 1 is Decision point\n",
      "Node 2 is Leaf node\n",
      "Node 13 is Decision point\n",
      "Node 6 is Decision point\n",
      "Node 8 is Leaf node\n",
      "Node 17 is Decision point\n",
      "Node 28 is Leaf node\n",
      "Node 30 is Decision point\n",
      "Node 24 is Decision point\n",
      "Node 84 is Decision point\n",
      "Node 94 is Decision point\n",
      "Node 55 is Decision point\n",
      "Node 43 is Leaf node\n",
      "Node 54 is Decision point\n",
      "Node 53 is Leaf node\n",
      "Node 51 is Decision point\n",
      "Node 39 is Decision point\n",
      "Node 40 is Leaf node\n",
      "Node 97 is Decision point\n",
      "Node 86 is Leaf node\n",
      "Node 109 is Decision point\n",
      "Node 129 is Decision point\n",
      "Node 139 is Leaf node\n",
      "Node 142 is Decision point\n",
      "Node 130 is Decision point\n",
      "Node 120 is Leaf node\n",
      "Node 144 is Leaf node\n",
      "Node 143 is Leaf node\n",
      "Node 135 is Leaf node\n",
      "Node 52 is Leaf node\n",
      "Node 93 is Leaf node\n",
      "Node 96 is Leaf node\n",
      "Node 35 is Leaf node\n",
      "Node 41 is Leaf node\n",
      "Node 25 is Leaf node\n",
      "Shortest path =  1 13 14 26 27 15 3 4 5 6 18 17 29 30 31 19 20 21 9 10 11 12 24 23 22 34 33 32 44 45 46 47 48 60 59 58 57 56 68 69 70 71 72 84 83 95 94 82 81 80 92 104 103 91 90 78 79 67 55 54 66 65 64 63 75 74 62 50 51 39 38 37 49 61 73 85 97 109 110 122 123 111 112 100 99 87 88 76 77 89 101 102 114 113 125 124 136 137 138 126 127 115 116 117 129 141 142 130 131 132 144\n",
      "Shortest path =  1 13 14 26 27 15 3 4 5 6 18 17 29 30 31 19 20 21 9 10 11 12 24 23 22 34 33 32 44 45 46 47 48 60 59 58 57 56 68 69 70 71 72 84 83 95 94 82 81 80 92 104 103 91 90 78 79 67 55 54 66 65 64 63 75 74 62 50 51 39 38 37 49 61 73 85 97 109 110 122 123 111 112 100 99 87 88 76 77 89 101 102 114 113 125 124 136 137 138 126 127 115 116 117 129 141 142 130 131 132 144\n"
     ]
    },
    {
     "name": "stderr",
     "output_type": "stream",
     "text": [
      "100%|██████████████████████████████████████████████████████████████████████████████████| 11/11 [00:08<00:00,  1.25it/s]\n"
     ]
    },
    {
     "name": "stdout",
     "output_type": "stream",
     "text": [
      "# of place cell using time shift shuffle method: 2.0 / 11\n"
     ]
    },
    {
     "name": "stderr",
     "output_type": "stream",
     "text": [
      "100%|██████████████████████████████████████████████████████████████████████████████████| 11/11 [00:08<00:00,  1.24it/s]\n"
     ]
    },
    {
     "name": "stdout",
     "output_type": "stream",
     "text": [
      "# of run cell using time shift shuffle method: 0.0 / 11\n",
      "M10033maze1Day6\n",
      "149    Z:/miniscope_recording/maze/4_23_2020/10033H14...\n",
      "Name: recording_folder_local, dtype: object\n",
      "The maze is bidirectional, Ye!\n",
      "Node 1 is Decision point\n",
      "Node 2 is Leaf node\n",
      "Node 13 is Decision point\n",
      "Node 6 is Decision point\n",
      "Node 8 is Leaf node\n",
      "Node 17 is Decision point\n",
      "Node 28 is Leaf node\n",
      "Node 30 is Decision point\n",
      "Node 24 is Decision point\n",
      "Node 84 is Decision point\n",
      "Node 94 is Decision point\n",
      "Node 55 is Decision point\n",
      "Node 43 is Leaf node\n",
      "Node 54 is Decision point\n",
      "Node 53 is Leaf node\n",
      "Node 51 is Decision point\n",
      "Node 39 is Decision point\n",
      "Node 40 is Leaf node\n",
      "Node 97 is Decision point\n",
      "Node 86 is Leaf node\n",
      "Node 109 is Decision point\n",
      "Node 129 is Decision point\n",
      "Node 139 is Leaf node\n",
      "Node 142 is Decision point\n",
      "Node 130 is Decision point\n",
      "Node 120 is Leaf node\n",
      "Node 144 is Leaf node\n",
      "Node 143 is Leaf node\n",
      "Node 135 is Leaf node\n",
      "Node 52 is Leaf node\n",
      "Node 93 is Leaf node\n",
      "Node 96 is Leaf node\n",
      "Node 35 is Leaf node\n",
      "Node 41 is Leaf node\n",
      "Node 25 is Leaf node\n",
      "Shortest path =  1 13 14 26 27 15 3 4 5 6 18 17 29 30 31 19 20 21 9 10 11 12 24 23 22 34 33 32 44 45 46 47 48 60 59 58 57 56 68 69 70 71 72 84 83 95 94 82 81 80 92 104 103 91 90 78 79 67 55 54 66 65 64 63 75 74 62 50 51 39 38 37 49 61 73 85 97 109 110 122 123 111 112 100 99 87 88 76 77 89 101 102 114 113 125 124 136 137 138 126 127 115 116 117 129 141 142 130 131 132 144\n",
      "Shortest path =  1 13 14 26 27 15 3 4 5 6 18 17 29 30 31 19 20 21 9 10 11 12 24 23 22 34 33 32 44 45 46 47 48 60 59 58 57 56 68 69 70 71 72 84 83 95 94 82 81 80 92 104 103 91 90 78 79 67 55 54 66 65 64 63 75 74 62 50 51 39 38 37 49 61 73 85 97 109 110 122 123 111 112 100 99 87 88 76 77 89 101 102 114 113 125 124 136 137 138 126 127 115 116 117 129 141 142 130 131 132 144\n"
     ]
    },
    {
     "name": "stderr",
     "output_type": "stream",
     "text": [
      "100%|██████████████████████████████████████████████████████████████████████████████████| 23/23 [00:11<00:00,  1.98it/s]\n"
     ]
    },
    {
     "name": "stdout",
     "output_type": "stream",
     "text": [
      "# of place cell using time shift shuffle method: 1.0 / 23\n"
     ]
    },
    {
     "name": "stderr",
     "output_type": "stream",
     "text": [
      "100%|██████████████████████████████████████████████████████████████████████████████████| 23/23 [00:12<00:00,  1.92it/s]\n"
     ]
    },
    {
     "name": "stdout",
     "output_type": "stream",
     "text": [
      "# of run cell using time shift shuffle method: 0.0 / 23\n",
      "M10033maze1Day7\n",
      "150    Z:/miniscope_recording/maze/4_24_2020/10033H14...\n",
      "Name: recording_folder_local, dtype: object\n",
      "The maze is bidirectional, Ye!\n",
      "Node 1 is Decision point\n",
      "Node 2 is Leaf node\n",
      "Node 13 is Decision point\n",
      "Node 6 is Decision point\n",
      "Node 8 is Leaf node\n",
      "Node 17 is Decision point\n",
      "Node 28 is Leaf node\n",
      "Node 30 is Decision point\n",
      "Node 24 is Decision point\n",
      "Node 84 is Decision point\n",
      "Node 94 is Decision point\n",
      "Node 55 is Decision point\n",
      "Node 43 is Leaf node\n",
      "Node 54 is Decision point\n",
      "Node 53 is Leaf node\n",
      "Node 51 is Decision point\n",
      "Node 39 is Decision point\n",
      "Node 40 is Leaf node\n",
      "Node 97 is Decision point\n",
      "Node 86 is Leaf node\n",
      "Node 109 is Decision point\n",
      "Node 129 is Decision point\n",
      "Node 139 is Leaf node\n",
      "Node 142 is Decision point\n",
      "Node 130 is Decision point\n",
      "Node 120 is Leaf node\n",
      "Node 144 is Leaf node\n",
      "Node 143 is Leaf node\n",
      "Node 135 is Leaf node\n",
      "Node 52 is Leaf node\n",
      "Node 93 is Leaf node\n",
      "Node 96 is Leaf node\n",
      "Node 35 is Leaf node\n",
      "Node 41 is Leaf node\n",
      "Node 25 is Leaf node\n",
      "Shortest path =  1 13 14 26 27 15 3 4 5 6 18 17 29 30 31 19 20 21 9 10 11 12 24 23 22 34 33 32 44 45 46 47 48 60 59 58 57 56 68 69 70 71 72 84 83 95 94 82 81 80 92 104 103 91 90 78 79 67 55 54 66 65 64 63 75 74 62 50 51 39 38 37 49 61 73 85 97 109 110 122 123 111 112 100 99 87 88 76 77 89 101 102 114 113 125 124 136 137 138 126 127 115 116 117 129 141 142 130 131 132 144\n",
      "Shortest path =  1 13 14 26 27 15 3 4 5 6 18 17 29 30 31 19 20 21 9 10 11 12 24 23 22 34 33 32 44 45 46 47 48 60 59 58 57 56 68 69 70 71 72 84 83 95 94 82 81 80 92 104 103 91 90 78 79 67 55 54 66 65 64 63 75 74 62 50 51 39 38 37 49 61 73 85 97 109 110 122 123 111 112 100 99 87 88 76 77 89 101 102 114 113 125 124 136 137 138 126 127 115 116 117 129 141 142 130 131 132 144\n"
     ]
    },
    {
     "name": "stderr",
     "output_type": "stream",
     "text": [
      "100%|██████████████████████████████████████████████████████████████████████████████████| 29/29 [00:22<00:00,  1.26it/s]\n"
     ]
    },
    {
     "name": "stdout",
     "output_type": "stream",
     "text": [
      "# of place cell using time shift shuffle method: 0.0 / 29\n"
     ]
    },
    {
     "name": "stderr",
     "output_type": "stream",
     "text": [
      "100%|██████████████████████████████████████████████████████████████████████████████████| 29/29 [00:23<00:00,  1.25it/s]\n"
     ]
    },
    {
     "name": "stdout",
     "output_type": "stream",
     "text": [
      "# of run cell using time shift shuffle method: 1.0 / 29\n",
      "M10033maze1Day8\n",
      "151    Z:/miniscope_recording/maze/4_25_2020/10033H15...\n",
      "Name: recording_folder_local, dtype: object\n",
      "The maze is bidirectional, Ye!\n",
      "Node 1 is Decision point\n",
      "Node 2 is Leaf node\n",
      "Node 13 is Decision point\n",
      "Node 6 is Decision point\n",
      "Node 8 is Leaf node\n",
      "Node 17 is Decision point\n",
      "Node 28 is Leaf node\n",
      "Node 30 is Decision point\n",
      "Node 24 is Decision point\n",
      "Node 84 is Decision point\n",
      "Node 94 is Decision point\n",
      "Node 55 is Decision point\n",
      "Node 43 is Leaf node\n",
      "Node 54 is Decision point\n",
      "Node 53 is Leaf node\n",
      "Node 51 is Decision point\n",
      "Node 39 is Decision point\n",
      "Node 40 is Leaf node\n",
      "Node 97 is Decision point\n",
      "Node 86 is Leaf node\n",
      "Node 109 is Decision point\n",
      "Node 129 is Decision point\n",
      "Node 139 is Leaf node\n",
      "Node 142 is Decision point\n",
      "Node 130 is Decision point\n",
      "Node 120 is Leaf node\n",
      "Node 144 is Leaf node\n",
      "Node 143 is Leaf node\n",
      "Node 135 is Leaf node\n",
      "Node 52 is Leaf node\n",
      "Node 93 is Leaf node\n",
      "Node 96 is Leaf node\n",
      "Node 35 is Leaf node\n",
      "Node 41 is Leaf node\n",
      "Node 25 is Leaf node\n",
      "Shortest path =  1 13 14 26 27 15 3 4 5 6 18 17 29 30 31 19 20 21 9 10 11 12 24 23 22 34 33 32 44 45 46 47 48 60 59 58 57 56 68 69 70 71 72 84 83 95 94 82 81 80 92 104 103 91 90 78 79 67 55 54 66 65 64 63 75 74 62 50 51 39 38 37 49 61 73 85 97 109 110 122 123 111 112 100 99 87 88 76 77 89 101 102 114 113 125 124 136 137 138 126 127 115 116 117 129 141 142 130 131 132 144\n",
      "Shortest path =  1 13 14 26 27 15 3 4 5 6 18 17 29 30 31 19 20 21 9 10 11 12 24 23 22 34 33 32 44 45 46 47 48 60 59 58 57 56 68 69 70 71 72 84 83 95 94 82 81 80 92 104 103 91 90 78 79 67 55 54 66 65 64 63 75 74 62 50 51 39 38 37 49 61 73 85 97 109 110 122 123 111 112 100 99 87 88 76 77 89 101 102 114 113 125 124 136 137 138 126 127 115 116 117 129 141 142 130 131 132 144\n"
     ]
    },
    {
     "name": "stderr",
     "output_type": "stream",
     "text": [
      "100%|██████████████████████████████████████████████████████████████████████████████████| 20/20 [00:11<00:00,  1.79it/s]\n"
     ]
    },
    {
     "name": "stdout",
     "output_type": "stream",
     "text": [
      "# of place cell using time shift shuffle method: 0.0 / 20\n"
     ]
    },
    {
     "name": "stderr",
     "output_type": "stream",
     "text": [
      "100%|██████████████████████████████████████████████████████████████████████████████████| 20/20 [00:11<00:00,  1.69it/s]"
     ]
    },
    {
     "name": "stdout",
     "output_type": "stream",
     "text": [
      "# of run cell using time shift shuffle method: 1.0 / 20\n"
     ]
    },
    {
     "name": "stderr",
     "output_type": "stream",
     "text": [
      "\n"
     ]
    }
   ],
   "source": [
    "# Loop over mice_name, maze_type and training_day\n",
    "for mice_name in mice_names:\n",
    "    # maze_type_set = set(data[data.name == mice_name][\"maze_type\"])\n",
    "    maze_type_set = {1}\n",
    "    \n",
    "    for maze_type in maze_type_set:\n",
    "        training_day_set = set(data[(data.name == mice_name) & (data.maze_type == maze_type)][\"training_day\"])\n",
    "\n",
    "        for i_day in training_day_set:\n",
    "            current_day = i_day\n",
    "            current_sign = \"M\" + str(mice_name)+\"maze\"+str(maze_type)+\"Day\"+str(current_day)\n",
    "            print(current_sign)\n",
    "            \n",
    "            folder =  data[(data.name == mice_name) & (data.training_day == current_day) & (data.maze_type == maze_type)][\"recording_folder_local\"]\n",
    "            print(folder)\n",
    "            \n",
    "            matfile = folder.values[0] + \"/\" + \"ms.mat\"\n",
    "            # read calcium data: ms.mat\n",
    "            with h5py.File(matfile, 'r') as f:\n",
    "                ms_mat = f['ms']\n",
    "                FiltTraces = np.array(ms_mat['FiltTraces'])\n",
    "                RawTraces = np.array(ms_mat['RawTraces'])\n",
    "                DeconvSignal = np.array(ms_mat['DeconvSignals'])\n",
    "                ms_time = np.array(ms_mat['time'])[0,]\n",
    "            # read behav data\n",
    "            decision_file = 'data/' + current_sign +'behav_decision.pkl'\n",
    "            with open(decision_file, 'rb') as handle:\n",
    "                correct_time, wrong_time, correct_time_percentage, decision_rate,time_levels, stop_time_mean, stop_time_median, speed_bin = pickle.load(handle)\n",
    "            behav_processed_file = 'data/' + current_sign +'behav_processed.pkl'\n",
    "            with open(behav_processed_file, 'rb') as handle:\n",
    "                behav_time_original, behav_nodes_interpolated, behav_dir = pickle.load(handle)\n",
    "\n",
    "            #### Preprocessing data\n",
    "            # remove no behav recording period\n",
    "            behav_mask = (ms_time>=behav_time_original[0]) & (ms_time<behav_time_original[-1])\n",
    "            FiltTraces_behav = FiltTraces[:,behav_mask]\n",
    "            RawTraces_behav = RawTraces[:,behav_mask]\n",
    "            DeconvSignal_behav = DeconvSignal[:,behav_mask]\n",
    "            ms_time_behav = ms_time[behav_mask]\n",
    "            # binarize neuron.S\n",
    "            deconv_sd = np.std(DeconvSignal_behav, axis = 1) * 3\n",
    "            Spikes = np.where(DeconvSignal_behav>np.repeat(deconv_sd[:,np.newaxis], DeconvSignal_behav.shape[1],1), 1, 0)\n",
    "\n",
    "            #### Incorporate maze structure to behavior trajectory: interpolation, etc..\n",
    "            # transform bin number, making upper right bin (1, 1)\n",
    "            nx = 12\n",
    "            ny = 12\n",
    "            graph = maze1_graph if maze_type==1 else maze2_graph\n",
    "            total_bin = nx*ny\n",
    "            start_node = 1\n",
    "            end_node = 144\n",
    "            test_maze = Maze(nx, ny, graph)\n",
    "            new_maze = test_maze.make_maze()\n",
    "            # new_maze = test_maze.make_maze() # no need to make_maze, already included in __init__()\n",
    "            shortest_path = test_maze.BFS_SP(graph, start_node, end_node)\n",
    "\n",
    "            #### Analyze calcium data\n",
    "            # spike per bin\n",
    "            spike_nodes = np.zeros_like(Spikes[0,:])\n",
    "            for i in range(0, len(spike_nodes)):\n",
    "                if ms_time_behav[i] < behav_time_original[0]:\n",
    "                    spike_nodes[i] = start_node;\n",
    "                else:\n",
    "                    match_index = np.where(behav_time_original <= ms_time_behav[i])[0][-1]\n",
    "                    spike_nodes[i] = behav_nodes_interpolated[match_index]\n",
    "            spike_bins = test_maze.idx_to_loc(spike_nodes-1)\n",
    "\n",
    "            # occupancy map, in ms\n",
    "            # Duration for each (X,Y) sample (clipped to maxGap)\n",
    "            maxGap = 100\n",
    "            stay_time = np.append(np.ediff1d(ms_time_behav),0)\n",
    "            stay_time[stay_time>maxGap] = maxGap\n",
    "            _nbins = total_bin\n",
    "            _coords_range = [0, _nbins +0.0001 ]\n",
    "            occu_time, xbin_edges, bin_numbers = scipy.stats.binned_statistic(\n",
    "                    spike_nodes,\n",
    "                    stay_time,\n",
    "                    bins=_nbins,\n",
    "                    statistic=\"sum\",\n",
    "                    range=_coords_range)\n",
    "\n",
    "            assert((bin_numbers == spike_nodes).all())\n",
    "            minimum_occu_thres = 50 # ms, occupancy time less than the threshold are set to NAN, preventing large spike rate\n",
    "            occu_time[occu_time<minimum_occu_thres] = np.nan\n",
    "            # rate map (for all neuron)\n",
    "            _nbins = total_bin\n",
    "            _coords_range = [0, _nbins +0.0001 ]\n",
    "            n_neuron = Spikes.shape[0]\n",
    "            spike_freq_all = np.zeros([n_neuron,total_bin])\n",
    "            rate_map_all =  np.zeros_like(spike_freq_all)\n",
    "            for i in range(n_neuron):\n",
    "                spike_freq_all[i,] ,_ ,_= scipy.stats.binned_statistic(\n",
    "                    spike_nodes,\n",
    "                    Spikes[i,:],\n",
    "                    bins=_nbins,\n",
    "                    statistic=\"sum\",\n",
    "                    range=_coords_range)\n",
    "                rate_map_all[i,] = spike_freq_all[i,]/(occu_time/1000+ 1E-9)\n",
    "\n",
    "            #### Calculate spatial information (all neurons) and shuffle (shift method)\n",
    "            t_total = np.nansum(occu_time)/1000 # total time of trial\n",
    "            t_nodes_frac = occu_time/1000/ (t_total+ 1E-6)   # time spent in ith bin/total session time\n",
    "            SI_all = np.zeros(n_neuron)\n",
    "            is_placecell_shift = np.zeros(n_neuron)\n",
    "            for i in tqdm(range(n_neuron)):\n",
    "                SI_all[i] = calc_SI(spikes=Spikes[i,], rate_map=rate_map_all[i,], t_total=t_total, t_nodes_frac=t_nodes_frac)\n",
    "                is_placecell_shift[i] = shuffle_test_shift(SI = SI_all[i], spikes = Spikes[i,], spike_nodes=spike_nodes, occu_time=occu_time, _coords_range=_coords_range)    \n",
    "            print(\"# of place cell using time shift shuffle method:\" ,np.sum(is_placecell_shift ),\"/\",n_neuron)\n",
    "\n",
    "            ## !! save data\n",
    "            mylist = [rate_map_all, is_placecell_shift, SI_all, spike_freq_all, occu_time]\n",
    "            with open('data/' + current_sign + \"ratemap.pkl\", 'wb') as f:\n",
    "                pickle.dump(mylist, f)\n",
    "\n",
    "\n",
    "            #### run selective %\n",
    "            ## spike node to runs\n",
    "            spike_runs = np.zeros_like(spike_nodes)\n",
    "            for i in range(len(spike_nodes)):\n",
    "                spike_runs[i] = node_to_run(spike_nodes[i], test_maze.runs)\n",
    "\n",
    "            ## occupancy map, in ms\n",
    "            _nruns = len(test_maze.runs)\n",
    "            _coords_range = [0, _nruns +0.0001 ]\n",
    "            occu_time_run, _, run_numbers = scipy.stats.binned_statistic(\n",
    "                    spike_runs,\n",
    "                    stay_time,\n",
    "                    bins=_nruns,\n",
    "                    statistic=\"sum\",\n",
    "                    range=_coords_range)\n",
    "            assert((run_numbers == spike_runs).all())\n",
    "            minimum_occu_thres = 50 # ms, occupancy time less than the threshold are set to NAN, preventing large spike rate\n",
    "            occu_time_run[occu_time_run<minimum_occu_thres] = np.nan\n",
    "\n",
    "            ## run rate map \n",
    "            ## sum rate map (for first neuron)\n",
    "            spikes = Spikes[0,:]\n",
    "            # spike_map: total spikes per nodes\n",
    "            spike_freq_run, xbin_edges, run_numbers = scipy.stats.binned_statistic(\n",
    "                    spike_runs,\n",
    "                    spikes,\n",
    "                    bins=_nruns,\n",
    "                    statistic=\"sum\",\n",
    "                    range=_coords_range)\n",
    "            rate_map_run = spike_freq_run/(occu_time_run/1000+ 1E-6) # ratemap: spike_map / occupancy_map\n",
    "            assert((run_numbers == spike_runs).all())\n",
    "\n",
    "            ## rate map for runs (for all neuron)\n",
    "            n_neuron = Spikes.shape[0]\n",
    "            spike_freq_run_all = np.zeros([n_neuron, _nruns])\n",
    "            rate_map_run_all =  np.zeros_like(spike_freq_run_all)\n",
    "            for i in range(n_neuron):\n",
    "                spike_freq_run_all[i,] ,_ ,_= scipy.stats.binned_statistic(\n",
    "                    spike_runs,\n",
    "                    Spikes[i,:],\n",
    "                    bins=_nruns,\n",
    "                    statistic=\"sum\",\n",
    "                    range=_coords_range)\n",
    "                rate_map_run_all[i,] = spike_freq_run_all[i,]/(occu_time_run/1000+ 1E-9)\n",
    "\n",
    "            ## spatial information for runs(all neurons)\n",
    "            t_runs_frac = occu_time_run/1000/ (t_total+ 1E-6)   # time spent in ith bin/total session time\n",
    "\n",
    "            # Shuffle: shift with a random constant\n",
    "            SI_run_all = np.zeros(n_neuron)\n",
    "            is_runcell_shift = np.zeros(n_neuron)\n",
    "\n",
    "            for i in tqdm(range(n_neuron)):\n",
    "                SI_run_all[i] = calc_SI(spikes=Spikes[i,], rate_map=rate_map_run_all[i,], t_total=t_total, t_nodes_frac=t_runs_frac)\n",
    "                is_runcell_shift[i] = shuffle_test_shift(SI = SI_run_all[i], spikes = Spikes[i,], spike_nodes=spike_runs, occu_time=occu_time_run, _coords_range=_coords_range, _nbins = _nruns)\n",
    "\n",
    "            print(\"# of run cell using time shift shuffle method:\", np.sum(is_runcell_shift), \"/\", n_neuron)\n",
    "\n",
    "            ## !! save data\n",
    "            mylist = [rate_map_run_all, is_runcell_shift, SI_run_all, spike_freq_run_all, occu_time_run]\n",
    "            with open('data/' + current_sign + \"ratemap_run.pkl\", 'wb') as f:\n",
    "                pickle.dump(mylist, f)\n"
   ]
  },
  {
   "cell_type": "code",
   "execution_count": 3,
   "metadata": {},
   "outputs": [
    {
     "name": "stderr",
     "output_type": "stream",
     "text": [
      "100%|████████████████████████████████████████████████████████████████████████████████| 144/144 [09:05<00:00,  3.79s/it]\n"
     ]
    }
   ],
   "source": [
    "SI_all = np.zeros(n_neuron)\n",
    "is_placecell_shift = np.zeros(n_neuron)\n",
    "\n",
    "for i in tqdm(range(n_neuron)):\n",
    "    SI_all[i] = calc_SI(spikes=Spikes[i,], rate_map=rate_map_all[i,], t_total=t_total, t_nodes_frac=t_nodes_frac)\n",
    "    is_placecell_shift[i] = shuffle_test_shift(SI = SI_all[i], spikes = Spikes[i,], spike_nodes=spike_nodes, occu_time=occu_time, _coords_range=_coords_range)"
   ]
  },
  {
   "cell_type": "code",
   "execution_count": 6,
   "metadata": {},
   "outputs": [
    {
     "name": "stdout",
     "output_type": "stream",
     "text": [
      "# of place cell using time shift shuffle method: 99.0 / 144\n",
      "# of place cell using time isi shuffle method: 135.0 / 144\n"
     ]
    }
   ],
   "source": [
    "print(\"# of place cell using time shift shuffle method:\" ,np.sum(is_placecell_shift ),\"/\",n_neuron)\n",
    "# print(\"# of place cell using time all shuffle method:\", np.sum(is_placecell_all ))\n",
    "print(\"# of place cell using time isi shuffle method:\", np.sum(is_placecell_isi ),\"/\",n_neuron)\n"
   ]
  },
  {
   "cell_type": "code",
   "execution_count": 14,
   "metadata": {},
   "outputs": [],
   "source": [
    "# plot ratemap 2d:\n",
    "# sorted by place cell first\n",
    "sort_by_place_cell = True\n",
    "filename = 'img_tmp/'+current_sign+'ratemap.pdf'\n",
    "# Sort by score if desired\n",
    "if sort_by_place_cell:\n",
    "    ordering = np.argsort(-np.array(is_placecell_shift))\n",
    "else:\n",
    "    ordering = range(n_neuron)\n",
    "# Plot\n",
    "cols = 8\n",
    "rows = int(np.ceil(n_neuron / cols))\n",
    "fig = plt.figure(figsize=(24, rows * 4))\n",
    "for i in range(n_neuron):\n",
    "    rf = plt.subplot(rows * 2, cols, i + 1)\n",
    "    if i < n_neuron:\n",
    "        index = ordering[i]\n",
    "        title = \"%d (%.2f)\" % (index, SI_all[index])\n",
    "        # Plot maze\n",
    "        # test_maze.maze_plot(axes = axes)\n",
    "        # Plot the activation maps\n",
    "        if is_placecell_shift[index] == 1:\n",
    "            title = title+\" PlaceCell\"\n",
    "            plot_ratemap(np.reshape(rate_map_all[index,], [12,12]), axes=rf, title=title)\n",
    "        else:\n",
    "            plot_ratemap(np.reshape(rate_map_all[index,], [12,12]), axes=rf, title=title)\n",
    "        # pl.colorbar()\n",
    "        rf.invert_yaxis()\n",
    "\n",
    "with PdfPages(filename, \"w\") as f:\n",
    "    plt.savefig(f, format=\"pdf\")\n",
    "    plt.close(fig)\n"
   ]
  },
  {
   "cell_type": "code",
   "execution_count": 84,
   "metadata": {},
   "outputs": [
    {
     "data": {
      "image/png": "[encoded data removed]",
      "text/plain": [
       "<Figure size 432x288 with 1 Axes>"
      ]
     },
     "metadata": {
      "needs_background": "light"
     },
     "output_type": "display_data"
    }
   ],
   "source": [
    "# plot ratemap 1d (all place cells):\n",
    "sort_by_nodes = True\n",
    "num_pc = int(sum(is_placecell_shift))\n",
    "rate_map_pc= rate_map_all[is_placecell_shift==1,]\n",
    "place_fields = np.nanargmax(rate_map_pc,axis=1)+1 # place field\n",
    "\n",
    "if sort_by_nodes:\n",
    "    ordering = np.argsort(np.nanargmax(rate_map_pc,axis=1))\n",
    "else:\n",
    "    ordering = range(num_pc)\n",
    "\n",
    "# normalize tuning curve to [0, 1]\n",
    "rate_map_pc_norm = sklearn.preprocessing.minmax_scale(rate_map_pc, feature_range=(0, 1), axis=1, copy=True)\n",
    "# plot\n",
    "plot_ratemap(rate_map_pc_norm[ordering,:][:,~np.isnan(rate_map_pc_norm[0,])])\n",
    "filename = 'img_tmp/'+current_sign+'_normratemap_1d.pdf'\n",
    "with PdfPages(filename, \"w\") as f:\n",
    "    plt.savefig(f, format=\"pdf\")\n",
    "    plt.close(fig)"
   ]
  },
  {
   "cell_type": "code",
   "execution_count": 85,
   "metadata": {},
   "outputs": [
    {
     "data": {
      "image/png": "[encoded data removed]",
      "text/plain": [
       "<Figure size 432x288 with 1 Axes>"
      ]
     },
     "metadata": {
      "needs_background": "light"
     },
     "output_type": "display_data"
    }
   ],
   "source": [
    "# ratemap 1d: orderd by shortest path\n",
    "sort_by_path = True\n",
    "num_pc = int(sum(is_placecell_shift))\n",
    "rate_map_pc= rate_map_all[is_placecell_shift==1,]\n",
    "len_shortest_path = len(test_maze.shortest_path)\n",
    "if sort_by_path:\n",
    "    non_shortest_path = list(np.setdiff1d(list(graph.keys()), test_maze.shortest_path))  \n",
    "    preferred_nodes = np.nanargmax(rate_map_pc,axis=1)+1 # place field\n",
    "    total_list = shortest_path + non_shortest_path\n",
    "    tmp_index = np.zeros(num_pc)\n",
    "    for i in range(num_pc):\n",
    "        tmp_index[i] =  np.where(total_list == preferred_nodes[i])[0]\n",
    "        \n",
    "    ordering = np.argsort(tmp_index)\n",
    "else:\n",
    "    ordering = range(num_pc)\n",
    "\n",
    "# normalize tuning curve to [0, 1]\n",
    "rate_map_pc_norm = sklearn.preprocessing.minmax_scale(rate_map_pc, feature_range=(0, 1), axis=1, copy=True)\n",
    "plt.axvline(len_shortest_path, color = \"red\")\n",
    "# plot\n",
    "rate_map_ordered = rate_map_pc_norm[ordering,:][:,np.array(total_list)-1]\n",
    "plot_ratemap(rate_map_ordered[:,~np.isnan(rate_map_ordered[0,])])\n",
    "# save figure\n",
    "filename = 'img_tmp/'+current_sign+'_normratemap_1d.pdf'\n",
    "with PdfPages(filename, \"w\") as f:\n",
    "    plt.savefig(f, format=\"pdf\")\n",
    "    plt.close(fig)"
   ]
  },
  {
   "cell_type": "code",
   "execution_count": 17,
   "metadata": {},
   "outputs": [
    {
     "name": "stdout",
     "output_type": "stream",
     "text": [
      "% of place fields on shortest path： 87.88%\n",
      " Chance Level: 77.08%\n"
     ]
    }
   ],
   "source": [
    "# shortest path selective %\n",
    "path_prefer_num = 0\n",
    "for i in range(num_pc):\n",
    "    if place_fields[i] in shortest_path:\n",
    "        path_prefer_num += 1\n",
    "        \n",
    "path_ratio = path_prefer_num/num_pc\n",
    "path_ratio_chance = len(shortest_path)/total_bin\n",
    "print(\"% of place fields on shortest path： \" + \"{:.2f}\".format(path_ratio*100) + \"%\\n Chance Level: \" + \"{:.2f}\".format(path_ratio_chance*100)+\"%\" )\n"
   ]
  },
  {
   "cell_type": "code",
   "execution_count": 18,
   "metadata": {
    "scrolled": true
   },
   "outputs": [
    {
     "name": "stdout",
     "output_type": "stream",
     "text": [
      "% of place fields on decison nodes： 13.13%\n",
      " Chance Level: 11.81%\n"
     ]
    }
   ],
   "source": [
    "# decision node selective %\n",
    "decision_prefer_num = 0\n",
    "for i in range(num_pc):\n",
    "    if place_fields[i] in test_maze.decision_nodes:\n",
    "        decision_prefer_num += 1\n",
    "        \n",
    "decision_ratio = decision_prefer_num/num_pc\n",
    "decision_ratio_chance = len(test_maze.decision_nodes)/total_bin\n",
    "print(\"% of place fields on decison nodes： \" + \"{:.2f}\".format(decision_ratio*100) + \"%\\n Chance Level: \" + \"{:.2f}\".format(decision_ratio_chance*100)+\"%\" )\n"
   ]
  },
  {
   "cell_type": "code",
   "execution_count": 19,
   "metadata": {},
   "outputs": [],
   "source": [
    "# run selective %\n",
    "## spike node to runs\n",
    "spike_runs = np.zeros_like(spike_nodes)\n",
    "for i in range(len(spike_nodes)):\n",
    "    spike_runs[i] = [run_i for run_i, run in enumerate(test_maze.runs) if spike_nodes[i] in run][0] +1\n",
    "\n",
    "# occupancy map, in ms\n",
    "_nruns = len(test_maze.runs)\n",
    "_coords_range = [0, _nruns +0.0001 ]\n",
    "occu_time_run, _, run_numbers = scipy.stats.binned_statistic(\n",
    "        spike_runs,\n",
    "        stay_time,\n",
    "        bins=_nruns,\n",
    "        statistic=\"sum\",\n",
    "        range=_coords_range)\n",
    "assert((run_numbers == spike_runs).all())\n",
    "minimum_occu_thres = 50 # ms, occupancy time less than the threshold are set to NAN, preventing large spike rate\n",
    "occu_time_run[occu_time_run<minimum_occu_thres] = np.nan\n",
    "\n",
    "# run rate map \n",
    "### sum rate map (for first neuron)\n",
    "spikes = Spikes[0,:]\n",
    "# spike_map: total spikes per nodes\n",
    "spike_freq_run, xbin_edges, run_numbers = scipy.stats.binned_statistic(\n",
    "        spike_runs,\n",
    "        spikes,\n",
    "        bins=_nruns,\n",
    "        statistic=\"sum\",\n",
    "        range=_coords_range)\n",
    "rate_map_run = spike_freq_run/(occu_time_run/1000+ 1E-6) # ratemap: spike_map / occupancy_map\n",
    "assert((run_numbers == spike_runs).all())\n",
    "\n",
    "# rate map for runs (for all neuron)\n",
    "n_neuron = Spikes.shape[0]\n",
    "spike_freq_run_all = np.zeros([n_neuron, _nruns])\n",
    "rate_map_run_all =  np.zeros_like(spike_freq_run_all)\n",
    "for i in range(n_neuron):\n",
    "    spike_freq_run_all[i,] ,_ ,_= scipy.stats.binned_statistic(\n",
    "        spike_runs,\n",
    "        Spikes[i,:],\n",
    "        bins=_nruns,\n",
    "        statistic=\"sum\",\n",
    "        range=_coords_range)\n",
    "    rate_map_run_all[i,] = spike_freq_run_all[i,]/(occu_time_run/1000+ 1E-9)"
   ]
  },
  {
   "cell_type": "code",
   "execution_count": 21,
   "metadata": {},
   "outputs": [
    {
     "name": "stderr",
     "output_type": "stream",
     "text": [
      "100%|████████████████████████████████████████████████████████████████████████████████| 144/144 [08:47<00:00,  3.67s/it]"
     ]
    },
    {
     "name": "stdout",
     "output_type": "stream",
     "text": [
      "# of run cell using time isi shuffle method: 94.0\n"
     ]
    },
    {
     "name": "stderr",
     "output_type": "stream",
     "text": [
      "\n"
     ]
    }
   ],
   "source": [
    "# spatial information for runs(all neurons)\n",
    "t_runs_frac = occu_time_run/1000/ (t_total+ 1E-6)   # time spent in ith bin/total session time\n",
    "\n",
    "# Shuffle ISI: DOI: 10.1523/JNEUROSCI.19-21-09497.1999\n",
    "SI_run_all = np.zeros(n_neuron)\n",
    "is_runcell_isi = np.zeros(n_neuron)\n",
    "\n",
    "for i in tqdm(range(n_neuron)):\n",
    "    SI_run_all[i] = calc_SI(spikes=Spikes[i,], rate_map=rate_map_run_all[i,], t_total=t_total, t_nodes_frac=t_runs_frac)\n",
    "    is_runcell_isi[i] = shuffle_test_shift(SI = SI_run_all[i], spikes = Spikes[i,], spike_nodes=spike_runs, occu_time=occu_time_run, _coords_range=_coords_range, _nbins = _nruns)\n",
    "    \n",
    "print(\"# of run cell using time isi shuffle method:\", np.sum(is_runcell_isi ))\n"
   ]
  },
  {
   "cell_type": "code",
   "execution_count": 3,
   "metadata": {},
   "outputs": [
    {
     "ename": "NameError",
     "evalue": "name 'is_runcell_isi' is not defined",
     "output_type": "error",
     "traceback": [
      "\u001b[1;31m---------------------------------------------------------------------------\u001b[0m",
      "\u001b[1;31mNameError\u001b[0m                                 Traceback (most recent call last)",
      "\u001b[1;32m<ipython-input-3-ba8806eb91d0>\u001b[0m in \u001b[0;36m<module>\u001b[1;34m\u001b[0m\n\u001b[0;32m      1\u001b[0m \u001b[1;31m# plot ratemap 1d (all run cells):\u001b[0m\u001b[1;33m\u001b[0m\u001b[1;33m\u001b[0m\u001b[1;33m\u001b[0m\u001b[0m\n\u001b[0;32m      2\u001b[0m \u001b[0msort_by_nodes\u001b[0m \u001b[1;33m=\u001b[0m \u001b[1;32mTrue\u001b[0m\u001b[1;33m\u001b[0m\u001b[1;33m\u001b[0m\u001b[0m\n\u001b[1;32m----> 3\u001b[1;33m \u001b[0mnum_rc\u001b[0m \u001b[1;33m=\u001b[0m \u001b[0mint\u001b[0m\u001b[1;33m(\u001b[0m\u001b[0msum\u001b[0m\u001b[1;33m(\u001b[0m\u001b[0mis_runcell_isi\u001b[0m\u001b[1;33m)\u001b[0m\u001b[1;33m)\u001b[0m\u001b[1;33m\u001b[0m\u001b[1;33m\u001b[0m\u001b[0m\n\u001b[0m\u001b[0;32m      4\u001b[0m \u001b[0mrate_map_rc\u001b[0m\u001b[1;33m=\u001b[0m \u001b[0mrate_map_run_all\u001b[0m\u001b[1;33m[\u001b[0m\u001b[0mis_runcell_isi\u001b[0m\u001b[1;33m==\u001b[0m\u001b[1;36m1\u001b[0m\u001b[1;33m,\u001b[0m\u001b[1;33m]\u001b[0m\u001b[1;33m\u001b[0m\u001b[1;33m\u001b[0m\u001b[0m\n\u001b[0;32m      5\u001b[0m \u001b[0mrun_fields\u001b[0m \u001b[1;33m=\u001b[0m \u001b[0mnp\u001b[0m\u001b[1;33m.\u001b[0m\u001b[0mnanargmax\u001b[0m\u001b[1;33m(\u001b[0m\u001b[0mrate_map_rc\u001b[0m\u001b[1;33m,\u001b[0m\u001b[0maxis\u001b[0m\u001b[1;33m=\u001b[0m\u001b[1;36m1\u001b[0m\u001b[1;33m)\u001b[0m \u001b[1;31m# run field\u001b[0m\u001b[1;33m\u001b[0m\u001b[1;33m\u001b[0m\u001b[0m\n",
      "\u001b[1;31mNameError\u001b[0m: name 'is_runcell_isi' is not defined"
     ]
    }
   ],
   "source": [
    "# plot ratemap 1d (all run cells):\n",
    "sort_by_nodes = True\n",
    "num_rc = int(sum(is_runcell_isi))\n",
    "rate_map_rc= rate_map_run_all[is_runcell_isi==1,]\n",
    "run_fields = np.nanargmax(rate_map_rc,axis=1) # run field\n",
    "\n",
    "if sort_by_nodes:\n",
    "    ordering = np.argsort(np.nanargmax(rate_map_rc,axis=1))\n",
    "else:\n",
    "    ordering = range(num_rc)\n",
    "\n",
    "# normalize tuning curve to [0, 1]\n",
    "rate_map_rc_norm = sklearn.preprocessing.minmax_scale(rate_map_rc, feature_range=(0, 1), axis=1, copy=True)\n",
    "# plot\n",
    "plot_ratemap(rate_map_rc_norm[ordering,:][:,~np.isnan(rate_map_rc_norm[0,])],extent = [0 , 1000, 0 , 300])\n",
    "# save figure\n",
    "filename = 'img_tmp/'+current_sign+'_normratemap_run_1d.pdf'\n",
    "\n",
    "with PdfPages(filename, \"w\") as f:\n",
    "    plt.savefig(f, format=\"pdf\")\n",
    "    plt.close(fig)"
   ]
  },
  {
   "cell_type": "code",
   "execution_count": 88,
   "metadata": {},
   "outputs": [
    {
     "data": {
      "image/png": "[encoded data removed]",
      "text/plain": [
       "<Figure size 432x288 with 1 Axes>"
      ]
     },
     "metadata": {
      "needs_background": "light"
     },
     "output_type": "display_data"
    }
   ],
   "source": [
    "# run ratemap 1d: orderd by shortest path\n",
    "sort_by_path = True\n",
    "num_rc = int(sum(is_runcell_isi))\n",
    "rate_map_rc= rate_map_run_all[is_runcell_isi==1,]\n",
    "run_fields = np.nanargmax(rate_map_rc,axis=1) # place field\n",
    "run_ind = np.arange(len(test_maze.runs))\n",
    "\n",
    "if sort_by_path:\n",
    "    run_on_path = [test_maze.runs[i_run][0] in test_maze.shortest_path for i_run in range(_nruns)]\n",
    "    len_shortest_path_run = sum(run_on_path)\n",
    "    on_path_runs = run_ind[run_on_path]\n",
    "    non_shortest_path = list(np.setdiff1d(list(run_ind),on_path_runs))\n",
    "    preferred_runs = np.nanargmax(rate_map_rc,axis=1) # run field\n",
    "    total_list = list(on_path_runs) + non_shortest_path\n",
    "    tmp_index = np.zeros(num_rc)\n",
    "    for i in range(num_rc):\n",
    "        tmp_index[i] =  np.where(total_list == preferred_runs[i])[0]\n",
    "        \n",
    "    ordering = np.argsort(tmp_index)\n",
    "else:\n",
    "    ordering = range(num_rc)\n",
    "\n",
    "# normalize tuning curve to [0, 1]\n",
    "rate_map_rc_norm = sklearn.preprocessing.minmax_scale(rate_map_rc, feature_range=(0, 1), axis=1, copy=True)\n",
    "# plot\n",
    "rate_map_rc_ordered = rate_map_rc_norm[ordering,:][:,np.array(total_list)]\n",
    "plot_ratemap(rate_map_rc_ordered[:,~np.isnan(rate_map_rc_ordered[0,])])\n",
    "plt.axvline(len_shortest_path_run, color = \"red\")\n",
    "\n",
    "# save figure\n",
    "filename = 'img_tmp/'+current_sign+'_normratemap_run_1d_path.pdf'\n",
    "\n",
    "with PdfPages(filename, \"w\") as f:\n",
    "    plt.savefig(f, format=\"pdf\")\n",
    "    plt.close(fig)"
   ]
  },
  {
   "cell_type": "code",
   "execution_count": 89,
   "metadata": {},
   "outputs": [
    {
     "name": "stdout",
     "output_type": "stream",
     "text": [
      "% of run fields on shortest path： 54.26%\n",
      " Chance Level: 51.43%\n"
     ]
    }
   ],
   "source": [
    "# percent of run filed on shortest path\n",
    "\n",
    "num_shortpath_runfield = np.sum([preferred_run in on_path_runs for preferred_run in preferred_runs])\n",
    "run_path_ratio = num_shortpath_runfield/num_rc\n",
    "run_path_ratio_chance = np.sum(run_on_path)/len(test_maze.runs)\n",
    "print(\"% of run fields on shortest path： \" + \"{:.2f}\".format(run_path_ratio*100) + \"%\\n Chance Level: \" + \"{:.2f}\".format(run_path_ratio_chance*100)+\"%\" )\n"
   ]
  },
  {
   "cell_type": "code",
   "execution_count": 78,
   "metadata": {},
   "outputs": [],
   "source": [
    "def plot_ratemap(ratemap, ax=None, title=None, axis_on = True, *args, **kwargs):  # pylint: disable=keyword-arg-before-vararg\n",
    "    \"\"\"Plot ratemaps.\"\"\"\n",
    "    if ax is None:\n",
    "        ax = plt.gca()\n",
    "    # Plot the ratemap\n",
    "    ax.imshow(ratemap, interpolation='none', *args, **kwargs)\n",
    "    # ax.pcolormesh(ratemap, *args, **kwargs)\n",
    "    if axis_on == False:\n",
    "        ax.axis('off')\n",
    "    else:\n",
    "        ax.axis('auto')\n",
    "    if title is not None:\n",
    "        ax.set_title(title)\n"
   ]
  },
  {
   "cell_type": "code",
   "execution_count": 45,
   "metadata": {},
   "outputs": [
    {
     "data": {
      "text/plain": [
       "111"
      ]
     },
     "execution_count": 45,
     "metadata": {},
     "output_type": "execute_result"
    }
   ],
   "source": [
    "len(test_maze.shortest_path)"
   ]
  },
  {
   "cell_type": "code",
   "execution_count": 92,
   "metadata": {},
   "outputs": [
    {
     "data": {
      "text/plain": [
       "1988.84"
      ]
     },
     "execution_count": 92,
     "metadata": {},
     "output_type": "execute_result"
    }
   ],
   "source": [
    "np.nansum(occu_time_run)/1000"
   ]
  },
  {
   "cell_type": "code",
   "execution_count": 96,
   "metadata": {},
   "outputs": [
    {
     "data": {
      "text/plain": [
       "1998.621"
      ]
     },
     "execution_count": 96,
     "metadata": {},
     "output_type": "execute_result"
    }
   ],
   "source": [
    "(ms_time_behav[-1]-ms_time_behav[0])/1000"
   ]
  },
  {
   "cell_type": "code",
   "execution_count": 97,
   "metadata": {},
   "outputs": [
    {
     "data": {
      "text/plain": [
       "33.3"
      ]
     },
     "execution_count": 97,
     "metadata": {},
     "output_type": "execute_result"
    }
   ],
   "source": [
    "1998/60"
   ]
  },
  {
   "cell_type": "code",
   "execution_count": 26,
   "metadata": {},
   "outputs": [
    {
     "data": {
      "text/plain": [
       "35"
      ]
     },
     "execution_count": 26,
     "metadata": {},
     "output_type": "execute_result"
    }
   ],
   "source": [
    "max(spike_runs)"
   ]
  },
  {
   "cell_type": "code",
   "execution_count": 4,
   "metadata": {},
   "outputs": [
    {
     "data": {
      "text/plain": [
       "6    E:/miniscope recording/maze/4_24_2020/10031H15...\n",
       "Name: recording_folder_pc, dtype: object"
      ]
     },
     "execution_count": 4,
     "metadata": {},
     "output_type": "execute_result"
    }
   ],
   "source": [
    "folder"
   ]
  },
  {
   "cell_type": "code",
   "execution_count": 5,
   "metadata": {},
   "outputs": [],
   "source": [
    "    current_day = 8\n",
    "    current_sign = \"M\" + str(mice_name)+\"maze\"+str(maze_type)+\"Day\"+str(current_day)\n",
    "    folder =  data[(data.training_day == current_day) & (data.maze_type == maze_type)][\"recording_folder_pc\"]\n",
    "    matfile = folder.values[0] + \"/\" + \"ms.mat\"\n",
    "    # read calcium data: ms.mat\n",
    "    with h5py.File(matfile, 'r') as f:\n",
    "        ms_mat = f['ms']\n",
    "        FiltTraces = np.array(ms_mat['FiltTraces'])\n",
    "        RawTraces = np.array(ms_mat['RawTraces'])\n",
    "        DeconvSignal = np.array(ms_mat['DeconvSignals'])\n",
    "        ms_time = np.array(ms_mat['time'])[0,]\n",
    "    # read behav data\n"
   ]
  },
  {
   "cell_type": "code",
   "execution_count": 7,
   "metadata": {},
   "outputs": [
    {
     "name": "stderr",
     "output_type": "stream",
     "text": [
      "\r",
      "  0%|                                                                                           | 0/90 [00:00<?, ?it/s]"
     ]
    },
    {
     "name": "stdout",
     "output_type": "stream",
     "text": [
      "The maze is bidirectional, Ye!\n"
     ]
    },
    {
     "name": "stderr",
     "output_type": "stream",
     "text": [
      "100%|██████████████████████████████████████████████████████████████████████████████████| 90/90 [01:10<00:00,  1.27it/s]\n"
     ]
    },
    {
     "name": "stdout",
     "output_type": "stream",
     "text": [
      "# of place cell using time shift shuffle method: 57.0 / 90\n"
     ]
    },
    {
     "name": "stderr",
     "output_type": "stream",
     "text": [
      "100%|██████████████████████████████████████████████████████████████████████████████████| 90/90 [01:07<00:00,  1.33it/s]"
     ]
    },
    {
     "name": "stdout",
     "output_type": "stream",
     "text": [
      "# of run cell using time shift shuffle method: 43.0\n"
     ]
    },
    {
     "name": "stderr",
     "output_type": "stream",
     "text": [
      "\n"
     ]
    }
   ],
   "source": [
    "#### read data\n",
    "current_day = 8\n",
    "current_sign = \"M\" + str(mice_name)+\"maze\"+str(maze_type)+\"Day\"+str(current_day)\n",
    "folder =  data[(data.training_day == current_day) & (data.maze_type == maze_type)][\"recording_folder_pc\"]\n",
    "matfile = folder.values[0] + \"/\" + \"ms.mat\"\n",
    "# read calcium data: ms.mat\n",
    "with h5py.File(matfile, 'r') as f:\n",
    "    ms_mat = f['ms']\n",
    "    FiltTraces = np.array(ms_mat['FiltTraces'])\n",
    "    RawTraces = np.array(ms_mat['RawTraces'])\n",
    "    DeconvSignal = np.array(ms_mat['DeconvSignals'])\n",
    "    ms_time = np.array(ms_mat['time'])[0,]\n",
    "# read behav data\n",
    "graph = maze1_graph\n",
    "decision_file = 'data_tmp/' + current_sign +'behav_decision.pkl'\n",
    "with open(decision_file, 'rb') as handle:\n",
    "    correct_time, wrong_time, correct_time_percentage, decision_rate,time_levels = pickle.load(handle)\n",
    "behav_processed_file = 'data_tmp/' + current_sign +'behav_processed.pkl'\n",
    "with open(behav_processed_file, 'rb') as handle:\n",
    "    behav_time_original, behav_nodes_interpolated, behav_dir = pickle.load(handle)\n",
    "\n",
    "#### Preprocessing data\n",
    "# remove no behav recording period\n",
    "behav_mask = (ms_time>=behav_time_original[0]) & (ms_time<behav_time_original[-1])\n",
    "FiltTraces_behav = FiltTraces[:,behav_mask]\n",
    "RawTraces_behav = RawTraces[:,behav_mask]\n",
    "DeconvSignal_behav = DeconvSignal[:,behav_mask]\n",
    "ms_time_behav = ms_time[behav_mask]\n",
    "# binarize neuron.S\n",
    "deconv_sd = np.std(DeconvSignal_behav, axis = 1) * 3\n",
    "Spikes = np.where(DeconvSignal_behav>np.repeat(deconv_sd[:,np.newaxis], DeconvSignal_behav.shape[1],1), 1, 0)\n",
    "\n",
    "#### Initialize maze object\n",
    "start_node = 1\n",
    "end_node = 144\n",
    "nx = 12\n",
    "ny = 12\n",
    "total_bin = nx*ny\n",
    "test_maze = Maze(nx, ny, graph)\n",
    "new_maze = test_maze.make_maze()\n",
    "shortest_path = test_maze.BFS_SP(graph, start_node, end_node)\n",
    "\n",
    "#### Analyze calcium data\n",
    "# spike per bin\n",
    "spike_nodes = np.zeros_like(Spikes[0,:])\n",
    "for i in range(0, len(spike_nodes)):\n",
    "    if ms_time_behav[i] < behav_time_original[0]:\n",
    "        spike_nodes[i] = start_node;\n",
    "    else:\n",
    "        match_index = np.where(behav_time_original <= ms_time_behav[i])[0][-1]\n",
    "        spike_nodes[i] = behav_nodes_interpolated[match_index]\n",
    "spike_bins = test_maze.idx_to_loc(spike_nodes-1)\n",
    "\n",
    "# occupancy map, in ms\n",
    "# Duration for each (X,Y) sample (clipped to maxGap)\n",
    "maxGap = 100\n",
    "stay_time = np.append(np.ediff1d(ms_time_behav),0)\n",
    "stay_time[stay_time>maxGap] = maxGap\n",
    "_nbins = total_bin\n",
    "_coords_range = [0, _nbins +0.0001 ]\n",
    "occu_time, xbin_edges, bin_numbers = scipy.stats.binned_statistic(\n",
    "        spike_nodes,\n",
    "        stay_time,\n",
    "        bins=_nbins,\n",
    "        statistic=\"sum\",\n",
    "        range=_coords_range)\n",
    "\n",
    "assert((bin_numbers == spike_nodes).all())\n",
    "minimum_occu_thres = 50 # ms, occupancy time less than the threshold are set to NAN, preventing large spike rate\n",
    "occu_time[occu_time<minimum_occu_thres] = np.nan\n",
    "# rate map (for all neuron)\n",
    "_nbins = total_bin\n",
    "_coords_range = [0, _nbins +0.0001 ]\n",
    "n_neuron = Spikes.shape[0]\n",
    "spike_freq_all = np.zeros([n_neuron,total_bin])\n",
    "rate_map_all =  np.zeros_like(spike_freq_all)\n",
    "for i in range(n_neuron):\n",
    "    spike_freq_all[i,] ,_ ,_= scipy.stats.binned_statistic(\n",
    "        spike_nodes,\n",
    "        Spikes[i,:],\n",
    "        bins=_nbins,\n",
    "        statistic=\"sum\",\n",
    "        range=_coords_range)\n",
    "    rate_map_all[i,] = spike_freq_all[i,]/(occu_time/1000+ 1E-9)\n",
    "\n",
    "#### Calculate spatial information (all neurons) and shuffle (shift method)\n",
    "t_total = np.nansum(occu_time)/1000 # total time of trial\n",
    "t_nodes_frac = occu_time/1000/ (t_total+ 1E-6)   # time spent in ith bin/total session time\n",
    "SI_all = np.zeros(n_neuron)\n",
    "is_placecell_shift = np.zeros(n_neuron)\n",
    "for i in tqdm(range(n_neuron)):\n",
    "    SI_all[i] = calc_SI(spikes=Spikes[i,], rate_map=rate_map_all[i,], t_total=t_total, t_nodes_frac=t_nodes_frac)\n",
    "    is_placecell_shift[i] = shuffle_test_shift(SI = SI_all[i], spikes = Spikes[i,], spike_nodes=spike_nodes, occu_time=occu_time, _coords_range=_coords_range)    \n",
    "print(\"# of place cell using time shift shuffle method:\" ,np.sum(is_placecell_shift ),\"/\",n_neuron)\n",
    "\n",
    "## !! save data\n",
    "mylist = [rate_map_all, is_placecell_shift, SI_all, spike_freq_all, occu_time]\n",
    "with open('data/' + current_sign + \"ratemap.pkl\", 'wb') as f:\n",
    "    pickle.dump(mylist, f)\n",
    "\n",
    "\n",
    "#### run selective %\n",
    "## spike node to runs\n",
    "spike_runs = np.zeros_like(spike_nodes)\n",
    "for i in range(len(spike_nodes)):\n",
    "    spike_runs[i] = [run_i for run_i, run in enumerate(test_maze.runs) if spike_nodes[i] in run][0] +1\n",
    "\n",
    "## occupancy map, in ms\n",
    "_nruns = len(test_maze.runs)\n",
    "_coords_range = [0, _nruns +0.0001 ]\n",
    "occu_time_run, _, run_numbers = scipy.stats.binned_statistic(\n",
    "        spike_runs,\n",
    "        stay_time,\n",
    "        bins=_nruns,\n",
    "        statistic=\"sum\",\n",
    "        range=_coords_range)\n",
    "assert((run_numbers == spike_runs).all())\n",
    "minimum_occu_thres = 50 # ms, occupancy time less than the threshold are set to NAN, preventing large spike rate\n",
    "occu_time_run[occu_time_run<minimum_occu_thres] = np.nan\n",
    "\n",
    "## run rate map \n",
    "## sum rate map (for first neuron)\n",
    "spikes = Spikes[0,:]\n",
    "# spike_map: total spikes per nodes\n",
    "spike_freq_run, xbin_edges, run_numbers = scipy.stats.binned_statistic(\n",
    "        spike_runs,\n",
    "        spikes,\n",
    "        bins=_nruns,\n",
    "        statistic=\"sum\",\n",
    "        range=_coords_range)\n",
    "rate_map_run = spike_freq_run/(occu_time_run/1000+ 1E-6) # ratemap: spike_map / occupancy_map\n",
    "assert((run_numbers == spike_runs).all())\n",
    "\n",
    "## rate map for runs (for all neuron)\n",
    "n_neuron = Spikes.shape[0]\n",
    "spike_freq_run_all = np.zeros([n_neuron, _nruns])\n",
    "rate_map_run_all =  np.zeros_like(spike_freq_run_all)\n",
    "for i in range(n_neuron):\n",
    "    spike_freq_run_all[i,] ,_ ,_= scipy.stats.binned_statistic(\n",
    "        spike_runs,\n",
    "        Spikes[i,:],\n",
    "        bins=_nruns,\n",
    "        statistic=\"sum\",\n",
    "        range=_coords_range)\n",
    "    rate_map_run_all[i,] = spike_freq_run_all[i,]/(occu_time_run/1000+ 1E-9)\n",
    "\n",
    "## spatial information for runs(all neurons)\n",
    "t_runs_frac = occu_time_run/1000/ (t_total+ 1E-6)   # time spent in ith bin/total session time\n",
    "\n",
    "# Shuffle: shift with a random constant\n",
    "SI_run_all = np.zeros(n_neuron)\n",
    "is_runcell_shift = np.zeros(n_neuron)\n",
    "\n",
    "for i in tqdm(range(n_neuron)):\n",
    "    SI_run_all[i] = calc_SI(spikes=Spikes[i,], rate_map=rate_map_run_all[i,], t_total=t_total, t_nodes_frac=t_runs_frac)\n",
    "    is_runcell_shift[i] = shuffle_test_shift(SI = SI_run_all[i], spikes = Spikes[i,], spike_nodes=spike_runs, occu_time=occu_time_run, _coords_range=_coords_range, _nbins = _nruns)\n",
    "\n",
    "print(\"# of run cell using time shift shuffle method:\", np.sum(is_runcell_shift))\n",
    "\n",
    "## !! save data\n",
    "mylist = [rate_map_run_all, is_runcell_shift, SI_run_all, spike_freq_run_all, occu_time_run]\n",
    "with open('data_tmp/' + current_sign + \"ratemap_run.pkl\", 'wb') as f:\n",
    "    pickle.dump(mylist, f)\n"
   ]
  },
  {
   "cell_type": "code",
   "execution_count": 19,
   "metadata": {},
   "outputs": [
    {
     "data": {
      "text/plain": [
       "array([0.        , 0.        , 0.11980352, 0.12044202, 0.79554495,\n",
       "       0.10990219, 0.        , 0.        , 0.0607054 , 0.59526172,\n",
       "       0.        , 0.64319022, 2.96208531, 4.66355763, 0.        ,\n",
       "       0.49710025, 0.        , 0.8097166 , 0.        , 0.        ,\n",
       "       0.87227414, 0.07298205, 0.        , 0.        , 0.        ,\n",
       "              nan, 0.34277879, 0.        , 0.56896981, 0.        ,\n",
       "       1.42207053, 0.        , 1.60889279, 0.        , 0.        ,\n",
       "              nan,        nan,        nan,        nan,        nan,\n",
       "              nan,        nan,        nan,        nan,        nan,\n",
       "              nan,        nan,        nan,        nan,        nan,\n",
       "              nan,        nan,        nan,        nan,        nan,\n",
       "              nan,        nan,        nan,        nan,        nan,\n",
       "              nan,        nan,        nan,        nan,        nan,\n",
       "              nan,        nan,        nan,        nan,        nan])"
      ]
     },
     "execution_count": 19,
     "metadata": {},
     "output_type": "execute_result"
    }
   ],
   "source": [
    "rate_map_run_all[8]"
   ]
  },
  {
   "cell_type": "code",
   "execution_count": 12,
   "metadata": {},
   "outputs": [
    {
     "data": {
      "text/plain": [
       "array([0.26838433, 0.        , 0.34025179, 0.        , 0.        ,\n",
       "       0.        , 0.96618357, 1.5015015 , 0.        , 0.        ,\n",
       "       0.        , 0.        , 0.11980352, 1.0653882 , 1.02880658,\n",
       "       0.52714813, 0.        , 0.26357406, 0.78926598, 1.20076849,\n",
       "       0.        , 0.        , 0.41067762, 0.45495905, 0.        ,\n",
       "       0.27905679, 0.89746466, 0.        , 0.        , 0.        ,\n",
       "       0.        , 0.        , 0.        , 0.        , 0.        ,\n",
       "       0.20521239, 1.00014288, 0.57714506, 1.32538105, 1.6194332 ,\n",
       "              nan, 0.        , 0.        , 0.        , 0.        ,\n",
       "       0.        , 0.        , 0.        , 3.01034807, 0.        ,\n",
       "       0.        , 0.        , 0.        , 0.        , 0.46253469,\n",
       "       0.        , 0.95785441, 3.03030303, 0.        , 0.        ,\n",
       "       0.68135362, 0.        , 0.        , 0.        , 0.        ,\n",
       "       0.88495575, 0.        , 0.        , 0.        , 0.        ,\n",
       "       2.61096605, 0.        , 0.69300069, 0.        , 0.        ,\n",
       "       8.54700851, 3.08641974, 0.68965517, 2.30946882, 0.        ,\n",
       "       5.45950864, 0.        , 0.        , 0.        , 0.55187638,\n",
       "       0.        , 0.        , 0.        , 0.        , 2.28310502,\n",
       "       0.        , 0.        , 2.36406619, 0.        , 0.        ,\n",
       "       0.        , 0.8037293 , 0.        , 0.        , 0.        ,\n",
       "       0.        , 0.        , 0.        , 0.        , 0.82508251,\n",
       "       0.        ,        nan,        nan, 0.49844237, 0.        ,\n",
       "              nan, 0.        , 0.        , 1.36239782,        nan,\n",
       "       0.        , 0.        ,        nan,        nan,        nan,\n",
       "       0.        , 0.        , 3.15955766, 0.        , 0.        ,\n",
       "              nan, 0.        ,        nan, 0.        , 0.        ,\n",
       "       0.        , 0.        , 0.        , 0.11287956, 0.        ,\n",
       "       0.        , 0.        , 0.        , 0.        ,        nan,\n",
       "       0.        , 0.        , 0.        , 0.32605152])"
      ]
     },
     "execution_count": 12,
     "metadata": {},
     "output_type": "execute_result"
    }
   ],
   "source": [
    "rate_map_all[1,]"
   ]
  },
  {
   "cell_type": "code",
   "execution_count": 10,
   "metadata": {},
   "outputs": [
    {
     "data": {
      "text/plain": [
       "70"
      ]
     },
     "execution_count": 10,
     "metadata": {},
     "output_type": "execute_result"
    }
   ],
   "source": [
    "len(test_maze.runs)"
   ]
  },
  {
   "cell_type": "code",
   "execution_count": 11,
   "metadata": {},
   "outputs": [
    {
     "data": {
      "text/plain": [
       "[[1],\n",
       " [2],\n",
       " [13],\n",
       " [14, 26, 27, 15, 3, 4, 5, 6],\n",
       " [7, 8],\n",
       " [18, 17],\n",
       " [16, 28],\n",
       " [29, 30],\n",
       " [31, 19, 20, 21, 9, 10, 11, 12, 24],\n",
       " [23,\n",
       "  22,\n",
       "  34,\n",
       "  33,\n",
       "  32,\n",
       "  44,\n",
       "  45,\n",
       "  46,\n",
       "  47,\n",
       "  48,\n",
       "  60,\n",
       "  59,\n",
       "  58,\n",
       "  57,\n",
       "  56,\n",
       "  68,\n",
       "  69,\n",
       "  70,\n",
       "  71,\n",
       "  72,\n",
       "  84],\n",
       " [83, 95, 94],\n",
       " [82, 81, 80, 92, 104, 103, 91, 90, 78, 79, 67, 55],\n",
       " [43],\n",
       " [54],\n",
       " [53],\n",
       " [66, 65, 64, 63, 75, 74, 62, 50, 51],\n",
       " [39],\n",
       " [40],\n",
       " [38, 37, 49, 61, 73, 85, 97],\n",
       " [98, 86],\n",
       " [109],\n",
       " [110,\n",
       "  122,\n",
       "  123,\n",
       "  111,\n",
       "  112,\n",
       "  100,\n",
       "  99,\n",
       "  87,\n",
       "  88,\n",
       "  76,\n",
       "  77,\n",
       "  89,\n",
       "  101,\n",
       "  102,\n",
       "  114,\n",
       "  113,\n",
       "  125,\n",
       "  124,\n",
       "  136,\n",
       "  137,\n",
       "  138,\n",
       "  126,\n",
       "  127,\n",
       "  115,\n",
       "  116,\n",
       "  117,\n",
       "  129],\n",
       " [128, 140, 139],\n",
       " [141, 142],\n",
       " [130],\n",
       " [118, 119, 107, 108, 120],\n",
       " [131, 132, 144],\n",
       " [143],\n",
       " [121, 133, 134, 135],\n",
       " [52],\n",
       " [106, 105, 93],\n",
       " [96],\n",
       " [36, 35],\n",
       " [42, 41],\n",
       " [25],\n",
       " [1],\n",
       " [2],\n",
       " [13],\n",
       " [14, 26, 27, 15, 3, 4, 5, 6],\n",
       " [7, 8],\n",
       " [18, 17],\n",
       " [16, 28],\n",
       " [29, 30],\n",
       " [31, 19, 20, 21, 9, 10, 11, 12, 24],\n",
       " [23,\n",
       "  22,\n",
       "  34,\n",
       "  33,\n",
       "  32,\n",
       "  44,\n",
       "  45,\n",
       "  46,\n",
       "  47,\n",
       "  48,\n",
       "  60,\n",
       "  59,\n",
       "  58,\n",
       "  57,\n",
       "  56,\n",
       "  68,\n",
       "  69,\n",
       "  70,\n",
       "  71,\n",
       "  72,\n",
       "  84],\n",
       " [83, 95, 94],\n",
       " [82, 81, 80, 92, 104, 103, 91, 90, 78, 79, 67, 55],\n",
       " [43],\n",
       " [54],\n",
       " [53],\n",
       " [66, 65, 64, 63, 75, 74, 62, 50, 51],\n",
       " [39],\n",
       " [40],\n",
       " [38, 37, 49, 61, 73, 85, 97],\n",
       " [98, 86],\n",
       " [109],\n",
       " [110,\n",
       "  122,\n",
       "  123,\n",
       "  111,\n",
       "  112,\n",
       "  100,\n",
       "  99,\n",
       "  87,\n",
       "  88,\n",
       "  76,\n",
       "  77,\n",
       "  89,\n",
       "  101,\n",
       "  102,\n",
       "  114,\n",
       "  113,\n",
       "  125,\n",
       "  124,\n",
       "  136,\n",
       "  137,\n",
       "  138,\n",
       "  126,\n",
       "  127,\n",
       "  115,\n",
       "  116,\n",
       "  117,\n",
       "  129],\n",
       " [128, 140, 139],\n",
       " [141, 142],\n",
       " [130],\n",
       " [118, 119, 107, 108, 120],\n",
       " [131, 132, 144],\n",
       " [143],\n",
       " [121, 133, 134, 135],\n",
       " [52],\n",
       " [106, 105, 93],\n",
       " [96],\n",
       " [36, 35],\n",
       " [42, 41],\n",
       " [25]]"
      ]
     },
     "execution_count": 11,
     "metadata": {},
     "output_type": "execute_result"
    }
   ],
   "source": [
    "test_maze.runs"
   ]
  },
  {
   "cell_type": "code",
   "execution_count": 21,
   "metadata": {},
   "outputs": [
    {
     "data": {
      "text/plain": [
       "0.0"
      ]
     },
     "execution_count": 21,
     "metadata": {},
     "output_type": "execute_result"
    }
   ],
   "source": [
    "min(stay_time)"
   ]
  },
  {
   "cell_type": "code",
   "execution_count": 22,
   "metadata": {},
   "outputs": [],
   "source": [
    "occu_time_run, _, run_numbers = scipy.stats.binned_statistic(\n",
    "        spike_runs,\n",
    "        stay_time,\n",
    "        bins=_nruns,\n",
    "        statistic=\"sum\",\n",
    "        range=_coords_range)"
   ]
  },
  {
   "cell_type": "code",
   "execution_count": 27,
   "metadata": {},
   "outputs": [
    {
     "data": {
      "text/plain": [
       "(70,)"
      ]
     },
     "execution_count": 27,
     "metadata": {},
     "output_type": "execute_result"
    }
   ],
   "source": [
    "occu_time_run.shape"
   ]
  },
  {
   "cell_type": "code",
   "execution_count": 28,
   "metadata": {},
   "outputs": [
    {
     "data": {
      "text/plain": [
       "70"
      ]
     },
     "execution_count": 28,
     "metadata": {},
     "output_type": "execute_result"
    }
   ],
   "source": [
    "len(test_maze.runs)"
   ]
  },
  {
   "cell_type": "code",
   "execution_count": 29,
   "metadata": {},
   "outputs": [
    {
     "data": {
      "text/plain": [
       "[[1],\n",
       " [2],\n",
       " [13],\n",
       " [14, 26, 27, 15, 3, 4, 5, 6],\n",
       " [7, 8],\n",
       " [18, 17],\n",
       " [16, 28],\n",
       " [29, 30],\n",
       " [31, 19, 20, 21, 9, 10, 11, 12, 24],\n",
       " [23,\n",
       "  22,\n",
       "  34,\n",
       "  33,\n",
       "  32,\n",
       "  44,\n",
       "  45,\n",
       "  46,\n",
       "  47,\n",
       "  48,\n",
       "  60,\n",
       "  59,\n",
       "  58,\n",
       "  57,\n",
       "  56,\n",
       "  68,\n",
       "  69,\n",
       "  70,\n",
       "  71,\n",
       "  72,\n",
       "  84],\n",
       " [83, 95, 94],\n",
       " [82, 81, 80, 92, 104, 103, 91, 90, 78, 79, 67, 55],\n",
       " [43],\n",
       " [54],\n",
       " [53],\n",
       " [66, 65, 64, 63, 75, 74, 62, 50, 51],\n",
       " [39],\n",
       " [40],\n",
       " [38, 37, 49, 61, 73, 85, 97],\n",
       " [98, 86],\n",
       " [109],\n",
       " [110,\n",
       "  122,\n",
       "  123,\n",
       "  111,\n",
       "  112,\n",
       "  100,\n",
       "  99,\n",
       "  87,\n",
       "  88,\n",
       "  76,\n",
       "  77,\n",
       "  89,\n",
       "  101,\n",
       "  102,\n",
       "  114,\n",
       "  113,\n",
       "  125,\n",
       "  124,\n",
       "  136,\n",
       "  137,\n",
       "  138,\n",
       "  126,\n",
       "  127,\n",
       "  115,\n",
       "  116,\n",
       "  117,\n",
       "  129],\n",
       " [128, 140, 139],\n",
       " [141, 142],\n",
       " [130],\n",
       " [118, 119, 107, 108, 120],\n",
       " [131, 132, 144],\n",
       " [143],\n",
       " [121, 133, 134, 135],\n",
       " [52],\n",
       " [106, 105, 93],\n",
       " [96],\n",
       " [36, 35],\n",
       " [42, 41],\n",
       " [25],\n",
       " [1],\n",
       " [2],\n",
       " [13],\n",
       " [14, 26, 27, 15, 3, 4, 5, 6],\n",
       " [7, 8],\n",
       " [18, 17],\n",
       " [16, 28],\n",
       " [29, 30],\n",
       " [31, 19, 20, 21, 9, 10, 11, 12, 24],\n",
       " [23,\n",
       "  22,\n",
       "  34,\n",
       "  33,\n",
       "  32,\n",
       "  44,\n",
       "  45,\n",
       "  46,\n",
       "  47,\n",
       "  48,\n",
       "  60,\n",
       "  59,\n",
       "  58,\n",
       "  57,\n",
       "  56,\n",
       "  68,\n",
       "  69,\n",
       "  70,\n",
       "  71,\n",
       "  72,\n",
       "  84],\n",
       " [83, 95, 94],\n",
       " [82, 81, 80, 92, 104, 103, 91, 90, 78, 79, 67, 55],\n",
       " [43],\n",
       " [54],\n",
       " [53],\n",
       " [66, 65, 64, 63, 75, 74, 62, 50, 51],\n",
       " [39],\n",
       " [40],\n",
       " [38, 37, 49, 61, 73, 85, 97],\n",
       " [98, 86],\n",
       " [109],\n",
       " [110,\n",
       "  122,\n",
       "  123,\n",
       "  111,\n",
       "  112,\n",
       "  100,\n",
       "  99,\n",
       "  87,\n",
       "  88,\n",
       "  76,\n",
       "  77,\n",
       "  89,\n",
       "  101,\n",
       "  102,\n",
       "  114,\n",
       "  113,\n",
       "  125,\n",
       "  124,\n",
       "  136,\n",
       "  137,\n",
       "  138,\n",
       "  126,\n",
       "  127,\n",
       "  115,\n",
       "  116,\n",
       "  117,\n",
       "  129],\n",
       " [128, 140, 139],\n",
       " [141, 142],\n",
       " [130],\n",
       " [118, 119, 107, 108, 120],\n",
       " [131, 132, 144],\n",
       " [143],\n",
       " [121, 133, 134, 135],\n",
       " [52],\n",
       " [106, 105, 93],\n",
       " [96],\n",
       " [36, 35],\n",
       " [42, 41],\n",
       " [25]]"
      ]
     },
     "execution_count": 29,
     "metadata": {},
     "output_type": "execute_result"
    }
   ],
   "source": [
    "test_maze.runs"
   ]
  },
  {
   "cell_type": "code",
   "execution_count": 9,
   "metadata": {},
   "outputs": [
    {
     "name": "stdout",
     "output_type": "stream",
     "text": [
      "The maze is bidirectional, Ye!\n",
      "0\n"
     ]
    }
   ],
   "source": [
    "#### Initialize maze object\n",
    "start_node = 1\n",
    "end_node = 144\n",
    "nx = 12\n",
    "ny = 12\n",
    "total_bin = nx*ny\n",
    "graph = maze1_graph\n",
    "test_maze = Maze(nx, ny, graph)\n",
    "print(len(test_maze.runs))\n"
   ]
  },
  {
   "cell_type": "code",
   "execution_count": 7,
   "metadata": {},
   "outputs": [
    {
     "data": {
      "text/plain": [
       "0"
      ]
     },
     "execution_count": 7,
     "metadata": {},
     "output_type": "execute_result"
    }
   ],
   "source": [
    "new_maze = test_maze.make_maze()\n",
    "len(test_maze.runs)"
   ]
  },
  {
   "cell_type": "code",
   "execution_count": 29,
   "metadata": {},
   "outputs": [
    {
     "ename": "NameError",
     "evalue": "name 'test_maze' is not defined",
     "output_type": "error",
     "traceback": [
      "\u001b[1;31m---------------------------------------------------------------------------\u001b[0m",
      "\u001b[1;31mNameError\u001b[0m                                 Traceback (most recent call last)",
      "\u001b[1;32m<ipython-input-29-d4ba462191de>\u001b[0m in \u001b[0;36m<module>\u001b[1;34m\u001b[0m\n\u001b[1;32m----> 1\u001b[1;33m \u001b[0mtest_maze\u001b[0m\u001b[1;33m.\u001b[0m\u001b[0mruns\u001b[0m\u001b[1;33m\u001b[0m\u001b[1;33m\u001b[0m\u001b[0m\n\u001b[0m",
      "\u001b[1;31mNameError\u001b[0m: name 'test_maze' is not defined"
     ]
    }
   ],
   "source": [
    "test_maze.runs"
   ]
  },
  {
   "cell_type": "code",
   "execution_count": 8,
   "metadata": {},
   "outputs": [
    {
     "data": {
      "text/plain": [
       "[[1],\n",
       " [2],\n",
       " [13],\n",
       " [14, 26, 27, 15, 3, 4, 5, 6],\n",
       " [7, 8],\n",
       " [18, 17],\n",
       " [16, 28],\n",
       " [29, 30],\n",
       " [31, 19, 20, 21, 9, 10, 11, 12, 24],\n",
       " [23,\n",
       "  22,\n",
       "  34,\n",
       "  33,\n",
       "  32,\n",
       "  44,\n",
       "  45,\n",
       "  46,\n",
       "  47,\n",
       "  48,\n",
       "  60,\n",
       "  59,\n",
       "  58,\n",
       "  57,\n",
       "  56,\n",
       "  68,\n",
       "  69,\n",
       "  70,\n",
       "  71,\n",
       "  72,\n",
       "  84],\n",
       " [83, 95, 94],\n",
       " [82, 81, 80, 92, 104, 103, 91, 90, 78, 79, 67, 55],\n",
       " [43],\n",
       " [54],\n",
       " [53],\n",
       " [66, 65, 64, 63, 75, 74, 62, 50, 51],\n",
       " [39],\n",
       " [40],\n",
       " [38, 37, 49, 61, 73, 85, 97],\n",
       " [98, 86],\n",
       " [109],\n",
       " [110,\n",
       "  122,\n",
       "  123,\n",
       "  111,\n",
       "  112,\n",
       "  100,\n",
       "  99,\n",
       "  87,\n",
       "  88,\n",
       "  76,\n",
       "  77,\n",
       "  89,\n",
       "  101,\n",
       "  102,\n",
       "  114,\n",
       "  113,\n",
       "  125,\n",
       "  124,\n",
       "  136,\n",
       "  137,\n",
       "  138,\n",
       "  126,\n",
       "  127,\n",
       "  115,\n",
       "  116,\n",
       "  117,\n",
       "  129],\n",
       " [128, 140, 139],\n",
       " [141, 142],\n",
       " [130],\n",
       " [118, 119, 107, 108, 120],\n",
       " [131, 132, 144],\n",
       " [143],\n",
       " [121, 133, 134, 135],\n",
       " [52],\n",
       " [106, 105, 93],\n",
       " [96],\n",
       " [36, 35],\n",
       " [42, 41],\n",
       " [25],\n",
       " [1],\n",
       " [2],\n",
       " [13],\n",
       " [14, 26, 27, 15, 3, 4, 5, 6],\n",
       " [7, 8],\n",
       " [18, 17],\n",
       " [16, 28],\n",
       " [29, 30],\n",
       " [31, 19, 20, 21, 9, 10, 11, 12, 24],\n",
       " [23,\n",
       "  22,\n",
       "  34,\n",
       "  33,\n",
       "  32,\n",
       "  44,\n",
       "  45,\n",
       "  46,\n",
       "  47,\n",
       "  48,\n",
       "  60,\n",
       "  59,\n",
       "  58,\n",
       "  57,\n",
       "  56,\n",
       "  68,\n",
       "  69,\n",
       "  70,\n",
       "  71,\n",
       "  72,\n",
       "  84],\n",
       " [83, 95, 94],\n",
       " [82, 81, 80, 92, 104, 103, 91, 90, 78, 79, 67, 55],\n",
       " [43],\n",
       " [54],\n",
       " [53],\n",
       " [66, 65, 64, 63, 75, 74, 62, 50, 51],\n",
       " [39],\n",
       " [40],\n",
       " [38, 37, 49, 61, 73, 85, 97],\n",
       " [98, 86],\n",
       " [109],\n",
       " [110,\n",
       "  122,\n",
       "  123,\n",
       "  111,\n",
       "  112,\n",
       "  100,\n",
       "  99,\n",
       "  87,\n",
       "  88,\n",
       "  76,\n",
       "  77,\n",
       "  89,\n",
       "  101,\n",
       "  102,\n",
       "  114,\n",
       "  113,\n",
       "  125,\n",
       "  124,\n",
       "  136,\n",
       "  137,\n",
       "  138,\n",
       "  126,\n",
       "  127,\n",
       "  115,\n",
       "  116,\n",
       "  117,\n",
       "  129],\n",
       " [128, 140, 139],\n",
       " [141, 142],\n",
       " [130],\n",
       " [118, 119, 107, 108, 120],\n",
       " [131, 132, 144],\n",
       " [143],\n",
       " [121, 133, 134, 135],\n",
       " [52],\n",
       " [106, 105, 93],\n",
       " [96],\n",
       " [36, 35],\n",
       " [42, 41],\n",
       " [25],\n",
       " [1],\n",
       " [2],\n",
       " [13],\n",
       " [14, 26, 27, 15, 3, 4, 5, 6],\n",
       " [7, 8],\n",
       " [18, 17],\n",
       " [16, 28],\n",
       " [29, 30],\n",
       " [31, 19, 20, 21, 9, 10, 11, 12, 24],\n",
       " [23,\n",
       "  22,\n",
       "  34,\n",
       "  33,\n",
       "  32,\n",
       "  44,\n",
       "  45,\n",
       "  46,\n",
       "  47,\n",
       "  48,\n",
       "  60,\n",
       "  59,\n",
       "  58,\n",
       "  57,\n",
       "  56,\n",
       "  68,\n",
       "  69,\n",
       "  70,\n",
       "  71,\n",
       "  72,\n",
       "  84],\n",
       " [83, 95, 94],\n",
       " [82, 81, 80, 92, 104, 103, 91, 90, 78, 79, 67, 55],\n",
       " [43],\n",
       " [54],\n",
       " [53],\n",
       " [66, 65, 64, 63, 75, 74, 62, 50, 51],\n",
       " [39],\n",
       " [40],\n",
       " [38, 37, 49, 61, 73, 85, 97],\n",
       " [98, 86],\n",
       " [109],\n",
       " [110,\n",
       "  122,\n",
       "  123,\n",
       "  111,\n",
       "  112,\n",
       "  100,\n",
       "  99,\n",
       "  87,\n",
       "  88,\n",
       "  76,\n",
       "  77,\n",
       "  89,\n",
       "  101,\n",
       "  102,\n",
       "  114,\n",
       "  113,\n",
       "  125,\n",
       "  124,\n",
       "  136,\n",
       "  137,\n",
       "  138,\n",
       "  126,\n",
       "  127,\n",
       "  115,\n",
       "  116,\n",
       "  117,\n",
       "  129],\n",
       " [128, 140, 139],\n",
       " [141, 142],\n",
       " [130],\n",
       " [118, 119, 107, 108, 120],\n",
       " [131, 132, 144],\n",
       " [143],\n",
       " [121, 133, 134, 135],\n",
       " [52],\n",
       " [106, 105, 93],\n",
       " [96],\n",
       " [36, 35],\n",
       " [42, 41],\n",
       " [25],\n",
       " [1],\n",
       " [2],\n",
       " [13],\n",
       " [14, 26, 27, 15, 3, 4, 5, 6],\n",
       " [7, 8],\n",
       " [18, 17],\n",
       " [16, 28],\n",
       " [29, 30],\n",
       " [31, 19, 20, 21, 9, 10, 11, 12, 24],\n",
       " [23,\n",
       "  22,\n",
       "  34,\n",
       "  33,\n",
       "  32,\n",
       "  44,\n",
       "  45,\n",
       "  46,\n",
       "  47,\n",
       "  48,\n",
       "  60,\n",
       "  59,\n",
       "  58,\n",
       "  57,\n",
       "  56,\n",
       "  68,\n",
       "  69,\n",
       "  70,\n",
       "  71,\n",
       "  72,\n",
       "  84],\n",
       " [83, 95, 94],\n",
       " [82, 81, 80, 92, 104, 103, 91, 90, 78, 79, 67, 55],\n",
       " [43],\n",
       " [54],\n",
       " [53],\n",
       " [66, 65, 64, 63, 75, 74, 62, 50, 51],\n",
       " [39],\n",
       " [40],\n",
       " [38, 37, 49, 61, 73, 85, 97],\n",
       " [98, 86],\n",
       " [109],\n",
       " [110,\n",
       "  122,\n",
       "  123,\n",
       "  111,\n",
       "  112,\n",
       "  100,\n",
       "  99,\n",
       "  87,\n",
       "  88,\n",
       "  76,\n",
       "  77,\n",
       "  89,\n",
       "  101,\n",
       "  102,\n",
       "  114,\n",
       "  113,\n",
       "  125,\n",
       "  124,\n",
       "  136,\n",
       "  137,\n",
       "  138,\n",
       "  126,\n",
       "  127,\n",
       "  115,\n",
       "  116,\n",
       "  117,\n",
       "  129],\n",
       " [128, 140, 139],\n",
       " [141, 142],\n",
       " [130],\n",
       " [118, 119, 107, 108, 120],\n",
       " [131, 132, 144],\n",
       " [143],\n",
       " [121, 133, 134, 135],\n",
       " [52],\n",
       " [106, 105, 93],\n",
       " [96],\n",
       " [36, 35],\n",
       " [42, 41],\n",
       " [25],\n",
       " [1],\n",
       " [2],\n",
       " [13],\n",
       " [14, 26, 27, 15, 3, 4, 5, 6],\n",
       " [7, 8],\n",
       " [18, 17],\n",
       " [16, 28],\n",
       " [29, 30],\n",
       " [31, 19, 20, 21, 9, 10, 11, 12, 24],\n",
       " [23,\n",
       "  22,\n",
       "  34,\n",
       "  33,\n",
       "  32,\n",
       "  44,\n",
       "  45,\n",
       "  46,\n",
       "  47,\n",
       "  48,\n",
       "  60,\n",
       "  59,\n",
       "  58,\n",
       "  57,\n",
       "  56,\n",
       "  68,\n",
       "  69,\n",
       "  70,\n",
       "  71,\n",
       "  72,\n",
       "  84],\n",
       " [83, 95, 94],\n",
       " [82, 81, 80, 92, 104, 103, 91, 90, 78, 79, 67, 55],\n",
       " [43],\n",
       " [54],\n",
       " [53],\n",
       " [66, 65, 64, 63, 75, 74, 62, 50, 51],\n",
       " [39],\n",
       " [40],\n",
       " [38, 37, 49, 61, 73, 85, 97],\n",
       " [98, 86],\n",
       " [109],\n",
       " [110,\n",
       "  122,\n",
       "  123,\n",
       "  111,\n",
       "  112,\n",
       "  100,\n",
       "  99,\n",
       "  87,\n",
       "  88,\n",
       "  76,\n",
       "  77,\n",
       "  89,\n",
       "  101,\n",
       "  102,\n",
       "  114,\n",
       "  113,\n",
       "  125,\n",
       "  124,\n",
       "  136,\n",
       "  137,\n",
       "  138,\n",
       "  126,\n",
       "  127,\n",
       "  115,\n",
       "  116,\n",
       "  117,\n",
       "  129],\n",
       " [128, 140, 139],\n",
       " [141, 142],\n",
       " [130],\n",
       " [118, 119, 107, 108, 120],\n",
       " [131, 132, 144],\n",
       " [143],\n",
       " [121, 133, 134, 135],\n",
       " [52],\n",
       " [106, 105, 93],\n",
       " [96],\n",
       " [36, 35],\n",
       " [42, 41],\n",
       " [25],\n",
       " [1],\n",
       " [2],\n",
       " [13],\n",
       " [14, 26, 27, 15, 3, 4, 5, 6],\n",
       " [7, 8],\n",
       " [18, 17],\n",
       " [16, 28],\n",
       " [29, 30],\n",
       " [31, 19, 20, 21, 9, 10, 11, 12, 24],\n",
       " [23,\n",
       "  22,\n",
       "  34,\n",
       "  33,\n",
       "  32,\n",
       "  44,\n",
       "  45,\n",
       "  46,\n",
       "  47,\n",
       "  48,\n",
       "  60,\n",
       "  59,\n",
       "  58,\n",
       "  57,\n",
       "  56,\n",
       "  68,\n",
       "  69,\n",
       "  70,\n",
       "  71,\n",
       "  72,\n",
       "  84],\n",
       " [83, 95, 94],\n",
       " [82, 81, 80, 92, 104, 103, 91, 90, 78, 79, 67, 55],\n",
       " [43],\n",
       " [54],\n",
       " [53],\n",
       " [66, 65, 64, 63, 75, 74, 62, 50, 51],\n",
       " [39],\n",
       " [40],\n",
       " [38, 37, 49, 61, 73, 85, 97],\n",
       " [98, 86],\n",
       " [109],\n",
       " [110,\n",
       "  122,\n",
       "  123,\n",
       "  111,\n",
       "  112,\n",
       "  100,\n",
       "  99,\n",
       "  87,\n",
       "  88,\n",
       "  76,\n",
       "  77,\n",
       "  89,\n",
       "  101,\n",
       "  102,\n",
       "  114,\n",
       "  113,\n",
       "  125,\n",
       "  124,\n",
       "  136,\n",
       "  137,\n",
       "  138,\n",
       "  126,\n",
       "  127,\n",
       "  115,\n",
       "  116,\n",
       "  117,\n",
       "  129],\n",
       " [128, 140, 139],\n",
       " [141, 142],\n",
       " [130],\n",
       " [118, 119, 107, 108, 120],\n",
       " [131, 132, 144],\n",
       " [143],\n",
       " [121, 133, 134, 135],\n",
       " [52],\n",
       " [106, 105, 93],\n",
       " [96],\n",
       " [36, 35],\n",
       " [42, 41],\n",
       " [25]]"
      ]
     },
     "execution_count": 8,
     "metadata": {},
     "output_type": "execute_result"
    }
   ],
   "source": [
    "test_maze.runs"
   ]
  },
  {
   "cell_type": "code",
   "execution_count": 2,
   "metadata": {},
   "outputs": [
    {
     "data": {
      "text/plain": [
       "0"
      ]
     },
     "execution_count": 2,
     "metadata": {},
     "output_type": "execute_result"
    }
   ],
   "source": [
    "len(test_maze.runs)"
   ]
  },
  {
   "cell_type": "code",
   "execution_count": 5,
   "metadata": {
    "scrolled": true
   },
   "outputs": [
    {
     "name": "stdout",
     "output_type": "stream",
     "text": [
      "M10019maze2Day3\n",
      "10    Z:/miniscope_recording/maze/4_30_2020/10019H14...\n",
      "Name: recording_folder_local, dtype: object\n",
      "ms data length: 26\n",
      "M10024maze1Day8\n",
      "49    Z:/miniscope_recording/maze/4_24_2020/10024H17...\n",
      "Name: recording_folder_local, dtype: object\n",
      "ms data length: 27\n",
      "M10027maze1Day1\n",
      "68    Z:/miniscope_recording/maze/4_17_2020/10027H15...\n",
      "Name: recording_folder_local, dtype: object\n",
      "ms data length: 26\n",
      "M10031maze1Day3\n",
      "130    Z:/miniscope_recording/maze/4_20_2020/10031H16...\n",
      "Name: recording_folder_local, dtype: object\n",
      "ms data length: 25\n",
      "M10031maze1Day7\n",
      "134    Z:/miniscope_recording/maze/4_24_2020/10031H15...\n",
      "Name: recording_folder_local, dtype: object\n",
      "ms data length: 27\n"
     ]
    }
   ],
   "source": [
    "import h5py\n",
    "mice_names = mice_status[\"name\"]\n",
    "mice_names = mice_names.drop(4)\n",
    "# maze_type_mice = set(data[data.name == mice_names[0]][\"maze_type\"])\n",
    "maze_type_set = set(data[data.name == mice_name][\"maze_type\"])\n",
    "training_day_set = set(data[(data.name == mice_names[0]) & (data.maze_type == 1)][\"training_day\"])\n",
    "for mice_name in mice_names:\n",
    "    maze_type_set = set(data[data.name == mice_name][\"maze_type\"])\n",
    "\n",
    "    for maze_type in maze_type_set:\n",
    "        # training_day_set = set(data[(data.name == mice_name) & (data.maze_type == maze_type)][\"training_day\"])\n",
    "        training_day_set = set(data[(data.name == mice_name) & (data.maze_type == maze_type)][\"training_day\"])\n",
    "        for i_day in training_day_set:\n",
    "            current_day = i_day\n",
    "            current_sign = \"M\" + str(mice_name)+\"maze\"+str(maze_type)+\"Day\"+str(current_day)\n",
    "            \n",
    "            folder =  data[(data.name == mice_name) & (data.training_day == current_day) & (data.maze_type == maze_type)][\"recording_folder_local\"]\n",
    "            matfile = folder.values[0] + \"/\" + \"ms.mat\"\n",
    "            with h5py.File(matfile, 'r') as f:\n",
    "                ms_mat = f['ms']\n",
    "                if(len(ms_mat)!=28):\n",
    "                    print(current_sign)\n",
    "                    print(folder)\n",
    "                    print(\"ms data length:\",len(ms_mat))\n"
   ]
  },
  {
   "cell_type": "code",
   "execution_count": 12,
   "metadata": {},
   "outputs": [
    {
     "name": "stdout",
     "output_type": "stream",
     "text": [
      "M10028maze1Day1\n",
      "77    Z:/miniscope_recording/maze/4_17_2020/10028H16...\n",
      "Name: recording_folder_local, dtype: object\n"
     ]
    },
    {
     "ename": "FileNotFoundError",
     "evalue": "[Errno 2] No such file or directory: 'data/M10028maze1Day1behav_decision.pkl'",
     "output_type": "error",
     "traceback": [
      "\u001b[1;31m---------------------------------------------------------------------------\u001b[0m",
      "\u001b[1;31mFileNotFoundError\u001b[0m                         Traceback (most recent call last)",
      "\u001b[1;32m<ipython-input-12-f38b61d211da>\u001b[0m in \u001b[0;36m<module>\u001b[1;34m\u001b[0m\n\u001b[0;32m     26\u001b[0m             \u001b[1;31m# read behav data\u001b[0m\u001b[1;33m\u001b[0m\u001b[1;33m\u001b[0m\u001b[1;33m\u001b[0m\u001b[0m\n\u001b[0;32m     27\u001b[0m             \u001b[0mdecision_file\u001b[0m \u001b[1;33m=\u001b[0m \u001b[1;34m'data/'\u001b[0m \u001b[1;33m+\u001b[0m \u001b[0mcurrent_sign\u001b[0m \u001b[1;33m+\u001b[0m\u001b[1;34m'behav_decision.pkl'\u001b[0m\u001b[1;33m\u001b[0m\u001b[1;33m\u001b[0m\u001b[0m\n\u001b[1;32m---> 28\u001b[1;33m             \u001b[1;32mwith\u001b[0m \u001b[0mopen\u001b[0m\u001b[1;33m(\u001b[0m\u001b[0mdecision_file\u001b[0m\u001b[1;33m,\u001b[0m \u001b[1;34m'rb'\u001b[0m\u001b[1;33m)\u001b[0m \u001b[1;32mas\u001b[0m \u001b[0mhandle\u001b[0m\u001b[1;33m:\u001b[0m\u001b[1;33m\u001b[0m\u001b[1;33m\u001b[0m\u001b[0m\n\u001b[0m\u001b[0;32m     29\u001b[0m                 \u001b[0mcorrect_time\u001b[0m\u001b[1;33m,\u001b[0m \u001b[0mwrong_time\u001b[0m\u001b[1;33m,\u001b[0m \u001b[0mcorrect_time_percentage\u001b[0m\u001b[1;33m,\u001b[0m \u001b[0mdecision_rate\u001b[0m\u001b[1;33m,\u001b[0m\u001b[0mtime_levels\u001b[0m\u001b[1;33m,\u001b[0m \u001b[0mstop_time_mean\u001b[0m\u001b[1;33m,\u001b[0m \u001b[0mstop_time_median\u001b[0m\u001b[1;33m,\u001b[0m \u001b[0mspeed_bin\u001b[0m \u001b[1;33m=\u001b[0m \u001b[0mpickle\u001b[0m\u001b[1;33m.\u001b[0m\u001b[0mload\u001b[0m\u001b[1;33m(\u001b[0m\u001b[0mhandle\u001b[0m\u001b[1;33m)\u001b[0m\u001b[1;33m\u001b[0m\u001b[1;33m\u001b[0m\u001b[0m\n\u001b[0;32m     30\u001b[0m             \u001b[0mbehav_processed_file\u001b[0m \u001b[1;33m=\u001b[0m \u001b[1;34m'data/'\u001b[0m \u001b[1;33m+\u001b[0m \u001b[0mcurrent_sign\u001b[0m \u001b[1;33m+\u001b[0m\u001b[1;34m'behav_processed.pkl'\u001b[0m\u001b[1;33m\u001b[0m\u001b[1;33m\u001b[0m\u001b[0m\n",
      "\u001b[1;31mFileNotFoundError\u001b[0m: [Errno 2] No such file or directory: 'data/M10028maze1Day1behav_decision.pkl'"
     ]
    }
   ],
   "source": [
    "mice_names = [10028,10030,10031,10032,10033]\n",
    "# Loop over mice_name, maze_type and training_day\n",
    "for mice_name in mice_names:\n",
    "    # maze_type_set = set(data[data.name == mice_name][\"maze_type\"])\n",
    "    maze_type_set = {1}\n",
    "    \n",
    "    for maze_type in maze_type_set:\n",
    "        training_day_set = set(data[(data.name == mice_name) & (data.maze_type == maze_type)][\"training_day\"])\n",
    "\n",
    "        for i_day in training_day_set:\n",
    "            current_day = i_day\n",
    "            current_sign = \"M\" + str(mice_name)+\"maze\"+str(maze_type)+\"Day\"+str(current_day)\n",
    "            print(current_sign)\n",
    "            \n",
    "            folder =  data[(data.name == mice_name) & (data.training_day == current_day) & (data.maze_type == maze_type)][\"recording_folder_local\"]\n",
    "            print(folder)\n",
    "            \n",
    "            matfile = folder.values[0] + \"/\" + \"ms.mat\"\n",
    "            # read calcium data: ms.mat\n",
    "            with h5py.File(matfile, 'r') as f:\n",
    "                ms_mat = f['ms']\n",
    "                FiltTraces = np.array(ms_mat['FiltTraces'])\n",
    "                RawTraces = np.array(ms_mat['RawTraces'])\n",
    "                DeconvSignal = np.array(ms_mat['DeconvSignals'])\n",
    "                ms_time = np.array(ms_mat['time'])[0,]\n",
    "            # read behav data\n",
    "            decision_file = 'data/' + current_sign +'behav_decision.pkl'\n",
    "            with open(decision_file, 'rb') as handle:\n",
    "                correct_time, wrong_time, correct_time_percentage, decision_rate,time_levels, stop_time_mean, stop_time_median, speed_bin = pickle.load(handle)\n",
    "            behav_processed_file = 'data/' + current_sign +'behav_processed.pkl'\n",
    "            with open(behav_processed_file, 'rb') as handle:\n",
    "                behav_time_original, behav_nodes_interpolated, behav_dir = pickle.load(handle)\n",
    "\n",
    "            #### Preprocessing data\n",
    "            # remove no behav recording period\n",
    "            behav_mask = (ms_time>=behav_time_original[0]) & (ms_time<behav_time_original[-1])\n",
    "            FiltTraces_behav = FiltTraces[:,behav_mask]\n",
    "            RawTraces_behav = RawTraces[:,behav_mask]\n",
    "            DeconvSignal_behav = DeconvSignal[:,behav_mask]\n",
    "            ms_time_behav = ms_time[behav_mask]\n",
    "            # binarize neuron.S\n",
    "            deconv_sd = np.std(DeconvSignal_behav, axis = 1) * 3\n",
    "            Spikes = np.where(DeconvSignal_behav>np.repeat(deconv_sd[:,np.newaxis], DeconvSignal_behav.shape[1],1), 1, 0)\n",
    "\n",
    "            #### Incorporate maze structure to behavior trajectory: interpolation, etc..\n",
    "            # transform bin number, making upper right bin (1, 1)\n",
    "            nx = 12\n",
    "            ny = 12\n",
    "            graph = maze1_graph if maze_type==1 else maze2_graph\n",
    "            total_bin = nx*ny\n",
    "            start_node = 1\n",
    "            end_node = 144\n",
    "            test_maze = Maze(nx, ny, graph)\n",
    "            new_maze = test_maze.make_maze()\n",
    "            # new_maze = test_maze.make_maze() # no need to make_maze, already included in __init__()\n",
    "            shortest_path = test_maze.BFS_SP(graph, start_node, end_node)\n",
    "\n",
    "            #### Analyze calcium data\n",
    "            # spike per bin\n",
    "            spike_nodes = np.zeros_like(Spikes[0,:])\n",
    "            for i in range(0, len(spike_nodes)):\n",
    "                if ms_time_behav[i] < behav_time_original[0]:\n",
    "                    spike_nodes[i] = start_node;\n",
    "                else:\n",
    "                    match_index = np.where(behav_time_original <= ms_time_behav[i])[0][-1]\n",
    "                    spike_nodes[i] = behav_nodes_interpolated[match_index]\n",
    "            spike_bins = test_maze.idx_to_loc(spike_nodes-1)\n",
    "\n",
    "            # occupancy map, in ms\n",
    "            # Duration for each (X,Y) sample (clipped to maxGap)\n",
    "            maxGap = 100\n",
    "            stay_time = np.append(np.ediff1d(ms_time_behav),0)\n",
    "            stay_time[stay_time>maxGap] = maxGap\n",
    "            _nbins = total_bin\n",
    "            _coords_range = [0, _nbins +0.0001 ]\n",
    "            occu_time, xbin_edges, bin_numbers = scipy.stats.binned_statistic(\n",
    "                    spike_nodes,\n",
    "                    stay_time,\n",
    "                    bins=_nbins,\n",
    "                    statistic=\"sum\",\n",
    "                    range=_coords_range)\n",
    "\n",
    "            assert((bin_numbers == spike_nodes).all())\n",
    "            minimum_occu_thres = 50 # ms, occupancy time less than the threshold are set to NAN, preventing large spike rate\n",
    "            occu_time[occu_time<minimum_occu_thres] = np.nan\n",
    "            # rate map (for all neuron)\n",
    "            _nbins = total_bin\n",
    "            _coords_range = [0, _nbins +0.0001 ]\n",
    "            n_neuron = Spikes.shape[0]\n",
    "            spike_freq_all = np.zeros([n_neuron,total_bin])\n",
    "            rate_map_all =  np.zeros_like(spike_freq_all)\n",
    "            for i in range(n_neuron):\n",
    "                spike_freq_all[i,] ,_ ,_= scipy.stats.binned_statistic(\n",
    "                    spike_nodes,\n",
    "                    Spikes[i,:],\n",
    "                    bins=_nbins,\n",
    "                    statistic=\"sum\",\n",
    "                    range=_coords_range)\n",
    "                rate_map_all[i,] = spike_freq_all[i,]/(occu_time/1000+ 1E-9)\n",
    "\n",
    "            #### Calculate spatial information (all neurons) and shuffle (shift method)\n",
    "            t_total = np.nansum(occu_time)/1000 # total time of trial\n",
    "            t_nodes_frac = occu_time/1000/ (t_total+ 1E-6)   # time spent in ith bin/total session time\n",
    "            SI_all = np.zeros(n_neuron)\n",
    "            is_placecell_shift = np.zeros(n_neuron)\n",
    "            for i in tqdm(range(n_neuron)):\n",
    "                SI_all[i] = calc_SI(spikes=Spikes[i,], rate_map=rate_map_all[i,], t_total=t_total, t_nodes_frac=t_nodes_frac)\n",
    "                is_placecell_shift[i] = shuffle_test_shift(SI = SI_all[i], spikes = Spikes[i,], spike_nodes=spike_nodes, occu_time=occu_time, _coords_range=_coords_range)    \n",
    "            print(\"# of place cell using time shift shuffle method:\" ,np.sum(is_placecell_shift ),\"/\",n_neuron)\n",
    "\n",
    "            ## !! save data\n",
    "            mylist = [rate_map_all, is_placecell_shift, SI_all, spike_freq_all, occu_time]\n",
    "            with open('data/' + current_sign + \"ratemap.pkl\", 'wb') as f:\n",
    "                pickle.dump(mylist, f)\n",
    "\n",
    "\n",
    "            #### run selective %\n",
    "            ## spike node to runs\n",
    "            spike_runs = np.zeros_like(spike_nodes)\n",
    "            for i in range(len(spike_nodes)):\n",
    "                spike_runs[i] = node_to_run(spike_nodes[i], test_maze.runs)\n",
    "\n",
    "            ## occupancy map, in ms\n",
    "            _nruns = len(test_maze.runs)\n",
    "            _coords_range = [0, _nruns +0.0001 ]\n",
    "            occu_time_run, _, run_numbers = scipy.stats.binned_statistic(\n",
    "                    spike_runs,\n",
    "                    stay_time,\n",
    "                    bins=_nruns,\n",
    "                    statistic=\"sum\",\n",
    "                    range=_coords_range)\n",
    "            assert((run_numbers == spike_runs).all())\n",
    "            minimum_occu_thres = 50 # ms, occupancy time less than the threshold are set to NAN, preventing large spike rate\n",
    "            occu_time_run[occu_time_run<minimum_occu_thres] = np.nan\n",
    "\n",
    "            ## run rate map \n",
    "            ## sum rate map (for first neuron)\n",
    "            spikes = Spikes[0,:]\n",
    "            # spike_map: total spikes per nodes\n",
    "            spike_freq_run, xbin_edges, run_numbers = scipy.stats.binned_statistic(\n",
    "                    spike_runs,\n",
    "                    spikes,\n",
    "                    bins=_nruns,\n",
    "                    statistic=\"sum\",\n",
    "                    range=_coords_range)\n",
    "            rate_map_run = spike_freq_run/(occu_time_run/1000+ 1E-6) # ratemap: spike_map / occupancy_map\n",
    "            assert((run_numbers == spike_runs).all())\n",
    "\n",
    "            ## rate map for runs (for all neuron)\n",
    "            n_neuron = Spikes.shape[0]\n",
    "            spike_freq_run_all = np.zeros([n_neuron, _nruns])\n",
    "            rate_map_run_all =  np.zeros_like(spike_freq_run_all)\n",
    "            for i in range(n_neuron):\n",
    "                spike_freq_run_all[i,] ,_ ,_= scipy.stats.binned_statistic(\n",
    "                    spike_runs,\n",
    "                    Spikes[i,:],\n",
    "                    bins=_nruns,\n",
    "                    statistic=\"sum\",\n",
    "                    range=_coords_range)\n",
    "                rate_map_run_all[i,] = spike_freq_run_all[i,]/(occu_time_run/1000+ 1E-9)\n",
    "\n",
    "            ## spatial information for runs(all neurons)\n",
    "            t_runs_frac = occu_time_run/1000/ (t_total+ 1E-6)   # time spent in ith bin/total session time\n",
    "\n",
    "            # Shuffle: shift with a random constant\n",
    "            SI_run_all = np.zeros(n_neuron)\n",
    "            is_runcell_shift = np.zeros(n_neuron)\n",
    "\n",
    "            for i in tqdm(range(n_neuron)):\n",
    "                SI_run_all[i] = calc_SI(spikes=Spikes[i,], rate_map=rate_map_run_all[i,], t_total=t_total, t_nodes_frac=t_runs_frac)\n",
    "                is_runcell_shift[i] = shuffle_test_shift(SI = SI_run_all[i], spikes = Spikes[i,], spike_nodes=spike_runs, occu_time=occu_time_run, _coords_range=_coords_range, _nbins = _nruns)\n",
    "\n",
    "            print(\"# of run cell using time shift shuffle method:\", np.sum(is_runcell_shift), \"/\", n_neuron)\n",
    "\n",
    "            ## !! save data\n",
    "            mylist = [rate_map_run_all, is_runcell_shift, SI_run_all, spike_freq_run_all, occu_time_run]\n",
    "            with open('data/' + current_sign + \"ratemap_run.pkl\", 'wb') as f:\n",
    "                pickle.dump(mylist, f)\n"
   ]
  },
  {
   "cell_type": "code",
   "execution_count": 4,
   "metadata": {},
   "outputs": [
    {
     "name": "stdout",
     "output_type": "stream",
     "text": [
      "10026\n",
      "10027\n",
      "10028\n",
      "10030\n",
      "10031\n",
      "10032\n",
      "10033\n"
     ]
    }
   ],
   "source": [
    "mice_names = [\"10026\",\"10027\",\"10028\",\"10030\",\"10031\",\"10032\",\"10033\"]\n",
    "# Loop over mice_name, maze_type and training_day\n",
    "for mice_name in mice_names:\n",
    "    print(mice_name)\n"
   ]
  },
  {
   "cell_type": "code",
   "execution_count": 10,
   "metadata": {},
   "outputs": [
    {
     "data": {
      "text/html": [
       "<div>\n",
       "<style scoped>\n",
       "    .dataframe tbody tr th:only-of-type {\n",
       "        vertical-align: middle;\n",
       "    }\n",
       "\n",
       "    .dataframe tbody tr th {\n",
       "        vertical-align: top;\n",
       "    }\n",
       "\n",
       "    .dataframe thead th {\n",
       "        text-align: right;\n",
       "    }\n",
       "</style>\n",
       "<table border=\"1\" class=\"dataframe\">\n",
       "  <thead>\n",
       "    <tr style=\"text-align: right;\">\n",
       "      <th></th>\n",
       "      <th>name</th>\n",
       "      <th>training_day</th>\n",
       "      <th>maze_type</th>\n",
       "      <th>recording_folder</th>\n",
       "      <th>recording_folder_local</th>\n",
       "      <th>note</th>\n",
       "    </tr>\n",
       "  </thead>\n",
       "  <tbody>\n",
       "    <tr>\n",
       "      <th>59</th>\n",
       "      <td>10026</td>\n",
       "      <td>1</td>\n",
       "      <td>1</td>\n",
       "      <td>H:\\miniscope recording\\maze\\4_17_2020\\10026H14...</td>\n",
       "      <td>Z:/miniscope_recording/maze/4_17_2020/10026H14...</td>\n",
       "      <td>NaN</td>\n",
       "    </tr>\n",
       "    <tr>\n",
       "      <th>60</th>\n",
       "      <td>10026</td>\n",
       "      <td>2</td>\n",
       "      <td>1</td>\n",
       "      <td>H:\\miniscope recording\\maze\\4_18_2020\\10026H14...</td>\n",
       "      <td>Z:/miniscope_recording/maze/4_18_2020/10026H14...</td>\n",
       "      <td>NaN</td>\n",
       "    </tr>\n",
       "    <tr>\n",
       "      <th>61</th>\n",
       "      <td>10026</td>\n",
       "      <td>3</td>\n",
       "      <td>1</td>\n",
       "      <td>H:\\miniscope recording\\maze\\4_19_2020\\10026H14...</td>\n",
       "      <td>Z:/miniscope_recording/maze/4_19_2020/10026H14...</td>\n",
       "      <td>NaN</td>\n",
       "    </tr>\n",
       "    <tr>\n",
       "      <th>62</th>\n",
       "      <td>10026</td>\n",
       "      <td>4</td>\n",
       "      <td>1</td>\n",
       "      <td>H:\\miniscope recording\\maze\\4_20_2020\\10026H19...</td>\n",
       "      <td>Z:/miniscope_recording/maze/4_20_2020/10026H19...</td>\n",
       "      <td>NaN</td>\n",
       "    </tr>\n",
       "    <tr>\n",
       "      <th>63</th>\n",
       "      <td>10026</td>\n",
       "      <td>5</td>\n",
       "      <td>1</td>\n",
       "      <td>H:\\miniscope recording\\maze\\4_21_2020\\10026H18...</td>\n",
       "      <td>Z:/miniscope_recording/maze/4_21_2020/10026H18...</td>\n",
       "      <td>NaN</td>\n",
       "    </tr>\n",
       "    <tr>\n",
       "      <th>64</th>\n",
       "      <td>10026</td>\n",
       "      <td>6</td>\n",
       "      <td>1</td>\n",
       "      <td>H:\\miniscope recording\\maze\\4_22_2020\\10026H16...</td>\n",
       "      <td>Z:/miniscope_recording/maze/4_22_2020/10026H16...</td>\n",
       "      <td>NaN</td>\n",
       "    </tr>\n",
       "    <tr>\n",
       "      <th>65</th>\n",
       "      <td>10026</td>\n",
       "      <td>7</td>\n",
       "      <td>1</td>\n",
       "      <td>H:\\miniscope recording\\maze\\4_23_2020\\10026H16...</td>\n",
       "      <td>Z:/miniscope_recording/maze/4_23_2020/10026H16...</td>\n",
       "      <td>NaN</td>\n",
       "    </tr>\n",
       "    <tr>\n",
       "      <th>66</th>\n",
       "      <td>10026</td>\n",
       "      <td>8</td>\n",
       "      <td>1</td>\n",
       "      <td>H:\\miniscope recording\\maze\\4_24_2020\\10026H16...</td>\n",
       "      <td>Z:/miniscope_recording/maze/4_24_2020/10026H16...</td>\n",
       "      <td>NaN</td>\n",
       "    </tr>\n",
       "    <tr>\n",
       "      <th>67</th>\n",
       "      <td>10026</td>\n",
       "      <td>9</td>\n",
       "      <td>1</td>\n",
       "      <td>H:\\miniscope recording\\maze\\4_25_2020\\10026H17...</td>\n",
       "      <td>Z:/miniscope_recording/maze/4_25_2020/10026H17...</td>\n",
       "      <td>NaN</td>\n",
       "    </tr>\n",
       "  </tbody>\n",
       "</table>\n",
       "</div>"
      ],
      "text/plain": [
       "     name  training_day  maze_type  \\\n",
       "59  10026             1          1   \n",
       "60  10026             2          1   \n",
       "61  10026             3          1   \n",
       "62  10026             4          1   \n",
       "63  10026             5          1   \n",
       "64  10026             6          1   \n",
       "65  10026             7          1   \n",
       "66  10026             8          1   \n",
       "67  10026             9          1   \n",
       "\n",
       "                                     recording_folder  \\\n",
       "59  H:\\miniscope recording\\maze\\4_17_2020\\10026H14...   \n",
       "60  H:\\miniscope recording\\maze\\4_18_2020\\10026H14...   \n",
       "61  H:\\miniscope recording\\maze\\4_19_2020\\10026H14...   \n",
       "62  H:\\miniscope recording\\maze\\4_20_2020\\10026H19...   \n",
       "63  H:\\miniscope recording\\maze\\4_21_2020\\10026H18...   \n",
       "64  H:\\miniscope recording\\maze\\4_22_2020\\10026H16...   \n",
       "65  H:\\miniscope recording\\maze\\4_23_2020\\10026H16...   \n",
       "66  H:\\miniscope recording\\maze\\4_24_2020\\10026H16...   \n",
       "67  H:\\miniscope recording\\maze\\4_25_2020\\10026H17...   \n",
       "\n",
       "                               recording_folder_local note  \n",
       "59  Z:/miniscope_recording/maze/4_17_2020/10026H14...  NaN  \n",
       "60  Z:/miniscope_recording/maze/4_18_2020/10026H14...  NaN  \n",
       "61  Z:/miniscope_recording/maze/4_19_2020/10026H14...  NaN  \n",
       "62  Z:/miniscope_recording/maze/4_20_2020/10026H19...  NaN  \n",
       "63  Z:/miniscope_recording/maze/4_21_2020/10026H18...  NaN  \n",
       "64  Z:/miniscope_recording/maze/4_22_2020/10026H16...  NaN  \n",
       "65  Z:/miniscope_recording/maze/4_23_2020/10026H16...  NaN  \n",
       "66  Z:/miniscope_recording/maze/4_24_2020/10026H16...  NaN  \n",
       "67  Z:/miniscope_recording/maze/4_25_2020/10026H17...  NaN  "
      ]
     },
     "execution_count": 10,
     "metadata": {},
     "output_type": "execute_result"
    }
   ],
   "source": [
    "data[data.name == 10026]"
   ]
  },
  {
   "cell_type": "code",
   "execution_count": 7,
   "metadata": {},
   "outputs": [
    {
     "data": {
      "text/html": [
       "<div>\n",
       "<style scoped>\n",
       "    .dataframe tbody tr th:only-of-type {\n",
       "        vertical-align: middle;\n",
       "    }\n",
       "\n",
       "    .dataframe tbody tr th {\n",
       "        vertical-align: top;\n",
       "    }\n",
       "\n",
       "    .dataframe thead th {\n",
       "        text-align: right;\n",
       "    }\n",
       "</style>\n",
       "<table border=\"1\" class=\"dataframe\">\n",
       "  <thead>\n",
       "    <tr style=\"text-align: right;\">\n",
       "      <th></th>\n",
       "      <th>name</th>\n",
       "      <th>training_day</th>\n",
       "      <th>maze_type</th>\n",
       "      <th>recording_folder</th>\n",
       "      <th>recording_folder_local</th>\n",
       "      <th>note</th>\n",
       "    </tr>\n",
       "  </thead>\n",
       "  <tbody>\n",
       "    <tr>\n",
       "      <th>0</th>\n",
       "      <td>10019</td>\n",
       "      <td>1</td>\n",
       "      <td>1</td>\n",
       "      <td>H:\\miniscope recording\\maze\\4_18_2020\\10019H16...</td>\n",
       "      <td>Z:/miniscope_recording/maze/4_18_2020/10019H16...</td>\n",
       "      <td>NaN</td>\n",
       "    </tr>\n",
       "    <tr>\n",
       "      <th>1</th>\n",
       "      <td>10019</td>\n",
       "      <td>2</td>\n",
       "      <td>1</td>\n",
       "      <td>H:\\miniscope recording\\maze\\4_19_2020\\10019H16...</td>\n",
       "      <td>Z:/miniscope_recording/maze/4_19_2020/10019H16...</td>\n",
       "      <td>NaN</td>\n",
       "    </tr>\n",
       "    <tr>\n",
       "      <th>2</th>\n",
       "      <td>10019</td>\n",
       "      <td>3</td>\n",
       "      <td>1</td>\n",
       "      <td>H:\\miniscope recording\\maze\\4_20_2020\\10019H21...</td>\n",
       "      <td>Z:/miniscope_recording/maze/4_20_2020/10019H21...</td>\n",
       "      <td>NaN</td>\n",
       "    </tr>\n",
       "    <tr>\n",
       "      <th>3</th>\n",
       "      <td>10019</td>\n",
       "      <td>4</td>\n",
       "      <td>1</td>\n",
       "      <td>H:\\miniscope recording\\maze\\4_21_2020\\10019H20...</td>\n",
       "      <td>Z:/miniscope_recording/maze/4_21_2020/10019H20...</td>\n",
       "      <td>NaN</td>\n",
       "    </tr>\n",
       "    <tr>\n",
       "      <th>4</th>\n",
       "      <td>10019</td>\n",
       "      <td>5</td>\n",
       "      <td>1</td>\n",
       "      <td>H:\\miniscope recording\\maze\\4_22_2020\\10019H10...</td>\n",
       "      <td>Z:/miniscope_recording/maze/4_22_2020/10019H10...</td>\n",
       "      <td>NaN</td>\n",
       "    </tr>\n",
       "    <tr>\n",
       "      <th>...</th>\n",
       "      <td>...</td>\n",
       "      <td>...</td>\n",
       "      <td>...</td>\n",
       "      <td>...</td>\n",
       "      <td>...</td>\n",
       "      <td>...</td>\n",
       "    </tr>\n",
       "    <tr>\n",
       "      <th>147</th>\n",
       "      <td>10033</td>\n",
       "      <td>4</td>\n",
       "      <td>1</td>\n",
       "      <td>H:\\miniscope recording\\maze\\4_21_2020\\10033H14...</td>\n",
       "      <td>Z:/miniscope_recording/maze/4_21_2020/10033H14...</td>\n",
       "      <td>NaN</td>\n",
       "    </tr>\n",
       "    <tr>\n",
       "      <th>148</th>\n",
       "      <td>10033</td>\n",
       "      <td>5</td>\n",
       "      <td>1</td>\n",
       "      <td>H:\\miniscope recording\\maze\\4_22_2020\\10033H14...</td>\n",
       "      <td>Z:/miniscope_recording/maze/4_22_2020/10033H14...</td>\n",
       "      <td>NaN</td>\n",
       "    </tr>\n",
       "    <tr>\n",
       "      <th>149</th>\n",
       "      <td>10033</td>\n",
       "      <td>6</td>\n",
       "      <td>1</td>\n",
       "      <td>H:\\miniscope recording\\maze\\4_23_2020\\10033H14...</td>\n",
       "      <td>Z:/miniscope_recording/maze/4_23_2020/10033H14...</td>\n",
       "      <td>NaN</td>\n",
       "    </tr>\n",
       "    <tr>\n",
       "      <th>150</th>\n",
       "      <td>10033</td>\n",
       "      <td>7</td>\n",
       "      <td>1</td>\n",
       "      <td>H:\\miniscope recording\\maze\\4_24_2020\\10033H14...</td>\n",
       "      <td>Z:/miniscope_recording/maze/4_24_2020/10033H14...</td>\n",
       "      <td>NaN</td>\n",
       "    </tr>\n",
       "    <tr>\n",
       "      <th>151</th>\n",
       "      <td>10033</td>\n",
       "      <td>8</td>\n",
       "      <td>1</td>\n",
       "      <td>H:\\miniscope recording\\maze\\4_25_2020\\10033H15...</td>\n",
       "      <td>Z:/miniscope_recording/maze/4_25_2020/10033H15...</td>\n",
       "      <td>NaN</td>\n",
       "    </tr>\n",
       "  </tbody>\n",
       "</table>\n",
       "<p>152 rows × 6 columns</p>\n",
       "</div>"
      ],
      "text/plain": [
       "      name  training_day  maze_type  \\\n",
       "0    10019             1          1   \n",
       "1    10019             2          1   \n",
       "2    10019             3          1   \n",
       "3    10019             4          1   \n",
       "4    10019             5          1   \n",
       "..     ...           ...        ...   \n",
       "147  10033             4          1   \n",
       "148  10033             5          1   \n",
       "149  10033             6          1   \n",
       "150  10033             7          1   \n",
       "151  10033             8          1   \n",
       "\n",
       "                                      recording_folder  \\\n",
       "0    H:\\miniscope recording\\maze\\4_18_2020\\10019H16...   \n",
       "1    H:\\miniscope recording\\maze\\4_19_2020\\10019H16...   \n",
       "2    H:\\miniscope recording\\maze\\4_20_2020\\10019H21...   \n",
       "3    H:\\miniscope recording\\maze\\4_21_2020\\10019H20...   \n",
       "4    H:\\miniscope recording\\maze\\4_22_2020\\10019H10...   \n",
       "..                                                 ...   \n",
       "147  H:\\miniscope recording\\maze\\4_21_2020\\10033H14...   \n",
       "148  H:\\miniscope recording\\maze\\4_22_2020\\10033H14...   \n",
       "149  H:\\miniscope recording\\maze\\4_23_2020\\10033H14...   \n",
       "150  H:\\miniscope recording\\maze\\4_24_2020\\10033H14...   \n",
       "151  H:\\miniscope recording\\maze\\4_25_2020\\10033H15...   \n",
       "\n",
       "                                recording_folder_local note  \n",
       "0    Z:/miniscope_recording/maze/4_18_2020/10019H16...  NaN  \n",
       "1    Z:/miniscope_recording/maze/4_19_2020/10019H16...  NaN  \n",
       "2    Z:/miniscope_recording/maze/4_20_2020/10019H21...  NaN  \n",
       "3    Z:/miniscope_recording/maze/4_21_2020/10019H20...  NaN  \n",
       "4    Z:/miniscope_recording/maze/4_22_2020/10019H10...  NaN  \n",
       "..                                                 ...  ...  \n",
       "147  Z:/miniscope_recording/maze/4_21_2020/10033H14...  NaN  \n",
       "148  Z:/miniscope_recording/maze/4_22_2020/10033H14...  NaN  \n",
       "149  Z:/miniscope_recording/maze/4_23_2020/10033H14...  NaN  \n",
       "150  Z:/miniscope_recording/maze/4_24_2020/10033H14...  NaN  \n",
       "151  Z:/miniscope_recording/maze/4_25_2020/10033H15...  NaN  \n",
       "\n",
       "[152 rows x 6 columns]"
      ]
     },
     "execution_count": 7,
     "metadata": {},
     "output_type": "execute_result"
    }
   ],
   "source": [
    "data"
   ]
  },
  {
   "cell_type": "code",
   "execution_count": null,
   "metadata": {},
   "outputs": [],
   "source": []
  }
 ],
 "metadata": {
  "kernelspec": {
   "display_name": "Python 3",
   "language": "python",
   "name": "python3"
  },
  "language_info": {
   "codemirror_mode": {
    "name": "ipython",
    "version": 3
   },
   "file_extension": ".py",
   "mimetype": "text/x-python",
   "name": "python",
   "nbconvert_exporter": "python",
   "pygments_lexer": "ipython3",
   "version": "3.8.5"
  }
 },
 "nbformat": 4,
 "nbformat_minor": 4
}
