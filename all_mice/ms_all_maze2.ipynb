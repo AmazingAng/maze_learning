{
 "cells": [
  {
   "cell_type": "code",
   "execution_count": 1,
   "metadata": {},
   "outputs": [],
   "source": [
    "import pandas as pd\n",
    "from scipy.io import loadmat\n",
    "import matplotlib.pyplot as plt\n",
    "import pickle\n",
    "import h5py\n",
    "import cv2\n",
    "import os\n",
    "import numpy as np\n",
    "import time\n",
    "import sklearn.preprocessing\n",
    "from tqdm import tqdm\n",
    "from matplotlib.backends.backend_pdf import PdfPages\n",
    "import pylab as pl\n",
    "\n",
    "from maze_utils import *\n",
    "from behav_utils import *\n",
    "from ms_utils import *\n",
    "\n",
    "mice_status = pd.read_excel(\"mice_maze_metadataAng.xlsx\", sheet_name=0)\n",
    "mice_names = mice_status[\"name\"].values\n",
    "data = pd.read_excel(\"mice_maze_metadataAng.xlsx\", sheet_name=2)\n",
    "if not os.path.exists('data'):\n",
    "    os.makedirs('data')\n",
    "if not os.path.exists('img'):\n",
    "    os.makedirs('img')"
   ]
  },
  {
   "cell_type": "code",
   "execution_count": 2,
   "metadata": {},
   "outputs": [
    {
     "name": "stdout",
     "output_type": "stream",
     "text": [
      "M10019maze1Day1\n",
      "0    Z:/miniscope_recording/maze/4_18_2020/10019H16...\n",
      "Name: recording_folder_local, dtype: object\n",
      "The maze is bidirectional, Ye!\n",
      "Node 1 is Decision point\n",
      "Node 2 is Leaf node\n",
      "Node 13 is Decision point\n",
      "Node 6 is Decision point\n",
      "Node 8 is Leaf node\n",
      "Node 17 is Decision point\n",
      "Node 28 is Leaf node\n",
      "Node 30 is Decision point\n",
      "Node 24 is Decision point\n",
      "Node 84 is Decision point\n",
      "Node 94 is Decision point\n",
      "Node 55 is Decision point\n",
      "Node 43 is Leaf node\n",
      "Node 54 is Decision point\n",
      "Node 53 is Leaf node\n",
      "Node 51 is Decision point\n",
      "Node 39 is Decision point\n",
      "Node 40 is Leaf node\n",
      "Node 97 is Decision point\n",
      "Node 86 is Leaf node\n",
      "Node 109 is Decision point\n",
      "Node 129 is Decision point\n",
      "Node 139 is Leaf node\n",
      "Node 142 is Decision point\n",
      "Node 130 is Decision point\n",
      "Node 120 is Leaf node\n",
      "Node 144 is Leaf node\n",
      "Node 143 is Leaf node\n",
      "Node 135 is Leaf node\n",
      "Node 52 is Leaf node\n",
      "Node 93 is Leaf node\n",
      "Node 96 is Leaf node\n",
      "Node 35 is Leaf node\n",
      "Node 41 is Leaf node\n",
      "Node 25 is Leaf node\n",
      "Shortest path =  1 13 14 26 27 15 3 4 5 6 18 17 29 30 31 19 20 21 9 10 11 12 24 23 22 34 33 32 44 45 46 47 48 60 59 58 57 56 68 69 70 71 72 84 83 95 94 82 81 80 92 104 103 91 90 78 79 67 55 54 66 65 64 63 75 74 62 50 51 39 38 37 49 61 73 85 97 109 110 122 123 111 112 100 99 87 88 76 77 89 101 102 114 113 125 124 136 137 138 126 127 115 116 117 129 141 142 130 131 132 144\n",
      "Shortest path =  1 13 14 26 27 15 3 4 5 6 18 17 29 30 31 19 20 21 9 10 11 12 24 23 22 34 33 32 44 45 46 47 48 60 59 58 57 56 68 69 70 71 72 84 83 95 94 82 81 80 92 104 103 91 90 78 79 67 55 54 66 65 64 63 75 74 62 50 51 39 38 37 49 61 73 85 97 109 110 122 123 111 112 100 99 87 88 76 77 89 101 102 114 113 125 124 136 137 138 126 127 115 116 117 129 141 142 130 131 132 144\n"
     ]
    },
    {
     "name": "stderr",
     "output_type": "stream",
     "text": [
      "100%|██████████████████████████████████████████████████████████████████████████████████| 82/82 [02:29<00:00,  1.82s/it]\n"
     ]
    },
    {
     "name": "stdout",
     "output_type": "stream",
     "text": [
      "# of place cell using time shift shuffle method: 28.0 / 82\n"
     ]
    },
    {
     "name": "stderr",
     "output_type": "stream",
     "text": [
      "100%|██████████████████████████████████████████████████████████████████████████████████| 82/82 [02:23<00:00,  1.74s/it]\n"
     ]
    },
    {
     "name": "stdout",
     "output_type": "stream",
     "text": [
      "# of run cell using time shift shuffle method: 21.0 / 82\n",
      "M10019maze1Day2\n",
      "1    Z:/miniscope_recording/maze/4_19_2020/10019H16...\n",
      "Name: recording_folder_local, dtype: object\n",
      "The maze is bidirectional, Ye!\n",
      "Node 1 is Decision point\n",
      "Node 2 is Leaf node\n",
      "Node 13 is Decision point\n",
      "Node 6 is Decision point\n",
      "Node 8 is Leaf node\n",
      "Node 17 is Decision point\n",
      "Node 28 is Leaf node\n",
      "Node 30 is Decision point\n",
      "Node 24 is Decision point\n",
      "Node 84 is Decision point\n",
      "Node 94 is Decision point\n",
      "Node 55 is Decision point\n",
      "Node 43 is Leaf node\n",
      "Node 54 is Decision point\n",
      "Node 53 is Leaf node\n",
      "Node 51 is Decision point\n",
      "Node 39 is Decision point\n",
      "Node 40 is Leaf node\n",
      "Node 97 is Decision point\n",
      "Node 86 is Leaf node\n",
      "Node 109 is Decision point\n",
      "Node 129 is Decision point\n",
      "Node 139 is Leaf node\n",
      "Node 142 is Decision point\n",
      "Node 130 is Decision point\n",
      "Node 120 is Leaf node\n",
      "Node 144 is Leaf node\n",
      "Node 143 is Leaf node\n",
      "Node 135 is Leaf node\n",
      "Node 52 is Leaf node\n",
      "Node 93 is Leaf node\n",
      "Node 96 is Leaf node\n",
      "Node 35 is Leaf node\n",
      "Node 41 is Leaf node\n",
      "Node 25 is Leaf node\n",
      "Shortest path =  1 13 14 26 27 15 3 4 5 6 18 17 29 30 31 19 20 21 9 10 11 12 24 23 22 34 33 32 44 45 46 47 48 60 59 58 57 56 68 69 70 71 72 84 83 95 94 82 81 80 92 104 103 91 90 78 79 67 55 54 66 65 64 63 75 74 62 50 51 39 38 37 49 61 73 85 97 109 110 122 123 111 112 100 99 87 88 76 77 89 101 102 114 113 125 124 136 137 138 126 127 115 116 117 129 141 142 130 131 132 144\n",
      "Shortest path =  1 13 14 26 27 15 3 4 5 6 18 17 29 30 31 19 20 21 9 10 11 12 24 23 22 34 33 32 44 45 46 47 48 60 59 58 57 56 68 69 70 71 72 84 83 95 94 82 81 80 92 104 103 91 90 78 79 67 55 54 66 65 64 63 75 74 62 50 51 39 38 37 49 61 73 85 97 109 110 122 123 111 112 100 99 87 88 76 77 89 101 102 114 113 125 124 136 137 138 126 127 115 116 117 129 141 142 130 131 132 144\n"
     ]
    },
    {
     "name": "stderr",
     "output_type": "stream",
     "text": [
      "100%|██████████████████████████████████████████████████████████████████████████████████| 52/52 [01:26<00:00,  1.67s/it]\n"
     ]
    },
    {
     "name": "stdout",
     "output_type": "stream",
     "text": [
      "# of place cell using time shift shuffle method: 31.0 / 52\n"
     ]
    },
    {
     "name": "stderr",
     "output_type": "stream",
     "text": [
      "100%|██████████████████████████████████████████████████████████████████████████████████| 52/52 [01:22<00:00,  1.59s/it]\n"
     ]
    },
    {
     "name": "stdout",
     "output_type": "stream",
     "text": [
      "# of run cell using time shift shuffle method: 32.0 / 52\n",
      "M10019maze1Day3\n",
      "2    Z:/miniscope_recording/maze/4_20_2020/10019H21...\n",
      "Name: recording_folder_local, dtype: object\n",
      "The maze is bidirectional, Ye!\n",
      "Node 1 is Decision point\n",
      "Node 2 is Leaf node\n",
      "Node 13 is Decision point\n",
      "Node 6 is Decision point\n",
      "Node 8 is Leaf node\n",
      "Node 17 is Decision point\n",
      "Node 28 is Leaf node\n",
      "Node 30 is Decision point\n",
      "Node 24 is Decision point\n",
      "Node 84 is Decision point\n",
      "Node 94 is Decision point\n",
      "Node 55 is Decision point\n",
      "Node 43 is Leaf node\n",
      "Node 54 is Decision point\n",
      "Node 53 is Leaf node\n",
      "Node 51 is Decision point\n",
      "Node 39 is Decision point\n",
      "Node 40 is Leaf node\n",
      "Node 97 is Decision point\n",
      "Node 86 is Leaf node\n",
      "Node 109 is Decision point\n",
      "Node 129 is Decision point\n",
      "Node 139 is Leaf node\n",
      "Node 142 is Decision point\n",
      "Node 130 is Decision point\n",
      "Node 120 is Leaf node\n",
      "Node 144 is Leaf node\n",
      "Node 143 is Leaf node\n",
      "Node 135 is Leaf node\n",
      "Node 52 is Leaf node\n",
      "Node 93 is Leaf node\n",
      "Node 96 is Leaf node\n",
      "Node 35 is Leaf node\n",
      "Node 41 is Leaf node\n",
      "Node 25 is Leaf node\n",
      "Shortest path =  1 13 14 26 27 15 3 4 5 6 18 17 29 30 31 19 20 21 9 10 11 12 24 23 22 34 33 32 44 45 46 47 48 60 59 58 57 56 68 69 70 71 72 84 83 95 94 82 81 80 92 104 103 91 90 78 79 67 55 54 66 65 64 63 75 74 62 50 51 39 38 37 49 61 73 85 97 109 110 122 123 111 112 100 99 87 88 76 77 89 101 102 114 113 125 124 136 137 138 126 127 115 116 117 129 141 142 130 131 132 144\n",
      "Shortest path =  1 13 14 26 27 15 3 4 5 6 18 17 29 30 31 19 20 21 9 10 11 12 24 23 22 34 33 32 44 45 46 47 48 60 59 58 57 56 68 69 70 71 72 84 83 95 94 82 81 80 92 104 103 91 90 78 79 67 55 54 66 65 64 63 75 74 62 50 51 39 38 37 49 61 73 85 97 109 110 122 123 111 112 100 99 87 88 76 77 89 101 102 114 113 125 124 136 137 138 126 127 115 116 117 129 141 142 130 131 132 144\n"
     ]
    },
    {
     "name": "stderr",
     "output_type": "stream",
     "text": [
      " 88%|████████████████████████████████████████████████████████████████████████▏         | 22/25 [00:52<00:07,  2.40s/it]D:\\Research\\exploration in maze\\code\\AllMice\\ms_utils.py:10: RuntimeWarning: invalid value encountered in true_divide\n",
      "  logArg = rate_map / mean_rate;\n",
      "D:\\Research\\exploration in maze\\code\\AllMice\\ms_utils.py:14: RuntimeWarning: invalid value encountered in double_scalars\n",
      "  SI = IC / mean_rate; # spatial information (bits/spike)\n",
      "100%|██████████████████████████████████████████████████████████████████████████████████| 25/25 [00:59<00:00,  2.40s/it]\n"
     ]
    },
    {
     "name": "stdout",
     "output_type": "stream",
     "text": [
      "# of place cell using time shift shuffle method: 20.0 / 25\n"
     ]
    },
    {
     "name": "stderr",
     "output_type": "stream",
     "text": [
      "100%|██████████████████████████████████████████████████████████████████████████████████| 25/25 [00:57<00:00,  2.29s/it]\n"
     ]
    },
    {
     "name": "stdout",
     "output_type": "stream",
     "text": [
      "# of run cell using time shift shuffle method: 21.0 / 25\n",
      "M10019maze1Day4\n",
      "3    Z:/miniscope_recording/maze/4_21_2020/10019H20...\n",
      "Name: recording_folder_local, dtype: object\n",
      "The maze is bidirectional, Ye!\n",
      "Node 1 is Decision point\n",
      "Node 2 is Leaf node\n",
      "Node 13 is Decision point\n",
      "Node 6 is Decision point\n",
      "Node 8 is Leaf node\n",
      "Node 17 is Decision point\n",
      "Node 28 is Leaf node\n",
      "Node 30 is Decision point\n",
      "Node 24 is Decision point\n",
      "Node 84 is Decision point\n",
      "Node 94 is Decision point\n",
      "Node 55 is Decision point\n",
      "Node 43 is Leaf node\n",
      "Node 54 is Decision point\n",
      "Node 53 is Leaf node\n",
      "Node 51 is Decision point\n",
      "Node 39 is Decision point\n",
      "Node 40 is Leaf node\n",
      "Node 97 is Decision point\n",
      "Node 86 is Leaf node\n",
      "Node 109 is Decision point\n",
      "Node 129 is Decision point\n",
      "Node 139 is Leaf node\n",
      "Node 142 is Decision point\n",
      "Node 130 is Decision point\n",
      "Node 120 is Leaf node\n",
      "Node 144 is Leaf node\n",
      "Node 143 is Leaf node\n",
      "Node 135 is Leaf node\n",
      "Node 52 is Leaf node\n",
      "Node 93 is Leaf node\n",
      "Node 96 is Leaf node\n",
      "Node 35 is Leaf node\n",
      "Node 41 is Leaf node\n",
      "Node 25 is Leaf node\n",
      "Shortest path =  1 13 14 26 27 15 3 4 5 6 18 17 29 30 31 19 20 21 9 10 11 12 24 23 22 34 33 32 44 45 46 47 48 60 59 58 57 56 68 69 70 71 72 84 83 95 94 82 81 80 92 104 103 91 90 78 79 67 55 54 66 65 64 63 75 74 62 50 51 39 38 37 49 61 73 85 97 109 110 122 123 111 112 100 99 87 88 76 77 89 101 102 114 113 125 124 136 137 138 126 127 115 116 117 129 141 142 130 131 132 144\n",
      "Shortest path =  1 13 14 26 27 15 3 4 5 6 18 17 29 30 31 19 20 21 9 10 11 12 24 23 22 34 33 32 44 45 46 47 48 60 59 58 57 56 68 69 70 71 72 84 83 95 94 82 81 80 92 104 103 91 90 78 79 67 55 54 66 65 64 63 75 74 62 50 51 39 38 37 49 61 73 85 97 109 110 122 123 111 112 100 99 87 88 76 77 89 101 102 114 113 125 124 136 137 138 126 127 115 116 117 129 141 142 130 131 132 144\n"
     ]
    },
    {
     "name": "stderr",
     "output_type": "stream",
     "text": [
      "100%|██████████████████████████████████████████████████████████████████████████████████| 30/30 [00:11<00:00,  2.59it/s]\n"
     ]
    },
    {
     "name": "stdout",
     "output_type": "stream",
     "text": [
      "# of place cell using time shift shuffle method: 4.0 / 30\n"
     ]
    },
    {
     "name": "stderr",
     "output_type": "stream",
     "text": [
      "100%|██████████████████████████████████████████████████████████████████████████████████| 30/30 [00:11<00:00,  2.67it/s]\n"
     ]
    },
    {
     "name": "stdout",
     "output_type": "stream",
     "text": [
      "# of run cell using time shift shuffle method: 4.0 / 30\n",
      "M10019maze1Day5\n",
      "4    Z:/miniscope_recording/maze/4_22_2020/10019H10...\n",
      "Name: recording_folder_local, dtype: object\n",
      "The maze is bidirectional, Ye!\n",
      "Node 1 is Decision point\n",
      "Node 2 is Leaf node\n",
      "Node 13 is Decision point\n",
      "Node 6 is Decision point\n",
      "Node 8 is Leaf node\n",
      "Node 17 is Decision point\n",
      "Node 28 is Leaf node\n",
      "Node 30 is Decision point\n",
      "Node 24 is Decision point\n",
      "Node 84 is Decision point\n",
      "Node 94 is Decision point\n",
      "Node 55 is Decision point\n",
      "Node 43 is Leaf node\n",
      "Node 54 is Decision point\n",
      "Node 53 is Leaf node\n",
      "Node 51 is Decision point\n",
      "Node 39 is Decision point\n",
      "Node 40 is Leaf node\n",
      "Node 97 is Decision point\n",
      "Node 86 is Leaf node\n",
      "Node 109 is Decision point\n",
      "Node 129 is Decision point\n",
      "Node 139 is Leaf node\n",
      "Node 142 is Decision point\n",
      "Node 130 is Decision point\n",
      "Node 120 is Leaf node\n",
      "Node 144 is Leaf node\n",
      "Node 143 is Leaf node\n",
      "Node 135 is Leaf node\n",
      "Node 52 is Leaf node\n",
      "Node 93 is Leaf node\n",
      "Node 96 is Leaf node\n",
      "Node 35 is Leaf node\n",
      "Node 41 is Leaf node\n",
      "Node 25 is Leaf node\n",
      "Shortest path =  1 13 14 26 27 15 3 4 5 6 18 17 29 30 31 19 20 21 9 10 11 12 24 23 22 34 33 32 44 45 46 47 48 60 59 58 57 56 68 69 70 71 72 84 83 95 94 82 81 80 92 104 103 91 90 78 79 67 55 54 66 65 64 63 75 74 62 50 51 39 38 37 49 61 73 85 97 109 110 122 123 111 112 100 99 87 88 76 77 89 101 102 114 113 125 124 136 137 138 126 127 115 116 117 129 141 142 130 131 132 144\n",
      "Shortest path =  1 13 14 26 27 15 3 4 5 6 18 17 29 30 31 19 20 21 9 10 11 12 24 23 22 34 33 32 44 45 46 47 48 60 59 58 57 56 68 69 70 71 72 84 83 95 94 82 81 80 92 104 103 91 90 78 79 67 55 54 66 65 64 63 75 74 62 50 51 39 38 37 49 61 73 85 97 109 110 122 123 111 112 100 99 87 88 76 77 89 101 102 114 113 125 124 136 137 138 126 127 115 116 117 129 141 142 130 131 132 144\n"
     ]
    },
    {
     "name": "stderr",
     "output_type": "stream",
     "text": [
      "100%|██████████████████████████████████████████████████████████████████████████████████| 45/45 [00:21<00:00,  2.09it/s]\n"
     ]
    },
    {
     "name": "stdout",
     "output_type": "stream",
     "text": [
      "# of place cell using time shift shuffle method: 19.0 / 45\n"
     ]
    },
    {
     "name": "stderr",
     "output_type": "stream",
     "text": [
      "100%|██████████████████████████████████████████████████████████████████████████████████| 45/45 [00:20<00:00,  2.15it/s]\n"
     ]
    },
    {
     "name": "stdout",
     "output_type": "stream",
     "text": [
      "# of run cell using time shift shuffle method: 18.0 / 45\n",
      "M10019maze1Day6\n",
      "5    Z:/miniscope_recording/maze/4_23_2020/10019H10...\n",
      "Name: recording_folder_local, dtype: object\n",
      "The maze is bidirectional, Ye!\n",
      "Node 1 is Decision point\n",
      "Node 2 is Leaf node\n",
      "Node 13 is Decision point\n",
      "Node 6 is Decision point\n",
      "Node 8 is Leaf node\n",
      "Node 17 is Decision point\n",
      "Node 28 is Leaf node\n",
      "Node 30 is Decision point\n",
      "Node 24 is Decision point\n",
      "Node 84 is Decision point\n",
      "Node 94 is Decision point\n",
      "Node 55 is Decision point\n",
      "Node 43 is Leaf node\n",
      "Node 54 is Decision point\n",
      "Node 53 is Leaf node\n",
      "Node 51 is Decision point\n",
      "Node 39 is Decision point\n",
      "Node 40 is Leaf node\n",
      "Node 97 is Decision point\n",
      "Node 86 is Leaf node\n",
      "Node 109 is Decision point\n",
      "Node 129 is Decision point\n",
      "Node 139 is Leaf node\n",
      "Node 142 is Decision point\n",
      "Node 130 is Decision point\n",
      "Node 120 is Leaf node\n",
      "Node 144 is Leaf node\n",
      "Node 143 is Leaf node\n",
      "Node 135 is Leaf node\n",
      "Node 52 is Leaf node\n",
      "Node 93 is Leaf node\n",
      "Node 96 is Leaf node\n",
      "Node 35 is Leaf node\n",
      "Node 41 is Leaf node\n",
      "Node 25 is Leaf node\n",
      "Shortest path =  1 13 14 26 27 15 3 4 5 6 18 17 29 30 31 19 20 21 9 10 11 12 24 23 22 34 33 32 44 45 46 47 48 60 59 58 57 56 68 69 70 71 72 84 83 95 94 82 81 80 92 104 103 91 90 78 79 67 55 54 66 65 64 63 75 74 62 50 51 39 38 37 49 61 73 85 97 109 110 122 123 111 112 100 99 87 88 76 77 89 101 102 114 113 125 124 136 137 138 126 127 115 116 117 129 141 142 130 131 132 144\n",
      "Shortest path =  1 13 14 26 27 15 3 4 5 6 18 17 29 30 31 19 20 21 9 10 11 12 24 23 22 34 33 32 44 45 46 47 48 60 59 58 57 56 68 69 70 71 72 84 83 95 94 82 81 80 92 104 103 91 90 78 79 67 55 54 66 65 64 63 75 74 62 50 51 39 38 37 49 61 73 85 97 109 110 122 123 111 112 100 99 87 88 76 77 89 101 102 114 113 125 124 136 137 138 126 127 115 116 117 129 141 142 130 131 132 144\n"
     ]
    },
    {
     "name": "stderr",
     "output_type": "stream",
     "text": [
      "100%|██████████████████████████████████████████████████████████████████████████████████| 71/71 [00:34<00:00,  2.06it/s]\n"
     ]
    },
    {
     "name": "stdout",
     "output_type": "stream",
     "text": [
      "# of place cell using time shift shuffle method: 16.0 / 71\n"
     ]
    },
    {
     "name": "stderr",
     "output_type": "stream",
     "text": [
      "100%|██████████████████████████████████████████████████████████████████████████████████| 71/71 [00:32<00:00,  2.16it/s]\n"
     ]
    },
    {
     "name": "stdout",
     "output_type": "stream",
     "text": [
      "# of run cell using time shift shuffle method: 12.0 / 71\n",
      "M10019maze1Day7\n",
      "6    Z:/miniscope_recording/maze/4_24_2020/10019H10...\n",
      "Name: recording_folder_local, dtype: object\n",
      "The maze is bidirectional, Ye!\n",
      "Node 1 is Decision point\n",
      "Node 2 is Leaf node\n",
      "Node 13 is Decision point\n",
      "Node 6 is Decision point\n",
      "Node 8 is Leaf node\n",
      "Node 17 is Decision point\n",
      "Node 28 is Leaf node\n",
      "Node 30 is Decision point\n",
      "Node 24 is Decision point\n",
      "Node 84 is Decision point\n",
      "Node 94 is Decision point\n",
      "Node 55 is Decision point\n",
      "Node 43 is Leaf node\n",
      "Node 54 is Decision point\n",
      "Node 53 is Leaf node\n",
      "Node 51 is Decision point\n",
      "Node 39 is Decision point\n",
      "Node 40 is Leaf node\n",
      "Node 97 is Decision point\n",
      "Node 86 is Leaf node\n",
      "Node 109 is Decision point\n",
      "Node 129 is Decision point\n",
      "Node 139 is Leaf node\n",
      "Node 142 is Decision point\n",
      "Node 130 is Decision point\n",
      "Node 120 is Leaf node\n",
      "Node 144 is Leaf node\n",
      "Node 143 is Leaf node\n",
      "Node 135 is Leaf node\n",
      "Node 52 is Leaf node\n",
      "Node 93 is Leaf node\n",
      "Node 96 is Leaf node\n",
      "Node 35 is Leaf node\n",
      "Node 41 is Leaf node\n",
      "Node 25 is Leaf node\n",
      "Shortest path =  1 13 14 26 27 15 3 4 5 6 18 17 29 30 31 19 20 21 9 10 11 12 24 23 22 34 33 32 44 45 46 47 48 60 59 58 57 56 68 69 70 71 72 84 83 95 94 82 81 80 92 104 103 91 90 78 79 67 55 54 66 65 64 63 75 74 62 50 51 39 38 37 49 61 73 85 97 109 110 122 123 111 112 100 99 87 88 76 77 89 101 102 114 113 125 124 136 137 138 126 127 115 116 117 129 141 142 130 131 132 144\n",
      "Shortest path =  1 13 14 26 27 15 3 4 5 6 18 17 29 30 31 19 20 21 9 10 11 12 24 23 22 34 33 32 44 45 46 47 48 60 59 58 57 56 68 69 70 71 72 84 83 95 94 82 81 80 92 104 103 91 90 78 79 67 55 54 66 65 64 63 75 74 62 50 51 39 38 37 49 61 73 85 97 109 110 122 123 111 112 100 99 87 88 76 77 89 101 102 114 113 125 124 136 137 138 126 127 115 116 117 129 141 142 130 131 132 144\n"
     ]
    },
    {
     "name": "stderr",
     "output_type": "stream",
     "text": [
      "100%|████████████████████████████████████████████████████████████████████████████████| 131/131 [01:22<00:00,  1.60it/s]\n"
     ]
    },
    {
     "name": "stdout",
     "output_type": "stream",
     "text": [
      "# of place cell using time shift shuffle method: 28.0 / 131\n"
     ]
    },
    {
     "name": "stderr",
     "output_type": "stream",
     "text": [
      "100%|████████████████████████████████████████████████████████████████████████████████| 131/131 [01:18<00:00,  1.66it/s]\n"
     ]
    },
    {
     "name": "stdout",
     "output_type": "stream",
     "text": [
      "# of run cell using time shift shuffle method: 28.0 / 131\n",
      "M10019maze1Day8\n",
      "7    Z:/miniscope_recording/maze/4_25_2020/10019H10...\n",
      "Name: recording_folder_local, dtype: object\n",
      "The maze is bidirectional, Ye!\n",
      "Node 1 is Decision point\n",
      "Node 2 is Leaf node\n",
      "Node 13 is Decision point\n",
      "Node 6 is Decision point\n",
      "Node 8 is Leaf node\n",
      "Node 17 is Decision point\n",
      "Node 28 is Leaf node\n",
      "Node 30 is Decision point\n",
      "Node 24 is Decision point\n",
      "Node 84 is Decision point\n",
      "Node 94 is Decision point\n",
      "Node 55 is Decision point\n",
      "Node 43 is Leaf node\n",
      "Node 54 is Decision point\n",
      "Node 53 is Leaf node\n",
      "Node 51 is Decision point\n",
      "Node 39 is Decision point\n",
      "Node 40 is Leaf node\n",
      "Node 97 is Decision point\n",
      "Node 86 is Leaf node\n",
      "Node 109 is Decision point\n",
      "Node 129 is Decision point\n",
      "Node 139 is Leaf node\n",
      "Node 142 is Decision point\n",
      "Node 130 is Decision point\n",
      "Node 120 is Leaf node\n",
      "Node 144 is Leaf node\n",
      "Node 143 is Leaf node\n",
      "Node 135 is Leaf node\n",
      "Node 52 is Leaf node\n",
      "Node 93 is Leaf node\n",
      "Node 96 is Leaf node\n",
      "Node 35 is Leaf node\n",
      "Node 41 is Leaf node\n",
      "Node 25 is Leaf node\n",
      "Shortest path =  1 13 14 26 27 15 3 4 5 6 18 17 29 30 31 19 20 21 9 10 11 12 24 23 22 34 33 32 44 45 46 47 48 60 59 58 57 56 68 69 70 71 72 84 83 95 94 82 81 80 92 104 103 91 90 78 79 67 55 54 66 65 64 63 75 74 62 50 51 39 38 37 49 61 73 85 97 109 110 122 123 111 112 100 99 87 88 76 77 89 101 102 114 113 125 124 136 137 138 126 127 115 116 117 129 141 142 130 131 132 144\n",
      "Shortest path =  1 13 14 26 27 15 3 4 5 6 18 17 29 30 31 19 20 21 9 10 11 12 24 23 22 34 33 32 44 45 46 47 48 60 59 58 57 56 68 69 70 71 72 84 83 95 94 82 81 80 92 104 103 91 90 78 79 67 55 54 66 65 64 63 75 74 62 50 51 39 38 37 49 61 73 85 97 109 110 122 123 111 112 100 99 87 88 76 77 89 101 102 114 113 125 124 136 137 138 126 127 115 116 117 129 141 142 130 131 132 144\n"
     ]
    },
    {
     "name": "stderr",
     "output_type": "stream",
     "text": [
      "100%|██████████████████████████████████████████████████████████████████████████████████| 60/60 [00:50<00:00,  1.19it/s]\n"
     ]
    },
    {
     "name": "stdout",
     "output_type": "stream",
     "text": [
      "# of place cell using time shift shuffle method: 30.0 / 60\n"
     ]
    },
    {
     "name": "stderr",
     "output_type": "stream",
     "text": [
      "100%|██████████████████████████████████████████████████████████████████████████████████| 60/60 [00:47<00:00,  1.26it/s]\n"
     ]
    },
    {
     "name": "stdout",
     "output_type": "stream",
     "text": [
      "# of run cell using time shift shuffle method: 15.0 / 60\n",
      "M10021maze1Day1\n",
      "16    Z:/miniscope_recording/maze/4_17_2020/10021H19...\n",
      "Name: recording_folder_local, dtype: object\n",
      "The maze is bidirectional, Ye!\n",
      "Node 1 is Decision point\n",
      "Node 2 is Leaf node\n",
      "Node 13 is Decision point\n",
      "Node 6 is Decision point\n",
      "Node 8 is Leaf node\n",
      "Node 17 is Decision point\n",
      "Node 28 is Leaf node\n",
      "Node 30 is Decision point\n",
      "Node 24 is Decision point\n",
      "Node 84 is Decision point\n",
      "Node 94 is Decision point\n",
      "Node 55 is Decision point\n",
      "Node 43 is Leaf node\n",
      "Node 54 is Decision point\n",
      "Node 53 is Leaf node\n",
      "Node 51 is Decision point\n",
      "Node 39 is Decision point\n",
      "Node 40 is Leaf node\n",
      "Node 97 is Decision point\n",
      "Node 86 is Leaf node\n",
      "Node 109 is Decision point\n",
      "Node 129 is Decision point\n",
      "Node 139 is Leaf node\n",
      "Node 142 is Decision point\n",
      "Node 130 is Decision point\n",
      "Node 120 is Leaf node\n",
      "Node 144 is Leaf node\n",
      "Node 143 is Leaf node\n",
      "Node 135 is Leaf node\n",
      "Node 52 is Leaf node\n",
      "Node 93 is Leaf node\n",
      "Node 96 is Leaf node\n",
      "Node 35 is Leaf node\n",
      "Node 41 is Leaf node\n",
      "Node 25 is Leaf node\n",
      "Shortest path =  1 13 14 26 27 15 3 4 5 6 18 17 29 30 31 19 20 21 9 10 11 12 24 23 22 34 33 32 44 45 46 47 48 60 59 58 57 56 68 69 70 71 72 84 83 95 94 82 81 80 92 104 103 91 90 78 79 67 55 54 66 65 64 63 75 74 62 50 51 39 38 37 49 61 73 85 97 109 110 122 123 111 112 100 99 87 88 76 77 89 101 102 114 113 125 124 136 137 138 126 127 115 116 117 129 141 142 130 131 132 144\n",
      "Shortest path =  1 13 14 26 27 15 3 4 5 6 18 17 29 30 31 19 20 21 9 10 11 12 24 23 22 34 33 32 44 45 46 47 48 60 59 58 57 56 68 69 70 71 72 84 83 95 94 82 81 80 92 104 103 91 90 78 79 67 55 54 66 65 64 63 75 74 62 50 51 39 38 37 49 61 73 85 97 109 110 122 123 111 112 100 99 87 88 76 77 89 101 102 114 113 125 124 136 137 138 126 127 115 116 117 129 141 142 130 131 132 144\n"
     ]
    },
    {
     "name": "stderr",
     "output_type": "stream",
     "text": [
      "100%|██████████████████████████████████████████████████████████████████████████████████| 31/31 [02:38<00:00,  5.11s/it]\n"
     ]
    },
    {
     "name": "stdout",
     "output_type": "stream",
     "text": [
      "# of place cell using time shift shuffle method: 24.0 / 31\n"
     ]
    },
    {
     "name": "stderr",
     "output_type": "stream",
     "text": [
      "100%|██████████████████████████████████████████████████████████████████████████████████| 31/31 [02:32<00:00,  4.93s/it]\n"
     ]
    },
    {
     "name": "stdout",
     "output_type": "stream",
     "text": [
      "# of run cell using time shift shuffle method: 24.0 / 31\n",
      "M10021maze1Day2\n",
      "17    Z:/miniscope_recording/maze/4_18_2020/10021H18...\n",
      "Name: recording_folder_local, dtype: object\n",
      "The maze is bidirectional, Ye!\n",
      "Node 1 is Decision point\n",
      "Node 2 is Leaf node\n",
      "Node 13 is Decision point\n",
      "Node 6 is Decision point\n",
      "Node 8 is Leaf node\n",
      "Node 17 is Decision point\n",
      "Node 28 is Leaf node\n",
      "Node 30 is Decision point\n",
      "Node 24 is Decision point\n",
      "Node 84 is Decision point\n",
      "Node 94 is Decision point\n",
      "Node 55 is Decision point\n",
      "Node 43 is Leaf node\n",
      "Node 54 is Decision point\n",
      "Node 53 is Leaf node\n",
      "Node 51 is Decision point\n",
      "Node 39 is Decision point\n",
      "Node 40 is Leaf node\n",
      "Node 97 is Decision point\n",
      "Node 86 is Leaf node\n",
      "Node 109 is Decision point\n",
      "Node 129 is Decision point\n",
      "Node 139 is Leaf node\n",
      "Node 142 is Decision point\n",
      "Node 130 is Decision point\n",
      "Node 120 is Leaf node\n",
      "Node 144 is Leaf node\n",
      "Node 143 is Leaf node\n",
      "Node 135 is Leaf node\n",
      "Node 52 is Leaf node\n",
      "Node 93 is Leaf node\n",
      "Node 96 is Leaf node\n",
      "Node 35 is Leaf node\n",
      "Node 41 is Leaf node\n",
      "Node 25 is Leaf node\n",
      "Shortest path =  1 13 14 26 27 15 3 4 5 6 18 17 29 30 31 19 20 21 9 10 11 12 24 23 22 34 33 32 44 45 46 47 48 60 59 58 57 56 68 69 70 71 72 84 83 95 94 82 81 80 92 104 103 91 90 78 79 67 55 54 66 65 64 63 75 74 62 50 51 39 38 37 49 61 73 85 97 109 110 122 123 111 112 100 99 87 88 76 77 89 101 102 114 113 125 124 136 137 138 126 127 115 116 117 129 141 142 130 131 132 144\n",
      "Shortest path =  1 13 14 26 27 15 3 4 5 6 18 17 29 30 31 19 20 21 9 10 11 12 24 23 22 34 33 32 44 45 46 47 48 60 59 58 57 56 68 69 70 71 72 84 83 95 94 82 81 80 92 104 103 91 90 78 79 67 55 54 66 65 64 63 75 74 62 50 51 39 38 37 49 61 73 85 97 109 110 122 123 111 112 100 99 87 88 76 77 89 101 102 114 113 125 124 136 137 138 126 127 115 116 117 129 141 142 130 131 132 144\n"
     ]
    },
    {
     "name": "stderr",
     "output_type": "stream",
     "text": [
      "100%|██████████████████████████████████████████████████████████████████████████████████| 47/47 [01:00<00:00,  1.29s/it]\n"
     ]
    },
    {
     "name": "stdout",
     "output_type": "stream",
     "text": [
      "# of place cell using time shift shuffle method: 23.0 / 47\n"
     ]
    },
    {
     "name": "stderr",
     "output_type": "stream",
     "text": [
      "100%|██████████████████████████████████████████████████████████████████████████████████| 47/47 [00:57<00:00,  1.22s/it]\n"
     ]
    },
    {
     "name": "stdout",
     "output_type": "stream",
     "text": [
      "# of run cell using time shift shuffle method: 22.0 / 47\n",
      "M10021maze1Day3\n",
      "18    Z:/miniscope_recording/maze/4_19_2020/10021_H1...\n",
      "Name: recording_folder_local, dtype: object\n",
      "The maze is bidirectional, Ye!\n",
      "Node 1 is Decision point\n",
      "Node 2 is Leaf node\n",
      "Node 13 is Decision point\n",
      "Node 6 is Decision point\n",
      "Node 8 is Leaf node\n",
      "Node 17 is Decision point\n",
      "Node 28 is Leaf node\n",
      "Node 30 is Decision point\n",
      "Node 24 is Decision point\n",
      "Node 84 is Decision point\n",
      "Node 94 is Decision point\n",
      "Node 55 is Decision point\n",
      "Node 43 is Leaf node\n",
      "Node 54 is Decision point\n",
      "Node 53 is Leaf node\n",
      "Node 51 is Decision point\n",
      "Node 39 is Decision point\n",
      "Node 40 is Leaf node\n",
      "Node 97 is Decision point\n",
      "Node 86 is Leaf node\n",
      "Node 109 is Decision point\n",
      "Node 129 is Decision point\n",
      "Node 139 is Leaf node\n",
      "Node 142 is Decision point\n",
      "Node 130 is Decision point\n",
      "Node 120 is Leaf node\n",
      "Node 144 is Leaf node\n",
      "Node 143 is Leaf node\n",
      "Node 135 is Leaf node\n",
      "Node 52 is Leaf node\n",
      "Node 93 is Leaf node\n",
      "Node 96 is Leaf node\n",
      "Node 35 is Leaf node\n",
      "Node 41 is Leaf node\n",
      "Node 25 is Leaf node\n",
      "Shortest path =  1 13 14 26 27 15 3 4 5 6 18 17 29 30 31 19 20 21 9 10 11 12 24 23 22 34 33 32 44 45 46 47 48 60 59 58 57 56 68 69 70 71 72 84 83 95 94 82 81 80 92 104 103 91 90 78 79 67 55 54 66 65 64 63 75 74 62 50 51 39 38 37 49 61 73 85 97 109 110 122 123 111 112 100 99 87 88 76 77 89 101 102 114 113 125 124 136 137 138 126 127 115 116 117 129 141 142 130 131 132 144\n",
      "Shortest path =  1 13 14 26 27 15 3 4 5 6 18 17 29 30 31 19 20 21 9 10 11 12 24 23 22 34 33 32 44 45 46 47 48 60 59 58 57 56 68 69 70 71 72 84 83 95 94 82 81 80 92 104 103 91 90 78 79 67 55 54 66 65 64 63 75 74 62 50 51 39 38 37 49 61 73 85 97 109 110 122 123 111 112 100 99 87 88 76 77 89 101 102 114 113 125 124 136 137 138 126 127 115 116 117 129 141 142 130 131 132 144\n"
     ]
    },
    {
     "name": "stderr",
     "output_type": "stream",
     "text": [
      "100%|██████████████████████████████████████████████████████████████████████████████████| 43/43 [00:28<00:00,  1.51it/s]\n"
     ]
    },
    {
     "name": "stdout",
     "output_type": "stream",
     "text": [
      "# of place cell using time shift shuffle method: 9.0 / 43\n"
     ]
    },
    {
     "name": "stderr",
     "output_type": "stream",
     "text": [
      "100%|██████████████████████████████████████████████████████████████████████████████████| 43/43 [00:27<00:00,  1.57it/s]\n"
     ]
    },
    {
     "name": "stdout",
     "output_type": "stream",
     "text": [
      "# of run cell using time shift shuffle method: 7.0 / 43\n",
      "M10021maze1Day4\n",
      "19    Z:/miniscope_recording/maze/4_20_2020/10021H20...\n",
      "Name: recording_folder_local, dtype: object\n",
      "The maze is bidirectional, Ye!\n",
      "Node 1 is Decision point\n",
      "Node 2 is Leaf node\n",
      "Node 13 is Decision point\n",
      "Node 6 is Decision point\n",
      "Node 8 is Leaf node\n",
      "Node 17 is Decision point\n",
      "Node 28 is Leaf node\n",
      "Node 30 is Decision point\n",
      "Node 24 is Decision point\n",
      "Node 84 is Decision point\n",
      "Node 94 is Decision point\n",
      "Node 55 is Decision point\n",
      "Node 43 is Leaf node\n",
      "Node 54 is Decision point\n",
      "Node 53 is Leaf node\n",
      "Node 51 is Decision point\n",
      "Node 39 is Decision point\n",
      "Node 40 is Leaf node\n",
      "Node 97 is Decision point\n",
      "Node 86 is Leaf node\n",
      "Node 109 is Decision point\n",
      "Node 129 is Decision point\n",
      "Node 139 is Leaf node\n",
      "Node 142 is Decision point\n",
      "Node 130 is Decision point\n",
      "Node 120 is Leaf node\n",
      "Node 144 is Leaf node\n",
      "Node 143 is Leaf node\n",
      "Node 135 is Leaf node\n",
      "Node 52 is Leaf node\n",
      "Node 93 is Leaf node\n",
      "Node 96 is Leaf node\n",
      "Node 35 is Leaf node\n",
      "Node 41 is Leaf node\n",
      "Node 25 is Leaf node\n",
      "Shortest path =  1 13 14 26 27 15 3 4 5 6 18 17 29 30 31 19 20 21 9 10 11 12 24 23 22 34 33 32 44 45 46 47 48 60 59 58 57 56 68 69 70 71 72 84 83 95 94 82 81 80 92 104 103 91 90 78 79 67 55 54 66 65 64 63 75 74 62 50 51 39 38 37 49 61 73 85 97 109 110 122 123 111 112 100 99 87 88 76 77 89 101 102 114 113 125 124 136 137 138 126 127 115 116 117 129 141 142 130 131 132 144\n",
      "Shortest path =  1 13 14 26 27 15 3 4 5 6 18 17 29 30 31 19 20 21 9 10 11 12 24 23 22 34 33 32 44 45 46 47 48 60 59 58 57 56 68 69 70 71 72 84 83 95 94 82 81 80 92 104 103 91 90 78 79 67 55 54 66 65 64 63 75 74 62 50 51 39 38 37 49 61 73 85 97 109 110 122 123 111 112 100 99 87 88 76 77 89 101 102 114 113 125 124 136 137 138 126 127 115 116 117 129 141 142 130 131 132 144\n"
     ]
    },
    {
     "name": "stderr",
     "output_type": "stream",
     "text": [
      "100%|████████████████████████████████████████████████████████████████████████████████| 245/245 [11:13<00:00,  2.75s/it]\n"
     ]
    },
    {
     "name": "stdout",
     "output_type": "stream",
     "text": [
      "# of place cell using time shift shuffle method: 7.0 / 245\n"
     ]
    },
    {
     "name": "stderr",
     "output_type": "stream",
     "text": [
      "100%|████████████████████████████████████████████████████████████████████████████████| 245/245 [10:52<00:00,  2.66s/it]\n"
     ]
    },
    {
     "name": "stdout",
     "output_type": "stream",
     "text": [
      "# of run cell using time shift shuffle method: 20.0 / 245\n",
      "M10021maze1Day5\n",
      "20    Z:/miniscope_recording/maze/4_21_2020/10021H20...\n",
      "Name: recording_folder_local, dtype: object\n",
      "The maze is bidirectional, Ye!\n",
      "Node 1 is Decision point\n",
      "Node 2 is Leaf node\n",
      "Node 13 is Decision point\n",
      "Node 6 is Decision point\n",
      "Node 8 is Leaf node\n",
      "Node 17 is Decision point\n",
      "Node 28 is Leaf node\n",
      "Node 30 is Decision point\n",
      "Node 24 is Decision point\n",
      "Node 84 is Decision point\n",
      "Node 94 is Decision point\n",
      "Node 55 is Decision point\n",
      "Node 43 is Leaf node\n",
      "Node 54 is Decision point\n",
      "Node 53 is Leaf node\n",
      "Node 51 is Decision point\n",
      "Node 39 is Decision point\n",
      "Node 40 is Leaf node\n",
      "Node 97 is Decision point\n",
      "Node 86 is Leaf node\n",
      "Node 109 is Decision point\n",
      "Node 129 is Decision point\n",
      "Node 139 is Leaf node\n",
      "Node 142 is Decision point\n",
      "Node 130 is Decision point\n",
      "Node 120 is Leaf node\n",
      "Node 144 is Leaf node\n",
      "Node 143 is Leaf node\n",
      "Node 135 is Leaf node\n",
      "Node 52 is Leaf node\n",
      "Node 93 is Leaf node\n",
      "Node 96 is Leaf node\n",
      "Node 35 is Leaf node\n",
      "Node 41 is Leaf node\n",
      "Node 25 is Leaf node\n",
      "Shortest path =  1 13 14 26 27 15 3 4 5 6 18 17 29 30 31 19 20 21 9 10 11 12 24 23 22 34 33 32 44 45 46 47 48 60 59 58 57 56 68 69 70 71 72 84 83 95 94 82 81 80 92 104 103 91 90 78 79 67 55 54 66 65 64 63 75 74 62 50 51 39 38 37 49 61 73 85 97 109 110 122 123 111 112 100 99 87 88 76 77 89 101 102 114 113 125 124 136 137 138 126 127 115 116 117 129 141 142 130 131 132 144\n",
      "Shortest path =  1 13 14 26 27 15 3 4 5 6 18 17 29 30 31 19 20 21 9 10 11 12 24 23 22 34 33 32 44 45 46 47 48 60 59 58 57 56 68 69 70 71 72 84 83 95 94 82 81 80 92 104 103 91 90 78 79 67 55 54 66 65 64 63 75 74 62 50 51 39 38 37 49 61 73 85 97 109 110 122 123 111 112 100 99 87 88 76 77 89 101 102 114 113 125 124 136 137 138 126 127 115 116 117 129 141 142 130 131 132 144\n"
     ]
    },
    {
     "name": "stderr",
     "output_type": "stream",
     "text": [
      "100%|██████████████████████████████████████████████████████████████████████████████████| 21/21 [00:09<00:00,  2.27it/s]\n"
     ]
    },
    {
     "name": "stdout",
     "output_type": "stream",
     "text": [
      "# of place cell using time shift shuffle method: 5.0 / 21\n"
     ]
    },
    {
     "name": "stderr",
     "output_type": "stream",
     "text": [
      "100%|██████████████████████████████████████████████████████████████████████████████████| 21/21 [00:08<00:00,  2.35it/s]\n"
     ]
    },
    {
     "name": "stdout",
     "output_type": "stream",
     "text": [
      "# of run cell using time shift shuffle method: 1.0 / 21\n",
      "M10021maze1Day6\n",
      "21    Z:/miniscope_recording/maze/4_22_2020/10021H11...\n",
      "Name: recording_folder_local, dtype: object\n",
      "The maze is bidirectional, Ye!\n",
      "Node 1 is Decision point\n",
      "Node 2 is Leaf node\n",
      "Node 13 is Decision point\n",
      "Node 6 is Decision point\n",
      "Node 8 is Leaf node\n",
      "Node 17 is Decision point\n",
      "Node 28 is Leaf node\n",
      "Node 30 is Decision point\n",
      "Node 24 is Decision point\n",
      "Node 84 is Decision point\n",
      "Node 94 is Decision point\n",
      "Node 55 is Decision point\n",
      "Node 43 is Leaf node\n",
      "Node 54 is Decision point\n",
      "Node 53 is Leaf node\n",
      "Node 51 is Decision point\n",
      "Node 39 is Decision point\n",
      "Node 40 is Leaf node\n",
      "Node 97 is Decision point\n",
      "Node 86 is Leaf node\n",
      "Node 109 is Decision point\n",
      "Node 129 is Decision point\n",
      "Node 139 is Leaf node\n",
      "Node 142 is Decision point\n",
      "Node 130 is Decision point\n",
      "Node 120 is Leaf node\n",
      "Node 144 is Leaf node\n",
      "Node 143 is Leaf node\n",
      "Node 135 is Leaf node\n",
      "Node 52 is Leaf node\n",
      "Node 93 is Leaf node\n",
      "Node 96 is Leaf node\n",
      "Node 35 is Leaf node\n",
      "Node 41 is Leaf node\n",
      "Node 25 is Leaf node\n",
      "Shortest path =  1 13 14 26 27 15 3 4 5 6 18 17 29 30 31 19 20 21 9 10 11 12 24 23 22 34 33 32 44 45 46 47 48 60 59 58 57 56 68 69 70 71 72 84 83 95 94 82 81 80 92 104 103 91 90 78 79 67 55 54 66 65 64 63 75 74 62 50 51 39 38 37 49 61 73 85 97 109 110 122 123 111 112 100 99 87 88 76 77 89 101 102 114 113 125 124 136 137 138 126 127 115 116 117 129 141 142 130 131 132 144\n",
      "Shortest path =  1 13 14 26 27 15 3 4 5 6 18 17 29 30 31 19 20 21 9 10 11 12 24 23 22 34 33 32 44 45 46 47 48 60 59 58 57 56 68 69 70 71 72 84 83 95 94 82 81 80 92 104 103 91 90 78 79 67 55 54 66 65 64 63 75 74 62 50 51 39 38 37 49 61 73 85 97 109 110 122 123 111 112 100 99 87 88 76 77 89 101 102 114 113 125 124 136 137 138 126 127 115 116 117 129 141 142 130 131 132 144\n"
     ]
    },
    {
     "name": "stderr",
     "output_type": "stream",
     "text": [
      "100%|██████████████████████████████████████████████████████████████████████████████████| 21/21 [00:15<00:00,  1.33it/s]\n"
     ]
    },
    {
     "name": "stdout",
     "output_type": "stream",
     "text": [
      "# of place cell using time shift shuffle method: 9.0 / 21\n"
     ]
    },
    {
     "name": "stderr",
     "output_type": "stream",
     "text": [
      "100%|██████████████████████████████████████████████████████████████████████████████████| 21/21 [00:15<00:00,  1.38it/s]\n"
     ]
    },
    {
     "name": "stdout",
     "output_type": "stream",
     "text": [
      "# of run cell using time shift shuffle method: 9.0 / 21\n",
      "M10021maze1Day7\n",
      "22    Z:/miniscope_recording/maze/4_23_2020/10021H11...\n",
      "Name: recording_folder_local, dtype: object\n",
      "The maze is bidirectional, Ye!\n",
      "Node 1 is Decision point\n",
      "Node 2 is Leaf node\n",
      "Node 13 is Decision point\n",
      "Node 6 is Decision point\n",
      "Node 8 is Leaf node\n",
      "Node 17 is Decision point\n",
      "Node 28 is Leaf node\n",
      "Node 30 is Decision point\n",
      "Node 24 is Decision point\n",
      "Node 84 is Decision point\n",
      "Node 94 is Decision point\n",
      "Node 55 is Decision point\n",
      "Node 43 is Leaf node\n",
      "Node 54 is Decision point\n",
      "Node 53 is Leaf node\n",
      "Node 51 is Decision point\n",
      "Node 39 is Decision point\n",
      "Node 40 is Leaf node\n",
      "Node 97 is Decision point\n",
      "Node 86 is Leaf node\n",
      "Node 109 is Decision point\n",
      "Node 129 is Decision point\n",
      "Node 139 is Leaf node\n",
      "Node 142 is Decision point\n",
      "Node 130 is Decision point\n",
      "Node 120 is Leaf node\n",
      "Node 144 is Leaf node\n",
      "Node 143 is Leaf node\n",
      "Node 135 is Leaf node\n",
      "Node 52 is Leaf node\n",
      "Node 93 is Leaf node\n",
      "Node 96 is Leaf node\n",
      "Node 35 is Leaf node\n",
      "Node 41 is Leaf node\n",
      "Node 25 is Leaf node\n",
      "Shortest path =  1 13 14 26 27 15 3 4 5 6 18 17 29 30 31 19 20 21 9 10 11 12 24 23 22 34 33 32 44 45 46 47 48 60 59 58 57 56 68 69 70 71 72 84 83 95 94 82 81 80 92 104 103 91 90 78 79 67 55 54 66 65 64 63 75 74 62 50 51 39 38 37 49 61 73 85 97 109 110 122 123 111 112 100 99 87 88 76 77 89 101 102 114 113 125 124 136 137 138 126 127 115 116 117 129 141 142 130 131 132 144\n",
      "Shortest path =  1 13 14 26 27 15 3 4 5 6 18 17 29 30 31 19 20 21 9 10 11 12 24 23 22 34 33 32 44 45 46 47 48 60 59 58 57 56 68 69 70 71 72 84 83 95 94 82 81 80 92 104 103 91 90 78 79 67 55 54 66 65 64 63 75 74 62 50 51 39 38 37 49 61 73 85 97 109 110 122 123 111 112 100 99 87 88 76 77 89 101 102 114 113 125 124 136 137 138 126 127 115 116 117 129 141 142 130 131 132 144\n"
     ]
    },
    {
     "name": "stderr",
     "output_type": "stream",
     "text": [
      "100%|████████████████████████████████████████████████████████████████████████████████████| 7/7 [00:02<00:00,  2.79it/s]\n"
     ]
    },
    {
     "name": "stdout",
     "output_type": "stream",
     "text": [
      "# of place cell using time shift shuffle method: 0.0 / 7\n"
     ]
    },
    {
     "name": "stderr",
     "output_type": "stream",
     "text": [
      "100%|████████████████████████████████████████████████████████████████████████████████████| 7/7 [00:02<00:00,  2.80it/s]\n"
     ]
    },
    {
     "name": "stdout",
     "output_type": "stream",
     "text": [
      "# of run cell using time shift shuffle method: 0.0 / 7\n",
      "M10021maze1Day8\n",
      "23    Z:/miniscope_recording/maze/4_24_2020/10021H11...\n",
      "Name: recording_folder_local, dtype: object\n",
      "The maze is bidirectional, Ye!\n",
      "Node 1 is Decision point\n",
      "Node 2 is Leaf node\n",
      "Node 13 is Decision point\n",
      "Node 6 is Decision point\n",
      "Node 8 is Leaf node\n",
      "Node 17 is Decision point\n",
      "Node 28 is Leaf node\n",
      "Node 30 is Decision point\n",
      "Node 24 is Decision point\n",
      "Node 84 is Decision point\n",
      "Node 94 is Decision point\n",
      "Node 55 is Decision point\n",
      "Node 43 is Leaf node\n",
      "Node 54 is Decision point\n",
      "Node 53 is Leaf node\n",
      "Node 51 is Decision point\n",
      "Node 39 is Decision point\n",
      "Node 40 is Leaf node\n",
      "Node 97 is Decision point\n",
      "Node 86 is Leaf node\n",
      "Node 109 is Decision point\n",
      "Node 129 is Decision point\n",
      "Node 139 is Leaf node\n",
      "Node 142 is Decision point\n",
      "Node 130 is Decision point\n",
      "Node 120 is Leaf node\n",
      "Node 144 is Leaf node\n",
      "Node 143 is Leaf node\n",
      "Node 135 is Leaf node\n",
      "Node 52 is Leaf node\n",
      "Node 93 is Leaf node\n",
      "Node 96 is Leaf node\n",
      "Node 35 is Leaf node\n",
      "Node 41 is Leaf node\n",
      "Node 25 is Leaf node\n",
      "Shortest path =  1 13 14 26 27 15 3 4 5 6 18 17 29 30 31 19 20 21 9 10 11 12 24 23 22 34 33 32 44 45 46 47 48 60 59 58 57 56 68 69 70 71 72 84 83 95 94 82 81 80 92 104 103 91 90 78 79 67 55 54 66 65 64 63 75 74 62 50 51 39 38 37 49 61 73 85 97 109 110 122 123 111 112 100 99 87 88 76 77 89 101 102 114 113 125 124 136 137 138 126 127 115 116 117 129 141 142 130 131 132 144\n",
      "Shortest path =  1 13 14 26 27 15 3 4 5 6 18 17 29 30 31 19 20 21 9 10 11 12 24 23 22 34 33 32 44 45 46 47 48 60 59 58 57 56 68 69 70 71 72 84 83 95 94 82 81 80 92 104 103 91 90 78 79 67 55 54 66 65 64 63 75 74 62 50 51 39 38 37 49 61 73 85 97 109 110 122 123 111 112 100 99 87 88 76 77 89 101 102 114 113 125 124 136 137 138 126 127 115 116 117 129 141 142 130 131 132 144\n"
     ]
    },
    {
     "name": "stderr",
     "output_type": "stream",
     "text": [
      "100%|██████████████████████████████████████████████████████████████████████████████████| 36/36 [00:11<00:00,  3.06it/s]\n"
     ]
    },
    {
     "name": "stdout",
     "output_type": "stream",
     "text": [
      "# of place cell using time shift shuffle method: 6.0 / 36\n"
     ]
    },
    {
     "name": "stderr",
     "output_type": "stream",
     "text": [
      "100%|██████████████████████████████████████████████████████████████████████████████████| 36/36 [00:11<00:00,  3.09it/s]\n"
     ]
    },
    {
     "name": "stdout",
     "output_type": "stream",
     "text": [
      "# of run cell using time shift shuffle method: 5.0 / 36\n",
      "M10021maze1Day9\n",
      "24    Z:/miniscope_recording/maze/4_25_2020/10021H11...\n",
      "Name: recording_folder_local, dtype: object\n",
      "The maze is bidirectional, Ye!\n",
      "Node 1 is Decision point\n",
      "Node 2 is Leaf node\n",
      "Node 13 is Decision point\n",
      "Node 6 is Decision point\n",
      "Node 8 is Leaf node\n",
      "Node 17 is Decision point\n",
      "Node 28 is Leaf node\n",
      "Node 30 is Decision point\n",
      "Node 24 is Decision point\n",
      "Node 84 is Decision point\n",
      "Node 94 is Decision point\n",
      "Node 55 is Decision point\n",
      "Node 43 is Leaf node\n",
      "Node 54 is Decision point\n",
      "Node 53 is Leaf node\n",
      "Node 51 is Decision point\n",
      "Node 39 is Decision point\n",
      "Node 40 is Leaf node\n",
      "Node 97 is Decision point\n",
      "Node 86 is Leaf node\n",
      "Node 109 is Decision point\n",
      "Node 129 is Decision point\n",
      "Node 139 is Leaf node\n",
      "Node 142 is Decision point\n",
      "Node 130 is Decision point\n",
      "Node 120 is Leaf node\n",
      "Node 144 is Leaf node\n",
      "Node 143 is Leaf node\n",
      "Node 135 is Leaf node\n",
      "Node 52 is Leaf node\n",
      "Node 93 is Leaf node\n",
      "Node 96 is Leaf node\n",
      "Node 35 is Leaf node\n",
      "Node 41 is Leaf node\n",
      "Node 25 is Leaf node\n",
      "Shortest path =  1 13 14 26 27 15 3 4 5 6 18 17 29 30 31 19 20 21 9 10 11 12 24 23 22 34 33 32 44 45 46 47 48 60 59 58 57 56 68 69 70 71 72 84 83 95 94 82 81 80 92 104 103 91 90 78 79 67 55 54 66 65 64 63 75 74 62 50 51 39 38 37 49 61 73 85 97 109 110 122 123 111 112 100 99 87 88 76 77 89 101 102 114 113 125 124 136 137 138 126 127 115 116 117 129 141 142 130 131 132 144\n",
      "Shortest path =  1 13 14 26 27 15 3 4 5 6 18 17 29 30 31 19 20 21 9 10 11 12 24 23 22 34 33 32 44 45 46 47 48 60 59 58 57 56 68 69 70 71 72 84 83 95 94 82 81 80 92 104 103 91 90 78 79 67 55 54 66 65 64 63 75 74 62 50 51 39 38 37 49 61 73 85 97 109 110 122 123 111 112 100 99 87 88 76 77 89 101 102 114 113 125 124 136 137 138 126 127 115 116 117 129 141 142 130 131 132 144\n"
     ]
    },
    {
     "name": "stderr",
     "output_type": "stream",
     "text": [
      "100%|██████████████████████████████████████████████████████████████████████████████████| 22/22 [00:11<00:00,  1.85it/s]\n"
     ]
    },
    {
     "name": "stdout",
     "output_type": "stream",
     "text": [
      "# of place cell using time shift shuffle method: 6.0 / 22\n"
     ]
    },
    {
     "name": "stderr",
     "output_type": "stream",
     "text": [
      "100%|██████████████████████████████████████████████████████████████████████████████████| 22/22 [00:11<00:00,  1.90it/s]\n"
     ]
    },
    {
     "name": "stdout",
     "output_type": "stream",
     "text": [
      "# of run cell using time shift shuffle method: 7.0 / 22\n",
      "M10023maze1Day1\n",
      "25    Z:/miniscope_recording/maze/4_17_2020/10023H20...\n",
      "Name: recording_folder_local, dtype: object\n",
      "The maze is bidirectional, Ye!\n",
      "Node 1 is Decision point\n",
      "Node 2 is Leaf node\n",
      "Node 13 is Decision point\n",
      "Node 6 is Decision point\n",
      "Node 8 is Leaf node\n",
      "Node 17 is Decision point\n",
      "Node 28 is Leaf node\n",
      "Node 30 is Decision point\n",
      "Node 24 is Decision point\n",
      "Node 84 is Decision point\n",
      "Node 94 is Decision point\n",
      "Node 55 is Decision point\n",
      "Node 43 is Leaf node\n",
      "Node 54 is Decision point\n",
      "Node 53 is Leaf node\n",
      "Node 51 is Decision point\n",
      "Node 39 is Decision point\n",
      "Node 40 is Leaf node\n",
      "Node 97 is Decision point\n",
      "Node 86 is Leaf node\n",
      "Node 109 is Decision point\n",
      "Node 129 is Decision point\n",
      "Node 139 is Leaf node\n",
      "Node 142 is Decision point\n",
      "Node 130 is Decision point\n",
      "Node 120 is Leaf node\n",
      "Node 144 is Leaf node\n",
      "Node 143 is Leaf node\n",
      "Node 135 is Leaf node\n",
      "Node 52 is Leaf node\n",
      "Node 93 is Leaf node\n",
      "Node 96 is Leaf node\n",
      "Node 35 is Leaf node\n",
      "Node 41 is Leaf node\n",
      "Node 25 is Leaf node\n",
      "Shortest path =  1 13 14 26 27 15 3 4 5 6 18 17 29 30 31 19 20 21 9 10 11 12 24 23 22 34 33 32 44 45 46 47 48 60 59 58 57 56 68 69 70 71 72 84 83 95 94 82 81 80 92 104 103 91 90 78 79 67 55 54 66 65 64 63 75 74 62 50 51 39 38 37 49 61 73 85 97 109 110 122 123 111 112 100 99 87 88 76 77 89 101 102 114 113 125 124 136 137 138 126 127 115 116 117 129 141 142 130 131 132 144\n",
      "Shortest path =  1 13 14 26 27 15 3 4 5 6 18 17 29 30 31 19 20 21 9 10 11 12 24 23 22 34 33 32 44 45 46 47 48 60 59 58 57 56 68 69 70 71 72 84 83 95 94 82 81 80 92 104 103 91 90 78 79 67 55 54 66 65 64 63 75 74 62 50 51 39 38 37 49 61 73 85 97 109 110 122 123 111 112 100 99 87 88 76 77 89 101 102 114 113 125 124 136 137 138 126 127 115 116 117 129 141 142 130 131 132 144\n"
     ]
    },
    {
     "name": "stderr",
     "output_type": "stream",
     "text": [
      "100%|██████████████████████████████████████████████████████████████████████████████████| 52/52 [01:40<00:00,  1.93s/it]\n"
     ]
    },
    {
     "name": "stdout",
     "output_type": "stream",
     "text": [
      "# of place cell using time shift shuffle method: 16.0 / 52\n"
     ]
    },
    {
     "name": "stderr",
     "output_type": "stream",
     "text": [
      "100%|██████████████████████████████████████████████████████████████████████████████████| 52/52 [01:38<00:00,  1.89s/it]\n"
     ]
    },
    {
     "name": "stdout",
     "output_type": "stream",
     "text": [
      "# of run cell using time shift shuffle method: 9.0 / 52\n",
      "M10023maze1Day2\n",
      "26    Z:/miniscope_recording/maze/4_18_2020/10023H18...\n",
      "Name: recording_folder_local, dtype: object\n",
      "The maze is bidirectional, Ye!\n",
      "Node 1 is Decision point\n",
      "Node 2 is Leaf node\n",
      "Node 13 is Decision point\n",
      "Node 6 is Decision point\n",
      "Node 8 is Leaf node\n",
      "Node 17 is Decision point\n",
      "Node 28 is Leaf node\n",
      "Node 30 is Decision point\n",
      "Node 24 is Decision point\n",
      "Node 84 is Decision point\n",
      "Node 94 is Decision point\n",
      "Node 55 is Decision point\n",
      "Node 43 is Leaf node\n",
      "Node 54 is Decision point\n",
      "Node 53 is Leaf node\n",
      "Node 51 is Decision point\n",
      "Node 39 is Decision point\n",
      "Node 40 is Leaf node\n",
      "Node 97 is Decision point\n",
      "Node 86 is Leaf node\n",
      "Node 109 is Decision point\n",
      "Node 129 is Decision point\n",
      "Node 139 is Leaf node\n",
      "Node 142 is Decision point\n",
      "Node 130 is Decision point\n",
      "Node 120 is Leaf node\n",
      "Node 144 is Leaf node\n",
      "Node 143 is Leaf node\n",
      "Node 135 is Leaf node\n",
      "Node 52 is Leaf node\n",
      "Node 93 is Leaf node\n",
      "Node 96 is Leaf node\n",
      "Node 35 is Leaf node\n",
      "Node 41 is Leaf node\n",
      "Node 25 is Leaf node\n",
      "Shortest path =  1 13 14 26 27 15 3 4 5 6 18 17 29 30 31 19 20 21 9 10 11 12 24 23 22 34 33 32 44 45 46 47 48 60 59 58 57 56 68 69 70 71 72 84 83 95 94 82 81 80 92 104 103 91 90 78 79 67 55 54 66 65 64 63 75 74 62 50 51 39 38 37 49 61 73 85 97 109 110 122 123 111 112 100 99 87 88 76 77 89 101 102 114 113 125 124 136 137 138 126 127 115 116 117 129 141 142 130 131 132 144\n",
      "Shortest path =  1 13 14 26 27 15 3 4 5 6 18 17 29 30 31 19 20 21 9 10 11 12 24 23 22 34 33 32 44 45 46 47 48 60 59 58 57 56 68 69 70 71 72 84 83 95 94 82 81 80 92 104 103 91 90 78 79 67 55 54 66 65 64 63 75 74 62 50 51 39 38 37 49 61 73 85 97 109 110 122 123 111 112 100 99 87 88 76 77 89 101 102 114 113 125 124 136 137 138 126 127 115 116 117 129 141 142 130 131 132 144\n"
     ]
    },
    {
     "name": "stderr",
     "output_type": "stream",
     "text": [
      "100%|██████████████████████████████████████████████████████████████████████████████████| 51/51 [02:07<00:00,  2.49s/it]\n"
     ]
    },
    {
     "name": "stdout",
     "output_type": "stream",
     "text": [
      "# of place cell using time shift shuffle method: 13.0 / 51\n"
     ]
    },
    {
     "name": "stderr",
     "output_type": "stream",
     "text": [
      "100%|██████████████████████████████████████████████████████████████████████████████████| 51/51 [02:04<00:00,  2.44s/it]\n"
     ]
    },
    {
     "name": "stdout",
     "output_type": "stream",
     "text": [
      "# of run cell using time shift shuffle method: 15.0 / 51\n",
      "M10023maze1Day3\n",
      "27    Z:/miniscope_recording/maze/4_19_2020/10023_H1...\n",
      "Name: recording_folder_local, dtype: object\n",
      "The maze is bidirectional, Ye!\n",
      "Node 1 is Decision point\n",
      "Node 2 is Leaf node\n",
      "Node 13 is Decision point\n",
      "Node 6 is Decision point\n",
      "Node 8 is Leaf node\n",
      "Node 17 is Decision point\n",
      "Node 28 is Leaf node\n",
      "Node 30 is Decision point\n",
      "Node 24 is Decision point\n",
      "Node 84 is Decision point\n",
      "Node 94 is Decision point\n",
      "Node 55 is Decision point\n",
      "Node 43 is Leaf node\n",
      "Node 54 is Decision point\n",
      "Node 53 is Leaf node\n",
      "Node 51 is Decision point\n",
      "Node 39 is Decision point\n",
      "Node 40 is Leaf node\n",
      "Node 97 is Decision point\n",
      "Node 86 is Leaf node\n",
      "Node 109 is Decision point\n",
      "Node 129 is Decision point\n",
      "Node 139 is Leaf node\n",
      "Node 142 is Decision point\n",
      "Node 130 is Decision point\n",
      "Node 120 is Leaf node\n",
      "Node 144 is Leaf node\n",
      "Node 143 is Leaf node\n",
      "Node 135 is Leaf node\n",
      "Node 52 is Leaf node\n",
      "Node 93 is Leaf node\n",
      "Node 96 is Leaf node\n",
      "Node 35 is Leaf node\n",
      "Node 41 is Leaf node\n",
      "Node 25 is Leaf node\n",
      "Shortest path =  1 13 14 26 27 15 3 4 5 6 18 17 29 30 31 19 20 21 9 10 11 12 24 23 22 34 33 32 44 45 46 47 48 60 59 58 57 56 68 69 70 71 72 84 83 95 94 82 81 80 92 104 103 91 90 78 79 67 55 54 66 65 64 63 75 74 62 50 51 39 38 37 49 61 73 85 97 109 110 122 123 111 112 100 99 87 88 76 77 89 101 102 114 113 125 124 136 137 138 126 127 115 116 117 129 141 142 130 131 132 144\n",
      "Shortest path =  1 13 14 26 27 15 3 4 5 6 18 17 29 30 31 19 20 21 9 10 11 12 24 23 22 34 33 32 44 45 46 47 48 60 59 58 57 56 68 69 70 71 72 84 83 95 94 82 81 80 92 104 103 91 90 78 79 67 55 54 66 65 64 63 75 74 62 50 51 39 38 37 49 61 73 85 97 109 110 122 123 111 112 100 99 87 88 76 77 89 101 102 114 113 125 124 136 137 138 126 127 115 116 117 129 141 142 130 131 132 144\n"
     ]
    },
    {
     "name": "stderr",
     "output_type": "stream",
     "text": [
      "100%|██████████████████████████████████████████████████████████████████████████████████| 42/42 [00:43<00:00,  1.03s/it]\n"
     ]
    },
    {
     "name": "stdout",
     "output_type": "stream",
     "text": [
      "# of place cell using time shift shuffle method: 12.0 / 42\n"
     ]
    },
    {
     "name": "stderr",
     "output_type": "stream",
     "text": [
      "100%|██████████████████████████████████████████████████████████████████████████████████| 42/42 [00:41<00:00,  1.02it/s]\n"
     ]
    },
    {
     "name": "stdout",
     "output_type": "stream",
     "text": [
      "# of run cell using time shift shuffle method: 13.0 / 42\n",
      "M10023maze1Day4\n",
      "28    Z:/miniscope_recording/maze/4_20_2020/10023H20...\n",
      "Name: recording_folder_local, dtype: object\n",
      "The maze is bidirectional, Ye!\n",
      "Node 1 is Decision point\n",
      "Node 2 is Leaf node\n",
      "Node 13 is Decision point\n",
      "Node 6 is Decision point\n",
      "Node 8 is Leaf node\n",
      "Node 17 is Decision point\n",
      "Node 28 is Leaf node\n",
      "Node 30 is Decision point\n",
      "Node 24 is Decision point\n",
      "Node 84 is Decision point\n",
      "Node 94 is Decision point\n",
      "Node 55 is Decision point\n",
      "Node 43 is Leaf node\n",
      "Node 54 is Decision point\n",
      "Node 53 is Leaf node\n",
      "Node 51 is Decision point\n",
      "Node 39 is Decision point\n",
      "Node 40 is Leaf node\n",
      "Node 97 is Decision point\n",
      "Node 86 is Leaf node\n",
      "Node 109 is Decision point\n",
      "Node 129 is Decision point\n",
      "Node 139 is Leaf node\n",
      "Node 142 is Decision point\n",
      "Node 130 is Decision point\n",
      "Node 120 is Leaf node\n",
      "Node 144 is Leaf node\n",
      "Node 143 is Leaf node\n",
      "Node 135 is Leaf node\n",
      "Node 52 is Leaf node\n",
      "Node 93 is Leaf node\n",
      "Node 96 is Leaf node\n",
      "Node 35 is Leaf node\n",
      "Node 41 is Leaf node\n",
      "Node 25 is Leaf node\n",
      "Shortest path =  1 13 14 26 27 15 3 4 5 6 18 17 29 30 31 19 20 21 9 10 11 12 24 23 22 34 33 32 44 45 46 47 48 60 59 58 57 56 68 69 70 71 72 84 83 95 94 82 81 80 92 104 103 91 90 78 79 67 55 54 66 65 64 63 75 74 62 50 51 39 38 37 49 61 73 85 97 109 110 122 123 111 112 100 99 87 88 76 77 89 101 102 114 113 125 124 136 137 138 126 127 115 116 117 129 141 142 130 131 132 144\n",
      "Shortest path =  1 13 14 26 27 15 3 4 5 6 18 17 29 30 31 19 20 21 9 10 11 12 24 23 22 34 33 32 44 45 46 47 48 60 59 58 57 56 68 69 70 71 72 84 83 95 94 82 81 80 92 104 103 91 90 78 79 67 55 54 66 65 64 63 75 74 62 50 51 39 38 37 49 61 73 85 97 109 110 122 123 111 112 100 99 87 88 76 77 89 101 102 114 113 125 124 136 137 138 126 127 115 116 117 129 141 142 130 131 132 144\n"
     ]
    },
    {
     "name": "stderr",
     "output_type": "stream",
     "text": [
      "100%|██████████████████████████████████████████████████████████████████████████████████| 76/76 [01:05<00:00,  1.17it/s]\n"
     ]
    },
    {
     "name": "stdout",
     "output_type": "stream",
     "text": [
      "# of place cell using time shift shuffle method: 18.0 / 76\n"
     ]
    },
    {
     "name": "stderr",
     "output_type": "stream",
     "text": [
      "100%|██████████████████████████████████████████████████████████████████████████████████| 76/76 [01:03<00:00,  1.20it/s]\n"
     ]
    },
    {
     "name": "stdout",
     "output_type": "stream",
     "text": [
      "# of run cell using time shift shuffle method: 26.0 / 76\n",
      "M10023maze1Day5\n",
      "29    Z:/miniscope_recording/maze/4_21_2020/10023H19...\n",
      "Name: recording_folder_local, dtype: object\n",
      "The maze is bidirectional, Ye!\n",
      "Node 1 is Decision point\n",
      "Node 2 is Leaf node\n",
      "Node 13 is Decision point\n",
      "Node 6 is Decision point\n",
      "Node 8 is Leaf node\n",
      "Node 17 is Decision point\n",
      "Node 28 is Leaf node\n",
      "Node 30 is Decision point\n",
      "Node 24 is Decision point\n",
      "Node 84 is Decision point\n",
      "Node 94 is Decision point\n",
      "Node 55 is Decision point\n",
      "Node 43 is Leaf node\n",
      "Node 54 is Decision point\n",
      "Node 53 is Leaf node\n",
      "Node 51 is Decision point\n",
      "Node 39 is Decision point\n",
      "Node 40 is Leaf node\n",
      "Node 97 is Decision point\n",
      "Node 86 is Leaf node\n",
      "Node 109 is Decision point\n",
      "Node 129 is Decision point\n",
      "Node 139 is Leaf node\n",
      "Node 142 is Decision point\n",
      "Node 130 is Decision point\n",
      "Node 120 is Leaf node\n",
      "Node 144 is Leaf node\n",
      "Node 143 is Leaf node\n",
      "Node 135 is Leaf node\n",
      "Node 52 is Leaf node\n",
      "Node 93 is Leaf node\n",
      "Node 96 is Leaf node\n",
      "Node 35 is Leaf node\n",
      "Node 41 is Leaf node\n",
      "Node 25 is Leaf node\n",
      "Shortest path =  1 13 14 26 27 15 3 4 5 6 18 17 29 30 31 19 20 21 9 10 11 12 24 23 22 34 33 32 44 45 46 47 48 60 59 58 57 56 68 69 70 71 72 84 83 95 94 82 81 80 92 104 103 91 90 78 79 67 55 54 66 65 64 63 75 74 62 50 51 39 38 37 49 61 73 85 97 109 110 122 123 111 112 100 99 87 88 76 77 89 101 102 114 113 125 124 136 137 138 126 127 115 116 117 129 141 142 130 131 132 144\n",
      "Shortest path =  1 13 14 26 27 15 3 4 5 6 18 17 29 30 31 19 20 21 9 10 11 12 24 23 22 34 33 32 44 45 46 47 48 60 59 58 57 56 68 69 70 71 72 84 83 95 94 82 81 80 92 104 103 91 90 78 79 67 55 54 66 65 64 63 75 74 62 50 51 39 38 37 49 61 73 85 97 109 110 122 123 111 112 100 99 87 88 76 77 89 101 102 114 113 125 124 136 137 138 126 127 115 116 117 129 141 142 130 131 132 144\n"
     ]
    },
    {
     "name": "stderr",
     "output_type": "stream",
     "text": [
      "100%|██████████████████████████████████████████████████████████████████████████████████| 53/53 [01:13<00:00,  1.39s/it]\n"
     ]
    },
    {
     "name": "stdout",
     "output_type": "stream",
     "text": [
      "# of place cell using time shift shuffle method: 42.0 / 53\n"
     ]
    },
    {
     "name": "stderr",
     "output_type": "stream",
     "text": [
      "100%|██████████████████████████████████████████████████████████████████████████████████| 53/53 [01:12<00:00,  1.37s/it]\n"
     ]
    },
    {
     "name": "stdout",
     "output_type": "stream",
     "text": [
      "# of run cell using time shift shuffle method: 37.0 / 53\n",
      "M10023maze1Day6\n",
      "30    Z:/miniscope_recording/maze/4_22_2020/10023H11...\n",
      "Name: recording_folder_local, dtype: object\n",
      "The maze is bidirectional, Ye!\n",
      "Node 1 is Decision point\n",
      "Node 2 is Leaf node\n",
      "Node 13 is Decision point\n",
      "Node 6 is Decision point\n",
      "Node 8 is Leaf node\n",
      "Node 17 is Decision point\n",
      "Node 28 is Leaf node\n",
      "Node 30 is Decision point\n",
      "Node 24 is Decision point\n",
      "Node 84 is Decision point\n",
      "Node 94 is Decision point\n",
      "Node 55 is Decision point\n",
      "Node 43 is Leaf node\n",
      "Node 54 is Decision point\n",
      "Node 53 is Leaf node\n",
      "Node 51 is Decision point\n",
      "Node 39 is Decision point\n",
      "Node 40 is Leaf node\n",
      "Node 97 is Decision point\n",
      "Node 86 is Leaf node\n",
      "Node 109 is Decision point\n",
      "Node 129 is Decision point\n",
      "Node 139 is Leaf node\n",
      "Node 142 is Decision point\n",
      "Node 130 is Decision point\n",
      "Node 120 is Leaf node\n",
      "Node 144 is Leaf node\n",
      "Node 143 is Leaf node\n",
      "Node 135 is Leaf node\n",
      "Node 52 is Leaf node\n",
      "Node 93 is Leaf node\n",
      "Node 96 is Leaf node\n",
      "Node 35 is Leaf node\n",
      "Node 41 is Leaf node\n",
      "Node 25 is Leaf node\n",
      "Shortest path =  1 13 14 26 27 15 3 4 5 6 18 17 29 30 31 19 20 21 9 10 11 12 24 23 22 34 33 32 44 45 46 47 48 60 59 58 57 56 68 69 70 71 72 84 83 95 94 82 81 80 92 104 103 91 90 78 79 67 55 54 66 65 64 63 75 74 62 50 51 39 38 37 49 61 73 85 97 109 110 122 123 111 112 100 99 87 88 76 77 89 101 102 114 113 125 124 136 137 138 126 127 115 116 117 129 141 142 130 131 132 144\n",
      "Shortest path =  1 13 14 26 27 15 3 4 5 6 18 17 29 30 31 19 20 21 9 10 11 12 24 23 22 34 33 32 44 45 46 47 48 60 59 58 57 56 68 69 70 71 72 84 83 95 94 82 81 80 92 104 103 91 90 78 79 67 55 54 66 65 64 63 75 74 62 50 51 39 38 37 49 61 73 85 97 109 110 122 123 111 112 100 99 87 88 76 77 89 101 102 114 113 125 124 136 137 138 126 127 115 116 117 129 141 142 130 131 132 144\n"
     ]
    },
    {
     "name": "stderr",
     "output_type": "stream",
     "text": [
      "100%|██████████████████████████████████████████████████████████████████████████████████| 56/56 [02:10<00:00,  2.33s/it]\n"
     ]
    },
    {
     "name": "stdout",
     "output_type": "stream",
     "text": [
      "# of place cell using time shift shuffle method: 48.0 / 56\n"
     ]
    },
    {
     "name": "stderr",
     "output_type": "stream",
     "text": [
      "100%|██████████████████████████████████████████████████████████████████████████████████| 56/56 [02:04<00:00,  2.23s/it]\n"
     ]
    },
    {
     "name": "stdout",
     "output_type": "stream",
     "text": [
      "# of run cell using time shift shuffle method: 46.0 / 56\n",
      "M10023maze1Day7\n",
      "31    Z:/miniscope_recording/maze/4_23_2020/10023H11...\n",
      "Name: recording_folder_local, dtype: object\n",
      "The maze is bidirectional, Ye!\n",
      "Node 1 is Decision point\n",
      "Node 2 is Leaf node\n",
      "Node 13 is Decision point\n",
      "Node 6 is Decision point\n",
      "Node 8 is Leaf node\n",
      "Node 17 is Decision point\n",
      "Node 28 is Leaf node\n",
      "Node 30 is Decision point\n",
      "Node 24 is Decision point\n",
      "Node 84 is Decision point\n",
      "Node 94 is Decision point\n",
      "Node 55 is Decision point\n",
      "Node 43 is Leaf node\n",
      "Node 54 is Decision point\n",
      "Node 53 is Leaf node\n",
      "Node 51 is Decision point\n",
      "Node 39 is Decision point\n",
      "Node 40 is Leaf node\n",
      "Node 97 is Decision point\n",
      "Node 86 is Leaf node\n",
      "Node 109 is Decision point\n",
      "Node 129 is Decision point\n",
      "Node 139 is Leaf node\n",
      "Node 142 is Decision point\n",
      "Node 130 is Decision point\n",
      "Node 120 is Leaf node\n",
      "Node 144 is Leaf node\n",
      "Node 143 is Leaf node\n",
      "Node 135 is Leaf node\n",
      "Node 52 is Leaf node\n",
      "Node 93 is Leaf node\n",
      "Node 96 is Leaf node\n",
      "Node 35 is Leaf node\n",
      "Node 41 is Leaf node\n",
      "Node 25 is Leaf node\n",
      "Shortest path =  1 13 14 26 27 15 3 4 5 6 18 17 29 30 31 19 20 21 9 10 11 12 24 23 22 34 33 32 44 45 46 47 48 60 59 58 57 56 68 69 70 71 72 84 83 95 94 82 81 80 92 104 103 91 90 78 79 67 55 54 66 65 64 63 75 74 62 50 51 39 38 37 49 61 73 85 97 109 110 122 123 111 112 100 99 87 88 76 77 89 101 102 114 113 125 124 136 137 138 126 127 115 116 117 129 141 142 130 131 132 144\n",
      "Shortest path =  1 13 14 26 27 15 3 4 5 6 18 17 29 30 31 19 20 21 9 10 11 12 24 23 22 34 33 32 44 45 46 47 48 60 59 58 57 56 68 69 70 71 72 84 83 95 94 82 81 80 92 104 103 91 90 78 79 67 55 54 66 65 64 63 75 74 62 50 51 39 38 37 49 61 73 85 97 109 110 122 123 111 112 100 99 87 88 76 77 89 101 102 114 113 125 124 136 137 138 126 127 115 116 117 129 141 142 130 131 132 144\n"
     ]
    },
    {
     "name": "stderr",
     "output_type": "stream",
     "text": [
      "100%|██████████████████████████████████████████████████████████████████████████████████| 29/29 [00:12<00:00,  2.37it/s]\n"
     ]
    },
    {
     "name": "stdout",
     "output_type": "stream",
     "text": [
      "# of place cell using time shift shuffle method: 8.0 / 29\n"
     ]
    },
    {
     "name": "stderr",
     "output_type": "stream",
     "text": [
      "100%|██████████████████████████████████████████████████████████████████████████████████| 29/29 [00:12<00:00,  2.39it/s]\n"
     ]
    },
    {
     "name": "stdout",
     "output_type": "stream",
     "text": [
      "# of run cell using time shift shuffle method: 8.0 / 29\n",
      "M10023maze1Day8\n",
      "32    Z:/miniscope_recording/maze/4_24_2020/10023H11...\n",
      "Name: recording_folder_local, dtype: object\n",
      "The maze is bidirectional, Ye!\n",
      "Node 1 is Decision point\n",
      "Node 2 is Leaf node\n",
      "Node 13 is Decision point\n",
      "Node 6 is Decision point\n",
      "Node 8 is Leaf node\n",
      "Node 17 is Decision point\n",
      "Node 28 is Leaf node\n",
      "Node 30 is Decision point\n",
      "Node 24 is Decision point\n",
      "Node 84 is Decision point\n",
      "Node 94 is Decision point\n",
      "Node 55 is Decision point\n",
      "Node 43 is Leaf node\n",
      "Node 54 is Decision point\n",
      "Node 53 is Leaf node\n",
      "Node 51 is Decision point\n",
      "Node 39 is Decision point\n",
      "Node 40 is Leaf node\n",
      "Node 97 is Decision point\n",
      "Node 86 is Leaf node\n",
      "Node 109 is Decision point\n",
      "Node 129 is Decision point\n",
      "Node 139 is Leaf node\n",
      "Node 142 is Decision point\n",
      "Node 130 is Decision point\n",
      "Node 120 is Leaf node\n",
      "Node 144 is Leaf node\n",
      "Node 143 is Leaf node\n",
      "Node 135 is Leaf node\n",
      "Node 52 is Leaf node\n",
      "Node 93 is Leaf node\n",
      "Node 96 is Leaf node\n",
      "Node 35 is Leaf node\n",
      "Node 41 is Leaf node\n",
      "Node 25 is Leaf node\n",
      "Shortest path =  1 13 14 26 27 15 3 4 5 6 18 17 29 30 31 19 20 21 9 10 11 12 24 23 22 34 33 32 44 45 46 47 48 60 59 58 57 56 68 69 70 71 72 84 83 95 94 82 81 80 92 104 103 91 90 78 79 67 55 54 66 65 64 63 75 74 62 50 51 39 38 37 49 61 73 85 97 109 110 122 123 111 112 100 99 87 88 76 77 89 101 102 114 113 125 124 136 137 138 126 127 115 116 117 129 141 142 130 131 132 144\n",
      "Shortest path =  1 13 14 26 27 15 3 4 5 6 18 17 29 30 31 19 20 21 9 10 11 12 24 23 22 34 33 32 44 45 46 47 48 60 59 58 57 56 68 69 70 71 72 84 83 95 94 82 81 80 92 104 103 91 90 78 79 67 55 54 66 65 64 63 75 74 62 50 51 39 38 37 49 61 73 85 97 109 110 122 123 111 112 100 99 87 88 76 77 89 101 102 114 113 125 124 136 137 138 126 127 115 116 117 129 141 142 130 131 132 144\n"
     ]
    },
    {
     "name": "stderr",
     "output_type": "stream",
     "text": [
      "100%|██████████████████████████████████████████████████████████████████████████████████| 39/39 [00:18<00:00,  2.08it/s]\n"
     ]
    },
    {
     "name": "stdout",
     "output_type": "stream",
     "text": [
      "# of place cell using time shift shuffle method: 12.0 / 39\n"
     ]
    },
    {
     "name": "stderr",
     "output_type": "stream",
     "text": [
      "100%|██████████████████████████████████████████████████████████████████████████████████| 39/39 [00:18<00:00,  2.11it/s]\n"
     ]
    },
    {
     "name": "stdout",
     "output_type": "stream",
     "text": [
      "# of run cell using time shift shuffle method: 12.0 / 39\n",
      "M10023maze1Day9\n",
      "33    Z:/miniscope_recording/maze/4_25_2020/10023H11...\n",
      "Name: recording_folder_local, dtype: object\n",
      "The maze is bidirectional, Ye!\n",
      "Node 1 is Decision point\n",
      "Node 2 is Leaf node\n",
      "Node 13 is Decision point\n",
      "Node 6 is Decision point\n",
      "Node 8 is Leaf node\n",
      "Node 17 is Decision point\n",
      "Node 28 is Leaf node\n",
      "Node 30 is Decision point\n",
      "Node 24 is Decision point\n",
      "Node 84 is Decision point\n",
      "Node 94 is Decision point\n",
      "Node 55 is Decision point\n",
      "Node 43 is Leaf node\n",
      "Node 54 is Decision point\n",
      "Node 53 is Leaf node\n",
      "Node 51 is Decision point\n",
      "Node 39 is Decision point\n",
      "Node 40 is Leaf node\n",
      "Node 97 is Decision point\n",
      "Node 86 is Leaf node\n",
      "Node 109 is Decision point\n",
      "Node 129 is Decision point\n",
      "Node 139 is Leaf node\n",
      "Node 142 is Decision point\n",
      "Node 130 is Decision point\n",
      "Node 120 is Leaf node\n",
      "Node 144 is Leaf node\n",
      "Node 143 is Leaf node\n",
      "Node 135 is Leaf node\n",
      "Node 52 is Leaf node\n",
      "Node 93 is Leaf node\n",
      "Node 96 is Leaf node\n",
      "Node 35 is Leaf node\n",
      "Node 41 is Leaf node\n",
      "Node 25 is Leaf node\n",
      "Shortest path =  1 13 14 26 27 15 3 4 5 6 18 17 29 30 31 19 20 21 9 10 11 12 24 23 22 34 33 32 44 45 46 47 48 60 59 58 57 56 68 69 70 71 72 84 83 95 94 82 81 80 92 104 103 91 90 78 79 67 55 54 66 65 64 63 75 74 62 50 51 39 38 37 49 61 73 85 97 109 110 122 123 111 112 100 99 87 88 76 77 89 101 102 114 113 125 124 136 137 138 126 127 115 116 117 129 141 142 130 131 132 144\n",
      "Shortest path =  1 13 14 26 27 15 3 4 5 6 18 17 29 30 31 19 20 21 9 10 11 12 24 23 22 34 33 32 44 45 46 47 48 60 59 58 57 56 68 69 70 71 72 84 83 95 94 82 81 80 92 104 103 91 90 78 79 67 55 54 66 65 64 63 75 74 62 50 51 39 38 37 49 61 73 85 97 109 110 122 123 111 112 100 99 87 88 76 77 89 101 102 114 113 125 124 136 137 138 126 127 115 116 117 129 141 142 130 131 132 144\n"
     ]
    },
    {
     "name": "stderr",
     "output_type": "stream",
     "text": [
      "100%|██████████████████████████████████████████████████████████████████████████████████| 76/76 [01:12<00:00,  1.05it/s]\n"
     ]
    },
    {
     "name": "stdout",
     "output_type": "stream",
     "text": [
      "# of place cell using time shift shuffle method: 41.0 / 76\n"
     ]
    },
    {
     "name": "stderr",
     "output_type": "stream",
     "text": [
      "100%|██████████████████████████████████████████████████████████████████████████████████| 76/76 [01:10<00:00,  1.08it/s]\n"
     ]
    },
    {
     "name": "stdout",
     "output_type": "stream",
     "text": [
      "# of run cell using time shift shuffle method: 21.0 / 76\n",
      "M10024maze1Day1\n",
      "42    Z:/miniscope_recording/maze/4_17_2020/10024H13...\n",
      "Name: recording_folder_local, dtype: object\n",
      "The maze is bidirectional, Ye!\n",
      "Node 1 is Decision point\n",
      "Node 2 is Leaf node\n",
      "Node 13 is Decision point\n",
      "Node 6 is Decision point\n",
      "Node 8 is Leaf node\n",
      "Node 17 is Decision point\n",
      "Node 28 is Leaf node\n",
      "Node 30 is Decision point\n",
      "Node 24 is Decision point\n",
      "Node 84 is Decision point\n",
      "Node 94 is Decision point\n",
      "Node 55 is Decision point\n",
      "Node 43 is Leaf node\n",
      "Node 54 is Decision point\n",
      "Node 53 is Leaf node\n",
      "Node 51 is Decision point\n",
      "Node 39 is Decision point\n",
      "Node 40 is Leaf node\n",
      "Node 97 is Decision point\n",
      "Node 86 is Leaf node\n",
      "Node 109 is Decision point\n",
      "Node 129 is Decision point\n",
      "Node 139 is Leaf node\n",
      "Node 142 is Decision point\n",
      "Node 130 is Decision point\n",
      "Node 120 is Leaf node\n",
      "Node 144 is Leaf node\n",
      "Node 143 is Leaf node\n",
      "Node 135 is Leaf node\n",
      "Node 52 is Leaf node\n",
      "Node 93 is Leaf node\n",
      "Node 96 is Leaf node\n",
      "Node 35 is Leaf node\n",
      "Node 41 is Leaf node\n",
      "Node 25 is Leaf node\n",
      "Shortest path =  1 13 14 26 27 15 3 4 5 6 18 17 29 30 31 19 20 21 9 10 11 12 24 23 22 34 33 32 44 45 46 47 48 60 59 58 57 56 68 69 70 71 72 84 83 95 94 82 81 80 92 104 103 91 90 78 79 67 55 54 66 65 64 63 75 74 62 50 51 39 38 37 49 61 73 85 97 109 110 122 123 111 112 100 99 87 88 76 77 89 101 102 114 113 125 124 136 137 138 126 127 115 116 117 129 141 142 130 131 132 144\n",
      "Shortest path =  1 13 14 26 27 15 3 4 5 6 18 17 29 30 31 19 20 21 9 10 11 12 24 23 22 34 33 32 44 45 46 47 48 60 59 58 57 56 68 69 70 71 72 84 83 95 94 82 81 80 92 104 103 91 90 78 79 67 55 54 66 65 64 63 75 74 62 50 51 39 38 37 49 61 73 85 97 109 110 122 123 111 112 100 99 87 88 76 77 89 101 102 114 113 125 124 136 137 138 126 127 115 116 117 129 141 142 130 131 132 144\n"
     ]
    },
    {
     "name": "stderr",
     "output_type": "stream",
     "text": [
      "100%|██████████████████████████████████████████████████████████████████████████████████| 48/48 [01:27<00:00,  1.81s/it]\n"
     ]
    },
    {
     "name": "stdout",
     "output_type": "stream",
     "text": [
      "# of place cell using time shift shuffle method: 5.0 / 48\n"
     ]
    },
    {
     "name": "stderr",
     "output_type": "stream",
     "text": [
      "100%|██████████████████████████████████████████████████████████████████████████████████| 48/48 [01:26<00:00,  1.79s/it]\n"
     ]
    },
    {
     "name": "stdout",
     "output_type": "stream",
     "text": [
      "# of run cell using time shift shuffle method: 6.0 / 48\n",
      "M10024maze1Day2\n",
      "43    Z:/miniscope_recording/maze/4_18_2020/10024H15...\n",
      "Name: recording_folder_local, dtype: object\n",
      "The maze is bidirectional, Ye!\n",
      "Node 1 is Decision point\n",
      "Node 2 is Leaf node\n",
      "Node 13 is Decision point\n",
      "Node 6 is Decision point\n",
      "Node 8 is Leaf node\n",
      "Node 17 is Decision point\n",
      "Node 28 is Leaf node\n",
      "Node 30 is Decision point\n",
      "Node 24 is Decision point\n",
      "Node 84 is Decision point\n",
      "Node 94 is Decision point\n",
      "Node 55 is Decision point\n",
      "Node 43 is Leaf node\n",
      "Node 54 is Decision point\n",
      "Node 53 is Leaf node\n",
      "Node 51 is Decision point\n",
      "Node 39 is Decision point\n",
      "Node 40 is Leaf node\n",
      "Node 97 is Decision point\n",
      "Node 86 is Leaf node\n",
      "Node 109 is Decision point\n",
      "Node 129 is Decision point\n",
      "Node 139 is Leaf node\n",
      "Node 142 is Decision point\n",
      "Node 130 is Decision point\n",
      "Node 120 is Leaf node\n",
      "Node 144 is Leaf node\n",
      "Node 143 is Leaf node\n",
      "Node 135 is Leaf node\n",
      "Node 52 is Leaf node\n",
      "Node 93 is Leaf node\n",
      "Node 96 is Leaf node\n",
      "Node 35 is Leaf node\n",
      "Node 41 is Leaf node\n",
      "Node 25 is Leaf node\n",
      "Shortest path =  1 13 14 26 27 15 3 4 5 6 18 17 29 30 31 19 20 21 9 10 11 12 24 23 22 34 33 32 44 45 46 47 48 60 59 58 57 56 68 69 70 71 72 84 83 95 94 82 81 80 92 104 103 91 90 78 79 67 55 54 66 65 64 63 75 74 62 50 51 39 38 37 49 61 73 85 97 109 110 122 123 111 112 100 99 87 88 76 77 89 101 102 114 113 125 124 136 137 138 126 127 115 116 117 129 141 142 130 131 132 144\n",
      "Shortest path =  1 13 14 26 27 15 3 4 5 6 18 17 29 30 31 19 20 21 9 10 11 12 24 23 22 34 33 32 44 45 46 47 48 60 59 58 57 56 68 69 70 71 72 84 83 95 94 82 81 80 92 104 103 91 90 78 79 67 55 54 66 65 64 63 75 74 62 50 51 39 38 37 49 61 73 85 97 109 110 122 123 111 112 100 99 87 88 76 77 89 101 102 114 113 125 124 136 137 138 126 127 115 116 117 129 141 142 130 131 132 144\n"
     ]
    },
    {
     "name": "stderr",
     "output_type": "stream",
     "text": [
      "100%|██████████████████████████████████████████████████████████████████████████████████| 60/60 [02:08<00:00,  2.15s/it]\n"
     ]
    },
    {
     "name": "stdout",
     "output_type": "stream",
     "text": [
      "# of place cell using time shift shuffle method: 25.0 / 60\n"
     ]
    },
    {
     "name": "stderr",
     "output_type": "stream",
     "text": [
      "100%|██████████████████████████████████████████████████████████████████████████████████| 60/60 [02:04<00:00,  2.07s/it]\n"
     ]
    },
    {
     "name": "stdout",
     "output_type": "stream",
     "text": [
      "# of run cell using time shift shuffle method: 17.0 / 60\n",
      "M10024maze1Day3\n",
      "44    Z:/miniscope_recording/maze/4_19_2020/10024H16...\n",
      "Name: recording_folder_local, dtype: object\n",
      "The maze is bidirectional, Ye!\n",
      "Node 1 is Decision point\n",
      "Node 2 is Leaf node\n",
      "Node 13 is Decision point\n",
      "Node 6 is Decision point\n",
      "Node 8 is Leaf node\n",
      "Node 17 is Decision point\n",
      "Node 28 is Leaf node\n",
      "Node 30 is Decision point\n",
      "Node 24 is Decision point\n",
      "Node 84 is Decision point\n",
      "Node 94 is Decision point\n",
      "Node 55 is Decision point\n",
      "Node 43 is Leaf node\n",
      "Node 54 is Decision point\n",
      "Node 53 is Leaf node\n",
      "Node 51 is Decision point\n",
      "Node 39 is Decision point\n",
      "Node 40 is Leaf node\n",
      "Node 97 is Decision point\n",
      "Node 86 is Leaf node\n",
      "Node 109 is Decision point\n",
      "Node 129 is Decision point\n",
      "Node 139 is Leaf node\n",
      "Node 142 is Decision point\n",
      "Node 130 is Decision point\n",
      "Node 120 is Leaf node\n",
      "Node 144 is Leaf node\n",
      "Node 143 is Leaf node\n",
      "Node 135 is Leaf node\n",
      "Node 52 is Leaf node\n",
      "Node 93 is Leaf node\n",
      "Node 96 is Leaf node\n",
      "Node 35 is Leaf node\n",
      "Node 41 is Leaf node\n",
      "Node 25 is Leaf node\n",
      "Shortest path =  1 13 14 26 27 15 3 4 5 6 18 17 29 30 31 19 20 21 9 10 11 12 24 23 22 34 33 32 44 45 46 47 48 60 59 58 57 56 68 69 70 71 72 84 83 95 94 82 81 80 92 104 103 91 90 78 79 67 55 54 66 65 64 63 75 74 62 50 51 39 38 37 49 61 73 85 97 109 110 122 123 111 112 100 99 87 88 76 77 89 101 102 114 113 125 124 136 137 138 126 127 115 116 117 129 141 142 130 131 132 144\n",
      "Shortest path =  1 13 14 26 27 15 3 4 5 6 18 17 29 30 31 19 20 21 9 10 11 12 24 23 22 34 33 32 44 45 46 47 48 60 59 58 57 56 68 69 70 71 72 84 83 95 94 82 81 80 92 104 103 91 90 78 79 67 55 54 66 65 64 63 75 74 62 50 51 39 38 37 49 61 73 85 97 109 110 122 123 111 112 100 99 87 88 76 77 89 101 102 114 113 125 124 136 137 138 126 127 115 116 117 129 141 142 130 131 132 144\n"
     ]
    },
    {
     "name": "stderr",
     "output_type": "stream",
     "text": [
      "100%|██████████████████████████████████████████████████████████████████████████████████| 66/66 [00:50<00:00,  1.30it/s]\n"
     ]
    },
    {
     "name": "stdout",
     "output_type": "stream",
     "text": [
      "# of place cell using time shift shuffle method: 12.0 / 66\n"
     ]
    },
    {
     "name": "stderr",
     "output_type": "stream",
     "text": [
      "100%|██████████████████████████████████████████████████████████████████████████████████| 66/66 [00:49<00:00,  1.33it/s]\n"
     ]
    },
    {
     "name": "stdout",
     "output_type": "stream",
     "text": [
      "# of run cell using time shift shuffle method: 17.0 / 66\n",
      "M10024maze1Day4\n",
      "45    Z:/miniscope_recording/maze/4_20_2020/10024H20...\n",
      "Name: recording_folder_local, dtype: object\n",
      "The maze is bidirectional, Ye!\n",
      "Node 1 is Decision point\n",
      "Node 2 is Leaf node\n",
      "Node 13 is Decision point\n",
      "Node 6 is Decision point\n",
      "Node 8 is Leaf node\n",
      "Node 17 is Decision point\n",
      "Node 28 is Leaf node\n",
      "Node 30 is Decision point\n",
      "Node 24 is Decision point\n",
      "Node 84 is Decision point\n",
      "Node 94 is Decision point\n",
      "Node 55 is Decision point\n",
      "Node 43 is Leaf node\n",
      "Node 54 is Decision point\n",
      "Node 53 is Leaf node\n",
      "Node 51 is Decision point\n",
      "Node 39 is Decision point\n",
      "Node 40 is Leaf node\n",
      "Node 97 is Decision point\n",
      "Node 86 is Leaf node\n",
      "Node 109 is Decision point\n",
      "Node 129 is Decision point\n",
      "Node 139 is Leaf node\n",
      "Node 142 is Decision point\n",
      "Node 130 is Decision point\n",
      "Node 120 is Leaf node\n",
      "Node 144 is Leaf node\n",
      "Node 143 is Leaf node\n",
      "Node 135 is Leaf node\n",
      "Node 52 is Leaf node\n",
      "Node 93 is Leaf node\n",
      "Node 96 is Leaf node\n",
      "Node 35 is Leaf node\n",
      "Node 41 is Leaf node\n",
      "Node 25 is Leaf node\n",
      "Shortest path =  1 13 14 26 27 15 3 4 5 6 18 17 29 30 31 19 20 21 9 10 11 12 24 23 22 34 33 32 44 45 46 47 48 60 59 58 57 56 68 69 70 71 72 84 83 95 94 82 81 80 92 104 103 91 90 78 79 67 55 54 66 65 64 63 75 74 62 50 51 39 38 37 49 61 73 85 97 109 110 122 123 111 112 100 99 87 88 76 77 89 101 102 114 113 125 124 136 137 138 126 127 115 116 117 129 141 142 130 131 132 144\n",
      "Shortest path =  1 13 14 26 27 15 3 4 5 6 18 17 29 30 31 19 20 21 9 10 11 12 24 23 22 34 33 32 44 45 46 47 48 60 59 58 57 56 68 69 70 71 72 84 83 95 94 82 81 80 92 104 103 91 90 78 79 67 55 54 66 65 64 63 75 74 62 50 51 39 38 37 49 61 73 85 97 109 110 122 123 111 112 100 99 87 88 76 77 89 101 102 114 113 125 124 136 137 138 126 127 115 116 117 129 141 142 130 131 132 144\n"
     ]
    },
    {
     "name": "stderr",
     "output_type": "stream",
     "text": [
      "100%|██████████████████████████████████████████████████████████████████████████████████| 50/50 [00:58<00:00,  1.18s/it]\n"
     ]
    },
    {
     "name": "stdout",
     "output_type": "stream",
     "text": [
      "# of place cell using time shift shuffle method: 26.0 / 50\n"
     ]
    },
    {
     "name": "stderr",
     "output_type": "stream",
     "text": [
      "100%|██████████████████████████████████████████████████████████████████████████████████| 50/50 [00:57<00:00,  1.15s/it]\n"
     ]
    },
    {
     "name": "stdout",
     "output_type": "stream",
     "text": [
      "# of run cell using time shift shuffle method: 11.0 / 50\n",
      "M10024maze1Day5\n",
      "46    Z:/miniscope_recording/maze/4_21_2020/10024H19...\n",
      "Name: recording_folder_local, dtype: object\n",
      "The maze is bidirectional, Ye!\n",
      "Node 1 is Decision point\n",
      "Node 2 is Leaf node\n",
      "Node 13 is Decision point\n",
      "Node 6 is Decision point\n",
      "Node 8 is Leaf node\n",
      "Node 17 is Decision point\n",
      "Node 28 is Leaf node\n",
      "Node 30 is Decision point\n",
      "Node 24 is Decision point\n",
      "Node 84 is Decision point\n",
      "Node 94 is Decision point\n",
      "Node 55 is Decision point\n",
      "Node 43 is Leaf node\n",
      "Node 54 is Decision point\n",
      "Node 53 is Leaf node\n",
      "Node 51 is Decision point\n",
      "Node 39 is Decision point\n",
      "Node 40 is Leaf node\n",
      "Node 97 is Decision point\n",
      "Node 86 is Leaf node\n",
      "Node 109 is Decision point\n",
      "Node 129 is Decision point\n",
      "Node 139 is Leaf node\n",
      "Node 142 is Decision point\n",
      "Node 130 is Decision point\n",
      "Node 120 is Leaf node\n",
      "Node 144 is Leaf node\n",
      "Node 143 is Leaf node\n",
      "Node 135 is Leaf node\n",
      "Node 52 is Leaf node\n",
      "Node 93 is Leaf node\n",
      "Node 96 is Leaf node\n",
      "Node 35 is Leaf node\n",
      "Node 41 is Leaf node\n",
      "Node 25 is Leaf node\n",
      "Shortest path =  1 13 14 26 27 15 3 4 5 6 18 17 29 30 31 19 20 21 9 10 11 12 24 23 22 34 33 32 44 45 46 47 48 60 59 58 57 56 68 69 70 71 72 84 83 95 94 82 81 80 92 104 103 91 90 78 79 67 55 54 66 65 64 63 75 74 62 50 51 39 38 37 49 61 73 85 97 109 110 122 123 111 112 100 99 87 88 76 77 89 101 102 114 113 125 124 136 137 138 126 127 115 116 117 129 141 142 130 131 132 144\n",
      "Shortest path =  1 13 14 26 27 15 3 4 5 6 18 17 29 30 31 19 20 21 9 10 11 12 24 23 22 34 33 32 44 45 46 47 48 60 59 58 57 56 68 69 70 71 72 84 83 95 94 82 81 80 92 104 103 91 90 78 79 67 55 54 66 65 64 63 75 74 62 50 51 39 38 37 49 61 73 85 97 109 110 122 123 111 112 100 99 87 88 76 77 89 101 102 114 113 125 124 136 137 138 126 127 115 116 117 129 141 142 130 131 132 144\n"
     ]
    },
    {
     "name": "stderr",
     "output_type": "stream",
     "text": [
      "100%|██████████████████████████████████████████████████████████████████████████████████| 70/70 [01:23<00:00,  1.19s/it]\n"
     ]
    },
    {
     "name": "stdout",
     "output_type": "stream",
     "text": [
      "# of place cell using time shift shuffle method: 24.0 / 70\n"
     ]
    },
    {
     "name": "stderr",
     "output_type": "stream",
     "text": [
      "100%|██████████████████████████████████████████████████████████████████████████████████| 70/70 [01:20<00:00,  1.16s/it]\n"
     ]
    },
    {
     "name": "stdout",
     "output_type": "stream",
     "text": [
      "# of run cell using time shift shuffle method: 11.0 / 70\n",
      "M10024maze1Day6\n",
      "47    Z:/miniscope_recording/maze/4_22_2020/10024H17...\n",
      "Name: recording_folder_local, dtype: object\n",
      "The maze is bidirectional, Ye!\n",
      "Node 1 is Decision point\n",
      "Node 2 is Leaf node\n",
      "Node 13 is Decision point\n",
      "Node 6 is Decision point\n",
      "Node 8 is Leaf node\n",
      "Node 17 is Decision point\n",
      "Node 28 is Leaf node\n",
      "Node 30 is Decision point\n",
      "Node 24 is Decision point\n",
      "Node 84 is Decision point\n",
      "Node 94 is Decision point\n",
      "Node 55 is Decision point\n",
      "Node 43 is Leaf node\n",
      "Node 54 is Decision point\n",
      "Node 53 is Leaf node\n",
      "Node 51 is Decision point\n",
      "Node 39 is Decision point\n",
      "Node 40 is Leaf node\n",
      "Node 97 is Decision point\n",
      "Node 86 is Leaf node\n",
      "Node 109 is Decision point\n",
      "Node 129 is Decision point\n",
      "Node 139 is Leaf node\n",
      "Node 142 is Decision point\n",
      "Node 130 is Decision point\n",
      "Node 120 is Leaf node\n",
      "Node 144 is Leaf node\n",
      "Node 143 is Leaf node\n",
      "Node 135 is Leaf node\n",
      "Node 52 is Leaf node\n",
      "Node 93 is Leaf node\n",
      "Node 96 is Leaf node\n",
      "Node 35 is Leaf node\n",
      "Node 41 is Leaf node\n",
      "Node 25 is Leaf node\n",
      "Shortest path =  1 13 14 26 27 15 3 4 5 6 18 17 29 30 31 19 20 21 9 10 11 12 24 23 22 34 33 32 44 45 46 47 48 60 59 58 57 56 68 69 70 71 72 84 83 95 94 82 81 80 92 104 103 91 90 78 79 67 55 54 66 65 64 63 75 74 62 50 51 39 38 37 49 61 73 85 97 109 110 122 123 111 112 100 99 87 88 76 77 89 101 102 114 113 125 124 136 137 138 126 127 115 116 117 129 141 142 130 131 132 144\n",
      "Shortest path =  1 13 14 26 27 15 3 4 5 6 18 17 29 30 31 19 20 21 9 10 11 12 24 23 22 34 33 32 44 45 46 47 48 60 59 58 57 56 68 69 70 71 72 84 83 95 94 82 81 80 92 104 103 91 90 78 79 67 55 54 66 65 64 63 75 74 62 50 51 39 38 37 49 61 73 85 97 109 110 122 123 111 112 100 99 87 88 76 77 89 101 102 114 113 125 124 136 137 138 126 127 115 116 117 129 141 142 130 131 132 144\n"
     ]
    },
    {
     "name": "stderr",
     "output_type": "stream",
     "text": [
      "100%|██████████████████████████████████████████████████████████████████████████████████| 66/66 [01:03<00:00,  1.03it/s]\n"
     ]
    },
    {
     "name": "stdout",
     "output_type": "stream",
     "text": [
      "# of place cell using time shift shuffle method: 36.0 / 66\n"
     ]
    },
    {
     "name": "stderr",
     "output_type": "stream",
     "text": [
      "100%|██████████████████████████████████████████████████████████████████████████████████| 66/66 [01:01<00:00,  1.07it/s]\n"
     ]
    },
    {
     "name": "stdout",
     "output_type": "stream",
     "text": [
      "# of run cell using time shift shuffle method: 22.0 / 66\n",
      "M10024maze1Day7\n",
      "48    Z:/miniscope_recording/maze/4_23_2020/10024H16...\n",
      "Name: recording_folder_local, dtype: object\n",
      "The maze is bidirectional, Ye!\n",
      "Node 1 is Decision point\n",
      "Node 2 is Leaf node\n",
      "Node 13 is Decision point\n",
      "Node 6 is Decision point\n",
      "Node 8 is Leaf node\n",
      "Node 17 is Decision point\n",
      "Node 28 is Leaf node\n",
      "Node 30 is Decision point\n",
      "Node 24 is Decision point\n",
      "Node 84 is Decision point\n",
      "Node 94 is Decision point\n",
      "Node 55 is Decision point\n",
      "Node 43 is Leaf node\n",
      "Node 54 is Decision point\n",
      "Node 53 is Leaf node\n",
      "Node 51 is Decision point\n",
      "Node 39 is Decision point\n",
      "Node 40 is Leaf node\n",
      "Node 97 is Decision point\n",
      "Node 86 is Leaf node\n",
      "Node 109 is Decision point\n",
      "Node 129 is Decision point\n",
      "Node 139 is Leaf node\n",
      "Node 142 is Decision point\n",
      "Node 130 is Decision point\n",
      "Node 120 is Leaf node\n",
      "Node 144 is Leaf node\n",
      "Node 143 is Leaf node\n",
      "Node 135 is Leaf node\n",
      "Node 52 is Leaf node\n",
      "Node 93 is Leaf node\n",
      "Node 96 is Leaf node\n",
      "Node 35 is Leaf node\n",
      "Node 41 is Leaf node\n",
      "Node 25 is Leaf node\n",
      "Shortest path =  1 13 14 26 27 15 3 4 5 6 18 17 29 30 31 19 20 21 9 10 11 12 24 23 22 34 33 32 44 45 46 47 48 60 59 58 57 56 68 69 70 71 72 84 83 95 94 82 81 80 92 104 103 91 90 78 79 67 55 54 66 65 64 63 75 74 62 50 51 39 38 37 49 61 73 85 97 109 110 122 123 111 112 100 99 87 88 76 77 89 101 102 114 113 125 124 136 137 138 126 127 115 116 117 129 141 142 130 131 132 144\n",
      "Shortest path =  1 13 14 26 27 15 3 4 5 6 18 17 29 30 31 19 20 21 9 10 11 12 24 23 22 34 33 32 44 45 46 47 48 60 59 58 57 56 68 69 70 71 72 84 83 95 94 82 81 80 92 104 103 91 90 78 79 67 55 54 66 65 64 63 75 74 62 50 51 39 38 37 49 61 73 85 97 109 110 122 123 111 112 100 99 87 88 76 77 89 101 102 114 113 125 124 136 137 138 126 127 115 116 117 129 141 142 130 131 132 144\n"
     ]
    },
    {
     "name": "stderr",
     "output_type": "stream",
     "text": [
      "100%|██████████████████████████████████████████████████████████████████████████████████| 61/61 [01:02<00:00,  1.02s/it]\n"
     ]
    },
    {
     "name": "stdout",
     "output_type": "stream",
     "text": [
      "# of place cell using time shift shuffle method: 27.0 / 61\n"
     ]
    },
    {
     "name": "stderr",
     "output_type": "stream",
     "text": [
      "100%|██████████████████████████████████████████████████████████████████████████████████| 61/61 [00:59<00:00,  1.02it/s]\n"
     ]
    },
    {
     "name": "stdout",
     "output_type": "stream",
     "text": [
      "# of run cell using time shift shuffle method: 17.0 / 61\n",
      "M10024maze1Day8\n",
      "49    Z:/miniscope_recording/maze/4_24_2020/10024H17...\n",
      "Name: recording_folder_local, dtype: object\n",
      "The maze is bidirectional, Ye!\n",
      "Node 1 is Decision point\n",
      "Node 2 is Leaf node\n",
      "Node 13 is Decision point\n",
      "Node 6 is Decision point\n",
      "Node 8 is Leaf node\n",
      "Node 17 is Decision point\n",
      "Node 28 is Leaf node\n",
      "Node 30 is Decision point\n",
      "Node 24 is Decision point\n",
      "Node 84 is Decision point\n",
      "Node 94 is Decision point\n",
      "Node 55 is Decision point\n",
      "Node 43 is Leaf node\n",
      "Node 54 is Decision point\n",
      "Node 53 is Leaf node\n",
      "Node 51 is Decision point\n",
      "Node 39 is Decision point\n",
      "Node 40 is Leaf node\n",
      "Node 97 is Decision point\n",
      "Node 86 is Leaf node\n",
      "Node 109 is Decision point\n",
      "Node 129 is Decision point\n",
      "Node 139 is Leaf node\n",
      "Node 142 is Decision point\n",
      "Node 130 is Decision point\n",
      "Node 120 is Leaf node\n",
      "Node 144 is Leaf node\n",
      "Node 143 is Leaf node\n",
      "Node 135 is Leaf node\n",
      "Node 52 is Leaf node\n",
      "Node 93 is Leaf node\n",
      "Node 96 is Leaf node\n",
      "Node 35 is Leaf node\n",
      "Node 41 is Leaf node\n",
      "Node 25 is Leaf node\n",
      "Shortest path =  1 13 14 26 27 15 3 4 5 6 18 17 29 30 31 19 20 21 9 10 11 12 24 23 22 34 33 32 44 45 46 47 48 60 59 58 57 56 68 69 70 71 72 84 83 95 94 82 81 80 92 104 103 91 90 78 79 67 55 54 66 65 64 63 75 74 62 50 51 39 38 37 49 61 73 85 97 109 110 122 123 111 112 100 99 87 88 76 77 89 101 102 114 113 125 124 136 137 138 126 127 115 116 117 129 141 142 130 131 132 144\n",
      "Shortest path =  1 13 14 26 27 15 3 4 5 6 18 17 29 30 31 19 20 21 9 10 11 12 24 23 22 34 33 32 44 45 46 47 48 60 59 58 57 56 68 69 70 71 72 84 83 95 94 82 81 80 92 104 103 91 90 78 79 67 55 54 66 65 64 63 75 74 62 50 51 39 38 37 49 61 73 85 97 109 110 122 123 111 112 100 99 87 88 76 77 89 101 102 114 113 125 124 136 137 138 126 127 115 116 117 129 141 142 130 131 132 144\n"
     ]
    },
    {
     "name": "stderr",
     "output_type": "stream",
     "text": [
      "100%|██████████████████████████████████████████████████████████████████████████████████| 41/41 [00:25<00:00,  1.62it/s]\n"
     ]
    },
    {
     "name": "stdout",
     "output_type": "stream",
     "text": [
      "# of place cell using time shift shuffle method: 13.0 / 41\n"
     ]
    },
    {
     "name": "stderr",
     "output_type": "stream",
     "text": [
      "100%|██████████████████████████████████████████████████████████████████████████████████| 41/41 [00:24<00:00,  1.65it/s]\n"
     ]
    },
    {
     "name": "stdout",
     "output_type": "stream",
     "text": [
      "# of run cell using time shift shuffle method: 9.0 / 41\n",
      "M10024maze1Day9\n",
      "50    Z:/miniscope_recording/maze/4_25_2020/10024H17...\n",
      "Name: recording_folder_local, dtype: object\n",
      "The maze is bidirectional, Ye!\n",
      "Node 1 is Decision point\n",
      "Node 2 is Leaf node\n",
      "Node 13 is Decision point\n",
      "Node 6 is Decision point\n",
      "Node 8 is Leaf node\n",
      "Node 17 is Decision point\n",
      "Node 28 is Leaf node\n",
      "Node 30 is Decision point\n",
      "Node 24 is Decision point\n",
      "Node 84 is Decision point\n",
      "Node 94 is Decision point\n",
      "Node 55 is Decision point\n",
      "Node 43 is Leaf node\n",
      "Node 54 is Decision point\n",
      "Node 53 is Leaf node\n",
      "Node 51 is Decision point\n",
      "Node 39 is Decision point\n",
      "Node 40 is Leaf node\n",
      "Node 97 is Decision point\n",
      "Node 86 is Leaf node\n",
      "Node 109 is Decision point\n",
      "Node 129 is Decision point\n",
      "Node 139 is Leaf node\n",
      "Node 142 is Decision point\n",
      "Node 130 is Decision point\n",
      "Node 120 is Leaf node\n",
      "Node 144 is Leaf node\n",
      "Node 143 is Leaf node\n",
      "Node 135 is Leaf node\n",
      "Node 52 is Leaf node\n",
      "Node 93 is Leaf node\n",
      "Node 96 is Leaf node\n",
      "Node 35 is Leaf node\n",
      "Node 41 is Leaf node\n",
      "Node 25 is Leaf node\n",
      "Shortest path =  1 13 14 26 27 15 3 4 5 6 18 17 29 30 31 19 20 21 9 10 11 12 24 23 22 34 33 32 44 45 46 47 48 60 59 58 57 56 68 69 70 71 72 84 83 95 94 82 81 80 92 104 103 91 90 78 79 67 55 54 66 65 64 63 75 74 62 50 51 39 38 37 49 61 73 85 97 109 110 122 123 111 112 100 99 87 88 76 77 89 101 102 114 113 125 124 136 137 138 126 127 115 116 117 129 141 142 130 131 132 144\n",
      "Shortest path =  1 13 14 26 27 15 3 4 5 6 18 17 29 30 31 19 20 21 9 10 11 12 24 23 22 34 33 32 44 45 46 47 48 60 59 58 57 56 68 69 70 71 72 84 83 95 94 82 81 80 92 104 103 91 90 78 79 67 55 54 66 65 64 63 75 74 62 50 51 39 38 37 49 61 73 85 97 109 110 122 123 111 112 100 99 87 88 76 77 89 101 102 114 113 125 124 136 137 138 126 127 115 116 117 129 141 142 130 131 132 144\n"
     ]
    },
    {
     "name": "stderr",
     "output_type": "stream",
     "text": [
      "100%|██████████████████████████████████████████████████████████████████████████████████| 38/38 [00:12<00:00,  3.10it/s]\n"
     ]
    },
    {
     "name": "stdout",
     "output_type": "stream",
     "text": [
      "# of place cell using time shift shuffle method: 4.0 / 38\n"
     ]
    },
    {
     "name": "stderr",
     "output_type": "stream",
     "text": [
      "100%|██████████████████████████████████████████████████████████████████████████████████| 38/38 [00:12<00:00,  3.10it/s]\n"
     ]
    },
    {
     "name": "stdout",
     "output_type": "stream",
     "text": [
      "# of run cell using time shift shuffle method: 2.0 / 38\n",
      "M10026maze1Day1\n",
      "59    Z:/miniscope_recording/maze/4_17_2020/10026H14...\n",
      "Name: recording_folder_local, dtype: object\n",
      "The maze is bidirectional, Ye!\n",
      "Node 1 is Decision point\n",
      "Node 2 is Leaf node\n",
      "Node 13 is Decision point\n",
      "Node 6 is Decision point\n",
      "Node 8 is Leaf node\n",
      "Node 17 is Decision point\n",
      "Node 28 is Leaf node\n",
      "Node 30 is Decision point\n",
      "Node 24 is Decision point\n",
      "Node 84 is Decision point\n",
      "Node 94 is Decision point\n",
      "Node 55 is Decision point\n",
      "Node 43 is Leaf node\n",
      "Node 54 is Decision point\n",
      "Node 53 is Leaf node\n",
      "Node 51 is Decision point\n",
      "Node 39 is Decision point\n",
      "Node 40 is Leaf node\n",
      "Node 97 is Decision point\n",
      "Node 86 is Leaf node\n",
      "Node 109 is Decision point\n",
      "Node 129 is Decision point\n",
      "Node 139 is Leaf node\n",
      "Node 142 is Decision point\n",
      "Node 130 is Decision point\n",
      "Node 120 is Leaf node\n",
      "Node 144 is Leaf node\n",
      "Node 143 is Leaf node\n",
      "Node 135 is Leaf node\n",
      "Node 52 is Leaf node\n",
      "Node 93 is Leaf node\n",
      "Node 96 is Leaf node\n",
      "Node 35 is Leaf node\n",
      "Node 41 is Leaf node\n",
      "Node 25 is Leaf node\n",
      "Shortest path =  1 13 14 26 27 15 3 4 5 6 18 17 29 30 31 19 20 21 9 10 11 12 24 23 22 34 33 32 44 45 46 47 48 60 59 58 57 56 68 69 70 71 72 84 83 95 94 82 81 80 92 104 103 91 90 78 79 67 55 54 66 65 64 63 75 74 62 50 51 39 38 37 49 61 73 85 97 109 110 122 123 111 112 100 99 87 88 76 77 89 101 102 114 113 125 124 136 137 138 126 127 115 116 117 129 141 142 130 131 132 144\n",
      "Shortest path =  1 13 14 26 27 15 3 4 5 6 18 17 29 30 31 19 20 21 9 10 11 12 24 23 22 34 33 32 44 45 46 47 48 60 59 58 57 56 68 69 70 71 72 84 83 95 94 82 81 80 92 104 103 91 90 78 79 67 55 54 66 65 64 63 75 74 62 50 51 39 38 37 49 61 73 85 97 109 110 122 123 111 112 100 99 87 88 76 77 89 101 102 114 113 125 124 136 137 138 126 127 115 116 117 129 141 142 130 131 132 144\n"
     ]
    },
    {
     "name": "stderr",
     "output_type": "stream",
     "text": [
      "100%|██████████████████████████████████████████████████████████████████████████████████| 47/47 [03:53<00:00,  4.96s/it]\n"
     ]
    },
    {
     "name": "stdout",
     "output_type": "stream",
     "text": [
      "# of place cell using time shift shuffle method: 36.0 / 47\n"
     ]
    },
    {
     "name": "stderr",
     "output_type": "stream",
     "text": [
      "100%|██████████████████████████████████████████████████████████████████████████████████| 47/47 [03:43<00:00,  4.76s/it]\n"
     ]
    },
    {
     "name": "stdout",
     "output_type": "stream",
     "text": [
      "# of run cell using time shift shuffle method: 25.0 / 47\n",
      "M10026maze1Day2\n",
      "60    Z:/miniscope_recording/maze/4_18_2020/10026H14...\n",
      "Name: recording_folder_local, dtype: object\n",
      "The maze is bidirectional, Ye!\n",
      "Node 1 is Decision point\n",
      "Node 2 is Leaf node\n",
      "Node 13 is Decision point\n",
      "Node 6 is Decision point\n",
      "Node 8 is Leaf node\n",
      "Node 17 is Decision point\n",
      "Node 28 is Leaf node\n",
      "Node 30 is Decision point\n",
      "Node 24 is Decision point\n",
      "Node 84 is Decision point\n",
      "Node 94 is Decision point\n",
      "Node 55 is Decision point\n",
      "Node 43 is Leaf node\n",
      "Node 54 is Decision point\n",
      "Node 53 is Leaf node\n",
      "Node 51 is Decision point\n",
      "Node 39 is Decision point\n",
      "Node 40 is Leaf node\n",
      "Node 97 is Decision point\n",
      "Node 86 is Leaf node\n",
      "Node 109 is Decision point\n",
      "Node 129 is Decision point\n",
      "Node 139 is Leaf node\n",
      "Node 142 is Decision point\n",
      "Node 130 is Decision point\n",
      "Node 120 is Leaf node\n",
      "Node 144 is Leaf node\n",
      "Node 143 is Leaf node\n",
      "Node 135 is Leaf node\n",
      "Node 52 is Leaf node\n",
      "Node 93 is Leaf node\n",
      "Node 96 is Leaf node\n",
      "Node 35 is Leaf node\n",
      "Node 41 is Leaf node\n",
      "Node 25 is Leaf node\n",
      "Shortest path =  1 13 14 26 27 15 3 4 5 6 18 17 29 30 31 19 20 21 9 10 11 12 24 23 22 34 33 32 44 45 46 47 48 60 59 58 57 56 68 69 70 71 72 84 83 95 94 82 81 80 92 104 103 91 90 78 79 67 55 54 66 65 64 63 75 74 62 50 51 39 38 37 49 61 73 85 97 109 110 122 123 111 112 100 99 87 88 76 77 89 101 102 114 113 125 124 136 137 138 126 127 115 116 117 129 141 142 130 131 132 144\n",
      "Shortest path =  1 13 14 26 27 15 3 4 5 6 18 17 29 30 31 19 20 21 9 10 11 12 24 23 22 34 33 32 44 45 46 47 48 60 59 58 57 56 68 69 70 71 72 84 83 95 94 82 81 80 92 104 103 91 90 78 79 67 55 54 66 65 64 63 75 74 62 50 51 39 38 37 49 61 73 85 97 109 110 122 123 111 112 100 99 87 88 76 77 89 101 102 114 113 125 124 136 137 138 126 127 115 116 117 129 141 142 130 131 132 144\n"
     ]
    },
    {
     "name": "stderr",
     "output_type": "stream",
     "text": [
      "100%|██████████████████████████████████████████████████████████████████████████████████| 56/56 [00:42<00:00,  1.30it/s]\n"
     ]
    },
    {
     "name": "stdout",
     "output_type": "stream",
     "text": [
      "# of place cell using time shift shuffle method: 21.0 / 56\n"
     ]
    },
    {
     "name": "stderr",
     "output_type": "stream",
     "text": [
      "100%|██████████████████████████████████████████████████████████████████████████████████| 56/56 [00:42<00:00,  1.33it/s]\n"
     ]
    },
    {
     "name": "stdout",
     "output_type": "stream",
     "text": [
      "# of run cell using time shift shuffle method: 25.0 / 56\n",
      "M10026maze1Day3\n",
      "61    Z:/miniscope_recording/maze/4_19_2020/10026H14...\n",
      "Name: recording_folder_local, dtype: object\n",
      "The maze is bidirectional, Ye!\n",
      "Node 1 is Decision point\n",
      "Node 2 is Leaf node\n",
      "Node 13 is Decision point\n",
      "Node 6 is Decision point\n",
      "Node 8 is Leaf node\n",
      "Node 17 is Decision point\n",
      "Node 28 is Leaf node\n",
      "Node 30 is Decision point\n",
      "Node 24 is Decision point\n",
      "Node 84 is Decision point\n",
      "Node 94 is Decision point\n",
      "Node 55 is Decision point\n",
      "Node 43 is Leaf node\n",
      "Node 54 is Decision point\n",
      "Node 53 is Leaf node\n",
      "Node 51 is Decision point\n",
      "Node 39 is Decision point\n",
      "Node 40 is Leaf node\n",
      "Node 97 is Decision point\n",
      "Node 86 is Leaf node\n",
      "Node 109 is Decision point\n",
      "Node 129 is Decision point\n",
      "Node 139 is Leaf node\n",
      "Node 142 is Decision point\n",
      "Node 130 is Decision point\n",
      "Node 120 is Leaf node\n",
      "Node 144 is Leaf node\n",
      "Node 143 is Leaf node\n",
      "Node 135 is Leaf node\n",
      "Node 52 is Leaf node\n",
      "Node 93 is Leaf node\n",
      "Node 96 is Leaf node\n",
      "Node 35 is Leaf node\n",
      "Node 41 is Leaf node\n",
      "Node 25 is Leaf node\n",
      "Shortest path =  1 13 14 26 27 15 3 4 5 6 18 17 29 30 31 19 20 21 9 10 11 12 24 23 22 34 33 32 44 45 46 47 48 60 59 58 57 56 68 69 70 71 72 84 83 95 94 82 81 80 92 104 103 91 90 78 79 67 55 54 66 65 64 63 75 74 62 50 51 39 38 37 49 61 73 85 97 109 110 122 123 111 112 100 99 87 88 76 77 89 101 102 114 113 125 124 136 137 138 126 127 115 116 117 129 141 142 130 131 132 144\n",
      "Shortest path =  1 13 14 26 27 15 3 4 5 6 18 17 29 30 31 19 20 21 9 10 11 12 24 23 22 34 33 32 44 45 46 47 48 60 59 58 57 56 68 69 70 71 72 84 83 95 94 82 81 80 92 104 103 91 90 78 79 67 55 54 66 65 64 63 75 74 62 50 51 39 38 37 49 61 73 85 97 109 110 122 123 111 112 100 99 87 88 76 77 89 101 102 114 113 125 124 136 137 138 126 127 115 116 117 129 141 142 130 131 132 144\n"
     ]
    },
    {
     "name": "stderr",
     "output_type": "stream",
     "text": [
      "100%|██████████████████████████████████████████████████████████████████████████████████| 39/39 [00:21<00:00,  1.82it/s]\n"
     ]
    },
    {
     "name": "stdout",
     "output_type": "stream",
     "text": [
      "# of place cell using time shift shuffle method: 9.0 / 39\n"
     ]
    },
    {
     "name": "stderr",
     "output_type": "stream",
     "text": [
      "100%|██████████████████████████████████████████████████████████████████████████████████| 39/39 [00:21<00:00,  1.83it/s]\n"
     ]
    },
    {
     "name": "stdout",
     "output_type": "stream",
     "text": [
      "# of run cell using time shift shuffle method: 8.0 / 39\n",
      "M10026maze1Day4\n",
      "62    Z:/miniscope_recording/maze/4_20_2020/10026H19...\n",
      "Name: recording_folder_local, dtype: object\n",
      "The maze is bidirectional, Ye!\n",
      "Node 1 is Decision point\n",
      "Node 2 is Leaf node\n",
      "Node 13 is Decision point\n",
      "Node 6 is Decision point\n",
      "Node 8 is Leaf node\n",
      "Node 17 is Decision point\n",
      "Node 28 is Leaf node\n",
      "Node 30 is Decision point\n",
      "Node 24 is Decision point\n",
      "Node 84 is Decision point\n",
      "Node 94 is Decision point\n",
      "Node 55 is Decision point\n",
      "Node 43 is Leaf node\n",
      "Node 54 is Decision point\n",
      "Node 53 is Leaf node\n",
      "Node 51 is Decision point\n",
      "Node 39 is Decision point\n",
      "Node 40 is Leaf node\n",
      "Node 97 is Decision point\n",
      "Node 86 is Leaf node\n",
      "Node 109 is Decision point\n",
      "Node 129 is Decision point\n",
      "Node 139 is Leaf node\n",
      "Node 142 is Decision point\n",
      "Node 130 is Decision point\n",
      "Node 120 is Leaf node\n",
      "Node 144 is Leaf node\n",
      "Node 143 is Leaf node\n",
      "Node 135 is Leaf node\n",
      "Node 52 is Leaf node\n",
      "Node 93 is Leaf node\n",
      "Node 96 is Leaf node\n",
      "Node 35 is Leaf node\n",
      "Node 41 is Leaf node\n",
      "Node 25 is Leaf node\n",
      "Shortest path =  1 13 14 26 27 15 3 4 5 6 18 17 29 30 31 19 20 21 9 10 11 12 24 23 22 34 33 32 44 45 46 47 48 60 59 58 57 56 68 69 70 71 72 84 83 95 94 82 81 80 92 104 103 91 90 78 79 67 55 54 66 65 64 63 75 74 62 50 51 39 38 37 49 61 73 85 97 109 110 122 123 111 112 100 99 87 88 76 77 89 101 102 114 113 125 124 136 137 138 126 127 115 116 117 129 141 142 130 131 132 144\n",
      "Shortest path =  1 13 14 26 27 15 3 4 5 6 18 17 29 30 31 19 20 21 9 10 11 12 24 23 22 34 33 32 44 45 46 47 48 60 59 58 57 56 68 69 70 71 72 84 83 95 94 82 81 80 92 104 103 91 90 78 79 67 55 54 66 65 64 63 75 74 62 50 51 39 38 37 49 61 73 85 97 109 110 122 123 111 112 100 99 87 88 76 77 89 101 102 114 113 125 124 136 137 138 126 127 115 116 117 129 141 142 130 131 132 144\n"
     ]
    },
    {
     "name": "stderr",
     "output_type": "stream",
     "text": [
      "100%|██████████████████████████████████████████████████████████████████████████████████| 29/29 [00:15<00:00,  1.83it/s]\n"
     ]
    },
    {
     "name": "stdout",
     "output_type": "stream",
     "text": [
      "# of place cell using time shift shuffle method: 7.0 / 29\n"
     ]
    },
    {
     "name": "stderr",
     "output_type": "stream",
     "text": [
      "100%|██████████████████████████████████████████████████████████████████████████████████| 29/29 [00:15<00:00,  1.84it/s]\n"
     ]
    },
    {
     "name": "stdout",
     "output_type": "stream",
     "text": [
      "# of run cell using time shift shuffle method: 6.0 / 29\n",
      "M10026maze1Day5\n",
      "63    Z:/miniscope_recording/maze/4_21_2020/10026H18...\n",
      "Name: recording_folder_local, dtype: object\n",
      "The maze is bidirectional, Ye!\n",
      "Node 1 is Decision point\n",
      "Node 2 is Leaf node\n",
      "Node 13 is Decision point\n",
      "Node 6 is Decision point\n",
      "Node 8 is Leaf node\n",
      "Node 17 is Decision point\n",
      "Node 28 is Leaf node\n",
      "Node 30 is Decision point\n",
      "Node 24 is Decision point\n",
      "Node 84 is Decision point\n",
      "Node 94 is Decision point\n",
      "Node 55 is Decision point\n",
      "Node 43 is Leaf node\n",
      "Node 54 is Decision point\n",
      "Node 53 is Leaf node\n",
      "Node 51 is Decision point\n",
      "Node 39 is Decision point\n",
      "Node 40 is Leaf node\n",
      "Node 97 is Decision point\n",
      "Node 86 is Leaf node\n",
      "Node 109 is Decision point\n",
      "Node 129 is Decision point\n",
      "Node 139 is Leaf node\n",
      "Node 142 is Decision point\n",
      "Node 130 is Decision point\n",
      "Node 120 is Leaf node\n",
      "Node 144 is Leaf node\n",
      "Node 143 is Leaf node\n",
      "Node 135 is Leaf node\n",
      "Node 52 is Leaf node\n",
      "Node 93 is Leaf node\n",
      "Node 96 is Leaf node\n",
      "Node 35 is Leaf node\n",
      "Node 41 is Leaf node\n",
      "Node 25 is Leaf node\n",
      "Shortest path =  1 13 14 26 27 15 3 4 5 6 18 17 29 30 31 19 20 21 9 10 11 12 24 23 22 34 33 32 44 45 46 47 48 60 59 58 57 56 68 69 70 71 72 84 83 95 94 82 81 80 92 104 103 91 90 78 79 67 55 54 66 65 64 63 75 74 62 50 51 39 38 37 49 61 73 85 97 109 110 122 123 111 112 100 99 87 88 76 77 89 101 102 114 113 125 124 136 137 138 126 127 115 116 117 129 141 142 130 131 132 144\n",
      "Shortest path =  1 13 14 26 27 15 3 4 5 6 18 17 29 30 31 19 20 21 9 10 11 12 24 23 22 34 33 32 44 45 46 47 48 60 59 58 57 56 68 69 70 71 72 84 83 95 94 82 81 80 92 104 103 91 90 78 79 67 55 54 66 65 64 63 75 74 62 50 51 39 38 37 49 61 73 85 97 109 110 122 123 111 112 100 99 87 88 76 77 89 101 102 114 113 125 124 136 137 138 126 127 115 116 117 129 141 142 130 131 132 144\n"
     ]
    },
    {
     "name": "stderr",
     "output_type": "stream",
     "text": [
      "100%|██████████████████████████████████████████████████████████████████████████████████| 15/15 [00:04<00:00,  3.08it/s]\n"
     ]
    },
    {
     "name": "stdout",
     "output_type": "stream",
     "text": [
      "# of place cell using time shift shuffle method: 1.0 / 15\n"
     ]
    },
    {
     "name": "stderr",
     "output_type": "stream",
     "text": [
      "100%|██████████████████████████████████████████████████████████████████████████████████| 15/15 [00:04<00:00,  3.06it/s]\n"
     ]
    },
    {
     "name": "stdout",
     "output_type": "stream",
     "text": [
      "# of run cell using time shift shuffle method: 2.0 / 15\n",
      "M10026maze1Day6\n",
      "64    Z:/miniscope_recording/maze/4_22_2020/10026H16...\n",
      "Name: recording_folder_local, dtype: object\n",
      "The maze is bidirectional, Ye!\n",
      "Node 1 is Decision point\n",
      "Node 2 is Leaf node\n",
      "Node 13 is Decision point\n",
      "Node 6 is Decision point\n",
      "Node 8 is Leaf node\n",
      "Node 17 is Decision point\n",
      "Node 28 is Leaf node\n",
      "Node 30 is Decision point\n",
      "Node 24 is Decision point\n",
      "Node 84 is Decision point\n",
      "Node 94 is Decision point\n",
      "Node 55 is Decision point\n",
      "Node 43 is Leaf node\n",
      "Node 54 is Decision point\n",
      "Node 53 is Leaf node\n",
      "Node 51 is Decision point\n",
      "Node 39 is Decision point\n",
      "Node 40 is Leaf node\n",
      "Node 97 is Decision point\n",
      "Node 86 is Leaf node\n",
      "Node 109 is Decision point\n",
      "Node 129 is Decision point\n",
      "Node 139 is Leaf node\n",
      "Node 142 is Decision point\n",
      "Node 130 is Decision point\n",
      "Node 120 is Leaf node\n",
      "Node 144 is Leaf node\n",
      "Node 143 is Leaf node\n",
      "Node 135 is Leaf node\n",
      "Node 52 is Leaf node\n",
      "Node 93 is Leaf node\n",
      "Node 96 is Leaf node\n",
      "Node 35 is Leaf node\n",
      "Node 41 is Leaf node\n",
      "Node 25 is Leaf node\n",
      "Shortest path =  1 13 14 26 27 15 3 4 5 6 18 17 29 30 31 19 20 21 9 10 11 12 24 23 22 34 33 32 44 45 46 47 48 60 59 58 57 56 68 69 70 71 72 84 83 95 94 82 81 80 92 104 103 91 90 78 79 67 55 54 66 65 64 63 75 74 62 50 51 39 38 37 49 61 73 85 97 109 110 122 123 111 112 100 99 87 88 76 77 89 101 102 114 113 125 124 136 137 138 126 127 115 116 117 129 141 142 130 131 132 144\n",
      "Shortest path =  1 13 14 26 27 15 3 4 5 6 18 17 29 30 31 19 20 21 9 10 11 12 24 23 22 34 33 32 44 45 46 47 48 60 59 58 57 56 68 69 70 71 72 84 83 95 94 82 81 80 92 104 103 91 90 78 79 67 55 54 66 65 64 63 75 74 62 50 51 39 38 37 49 61 73 85 97 109 110 122 123 111 112 100 99 87 88 76 77 89 101 102 114 113 125 124 136 137 138 126 127 115 116 117 129 141 142 130 131 132 144\n"
     ]
    },
    {
     "name": "stderr",
     "output_type": "stream",
     "text": [
      "100%|██████████████████████████████████████████████████████████████████████████████████| 34/34 [00:27<00:00,  1.24it/s]\n"
     ]
    },
    {
     "name": "stdout",
     "output_type": "stream",
     "text": [
      "# of place cell using time shift shuffle method: 22.0 / 34\n"
     ]
    },
    {
     "name": "stderr",
     "output_type": "stream",
     "text": [
      "100%|██████████████████████████████████████████████████████████████████████████████████| 34/34 [00:26<00:00,  1.28it/s]\n"
     ]
    },
    {
     "name": "stdout",
     "output_type": "stream",
     "text": [
      "# of run cell using time shift shuffle method: 14.0 / 34\n",
      "M10026maze1Day7\n",
      "65    Z:/miniscope_recording/maze/4_23_2020/10026H16...\n",
      "Name: recording_folder_local, dtype: object\n",
      "The maze is bidirectional, Ye!\n",
      "Node 1 is Decision point\n",
      "Node 2 is Leaf node\n",
      "Node 13 is Decision point\n",
      "Node 6 is Decision point\n",
      "Node 8 is Leaf node\n",
      "Node 17 is Decision point\n",
      "Node 28 is Leaf node\n",
      "Node 30 is Decision point\n",
      "Node 24 is Decision point\n",
      "Node 84 is Decision point\n",
      "Node 94 is Decision point\n",
      "Node 55 is Decision point\n",
      "Node 43 is Leaf node\n",
      "Node 54 is Decision point\n",
      "Node 53 is Leaf node\n",
      "Node 51 is Decision point\n",
      "Node 39 is Decision point\n",
      "Node 40 is Leaf node\n",
      "Node 97 is Decision point\n",
      "Node 86 is Leaf node\n",
      "Node 109 is Decision point\n",
      "Node 129 is Decision point\n",
      "Node 139 is Leaf node\n",
      "Node 142 is Decision point\n",
      "Node 130 is Decision point\n",
      "Node 120 is Leaf node\n",
      "Node 144 is Leaf node\n",
      "Node 143 is Leaf node\n",
      "Node 135 is Leaf node\n",
      "Node 52 is Leaf node\n",
      "Node 93 is Leaf node\n",
      "Node 96 is Leaf node\n",
      "Node 35 is Leaf node\n",
      "Node 41 is Leaf node\n",
      "Node 25 is Leaf node\n",
      "Shortest path =  1 13 14 26 27 15 3 4 5 6 18 17 29 30 31 19 20 21 9 10 11 12 24 23 22 34 33 32 44 45 46 47 48 60 59 58 57 56 68 69 70 71 72 84 83 95 94 82 81 80 92 104 103 91 90 78 79 67 55 54 66 65 64 63 75 74 62 50 51 39 38 37 49 61 73 85 97 109 110 122 123 111 112 100 99 87 88 76 77 89 101 102 114 113 125 124 136 137 138 126 127 115 116 117 129 141 142 130 131 132 144\n",
      "Shortest path =  1 13 14 26 27 15 3 4 5 6 18 17 29 30 31 19 20 21 9 10 11 12 24 23 22 34 33 32 44 45 46 47 48 60 59 58 57 56 68 69 70 71 72 84 83 95 94 82 81 80 92 104 103 91 90 78 79 67 55 54 66 65 64 63 75 74 62 50 51 39 38 37 49 61 73 85 97 109 110 122 123 111 112 100 99 87 88 76 77 89 101 102 114 113 125 124 136 137 138 126 127 115 116 117 129 141 142 130 131 132 144\n"
     ]
    },
    {
     "name": "stderr",
     "output_type": "stream",
     "text": [
      "100%|██████████████████████████████████████████████████████████████████████████████████| 36/36 [00:15<00:00,  2.40it/s]\n"
     ]
    },
    {
     "name": "stdout",
     "output_type": "stream",
     "text": [
      "# of place cell using time shift shuffle method: 7.0 / 36\n"
     ]
    },
    {
     "name": "stderr",
     "output_type": "stream",
     "text": [
      "100%|██████████████████████████████████████████████████████████████████████████████████| 36/36 [00:14<00:00,  2.41it/s]\n"
     ]
    },
    {
     "name": "stdout",
     "output_type": "stream",
     "text": [
      "# of run cell using time shift shuffle method: 5.0 / 36\n",
      "M10026maze1Day8\n",
      "66    Z:/miniscope_recording/maze/4_24_2020/10026H16...\n",
      "Name: recording_folder_local, dtype: object\n",
      "The maze is bidirectional, Ye!\n",
      "Node 1 is Decision point\n",
      "Node 2 is Leaf node\n",
      "Node 13 is Decision point\n",
      "Node 6 is Decision point\n",
      "Node 8 is Leaf node\n",
      "Node 17 is Decision point\n",
      "Node 28 is Leaf node\n",
      "Node 30 is Decision point\n",
      "Node 24 is Decision point\n",
      "Node 84 is Decision point\n",
      "Node 94 is Decision point\n",
      "Node 55 is Decision point\n",
      "Node 43 is Leaf node\n",
      "Node 54 is Decision point\n",
      "Node 53 is Leaf node\n",
      "Node 51 is Decision point\n",
      "Node 39 is Decision point\n",
      "Node 40 is Leaf node\n",
      "Node 97 is Decision point\n",
      "Node 86 is Leaf node\n",
      "Node 109 is Decision point\n",
      "Node 129 is Decision point\n",
      "Node 139 is Leaf node\n",
      "Node 142 is Decision point\n",
      "Node 130 is Decision point\n",
      "Node 120 is Leaf node\n",
      "Node 144 is Leaf node\n",
      "Node 143 is Leaf node\n",
      "Node 135 is Leaf node\n",
      "Node 52 is Leaf node\n",
      "Node 93 is Leaf node\n",
      "Node 96 is Leaf node\n",
      "Node 35 is Leaf node\n",
      "Node 41 is Leaf node\n",
      "Node 25 is Leaf node\n",
      "Shortest path =  1 13 14 26 27 15 3 4 5 6 18 17 29 30 31 19 20 21 9 10 11 12 24 23 22 34 33 32 44 45 46 47 48 60 59 58 57 56 68 69 70 71 72 84 83 95 94 82 81 80 92 104 103 91 90 78 79 67 55 54 66 65 64 63 75 74 62 50 51 39 38 37 49 61 73 85 97 109 110 122 123 111 112 100 99 87 88 76 77 89 101 102 114 113 125 124 136 137 138 126 127 115 116 117 129 141 142 130 131 132 144\n",
      "Shortest path =  1 13 14 26 27 15 3 4 5 6 18 17 29 30 31 19 20 21 9 10 11 12 24 23 22 34 33 32 44 45 46 47 48 60 59 58 57 56 68 69 70 71 72 84 83 95 94 82 81 80 92 104 103 91 90 78 79 67 55 54 66 65 64 63 75 74 62 50 51 39 38 37 49 61 73 85 97 109 110 122 123 111 112 100 99 87 88 76 77 89 101 102 114 113 125 124 136 137 138 126 127 115 116 117 129 141 142 130 131 132 144\n"
     ]
    },
    {
     "name": "stderr",
     "output_type": "stream",
     "text": [
      "100%|██████████████████████████████████████████████████████████████████████████████████| 17/17 [00:07<00:00,  2.39it/s]\n"
     ]
    },
    {
     "name": "stdout",
     "output_type": "stream",
     "text": [
      "# of place cell using time shift shuffle method: 3.0 / 17\n"
     ]
    },
    {
     "name": "stderr",
     "output_type": "stream",
     "text": [
      "100%|██████████████████████████████████████████████████████████████████████████████████| 17/17 [00:07<00:00,  2.37it/s]\n"
     ]
    },
    {
     "name": "stdout",
     "output_type": "stream",
     "text": [
      "# of run cell using time shift shuffle method: 1.0 / 17\n",
      "M10026maze1Day9\n",
      "67    Z:/miniscope_recording/maze/4_25_2020/10026H17...\n",
      "Name: recording_folder_local, dtype: object\n",
      "The maze is bidirectional, Ye!\n",
      "Node 1 is Decision point\n",
      "Node 2 is Leaf node\n",
      "Node 13 is Decision point\n",
      "Node 6 is Decision point\n",
      "Node 8 is Leaf node\n",
      "Node 17 is Decision point\n",
      "Node 28 is Leaf node\n",
      "Node 30 is Decision point\n",
      "Node 24 is Decision point\n",
      "Node 84 is Decision point\n",
      "Node 94 is Decision point\n",
      "Node 55 is Decision point\n",
      "Node 43 is Leaf node\n",
      "Node 54 is Decision point\n",
      "Node 53 is Leaf node\n",
      "Node 51 is Decision point\n",
      "Node 39 is Decision point\n",
      "Node 40 is Leaf node\n",
      "Node 97 is Decision point\n",
      "Node 86 is Leaf node\n",
      "Node 109 is Decision point\n",
      "Node 129 is Decision point\n",
      "Node 139 is Leaf node\n",
      "Node 142 is Decision point\n",
      "Node 130 is Decision point\n",
      "Node 120 is Leaf node\n",
      "Node 144 is Leaf node\n",
      "Node 143 is Leaf node\n",
      "Node 135 is Leaf node\n",
      "Node 52 is Leaf node\n",
      "Node 93 is Leaf node\n",
      "Node 96 is Leaf node\n",
      "Node 35 is Leaf node\n",
      "Node 41 is Leaf node\n",
      "Node 25 is Leaf node\n",
      "Shortest path =  1 13 14 26 27 15 3 4 5 6 18 17 29 30 31 19 20 21 9 10 11 12 24 23 22 34 33 32 44 45 46 47 48 60 59 58 57 56 68 69 70 71 72 84 83 95 94 82 81 80 92 104 103 91 90 78 79 67 55 54 66 65 64 63 75 74 62 50 51 39 38 37 49 61 73 85 97 109 110 122 123 111 112 100 99 87 88 76 77 89 101 102 114 113 125 124 136 137 138 126 127 115 116 117 129 141 142 130 131 132 144\n",
      "Shortest path =  1 13 14 26 27 15 3 4 5 6 18 17 29 30 31 19 20 21 9 10 11 12 24 23 22 34 33 32 44 45 46 47 48 60 59 58 57 56 68 69 70 71 72 84 83 95 94 82 81 80 92 104 103 91 90 78 79 67 55 54 66 65 64 63 75 74 62 50 51 39 38 37 49 61 73 85 97 109 110 122 123 111 112 100 99 87 88 76 77 89 101 102 114 113 125 124 136 137 138 126 127 115 116 117 129 141 142 130 131 132 144\n"
     ]
    },
    {
     "name": "stderr",
     "output_type": "stream",
     "text": [
      "100%|████████████████████████████████████████████████████████████████████████████████████| 7/7 [00:02<00:00,  3.46it/s]\n"
     ]
    },
    {
     "name": "stdout",
     "output_type": "stream",
     "text": [
      "# of place cell using time shift shuffle method: 2.0 / 7\n"
     ]
    },
    {
     "name": "stderr",
     "output_type": "stream",
     "text": [
      "100%|████████████████████████████████████████████████████████████████████████████████████| 7/7 [00:02<00:00,  3.31it/s]\n"
     ]
    },
    {
     "name": "stdout",
     "output_type": "stream",
     "text": [
      "# of run cell using time shift shuffle method: 2.0 / 7\n",
      "M10027maze1Day1\n",
      "68    Z:/miniscope_recording/maze/4_17_2020/10027H15...\n",
      "Name: recording_folder_local, dtype: object\n",
      "The maze is bidirectional, Ye!\n",
      "Node 1 is Decision point\n",
      "Node 2 is Leaf node\n",
      "Node 13 is Decision point\n",
      "Node 6 is Decision point\n",
      "Node 8 is Leaf node\n",
      "Node 17 is Decision point\n",
      "Node 28 is Leaf node\n",
      "Node 30 is Decision point\n",
      "Node 24 is Decision point\n",
      "Node 84 is Decision point\n",
      "Node 94 is Decision point\n",
      "Node 55 is Decision point\n",
      "Node 43 is Leaf node\n",
      "Node 54 is Decision point\n",
      "Node 53 is Leaf node\n",
      "Node 51 is Decision point\n",
      "Node 39 is Decision point\n",
      "Node 40 is Leaf node\n",
      "Node 97 is Decision point\n",
      "Node 86 is Leaf node\n",
      "Node 109 is Decision point\n",
      "Node 129 is Decision point\n",
      "Node 139 is Leaf node\n",
      "Node 142 is Decision point\n",
      "Node 130 is Decision point\n",
      "Node 120 is Leaf node\n",
      "Node 144 is Leaf node\n",
      "Node 143 is Leaf node\n",
      "Node 135 is Leaf node\n",
      "Node 52 is Leaf node\n",
      "Node 93 is Leaf node\n",
      "Node 96 is Leaf node\n",
      "Node 35 is Leaf node\n",
      "Node 41 is Leaf node\n",
      "Node 25 is Leaf node\n",
      "Shortest path =  1 13 14 26 27 15 3 4 5 6 18 17 29 30 31 19 20 21 9 10 11 12 24 23 22 34 33 32 44 45 46 47 48 60 59 58 57 56 68 69 70 71 72 84 83 95 94 82 81 80 92 104 103 91 90 78 79 67 55 54 66 65 64 63 75 74 62 50 51 39 38 37 49 61 73 85 97 109 110 122 123 111 112 100 99 87 88 76 77 89 101 102 114 113 125 124 136 137 138 126 127 115 116 117 129 141 142 130 131 132 144\n",
      "Shortest path =  1 13 14 26 27 15 3 4 5 6 18 17 29 30 31 19 20 21 9 10 11 12 24 23 22 34 33 32 44 45 46 47 48 60 59 58 57 56 68 69 70 71 72 84 83 95 94 82 81 80 92 104 103 91 90 78 79 67 55 54 66 65 64 63 75 74 62 50 51 39 38 37 49 61 73 85 97 109 110 122 123 111 112 100 99 87 88 76 77 89 101 102 114 113 125 124 136 137 138 126 127 115 116 117 129 141 142 130 131 132 144\n"
     ]
    },
    {
     "name": "stderr",
     "output_type": "stream",
     "text": [
      "100%|██████████████████████████████████████████████████████████████████████████████████| 18/18 [02:14<00:00,  7.48s/it]\n"
     ]
    },
    {
     "name": "stdout",
     "output_type": "stream",
     "text": [
      "# of place cell using time shift shuffle method: 8.0 / 18\n"
     ]
    },
    {
     "name": "stderr",
     "output_type": "stream",
     "text": [
      "100%|██████████████████████████████████████████████████████████████████████████████████| 18/18 [02:15<00:00,  7.54s/it]\n"
     ]
    },
    {
     "name": "stdout",
     "output_type": "stream",
     "text": [
      "# of run cell using time shift shuffle method: 7.0 / 18\n",
      "M10027maze1Day2\n",
      "69    Z:/miniscope_recording/maze/4_18_2020/10027H17...\n",
      "Name: recording_folder_local, dtype: object\n",
      "The maze is bidirectional, Ye!\n",
      "Node 1 is Decision point\n",
      "Node 2 is Leaf node\n",
      "Node 13 is Decision point\n",
      "Node 6 is Decision point\n",
      "Node 8 is Leaf node\n",
      "Node 17 is Decision point\n",
      "Node 28 is Leaf node\n",
      "Node 30 is Decision point\n",
      "Node 24 is Decision point\n",
      "Node 84 is Decision point\n",
      "Node 94 is Decision point\n",
      "Node 55 is Decision point\n",
      "Node 43 is Leaf node\n",
      "Node 54 is Decision point\n",
      "Node 53 is Leaf node\n",
      "Node 51 is Decision point\n",
      "Node 39 is Decision point\n",
      "Node 40 is Leaf node\n",
      "Node 97 is Decision point\n",
      "Node 86 is Leaf node\n",
      "Node 109 is Decision point\n",
      "Node 129 is Decision point\n",
      "Node 139 is Leaf node\n",
      "Node 142 is Decision point\n",
      "Node 130 is Decision point\n",
      "Node 120 is Leaf node\n",
      "Node 144 is Leaf node\n",
      "Node 143 is Leaf node\n",
      "Node 135 is Leaf node\n",
      "Node 52 is Leaf node\n",
      "Node 93 is Leaf node\n",
      "Node 96 is Leaf node\n",
      "Node 35 is Leaf node\n",
      "Node 41 is Leaf node\n",
      "Node 25 is Leaf node\n",
      "Shortest path =  1 13 14 26 27 15 3 4 5 6 18 17 29 30 31 19 20 21 9 10 11 12 24 23 22 34 33 32 44 45 46 47 48 60 59 58 57 56 68 69 70 71 72 84 83 95 94 82 81 80 92 104 103 91 90 78 79 67 55 54 66 65 64 63 75 74 62 50 51 39 38 37 49 61 73 85 97 109 110 122 123 111 112 100 99 87 88 76 77 89 101 102 114 113 125 124 136 137 138 126 127 115 116 117 129 141 142 130 131 132 144\n",
      "Shortest path =  1 13 14 26 27 15 3 4 5 6 18 17 29 30 31 19 20 21 9 10 11 12 24 23 22 34 33 32 44 45 46 47 48 60 59 58 57 56 68 69 70 71 72 84 83 95 94 82 81 80 92 104 103 91 90 78 79 67 55 54 66 65 64 63 75 74 62 50 51 39 38 37 49 61 73 85 97 109 110 122 123 111 112 100 99 87 88 76 77 89 101 102 114 113 125 124 136 137 138 126 127 115 116 117 129 141 142 130 131 132 144\n"
     ]
    },
    {
     "name": "stderr",
     "output_type": "stream",
     "text": [
      "100%|██████████████████████████████████████████████████████████████████████████████████| 34/34 [00:47<00:00,  1.40s/it]\n"
     ]
    },
    {
     "name": "stdout",
     "output_type": "stream",
     "text": [
      "# of place cell using time shift shuffle method: 21.0 / 34\n"
     ]
    },
    {
     "name": "stderr",
     "output_type": "stream",
     "text": [
      "100%|██████████████████████████████████████████████████████████████████████████████████| 34/34 [00:46<00:00,  1.36s/it]\n"
     ]
    },
    {
     "name": "stdout",
     "output_type": "stream",
     "text": [
      "# of run cell using time shift shuffle method: 23.0 / 34\n",
      "M10027maze1Day3\n",
      "70    Z:/miniscope_recording/maze/4_19_2020/10027H16...\n",
      "Name: recording_folder_local, dtype: object\n",
      "The maze is bidirectional, Ye!\n",
      "Node 1 is Decision point\n",
      "Node 2 is Leaf node\n",
      "Node 13 is Decision point\n",
      "Node 6 is Decision point\n",
      "Node 8 is Leaf node\n",
      "Node 17 is Decision point\n",
      "Node 28 is Leaf node\n",
      "Node 30 is Decision point\n",
      "Node 24 is Decision point\n",
      "Node 84 is Decision point\n",
      "Node 94 is Decision point\n",
      "Node 55 is Decision point\n",
      "Node 43 is Leaf node\n",
      "Node 54 is Decision point\n",
      "Node 53 is Leaf node\n",
      "Node 51 is Decision point\n",
      "Node 39 is Decision point\n",
      "Node 40 is Leaf node\n",
      "Node 97 is Decision point\n",
      "Node 86 is Leaf node\n",
      "Node 109 is Decision point\n",
      "Node 129 is Decision point\n",
      "Node 139 is Leaf node\n",
      "Node 142 is Decision point\n",
      "Node 130 is Decision point\n",
      "Node 120 is Leaf node\n",
      "Node 144 is Leaf node\n",
      "Node 143 is Leaf node\n",
      "Node 135 is Leaf node\n",
      "Node 52 is Leaf node\n",
      "Node 93 is Leaf node\n",
      "Node 96 is Leaf node\n",
      "Node 35 is Leaf node\n",
      "Node 41 is Leaf node\n",
      "Node 25 is Leaf node\n",
      "Shortest path =  1 13 14 26 27 15 3 4 5 6 18 17 29 30 31 19 20 21 9 10 11 12 24 23 22 34 33 32 44 45 46 47 48 60 59 58 57 56 68 69 70 71 72 84 83 95 94 82 81 80 92 104 103 91 90 78 79 67 55 54 66 65 64 63 75 74 62 50 51 39 38 37 49 61 73 85 97 109 110 122 123 111 112 100 99 87 88 76 77 89 101 102 114 113 125 124 136 137 138 126 127 115 116 117 129 141 142 130 131 132 144\n",
      "Shortest path =  1 13 14 26 27 15 3 4 5 6 18 17 29 30 31 19 20 21 9 10 11 12 24 23 22 34 33 32 44 45 46 47 48 60 59 58 57 56 68 69 70 71 72 84 83 95 94 82 81 80 92 104 103 91 90 78 79 67 55 54 66 65 64 63 75 74 62 50 51 39 38 37 49 61 73 85 97 109 110 122 123 111 112 100 99 87 88 76 77 89 101 102 114 113 125 124 136 137 138 126 127 115 116 117 129 141 142 130 131 132 144\n"
     ]
    },
    {
     "name": "stderr",
     "output_type": "stream",
     "text": [
      "100%|██████████████████████████████████████████████████████████████████████████████████| 28/28 [00:12<00:00,  2.32it/s]\n"
     ]
    },
    {
     "name": "stdout",
     "output_type": "stream",
     "text": [
      "# of place cell using time shift shuffle method: 3.0 / 28\n"
     ]
    },
    {
     "name": "stderr",
     "output_type": "stream",
     "text": [
      "100%|██████████████████████████████████████████████████████████████████████████████████| 28/28 [00:12<00:00,  2.31it/s]\n"
     ]
    },
    {
     "name": "stdout",
     "output_type": "stream",
     "text": [
      "# of run cell using time shift shuffle method: 1.0 / 28\n",
      "M10027maze1Day4\n",
      "71    Z:/miniscope_recording/maze/4_20_2020/10027H19...\n",
      "Name: recording_folder_local, dtype: object\n",
      "The maze is bidirectional, Ye!\n",
      "Node 1 is Decision point\n",
      "Node 2 is Leaf node\n",
      "Node 13 is Decision point\n",
      "Node 6 is Decision point\n",
      "Node 8 is Leaf node\n",
      "Node 17 is Decision point\n",
      "Node 28 is Leaf node\n",
      "Node 30 is Decision point\n",
      "Node 24 is Decision point\n",
      "Node 84 is Decision point\n",
      "Node 94 is Decision point\n",
      "Node 55 is Decision point\n",
      "Node 43 is Leaf node\n",
      "Node 54 is Decision point\n",
      "Node 53 is Leaf node\n",
      "Node 51 is Decision point\n",
      "Node 39 is Decision point\n",
      "Node 40 is Leaf node\n",
      "Node 97 is Decision point\n",
      "Node 86 is Leaf node\n",
      "Node 109 is Decision point\n",
      "Node 129 is Decision point\n",
      "Node 139 is Leaf node\n",
      "Node 142 is Decision point\n",
      "Node 130 is Decision point\n",
      "Node 120 is Leaf node\n",
      "Node 144 is Leaf node\n",
      "Node 143 is Leaf node\n",
      "Node 135 is Leaf node\n",
      "Node 52 is Leaf node\n",
      "Node 93 is Leaf node\n",
      "Node 96 is Leaf node\n",
      "Node 35 is Leaf node\n",
      "Node 41 is Leaf node\n",
      "Node 25 is Leaf node\n",
      "Shortest path =  1 13 14 26 27 15 3 4 5 6 18 17 29 30 31 19 20 21 9 10 11 12 24 23 22 34 33 32 44 45 46 47 48 60 59 58 57 56 68 69 70 71 72 84 83 95 94 82 81 80 92 104 103 91 90 78 79 67 55 54 66 65 64 63 75 74 62 50 51 39 38 37 49 61 73 85 97 109 110 122 123 111 112 100 99 87 88 76 77 89 101 102 114 113 125 124 136 137 138 126 127 115 116 117 129 141 142 130 131 132 144\n",
      "Shortest path =  1 13 14 26 27 15 3 4 5 6 18 17 29 30 31 19 20 21 9 10 11 12 24 23 22 34 33 32 44 45 46 47 48 60 59 58 57 56 68 69 70 71 72 84 83 95 94 82 81 80 92 104 103 91 90 78 79 67 55 54 66 65 64 63 75 74 62 50 51 39 38 37 49 61 73 85 97 109 110 122 123 111 112 100 99 87 88 76 77 89 101 102 114 113 125 124 136 137 138 126 127 115 116 117 129 141 142 130 131 132 144\n"
     ]
    },
    {
     "name": "stderr",
     "output_type": "stream",
     "text": [
      "100%|██████████████████████████████████████████████████████████████████████████████████| 36/36 [00:41<00:00,  1.14s/it]\n"
     ]
    },
    {
     "name": "stdout",
     "output_type": "stream",
     "text": [
      "# of place cell using time shift shuffle method: 9.0 / 36\n"
     ]
    },
    {
     "name": "stderr",
     "output_type": "stream",
     "text": [
      "100%|██████████████████████████████████████████████████████████████████████████████████| 36/36 [00:39<00:00,  1.11s/it]\n"
     ]
    },
    {
     "name": "stdout",
     "output_type": "stream",
     "text": [
      "# of run cell using time shift shuffle method: 5.0 / 36\n",
      "M10027maze1Day5\n",
      "72    Z:/miniscope_recording/maze/4_21_2020/10027H18...\n",
      "Name: recording_folder_local, dtype: object\n",
      "The maze is bidirectional, Ye!\n",
      "Node 1 is Decision point\n",
      "Node 2 is Leaf node\n",
      "Node 13 is Decision point\n",
      "Node 6 is Decision point\n",
      "Node 8 is Leaf node\n",
      "Node 17 is Decision point\n",
      "Node 28 is Leaf node\n",
      "Node 30 is Decision point\n",
      "Node 24 is Decision point\n",
      "Node 84 is Decision point\n",
      "Node 94 is Decision point\n",
      "Node 55 is Decision point\n",
      "Node 43 is Leaf node\n",
      "Node 54 is Decision point\n",
      "Node 53 is Leaf node\n",
      "Node 51 is Decision point\n",
      "Node 39 is Decision point\n",
      "Node 40 is Leaf node\n",
      "Node 97 is Decision point\n",
      "Node 86 is Leaf node\n",
      "Node 109 is Decision point\n",
      "Node 129 is Decision point\n",
      "Node 139 is Leaf node\n",
      "Node 142 is Decision point\n",
      "Node 130 is Decision point\n",
      "Node 120 is Leaf node\n",
      "Node 144 is Leaf node\n",
      "Node 143 is Leaf node\n",
      "Node 135 is Leaf node\n",
      "Node 52 is Leaf node\n",
      "Node 93 is Leaf node\n",
      "Node 96 is Leaf node\n",
      "Node 35 is Leaf node\n",
      "Node 41 is Leaf node\n",
      "Node 25 is Leaf node\n",
      "Shortest path =  1 13 14 26 27 15 3 4 5 6 18 17 29 30 31 19 20 21 9 10 11 12 24 23 22 34 33 32 44 45 46 47 48 60 59 58 57 56 68 69 70 71 72 84 83 95 94 82 81 80 92 104 103 91 90 78 79 67 55 54 66 65 64 63 75 74 62 50 51 39 38 37 49 61 73 85 97 109 110 122 123 111 112 100 99 87 88 76 77 89 101 102 114 113 125 124 136 137 138 126 127 115 116 117 129 141 142 130 131 132 144\n",
      "Shortest path =  1 13 14 26 27 15 3 4 5 6 18 17 29 30 31 19 20 21 9 10 11 12 24 23 22 34 33 32 44 45 46 47 48 60 59 58 57 56 68 69 70 71 72 84 83 95 94 82 81 80 92 104 103 91 90 78 79 67 55 54 66 65 64 63 75 74 62 50 51 39 38 37 49 61 73 85 97 109 110 122 123 111 112 100 99 87 88 76 77 89 101 102 114 113 125 124 136 137 138 126 127 115 116 117 129 141 142 130 131 132 144\n"
     ]
    },
    {
     "name": "stderr",
     "output_type": "stream",
     "text": [
      "100%|██████████████████████████████████████████████████████████████████████████████████| 30/30 [00:17<00:00,  1.74it/s]\n"
     ]
    },
    {
     "name": "stdout",
     "output_type": "stream",
     "text": [
      "# of place cell using time shift shuffle method: 3.0 / 30\n"
     ]
    },
    {
     "name": "stderr",
     "output_type": "stream",
     "text": [
      "100%|██████████████████████████████████████████████████████████████████████████████████| 30/30 [00:17<00:00,  1.76it/s]\n"
     ]
    },
    {
     "name": "stdout",
     "output_type": "stream",
     "text": [
      "# of run cell using time shift shuffle method: 5.0 / 30\n",
      "M10027maze1Day6\n",
      "73    Z:/miniscope_recording/maze/4_22_2020/10027H16...\n",
      "Name: recording_folder_local, dtype: object\n",
      "The maze is bidirectional, Ye!\n",
      "Node 1 is Decision point\n",
      "Node 2 is Leaf node\n",
      "Node 13 is Decision point\n",
      "Node 6 is Decision point\n",
      "Node 8 is Leaf node\n",
      "Node 17 is Decision point\n",
      "Node 28 is Leaf node\n",
      "Node 30 is Decision point\n",
      "Node 24 is Decision point\n",
      "Node 84 is Decision point\n",
      "Node 94 is Decision point\n",
      "Node 55 is Decision point\n",
      "Node 43 is Leaf node\n",
      "Node 54 is Decision point\n",
      "Node 53 is Leaf node\n",
      "Node 51 is Decision point\n",
      "Node 39 is Decision point\n",
      "Node 40 is Leaf node\n",
      "Node 97 is Decision point\n",
      "Node 86 is Leaf node\n",
      "Node 109 is Decision point\n",
      "Node 129 is Decision point\n",
      "Node 139 is Leaf node\n",
      "Node 142 is Decision point\n",
      "Node 130 is Decision point\n",
      "Node 120 is Leaf node\n",
      "Node 144 is Leaf node\n",
      "Node 143 is Leaf node\n",
      "Node 135 is Leaf node\n",
      "Node 52 is Leaf node\n",
      "Node 93 is Leaf node\n",
      "Node 96 is Leaf node\n",
      "Node 35 is Leaf node\n",
      "Node 41 is Leaf node\n",
      "Node 25 is Leaf node\n",
      "Shortest path =  1 13 14 26 27 15 3 4 5 6 18 17 29 30 31 19 20 21 9 10 11 12 24 23 22 34 33 32 44 45 46 47 48 60 59 58 57 56 68 69 70 71 72 84 83 95 94 82 81 80 92 104 103 91 90 78 79 67 55 54 66 65 64 63 75 74 62 50 51 39 38 37 49 61 73 85 97 109 110 122 123 111 112 100 99 87 88 76 77 89 101 102 114 113 125 124 136 137 138 126 127 115 116 117 129 141 142 130 131 132 144\n",
      "Shortest path =  1 13 14 26 27 15 3 4 5 6 18 17 29 30 31 19 20 21 9 10 11 12 24 23 22 34 33 32 44 45 46 47 48 60 59 58 57 56 68 69 70 71 72 84 83 95 94 82 81 80 92 104 103 91 90 78 79 67 55 54 66 65 64 63 75 74 62 50 51 39 38 37 49 61 73 85 97 109 110 122 123 111 112 100 99 87 88 76 77 89 101 102 114 113 125 124 136 137 138 126 127 115 116 117 129 141 142 130 131 132 144\n"
     ]
    },
    {
     "name": "stderr",
     "output_type": "stream",
     "text": [
      "100%|██████████████████████████████████████████████████████████████████████████████████| 15/15 [00:09<00:00,  1.66it/s]\n"
     ]
    },
    {
     "name": "stdout",
     "output_type": "stream",
     "text": [
      "# of place cell using time shift shuffle method: 2.0 / 15\n"
     ]
    },
    {
     "name": "stderr",
     "output_type": "stream",
     "text": [
      "100%|██████████████████████████████████████████████████████████████████████████████████| 15/15 [00:08<00:00,  1.68it/s]\n"
     ]
    },
    {
     "name": "stdout",
     "output_type": "stream",
     "text": [
      "# of run cell using time shift shuffle method: 2.0 / 15\n",
      "M10027maze1Day7\n",
      "74    Z:/miniscope_recording/maze/4_23_2020/10027H15...\n",
      "Name: recording_folder_local, dtype: object\n",
      "The maze is bidirectional, Ye!\n",
      "Node 1 is Decision point\n",
      "Node 2 is Leaf node\n",
      "Node 13 is Decision point\n",
      "Node 6 is Decision point\n",
      "Node 8 is Leaf node\n",
      "Node 17 is Decision point\n",
      "Node 28 is Leaf node\n",
      "Node 30 is Decision point\n",
      "Node 24 is Decision point\n",
      "Node 84 is Decision point\n",
      "Node 94 is Decision point\n",
      "Node 55 is Decision point\n",
      "Node 43 is Leaf node\n",
      "Node 54 is Decision point\n",
      "Node 53 is Leaf node\n",
      "Node 51 is Decision point\n",
      "Node 39 is Decision point\n",
      "Node 40 is Leaf node\n",
      "Node 97 is Decision point\n",
      "Node 86 is Leaf node\n",
      "Node 109 is Decision point\n",
      "Node 129 is Decision point\n",
      "Node 139 is Leaf node\n",
      "Node 142 is Decision point\n",
      "Node 130 is Decision point\n",
      "Node 120 is Leaf node\n",
      "Node 144 is Leaf node\n",
      "Node 143 is Leaf node\n",
      "Node 135 is Leaf node\n",
      "Node 52 is Leaf node\n",
      "Node 93 is Leaf node\n",
      "Node 96 is Leaf node\n",
      "Node 35 is Leaf node\n",
      "Node 41 is Leaf node\n",
      "Node 25 is Leaf node\n",
      "Shortest path =  1 13 14 26 27 15 3 4 5 6 18 17 29 30 31 19 20 21 9 10 11 12 24 23 22 34 33 32 44 45 46 47 48 60 59 58 57 56 68 69 70 71 72 84 83 95 94 82 81 80 92 104 103 91 90 78 79 67 55 54 66 65 64 63 75 74 62 50 51 39 38 37 49 61 73 85 97 109 110 122 123 111 112 100 99 87 88 76 77 89 101 102 114 113 125 124 136 137 138 126 127 115 116 117 129 141 142 130 131 132 144\n",
      "Shortest path =  1 13 14 26 27 15 3 4 5 6 18 17 29 30 31 19 20 21 9 10 11 12 24 23 22 34 33 32 44 45 46 47 48 60 59 58 57 56 68 69 70 71 72 84 83 95 94 82 81 80 92 104 103 91 90 78 79 67 55 54 66 65 64 63 75 74 62 50 51 39 38 37 49 61 73 85 97 109 110 122 123 111 112 100 99 87 88 76 77 89 101 102 114 113 125 124 136 137 138 126 127 115 116 117 129 141 142 130 131 132 144\n"
     ]
    },
    {
     "name": "stderr",
     "output_type": "stream",
     "text": [
      "100%|██████████████████████████████████████████████████████████████████████████████████| 17/17 [00:10<00:00,  1.62it/s]\n"
     ]
    },
    {
     "name": "stdout",
     "output_type": "stream",
     "text": [
      "# of place cell using time shift shuffle method: 3.0 / 17\n"
     ]
    },
    {
     "name": "stderr",
     "output_type": "stream",
     "text": [
      "100%|██████████████████████████████████████████████████████████████████████████████████| 17/17 [00:10<00:00,  1.61it/s]\n"
     ]
    },
    {
     "name": "stdout",
     "output_type": "stream",
     "text": [
      "# of run cell using time shift shuffle method: 2.0 / 17\n",
      "M10027maze1Day8\n",
      "75    Z:/miniscope_recording/maze/4_24_2020/10027H16...\n",
      "Name: recording_folder_local, dtype: object\n",
      "The maze is bidirectional, Ye!\n",
      "Node 1 is Decision point\n",
      "Node 2 is Leaf node\n",
      "Node 13 is Decision point\n",
      "Node 6 is Decision point\n",
      "Node 8 is Leaf node\n",
      "Node 17 is Decision point\n",
      "Node 28 is Leaf node\n",
      "Node 30 is Decision point\n",
      "Node 24 is Decision point\n",
      "Node 84 is Decision point\n",
      "Node 94 is Decision point\n",
      "Node 55 is Decision point\n",
      "Node 43 is Leaf node\n",
      "Node 54 is Decision point\n",
      "Node 53 is Leaf node\n",
      "Node 51 is Decision point\n",
      "Node 39 is Decision point\n",
      "Node 40 is Leaf node\n",
      "Node 97 is Decision point\n",
      "Node 86 is Leaf node\n",
      "Node 109 is Decision point\n",
      "Node 129 is Decision point\n",
      "Node 139 is Leaf node\n",
      "Node 142 is Decision point\n",
      "Node 130 is Decision point\n",
      "Node 120 is Leaf node\n",
      "Node 144 is Leaf node\n",
      "Node 143 is Leaf node\n",
      "Node 135 is Leaf node\n",
      "Node 52 is Leaf node\n",
      "Node 93 is Leaf node\n",
      "Node 96 is Leaf node\n",
      "Node 35 is Leaf node\n",
      "Node 41 is Leaf node\n",
      "Node 25 is Leaf node\n",
      "Shortest path =  1 13 14 26 27 15 3 4 5 6 18 17 29 30 31 19 20 21 9 10 11 12 24 23 22 34 33 32 44 45 46 47 48 60 59 58 57 56 68 69 70 71 72 84 83 95 94 82 81 80 92 104 103 91 90 78 79 67 55 54 66 65 64 63 75 74 62 50 51 39 38 37 49 61 73 85 97 109 110 122 123 111 112 100 99 87 88 76 77 89 101 102 114 113 125 124 136 137 138 126 127 115 116 117 129 141 142 130 131 132 144\n",
      "Shortest path =  1 13 14 26 27 15 3 4 5 6 18 17 29 30 31 19 20 21 9 10 11 12 24 23 22 34 33 32 44 45 46 47 48 60 59 58 57 56 68 69 70 71 72 84 83 95 94 82 81 80 92 104 103 91 90 78 79 67 55 54 66 65 64 63 75 74 62 50 51 39 38 37 49 61 73 85 97 109 110 122 123 111 112 100 99 87 88 76 77 89 101 102 114 113 125 124 136 137 138 126 127 115 116 117 129 141 142 130 131 132 144\n"
     ]
    },
    {
     "name": "stderr",
     "output_type": "stream",
     "text": [
      "100%|██████████████████████████████████████████████████████████████████████████████████| 14/14 [00:04<00:00,  3.11it/s]\n"
     ]
    },
    {
     "name": "stdout",
     "output_type": "stream",
     "text": [
      "# of place cell using time shift shuffle method: 0.0 / 14\n"
     ]
    },
    {
     "name": "stderr",
     "output_type": "stream",
     "text": [
      "100%|██████████████████████████████████████████████████████████████████████████████████| 14/14 [00:04<00:00,  3.05it/s]\n"
     ]
    },
    {
     "name": "stdout",
     "output_type": "stream",
     "text": [
      "# of run cell using time shift shuffle method: 0.0 / 14\n",
      "M10027maze1Day9\n",
      "76    Z:/miniscope_recording/maze/4_25_2020/10027H16...\n",
      "Name: recording_folder_local, dtype: object\n",
      "The maze is bidirectional, Ye!\n",
      "Node 1 is Decision point\n",
      "Node 2 is Leaf node\n",
      "Node 13 is Decision point\n",
      "Node 6 is Decision point\n",
      "Node 8 is Leaf node\n",
      "Node 17 is Decision point\n",
      "Node 28 is Leaf node\n",
      "Node 30 is Decision point\n",
      "Node 24 is Decision point\n",
      "Node 84 is Decision point\n",
      "Node 94 is Decision point\n",
      "Node 55 is Decision point\n",
      "Node 43 is Leaf node\n",
      "Node 54 is Decision point\n",
      "Node 53 is Leaf node\n",
      "Node 51 is Decision point\n",
      "Node 39 is Decision point\n",
      "Node 40 is Leaf node\n",
      "Node 97 is Decision point\n",
      "Node 86 is Leaf node\n",
      "Node 109 is Decision point\n",
      "Node 129 is Decision point\n",
      "Node 139 is Leaf node\n",
      "Node 142 is Decision point\n",
      "Node 130 is Decision point\n",
      "Node 120 is Leaf node\n",
      "Node 144 is Leaf node\n",
      "Node 143 is Leaf node\n",
      "Node 135 is Leaf node\n",
      "Node 52 is Leaf node\n",
      "Node 93 is Leaf node\n",
      "Node 96 is Leaf node\n",
      "Node 35 is Leaf node\n",
      "Node 41 is Leaf node\n",
      "Node 25 is Leaf node\n",
      "Shortest path =  1 13 14 26 27 15 3 4 5 6 18 17 29 30 31 19 20 21 9 10 11 12 24 23 22 34 33 32 44 45 46 47 48 60 59 58 57 56 68 69 70 71 72 84 83 95 94 82 81 80 92 104 103 91 90 78 79 67 55 54 66 65 64 63 75 74 62 50 51 39 38 37 49 61 73 85 97 109 110 122 123 111 112 100 99 87 88 76 77 89 101 102 114 113 125 124 136 137 138 126 127 115 116 117 129 141 142 130 131 132 144\n",
      "Shortest path =  1 13 14 26 27 15 3 4 5 6 18 17 29 30 31 19 20 21 9 10 11 12 24 23 22 34 33 32 44 45 46 47 48 60 59 58 57 56 68 69 70 71 72 84 83 95 94 82 81 80 92 104 103 91 90 78 79 67 55 54 66 65 64 63 75 74 62 50 51 39 38 37 49 61 73 85 97 109 110 122 123 111 112 100 99 87 88 76 77 89 101 102 114 113 125 124 136 137 138 126 127 115 116 117 129 141 142 130 131 132 144\n"
     ]
    },
    {
     "name": "stderr",
     "output_type": "stream",
     "text": [
      "100%|████████████████████████████████████████████████████████████████████████████████████| 7/7 [00:02<00:00,  3.46it/s]\n"
     ]
    },
    {
     "name": "stdout",
     "output_type": "stream",
     "text": [
      "# of place cell using time shift shuffle method: 1.0 / 7\n"
     ]
    },
    {
     "name": "stderr",
     "output_type": "stream",
     "text": [
      "100%|████████████████████████████████████████████████████████████████████████████████████| 7/7 [00:02<00:00,  3.35it/s]\n"
     ]
    },
    {
     "name": "stdout",
     "output_type": "stream",
     "text": [
      "# of run cell using time shift shuffle method: 0.0 / 7\n",
      "M10028maze1Day1\n",
      "77    Z:/miniscope_recording/maze/4_17_2020/10028H16...\n",
      "Name: recording_folder_local, dtype: object\n",
      "The maze is bidirectional, Ye!\n",
      "Node 1 is Decision point\n",
      "Node 2 is Leaf node\n",
      "Node 13 is Decision point\n",
      "Node 6 is Decision point\n",
      "Node 8 is Leaf node\n",
      "Node 17 is Decision point\n",
      "Node 28 is Leaf node\n",
      "Node 30 is Decision point\n",
      "Node 24 is Decision point\n",
      "Node 84 is Decision point\n",
      "Node 94 is Decision point\n",
      "Node 55 is Decision point\n",
      "Node 43 is Leaf node\n",
      "Node 54 is Decision point\n",
      "Node 53 is Leaf node\n",
      "Node 51 is Decision point\n",
      "Node 39 is Decision point\n",
      "Node 40 is Leaf node\n",
      "Node 97 is Decision point\n",
      "Node 86 is Leaf node\n",
      "Node 109 is Decision point\n",
      "Node 129 is Decision point\n",
      "Node 139 is Leaf node\n",
      "Node 142 is Decision point\n",
      "Node 130 is Decision point\n",
      "Node 120 is Leaf node\n",
      "Node 144 is Leaf node\n",
      "Node 143 is Leaf node\n",
      "Node 135 is Leaf node\n",
      "Node 52 is Leaf node\n",
      "Node 93 is Leaf node\n",
      "Node 96 is Leaf node\n",
      "Node 35 is Leaf node\n",
      "Node 41 is Leaf node\n",
      "Node 25 is Leaf node\n",
      "Shortest path =  1 13 14 26 27 15 3 4 5 6 18 17 29 30 31 19 20 21 9 10 11 12 24 23 22 34 33 32 44 45 46 47 48 60 59 58 57 56 68 69 70 71 72 84 83 95 94 82 81 80 92 104 103 91 90 78 79 67 55 54 66 65 64 63 75 74 62 50 51 39 38 37 49 61 73 85 97 109 110 122 123 111 112 100 99 87 88 76 77 89 101 102 114 113 125 124 136 137 138 126 127 115 116 117 129 141 142 130 131 132 144\n",
      "Shortest path =  1 13 14 26 27 15 3 4 5 6 18 17 29 30 31 19 20 21 9 10 11 12 24 23 22 34 33 32 44 45 46 47 48 60 59 58 57 56 68 69 70 71 72 84 83 95 94 82 81 80 92 104 103 91 90 78 79 67 55 54 66 65 64 63 75 74 62 50 51 39 38 37 49 61 73 85 97 109 110 122 123 111 112 100 99 87 88 76 77 89 101 102 114 113 125 124 136 137 138 126 127 115 116 117 129 141 142 130 131 132 144\n"
     ]
    },
    {
     "name": "stderr",
     "output_type": "stream",
     "text": [
      "100%|██████████████████████████████████████████████████████████████████████████████████| 41/41 [02:13<00:00,  3.26s/it]\n"
     ]
    },
    {
     "name": "stdout",
     "output_type": "stream",
     "text": [
      "# of place cell using time shift shuffle method: 16.0 / 41\n"
     ]
    },
    {
     "name": "stderr",
     "output_type": "stream",
     "text": [
      "100%|██████████████████████████████████████████████████████████████████████████████████| 41/41 [02:10<00:00,  3.19s/it]\n"
     ]
    },
    {
     "name": "stdout",
     "output_type": "stream",
     "text": [
      "# of run cell using time shift shuffle method: 13.0 / 41\n",
      "M10028maze1Day2\n",
      "78    Z:/miniscope_recording/maze/4_18_2020/10028H16...\n",
      "Name: recording_folder_local, dtype: object\n",
      "The maze is bidirectional, Ye!\n",
      "Node 1 is Decision point\n",
      "Node 2 is Leaf node\n",
      "Node 13 is Decision point\n",
      "Node 6 is Decision point\n",
      "Node 8 is Leaf node\n",
      "Node 17 is Decision point\n",
      "Node 28 is Leaf node\n",
      "Node 30 is Decision point\n",
      "Node 24 is Decision point\n",
      "Node 84 is Decision point\n",
      "Node 94 is Decision point\n",
      "Node 55 is Decision point\n",
      "Node 43 is Leaf node\n",
      "Node 54 is Decision point\n",
      "Node 53 is Leaf node\n",
      "Node 51 is Decision point\n",
      "Node 39 is Decision point\n",
      "Node 40 is Leaf node\n",
      "Node 97 is Decision point\n",
      "Node 86 is Leaf node\n",
      "Node 109 is Decision point\n",
      "Node 129 is Decision point\n",
      "Node 139 is Leaf node\n",
      "Node 142 is Decision point\n",
      "Node 130 is Decision point\n",
      "Node 120 is Leaf node\n",
      "Node 144 is Leaf node\n",
      "Node 143 is Leaf node\n",
      "Node 135 is Leaf node\n",
      "Node 52 is Leaf node\n",
      "Node 93 is Leaf node\n",
      "Node 96 is Leaf node\n",
      "Node 35 is Leaf node\n",
      "Node 41 is Leaf node\n",
      "Node 25 is Leaf node\n",
      "Shortest path =  1 13 14 26 27 15 3 4 5 6 18 17 29 30 31 19 20 21 9 10 11 12 24 23 22 34 33 32 44 45 46 47 48 60 59 58 57 56 68 69 70 71 72 84 83 95 94 82 81 80 92 104 103 91 90 78 79 67 55 54 66 65 64 63 75 74 62 50 51 39 38 37 49 61 73 85 97 109 110 122 123 111 112 100 99 87 88 76 77 89 101 102 114 113 125 124 136 137 138 126 127 115 116 117 129 141 142 130 131 132 144\n",
      "Shortest path =  1 13 14 26 27 15 3 4 5 6 18 17 29 30 31 19 20 21 9 10 11 12 24 23 22 34 33 32 44 45 46 47 48 60 59 58 57 56 68 69 70 71 72 84 83 95 94 82 81 80 92 104 103 91 90 78 79 67 55 54 66 65 64 63 75 74 62 50 51 39 38 37 49 61 73 85 97 109 110 122 123 111 112 100 99 87 88 76 77 89 101 102 114 113 125 124 136 137 138 126 127 115 116 117 129 141 142 130 131 132 144\n"
     ]
    },
    {
     "name": "stderr",
     "output_type": "stream",
     "text": [
      "100%|██████████████████████████████████████████████████████████████████████████████████| 53/53 [01:11<00:00,  1.35s/it]\n"
     ]
    },
    {
     "name": "stdout",
     "output_type": "stream",
     "text": [
      "# of place cell using time shift shuffle method: 24.0 / 53\n"
     ]
    },
    {
     "name": "stderr",
     "output_type": "stream",
     "text": [
      "100%|██████████████████████████████████████████████████████████████████████████████████| 53/53 [01:10<00:00,  1.33s/it]\n"
     ]
    },
    {
     "name": "stdout",
     "output_type": "stream",
     "text": [
      "# of run cell using time shift shuffle method: 24.0 / 53\n",
      "M10028maze1Day3\n",
      "79    Z:/miniscope_recording/maze/4_19_2020/10028H15...\n",
      "Name: recording_folder_local, dtype: object\n",
      "The maze is bidirectional, Ye!\n",
      "Node 1 is Decision point\n",
      "Node 2 is Leaf node\n",
      "Node 13 is Decision point\n",
      "Node 6 is Decision point\n",
      "Node 8 is Leaf node\n",
      "Node 17 is Decision point\n",
      "Node 28 is Leaf node\n",
      "Node 30 is Decision point\n",
      "Node 24 is Decision point\n",
      "Node 84 is Decision point\n",
      "Node 94 is Decision point\n",
      "Node 55 is Decision point\n",
      "Node 43 is Leaf node\n",
      "Node 54 is Decision point\n",
      "Node 53 is Leaf node\n",
      "Node 51 is Decision point\n",
      "Node 39 is Decision point\n",
      "Node 40 is Leaf node\n",
      "Node 97 is Decision point\n",
      "Node 86 is Leaf node\n",
      "Node 109 is Decision point\n",
      "Node 129 is Decision point\n",
      "Node 139 is Leaf node\n",
      "Node 142 is Decision point\n",
      "Node 130 is Decision point\n",
      "Node 120 is Leaf node\n",
      "Node 144 is Leaf node\n",
      "Node 143 is Leaf node\n",
      "Node 135 is Leaf node\n",
      "Node 52 is Leaf node\n",
      "Node 93 is Leaf node\n",
      "Node 96 is Leaf node\n",
      "Node 35 is Leaf node\n",
      "Node 41 is Leaf node\n",
      "Node 25 is Leaf node\n",
      "Shortest path =  1 13 14 26 27 15 3 4 5 6 18 17 29 30 31 19 20 21 9 10 11 12 24 23 22 34 33 32 44 45 46 47 48 60 59 58 57 56 68 69 70 71 72 84 83 95 94 82 81 80 92 104 103 91 90 78 79 67 55 54 66 65 64 63 75 74 62 50 51 39 38 37 49 61 73 85 97 109 110 122 123 111 112 100 99 87 88 76 77 89 101 102 114 113 125 124 136 137 138 126 127 115 116 117 129 141 142 130 131 132 144\n",
      "Shortest path =  1 13 14 26 27 15 3 4 5 6 18 17 29 30 31 19 20 21 9 10 11 12 24 23 22 34 33 32 44 45 46 47 48 60 59 58 57 56 68 69 70 71 72 84 83 95 94 82 81 80 92 104 103 91 90 78 79 67 55 54 66 65 64 63 75 74 62 50 51 39 38 37 49 61 73 85 97 109 110 122 123 111 112 100 99 87 88 76 77 89 101 102 114 113 125 124 136 137 138 126 127 115 116 117 129 141 142 130 131 132 144\n"
     ]
    },
    {
     "name": "stderr",
     "output_type": "stream",
     "text": [
      "100%|██████████████████████████████████████████████████████████████████████████████████| 44/44 [00:58<00:00,  1.32s/it]\n"
     ]
    },
    {
     "name": "stdout",
     "output_type": "stream",
     "text": [
      "# of place cell using time shift shuffle method: 21.0 / 44\n"
     ]
    },
    {
     "name": "stderr",
     "output_type": "stream",
     "text": [
      "100%|██████████████████████████████████████████████████████████████████████████████████| 44/44 [00:56<00:00,  1.28s/it]\n"
     ]
    },
    {
     "name": "stdout",
     "output_type": "stream",
     "text": [
      "# of run cell using time shift shuffle method: 19.0 / 44\n",
      "M10028maze1Day4\n",
      "80    Z:/miniscope_recording/maze/4_20_2020/10028H18...\n",
      "Name: recording_folder_local, dtype: object\n",
      "The maze is bidirectional, Ye!\n",
      "Node 1 is Decision point\n",
      "Node 2 is Leaf node\n",
      "Node 13 is Decision point\n",
      "Node 6 is Decision point\n",
      "Node 8 is Leaf node\n",
      "Node 17 is Decision point\n",
      "Node 28 is Leaf node\n",
      "Node 30 is Decision point\n",
      "Node 24 is Decision point\n",
      "Node 84 is Decision point\n",
      "Node 94 is Decision point\n",
      "Node 55 is Decision point\n",
      "Node 43 is Leaf node\n",
      "Node 54 is Decision point\n",
      "Node 53 is Leaf node\n",
      "Node 51 is Decision point\n",
      "Node 39 is Decision point\n",
      "Node 40 is Leaf node\n",
      "Node 97 is Decision point\n",
      "Node 86 is Leaf node\n",
      "Node 109 is Decision point\n",
      "Node 129 is Decision point\n",
      "Node 139 is Leaf node\n",
      "Node 142 is Decision point\n",
      "Node 130 is Decision point\n",
      "Node 120 is Leaf node\n",
      "Node 144 is Leaf node\n",
      "Node 143 is Leaf node\n",
      "Node 135 is Leaf node\n",
      "Node 52 is Leaf node\n",
      "Node 93 is Leaf node\n",
      "Node 96 is Leaf node\n",
      "Node 35 is Leaf node\n",
      "Node 41 is Leaf node\n",
      "Node 25 is Leaf node\n",
      "Shortest path =  1 13 14 26 27 15 3 4 5 6 18 17 29 30 31 19 20 21 9 10 11 12 24 23 22 34 33 32 44 45 46 47 48 60 59 58 57 56 68 69 70 71 72 84 83 95 94 82 81 80 92 104 103 91 90 78 79 67 55 54 66 65 64 63 75 74 62 50 51 39 38 37 49 61 73 85 97 109 110 122 123 111 112 100 99 87 88 76 77 89 101 102 114 113 125 124 136 137 138 126 127 115 116 117 129 141 142 130 131 132 144\n",
      "Shortest path =  1 13 14 26 27 15 3 4 5 6 18 17 29 30 31 19 20 21 9 10 11 12 24 23 22 34 33 32 44 45 46 47 48 60 59 58 57 56 68 69 70 71 72 84 83 95 94 82 81 80 92 104 103 91 90 78 79 67 55 54 66 65 64 63 75 74 62 50 51 39 38 37 49 61 73 85 97 109 110 122 123 111 112 100 99 87 88 76 77 89 101 102 114 113 125 124 136 137 138 126 127 115 116 117 129 141 142 130 131 132 144\n"
     ]
    },
    {
     "name": "stderr",
     "output_type": "stream",
     "text": [
      "100%|██████████████████████████████████████████████████████████████████████████████████| 64/64 [00:30<00:00,  2.07it/s]\n"
     ]
    },
    {
     "name": "stdout",
     "output_type": "stream",
     "text": [
      "# of place cell using time shift shuffle method: 10.0 / 64\n"
     ]
    },
    {
     "name": "stderr",
     "output_type": "stream",
     "text": [
      "100%|██████████████████████████████████████████████████████████████████████████████████| 64/64 [00:30<00:00,  2.07it/s]\n"
     ]
    },
    {
     "name": "stdout",
     "output_type": "stream",
     "text": [
      "# of run cell using time shift shuffle method: 6.0 / 64\n",
      "M10028maze1Day5\n",
      "81    Z:/miniscope_recording/maze/4_21_2020/10028H18...\n",
      "Name: recording_folder_local, dtype: object\n",
      "The maze is bidirectional, Ye!\n",
      "Node 1 is Decision point\n",
      "Node 2 is Leaf node\n",
      "Node 13 is Decision point\n",
      "Node 6 is Decision point\n",
      "Node 8 is Leaf node\n",
      "Node 17 is Decision point\n",
      "Node 28 is Leaf node\n",
      "Node 30 is Decision point\n",
      "Node 24 is Decision point\n",
      "Node 84 is Decision point\n",
      "Node 94 is Decision point\n",
      "Node 55 is Decision point\n",
      "Node 43 is Leaf node\n",
      "Node 54 is Decision point\n",
      "Node 53 is Leaf node\n",
      "Node 51 is Decision point\n",
      "Node 39 is Decision point\n",
      "Node 40 is Leaf node\n",
      "Node 97 is Decision point\n",
      "Node 86 is Leaf node\n",
      "Node 109 is Decision point\n",
      "Node 129 is Decision point\n",
      "Node 139 is Leaf node\n",
      "Node 142 is Decision point\n",
      "Node 130 is Decision point\n",
      "Node 120 is Leaf node\n",
      "Node 144 is Leaf node\n",
      "Node 143 is Leaf node\n",
      "Node 135 is Leaf node\n",
      "Node 52 is Leaf node\n",
      "Node 93 is Leaf node\n",
      "Node 96 is Leaf node\n",
      "Node 35 is Leaf node\n",
      "Node 41 is Leaf node\n",
      "Node 25 is Leaf node\n",
      "Shortest path =  1 13 14 26 27 15 3 4 5 6 18 17 29 30 31 19 20 21 9 10 11 12 24 23 22 34 33 32 44 45 46 47 48 60 59 58 57 56 68 69 70 71 72 84 83 95 94 82 81 80 92 104 103 91 90 78 79 67 55 54 66 65 64 63 75 74 62 50 51 39 38 37 49 61 73 85 97 109 110 122 123 111 112 100 99 87 88 76 77 89 101 102 114 113 125 124 136 137 138 126 127 115 116 117 129 141 142 130 131 132 144\n",
      "Shortest path =  1 13 14 26 27 15 3 4 5 6 18 17 29 30 31 19 20 21 9 10 11 12 24 23 22 34 33 32 44 45 46 47 48 60 59 58 57 56 68 69 70 71 72 84 83 95 94 82 81 80 92 104 103 91 90 78 79 67 55 54 66 65 64 63 75 74 62 50 51 39 38 37 49 61 73 85 97 109 110 122 123 111 112 100 99 87 88 76 77 89 101 102 114 113 125 124 136 137 138 126 127 115 116 117 129 141 142 130 131 132 144\n"
     ]
    },
    {
     "name": "stderr",
     "output_type": "stream",
     "text": [
      "100%|██████████████████████████████████████████████████████████████████████████████████| 69/69 [00:59<00:00,  1.17it/s]\n"
     ]
    },
    {
     "name": "stdout",
     "output_type": "stream",
     "text": [
      "# of place cell using time shift shuffle method: 29.0 / 69\n"
     ]
    },
    {
     "name": "stderr",
     "output_type": "stream",
     "text": [
      "100%|██████████████████████████████████████████████████████████████████████████████████| 69/69 [00:58<00:00,  1.19it/s]\n"
     ]
    },
    {
     "name": "stdout",
     "output_type": "stream",
     "text": [
      "# of run cell using time shift shuffle method: 24.0 / 69\n",
      "M10028maze1Day6\n",
      "82    Z:/miniscope_recording/maze/4_22_2020/10028H16...\n",
      "Name: recording_folder_local, dtype: object\n",
      "The maze is bidirectional, Ye!\n",
      "Node 1 is Decision point\n",
      "Node 2 is Leaf node\n",
      "Node 13 is Decision point\n",
      "Node 6 is Decision point\n",
      "Node 8 is Leaf node\n",
      "Node 17 is Decision point\n",
      "Node 28 is Leaf node\n",
      "Node 30 is Decision point\n",
      "Node 24 is Decision point\n",
      "Node 84 is Decision point\n",
      "Node 94 is Decision point\n",
      "Node 55 is Decision point\n",
      "Node 43 is Leaf node\n",
      "Node 54 is Decision point\n",
      "Node 53 is Leaf node\n",
      "Node 51 is Decision point\n",
      "Node 39 is Decision point\n",
      "Node 40 is Leaf node\n",
      "Node 97 is Decision point\n",
      "Node 86 is Leaf node\n",
      "Node 109 is Decision point\n",
      "Node 129 is Decision point\n",
      "Node 139 is Leaf node\n",
      "Node 142 is Decision point\n",
      "Node 130 is Decision point\n",
      "Node 120 is Leaf node\n",
      "Node 144 is Leaf node\n",
      "Node 143 is Leaf node\n",
      "Node 135 is Leaf node\n",
      "Node 52 is Leaf node\n",
      "Node 93 is Leaf node\n",
      "Node 96 is Leaf node\n",
      "Node 35 is Leaf node\n",
      "Node 41 is Leaf node\n",
      "Node 25 is Leaf node\n",
      "Shortest path =  1 13 14 26 27 15 3 4 5 6 18 17 29 30 31 19 20 21 9 10 11 12 24 23 22 34 33 32 44 45 46 47 48 60 59 58 57 56 68 69 70 71 72 84 83 95 94 82 81 80 92 104 103 91 90 78 79 67 55 54 66 65 64 63 75 74 62 50 51 39 38 37 49 61 73 85 97 109 110 122 123 111 112 100 99 87 88 76 77 89 101 102 114 113 125 124 136 137 138 126 127 115 116 117 129 141 142 130 131 132 144\n",
      "Shortest path =  1 13 14 26 27 15 3 4 5 6 18 17 29 30 31 19 20 21 9 10 11 12 24 23 22 34 33 32 44 45 46 47 48 60 59 58 57 56 68 69 70 71 72 84 83 95 94 82 81 80 92 104 103 91 90 78 79 67 55 54 66 65 64 63 75 74 62 50 51 39 38 37 49 61 73 85 97 109 110 122 123 111 112 100 99 87 88 76 77 89 101 102 114 113 125 124 136 137 138 126 127 115 116 117 129 141 142 130 131 132 144\n"
     ]
    },
    {
     "name": "stderr",
     "output_type": "stream",
     "text": [
      "100%|██████████████████████████████████████████████████████████████████████████████████| 52/52 [00:16<00:00,  3.20it/s]\n"
     ]
    },
    {
     "name": "stdout",
     "output_type": "stream",
     "text": [
      "# of place cell using time shift shuffle method: 5.0 / 52\n"
     ]
    },
    {
     "name": "stderr",
     "output_type": "stream",
     "text": [
      "100%|██████████████████████████████████████████████████████████████████████████████████| 52/52 [00:17<00:00,  3.02it/s]\n"
     ]
    },
    {
     "name": "stdout",
     "output_type": "stream",
     "text": [
      "# of run cell using time shift shuffle method: 4.0 / 52\n",
      "M10028maze1Day7\n",
      "83    Z:/miniscope_recording/maze/4_23_2020/10028H15...\n",
      "Name: recording_folder_local, dtype: object\n",
      "The maze is bidirectional, Ye!\n",
      "Node 1 is Decision point\n",
      "Node 2 is Leaf node\n",
      "Node 13 is Decision point\n",
      "Node 6 is Decision point\n",
      "Node 8 is Leaf node\n",
      "Node 17 is Decision point\n",
      "Node 28 is Leaf node\n",
      "Node 30 is Decision point\n",
      "Node 24 is Decision point\n",
      "Node 84 is Decision point\n",
      "Node 94 is Decision point\n",
      "Node 55 is Decision point\n",
      "Node 43 is Leaf node\n",
      "Node 54 is Decision point\n",
      "Node 53 is Leaf node\n",
      "Node 51 is Decision point\n",
      "Node 39 is Decision point\n",
      "Node 40 is Leaf node\n",
      "Node 97 is Decision point\n",
      "Node 86 is Leaf node\n",
      "Node 109 is Decision point\n",
      "Node 129 is Decision point\n",
      "Node 139 is Leaf node\n",
      "Node 142 is Decision point\n",
      "Node 130 is Decision point\n",
      "Node 120 is Leaf node\n",
      "Node 144 is Leaf node\n",
      "Node 143 is Leaf node\n",
      "Node 135 is Leaf node\n",
      "Node 52 is Leaf node\n",
      "Node 93 is Leaf node\n",
      "Node 96 is Leaf node\n",
      "Node 35 is Leaf node\n",
      "Node 41 is Leaf node\n",
      "Node 25 is Leaf node\n",
      "Shortest path =  1 13 14 26 27 15 3 4 5 6 18 17 29 30 31 19 20 21 9 10 11 12 24 23 22 34 33 32 44 45 46 47 48 60 59 58 57 56 68 69 70 71 72 84 83 95 94 82 81 80 92 104 103 91 90 78 79 67 55 54 66 65 64 63 75 74 62 50 51 39 38 37 49 61 73 85 97 109 110 122 123 111 112 100 99 87 88 76 77 89 101 102 114 113 125 124 136 137 138 126 127 115 116 117 129 141 142 130 131 132 144\n",
      "Shortest path =  1 13 14 26 27 15 3 4 5 6 18 17 29 30 31 19 20 21 9 10 11 12 24 23 22 34 33 32 44 45 46 47 48 60 59 58 57 56 68 69 70 71 72 84 83 95 94 82 81 80 92 104 103 91 90 78 79 67 55 54 66 65 64 63 75 74 62 50 51 39 38 37 49 61 73 85 97 109 110 122 123 111 112 100 99 87 88 76 77 89 101 102 114 113 125 124 136 137 138 126 127 115 116 117 129 141 142 130 131 132 144\n"
     ]
    },
    {
     "name": "stderr",
     "output_type": "stream",
     "text": [
      "100%|██████████████████████████████████████████████████████████████████████████████████| 75/75 [00:33<00:00,  2.23it/s]\n"
     ]
    },
    {
     "name": "stdout",
     "output_type": "stream",
     "text": [
      "# of place cell using time shift shuffle method: 18.0 / 75\n"
     ]
    },
    {
     "name": "stderr",
     "output_type": "stream",
     "text": [
      "100%|██████████████████████████████████████████████████████████████████████████████████| 75/75 [00:33<00:00,  2.22it/s]\n"
     ]
    },
    {
     "name": "stdout",
     "output_type": "stream",
     "text": [
      "# of run cell using time shift shuffle method: 9.0 / 75\n",
      "M10028maze1Day8\n",
      "84    Z:/miniscope_recording/maze/4_24_2020/10028H16...\n",
      "Name: recording_folder_local, dtype: object\n",
      "The maze is bidirectional, Ye!\n",
      "Node 1 is Decision point\n",
      "Node 2 is Leaf node\n",
      "Node 13 is Decision point\n",
      "Node 6 is Decision point\n",
      "Node 8 is Leaf node\n",
      "Node 17 is Decision point\n",
      "Node 28 is Leaf node\n",
      "Node 30 is Decision point\n",
      "Node 24 is Decision point\n",
      "Node 84 is Decision point\n",
      "Node 94 is Decision point\n",
      "Node 55 is Decision point\n",
      "Node 43 is Leaf node\n",
      "Node 54 is Decision point\n",
      "Node 53 is Leaf node\n",
      "Node 51 is Decision point\n",
      "Node 39 is Decision point\n",
      "Node 40 is Leaf node\n",
      "Node 97 is Decision point\n",
      "Node 86 is Leaf node\n",
      "Node 109 is Decision point\n",
      "Node 129 is Decision point\n",
      "Node 139 is Leaf node\n",
      "Node 142 is Decision point\n",
      "Node 130 is Decision point\n",
      "Node 120 is Leaf node\n",
      "Node 144 is Leaf node\n",
      "Node 143 is Leaf node\n",
      "Node 135 is Leaf node\n",
      "Node 52 is Leaf node\n",
      "Node 93 is Leaf node\n",
      "Node 96 is Leaf node\n",
      "Node 35 is Leaf node\n",
      "Node 41 is Leaf node\n",
      "Node 25 is Leaf node\n",
      "Shortest path =  1 13 14 26 27 15 3 4 5 6 18 17 29 30 31 19 20 21 9 10 11 12 24 23 22 34 33 32 44 45 46 47 48 60 59 58 57 56 68 69 70 71 72 84 83 95 94 82 81 80 92 104 103 91 90 78 79 67 55 54 66 65 64 63 75 74 62 50 51 39 38 37 49 61 73 85 97 109 110 122 123 111 112 100 99 87 88 76 77 89 101 102 114 113 125 124 136 137 138 126 127 115 116 117 129 141 142 130 131 132 144\n",
      "Shortest path =  1 13 14 26 27 15 3 4 5 6 18 17 29 30 31 19 20 21 9 10 11 12 24 23 22 34 33 32 44 45 46 47 48 60 59 58 57 56 68 69 70 71 72 84 83 95 94 82 81 80 92 104 103 91 90 78 79 67 55 54 66 65 64 63 75 74 62 50 51 39 38 37 49 61 73 85 97 109 110 122 123 111 112 100 99 87 88 76 77 89 101 102 114 113 125 124 136 137 138 126 127 115 116 117 129 141 142 130 131 132 144\n"
     ]
    },
    {
     "name": "stderr",
     "output_type": "stream",
     "text": [
      "100%|██████████████████████████████████████████████████████████████████████████████████| 61/61 [00:23<00:00,  2.55it/s]\n"
     ]
    },
    {
     "name": "stdout",
     "output_type": "stream",
     "text": [
      "# of place cell using time shift shuffle method: 9.0 / 61\n"
     ]
    },
    {
     "name": "stderr",
     "output_type": "stream",
     "text": [
      "100%|██████████████████████████████████████████████████████████████████████████████████| 61/61 [00:24<00:00,  2.48it/s]\n"
     ]
    },
    {
     "name": "stdout",
     "output_type": "stream",
     "text": [
      "# of run cell using time shift shuffle method: 5.0 / 61\n",
      "M10028maze1Day9\n",
      "85    Z:/miniscope_recording/maze/4_25_2020/10028H16...\n",
      "Name: recording_folder_local, dtype: object\n",
      "The maze is bidirectional, Ye!\n",
      "Node 1 is Decision point\n",
      "Node 2 is Leaf node\n",
      "Node 13 is Decision point\n",
      "Node 6 is Decision point\n",
      "Node 8 is Leaf node\n",
      "Node 17 is Decision point\n",
      "Node 28 is Leaf node\n",
      "Node 30 is Decision point\n",
      "Node 24 is Decision point\n",
      "Node 84 is Decision point\n",
      "Node 94 is Decision point\n",
      "Node 55 is Decision point\n",
      "Node 43 is Leaf node\n",
      "Node 54 is Decision point\n",
      "Node 53 is Leaf node\n",
      "Node 51 is Decision point\n",
      "Node 39 is Decision point\n",
      "Node 40 is Leaf node\n",
      "Node 97 is Decision point\n",
      "Node 86 is Leaf node\n",
      "Node 109 is Decision point\n",
      "Node 129 is Decision point\n",
      "Node 139 is Leaf node\n",
      "Node 142 is Decision point\n",
      "Node 130 is Decision point\n",
      "Node 120 is Leaf node\n",
      "Node 144 is Leaf node\n",
      "Node 143 is Leaf node\n",
      "Node 135 is Leaf node\n",
      "Node 52 is Leaf node\n",
      "Node 93 is Leaf node\n",
      "Node 96 is Leaf node\n",
      "Node 35 is Leaf node\n",
      "Node 41 is Leaf node\n",
      "Node 25 is Leaf node\n",
      "Shortest path =  1 13 14 26 27 15 3 4 5 6 18 17 29 30 31 19 20 21 9 10 11 12 24 23 22 34 33 32 44 45 46 47 48 60 59 58 57 56 68 69 70 71 72 84 83 95 94 82 81 80 92 104 103 91 90 78 79 67 55 54 66 65 64 63 75 74 62 50 51 39 38 37 49 61 73 85 97 109 110 122 123 111 112 100 99 87 88 76 77 89 101 102 114 113 125 124 136 137 138 126 127 115 116 117 129 141 142 130 131 132 144\n",
      "Shortest path =  1 13 14 26 27 15 3 4 5 6 18 17 29 30 31 19 20 21 9 10 11 12 24 23 22 34 33 32 44 45 46 47 48 60 59 58 57 56 68 69 70 71 72 84 83 95 94 82 81 80 92 104 103 91 90 78 79 67 55 54 66 65 64 63 75 74 62 50 51 39 38 37 49 61 73 85 97 109 110 122 123 111 112 100 99 87 88 76 77 89 101 102 114 113 125 124 136 137 138 126 127 115 116 117 129 141 142 130 131 132 144\n"
     ]
    },
    {
     "name": "stderr",
     "output_type": "stream",
     "text": [
      "100%|██████████████████████████████████████████████████████████████████████████████████| 39/39 [00:10<00:00,  3.71it/s]\n"
     ]
    },
    {
     "name": "stdout",
     "output_type": "stream",
     "text": [
      "# of place cell using time shift shuffle method: 4.0 / 39\n"
     ]
    },
    {
     "name": "stderr",
     "output_type": "stream",
     "text": [
      "100%|██████████████████████████████████████████████████████████████████████████████████| 39/39 [00:11<00:00,  3.44it/s]\n"
     ]
    },
    {
     "name": "stdout",
     "output_type": "stream",
     "text": [
      "# of run cell using time shift shuffle method: 0.0 / 39\n",
      "M10030maze1Day1\n",
      "94    Z:/miniscope_recording/maze/4_17_2020/10030H17...\n",
      "Name: recording_folder_local, dtype: object\n",
      "The maze is bidirectional, Ye!\n",
      "Node 1 is Decision point\n",
      "Node 2 is Leaf node\n",
      "Node 13 is Decision point\n",
      "Node 6 is Decision point\n",
      "Node 8 is Leaf node\n",
      "Node 17 is Decision point\n",
      "Node 28 is Leaf node\n",
      "Node 30 is Decision point\n",
      "Node 24 is Decision point\n",
      "Node 84 is Decision point\n",
      "Node 94 is Decision point\n",
      "Node 55 is Decision point\n",
      "Node 43 is Leaf node\n",
      "Node 54 is Decision point\n",
      "Node 53 is Leaf node\n",
      "Node 51 is Decision point\n",
      "Node 39 is Decision point\n",
      "Node 40 is Leaf node\n",
      "Node 97 is Decision point\n",
      "Node 86 is Leaf node\n",
      "Node 109 is Decision point\n",
      "Node 129 is Decision point\n",
      "Node 139 is Leaf node\n",
      "Node 142 is Decision point\n",
      "Node 130 is Decision point\n",
      "Node 120 is Leaf node\n",
      "Node 144 is Leaf node\n",
      "Node 143 is Leaf node\n",
      "Node 135 is Leaf node\n",
      "Node 52 is Leaf node\n",
      "Node 93 is Leaf node\n",
      "Node 96 is Leaf node\n",
      "Node 35 is Leaf node\n",
      "Node 41 is Leaf node\n",
      "Node 25 is Leaf node\n",
      "Shortest path =  1 13 14 26 27 15 3 4 5 6 18 17 29 30 31 19 20 21 9 10 11 12 24 23 22 34 33 32 44 45 46 47 48 60 59 58 57 56 68 69 70 71 72 84 83 95 94 82 81 80 92 104 103 91 90 78 79 67 55 54 66 65 64 63 75 74 62 50 51 39 38 37 49 61 73 85 97 109 110 122 123 111 112 100 99 87 88 76 77 89 101 102 114 113 125 124 136 137 138 126 127 115 116 117 129 141 142 130 131 132 144\n",
      "Shortest path =  1 13 14 26 27 15 3 4 5 6 18 17 29 30 31 19 20 21 9 10 11 12 24 23 22 34 33 32 44 45 46 47 48 60 59 58 57 56 68 69 70 71 72 84 83 95 94 82 81 80 92 104 103 91 90 78 79 67 55 54 66 65 64 63 75 74 62 50 51 39 38 37 49 61 73 85 97 109 110 122 123 111 112 100 99 87 88 76 77 89 101 102 114 113 125 124 136 137 138 126 127 115 116 117 129 141 142 130 131 132 144\n"
     ]
    },
    {
     "name": "stderr",
     "output_type": "stream",
     "text": [
      "100%|████████████████████████████████████████████████████████████████████████████████| 101/101 [05:49<00:00,  3.46s/it]\n"
     ]
    },
    {
     "name": "stdout",
     "output_type": "stream",
     "text": [
      "# of place cell using time shift shuffle method: 62.0 / 101\n"
     ]
    },
    {
     "name": "stderr",
     "output_type": "stream",
     "text": [
      "100%|████████████████████████████████████████████████████████████████████████████████| 101/101 [05:36<00:00,  3.33s/it]\n"
     ]
    },
    {
     "name": "stdout",
     "output_type": "stream",
     "text": [
      "# of run cell using time shift shuffle method: 58.0 / 101\n",
      "M10030maze1Day2\n",
      "95    Z:/miniscope_recording/maze/4_18_2020/10030H14...\n",
      "Name: recording_folder_local, dtype: object\n",
      "The maze is bidirectional, Ye!\n",
      "Node 1 is Decision point\n",
      "Node 2 is Leaf node\n",
      "Node 13 is Decision point\n",
      "Node 6 is Decision point\n",
      "Node 8 is Leaf node\n",
      "Node 17 is Decision point\n",
      "Node 28 is Leaf node\n",
      "Node 30 is Decision point\n",
      "Node 24 is Decision point\n",
      "Node 84 is Decision point\n",
      "Node 94 is Decision point\n",
      "Node 55 is Decision point\n",
      "Node 43 is Leaf node\n",
      "Node 54 is Decision point\n",
      "Node 53 is Leaf node\n",
      "Node 51 is Decision point\n",
      "Node 39 is Decision point\n",
      "Node 40 is Leaf node\n",
      "Node 97 is Decision point\n",
      "Node 86 is Leaf node\n",
      "Node 109 is Decision point\n",
      "Node 129 is Decision point\n",
      "Node 139 is Leaf node\n",
      "Node 142 is Decision point\n",
      "Node 130 is Decision point\n",
      "Node 120 is Leaf node\n",
      "Node 144 is Leaf node\n",
      "Node 143 is Leaf node\n",
      "Node 135 is Leaf node\n",
      "Node 52 is Leaf node\n",
      "Node 93 is Leaf node\n",
      "Node 96 is Leaf node\n",
      "Node 35 is Leaf node\n",
      "Node 41 is Leaf node\n",
      "Node 25 is Leaf node\n",
      "Shortest path =  1 13 14 26 27 15 3 4 5 6 18 17 29 30 31 19 20 21 9 10 11 12 24 23 22 34 33 32 44 45 46 47 48 60 59 58 57 56 68 69 70 71 72 84 83 95 94 82 81 80 92 104 103 91 90 78 79 67 55 54 66 65 64 63 75 74 62 50 51 39 38 37 49 61 73 85 97 109 110 122 123 111 112 100 99 87 88 76 77 89 101 102 114 113 125 124 136 137 138 126 127 115 116 117 129 141 142 130 131 132 144\n",
      "Shortest path =  1 13 14 26 27 15 3 4 5 6 18 17 29 30 31 19 20 21 9 10 11 12 24 23 22 34 33 32 44 45 46 47 48 60 59 58 57 56 68 69 70 71 72 84 83 95 94 82 81 80 92 104 103 91 90 78 79 67 55 54 66 65 64 63 75 74 62 50 51 39 38 37 49 61 73 85 97 109 110 122 123 111 112 100 99 87 88 76 77 89 101 102 114 113 125 124 136 137 138 126 127 115 116 117 129 141 142 130 131 132 144\n"
     ]
    },
    {
     "name": "stderr",
     "output_type": "stream",
     "text": [
      "100%|██████████████████████████████████████████████████████████████████████████████████| 84/84 [01:16<00:00,  1.10it/s]\n"
     ]
    },
    {
     "name": "stdout",
     "output_type": "stream",
     "text": [
      "# of place cell using time shift shuffle method: 31.0 / 84\n"
     ]
    },
    {
     "name": "stderr",
     "output_type": "stream",
     "text": [
      "100%|██████████████████████████████████████████████████████████████████████████████████| 84/84 [01:15<00:00,  1.12it/s]\n"
     ]
    },
    {
     "name": "stdout",
     "output_type": "stream",
     "text": [
      "# of run cell using time shift shuffle method: 31.0 / 84\n",
      "M10030maze1Day3\n",
      "96    Z:/miniscope_recording/maze/4_19_2020/10030H15...\n",
      "Name: recording_folder_local, dtype: object\n",
      "The maze is bidirectional, Ye!\n",
      "Node 1 is Decision point\n",
      "Node 2 is Leaf node\n",
      "Node 13 is Decision point\n",
      "Node 6 is Decision point\n",
      "Node 8 is Leaf node\n",
      "Node 17 is Decision point\n",
      "Node 28 is Leaf node\n",
      "Node 30 is Decision point\n",
      "Node 24 is Decision point\n",
      "Node 84 is Decision point\n",
      "Node 94 is Decision point\n",
      "Node 55 is Decision point\n",
      "Node 43 is Leaf node\n",
      "Node 54 is Decision point\n",
      "Node 53 is Leaf node\n",
      "Node 51 is Decision point\n",
      "Node 39 is Decision point\n",
      "Node 40 is Leaf node\n",
      "Node 97 is Decision point\n",
      "Node 86 is Leaf node\n",
      "Node 109 is Decision point\n",
      "Node 129 is Decision point\n",
      "Node 139 is Leaf node\n",
      "Node 142 is Decision point\n",
      "Node 130 is Decision point\n",
      "Node 120 is Leaf node\n",
      "Node 144 is Leaf node\n",
      "Node 143 is Leaf node\n",
      "Node 135 is Leaf node\n",
      "Node 52 is Leaf node\n",
      "Node 93 is Leaf node\n",
      "Node 96 is Leaf node\n",
      "Node 35 is Leaf node\n",
      "Node 41 is Leaf node\n",
      "Node 25 is Leaf node\n",
      "Shortest path =  1 13 14 26 27 15 3 4 5 6 18 17 29 30 31 19 20 21 9 10 11 12 24 23 22 34 33 32 44 45 46 47 48 60 59 58 57 56 68 69 70 71 72 84 83 95 94 82 81 80 92 104 103 91 90 78 79 67 55 54 66 65 64 63 75 74 62 50 51 39 38 37 49 61 73 85 97 109 110 122 123 111 112 100 99 87 88 76 77 89 101 102 114 113 125 124 136 137 138 126 127 115 116 117 129 141 142 130 131 132 144\n",
      "Shortest path =  1 13 14 26 27 15 3 4 5 6 18 17 29 30 31 19 20 21 9 10 11 12 24 23 22 34 33 32 44 45 46 47 48 60 59 58 57 56 68 69 70 71 72 84 83 95 94 82 81 80 92 104 103 91 90 78 79 67 55 54 66 65 64 63 75 74 62 50 51 39 38 37 49 61 73 85 97 109 110 122 123 111 112 100 99 87 88 76 77 89 101 102 114 113 125 124 136 137 138 126 127 115 116 117 129 141 142 130 131 132 144\n"
     ]
    },
    {
     "name": "stderr",
     "output_type": "stream",
     "text": [
      "100%|████████████████████████████████████████████████████████████████████████████████| 109/109 [02:12<00:00,  1.22s/it]\n"
     ]
    },
    {
     "name": "stdout",
     "output_type": "stream",
     "text": [
      "# of place cell using time shift shuffle method: 88.0 / 109\n"
     ]
    },
    {
     "name": "stderr",
     "output_type": "stream",
     "text": [
      "100%|████████████████████████████████████████████████████████████████████████████████| 109/109 [02:13<00:00,  1.23s/it]\n"
     ]
    },
    {
     "name": "stdout",
     "output_type": "stream",
     "text": [
      "# of run cell using time shift shuffle method: 77.0 / 109\n",
      "M10030maze1Day4\n",
      "97    Z:/miniscope_recording/maze/4_20_2020/10030H16...\n",
      "Name: recording_folder_local, dtype: object\n",
      "The maze is bidirectional, Ye!\n",
      "Node 1 is Decision point\n",
      "Node 2 is Leaf node\n",
      "Node 13 is Decision point\n",
      "Node 6 is Decision point\n",
      "Node 8 is Leaf node\n",
      "Node 17 is Decision point\n",
      "Node 28 is Leaf node\n",
      "Node 30 is Decision point\n",
      "Node 24 is Decision point\n",
      "Node 84 is Decision point\n",
      "Node 94 is Decision point\n",
      "Node 55 is Decision point\n",
      "Node 43 is Leaf node\n",
      "Node 54 is Decision point\n",
      "Node 53 is Leaf node\n",
      "Node 51 is Decision point\n",
      "Node 39 is Decision point\n",
      "Node 40 is Leaf node\n",
      "Node 97 is Decision point\n",
      "Node 86 is Leaf node\n",
      "Node 109 is Decision point\n",
      "Node 129 is Decision point\n",
      "Node 139 is Leaf node\n",
      "Node 142 is Decision point\n",
      "Node 130 is Decision point\n",
      "Node 120 is Leaf node\n",
      "Node 144 is Leaf node\n",
      "Node 143 is Leaf node\n",
      "Node 135 is Leaf node\n",
      "Node 52 is Leaf node\n",
      "Node 93 is Leaf node\n",
      "Node 96 is Leaf node\n",
      "Node 35 is Leaf node\n",
      "Node 41 is Leaf node\n",
      "Node 25 is Leaf node\n",
      "Shortest path =  1 13 14 26 27 15 3 4 5 6 18 17 29 30 31 19 20 21 9 10 11 12 24 23 22 34 33 32 44 45 46 47 48 60 59 58 57 56 68 69 70 71 72 84 83 95 94 82 81 80 92 104 103 91 90 78 79 67 55 54 66 65 64 63 75 74 62 50 51 39 38 37 49 61 73 85 97 109 110 122 123 111 112 100 99 87 88 76 77 89 101 102 114 113 125 124 136 137 138 126 127 115 116 117 129 141 142 130 131 132 144\n",
      "Shortest path =  1 13 14 26 27 15 3 4 5 6 18 17 29 30 31 19 20 21 9 10 11 12 24 23 22 34 33 32 44 45 46 47 48 60 59 58 57 56 68 69 70 71 72 84 83 95 94 82 81 80 92 104 103 91 90 78 79 67 55 54 66 65 64 63 75 74 62 50 51 39 38 37 49 61 73 85 97 109 110 122 123 111 112 100 99 87 88 76 77 89 101 102 114 113 125 124 136 137 138 126 127 115 116 117 129 141 142 130 131 132 144\n"
     ]
    },
    {
     "name": "stderr",
     "output_type": "stream",
     "text": [
      "100%|██████████████████████████████████████████████████████████████████████████████████| 83/83 [01:52<00:00,  1.35s/it]\n"
     ]
    },
    {
     "name": "stdout",
     "output_type": "stream",
     "text": [
      "# of place cell using time shift shuffle method: 55.0 / 83\n"
     ]
    },
    {
     "name": "stderr",
     "output_type": "stream",
     "text": [
      "100%|██████████████████████████████████████████████████████████████████████████████████| 83/83 [01:49<00:00,  1.31s/it]\n"
     ]
    },
    {
     "name": "stdout",
     "output_type": "stream",
     "text": [
      "# of run cell using time shift shuffle method: 37.0 / 83\n",
      "M10030maze1Day5\n",
      "98    Z:/miniscope_recording/maze/4_21_2020/10030H17...\n",
      "Name: recording_folder_local, dtype: object\n",
      "The maze is bidirectional, Ye!\n",
      "Node 1 is Decision point\n",
      "Node 2 is Leaf node\n",
      "Node 13 is Decision point\n",
      "Node 6 is Decision point\n",
      "Node 8 is Leaf node\n",
      "Node 17 is Decision point\n",
      "Node 28 is Leaf node\n",
      "Node 30 is Decision point\n",
      "Node 24 is Decision point\n",
      "Node 84 is Decision point\n",
      "Node 94 is Decision point\n",
      "Node 55 is Decision point\n",
      "Node 43 is Leaf node\n",
      "Node 54 is Decision point\n",
      "Node 53 is Leaf node\n",
      "Node 51 is Decision point\n",
      "Node 39 is Decision point\n",
      "Node 40 is Leaf node\n",
      "Node 97 is Decision point\n",
      "Node 86 is Leaf node\n",
      "Node 109 is Decision point\n",
      "Node 129 is Decision point\n",
      "Node 139 is Leaf node\n",
      "Node 142 is Decision point\n",
      "Node 130 is Decision point\n",
      "Node 120 is Leaf node\n",
      "Node 144 is Leaf node\n",
      "Node 143 is Leaf node\n",
      "Node 135 is Leaf node\n",
      "Node 52 is Leaf node\n",
      "Node 93 is Leaf node\n",
      "Node 96 is Leaf node\n",
      "Node 35 is Leaf node\n",
      "Node 41 is Leaf node\n",
      "Node 25 is Leaf node\n",
      "Shortest path =  1 13 14 26 27 15 3 4 5 6 18 17 29 30 31 19 20 21 9 10 11 12 24 23 22 34 33 32 44 45 46 47 48 60 59 58 57 56 68 69 70 71 72 84 83 95 94 82 81 80 92 104 103 91 90 78 79 67 55 54 66 65 64 63 75 74 62 50 51 39 38 37 49 61 73 85 97 109 110 122 123 111 112 100 99 87 88 76 77 89 101 102 114 113 125 124 136 137 138 126 127 115 116 117 129 141 142 130 131 132 144\n",
      "Shortest path =  1 13 14 26 27 15 3 4 5 6 18 17 29 30 31 19 20 21 9 10 11 12 24 23 22 34 33 32 44 45 46 47 48 60 59 58 57 56 68 69 70 71 72 84 83 95 94 82 81 80 92 104 103 91 90 78 79 67 55 54 66 65 64 63 75 74 62 50 51 39 38 37 49 61 73 85 97 109 110 122 123 111 112 100 99 87 88 76 77 89 101 102 114 113 125 124 136 137 138 126 127 115 116 117 129 141 142 130 131 132 144\n"
     ]
    },
    {
     "name": "stderr",
     "output_type": "stream",
     "text": [
      "100%|██████████████████████████████████████████████████████████████████████████████████| 67/67 [02:29<00:00,  2.23s/it]\n"
     ]
    },
    {
     "name": "stdout",
     "output_type": "stream",
     "text": [
      "# of place cell using time shift shuffle method: 63.0 / 67\n"
     ]
    },
    {
     "name": "stderr",
     "output_type": "stream",
     "text": [
      "100%|██████████████████████████████████████████████████████████████████████████████████| 67/67 [02:24<00:00,  2.16s/it]\n"
     ]
    },
    {
     "name": "stdout",
     "output_type": "stream",
     "text": [
      "# of run cell using time shift shuffle method: 52.0 / 67\n",
      "M10030maze1Day6\n",
      "99    Z:/miniscope_recording/maze/4_22_2020/10030H15...\n",
      "Name: recording_folder_local, dtype: object\n",
      "The maze is bidirectional, Ye!\n",
      "Node 1 is Decision point\n",
      "Node 2 is Leaf node\n",
      "Node 13 is Decision point\n",
      "Node 6 is Decision point\n",
      "Node 8 is Leaf node\n",
      "Node 17 is Decision point\n",
      "Node 28 is Leaf node\n",
      "Node 30 is Decision point\n",
      "Node 24 is Decision point\n",
      "Node 84 is Decision point\n",
      "Node 94 is Decision point\n",
      "Node 55 is Decision point\n",
      "Node 43 is Leaf node\n",
      "Node 54 is Decision point\n",
      "Node 53 is Leaf node\n",
      "Node 51 is Decision point\n",
      "Node 39 is Decision point\n",
      "Node 40 is Leaf node\n",
      "Node 97 is Decision point\n",
      "Node 86 is Leaf node\n",
      "Node 109 is Decision point\n",
      "Node 129 is Decision point\n",
      "Node 139 is Leaf node\n",
      "Node 142 is Decision point\n",
      "Node 130 is Decision point\n",
      "Node 120 is Leaf node\n",
      "Node 144 is Leaf node\n",
      "Node 143 is Leaf node\n",
      "Node 135 is Leaf node\n",
      "Node 52 is Leaf node\n",
      "Node 93 is Leaf node\n",
      "Node 96 is Leaf node\n",
      "Node 35 is Leaf node\n",
      "Node 41 is Leaf node\n",
      "Node 25 is Leaf node\n",
      "Shortest path =  1 13 14 26 27 15 3 4 5 6 18 17 29 30 31 19 20 21 9 10 11 12 24 23 22 34 33 32 44 45 46 47 48 60 59 58 57 56 68 69 70 71 72 84 83 95 94 82 81 80 92 104 103 91 90 78 79 67 55 54 66 65 64 63 75 74 62 50 51 39 38 37 49 61 73 85 97 109 110 122 123 111 112 100 99 87 88 76 77 89 101 102 114 113 125 124 136 137 138 126 127 115 116 117 129 141 142 130 131 132 144\n",
      "Shortest path =  1 13 14 26 27 15 3 4 5 6 18 17 29 30 31 19 20 21 9 10 11 12 24 23 22 34 33 32 44 45 46 47 48 60 59 58 57 56 68 69 70 71 72 84 83 95 94 82 81 80 92 104 103 91 90 78 79 67 55 54 66 65 64 63 75 74 62 50 51 39 38 37 49 61 73 85 97 109 110 122 123 111 112 100 99 87 88 76 77 89 101 102 114 113 125 124 136 137 138 126 127 115 116 117 129 141 142 130 131 132 144\n"
     ]
    },
    {
     "name": "stderr",
     "output_type": "stream",
     "text": [
      "100%|██████████████████████████████████████████████████████████████████████████████████| 15/15 [00:16<00:00,  1.09s/it]\n"
     ]
    },
    {
     "name": "stdout",
     "output_type": "stream",
     "text": [
      "# of place cell using time shift shuffle method: 13.0 / 15\n"
     ]
    },
    {
     "name": "stderr",
     "output_type": "stream",
     "text": [
      "100%|██████████████████████████████████████████████████████████████████████████████████| 15/15 [00:15<00:00,  1.06s/it]\n"
     ]
    },
    {
     "name": "stdout",
     "output_type": "stream",
     "text": [
      "# of run cell using time shift shuffle method: 12.0 / 15\n",
      "M10030maze1Day7\n",
      "100    Z:/miniscope_recording/maze/4_23_2020/10030H15...\n",
      "Name: recording_folder_local, dtype: object\n",
      "The maze is bidirectional, Ye!\n",
      "Node 1 is Decision point\n",
      "Node 2 is Leaf node\n",
      "Node 13 is Decision point\n",
      "Node 6 is Decision point\n",
      "Node 8 is Leaf node\n",
      "Node 17 is Decision point\n",
      "Node 28 is Leaf node\n",
      "Node 30 is Decision point\n",
      "Node 24 is Decision point\n",
      "Node 84 is Decision point\n",
      "Node 94 is Decision point\n",
      "Node 55 is Decision point\n",
      "Node 43 is Leaf node\n",
      "Node 54 is Decision point\n",
      "Node 53 is Leaf node\n",
      "Node 51 is Decision point\n",
      "Node 39 is Decision point\n",
      "Node 40 is Leaf node\n",
      "Node 97 is Decision point\n",
      "Node 86 is Leaf node\n",
      "Node 109 is Decision point\n",
      "Node 129 is Decision point\n",
      "Node 139 is Leaf node\n",
      "Node 142 is Decision point\n",
      "Node 130 is Decision point\n",
      "Node 120 is Leaf node\n",
      "Node 144 is Leaf node\n",
      "Node 143 is Leaf node\n",
      "Node 135 is Leaf node\n",
      "Node 52 is Leaf node\n",
      "Node 93 is Leaf node\n",
      "Node 96 is Leaf node\n",
      "Node 35 is Leaf node\n",
      "Node 41 is Leaf node\n",
      "Node 25 is Leaf node\n",
      "Shortest path =  1 13 14 26 27 15 3 4 5 6 18 17 29 30 31 19 20 21 9 10 11 12 24 23 22 34 33 32 44 45 46 47 48 60 59 58 57 56 68 69 70 71 72 84 83 95 94 82 81 80 92 104 103 91 90 78 79 67 55 54 66 65 64 63 75 74 62 50 51 39 38 37 49 61 73 85 97 109 110 122 123 111 112 100 99 87 88 76 77 89 101 102 114 113 125 124 136 137 138 126 127 115 116 117 129 141 142 130 131 132 144\n",
      "Shortest path =  1 13 14 26 27 15 3 4 5 6 18 17 29 30 31 19 20 21 9 10 11 12 24 23 22 34 33 32 44 45 46 47 48 60 59 58 57 56 68 69 70 71 72 84 83 95 94 82 81 80 92 104 103 91 90 78 79 67 55 54 66 65 64 63 75 74 62 50 51 39 38 37 49 61 73 85 97 109 110 122 123 111 112 100 99 87 88 76 77 89 101 102 114 113 125 124 136 137 138 126 127 115 116 117 129 141 142 130 131 132 144\n"
     ]
    },
    {
     "name": "stderr",
     "output_type": "stream",
     "text": [
      "100%|██████████████████████████████████████████████████████████████████████████████████| 54/54 [00:23<00:00,  2.27it/s]\n"
     ]
    },
    {
     "name": "stdout",
     "output_type": "stream",
     "text": [
      "# of place cell using time shift shuffle method: 4.0 / 54\n"
     ]
    },
    {
     "name": "stderr",
     "output_type": "stream",
     "text": [
      "100%|██████████████████████████████████████████████████████████████████████████████████| 54/54 [00:24<00:00,  2.22it/s]\n"
     ]
    },
    {
     "name": "stdout",
     "output_type": "stream",
     "text": [
      "# of run cell using time shift shuffle method: 8.0 / 54\n",
      "M10030maze1Day8\n",
      "101    Z:/miniscope_recording/maze/4_24_2020/10030H15...\n",
      "Name: recording_folder_local, dtype: object\n",
      "The maze is bidirectional, Ye!\n",
      "Node 1 is Decision point\n",
      "Node 2 is Leaf node\n",
      "Node 13 is Decision point\n",
      "Node 6 is Decision point\n",
      "Node 8 is Leaf node\n",
      "Node 17 is Decision point\n",
      "Node 28 is Leaf node\n",
      "Node 30 is Decision point\n",
      "Node 24 is Decision point\n",
      "Node 84 is Decision point\n",
      "Node 94 is Decision point\n",
      "Node 55 is Decision point\n",
      "Node 43 is Leaf node\n",
      "Node 54 is Decision point\n",
      "Node 53 is Leaf node\n",
      "Node 51 is Decision point\n",
      "Node 39 is Decision point\n",
      "Node 40 is Leaf node\n",
      "Node 97 is Decision point\n",
      "Node 86 is Leaf node\n",
      "Node 109 is Decision point\n",
      "Node 129 is Decision point\n",
      "Node 139 is Leaf node\n",
      "Node 142 is Decision point\n",
      "Node 130 is Decision point\n",
      "Node 120 is Leaf node\n",
      "Node 144 is Leaf node\n",
      "Node 143 is Leaf node\n",
      "Node 135 is Leaf node\n",
      "Node 52 is Leaf node\n",
      "Node 93 is Leaf node\n",
      "Node 96 is Leaf node\n",
      "Node 35 is Leaf node\n",
      "Node 41 is Leaf node\n",
      "Node 25 is Leaf node\n",
      "Shortest path =  1 13 14 26 27 15 3 4 5 6 18 17 29 30 31 19 20 21 9 10 11 12 24 23 22 34 33 32 44 45 46 47 48 60 59 58 57 56 68 69 70 71 72 84 83 95 94 82 81 80 92 104 103 91 90 78 79 67 55 54 66 65 64 63 75 74 62 50 51 39 38 37 49 61 73 85 97 109 110 122 123 111 112 100 99 87 88 76 77 89 101 102 114 113 125 124 136 137 138 126 127 115 116 117 129 141 142 130 131 132 144\n",
      "Shortest path =  1 13 14 26 27 15 3 4 5 6 18 17 29 30 31 19 20 21 9 10 11 12 24 23 22 34 33 32 44 45 46 47 48 60 59 58 57 56 68 69 70 71 72 84 83 95 94 82 81 80 92 104 103 91 90 78 79 67 55 54 66 65 64 63 75 74 62 50 51 39 38 37 49 61 73 85 97 109 110 122 123 111 112 100 99 87 88 76 77 89 101 102 114 113 125 124 136 137 138 126 127 115 116 117 129 141 142 130 131 132 144\n"
     ]
    },
    {
     "name": "stderr",
     "output_type": "stream",
     "text": [
      "100%|██████████████████████████████████████████████████████████████████████████████████| 60/60 [00:49<00:00,  1.22it/s]\n"
     ]
    },
    {
     "name": "stdout",
     "output_type": "stream",
     "text": [
      "# of place cell using time shift shuffle method: 26.0 / 60\n"
     ]
    },
    {
     "name": "stderr",
     "output_type": "stream",
     "text": [
      "100%|██████████████████████████████████████████████████████████████████████████████████| 60/60 [00:48<00:00,  1.24it/s]\n"
     ]
    },
    {
     "name": "stdout",
     "output_type": "stream",
     "text": [
      "# of run cell using time shift shuffle method: 19.0 / 60\n",
      "M10030maze1Day9\n",
      "102    Z:/miniscope_recording/maze/4_25_2020/10030H16...\n",
      "Name: recording_folder_local, dtype: object\n",
      "The maze is bidirectional, Ye!\n",
      "Node 1 is Decision point\n",
      "Node 2 is Leaf node\n",
      "Node 13 is Decision point\n",
      "Node 6 is Decision point\n",
      "Node 8 is Leaf node\n",
      "Node 17 is Decision point\n",
      "Node 28 is Leaf node\n",
      "Node 30 is Decision point\n",
      "Node 24 is Decision point\n",
      "Node 84 is Decision point\n",
      "Node 94 is Decision point\n",
      "Node 55 is Decision point\n",
      "Node 43 is Leaf node\n",
      "Node 54 is Decision point\n",
      "Node 53 is Leaf node\n",
      "Node 51 is Decision point\n",
      "Node 39 is Decision point\n",
      "Node 40 is Leaf node\n",
      "Node 97 is Decision point\n",
      "Node 86 is Leaf node\n",
      "Node 109 is Decision point\n",
      "Node 129 is Decision point\n",
      "Node 139 is Leaf node\n",
      "Node 142 is Decision point\n",
      "Node 130 is Decision point\n",
      "Node 120 is Leaf node\n",
      "Node 144 is Leaf node\n",
      "Node 143 is Leaf node\n",
      "Node 135 is Leaf node\n",
      "Node 52 is Leaf node\n",
      "Node 93 is Leaf node\n",
      "Node 96 is Leaf node\n",
      "Node 35 is Leaf node\n",
      "Node 41 is Leaf node\n",
      "Node 25 is Leaf node\n",
      "Shortest path =  1 13 14 26 27 15 3 4 5 6 18 17 29 30 31 19 20 21 9 10 11 12 24 23 22 34 33 32 44 45 46 47 48 60 59 58 57 56 68 69 70 71 72 84 83 95 94 82 81 80 92 104 103 91 90 78 79 67 55 54 66 65 64 63 75 74 62 50 51 39 38 37 49 61 73 85 97 109 110 122 123 111 112 100 99 87 88 76 77 89 101 102 114 113 125 124 136 137 138 126 127 115 116 117 129 141 142 130 131 132 144\n",
      "Shortest path =  1 13 14 26 27 15 3 4 5 6 18 17 29 30 31 19 20 21 9 10 11 12 24 23 22 34 33 32 44 45 46 47 48 60 59 58 57 56 68 69 70 71 72 84 83 95 94 82 81 80 92 104 103 91 90 78 79 67 55 54 66 65 64 63 75 74 62 50 51 39 38 37 49 61 73 85 97 109 110 122 123 111 112 100 99 87 88 76 77 89 101 102 114 113 125 124 136 137 138 126 127 115 116 117 129 141 142 130 131 132 144\n"
     ]
    },
    {
     "name": "stderr",
     "output_type": "stream",
     "text": [
      "100%|██████████████████████████████████████████████████████████████████████████████████| 38/38 [00:13<00:00,  2.74it/s]\n"
     ]
    },
    {
     "name": "stdout",
     "output_type": "stream",
     "text": [
      "# of place cell using time shift shuffle method: 3.0 / 38\n"
     ]
    },
    {
     "name": "stderr",
     "output_type": "stream",
     "text": [
      "100%|██████████████████████████████████████████████████████████████████████████████████| 38/38 [00:14<00:00,  2.62it/s]\n"
     ]
    },
    {
     "name": "stdout",
     "output_type": "stream",
     "text": [
      "# of run cell using time shift shuffle method: 2.0 / 38\n",
      "M10031maze1Day1\n",
      "128    Z:/miniscope_recording/maze/4_18_2020/10031H13...\n",
      "Name: recording_folder_local, dtype: object\n",
      "The maze is bidirectional, Ye!\n",
      "Node 1 is Decision point\n",
      "Node 2 is Leaf node\n",
      "Node 13 is Decision point\n",
      "Node 6 is Decision point\n",
      "Node 8 is Leaf node\n",
      "Node 17 is Decision point\n",
      "Node 28 is Leaf node\n",
      "Node 30 is Decision point\n",
      "Node 24 is Decision point\n",
      "Node 84 is Decision point\n",
      "Node 94 is Decision point\n",
      "Node 55 is Decision point\n",
      "Node 43 is Leaf node\n",
      "Node 54 is Decision point\n",
      "Node 53 is Leaf node\n",
      "Node 51 is Decision point\n",
      "Node 39 is Decision point\n",
      "Node 40 is Leaf node\n",
      "Node 97 is Decision point\n",
      "Node 86 is Leaf node\n",
      "Node 109 is Decision point\n",
      "Node 129 is Decision point\n",
      "Node 139 is Leaf node\n",
      "Node 142 is Decision point\n",
      "Node 130 is Decision point\n",
      "Node 120 is Leaf node\n",
      "Node 144 is Leaf node\n",
      "Node 143 is Leaf node\n",
      "Node 135 is Leaf node\n",
      "Node 52 is Leaf node\n",
      "Node 93 is Leaf node\n",
      "Node 96 is Leaf node\n",
      "Node 35 is Leaf node\n",
      "Node 41 is Leaf node\n",
      "Node 25 is Leaf node\n",
      "Shortest path =  1 13 14 26 27 15 3 4 5 6 18 17 29 30 31 19 20 21 9 10 11 12 24 23 22 34 33 32 44 45 46 47 48 60 59 58 57 56 68 69 70 71 72 84 83 95 94 82 81 80 92 104 103 91 90 78 79 67 55 54 66 65 64 63 75 74 62 50 51 39 38 37 49 61 73 85 97 109 110 122 123 111 112 100 99 87 88 76 77 89 101 102 114 113 125 124 136 137 138 126 127 115 116 117 129 141 142 130 131 132 144\n",
      "Shortest path =  1 13 14 26 27 15 3 4 5 6 18 17 29 30 31 19 20 21 9 10 11 12 24 23 22 34 33 32 44 45 46 47 48 60 59 58 57 56 68 69 70 71 72 84 83 95 94 82 81 80 92 104 103 91 90 78 79 67 55 54 66 65 64 63 75 74 62 50 51 39 38 37 49 61 73 85 97 109 110 122 123 111 112 100 99 87 88 76 77 89 101 102 114 113 125 124 136 137 138 126 127 115 116 117 129 141 142 130 131 132 144\n"
     ]
    },
    {
     "name": "stderr",
     "output_type": "stream",
     "text": [
      "100%|████████████████████████████████████████████████████████████████████████████████| 144/144 [09:27<00:00,  3.94s/it]\n"
     ]
    },
    {
     "name": "stdout",
     "output_type": "stream",
     "text": [
      "# of place cell using time shift shuffle method: 101.0 / 144\n"
     ]
    },
    {
     "name": "stderr",
     "output_type": "stream",
     "text": [
      "100%|████████████████████████████████████████████████████████████████████████████████| 144/144 [09:14<00:00,  3.85s/it]\n"
     ]
    },
    {
     "name": "stdout",
     "output_type": "stream",
     "text": [
      "# of run cell using time shift shuffle method: 96.0 / 144\n",
      "M10031maze1Day2\n",
      "129    Z:/miniscope_recording/maze/4_19_2020/10031H15...\n",
      "Name: recording_folder_local, dtype: object\n",
      "The maze is bidirectional, Ye!\n",
      "Node 1 is Decision point\n",
      "Node 2 is Leaf node\n",
      "Node 13 is Decision point\n",
      "Node 6 is Decision point\n",
      "Node 8 is Leaf node\n",
      "Node 17 is Decision point\n",
      "Node 28 is Leaf node\n",
      "Node 30 is Decision point\n",
      "Node 24 is Decision point\n",
      "Node 84 is Decision point\n",
      "Node 94 is Decision point\n",
      "Node 55 is Decision point\n",
      "Node 43 is Leaf node\n",
      "Node 54 is Decision point\n",
      "Node 53 is Leaf node\n",
      "Node 51 is Decision point\n",
      "Node 39 is Decision point\n",
      "Node 40 is Leaf node\n",
      "Node 97 is Decision point\n",
      "Node 86 is Leaf node\n",
      "Node 109 is Decision point\n",
      "Node 129 is Decision point\n",
      "Node 139 is Leaf node\n",
      "Node 142 is Decision point\n",
      "Node 130 is Decision point\n",
      "Node 120 is Leaf node\n",
      "Node 144 is Leaf node\n",
      "Node 143 is Leaf node\n",
      "Node 135 is Leaf node\n",
      "Node 52 is Leaf node\n",
      "Node 93 is Leaf node\n",
      "Node 96 is Leaf node\n",
      "Node 35 is Leaf node\n",
      "Node 41 is Leaf node\n",
      "Node 25 is Leaf node\n",
      "Shortest path =  1 13 14 26 27 15 3 4 5 6 18 17 29 30 31 19 20 21 9 10 11 12 24 23 22 34 33 32 44 45 46 47 48 60 59 58 57 56 68 69 70 71 72 84 83 95 94 82 81 80 92 104 103 91 90 78 79 67 55 54 66 65 64 63 75 74 62 50 51 39 38 37 49 61 73 85 97 109 110 122 123 111 112 100 99 87 88 76 77 89 101 102 114 113 125 124 136 137 138 126 127 115 116 117 129 141 142 130 131 132 144\n",
      "Shortest path =  1 13 14 26 27 15 3 4 5 6 18 17 29 30 31 19 20 21 9 10 11 12 24 23 22 34 33 32 44 45 46 47 48 60 59 58 57 56 68 69 70 71 72 84 83 95 94 82 81 80 92 104 103 91 90 78 79 67 55 54 66 65 64 63 75 74 62 50 51 39 38 37 49 61 73 85 97 109 110 122 123 111 112 100 99 87 88 76 77 89 101 102 114 113 125 124 136 137 138 126 127 115 116 117 129 141 142 130 131 132 144\n"
     ]
    },
    {
     "name": "stderr",
     "output_type": "stream",
     "text": [
      "100%|████████████████████████████████████████████████████████████████████████████████| 135/135 [02:10<00:00,  1.03it/s]\n"
     ]
    },
    {
     "name": "stdout",
     "output_type": "stream",
     "text": [
      "# of place cell using time shift shuffle method: 39.0 / 135\n"
     ]
    },
    {
     "name": "stderr",
     "output_type": "stream",
     "text": [
      "100%|████████████████████████████████████████████████████████████████████████████████| 135/135 [02:07<00:00,  1.06it/s]\n"
     ]
    },
    {
     "name": "stdout",
     "output_type": "stream",
     "text": [
      "# of run cell using time shift shuffle method: 32.0 / 135\n",
      "M10031maze1Day3\n",
      "130    Z:/miniscope_recording/maze/4_20_2020/10031H16...\n",
      "Name: recording_folder_local, dtype: object\n",
      "The maze is bidirectional, Ye!\n",
      "Node 1 is Decision point\n",
      "Node 2 is Leaf node\n",
      "Node 13 is Decision point\n",
      "Node 6 is Decision point\n",
      "Node 8 is Leaf node\n",
      "Node 17 is Decision point\n",
      "Node 28 is Leaf node\n",
      "Node 30 is Decision point\n",
      "Node 24 is Decision point\n",
      "Node 84 is Decision point\n",
      "Node 94 is Decision point\n",
      "Node 55 is Decision point\n",
      "Node 43 is Leaf node\n",
      "Node 54 is Decision point\n",
      "Node 53 is Leaf node\n",
      "Node 51 is Decision point\n",
      "Node 39 is Decision point\n",
      "Node 40 is Leaf node\n",
      "Node 97 is Decision point\n",
      "Node 86 is Leaf node\n",
      "Node 109 is Decision point\n",
      "Node 129 is Decision point\n",
      "Node 139 is Leaf node\n",
      "Node 142 is Decision point\n",
      "Node 130 is Decision point\n",
      "Node 120 is Leaf node\n",
      "Node 144 is Leaf node\n",
      "Node 143 is Leaf node\n",
      "Node 135 is Leaf node\n",
      "Node 52 is Leaf node\n",
      "Node 93 is Leaf node\n",
      "Node 96 is Leaf node\n",
      "Node 35 is Leaf node\n",
      "Node 41 is Leaf node\n",
      "Node 25 is Leaf node\n",
      "Shortest path =  1 13 14 26 27 15 3 4 5 6 18 17 29 30 31 19 20 21 9 10 11 12 24 23 22 34 33 32 44 45 46 47 48 60 59 58 57 56 68 69 70 71 72 84 83 95 94 82 81 80 92 104 103 91 90 78 79 67 55 54 66 65 64 63 75 74 62 50 51 39 38 37 49 61 73 85 97 109 110 122 123 111 112 100 99 87 88 76 77 89 101 102 114 113 125 124 136 137 138 126 127 115 116 117 129 141 142 130 131 132 144\n",
      "Shortest path =  1 13 14 26 27 15 3 4 5 6 18 17 29 30 31 19 20 21 9 10 11 12 24 23 22 34 33 32 44 45 46 47 48 60 59 58 57 56 68 69 70 71 72 84 83 95 94 82 81 80 92 104 103 91 90 78 79 67 55 54 66 65 64 63 75 74 62 50 51 39 38 37 49 61 73 85 97 109 110 122 123 111 112 100 99 87 88 76 77 89 101 102 114 113 125 124 136 137 138 126 127 115 116 117 129 141 142 130 131 132 144\n"
     ]
    },
    {
     "name": "stderr",
     "output_type": "stream",
     "text": [
      "100%|████████████████████████████████████████████████████████████████████████████████| 165/165 [05:26<00:00,  1.98s/it]\n"
     ]
    },
    {
     "name": "stdout",
     "output_type": "stream",
     "text": [
      "# of place cell using time shift shuffle method: 46.0 / 165\n"
     ]
    },
    {
     "name": "stderr",
     "output_type": "stream",
     "text": [
      "100%|████████████████████████████████████████████████████████████████████████████████| 165/165 [05:27<00:00,  1.98s/it]\n"
     ]
    },
    {
     "name": "stdout",
     "output_type": "stream",
     "text": [
      "# of run cell using time shift shuffle method: 55.0 / 165\n",
      "M10031maze1Day4\n",
      "131    Z:/miniscope_recording/maze/4_21_2020/10031H17...\n",
      "Name: recording_folder_local, dtype: object\n",
      "The maze is bidirectional, Ye!\n",
      "Node 1 is Decision point\n",
      "Node 2 is Leaf node\n",
      "Node 13 is Decision point\n",
      "Node 6 is Decision point\n",
      "Node 8 is Leaf node\n",
      "Node 17 is Decision point\n",
      "Node 28 is Leaf node\n",
      "Node 30 is Decision point\n",
      "Node 24 is Decision point\n",
      "Node 84 is Decision point\n",
      "Node 94 is Decision point\n",
      "Node 55 is Decision point\n",
      "Node 43 is Leaf node\n",
      "Node 54 is Decision point\n",
      "Node 53 is Leaf node\n",
      "Node 51 is Decision point\n",
      "Node 39 is Decision point\n",
      "Node 40 is Leaf node\n",
      "Node 97 is Decision point\n",
      "Node 86 is Leaf node\n",
      "Node 109 is Decision point\n",
      "Node 129 is Decision point\n",
      "Node 139 is Leaf node\n",
      "Node 142 is Decision point\n",
      "Node 130 is Decision point\n",
      "Node 120 is Leaf node\n",
      "Node 144 is Leaf node\n",
      "Node 143 is Leaf node\n",
      "Node 135 is Leaf node\n",
      "Node 52 is Leaf node\n",
      "Node 93 is Leaf node\n",
      "Node 96 is Leaf node\n",
      "Node 35 is Leaf node\n",
      "Node 41 is Leaf node\n",
      "Node 25 is Leaf node\n",
      "Shortest path =  1 13 14 26 27 15 3 4 5 6 18 17 29 30 31 19 20 21 9 10 11 12 24 23 22 34 33 32 44 45 46 47 48 60 59 58 57 56 68 69 70 71 72 84 83 95 94 82 81 80 92 104 103 91 90 78 79 67 55 54 66 65 64 63 75 74 62 50 51 39 38 37 49 61 73 85 97 109 110 122 123 111 112 100 99 87 88 76 77 89 101 102 114 113 125 124 136 137 138 126 127 115 116 117 129 141 142 130 131 132 144\n",
      "Shortest path =  1 13 14 26 27 15 3 4 5 6 18 17 29 30 31 19 20 21 9 10 11 12 24 23 22 34 33 32 44 45 46 47 48 60 59 58 57 56 68 69 70 71 72 84 83 95 94 82 81 80 92 104 103 91 90 78 79 67 55 54 66 65 64 63 75 74 62 50 51 39 38 37 49 61 73 85 97 109 110 122 123 111 112 100 99 87 88 76 77 89 101 102 114 113 125 124 136 137 138 126 127 115 116 117 129 141 142 130 131 132 144\n"
     ]
    },
    {
     "name": "stderr",
     "output_type": "stream",
     "text": [
      "100%|██████████████████████████████████████████████████████████████████████████████████| 85/85 [00:56<00:00,  1.51it/s]\n"
     ]
    },
    {
     "name": "stdout",
     "output_type": "stream",
     "text": [
      "# of place cell using time shift shuffle method: 6.0 / 85\n"
     ]
    },
    {
     "name": "stderr",
     "output_type": "stream",
     "text": [
      "100%|██████████████████████████████████████████████████████████████████████████████████| 85/85 [00:57<00:00,  1.49it/s]\n"
     ]
    },
    {
     "name": "stdout",
     "output_type": "stream",
     "text": [
      "# of run cell using time shift shuffle method: 12.0 / 85\n",
      "M10031maze1Day5\n",
      "132    Z:/miniscope_recording/maze/4_22_2020/10031H14...\n",
      "Name: recording_folder_local, dtype: object\n",
      "The maze is bidirectional, Ye!\n",
      "Node 1 is Decision point\n",
      "Node 2 is Leaf node\n",
      "Node 13 is Decision point\n",
      "Node 6 is Decision point\n",
      "Node 8 is Leaf node\n",
      "Node 17 is Decision point\n",
      "Node 28 is Leaf node\n",
      "Node 30 is Decision point\n",
      "Node 24 is Decision point\n",
      "Node 84 is Decision point\n",
      "Node 94 is Decision point\n",
      "Node 55 is Decision point\n",
      "Node 43 is Leaf node\n",
      "Node 54 is Decision point\n",
      "Node 53 is Leaf node\n",
      "Node 51 is Decision point\n",
      "Node 39 is Decision point\n",
      "Node 40 is Leaf node\n",
      "Node 97 is Decision point\n",
      "Node 86 is Leaf node\n",
      "Node 109 is Decision point\n",
      "Node 129 is Decision point\n",
      "Node 139 is Leaf node\n",
      "Node 142 is Decision point\n",
      "Node 130 is Decision point\n",
      "Node 120 is Leaf node\n",
      "Node 144 is Leaf node\n",
      "Node 143 is Leaf node\n",
      "Node 135 is Leaf node\n",
      "Node 52 is Leaf node\n",
      "Node 93 is Leaf node\n",
      "Node 96 is Leaf node\n",
      "Node 35 is Leaf node\n",
      "Node 41 is Leaf node\n",
      "Node 25 is Leaf node\n",
      "Shortest path =  1 13 14 26 27 15 3 4 5 6 18 17 29 30 31 19 20 21 9 10 11 12 24 23 22 34 33 32 44 45 46 47 48 60 59 58 57 56 68 69 70 71 72 84 83 95 94 82 81 80 92 104 103 91 90 78 79 67 55 54 66 65 64 63 75 74 62 50 51 39 38 37 49 61 73 85 97 109 110 122 123 111 112 100 99 87 88 76 77 89 101 102 114 113 125 124 136 137 138 126 127 115 116 117 129 141 142 130 131 132 144\n",
      "Shortest path =  1 13 14 26 27 15 3 4 5 6 18 17 29 30 31 19 20 21 9 10 11 12 24 23 22 34 33 32 44 45 46 47 48 60 59 58 57 56 68 69 70 71 72 84 83 95 94 82 81 80 92 104 103 91 90 78 79 67 55 54 66 65 64 63 75 74 62 50 51 39 38 37 49 61 73 85 97 109 110 122 123 111 112 100 99 87 88 76 77 89 101 102 114 113 125 124 136 137 138 126 127 115 116 117 129 141 142 130 131 132 144\n"
     ]
    },
    {
     "name": "stderr",
     "output_type": "stream",
     "text": [
      "100%|████████████████████████████████████████████████████████████████████████████████| 100/100 [02:45<00:00,  1.66s/it]\n"
     ]
    },
    {
     "name": "stdout",
     "output_type": "stream",
     "text": [
      "# of place cell using time shift shuffle method: 75.0 / 100\n"
     ]
    },
    {
     "name": "stderr",
     "output_type": "stream",
     "text": [
      "100%|████████████████████████████████████████████████████████████████████████████████| 100/100 [02:44<00:00,  1.64s/it]\n"
     ]
    },
    {
     "name": "stdout",
     "output_type": "stream",
     "text": [
      "# of run cell using time shift shuffle method: 64.0 / 100\n",
      "M10031maze1Day6\n",
      "133    Z:/miniscope_recording/maze/4_23_2020/10031H14...\n",
      "Name: recording_folder_local, dtype: object\n",
      "The maze is bidirectional, Ye!\n",
      "Node 1 is Decision point\n",
      "Node 2 is Leaf node\n",
      "Node 13 is Decision point\n",
      "Node 6 is Decision point\n",
      "Node 8 is Leaf node\n",
      "Node 17 is Decision point\n",
      "Node 28 is Leaf node\n",
      "Node 30 is Decision point\n",
      "Node 24 is Decision point\n",
      "Node 84 is Decision point\n",
      "Node 94 is Decision point\n",
      "Node 55 is Decision point\n",
      "Node 43 is Leaf node\n",
      "Node 54 is Decision point\n",
      "Node 53 is Leaf node\n",
      "Node 51 is Decision point\n",
      "Node 39 is Decision point\n",
      "Node 40 is Leaf node\n",
      "Node 97 is Decision point\n",
      "Node 86 is Leaf node\n",
      "Node 109 is Decision point\n",
      "Node 129 is Decision point\n",
      "Node 139 is Leaf node\n",
      "Node 142 is Decision point\n",
      "Node 130 is Decision point\n",
      "Node 120 is Leaf node\n",
      "Node 144 is Leaf node\n",
      "Node 143 is Leaf node\n",
      "Node 135 is Leaf node\n",
      "Node 52 is Leaf node\n",
      "Node 93 is Leaf node\n",
      "Node 96 is Leaf node\n",
      "Node 35 is Leaf node\n",
      "Node 41 is Leaf node\n",
      "Node 25 is Leaf node\n",
      "Shortest path =  1 13 14 26 27 15 3 4 5 6 18 17 29 30 31 19 20 21 9 10 11 12 24 23 22 34 33 32 44 45 46 47 48 60 59 58 57 56 68 69 70 71 72 84 83 95 94 82 81 80 92 104 103 91 90 78 79 67 55 54 66 65 64 63 75 74 62 50 51 39 38 37 49 61 73 85 97 109 110 122 123 111 112 100 99 87 88 76 77 89 101 102 114 113 125 124 136 137 138 126 127 115 116 117 129 141 142 130 131 132 144\n",
      "Shortest path =  1 13 14 26 27 15 3 4 5 6 18 17 29 30 31 19 20 21 9 10 11 12 24 23 22 34 33 32 44 45 46 47 48 60 59 58 57 56 68 69 70 71 72 84 83 95 94 82 81 80 92 104 103 91 90 78 79 67 55 54 66 65 64 63 75 74 62 50 51 39 38 37 49 61 73 85 97 109 110 122 123 111 112 100 99 87 88 76 77 89 101 102 114 113 125 124 136 137 138 126 127 115 116 117 129 141 142 130 131 132 144\n"
     ]
    },
    {
     "name": "stderr",
     "output_type": "stream",
     "text": [
      "100%|████████████████████████████████████████████████████████████████████████████████| 106/106 [01:17<00:00,  1.37it/s]\n"
     ]
    },
    {
     "name": "stdout",
     "output_type": "stream",
     "text": [
      "# of place cell using time shift shuffle method: 16.0 / 106\n"
     ]
    },
    {
     "name": "stderr",
     "output_type": "stream",
     "text": [
      "100%|████████████████████████████████████████████████████████████████████████████████| 106/106 [01:17<00:00,  1.36it/s]\n"
     ]
    },
    {
     "name": "stdout",
     "output_type": "stream",
     "text": [
      "# of run cell using time shift shuffle method: 13.0 / 106\n",
      "M10031maze1Day7\n",
      "134    Z:/miniscope_recording/maze/4_24_2020/10031H15...\n",
      "Name: recording_folder_local, dtype: object\n",
      "The maze is bidirectional, Ye!\n",
      "Node 1 is Decision point\n",
      "Node 2 is Leaf node\n",
      "Node 13 is Decision point\n",
      "Node 6 is Decision point\n",
      "Node 8 is Leaf node\n",
      "Node 17 is Decision point\n",
      "Node 28 is Leaf node\n",
      "Node 30 is Decision point\n",
      "Node 24 is Decision point\n",
      "Node 84 is Decision point\n",
      "Node 94 is Decision point\n",
      "Node 55 is Decision point\n",
      "Node 43 is Leaf node\n",
      "Node 54 is Decision point\n",
      "Node 53 is Leaf node\n",
      "Node 51 is Decision point\n",
      "Node 39 is Decision point\n",
      "Node 40 is Leaf node\n",
      "Node 97 is Decision point\n",
      "Node 86 is Leaf node\n",
      "Node 109 is Decision point\n",
      "Node 129 is Decision point\n",
      "Node 139 is Leaf node\n",
      "Node 142 is Decision point\n",
      "Node 130 is Decision point\n",
      "Node 120 is Leaf node\n",
      "Node 144 is Leaf node\n",
      "Node 143 is Leaf node\n",
      "Node 135 is Leaf node\n",
      "Node 52 is Leaf node\n",
      "Node 93 is Leaf node\n",
      "Node 96 is Leaf node\n",
      "Node 35 is Leaf node\n",
      "Node 41 is Leaf node\n",
      "Node 25 is Leaf node\n",
      "Shortest path =  1 13 14 26 27 15 3 4 5 6 18 17 29 30 31 19 20 21 9 10 11 12 24 23 22 34 33 32 44 45 46 47 48 60 59 58 57 56 68 69 70 71 72 84 83 95 94 82 81 80 92 104 103 91 90 78 79 67 55 54 66 65 64 63 75 74 62 50 51 39 38 37 49 61 73 85 97 109 110 122 123 111 112 100 99 87 88 76 77 89 101 102 114 113 125 124 136 137 138 126 127 115 116 117 129 141 142 130 131 132 144\n",
      "Shortest path =  1 13 14 26 27 15 3 4 5 6 18 17 29 30 31 19 20 21 9 10 11 12 24 23 22 34 33 32 44 45 46 47 48 60 59 58 57 56 68 69 70 71 72 84 83 95 94 82 81 80 92 104 103 91 90 78 79 67 55 54 66 65 64 63 75 74 62 50 51 39 38 37 49 61 73 85 97 109 110 122 123 111 112 100 99 87 88 76 77 89 101 102 114 113 125 124 136 137 138 126 127 115 116 117 129 141 142 130 131 132 144\n"
     ]
    },
    {
     "name": "stderr",
     "output_type": "stream",
     "text": [
      "100%|██████████████████████████████████████████████████████████████████████████████████| 69/69 [00:36<00:00,  1.88it/s]\n"
     ]
    },
    {
     "name": "stdout",
     "output_type": "stream",
     "text": [
      "# of place cell using time shift shuffle method: 13.0 / 69\n"
     ]
    },
    {
     "name": "stderr",
     "output_type": "stream",
     "text": [
      "100%|██████████████████████████████████████████████████████████████████████████████████| 69/69 [00:37<00:00,  1.85it/s]\n"
     ]
    },
    {
     "name": "stdout",
     "output_type": "stream",
     "text": [
      "# of run cell using time shift shuffle method: 11.0 / 69\n",
      "M10031maze1Day8\n",
      "135    Z:/miniscope_recording/maze/4_25_2020/10031H15...\n",
      "Name: recording_folder_local, dtype: object\n",
      "The maze is bidirectional, Ye!\n",
      "Node 1 is Decision point\n",
      "Node 2 is Leaf node\n",
      "Node 13 is Decision point\n",
      "Node 6 is Decision point\n",
      "Node 8 is Leaf node\n",
      "Node 17 is Decision point\n",
      "Node 28 is Leaf node\n",
      "Node 30 is Decision point\n",
      "Node 24 is Decision point\n",
      "Node 84 is Decision point\n",
      "Node 94 is Decision point\n",
      "Node 55 is Decision point\n",
      "Node 43 is Leaf node\n",
      "Node 54 is Decision point\n",
      "Node 53 is Leaf node\n",
      "Node 51 is Decision point\n",
      "Node 39 is Decision point\n",
      "Node 40 is Leaf node\n",
      "Node 97 is Decision point\n",
      "Node 86 is Leaf node\n",
      "Node 109 is Decision point\n",
      "Node 129 is Decision point\n",
      "Node 139 is Leaf node\n",
      "Node 142 is Decision point\n",
      "Node 130 is Decision point\n",
      "Node 120 is Leaf node\n",
      "Node 144 is Leaf node\n",
      "Node 143 is Leaf node\n",
      "Node 135 is Leaf node\n",
      "Node 52 is Leaf node\n",
      "Node 93 is Leaf node\n",
      "Node 96 is Leaf node\n",
      "Node 35 is Leaf node\n",
      "Node 41 is Leaf node\n",
      "Node 25 is Leaf node\n",
      "Shortest path =  1 13 14 26 27 15 3 4 5 6 18 17 29 30 31 19 20 21 9 10 11 12 24 23 22 34 33 32 44 45 46 47 48 60 59 58 57 56 68 69 70 71 72 84 83 95 94 82 81 80 92 104 103 91 90 78 79 67 55 54 66 65 64 63 75 74 62 50 51 39 38 37 49 61 73 85 97 109 110 122 123 111 112 100 99 87 88 76 77 89 101 102 114 113 125 124 136 137 138 126 127 115 116 117 129 141 142 130 131 132 144\n",
      "Shortest path =  1 13 14 26 27 15 3 4 5 6 18 17 29 30 31 19 20 21 9 10 11 12 24 23 22 34 33 32 44 45 46 47 48 60 59 58 57 56 68 69 70 71 72 84 83 95 94 82 81 80 92 104 103 91 90 78 79 67 55 54 66 65 64 63 75 74 62 50 51 39 38 37 49 61 73 85 97 109 110 122 123 111 112 100 99 87 88 76 77 89 101 102 114 113 125 124 136 137 138 126 127 115 116 117 129 141 142 130 131 132 144\n"
     ]
    },
    {
     "name": "stderr",
     "output_type": "stream",
     "text": [
      "100%|██████████████████████████████████████████████████████████████████████████████████| 90/90 [01:14<00:00,  1.21it/s]\n"
     ]
    },
    {
     "name": "stdout",
     "output_type": "stream",
     "text": [
      "# of place cell using time shift shuffle method: 55.0 / 90\n"
     ]
    },
    {
     "name": "stderr",
     "output_type": "stream",
     "text": [
      "100%|██████████████████████████████████████████████████████████████████████████████████| 90/90 [01:13<00:00,  1.22it/s]\n"
     ]
    },
    {
     "name": "stdout",
     "output_type": "stream",
     "text": [
      "# of run cell using time shift shuffle method: 48.0 / 90\n",
      "M10032maze1Day1\n",
      "111    Z:/miniscope_recording/maze/4_17_2020/10032H18...\n",
      "Name: recording_folder_local, dtype: object\n",
      "The maze is bidirectional, Ye!\n",
      "Node 1 is Decision point\n",
      "Node 2 is Leaf node\n",
      "Node 13 is Decision point\n",
      "Node 6 is Decision point\n",
      "Node 8 is Leaf node\n",
      "Node 17 is Decision point\n",
      "Node 28 is Leaf node\n",
      "Node 30 is Decision point\n",
      "Node 24 is Decision point\n",
      "Node 84 is Decision point\n",
      "Node 94 is Decision point\n",
      "Node 55 is Decision point\n",
      "Node 43 is Leaf node\n",
      "Node 54 is Decision point\n",
      "Node 53 is Leaf node\n",
      "Node 51 is Decision point\n",
      "Node 39 is Decision point\n",
      "Node 40 is Leaf node\n",
      "Node 97 is Decision point\n",
      "Node 86 is Leaf node\n",
      "Node 109 is Decision point\n",
      "Node 129 is Decision point\n",
      "Node 139 is Leaf node\n",
      "Node 142 is Decision point\n",
      "Node 130 is Decision point\n",
      "Node 120 is Leaf node\n",
      "Node 144 is Leaf node\n",
      "Node 143 is Leaf node\n",
      "Node 135 is Leaf node\n",
      "Node 52 is Leaf node\n",
      "Node 93 is Leaf node\n",
      "Node 96 is Leaf node\n",
      "Node 35 is Leaf node\n",
      "Node 41 is Leaf node\n",
      "Node 25 is Leaf node\n",
      "Shortest path =  1 13 14 26 27 15 3 4 5 6 18 17 29 30 31 19 20 21 9 10 11 12 24 23 22 34 33 32 44 45 46 47 48 60 59 58 57 56 68 69 70 71 72 84 83 95 94 82 81 80 92 104 103 91 90 78 79 67 55 54 66 65 64 63 75 74 62 50 51 39 38 37 49 61 73 85 97 109 110 122 123 111 112 100 99 87 88 76 77 89 101 102 114 113 125 124 136 137 138 126 127 115 116 117 129 141 142 130 131 132 144\n",
      "Shortest path =  1 13 14 26 27 15 3 4 5 6 18 17 29 30 31 19 20 21 9 10 11 12 24 23 22 34 33 32 44 45 46 47 48 60 59 58 57 56 68 69 70 71 72 84 83 95 94 82 81 80 92 104 103 91 90 78 79 67 55 54 66 65 64 63 75 74 62 50 51 39 38 37 49 61 73 85 97 109 110 122 123 111 112 100 99 87 88 76 77 89 101 102 114 113 125 124 136 137 138 126 127 115 116 117 129 141 142 130 131 132 144\n"
     ]
    },
    {
     "name": "stderr",
     "output_type": "stream",
     "text": [
      "100%|██████████████████████████████████████████████████████████████████████████████████| 72/72 [04:05<00:00,  3.41s/it]\n"
     ]
    },
    {
     "name": "stdout",
     "output_type": "stream",
     "text": [
      "# of place cell using time shift shuffle method: 48.0 / 72\n"
     ]
    },
    {
     "name": "stderr",
     "output_type": "stream",
     "text": [
      "100%|██████████████████████████████████████████████████████████████████████████████████| 72/72 [04:00<00:00,  3.34s/it]\n"
     ]
    },
    {
     "name": "stdout",
     "output_type": "stream",
     "text": [
      "# of run cell using time shift shuffle method: 41.0 / 72\n",
      "M10032maze1Day2\n",
      "112    Z:/miniscope_recording/maze/4_18_2020/10032H15...\n",
      "Name: recording_folder_local, dtype: object\n",
      "The maze is bidirectional, Ye!\n",
      "Node 1 is Decision point\n",
      "Node 2 is Leaf node\n",
      "Node 13 is Decision point\n",
      "Node 6 is Decision point\n",
      "Node 8 is Leaf node\n",
      "Node 17 is Decision point\n",
      "Node 28 is Leaf node\n",
      "Node 30 is Decision point\n",
      "Node 24 is Decision point\n",
      "Node 84 is Decision point\n",
      "Node 94 is Decision point\n",
      "Node 55 is Decision point\n",
      "Node 43 is Leaf node\n",
      "Node 54 is Decision point\n",
      "Node 53 is Leaf node\n",
      "Node 51 is Decision point\n",
      "Node 39 is Decision point\n",
      "Node 40 is Leaf node\n",
      "Node 97 is Decision point\n",
      "Node 86 is Leaf node\n",
      "Node 109 is Decision point\n",
      "Node 129 is Decision point\n",
      "Node 139 is Leaf node\n",
      "Node 142 is Decision point\n",
      "Node 130 is Decision point\n",
      "Node 120 is Leaf node\n",
      "Node 144 is Leaf node\n",
      "Node 143 is Leaf node\n",
      "Node 135 is Leaf node\n",
      "Node 52 is Leaf node\n",
      "Node 93 is Leaf node\n",
      "Node 96 is Leaf node\n",
      "Node 35 is Leaf node\n",
      "Node 41 is Leaf node\n",
      "Node 25 is Leaf node\n",
      "Shortest path =  1 13 14 26 27 15 3 4 5 6 18 17 29 30 31 19 20 21 9 10 11 12 24 23 22 34 33 32 44 45 46 47 48 60 59 58 57 56 68 69 70 71 72 84 83 95 94 82 81 80 92 104 103 91 90 78 79 67 55 54 66 65 64 63 75 74 62 50 51 39 38 37 49 61 73 85 97 109 110 122 123 111 112 100 99 87 88 76 77 89 101 102 114 113 125 124 136 137 138 126 127 115 116 117 129 141 142 130 131 132 144\n",
      "Shortest path =  1 13 14 26 27 15 3 4 5 6 18 17 29 30 31 19 20 21 9 10 11 12 24 23 22 34 33 32 44 45 46 47 48 60 59 58 57 56 68 69 70 71 72 84 83 95 94 82 81 80 92 104 103 91 90 78 79 67 55 54 66 65 64 63 75 74 62 50 51 39 38 37 49 61 73 85 97 109 110 122 123 111 112 100 99 87 88 76 77 89 101 102 114 113 125 124 136 137 138 126 127 115 116 117 129 141 142 130 131 132 144\n"
     ]
    },
    {
     "name": "stderr",
     "output_type": "stream",
     "text": [
      "100%|██████████████████████████████████████████████████████████████████████████████████| 72/72 [01:26<00:00,  1.20s/it]\n"
     ]
    },
    {
     "name": "stdout",
     "output_type": "stream",
     "text": [
      "# of place cell using time shift shuffle method: 50.0 / 72\n"
     ]
    },
    {
     "name": "stderr",
     "output_type": "stream",
     "text": [
      "100%|██████████████████████████████████████████████████████████████████████████████████| 72/72 [01:26<00:00,  1.20s/it]\n"
     ]
    },
    {
     "name": "stdout",
     "output_type": "stream",
     "text": [
      "# of run cell using time shift shuffle method: 39.0 / 72\n",
      "M10032maze1Day3\n",
      "113    Z:/miniscope_recording/maze/4_19_2020/10032H14...\n",
      "Name: recording_folder_local, dtype: object\n",
      "The maze is bidirectional, Ye!\n",
      "Node 1 is Decision point\n",
      "Node 2 is Leaf node\n",
      "Node 13 is Decision point\n",
      "Node 6 is Decision point\n",
      "Node 8 is Leaf node\n",
      "Node 17 is Decision point\n",
      "Node 28 is Leaf node\n",
      "Node 30 is Decision point\n",
      "Node 24 is Decision point\n",
      "Node 84 is Decision point\n",
      "Node 94 is Decision point\n",
      "Node 55 is Decision point\n",
      "Node 43 is Leaf node\n",
      "Node 54 is Decision point\n",
      "Node 53 is Leaf node\n",
      "Node 51 is Decision point\n",
      "Node 39 is Decision point\n",
      "Node 40 is Leaf node\n",
      "Node 97 is Decision point\n",
      "Node 86 is Leaf node\n",
      "Node 109 is Decision point\n",
      "Node 129 is Decision point\n",
      "Node 139 is Leaf node\n",
      "Node 142 is Decision point\n",
      "Node 130 is Decision point\n",
      "Node 120 is Leaf node\n",
      "Node 144 is Leaf node\n",
      "Node 143 is Leaf node\n",
      "Node 135 is Leaf node\n",
      "Node 52 is Leaf node\n",
      "Node 93 is Leaf node\n",
      "Node 96 is Leaf node\n",
      "Node 35 is Leaf node\n",
      "Node 41 is Leaf node\n",
      "Node 25 is Leaf node\n",
      "Shortest path =  1 13 14 26 27 15 3 4 5 6 18 17 29 30 31 19 20 21 9 10 11 12 24 23 22 34 33 32 44 45 46 47 48 60 59 58 57 56 68 69 70 71 72 84 83 95 94 82 81 80 92 104 103 91 90 78 79 67 55 54 66 65 64 63 75 74 62 50 51 39 38 37 49 61 73 85 97 109 110 122 123 111 112 100 99 87 88 76 77 89 101 102 114 113 125 124 136 137 138 126 127 115 116 117 129 141 142 130 131 132 144\n",
      "Shortest path =  1 13 14 26 27 15 3 4 5 6 18 17 29 30 31 19 20 21 9 10 11 12 24 23 22 34 33 32 44 45 46 47 48 60 59 58 57 56 68 69 70 71 72 84 83 95 94 82 81 80 92 104 103 91 90 78 79 67 55 54 66 65 64 63 75 74 62 50 51 39 38 37 49 61 73 85 97 109 110 122 123 111 112 100 99 87 88 76 77 89 101 102 114 113 125 124 136 137 138 126 127 115 116 117 129 141 142 130 131 132 144\n"
     ]
    },
    {
     "name": "stderr",
     "output_type": "stream",
     "text": [
      "100%|██████████████████████████████████████████████████████████████████████████████████| 70/70 [01:23<00:00,  1.19s/it]\n"
     ]
    },
    {
     "name": "stdout",
     "output_type": "stream",
     "text": [
      "# of place cell using time shift shuffle method: 45.0 / 70\n"
     ]
    },
    {
     "name": "stderr",
     "output_type": "stream",
     "text": [
      "100%|██████████████████████████████████████████████████████████████████████████████████| 70/70 [01:22<00:00,  1.17s/it]\n"
     ]
    },
    {
     "name": "stdout",
     "output_type": "stream",
     "text": [
      "# of run cell using time shift shuffle method: 27.0 / 70\n",
      "M10032maze1Day4\n",
      "114    Z:/miniscope_recording/maze/4_20_2020/10032H16...\n",
      "Name: recording_folder_local, dtype: object\n",
      "The maze is bidirectional, Ye!\n",
      "Node 1 is Decision point\n",
      "Node 2 is Leaf node\n",
      "Node 13 is Decision point\n",
      "Node 6 is Decision point\n",
      "Node 8 is Leaf node\n",
      "Node 17 is Decision point\n",
      "Node 28 is Leaf node\n",
      "Node 30 is Decision point\n",
      "Node 24 is Decision point\n",
      "Node 84 is Decision point\n",
      "Node 94 is Decision point\n",
      "Node 55 is Decision point\n",
      "Node 43 is Leaf node\n",
      "Node 54 is Decision point\n",
      "Node 53 is Leaf node\n",
      "Node 51 is Decision point\n",
      "Node 39 is Decision point\n",
      "Node 40 is Leaf node\n",
      "Node 97 is Decision point\n",
      "Node 86 is Leaf node\n",
      "Node 109 is Decision point\n",
      "Node 129 is Decision point\n",
      "Node 139 is Leaf node\n",
      "Node 142 is Decision point\n",
      "Node 130 is Decision point\n",
      "Node 120 is Leaf node\n",
      "Node 144 is Leaf node\n",
      "Node 143 is Leaf node\n",
      "Node 135 is Leaf node\n",
      "Node 52 is Leaf node\n",
      "Node 93 is Leaf node\n",
      "Node 96 is Leaf node\n",
      "Node 35 is Leaf node\n",
      "Node 41 is Leaf node\n",
      "Node 25 is Leaf node\n",
      "Shortest path =  1 13 14 26 27 15 3 4 5 6 18 17 29 30 31 19 20 21 9 10 11 12 24 23 22 34 33 32 44 45 46 47 48 60 59 58 57 56 68 69 70 71 72 84 83 95 94 82 81 80 92 104 103 91 90 78 79 67 55 54 66 65 64 63 75 74 62 50 51 39 38 37 49 61 73 85 97 109 110 122 123 111 112 100 99 87 88 76 77 89 101 102 114 113 125 124 136 137 138 126 127 115 116 117 129 141 142 130 131 132 144\n",
      "Shortest path =  1 13 14 26 27 15 3 4 5 6 18 17 29 30 31 19 20 21 9 10 11 12 24 23 22 34 33 32 44 45 46 47 48 60 59 58 57 56 68 69 70 71 72 84 83 95 94 82 81 80 92 104 103 91 90 78 79 67 55 54 66 65 64 63 75 74 62 50 51 39 38 37 49 61 73 85 97 109 110 122 123 111 112 100 99 87 88 76 77 89 101 102 114 113 125 124 136 137 138 126 127 115 116 117 129 141 142 130 131 132 144\n"
     ]
    },
    {
     "name": "stderr",
     "output_type": "stream",
     "text": [
      "100%|██████████████████████████████████████████████████████████████████████████████████| 80/80 [01:07<00:00,  1.18it/s]\n"
     ]
    },
    {
     "name": "stdout",
     "output_type": "stream",
     "text": [
      "# of place cell using time shift shuffle method: 62.0 / 80\n"
     ]
    },
    {
     "name": "stderr",
     "output_type": "stream",
     "text": [
      "100%|██████████████████████████████████████████████████████████████████████████████████| 80/80 [01:07<00:00,  1.19it/s]\n"
     ]
    },
    {
     "name": "stdout",
     "output_type": "stream",
     "text": [
      "# of run cell using time shift shuffle method: 28.0 / 80\n",
      "M10032maze1Day5\n",
      "115    Z:/miniscope_recording/maze/4_21_2020/10032H16...\n",
      "Name: recording_folder_local, dtype: object\n",
      "The maze is bidirectional, Ye!\n",
      "Node 1 is Decision point\n",
      "Node 2 is Leaf node\n",
      "Node 13 is Decision point\n",
      "Node 6 is Decision point\n",
      "Node 8 is Leaf node\n",
      "Node 17 is Decision point\n",
      "Node 28 is Leaf node\n",
      "Node 30 is Decision point\n",
      "Node 24 is Decision point\n",
      "Node 84 is Decision point\n",
      "Node 94 is Decision point\n",
      "Node 55 is Decision point\n",
      "Node 43 is Leaf node\n",
      "Node 54 is Decision point\n",
      "Node 53 is Leaf node\n",
      "Node 51 is Decision point\n",
      "Node 39 is Decision point\n",
      "Node 40 is Leaf node\n",
      "Node 97 is Decision point\n",
      "Node 86 is Leaf node\n",
      "Node 109 is Decision point\n",
      "Node 129 is Decision point\n",
      "Node 139 is Leaf node\n",
      "Node 142 is Decision point\n",
      "Node 130 is Decision point\n",
      "Node 120 is Leaf node\n",
      "Node 144 is Leaf node\n",
      "Node 143 is Leaf node\n",
      "Node 135 is Leaf node\n",
      "Node 52 is Leaf node\n",
      "Node 93 is Leaf node\n",
      "Node 96 is Leaf node\n",
      "Node 35 is Leaf node\n",
      "Node 41 is Leaf node\n",
      "Node 25 is Leaf node\n",
      "Shortest path =  1 13 14 26 27 15 3 4 5 6 18 17 29 30 31 19 20 21 9 10 11 12 24 23 22 34 33 32 44 45 46 47 48 60 59 58 57 56 68 69 70 71 72 84 83 95 94 82 81 80 92 104 103 91 90 78 79 67 55 54 66 65 64 63 75 74 62 50 51 39 38 37 49 61 73 85 97 109 110 122 123 111 112 100 99 87 88 76 77 89 101 102 114 113 125 124 136 137 138 126 127 115 116 117 129 141 142 130 131 132 144\n",
      "Shortest path =  1 13 14 26 27 15 3 4 5 6 18 17 29 30 31 19 20 21 9 10 11 12 24 23 22 34 33 32 44 45 46 47 48 60 59 58 57 56 68 69 70 71 72 84 83 95 94 82 81 80 92 104 103 91 90 78 79 67 55 54 66 65 64 63 75 74 62 50 51 39 38 37 49 61 73 85 97 109 110 122 123 111 112 100 99 87 88 76 77 89 101 102 114 113 125 124 136 137 138 126 127 115 116 117 129 141 142 130 131 132 144\n"
     ]
    },
    {
     "name": "stderr",
     "output_type": "stream",
     "text": [
      "100%|██████████████████████████████████████████████████████████████████████████████████| 87/87 [00:53<00:00,  1.62it/s]\n"
     ]
    },
    {
     "name": "stdout",
     "output_type": "stream",
     "text": [
      "# of place cell using time shift shuffle method: 32.0 / 87\n"
     ]
    },
    {
     "name": "stderr",
     "output_type": "stream",
     "text": [
      "100%|██████████████████████████████████████████████████████████████████████████████████| 87/87 [00:53<00:00,  1.62it/s]\n"
     ]
    },
    {
     "name": "stdout",
     "output_type": "stream",
     "text": [
      "# of run cell using time shift shuffle method: 18.0 / 87\n",
      "M10032maze1Day6\n",
      "116    Z:/miniscope_recording/maze/4_22_2020/10032H14...\n",
      "Name: recording_folder_local, dtype: object\n",
      "The maze is bidirectional, Ye!\n",
      "Node 1 is Decision point\n",
      "Node 2 is Leaf node\n",
      "Node 13 is Decision point\n",
      "Node 6 is Decision point\n",
      "Node 8 is Leaf node\n",
      "Node 17 is Decision point\n",
      "Node 28 is Leaf node\n",
      "Node 30 is Decision point\n",
      "Node 24 is Decision point\n",
      "Node 84 is Decision point\n",
      "Node 94 is Decision point\n",
      "Node 55 is Decision point\n",
      "Node 43 is Leaf node\n",
      "Node 54 is Decision point\n",
      "Node 53 is Leaf node\n",
      "Node 51 is Decision point\n",
      "Node 39 is Decision point\n",
      "Node 40 is Leaf node\n",
      "Node 97 is Decision point\n",
      "Node 86 is Leaf node\n",
      "Node 109 is Decision point\n",
      "Node 129 is Decision point\n",
      "Node 139 is Leaf node\n",
      "Node 142 is Decision point\n",
      "Node 130 is Decision point\n",
      "Node 120 is Leaf node\n",
      "Node 144 is Leaf node\n",
      "Node 143 is Leaf node\n",
      "Node 135 is Leaf node\n",
      "Node 52 is Leaf node\n",
      "Node 93 is Leaf node\n",
      "Node 96 is Leaf node\n",
      "Node 35 is Leaf node\n",
      "Node 41 is Leaf node\n",
      "Node 25 is Leaf node\n",
      "Shortest path =  1 13 14 26 27 15 3 4 5 6 18 17 29 30 31 19 20 21 9 10 11 12 24 23 22 34 33 32 44 45 46 47 48 60 59 58 57 56 68 69 70 71 72 84 83 95 94 82 81 80 92 104 103 91 90 78 79 67 55 54 66 65 64 63 75 74 62 50 51 39 38 37 49 61 73 85 97 109 110 122 123 111 112 100 99 87 88 76 77 89 101 102 114 113 125 124 136 137 138 126 127 115 116 117 129 141 142 130 131 132 144\n",
      "Shortest path =  1 13 14 26 27 15 3 4 5 6 18 17 29 30 31 19 20 21 9 10 11 12 24 23 22 34 33 32 44 45 46 47 48 60 59 58 57 56 68 69 70 71 72 84 83 95 94 82 81 80 92 104 103 91 90 78 79 67 55 54 66 65 64 63 75 74 62 50 51 39 38 37 49 61 73 85 97 109 110 122 123 111 112 100 99 87 88 76 77 89 101 102 114 113 125 124 136 137 138 126 127 115 116 117 129 141 142 130 131 132 144\n"
     ]
    },
    {
     "name": "stderr",
     "output_type": "stream",
     "text": [
      "100%|██████████████████████████████████████████████████████████████████████████████████| 39/39 [00:11<00:00,  3.49it/s]\n"
     ]
    },
    {
     "name": "stdout",
     "output_type": "stream",
     "text": [
      "# of place cell using time shift shuffle method: 5.0 / 39\n"
     ]
    },
    {
     "name": "stderr",
     "output_type": "stream",
     "text": [
      "100%|██████████████████████████████████████████████████████████████████████████████████| 39/39 [00:12<00:00,  3.22it/s]\n"
     ]
    },
    {
     "name": "stdout",
     "output_type": "stream",
     "text": [
      "# of run cell using time shift shuffle method: 5.0 / 39\n",
      "M10032maze1Day7\n",
      "117    Z:/miniscope_recording/maze/4_23_2020/10032H14...\n",
      "Name: recording_folder_local, dtype: object\n",
      "The maze is bidirectional, Ye!\n",
      "Node 1 is Decision point\n",
      "Node 2 is Leaf node\n",
      "Node 13 is Decision point\n",
      "Node 6 is Decision point\n",
      "Node 8 is Leaf node\n",
      "Node 17 is Decision point\n",
      "Node 28 is Leaf node\n",
      "Node 30 is Decision point\n",
      "Node 24 is Decision point\n",
      "Node 84 is Decision point\n",
      "Node 94 is Decision point\n",
      "Node 55 is Decision point\n",
      "Node 43 is Leaf node\n",
      "Node 54 is Decision point\n",
      "Node 53 is Leaf node\n",
      "Node 51 is Decision point\n",
      "Node 39 is Decision point\n",
      "Node 40 is Leaf node\n",
      "Node 97 is Decision point\n",
      "Node 86 is Leaf node\n",
      "Node 109 is Decision point\n",
      "Node 129 is Decision point\n",
      "Node 139 is Leaf node\n",
      "Node 142 is Decision point\n",
      "Node 130 is Decision point\n",
      "Node 120 is Leaf node\n",
      "Node 144 is Leaf node\n",
      "Node 143 is Leaf node\n",
      "Node 135 is Leaf node\n",
      "Node 52 is Leaf node\n",
      "Node 93 is Leaf node\n",
      "Node 96 is Leaf node\n",
      "Node 35 is Leaf node\n",
      "Node 41 is Leaf node\n",
      "Node 25 is Leaf node\n",
      "Shortest path =  1 13 14 26 27 15 3 4 5 6 18 17 29 30 31 19 20 21 9 10 11 12 24 23 22 34 33 32 44 45 46 47 48 60 59 58 57 56 68 69 70 71 72 84 83 95 94 82 81 80 92 104 103 91 90 78 79 67 55 54 66 65 64 63 75 74 62 50 51 39 38 37 49 61 73 85 97 109 110 122 123 111 112 100 99 87 88 76 77 89 101 102 114 113 125 124 136 137 138 126 127 115 116 117 129 141 142 130 131 132 144\n",
      "Shortest path =  1 13 14 26 27 15 3 4 5 6 18 17 29 30 31 19 20 21 9 10 11 12 24 23 22 34 33 32 44 45 46 47 48 60 59 58 57 56 68 69 70 71 72 84 83 95 94 82 81 80 92 104 103 91 90 78 79 67 55 54 66 65 64 63 75 74 62 50 51 39 38 37 49 61 73 85 97 109 110 122 123 111 112 100 99 87 88 76 77 89 101 102 114 113 125 124 136 137 138 126 127 115 116 117 129 141 142 130 131 132 144\n"
     ]
    },
    {
     "name": "stderr",
     "output_type": "stream",
     "text": [
      "100%|██████████████████████████████████████████████████████████████████████████████████| 55/55 [00:15<00:00,  3.60it/s]\n"
     ]
    },
    {
     "name": "stdout",
     "output_type": "stream",
     "text": [
      "# of place cell using time shift shuffle method: 3.0 / 55\n"
     ]
    },
    {
     "name": "stderr",
     "output_type": "stream",
     "text": [
      "100%|██████████████████████████████████████████████████████████████████████████████████| 55/55 [00:16<00:00,  3.28it/s]\n"
     ]
    },
    {
     "name": "stdout",
     "output_type": "stream",
     "text": [
      "# of run cell using time shift shuffle method: 1.0 / 55\n",
      "M10032maze1Day8\n",
      "118    Z:/miniscope_recording/maze/4_24_2020/10032H15...\n",
      "Name: recording_folder_local, dtype: object\n",
      "The maze is bidirectional, Ye!\n",
      "Node 1 is Decision point\n",
      "Node 2 is Leaf node\n",
      "Node 13 is Decision point\n",
      "Node 6 is Decision point\n",
      "Node 8 is Leaf node\n",
      "Node 17 is Decision point\n",
      "Node 28 is Leaf node\n",
      "Node 30 is Decision point\n",
      "Node 24 is Decision point\n",
      "Node 84 is Decision point\n",
      "Node 94 is Decision point\n",
      "Node 55 is Decision point\n",
      "Node 43 is Leaf node\n",
      "Node 54 is Decision point\n",
      "Node 53 is Leaf node\n",
      "Node 51 is Decision point\n",
      "Node 39 is Decision point\n",
      "Node 40 is Leaf node\n",
      "Node 97 is Decision point\n",
      "Node 86 is Leaf node\n",
      "Node 109 is Decision point\n",
      "Node 129 is Decision point\n",
      "Node 139 is Leaf node\n",
      "Node 142 is Decision point\n",
      "Node 130 is Decision point\n",
      "Node 120 is Leaf node\n",
      "Node 144 is Leaf node\n",
      "Node 143 is Leaf node\n",
      "Node 135 is Leaf node\n",
      "Node 52 is Leaf node\n",
      "Node 93 is Leaf node\n",
      "Node 96 is Leaf node\n",
      "Node 35 is Leaf node\n",
      "Node 41 is Leaf node\n",
      "Node 25 is Leaf node\n",
      "Shortest path =  1 13 14 26 27 15 3 4 5 6 18 17 29 30 31 19 20 21 9 10 11 12 24 23 22 34 33 32 44 45 46 47 48 60 59 58 57 56 68 69 70 71 72 84 83 95 94 82 81 80 92 104 103 91 90 78 79 67 55 54 66 65 64 63 75 74 62 50 51 39 38 37 49 61 73 85 97 109 110 122 123 111 112 100 99 87 88 76 77 89 101 102 114 113 125 124 136 137 138 126 127 115 116 117 129 141 142 130 131 132 144\n",
      "Shortest path =  1 13 14 26 27 15 3 4 5 6 18 17 29 30 31 19 20 21 9 10 11 12 24 23 22 34 33 32 44 45 46 47 48 60 59 58 57 56 68 69 70 71 72 84 83 95 94 82 81 80 92 104 103 91 90 78 79 67 55 54 66 65 64 63 75 74 62 50 51 39 38 37 49 61 73 85 97 109 110 122 123 111 112 100 99 87 88 76 77 89 101 102 114 113 125 124 136 137 138 126 127 115 116 117 129 141 142 130 131 132 144\n"
     ]
    },
    {
     "name": "stderr",
     "output_type": "stream",
     "text": [
      "100%|██████████████████████████████████████████████████████████████████████████████████| 92/92 [00:23<00:00,  3.87it/s]\n"
     ]
    },
    {
     "name": "stdout",
     "output_type": "stream",
     "text": [
      "# of place cell using time shift shuffle method: 9.0 / 92\n"
     ]
    },
    {
     "name": "stderr",
     "output_type": "stream",
     "text": [
      "100%|██████████████████████████████████████████████████████████████████████████████████| 92/92 [00:26<00:00,  3.49it/s]\n"
     ]
    },
    {
     "name": "stdout",
     "output_type": "stream",
     "text": [
      "# of run cell using time shift shuffle method: 6.0 / 92\n",
      "M10032maze1Day9\n",
      "119    Z:/miniscope_recording/maze/4_25_2020/10032H15...\n",
      "Name: recording_folder_local, dtype: object\n",
      "The maze is bidirectional, Ye!\n",
      "Node 1 is Decision point\n",
      "Node 2 is Leaf node\n",
      "Node 13 is Decision point\n",
      "Node 6 is Decision point\n",
      "Node 8 is Leaf node\n",
      "Node 17 is Decision point\n",
      "Node 28 is Leaf node\n",
      "Node 30 is Decision point\n",
      "Node 24 is Decision point\n",
      "Node 84 is Decision point\n",
      "Node 94 is Decision point\n",
      "Node 55 is Decision point\n",
      "Node 43 is Leaf node\n",
      "Node 54 is Decision point\n",
      "Node 53 is Leaf node\n",
      "Node 51 is Decision point\n",
      "Node 39 is Decision point\n",
      "Node 40 is Leaf node\n",
      "Node 97 is Decision point\n",
      "Node 86 is Leaf node\n",
      "Node 109 is Decision point\n",
      "Node 129 is Decision point\n",
      "Node 139 is Leaf node\n",
      "Node 142 is Decision point\n",
      "Node 130 is Decision point\n",
      "Node 120 is Leaf node\n",
      "Node 144 is Leaf node\n",
      "Node 143 is Leaf node\n",
      "Node 135 is Leaf node\n",
      "Node 52 is Leaf node\n",
      "Node 93 is Leaf node\n",
      "Node 96 is Leaf node\n",
      "Node 35 is Leaf node\n",
      "Node 41 is Leaf node\n",
      "Node 25 is Leaf node\n",
      "Shortest path =  1 13 14 26 27 15 3 4 5 6 18 17 29 30 31 19 20 21 9 10 11 12 24 23 22 34 33 32 44 45 46 47 48 60 59 58 57 56 68 69 70 71 72 84 83 95 94 82 81 80 92 104 103 91 90 78 79 67 55 54 66 65 64 63 75 74 62 50 51 39 38 37 49 61 73 85 97 109 110 122 123 111 112 100 99 87 88 76 77 89 101 102 114 113 125 124 136 137 138 126 127 115 116 117 129 141 142 130 131 132 144\n",
      "Shortest path =  1 13 14 26 27 15 3 4 5 6 18 17 29 30 31 19 20 21 9 10 11 12 24 23 22 34 33 32 44 45 46 47 48 60 59 58 57 56 68 69 70 71 72 84 83 95 94 82 81 80 92 104 103 91 90 78 79 67 55 54 66 65 64 63 75 74 62 50 51 39 38 37 49 61 73 85 97 109 110 122 123 111 112 100 99 87 88 76 77 89 101 102 114 113 125 124 136 137 138 126 127 115 116 117 129 141 142 130 131 132 144\n"
     ]
    },
    {
     "name": "stderr",
     "output_type": "stream",
     "text": [
      "100%|██████████████████████████████████████████████████████████████████████████████████| 31/31 [00:08<00:00,  3.84it/s]\n"
     ]
    },
    {
     "name": "stdout",
     "output_type": "stream",
     "text": [
      "# of place cell using time shift shuffle method: 4.0 / 31\n"
     ]
    },
    {
     "name": "stderr",
     "output_type": "stream",
     "text": [
      "100%|██████████████████████████████████████████████████████████████████████████████████| 31/31 [00:08<00:00,  3.45it/s]\n"
     ]
    },
    {
     "name": "stdout",
     "output_type": "stream",
     "text": [
      "# of run cell using time shift shuffle method: 3.0 / 31\n",
      "M10033maze1Day1\n",
      "144    Z:/miniscope_recording/maze/4_18_2020/10033H12...\n",
      "Name: recording_folder_local, dtype: object\n",
      "The maze is bidirectional, Ye!\n",
      "Node 1 is Decision point\n",
      "Node 2 is Leaf node\n",
      "Node 13 is Decision point\n",
      "Node 6 is Decision point\n",
      "Node 8 is Leaf node\n",
      "Node 17 is Decision point\n",
      "Node 28 is Leaf node\n",
      "Node 30 is Decision point\n",
      "Node 24 is Decision point\n",
      "Node 84 is Decision point\n",
      "Node 94 is Decision point\n",
      "Node 55 is Decision point\n",
      "Node 43 is Leaf node\n",
      "Node 54 is Decision point\n",
      "Node 53 is Leaf node\n",
      "Node 51 is Decision point\n",
      "Node 39 is Decision point\n",
      "Node 40 is Leaf node\n",
      "Node 97 is Decision point\n",
      "Node 86 is Leaf node\n",
      "Node 109 is Decision point\n",
      "Node 129 is Decision point\n",
      "Node 139 is Leaf node\n",
      "Node 142 is Decision point\n",
      "Node 130 is Decision point\n",
      "Node 120 is Leaf node\n",
      "Node 144 is Leaf node\n",
      "Node 143 is Leaf node\n",
      "Node 135 is Leaf node\n",
      "Node 52 is Leaf node\n",
      "Node 93 is Leaf node\n",
      "Node 96 is Leaf node\n",
      "Node 35 is Leaf node\n",
      "Node 41 is Leaf node\n",
      "Node 25 is Leaf node\n",
      "Shortest path =  1 13 14 26 27 15 3 4 5 6 18 17 29 30 31 19 20 21 9 10 11 12 24 23 22 34 33 32 44 45 46 47 48 60 59 58 57 56 68 69 70 71 72 84 83 95 94 82 81 80 92 104 103 91 90 78 79 67 55 54 66 65 64 63 75 74 62 50 51 39 38 37 49 61 73 85 97 109 110 122 123 111 112 100 99 87 88 76 77 89 101 102 114 113 125 124 136 137 138 126 127 115 116 117 129 141 142 130 131 132 144\n",
      "Shortest path =  1 13 14 26 27 15 3 4 5 6 18 17 29 30 31 19 20 21 9 10 11 12 24 23 22 34 33 32 44 45 46 47 48 60 59 58 57 56 68 69 70 71 72 84 83 95 94 82 81 80 92 104 103 91 90 78 79 67 55 54 66 65 64 63 75 74 62 50 51 39 38 37 49 61 73 85 97 109 110 122 123 111 112 100 99 87 88 76 77 89 101 102 114 113 125 124 136 137 138 126 127 115 116 117 129 141 142 130 131 132 144\n"
     ]
    },
    {
     "name": "stderr",
     "output_type": "stream",
     "text": [
      "100%|██████████████████████████████████████████████████████████████████████████████████| 47/47 [03:24<00:00,  4.36s/it]\n"
     ]
    },
    {
     "name": "stdout",
     "output_type": "stream",
     "text": [
      "# of place cell using time shift shuffle method: 23.0 / 47\n"
     ]
    },
    {
     "name": "stderr",
     "output_type": "stream",
     "text": [
      "100%|██████████████████████████████████████████████████████████████████████████████████| 47/47 [03:19<00:00,  4.24s/it]\n"
     ]
    },
    {
     "name": "stdout",
     "output_type": "stream",
     "text": [
      "# of run cell using time shift shuffle method: 22.0 / 47\n",
      "M10033maze1Day2\n",
      "145    Z:/miniscope_recording/maze/4_19_2020/10033H14...\n",
      "Name: recording_folder_local, dtype: object\n",
      "The maze is bidirectional, Ye!\n",
      "Node 1 is Decision point\n",
      "Node 2 is Leaf node\n",
      "Node 13 is Decision point\n",
      "Node 6 is Decision point\n",
      "Node 8 is Leaf node\n",
      "Node 17 is Decision point\n",
      "Node 28 is Leaf node\n",
      "Node 30 is Decision point\n",
      "Node 24 is Decision point\n",
      "Node 84 is Decision point\n",
      "Node 94 is Decision point\n",
      "Node 55 is Decision point\n",
      "Node 43 is Leaf node\n",
      "Node 54 is Decision point\n",
      "Node 53 is Leaf node\n",
      "Node 51 is Decision point\n",
      "Node 39 is Decision point\n",
      "Node 40 is Leaf node\n",
      "Node 97 is Decision point\n",
      "Node 86 is Leaf node\n",
      "Node 109 is Decision point\n",
      "Node 129 is Decision point\n",
      "Node 139 is Leaf node\n",
      "Node 142 is Decision point\n",
      "Node 130 is Decision point\n",
      "Node 120 is Leaf node\n",
      "Node 144 is Leaf node\n",
      "Node 143 is Leaf node\n",
      "Node 135 is Leaf node\n",
      "Node 52 is Leaf node\n",
      "Node 93 is Leaf node\n",
      "Node 96 is Leaf node\n",
      "Node 35 is Leaf node\n",
      "Node 41 is Leaf node\n",
      "Node 25 is Leaf node\n",
      "Shortest path =  1 13 14 26 27 15 3 4 5 6 18 17 29 30 31 19 20 21 9 10 11 12 24 23 22 34 33 32 44 45 46 47 48 60 59 58 57 56 68 69 70 71 72 84 83 95 94 82 81 80 92 104 103 91 90 78 79 67 55 54 66 65 64 63 75 74 62 50 51 39 38 37 49 61 73 85 97 109 110 122 123 111 112 100 99 87 88 76 77 89 101 102 114 113 125 124 136 137 138 126 127 115 116 117 129 141 142 130 131 132 144\n",
      "Shortest path =  1 13 14 26 27 15 3 4 5 6 18 17 29 30 31 19 20 21 9 10 11 12 24 23 22 34 33 32 44 45 46 47 48 60 59 58 57 56 68 69 70 71 72 84 83 95 94 82 81 80 92 104 103 91 90 78 79 67 55 54 66 65 64 63 75 74 62 50 51 39 38 37 49 61 73 85 97 109 110 122 123 111 112 100 99 87 88 76 77 89 101 102 114 113 125 124 136 137 138 126 127 115 116 117 129 141 142 130 131 132 144\n"
     ]
    },
    {
     "name": "stderr",
     "output_type": "stream",
     "text": [
      "100%|████████████████████████████████████████████████████████████████████████████████████| 3/3 [00:03<00:00,  1.13s/it]\n"
     ]
    },
    {
     "name": "stdout",
     "output_type": "stream",
     "text": [
      "# of place cell using time shift shuffle method: 0.0 / 3\n"
     ]
    },
    {
     "name": "stderr",
     "output_type": "stream",
     "text": [
      "100%|████████████████████████████████████████████████████████████████████████████████████| 3/3 [00:03<00:00,  1.12s/it]\n"
     ]
    },
    {
     "name": "stdout",
     "output_type": "stream",
     "text": [
      "# of run cell using time shift shuffle method: 0.0 / 3\n",
      "M10033maze1Day3\n",
      "146    Z:/miniscope_recording/maze/4_20_2020/10033H15...\n",
      "Name: recording_folder_local, dtype: object\n",
      "The maze is bidirectional, Ye!\n",
      "Node 1 is Decision point\n",
      "Node 2 is Leaf node\n",
      "Node 13 is Decision point\n",
      "Node 6 is Decision point\n",
      "Node 8 is Leaf node\n",
      "Node 17 is Decision point\n",
      "Node 28 is Leaf node\n",
      "Node 30 is Decision point\n",
      "Node 24 is Decision point\n",
      "Node 84 is Decision point\n",
      "Node 94 is Decision point\n",
      "Node 55 is Decision point\n",
      "Node 43 is Leaf node\n",
      "Node 54 is Decision point\n",
      "Node 53 is Leaf node\n",
      "Node 51 is Decision point\n",
      "Node 39 is Decision point\n",
      "Node 40 is Leaf node\n",
      "Node 97 is Decision point\n",
      "Node 86 is Leaf node\n",
      "Node 109 is Decision point\n",
      "Node 129 is Decision point\n",
      "Node 139 is Leaf node\n",
      "Node 142 is Decision point\n",
      "Node 130 is Decision point\n",
      "Node 120 is Leaf node\n",
      "Node 144 is Leaf node\n",
      "Node 143 is Leaf node\n",
      "Node 135 is Leaf node\n",
      "Node 52 is Leaf node\n",
      "Node 93 is Leaf node\n",
      "Node 96 is Leaf node\n",
      "Node 35 is Leaf node\n",
      "Node 41 is Leaf node\n",
      "Node 25 is Leaf node\n",
      "Shortest path =  1 13 14 26 27 15 3 4 5 6 18 17 29 30 31 19 20 21 9 10 11 12 24 23 22 34 33 32 44 45 46 47 48 60 59 58 57 56 68 69 70 71 72 84 83 95 94 82 81 80 92 104 103 91 90 78 79 67 55 54 66 65 64 63 75 74 62 50 51 39 38 37 49 61 73 85 97 109 110 122 123 111 112 100 99 87 88 76 77 89 101 102 114 113 125 124 136 137 138 126 127 115 116 117 129 141 142 130 131 132 144\n",
      "Shortest path =  1 13 14 26 27 15 3 4 5 6 18 17 29 30 31 19 20 21 9 10 11 12 24 23 22 34 33 32 44 45 46 47 48 60 59 58 57 56 68 69 70 71 72 84 83 95 94 82 81 80 92 104 103 91 90 78 79 67 55 54 66 65 64 63 75 74 62 50 51 39 38 37 49 61 73 85 97 109 110 122 123 111 112 100 99 87 88 76 77 89 101 102 114 113 125 124 136 137 138 126 127 115 116 117 129 141 142 130 131 132 144\n"
     ]
    },
    {
     "name": "stderr",
     "output_type": "stream",
     "text": [
      "100%|██████████████████████████████████████████████████████████████████████████████████| 22/22 [00:18<00:00,  1.20it/s]\n"
     ]
    },
    {
     "name": "stdout",
     "output_type": "stream",
     "text": [
      "# of place cell using time shift shuffle method: 2.0 / 22\n"
     ]
    },
    {
     "name": "stderr",
     "output_type": "stream",
     "text": [
      "100%|██████████████████████████████████████████████████████████████████████████████████| 22/22 [00:18<00:00,  1.20it/s]\n"
     ]
    },
    {
     "name": "stdout",
     "output_type": "stream",
     "text": [
      "# of run cell using time shift shuffle method: 1.0 / 22\n",
      "M10033maze1Day4\n",
      "147    Z:/miniscope_recording/maze/4_21_2020/10033H14...\n",
      "Name: recording_folder_local, dtype: object\n",
      "The maze is bidirectional, Ye!\n",
      "Node 1 is Decision point\n",
      "Node 2 is Leaf node\n",
      "Node 13 is Decision point\n",
      "Node 6 is Decision point\n",
      "Node 8 is Leaf node\n",
      "Node 17 is Decision point\n",
      "Node 28 is Leaf node\n",
      "Node 30 is Decision point\n",
      "Node 24 is Decision point\n",
      "Node 84 is Decision point\n",
      "Node 94 is Decision point\n",
      "Node 55 is Decision point\n",
      "Node 43 is Leaf node\n",
      "Node 54 is Decision point\n",
      "Node 53 is Leaf node\n",
      "Node 51 is Decision point\n",
      "Node 39 is Decision point\n",
      "Node 40 is Leaf node\n",
      "Node 97 is Decision point\n",
      "Node 86 is Leaf node\n",
      "Node 109 is Decision point\n",
      "Node 129 is Decision point\n",
      "Node 139 is Leaf node\n",
      "Node 142 is Decision point\n",
      "Node 130 is Decision point\n",
      "Node 120 is Leaf node\n",
      "Node 144 is Leaf node\n",
      "Node 143 is Leaf node\n",
      "Node 135 is Leaf node\n",
      "Node 52 is Leaf node\n",
      "Node 93 is Leaf node\n",
      "Node 96 is Leaf node\n",
      "Node 35 is Leaf node\n",
      "Node 41 is Leaf node\n",
      "Node 25 is Leaf node\n",
      "Shortest path =  1 13 14 26 27 15 3 4 5 6 18 17 29 30 31 19 20 21 9 10 11 12 24 23 22 34 33 32 44 45 46 47 48 60 59 58 57 56 68 69 70 71 72 84 83 95 94 82 81 80 92 104 103 91 90 78 79 67 55 54 66 65 64 63 75 74 62 50 51 39 38 37 49 61 73 85 97 109 110 122 123 111 112 100 99 87 88 76 77 89 101 102 114 113 125 124 136 137 138 126 127 115 116 117 129 141 142 130 131 132 144\n",
      "Shortest path =  1 13 14 26 27 15 3 4 5 6 18 17 29 30 31 19 20 21 9 10 11 12 24 23 22 34 33 32 44 45 46 47 48 60 59 58 57 56 68 69 70 71 72 84 83 95 94 82 81 80 92 104 103 91 90 78 79 67 55 54 66 65 64 63 75 74 62 50 51 39 38 37 49 61 73 85 97 109 110 122 123 111 112 100 99 87 88 76 77 89 101 102 114 113 125 124 136 137 138 126 127 115 116 117 129 141 142 130 131 132 144\n"
     ]
    },
    {
     "name": "stderr",
     "output_type": "stream",
     "text": [
      "100%|██████████████████████████████████████████████████████████████████████████████████| 19/19 [00:15<00:00,  1.23it/s]\n"
     ]
    },
    {
     "name": "stdout",
     "output_type": "stream",
     "text": [
      "# of place cell using time shift shuffle method: 1.0 / 19\n"
     ]
    },
    {
     "name": "stderr",
     "output_type": "stream",
     "text": [
      "100%|██████████████████████████████████████████████████████████████████████████████████| 19/19 [00:15<00:00,  1.22it/s]\n"
     ]
    },
    {
     "name": "stdout",
     "output_type": "stream",
     "text": [
      "# of run cell using time shift shuffle method: 1.0 / 19\n",
      "M10033maze1Day5\n",
      "148    Z:/miniscope_recording/maze/4_22_2020/10033H14...\n",
      "Name: recording_folder_local, dtype: object\n",
      "The maze is bidirectional, Ye!\n",
      "Node 1 is Decision point\n",
      "Node 2 is Leaf node\n",
      "Node 13 is Decision point\n",
      "Node 6 is Decision point\n",
      "Node 8 is Leaf node\n",
      "Node 17 is Decision point\n",
      "Node 28 is Leaf node\n",
      "Node 30 is Decision point\n",
      "Node 24 is Decision point\n",
      "Node 84 is Decision point\n",
      "Node 94 is Decision point\n",
      "Node 55 is Decision point\n",
      "Node 43 is Leaf node\n",
      "Node 54 is Decision point\n",
      "Node 53 is Leaf node\n",
      "Node 51 is Decision point\n",
      "Node 39 is Decision point\n",
      "Node 40 is Leaf node\n",
      "Node 97 is Decision point\n",
      "Node 86 is Leaf node\n",
      "Node 109 is Decision point\n",
      "Node 129 is Decision point\n",
      "Node 139 is Leaf node\n",
      "Node 142 is Decision point\n",
      "Node 130 is Decision point\n",
      "Node 120 is Leaf node\n",
      "Node 144 is Leaf node\n",
      "Node 143 is Leaf node\n",
      "Node 135 is Leaf node\n",
      "Node 52 is Leaf node\n",
      "Node 93 is Leaf node\n",
      "Node 96 is Leaf node\n",
      "Node 35 is Leaf node\n",
      "Node 41 is Leaf node\n",
      "Node 25 is Leaf node\n",
      "Shortest path =  1 13 14 26 27 15 3 4 5 6 18 17 29 30 31 19 20 21 9 10 11 12 24 23 22 34 33 32 44 45 46 47 48 60 59 58 57 56 68 69 70 71 72 84 83 95 94 82 81 80 92 104 103 91 90 78 79 67 55 54 66 65 64 63 75 74 62 50 51 39 38 37 49 61 73 85 97 109 110 122 123 111 112 100 99 87 88 76 77 89 101 102 114 113 125 124 136 137 138 126 127 115 116 117 129 141 142 130 131 132 144\n",
      "Shortest path =  1 13 14 26 27 15 3 4 5 6 18 17 29 30 31 19 20 21 9 10 11 12 24 23 22 34 33 32 44 45 46 47 48 60 59 58 57 56 68 69 70 71 72 84 83 95 94 82 81 80 92 104 103 91 90 78 79 67 55 54 66 65 64 63 75 74 62 50 51 39 38 37 49 61 73 85 97 109 110 122 123 111 112 100 99 87 88 76 77 89 101 102 114 113 125 124 136 137 138 126 127 115 116 117 129 141 142 130 131 132 144\n"
     ]
    },
    {
     "name": "stderr",
     "output_type": "stream",
     "text": [
      "100%|██████████████████████████████████████████████████████████████████████████████████| 11/11 [00:08<00:00,  1.25it/s]\n"
     ]
    },
    {
     "name": "stdout",
     "output_type": "stream",
     "text": [
      "# of place cell using time shift shuffle method: 2.0 / 11\n"
     ]
    },
    {
     "name": "stderr",
     "output_type": "stream",
     "text": [
      "100%|██████████████████████████████████████████████████████████████████████████████████| 11/11 [00:08<00:00,  1.24it/s]\n"
     ]
    },
    {
     "name": "stdout",
     "output_type": "stream",
     "text": [
      "# of run cell using time shift shuffle method: 0.0 / 11\n",
      "M10033maze1Day6\n",
      "149    Z:/miniscope_recording/maze/4_23_2020/10033H14...\n",
      "Name: recording_folder_local, dtype: object\n",
      "The maze is bidirectional, Ye!\n",
      "Node 1 is Decision point\n",
      "Node 2 is Leaf node\n",
      "Node 13 is Decision point\n",
      "Node 6 is Decision point\n",
      "Node 8 is Leaf node\n",
      "Node 17 is Decision point\n",
      "Node 28 is Leaf node\n",
      "Node 30 is Decision point\n",
      "Node 24 is Decision point\n",
      "Node 84 is Decision point\n",
      "Node 94 is Decision point\n",
      "Node 55 is Decision point\n",
      "Node 43 is Leaf node\n",
      "Node 54 is Decision point\n",
      "Node 53 is Leaf node\n",
      "Node 51 is Decision point\n",
      "Node 39 is Decision point\n",
      "Node 40 is Leaf node\n",
      "Node 97 is Decision point\n",
      "Node 86 is Leaf node\n",
      "Node 109 is Decision point\n",
      "Node 129 is Decision point\n",
      "Node 139 is Leaf node\n",
      "Node 142 is Decision point\n",
      "Node 130 is Decision point\n",
      "Node 120 is Leaf node\n",
      "Node 144 is Leaf node\n",
      "Node 143 is Leaf node\n",
      "Node 135 is Leaf node\n",
      "Node 52 is Leaf node\n",
      "Node 93 is Leaf node\n",
      "Node 96 is Leaf node\n",
      "Node 35 is Leaf node\n",
      "Node 41 is Leaf node\n",
      "Node 25 is Leaf node\n",
      "Shortest path =  1 13 14 26 27 15 3 4 5 6 18 17 29 30 31 19 20 21 9 10 11 12 24 23 22 34 33 32 44 45 46 47 48 60 59 58 57 56 68 69 70 71 72 84 83 95 94 82 81 80 92 104 103 91 90 78 79 67 55 54 66 65 64 63 75 74 62 50 51 39 38 37 49 61 73 85 97 109 110 122 123 111 112 100 99 87 88 76 77 89 101 102 114 113 125 124 136 137 138 126 127 115 116 117 129 141 142 130 131 132 144\n",
      "Shortest path =  1 13 14 26 27 15 3 4 5 6 18 17 29 30 31 19 20 21 9 10 11 12 24 23 22 34 33 32 44 45 46 47 48 60 59 58 57 56 68 69 70 71 72 84 83 95 94 82 81 80 92 104 103 91 90 78 79 67 55 54 66 65 64 63 75 74 62 50 51 39 38 37 49 61 73 85 97 109 110 122 123 111 112 100 99 87 88 76 77 89 101 102 114 113 125 124 136 137 138 126 127 115 116 117 129 141 142 130 131 132 144\n"
     ]
    },
    {
     "name": "stderr",
     "output_type": "stream",
     "text": [
      "100%|██████████████████████████████████████████████████████████████████████████████████| 23/23 [00:11<00:00,  1.98it/s]\n"
     ]
    },
    {
     "name": "stdout",
     "output_type": "stream",
     "text": [
      "# of place cell using time shift shuffle method: 1.0 / 23\n"
     ]
    },
    {
     "name": "stderr",
     "output_type": "stream",
     "text": [
      "100%|██████████████████████████████████████████████████████████████████████████████████| 23/23 [00:12<00:00,  1.92it/s]\n"
     ]
    },
    {
     "name": "stdout",
     "output_type": "stream",
     "text": [
      "# of run cell using time shift shuffle method: 0.0 / 23\n",
      "M10033maze1Day7\n",
      "150    Z:/miniscope_recording/maze/4_24_2020/10033H14...\n",
      "Name: recording_folder_local, dtype: object\n",
      "The maze is bidirectional, Ye!\n",
      "Node 1 is Decision point\n",
      "Node 2 is Leaf node\n",
      "Node 13 is Decision point\n",
      "Node 6 is Decision point\n",
      "Node 8 is Leaf node\n",
      "Node 17 is Decision point\n",
      "Node 28 is Leaf node\n",
      "Node 30 is Decision point\n",
      "Node 24 is Decision point\n",
      "Node 84 is Decision point\n",
      "Node 94 is Decision point\n",
      "Node 55 is Decision point\n",
      "Node 43 is Leaf node\n",
      "Node 54 is Decision point\n",
      "Node 53 is Leaf node\n",
      "Node 51 is Decision point\n",
      "Node 39 is Decision point\n",
      "Node 40 is Leaf node\n",
      "Node 97 is Decision point\n",
      "Node 86 is Leaf node\n",
      "Node 109 is Decision point\n",
      "Node 129 is Decision point\n",
      "Node 139 is Leaf node\n",
      "Node 142 is Decision point\n",
      "Node 130 is Decision point\n",
      "Node 120 is Leaf node\n",
      "Node 144 is Leaf node\n",
      "Node 143 is Leaf node\n",
      "Node 135 is Leaf node\n",
      "Node 52 is Leaf node\n",
      "Node 93 is Leaf node\n",
      "Node 96 is Leaf node\n",
      "Node 35 is Leaf node\n",
      "Node 41 is Leaf node\n",
      "Node 25 is Leaf node\n",
      "Shortest path =  1 13 14 26 27 15 3 4 5 6 18 17 29 30 31 19 20 21 9 10 11 12 24 23 22 34 33 32 44 45 46 47 48 60 59 58 57 56 68 69 70 71 72 84 83 95 94 82 81 80 92 104 103 91 90 78 79 67 55 54 66 65 64 63 75 74 62 50 51 39 38 37 49 61 73 85 97 109 110 122 123 111 112 100 99 87 88 76 77 89 101 102 114 113 125 124 136 137 138 126 127 115 116 117 129 141 142 130 131 132 144\n",
      "Shortest path =  1 13 14 26 27 15 3 4 5 6 18 17 29 30 31 19 20 21 9 10 11 12 24 23 22 34 33 32 44 45 46 47 48 60 59 58 57 56 68 69 70 71 72 84 83 95 94 82 81 80 92 104 103 91 90 78 79 67 55 54 66 65 64 63 75 74 62 50 51 39 38 37 49 61 73 85 97 109 110 122 123 111 112 100 99 87 88 76 77 89 101 102 114 113 125 124 136 137 138 126 127 115 116 117 129 141 142 130 131 132 144\n"
     ]
    },
    {
     "name": "stderr",
     "output_type": "stream",
     "text": [
      "100%|██████████████████████████████████████████████████████████████████████████████████| 29/29 [00:22<00:00,  1.26it/s]\n"
     ]
    },
    {
     "name": "stdout",
     "output_type": "stream",
     "text": [
      "# of place cell using time shift shuffle method: 0.0 / 29\n"
     ]
    },
    {
     "name": "stderr",
     "output_type": "stream",
     "text": [
      "100%|██████████████████████████████████████████████████████████████████████████████████| 29/29 [00:23<00:00,  1.25it/s]\n"
     ]
    },
    {
     "name": "stdout",
     "output_type": "stream",
     "text": [
      "# of run cell using time shift shuffle method: 1.0 / 29\n",
      "M10033maze1Day8\n",
      "151    Z:/miniscope_recording/maze/4_25_2020/10033H15...\n",
      "Name: recording_folder_local, dtype: object\n",
      "The maze is bidirectional, Ye!\n",
      "Node 1 is Decision point\n",
      "Node 2 is Leaf node\n",
      "Node 13 is Decision point\n",
      "Node 6 is Decision point\n",
      "Node 8 is Leaf node\n",
      "Node 17 is Decision point\n",
      "Node 28 is Leaf node\n",
      "Node 30 is Decision point\n",
      "Node 24 is Decision point\n",
      "Node 84 is Decision point\n",
      "Node 94 is Decision point\n",
      "Node 55 is Decision point\n",
      "Node 43 is Leaf node\n",
      "Node 54 is Decision point\n",
      "Node 53 is Leaf node\n",
      "Node 51 is Decision point\n",
      "Node 39 is Decision point\n",
      "Node 40 is Leaf node\n",
      "Node 97 is Decision point\n",
      "Node 86 is Leaf node\n",
      "Node 109 is Decision point\n",
      "Node 129 is Decision point\n",
      "Node 139 is Leaf node\n",
      "Node 142 is Decision point\n",
      "Node 130 is Decision point\n",
      "Node 120 is Leaf node\n",
      "Node 144 is Leaf node\n",
      "Node 143 is Leaf node\n",
      "Node 135 is Leaf node\n",
      "Node 52 is Leaf node\n",
      "Node 93 is Leaf node\n",
      "Node 96 is Leaf node\n",
      "Node 35 is Leaf node\n",
      "Node 41 is Leaf node\n",
      "Node 25 is Leaf node\n",
      "Shortest path =  1 13 14 26 27 15 3 4 5 6 18 17 29 30 31 19 20 21 9 10 11 12 24 23 22 34 33 32 44 45 46 47 48 60 59 58 57 56 68 69 70 71 72 84 83 95 94 82 81 80 92 104 103 91 90 78 79 67 55 54 66 65 64 63 75 74 62 50 51 39 38 37 49 61 73 85 97 109 110 122 123 111 112 100 99 87 88 76 77 89 101 102 114 113 125 124 136 137 138 126 127 115 116 117 129 141 142 130 131 132 144\n",
      "Shortest path =  1 13 14 26 27 15 3 4 5 6 18 17 29 30 31 19 20 21 9 10 11 12 24 23 22 34 33 32 44 45 46 47 48 60 59 58 57 56 68 69 70 71 72 84 83 95 94 82 81 80 92 104 103 91 90 78 79 67 55 54 66 65 64 63 75 74 62 50 51 39 38 37 49 61 73 85 97 109 110 122 123 111 112 100 99 87 88 76 77 89 101 102 114 113 125 124 136 137 138 126 127 115 116 117 129 141 142 130 131 132 144\n"
     ]
    },
    {
     "name": "stderr",
     "output_type": "stream",
     "text": [
      "100%|██████████████████████████████████████████████████████████████████████████████████| 20/20 [00:11<00:00,  1.79it/s]\n"
     ]
    },
    {
     "name": "stdout",
     "output_type": "stream",
     "text": [
      "# of place cell using time shift shuffle method: 0.0 / 20\n"
     ]
    },
    {
     "name": "stderr",
     "output_type": "stream",
     "text": [
      "100%|██████████████████████████████████████████████████████████████████████████████████| 20/20 [00:11<00:00,  1.69it/s]"
     ]
    },
    {
     "name": "stdout",
     "output_type": "stream",
     "text": [
      "# of run cell using time shift shuffle method: 1.0 / 20\n"
     ]
    },
    {
     "name": "stderr",
     "output_type": "stream",
     "text": [
      "\n"
     ]
    }
   ],
   "source": [
    "# Loop over mice_name, maze_type and training_day\n",
    "for mice_name in mice_names:\n",
    "    # maze_type_set = set(data[data.name == mice_name][\"maze_type\"])\n",
    "    maze_type_set = {2}\n",
    "    \n",
    "    for maze_type in maze_type_set:\n",
    "        training_day_set = set(data[(data.name == mice_name) & (data.maze_type == maze_type)][\"training_day\"])\n",
    "\n",
    "        for i_day in training_day_set:\n",
    "            current_day = i_day\n",
    "            current_sign = \"M\" + str(mice_name)+\"maze\"+str(maze_type)+\"Day\"+str(current_day)\n",
    "            print(current_sign)\n",
    "            \n",
    "            folder =  data[(data.name == mice_name) & (data.training_day == current_day) & (data.maze_type == maze_type)][\"recording_folder\"]\n",
    "            print(folder)\n",
    "            \n",
    "            matfile = folder.values[0] + \"/\" + \"ms.mat\"\n",
    "            # read calcium data: ms.mat\n",
    "            with h5py.File(matfile, 'r') as f:\n",
    "                ms_mat = f['ms']\n",
    "                FiltTraces = np.array(ms_mat['FiltTraces'])\n",
    "                RawTraces = np.array(ms_mat['RawTraces'])\n",
    "                DeconvSignal = np.array(ms_mat['DeconvSignals'])\n",
    "                ms_time = np.array(ms_mat['time'])[0,]\n",
    "            # read behav data\n",
    "            decision_file = 'data/' + current_sign +'behav_decision.pkl'\n",
    "            with open(decision_file, 'rb') as handle:\n",
    "                correct_time, wrong_time, correct_time_percentage, decision_rate,time_levels, stop_time_mean, stop_time_median, speed_bin = pickle.load(handle)\n",
    "            behav_processed_file = 'data/' + current_sign +'behav_processed.pkl'\n",
    "            with open(behav_processed_file, 'rb') as handle:\n",
    "                behav_time_original, behav_nodes_interpolated, behav_dir = pickle.load(handle)\n",
    "\n",
    "            #### Preprocessing data\n",
    "            # remove no behav recording period\n",
    "            behav_mask = (ms_time>=behav_time_original[0]) & (ms_time<behav_time_original[-1])\n",
    "            FiltTraces_behav = FiltTraces[:,behav_mask]\n",
    "            RawTraces_behav = RawTraces[:,behav_mask]\n",
    "            DeconvSignal_behav = DeconvSignal[:,behav_mask]\n",
    "            ms_time_behav = ms_time[behav_mask]\n",
    "            # binarize neuron.S\n",
    "            deconv_sd = np.std(DeconvSignal_behav, axis = 1) * 3\n",
    "            Spikes = np.where(DeconvSignal_behav>np.repeat(deconv_sd[:,np.newaxis], DeconvSignal_behav.shape[1],1), 1, 0)\n",
    "\n",
    "            #### Incorporate maze structure to behavior trajectory: interpolation, etc..\n",
    "            # transform bin number, making upper right bin (1, 1)\n",
    "            nx = 12\n",
    "            ny = 12\n",
    "            graph = maze1_graph if maze_type==1 else maze2_graph\n",
    "            total_bin = nx*ny\n",
    "            start_node = 1\n",
    "            end_node = 144\n",
    "            test_maze = Maze(nx, ny, graph)\n",
    "            new_maze = test_maze.make_maze()\n",
    "            # new_maze = test_maze.make_maze() # no need to make_maze, already included in __init__()\n",
    "            shortest_path = test_maze.BFS_SP(graph, start_node, end_node)\n",
    "\n",
    "            #### Analyze calcium data\n",
    "            # spike per bin\n",
    "            spike_nodes = np.zeros_like(Spikes[0,:])\n",
    "            for i in range(0, len(spike_nodes)):\n",
    "                if ms_time_behav[i] < behav_time_original[0]:\n",
    "                    spike_nodes[i] = start_node;\n",
    "                else:\n",
    "                    match_index = np.where(behav_time_original <= ms_time_behav[i])[0][-1]\n",
    "                    spike_nodes[i] = behav_nodes_interpolated[match_index]\n",
    "            spike_bins = test_maze.idx_to_loc(spike_nodes-1)\n",
    "\n",
    "            # occupancy map, in ms\n",
    "            # Duration for each (X,Y) sample (clipped to maxGap)\n",
    "            maxGap = 100\n",
    "            stay_time = np.append(np.ediff1d(ms_time_behav),0)\n",
    "            stay_time[stay_time>maxGap] = maxGap\n",
    "            _nbins = total_bin\n",
    "            _coords_range = [0, _nbins +0.0001 ]\n",
    "            occu_time, xbin_edges, bin_numbers = scipy.stats.binned_statistic(\n",
    "                    spike_nodes,\n",
    "                    stay_time,\n",
    "                    bins=_nbins,\n",
    "                    statistic=\"sum\",\n",
    "                    range=_coords_range)\n",
    "\n",
    "            assert((bin_numbers == spike_nodes).all())\n",
    "            minimum_occu_thres = 50 # ms, occupancy time less than the threshold are set to NAN, preventing large spike rate\n",
    "            occu_time[occu_time<minimum_occu_thres] = np.nan\n",
    "            # rate map (for all neuron)\n",
    "            _nbins = total_bin\n",
    "            _coords_range = [0, _nbins +0.0001 ]\n",
    "            n_neuron = Spikes.shape[0]\n",
    "            spike_freq_all = np.zeros([n_neuron,total_bin])\n",
    "            rate_map_all =  np.zeros_like(spike_freq_all)\n",
    "            for i in range(n_neuron):\n",
    "                spike_freq_all[i,] ,_ ,_= scipy.stats.binned_statistic(\n",
    "                    spike_nodes,\n",
    "                    Spikes[i,:],\n",
    "                    bins=_nbins,\n",
    "                    statistic=\"sum\",\n",
    "                    range=_coords_range)\n",
    "                rate_map_all[i,] = spike_freq_all[i,]/(occu_time/1000+ 1E-9)\n",
    "\n",
    "            #### Calculate spatial information (all neurons) and shuffle (shift method)\n",
    "            t_total = np.nansum(occu_time)/1000 # total time of trial\n",
    "            t_nodes_frac = occu_time/1000/ (t_total+ 1E-6)   # time spent in ith bin/total session time\n",
    "            SI_all = np.zeros(n_neuron)\n",
    "            is_placecell_shift = np.zeros(n_neuron)\n",
    "            for i in tqdm(range(n_neuron)):\n",
    "                SI_all[i] = calc_SI(spikes=Spikes[i,], rate_map=rate_map_all[i,], t_total=t_total, t_nodes_frac=t_nodes_frac)\n",
    "                is_placecell_shift[i] = shuffle_test_shift(SI = SI_all[i], spikes = Spikes[i,], spike_nodes=spike_nodes, occu_time=occu_time, _coords_range=_coords_range)    \n",
    "            print(\"# of place cell using time shift shuffle method:\" ,np.sum(is_placecell_shift ),\"/\",n_neuron)\n",
    "\n",
    "            ## !! save data\n",
    "            mylist = [rate_map_all, is_placecell_shift, SI_all, spike_freq_all, occu_time]\n",
    "            with open('data/' + current_sign + \"ratemap.pkl\", 'wb') as f:\n",
    "                pickle.dump(mylist, f)\n",
    "\n",
    "\n",
    "            #### run selective %\n",
    "            ## spike node to runs\n",
    "            spike_runs = np.zeros_like(spike_nodes)\n",
    "            for i in range(len(spike_nodes)):\n",
    "                spike_runs[i] = node_to_run(spike_nodes[i], test_maze.runs)\n",
    "\n",
    "            ## occupancy map, in ms\n",
    "            _nruns = len(test_maze.runs)\n",
    "            _coords_range = [0, _nruns +0.0001 ]\n",
    "            occu_time_run, _, run_numbers = scipy.stats.binned_statistic(\n",
    "                    spike_runs,\n",
    "                    stay_time,\n",
    "                    bins=_nruns,\n",
    "                    statistic=\"sum\",\n",
    "                    range=_coords_range)\n",
    "            assert((run_numbers == spike_runs).all())\n",
    "            minimum_occu_thres = 50 # ms, occupancy time less than the threshold are set to NAN, preventing large spike rate\n",
    "            occu_time_run[occu_time_run<minimum_occu_thres] = np.nan\n",
    "\n",
    "            ## run rate map \n",
    "            ## sum rate map (for first neuron)\n",
    "            spikes = Spikes[0,:]\n",
    "            # spike_map: total spikes per nodes\n",
    "            spike_freq_run, xbin_edges, run_numbers = scipy.stats.binned_statistic(\n",
    "                    spike_runs,\n",
    "                    spikes,\n",
    "                    bins=_nruns,\n",
    "                    statistic=\"sum\",\n",
    "                    range=_coords_range)\n",
    "            rate_map_run = spike_freq_run/(occu_time_run/1000+ 1E-6) # ratemap: spike_map / occupancy_map\n",
    "            assert((run_numbers == spike_runs).all())\n",
    "\n",
    "            ## rate map for runs (for all neuron)\n",
    "            n_neuron = Spikes.shape[0]\n",
    "            spike_freq_run_all = np.zeros([n_neuron, _nruns])\n",
    "            rate_map_run_all =  np.zeros_like(spike_freq_run_all)\n",
    "            for i in range(n_neuron):\n",
    "                spike_freq_run_all[i,] ,_ ,_= scipy.stats.binned_statistic(\n",
    "                    spike_runs,\n",
    "                    Spikes[i,:],\n",
    "                    bins=_nruns,\n",
    "                    statistic=\"sum\",\n",
    "                    range=_coords_range)\n",
    "                rate_map_run_all[i,] = spike_freq_run_all[i,]/(occu_time_run/1000+ 1E-9)\n",
    "\n",
    "            ## spatial information for runs(all neurons)\n",
    "            t_runs_frac = occu_time_run/1000/ (t_total+ 1E-6)   # time spent in ith bin/total session time\n",
    "\n",
    "            # Shuffle: shift with a random constant\n",
    "            SI_run_all = np.zeros(n_neuron)\n",
    "            is_runcell_shift = np.zeros(n_neuron)\n",
    "\n",
    "            for i in tqdm(range(n_neuron)):\n",
    "                SI_run_all[i] = calc_SI(spikes=Spikes[i,], rate_map=rate_map_run_all[i,], t_total=t_total, t_nodes_frac=t_runs_frac)\n",
    "                is_runcell_shift[i] = shuffle_test_shift(SI = SI_run_all[i], spikes = Spikes[i,], spike_nodes=spike_runs, occu_time=occu_time_run, _coords_range=_coords_range, _nbins = _nruns)\n",
    "\n",
    "            print(\"# of run cell using time shift shuffle method:\", np.sum(is_runcell_shift), \"/\", n_neuron)\n",
    "\n",
    "            ## !! save data\n",
    "            mylist = [rate_map_run_all, is_runcell_shift, SI_run_all, spike_freq_run_all, occu_time_run]\n",
    "            with open('data/' + current_sign + \"ratemap_run.pkl\", 'wb') as f:\n",
    "                pickle.dump(mylist, f)\n"
   ]
  }
 ],
 "metadata": {
  "kernelspec": {
   "display_name": "Python 3",
   "language": "python",
   "name": "python3"
  },
  "language_info": {
   "codemirror_mode": {
    "name": "ipython",
    "version": 3
   },
   "file_extension": ".py",
   "mimetype": "text/x-python",
   "name": "python",
   "nbconvert_exporter": "python",
   "pygments_lexer": "ipython3",
   "version": "3.8.5"
  }
 },
 "nbformat": 4,
 "nbformat_minor": 4
}
