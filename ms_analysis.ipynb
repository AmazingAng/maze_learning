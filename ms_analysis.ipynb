{
 "cells": [
  {
   "cell_type": "code",
   "execution_count": 1,
   "metadata": {},
   "outputs": [],
   "source": [
    "# from scipy.io import loadmat\n",
    "import matplotlib.pyplot as plt\n",
    "import numpy as np\n",
    "import pickle\n",
    "import h5py\n",
    "import scipy.stats\n",
    "from tqdm import tqdm\n",
    "import pdb\n",
    "import os\n",
    "from matplotlib.backends.backend_pdf import PdfPages\n",
    "import sklearn.preprocessing\n",
    "\n",
    "# behav_mat = loadmat('ms.mat');\n",
    "# read calcium data\n",
    "with h5py.File('ms.mat', 'r') as f:\n",
    "    ms_mat = f['ms']\n",
    "    FiltTraces = np.array(ms_mat['FiltTraces'])\n",
    "    RawTraces = np.array(ms_mat['RawTraces'])\n",
    "    DeconvSignal = np.array(ms_mat['DeconvSignals'])\n",
    "    ms_time = np.array(ms_mat['time'])[0,]\n",
    "# read behav data\n",
    "with open('maze1.pkl', 'rb') as handle:\n",
    "    graph = pickle.load(handle)\n",
    "# time in seconds\n",
    "with open('behav_decision.pkl', 'rb') as handle:\n",
    "    correct_time, wrong_time, correct_time_percentage, decision_rate,_ = pickle.load(handle)\n",
    "with open('behav_processed.pkl', 'rb') as handle:\n",
    "    behav_time_original, behav_nodes_interpolated, behav_dir = pickle.load(handle)\n"
   ]
  },
  {
   "cell_type": "code",
   "execution_count": 2,
   "metadata": {
    "scrolled": true
   },
   "outputs": [
    {
     "data": {
      "text/plain": [
       "[<matplotlib.lines.Line2D at 0x283734019a0>]"
      ]
     },
     "execution_count": 2,
     "metadata": {},
     "output_type": "execute_result"
    },
    {
     "data": {
      "image/png": "[encoded data removed]",
      "text/plain": [
       "<Figure size 432x288 with 3 Axes>"
      ]
     },
     "metadata": {
      "needs_background": "light"
     },
     "output_type": "display_data"
    }
   ],
   "source": [
    "# remove no behav recording period\n",
    "behav_mask = (ms_time>=behav_time_original[0]) & (ms_time<behav_time_original[-1])\n",
    "FiltTraces_behav = FiltTraces[:,behav_mask]\n",
    "RawTraces_behav = RawTraces[:,behav_mask]\n",
    "DeconvSignal_behav = DeconvSignal[:,behav_mask]\n",
    "ms_time_behav = ms_time[behav_mask]\n",
    "\n",
    "# plot spike data\n",
    "deconv_sd = np.std(DeconvSignal_behav, axis = 1) * 3\n",
    "Spikes = np.where(DeconvSignal_behav>np.repeat(deconv_sd[:,np.newaxis], DeconvSignal_behav.shape[1],1), 1, 0)\n",
    "plt.subplot(311)\n",
    "plt.plot(Spikes[1,:])\n",
    "plt.subplot(312)\n",
    "plt.plot(Spikes[2,:])\n",
    "plt.subplot(313)\n",
    "plt.plot(Spikes[3,:])"
   ]
  },
  {
   "cell_type": "code",
   "execution_count": 3,
   "metadata": {},
   "outputs": [],
   "source": [
    "class Cell:\n",
    "    \"\"\"A cell in the maze.\n",
    "\n",
    "    A maze \"Cell\" is a point in the grid which may be surrounded by walls to\n",
    "    the north, east, south or west.\n",
    "\n",
    "    \"\"\"\n",
    "\n",
    "    # A wall separates a pair of cells in the N-S or W-E directions.\n",
    "    wall_pairs = {'N': 'S', 'S': 'N', 'E': 'W', 'W': 'E'}\n",
    "\n",
    "    def __init__(self, x, y):\n",
    "        \"\"\"Initialize the cell at (x,y). At first it is surrounded by walls.\"\"\"\n",
    "\n",
    "        self.x, self.y = x, y\n",
    "        self.walls = {'N': True, 'S': True, 'E': True, 'W': True}\n",
    "\n",
    "    def has_all_walls(self):\n",
    "        \"\"\"Does this cell still have all its walls?\"\"\"\n",
    "\n",
    "        return all(self.walls.values())\n",
    "\n",
    "    def knock_down_wall(self, other, wall):\n",
    "        \"\"\"Knock down the wall between cells self and other.\"\"\"\n",
    "\n",
    "        self.walls[wall] = False\n",
    "        other.walls[Cell.wall_pairs[wall]] = False\n",
    "\n",
    "        \n",
    "class Maze:\n",
    "    \"\"\"    \n",
    "    This constructs a maze with a given graph, represented as a grid of cells.\n",
    "    The maze consists of square cells the width of a corridor.\n",
    "    Each cell in the maze has an (x,y) location, with x,y = 0,...,n\n",
    "    y runs top to bottom.\n",
    "    Each cell is also given a unique integer cell number.\n",
    "    The present maze consists of straight runs, each run terminates in a branch point or \n",
    "    an end point. \n",
    "    \n",
    "    graph: dict, keys-nodes: values-their neighbors\n",
    "    maze_map: list of Cells\n",
    "    decision_node: nodes with decision point\n",
    "    runs: list of list of nodes\n",
    "    \"\"\"\n",
    "\n",
    "    def __init__(self, nx, ny, graph, ix=0, iy=0, start_node = 1, end_node = 144):\n",
    "        \"\"\"Initialize the maze grid.\n",
    "        The maze consists of nx x ny cells and will be constructed starting\n",
    "        at the cell indexed at (ix, iy).\n",
    "\n",
    "        \"\"\"\n",
    "        self.nx, self.ny = nx, ny\n",
    "        self.ix, self.iy = ix, iy\n",
    "        self.cell_num = nx * ny\n",
    "        self.graph = graph\n",
    "        self.maze_map = [[Cell(x, y) for y in range(ny)] for x in range(nx)]\n",
    "        # Direction: neightbor - current\n",
    "        self.to_direction = {(-1, 0): 'W',\n",
    "                 (1, 0): 'E',\n",
    "                 (0, 1):'S',\n",
    "                 (0, -1): 'N'}\n",
    "        self.is_bidirectional = self.check_bidirectional(graph) # check if the graph is bidirectional\n",
    "        if self.is_bidirectional:\n",
    "            self.make_maze() # knock down walls according to graph\n",
    "            self.repeated_parents = set()\n",
    "            self.decision_nodes = []\n",
    "            self.runs = self.get_run_from_current(start_node, graph)\n",
    "            self.shortest_path = self.BFS_SP(graph, start_node, end_node)\n",
    "            self.run_levels = self.get_levels_for_runs()\n",
    "            self.cell_levels = self.get_levels_for_cells()\n",
    "            \n",
    "    def cell_at(self, x, y):\n",
    "        \"\"\"Return the Cell object at (x,y).\"\"\"\n",
    "        return self.maze_map[x][y]\n",
    "    \n",
    "    def idx_to_loc(self, idx):\n",
    "        # convert index to location (x,y), note: location start from 0\n",
    "        cell_w = idx % self.nx\n",
    "        cell_h = idx // self.ny\n",
    "        return cell_w, cell_h\n",
    "    \n",
    "    def loc_to_idx(self, cell_w, cell_h):\n",
    "        # convert location (x,y) to index\n",
    "        idx = cell_w * self.nx + cell_h +1\n",
    "        return idx\n",
    "    \n",
    "    def check_bidirectional(self, graph):\n",
    "        # check if the maze is bidirectional\n",
    "        is_bidirectional = True\n",
    "        for node in graph.keys():\n",
    "            child_nodes = graph[node]\n",
    "            for child in child_nodes:\n",
    "                if not node in graph[child]:\n",
    "                    print(\"Warning: node \" + str(node) + \" not in node \" + str(child))\n",
    "                    is_bidirectional = False\n",
    "        if is_bidirectional:\n",
    "            print(\"The maze is bidirectional, Ye!\")\n",
    "        else:\n",
    "            print(\"Something is wrong, check log\")\n",
    "        return is_bidirectional\n",
    "\n",
    "    def get_run_from_current(self, current_node, graph, runs = []):\n",
    "        # get all runs from current node. Runs are defined as independent decision unit consisting a group of nodes\n",
    "        # return runs\n",
    "        done = False\n",
    "        run = [current_node] # put current node in run\n",
    "        self.repeated_parents.add(current_node) # add current node to repeated node (each node only belongs to one run)\n",
    "        children_node = [value for value in graph[current_node] if not value in self.repeated_parents] # delete repeated children\n",
    "\n",
    "        while not done:\n",
    "            if len(children_node) >= 2: # child nodes >=2, decision point\n",
    "                print(\"Node \" + str(current_node) + \" is Decision point\")\n",
    "                self.decision_nodes.append(current_node)\n",
    "                runs.append(run) # \n",
    "                # b.set_trace()\n",
    "                for child in children_node:\n",
    "                    runs = self.get_run_from_current(child, graph, runs = runs)\n",
    "                done = True\n",
    "            elif len(children_node) == 0: # leaf node\n",
    "                print(\"Node \" + str(current_node) + \" is Leaf node\")\n",
    "                runs.append(run)\n",
    "                done = True\n",
    "            else:\n",
    "                current_node = children_node[0]\n",
    "                # print(current_node)\n",
    "                self.repeated_parents.add(current_node)\n",
    "                run.append(current_node)\n",
    "                # pdb.set_trace()\n",
    "                children_node = [value for value in graph[current_node] if not value in self.repeated_parents] # parent will not be children's children\n",
    "        return runs\n",
    "    \n",
    "    def get_levels_for_runs(self):\n",
    "        # calculate levels for all runs\n",
    "        # a level consists a group of cells separated by decision points\n",
    "        level_seq = list(range(len(self.decision_nodes)))\n",
    "        run_level = [0]*len(self.runs)\n",
    "        for i in range(len(self.runs)):\n",
    "            # if runs are on shortest path, the last node should be decision nodes and determine its level\n",
    "            if self.runs[i][-1] in self.decision_nodes:\n",
    "                run_level[i] = level_seq[self.decision_nodes.index(self.runs[i][-1])]\n",
    "            # if runs are not on shortest path, the neighbor of the first node should be decision nodes and determine its level\n",
    "            else:\n",
    "                first_neighbors = self.graph[self.runs[i][0]]\n",
    "                decision_node_ind = [ind for ind, val in enumerate(first_neighbors) if val in self.shortest_path][0]\n",
    "                decision_node_neighbor = first_neighbors[decision_node_ind]\n",
    "                run_level[i] = level_seq[self.decision_nodes.index(decision_node_neighbor)]\n",
    "        return run_level  \n",
    "\n",
    "    def get_levels_for_cells(self):\n",
    "        cell_levels = [0]*self.cell_num\n",
    "        # calculate levels for all cells\n",
    "        for i_run in range(len(self.runs)):\n",
    "            run_level = self.run_levels[i_run]\n",
    "            for i_cell in self.runs[i_run]:\n",
    "                cell_levels[i_cell-1] = run_level\n",
    "        return cell_levels\n",
    "        \n",
    "    # Function to find the shortest\n",
    "    # path between two nodes of a graph\n",
    "    def BFS_SP(self,graph, start, goal):\n",
    "        explored = []\n",
    "\n",
    "        # Queue for traversing the\n",
    "        # graph in the BFS\n",
    "        queue = [[start]]\n",
    "\n",
    "        # If the desired node is\n",
    "        # reached\n",
    "        if start == goal:\n",
    "            print(\"Same Node\")\n",
    "            return(None)\n",
    "\n",
    "        # Loop to traverse the graph\n",
    "        # with the help of the queue\n",
    "        while queue:\n",
    "            path = queue.pop(0)\n",
    "            node = path[-1]\n",
    "\n",
    "            # Condition to check if the\n",
    "            # current node is not visited\n",
    "            if node not in explored:\n",
    "                neighbours = graph[node]\n",
    "\n",
    "                # Loop to iterate over the\n",
    "                # neighbours of the node\n",
    "                for neighbour in neighbours:\n",
    "                    new_path = list(path)\n",
    "                    new_path.append(neighbour)\n",
    "                    queue.append(new_path)\n",
    "\n",
    "                    # Condition to check if the\n",
    "                    # neighbour node is the goal\n",
    "                    if neighbour == goal:\n",
    "                        print(\"Shortest path = \", *new_path)\n",
    "                        return(new_path)\n",
    "                explored.append(node)\n",
    "\n",
    "        # Condition when the nodes\n",
    "        # are not connected\n",
    "        print(\"So sorry, but a connecting\"\\\n",
    "                    \"path doesn't exist :(\")\n",
    "        return(None)\n",
    "    \n",
    "    def __str__(self):\n",
    "        \"\"\"Return a (crude) string representation of the maze.\"\"\"\n",
    "\n",
    "        maze_rows = ['-' * self.nx * 2]\n",
    "        for y in range(self.ny):\n",
    "            maze_row = ['|']\n",
    "            for x in range(self.nx):\n",
    "                if self.maze_map[x][y].walls['E']:\n",
    "                    maze_row.append(' |')\n",
    "                else:\n",
    "                    maze_row.append('  ')\n",
    "            maze_rows.append(''.join(maze_row))\n",
    "            maze_row = ['|']\n",
    "            for x in range(self.nx):\n",
    "                if self.maze_map[x][y].walls['S']:\n",
    "                    maze_row.append('-+')\n",
    "                else:\n",
    "                    maze_row.append(' +')\n",
    "            maze_rows.append(''.join(maze_row))\n",
    "        return '\\n'.join(maze_rows)\n",
    "    \n",
    "    def maze_plot(self, axes = None):\n",
    "        # plot maze with matplotlib.plot\n",
    "        aspect_ratio = self.nx / self.ny\n",
    "        # Pad the maze all around by this amount.\n",
    "        padding = 0.05\n",
    "        # Height and width of the maze image (excluding padding), in pixels\n",
    "        height = 6\n",
    "        width = int(height * aspect_ratio)\n",
    "        # Scaling factors mapping maze coordinates to image coordinates\n",
    "        scy, scx = height / self.ny, width / self.nx\n",
    "        # Write the SVG image file for maze\n",
    "        # SVG preamble and styles.\n",
    "        if axes == None:\n",
    "            fig = plt.figure(figsize=[(height + 2 * padding), (width + 2 * padding)])\n",
    "            axes = plt.gca()\n",
    "            axes.invert_yaxis()\n",
    "        \n",
    "        # Draw the \"South\" and \"East\" walls of each cell, if present (these\n",
    "        # are the \"North\" and \"West\" walls of a neighbouring cell in\n",
    "        # general, of course).\n",
    "        for x in range(self.nx):\n",
    "            for y in range(self.ny):\n",
    "                if self.cell_at(x, y).walls['S']:\n",
    "                    x1, y1, x2, y2 = x * scx, (y + 1) * scy, (x + 1) * scx, (y + 1) * scy\n",
    "                    axes.plot([x1, x2], [y1, y2], color = \"black\")\n",
    "                if self.cell_at(x, y).walls['E']:\n",
    "                    x1, y1, x2, y2 = (x + 1) * scx, y * scy, (x + 1) * scx, (y + 1) * scy\n",
    "                    axes.plot([x1, x2], [y1, y2], color = \"black\")\n",
    "        # Draw the North and West maze border, which won't have been drawn\n",
    "        # by the procedure above.\n",
    "        axes.plot([0, 0], [0, height], color = \"black\")\n",
    "        axes.plot([0, width], [0, 0], color = \"black\")\n",
    "        return axes\n",
    "    \n",
    "    def maze_plot_num(self, axes = None, mode='cells',numcol='blue'):\n",
    "        '''\n",
    "        adds numbering to an existing maze plot given by axes\n",
    "        m: maze\n",
    "        mode: 'cells','runs','nodes': depending on what gets numbered\n",
    "        numcol: color of the numbers\n",
    "        '''\n",
    "        axes = self.maze_plot(axes)\n",
    "        # plot maze with matplotlib.plot\n",
    "        aspect_ratio = self.nx / self.ny\n",
    "        # Pad the maze all around by this amount.\n",
    "        padding = 0.05\n",
    "        # Height and width of the maze image (excluding padding), in pixels\n",
    "        height = 6\n",
    "        width = int(height * aspect_ratio)\n",
    "        # Scaling factors mapping maze coordinates to image coordinates\n",
    "        scy, scx = height / self.ny, width / self.nx\n",
    "\n",
    "        if mode=='nodes':\n",
    "            for j,r in enumerate(self.runs):\n",
    "                x, y = self.idx_to_loc(r[-1]-1)\n",
    "                plt.text((x+0.25)*scx, (y+0.65)*scy, '{:d}'.format(j+1),color=numcol) # number the ends of a run    \n",
    "        \n",
    "        if mode=='cells':\n",
    "            for j in range(self.nx * self.ny):\n",
    "                x, y = self.idx_to_loc(j)\n",
    "                plt.text((x+0.25)*scx, (y+0.65)*scy, '{:d}'.format(j+1),color=numcol) # number the cells    \n",
    "        \n",
    "        if mode=='decisions':\n",
    "            for j,d in enumerate(self.decision_nodes):\n",
    "                x, y = self.idx_to_loc(d-1)\n",
    "                plt.text((x+0.25)*scx, (y+0.65)*scy, '{:d}'.format(j+1),color=numcol) # number the cells    \n",
    "\n",
    "    \n",
    "    def write_svg(self, filename):\n",
    "        \"\"\"Write an SVG image of the maze to filename.\"\"\"\n",
    "\n",
    "        aspect_ratio = self.nx / self.ny\n",
    "        # Pad the maze all around by this amount.\n",
    "        padding = 10\n",
    "        # Height and width of the maze image (excluding padding), in pixels\n",
    "        height = 500\n",
    "        width = int(height * aspect_ratio)\n",
    "        # Scaling factors mapping maze coordinates to image coordinates\n",
    "        scy, scx = height / self.ny, width / self.nx\n",
    "\n",
    "        def write_wall(ww_f, ww_x1, ww_y1, ww_x2, ww_y2):\n",
    "            \"\"\"Write a single wall to the SVG image file handle f.\"\"\"\n",
    "\n",
    "            print('<line x1=\"{}\" y1=\"{}\" x2=\"{}\" y2=\"{}\"/>'\n",
    "                  .format(ww_x1, ww_y1, ww_x2, ww_y2), file=ww_f)\n",
    "\n",
    "        # Write the SVG image file for maze\n",
    "        with open(filename, 'w') as f:\n",
    "            # SVG preamble and styles.\n",
    "            print('<?xml version=\"1.0\" encoding=\"utf-8\"?>', file=f)\n",
    "            print('<svg xmlns=\"http://www.w3.org/2000/svg\"', file=f)\n",
    "            print('    xmlns:xlink=\"http://www.w3.org/1999/xlink\"', file=f)\n",
    "            print('    width=\"{:d}\" height=\"{:d}\" viewBox=\"{} {} {} {}\">'\n",
    "                  .format(width + 2 * padding, height + 2 * padding,\n",
    "                          -padding, -padding, width + 2 * padding, height + 2 * padding),\n",
    "                  file=f)\n",
    "            print('<defs>\\n<style type=\"text/css\"><![CDATA[', file=f)\n",
    "            print('line {', file=f)\n",
    "            print('    stroke: #000000;\\n    stroke-linecap: square;', file=f)\n",
    "            print('    stroke-width: 5;\\n}', file=f)\n",
    "            print(']]></style>\\n</defs>', file=f)\n",
    "            # Draw the \"South\" and \"East\" walls of each cell, if present (these\n",
    "            # are the \"North\" and \"West\" walls of a neighbouring cell in\n",
    "            # general, of course).\n",
    "            for x in range(self.nx):\n",
    "                for y in range(self.ny):\n",
    "                    if self.cell_at(x, y).walls['S']:\n",
    "                        x1, y1, x2, y2 = x * scx, (y + 1) * scy, (x + 1) * scx, (y + 1) * scy\n",
    "                        write_wall(f, x1, y1, x2, y2)\n",
    "                    if self.cell_at(x, y).walls['E']:\n",
    "                        x1, y1, x2, y2 = (x + 1) * scx, y * scy, (x + 1) * scx, (y + 1) * scy\n",
    "                        write_wall(f, x1, y1, x2, y2)\n",
    "            # Draw the North and West maze border, which won't have been drawn\n",
    "            # by the procedure above.\n",
    "            print('<line x1=\"0\" y1=\"0\" x2=\"{}\" y2=\"0\"/>'.format(width), file=f)\n",
    "            print('<line x1=\"0\" y1=\"0\" x2=\"0\" y2=\"{}\"/>'.format(height), file=f)\n",
    "            print('</svg>', file=f)\n",
    "\n",
    "    def make_maze(self):\n",
    "        ##  Knock down walls according to graph\n",
    "        ## Note: location (x, y) start from 0, while index (idx) start from 1, BE CAREFUL!\n",
    "        # Total number of cells.\n",
    "        n_total = self.nx * self.ny\n",
    "        for i in range(n_total):\n",
    "            current_idx = i+1\n",
    "            current_x, current_y = self.idx_to_loc(current_idx-1)\n",
    "            current_cell = self.cell_at(current_x, current_y)\n",
    "            neighbor_idxs = self.graph[current_idx]\n",
    "            for neighbor_idx in neighbor_idxs:\n",
    "                #pdb.set_trace()\n",
    "                neighbor_x, neighbor_y = self.idx_to_loc(neighbor_idx-1)\n",
    "                next_cell = self.cell_at(neighbor_x, neighbor_y)\n",
    "                # print((current_idx, neighbor_idx) )\n",
    "\n",
    "                # pdb.set_trace()\n",
    "                diff_loc = (neighbor_x-current_x, neighbor_y-current_y)\n",
    "                neighbor_dir = self.to_direction[diff_loc]\n",
    "                current_cell.knock_down_wall(next_cell, neighbor_dir)\n",
    "               \n",
    "            "
   ]
  },
  {
   "cell_type": "code",
   "execution_count": 4,
   "metadata": {},
   "outputs": [
    {
     "name": "stdout",
     "output_type": "stream",
     "text": [
      "The maze is bidirectional, Ye!\n",
      "Node 1 is Decision point\n",
      "Node 2 is Leaf node\n",
      "Node 13 is Decision point\n",
      "Node 6 is Decision point\n",
      "Node 8 is Leaf node\n",
      "Node 17 is Decision point\n",
      "Node 28 is Leaf node\n",
      "Node 30 is Decision point\n",
      "Node 24 is Decision point\n",
      "Node 84 is Decision point\n",
      "Node 94 is Decision point\n",
      "Node 55 is Decision point\n",
      "Node 43 is Leaf node\n",
      "Node 54 is Decision point\n",
      "Node 53 is Leaf node\n",
      "Node 51 is Decision point\n",
      "Node 39 is Decision point\n",
      "Node 40 is Leaf node\n",
      "Node 97 is Decision point\n",
      "Node 86 is Leaf node\n",
      "Node 109 is Decision point\n",
      "Node 129 is Decision point\n",
      "Node 139 is Leaf node\n",
      "Node 142 is Decision point\n",
      "Node 130 is Decision point\n",
      "Node 120 is Leaf node\n",
      "Node 144 is Leaf node\n",
      "Node 143 is Leaf node\n",
      "Node 135 is Leaf node\n",
      "Node 52 is Leaf node\n",
      "Node 93 is Leaf node\n",
      "Node 96 is Leaf node\n",
      "Node 35 is Leaf node\n",
      "Node 41 is Leaf node\n",
      "Node 25 is Leaf node\n",
      "Shortest path =  1 13 14 26 27 15 3 4 5 6 18 17 29 30 31 19 20 21 9 10 11 12 24 23 22 34 33 32 44 45 46 47 48 60 59 58 57 56 68 69 70 71 72 84 83 95 94 82 81 80 92 104 103 91 90 78 79 67 55 54 66 65 64 63 75 74 62 50 51 39 38 37 49 61 73 85 97 109 110 122 123 111 112 100 99 87 88 76 77 89 101 102 114 113 125 124 136 137 138 126 127 115 116 117 129 141 142 130 131 132 144\n",
      "Shortest path =  1 13 14 26 27 15 3 4 5 6 18 17 29 30 31 19 20 21 9 10 11 12 24 23 22 34 33 32 44 45 46 47 48 60 59 58 57 56 68 69 70 71 72 84 83 95 94 82 81 80 92 104 103 91 90 78 79 67 55 54 66 65 64 63 75 74 62 50 51 39 38 37 49 61 73 85 97 109 110 122 123 111 112 100 99 87 88 76 77 89 101 102 114 113 125 124 136 137 138 126 127 115 116 117 129 141 142 130 131 132 144\n"
     ]
    }
   ],
   "source": [
    "# initialze maze object\n",
    "start_node = 1\n",
    "end_node = 144\n",
    "nx = 12\n",
    "ny = 12\n",
    "total_bin = nx*ny\n",
    "test_maze = Maze(nx, ny, graph)\n",
    "new_maze = test_maze.make_maze()\n",
    "shortest_path = test_maze.BFS_SP(graph, start_node, end_node)\n",
    "# behav_bins = test_maze.idx_to_loc(behav_nodes_interpolated-1) # start from 0"
   ]
  },
  {
   "cell_type": "code",
   "execution_count": 5,
   "metadata": {},
   "outputs": [],
   "source": [
    "# spike per bin\n",
    "spike_nodes = np.zeros_like(Spikes[0,:])\n",
    "for i in range(0, len(spike_nodes)):\n",
    "    if ms_time_behav[i] < behav_time_original[0]:\n",
    "        spike_nodes[i] = start_node;\n",
    "    else:\n",
    "        match_index = np.where(behav_time_original <= ms_time_behav[i])[0][-1]\n",
    "        spike_nodes[i] = behav_nodes_interpolated[match_index]\n",
    "spike_bins = test_maze.idx_to_loc(spike_nodes-1)"
   ]
  },
  {
   "cell_type": "code",
   "execution_count": 8,
   "metadata": {},
   "outputs": [],
   "source": [
    "# occupancy map, in ms\n",
    "# Duration for each (X,Y) sample (clipped to maxGap)\n",
    "maxGap = 100\n",
    "stay_time = np.append(np.ediff1d(ms_time_behav),0)\n",
    "stay_time[stay_time>maxGap] = maxGap\n",
    "_nbins = total_bin\n",
    "_coords_range = [0, _nbins +0.0001 ]\n",
    "occu_time, xbin_edges, bin_numbers = scipy.stats.binned_statistic(\n",
    "        spike_nodes,\n",
    "        stay_time,\n",
    "        bins=_nbins,\n",
    "        statistic=\"sum\",\n",
    "        range=_coords_range)\n",
    "\n",
    "assert((bin_numbers == spike_nodes).all())\n",
    "minimum_occu_thres = 50 # ms, occupancy time less than the threshold are set to NAN, preventing large spike rate\n",
    "occu_time[occu_time<minimum_occu_thres] = np.nan"
   ]
  },
  {
   "cell_type": "code",
   "execution_count": 19,
   "metadata": {},
   "outputs": [],
   "source": [
    "### sum rate map (for first neuron)\n",
    "_nbins = total_bin\n",
    "_coords_range = [0, _nbins +0.0001 ]\n",
    "spikes = Spikes[0,:]\n",
    "\n",
    "# spike_map: total spikes per nodes\n",
    "spike_freq, xbin_edges, bin_numbers = scipy.stats.binned_statistic(\n",
    "        spike_nodes,\n",
    "        spikes,\n",
    "        bins=_nbins,\n",
    "        statistic=\"sum\",\n",
    "        range=_coords_range)\n",
    "\n",
    "rate_map = spike_freq/(occu_time/1000+ 1E-6) # ratemap: spike_map / occupancy_map\n",
    "assert((bin_numbers == spike_nodes).all())\n"
   ]
  },
  {
   "cell_type": "code",
   "execution_count": 20,
   "metadata": {},
   "outputs": [],
   "source": [
    "# rate map (for all neuron)\n",
    "n_neuron = Spikes.shape[0]\n",
    "spike_freq_all = np.zeros([n_neuron,total_bin])\n",
    "rate_map_all =  np.zeros_like(spike_freq_all)\n",
    "for i in range(n_neuron):\n",
    "    spike_freq_all[i,] ,_ ,_= scipy.stats.binned_statistic(\n",
    "        spike_nodes,\n",
    "        Spikes[i,:],\n",
    "        bins=_nbins,\n",
    "        statistic=\"sum\",\n",
    "        range=_coords_range)\n",
    "    rate_map_all[i,] = spike_freq_all[i,]/(occu_time/1000+ 1E-9)"
   ]
  },
  {
   "cell_type": "code",
   "execution_count": 17,
   "metadata": {},
   "outputs": [
    {
     "name": "stdout",
     "output_type": "stream",
     "text": [
      "This cell is rejected by 95% threshold, i.e. not place cell.\n"
     ]
    }
   ],
   "source": [
    "# spatial information (for one neuron) \n",
    "# see DOI: 10.1126/science.aav9199\n",
    "t_total = np.nansum(occu_time)/1000 # total time of trial\n",
    "t_nodes_frac = occu_time/1000/ (t_total+ 1E-6)   # time spent in ith bin/total session time\n",
    "\n",
    "def calc_SI(spikes, rate_map, t_total, t_nodes_frac):\n",
    "    mean_rate = sum(spikes)/t_total # mean firing rate\n",
    "    logArg = rate_map / mean_rate;\n",
    "    logArg[logArg == 0] = 1; # keep argument in log non-zero\n",
    "\n",
    "    IC = np.nansum(t_nodes_frac * rate_map * np.log2(logArg)) # information content\n",
    "    SI = IC / mean_rate; # spatial information (bits/spike)\n",
    "    return(SI)\n",
    "\n",
    "SI = calc_SI(spikes=spikes, rate_map=rate_map, t_total=t_total, t_nodes_frac=t_nodes_frac)\n",
    "\n",
    "# shuffle information for 1000 times\n",
    "shuffle_n = 1000\n",
    "SI_rand = np.zeros(shuffle_n)\n",
    "for i in range(shuffle_n):\n",
    "    shuffle_tmp = np.random.randint(Spikes.shape[1])\n",
    "    spikes_rand = np.roll(spikes, shuffle_tmp)\n",
    "    spike_freq_rand, _, _ = scipy.stats.binned_statistic(\n",
    "        spike_nodes,\n",
    "        spikes_rand,\n",
    "        bins=_nbins,\n",
    "        statistic=\"sum\",\n",
    "        range=_coords_range)\n",
    "    rate_map_rand = spike_freq_rand/(occu_time/1000+ 1E-6)    \n",
    "    SI_rand[i] = calc_SI(spikes = spikes_rand, rate_map = rate_map_rand, t_total = t_total, t_nodes_frac=t_nodes_frac)\n",
    "SI_thres = np.percentile(SI_rand, 95)\n",
    "if SI<SI_thres:\n",
    "    print(\"This cell is rejected by 95% threshold, i.e. not place cell.\" )\n",
    "else:\n",
    "    print(\"Ye! This cell is a place cell!\")"
   ]
  },
  {
   "cell_type": "code",
   "execution_count": 18,
   "metadata": {},
   "outputs": [
    {
     "name": "stderr",
     "output_type": "stream",
     "text": [
      "100%|██████████████████████████████████████████████████████████████████████████████████| 85/85 [00:53<00:00,  1.59it/s]\n"
     ]
    }
   ],
   "source": [
    "# spatial information (all neurons)\n",
    "SI_all = np.zeros(n_neuron)\n",
    "is_placecell_shift = np.zeros(n_neuron)\n",
    "\n",
    "def shuffle_test_shift(SI, spikes, spike_nodes, occu_time, _coords_range, _nbins = 144, shuffle_n = 1000):\n",
    "    SI_rand = np.zeros(shuffle_n)\n",
    "    t_total = np.nansum(occu_time)/1000\n",
    "    t_nodes_frac = occu_time/1000/ (t_total+ 1E-6)\n",
    "    for i in range(shuffle_n):\n",
    "        shuffle_tmp = np.random.randint(spikes.shape[0])\n",
    "        spikes_rand = np.roll(spikes, shuffle_tmp)\n",
    "        spike_freq_rand, _, _ = scipy.stats.binned_statistic(\n",
    "            spike_nodes,\n",
    "            spikes_rand,\n",
    "            bins=_nbins,\n",
    "            statistic=\"sum\",\n",
    "            range=_coords_range)\n",
    "        rate_map_rand = spike_freq_rand/(occu_time/1000+ 1E-6)    \n",
    "        SI_rand[i] = calc_SI(spikes = spikes_rand, rate_map = rate_map_rand, t_total = t_total, t_nodes_frac=t_nodes_frac)\n",
    "    is_placecell = SI > np.percentile(SI_rand, 95)\n",
    "    return is_placecell\n",
    "\n",
    "for i in tqdm(range(n_neuron)):\n",
    "    SI_all[i] = calc_SI(spikes=Spikes[i,], rate_map=rate_map_all[i,], t_total=t_total, t_nodes_frac=t_nodes_frac)\n",
    "    is_placecell_shift[i] = shuffle_test_shift(SI = SI_all[i], spikes = Spikes[i,], spike_nodes=spike_nodes, occu_time=occu_time, _coords_range=_coords_range)"
   ]
  },
  {
   "cell_type": "code",
   "execution_count": 19,
   "metadata": {},
   "outputs": [
    {
     "name": "stderr",
     "output_type": "stream",
     "text": [
      "100%|██████████████████████████████████████████████████████████████████████████████████| 85/85 [00:53<00:00,  1.59it/s]\n"
     ]
    }
   ],
   "source": [
    "# spatial information (all neurons)\n",
    "# Shuffle all random\n",
    "SI_all = np.zeros(n_neuron)\n",
    "is_placecell_all = np.zeros(n_neuron)\n",
    "\n",
    "def shuffle_test(SI, spikes, spike_nodes, occu_time, _coords_range, _nbins = 144, shuffle_n = 1000):\n",
    "    SI_rand = np.zeros(shuffle_n)\n",
    "    t_total = np.nansum(occu_time)/1000\n",
    "    t_nodes_frac = occu_time/1000/ (t_total+ 1E-6)\n",
    "    sum_spikes = np.sum(spikes)\n",
    "    for i in range(shuffle_n):\n",
    "        spikes_rand = np.zeros_like(spikes)\n",
    "        shuffle_spike_ind = np.random.randint(spikes.shape[0], size = sum_spikes)\n",
    "        \n",
    "        spikes_rand[shuffle_spike_ind] = 1\n",
    "        spike_freq_rand, _, _ = scipy.stats.binned_statistic(\n",
    "            spike_nodes,\n",
    "            spikes_rand,\n",
    "            bins=_nbins,\n",
    "            statistic=\"sum\",\n",
    "            range=_coords_range)\n",
    "        rate_map_rand = spike_freq_rand/(occu_time/1000+ 1E-6)    \n",
    "        SI_rand[i] = calc_SI(spikes = spikes_rand, rate_map = rate_map_rand, t_total = t_total, t_nodes_frac=t_nodes_frac)\n",
    "    is_placecell = SI > np.percentile(SI_rand, 95)\n",
    "    return is_placecell\n",
    "\n",
    "for i in tqdm(range(n_neuron)):\n",
    "    SI_all[i] = calc_SI(spikes=Spikes[i,], rate_map=rate_map_all[i,], t_total=t_total, t_nodes_frac=t_nodes_frac)\n",
    "    is_placecell_all[i] = shuffle_test(SI = SI_all[i], spikes = Spikes[i,], spike_nodes=spike_nodes, occu_time=occu_time, _coords_range=_coords_range)"
   ]
  },
  {
   "cell_type": "code",
   "execution_count": 49,
   "metadata": {},
   "outputs": [
    {
     "name": "stderr",
     "output_type": "stream",
     "text": [
      "100%|██████████████████████████████████████████████████████████████████████████████████| 85/85 [00:56<00:00,  1.51it/s]\n"
     ]
    }
   ],
   "source": [
    "# spatial information (all neurons)\n",
    "# Shuffle ISI: DOI: 10.1523/JNEUROSCI.19-21-09497.1999\n",
    "SI_all = np.zeros(n_neuron)\n",
    "is_placecell_isi = np.zeros(n_neuron)\n",
    "\n",
    "def shuffle_test_isi(SI, spikes, spike_nodes, occu_time, _coords_range, _nbins = 144, shuffle_n = 1000):\n",
    "    SI_rand = np.zeros(shuffle_n)\n",
    "    t_total = np.nansum(occu_time)/1000\n",
    "    t_nodes_frac = occu_time/1000/ (t_total+ 1E-6) \n",
    "    spike_ind = np.where(spikes==1)[0] # spike index\n",
    "    isi = np.append(spike_ind[0], np.ediff1d(spike_ind)) # get interspike interval\n",
    "\n",
    "    for i in range(shuffle_n):\n",
    "        shuffle_isi = np.random.choice(isi, size = len(isi), replace = False) # shuffle interspike interval\n",
    "        shuffle_spike_ind = np.cumsum(shuffle_isi) # shuffled spike index\n",
    "\n",
    "        spikes_rand = np.zeros_like(spikes)        \n",
    "        spikes_rand[shuffle_spike_ind] = 1\n",
    "        spike_freq_rand, _, _ = scipy.stats.binned_statistic(\n",
    "            spike_nodes,\n",
    "            spikes_rand,\n",
    "            bins=_nbins,\n",
    "            statistic=\"sum\",\n",
    "            range=_coords_range)\n",
    "        rate_map_rand = spike_freq_rand/(occu_time/1000+ 1E-6)    \n",
    "        SI_rand[i] = calc_SI(spikes = spikes_rand, rate_map = rate_map_rand, t_total = t_total, t_nodes_frac=t_nodes_frac)\n",
    "    is_placecell = SI > np.percentile(SI_rand, 95)\n",
    "    return is_placecell\n",
    "\n",
    "for i in tqdm(range(n_neuron)):\n",
    "    SI_all[i] = calc_SI(spikes=Spikes[i,], rate_map=rate_map_all[i,], t_total=t_total, t_nodes_frac=t_nodes_frac)\n",
    "    is_placecell_isi[i] = shuffle_test_isi(SI = SI_all[i], spikes = Spikes[i,], spike_nodes=spike_nodes, occu_time=occu_time, _coords_range=_coords_range)"
   ]
  },
  {
   "cell_type": "code",
   "execution_count": 50,
   "metadata": {},
   "outputs": [
    {
     "name": "stdout",
     "output_type": "stream",
     "text": [
      "# of place cell using time shift shuffle method: 4.0\n",
      "# of place cell using time all shuffle method: 77.0\n",
      "# of place cell using time isi shuffle method: 0.0\n"
     ]
    }
   ],
   "source": [
    "print(\"# of place cell using time shift shuffle method:\" ,np.sum(is_placecell_shift ))\n",
    "print(\"# of place cell using time all shuffle method:\", np.sum(is_placecell_all ))\n",
    "print(\"# of place cell using time isi shuffle method:\", np.sum(is_placecell_isi ))\n"
   ]
  },
  {
   "cell_type": "code",
   "execution_count": 21,
   "metadata": {},
   "outputs": [
    {
     "data": {
      "image/png": "[encoded data removed]",
      "text/plain": [
       "<Figure size 864x864 with 1 Axes>"
      ]
     },
     "metadata": {
      "needs_background": "light"
     },
     "output_type": "display_data"
    }
   ],
   "source": [
    "# plot ratemap 2d:\n",
    "# np.where(is_placecell_isi)\n",
    "import pylab as pl\n",
    "\n",
    "\n",
    "def plot_ratemap(ratemap, axes=None, title=None, extent = [0 , 12, 0 , 12],title_color = \"black\", *args, **kwargs):  # pylint: disable=keyword-arg-before-vararg\n",
    "    \"\"\"Plot ratemaps.\"\"\"\n",
    "    if axes is None:\n",
    "        axes = pl.gca()\n",
    "    # Plot the ratemap\n",
    "    axes.imshow(ratemap, interpolation='none', extent = extent, origin = \"lower\", alpha = 0.8, *args, **kwargs)\n",
    "    # ax.pcolormesh(ratemap, *args, **kwargs)\n",
    "    axes.axis('off')\n",
    "    if title is not None:\n",
    "        axes.set_title(title, color = title_color)\n",
    "\n",
    "fig = plt.figure(figsize=[(12), (12)])\n",
    "axes = fig.add_subplot(1, 1, 1)\n",
    "# axes.invert_yaxis()\n",
    "\n",
    "# test_maze.maze_plot_num(axes = axes, mode = \"cells\")\n",
    "rate_map_2d = np.reshape(rate_map_all[2,], [12,12])\n",
    "plot_ratemap(rate_map_2d,  axes = axes)\n",
    "axes.invert_yaxis()\n",
    "# plt.scatter(1,1)\n"
   ]
  },
  {
   "cell_type": "code",
   "execution_count": 23,
   "metadata": {
    "scrolled": true
   },
   "outputs": [],
   "source": [
    "# plot ratemap 2d:\n",
    "# sorted by place cell first\n",
    "sort_by_place_cell = True\n",
    "directory = \"img_dir\"\n",
    "filename = \"rate_map.pdf\"\n",
    "# Sort by score if desired\n",
    "if sort_by_place_cell:\n",
    "    ordering = np.argsort(-np.array(is_placecell_isi))\n",
    "else:\n",
    "    ordering = range(n_neuron)\n",
    "# Plot\n",
    "cols = 8\n",
    "rows = int(np.ceil(n_neuron / cols))\n",
    "fig = plt.figure(figsize=(24, rows * 4))\n",
    "for i in range(n_neuron):\n",
    "    rf = plt.subplot(rows * 2, cols, i + 1)\n",
    "    if i < n_neuron:\n",
    "        index = ordering[i]\n",
    "        title = \"%d (%.2f)\" % (index, SI_all[index])\n",
    "        # Plot maze\n",
    "        # test_maze.maze_plot(axes = axes)\n",
    "        # Plot the activation maps\n",
    "        if is_placecell_isi[index] == 1:\n",
    "            plot_ratemap(np.reshape(rate_map_all[index,], [12,12]), axes=rf, title=title, title_color = \"red\")\n",
    "        else:\n",
    "            plot_ratemap(np.reshape(rate_map_all[index,], [12,12]), axes=rf, title=title)\n",
    "        # pl.colorbar()\n",
    "        rf.invert_yaxis()\n",
    "\n",
    "if not os.path.exists(directory):\n",
    "    os.makedirs(directory)\n",
    "with PdfPages(os.path.join(directory, filename), \"w\") as f:\n",
    "    plt.savefig(f, format=\"pdf\")\n",
    "    plt.close(fig)\n"
   ]
  },
  {
   "cell_type": "code",
   "execution_count": 24,
   "metadata": {},
   "outputs": [
    {
     "data": {
      "image/png": "[encoded data removed]",
      "text/plain": [
       "<Figure size 432x288 with 1 Axes>"
      ]
     },
     "metadata": {
      "needs_background": "light"
     },
     "output_type": "display_data"
    }
   ],
   "source": [
    "# plot ratemap 1d (all place cells):\n",
    "sort_by_nodes = True\n",
    "num_pc = int(sum(is_placecell_isi))\n",
    "rate_map_pc= rate_map_all[is_placecell_isi==1,]\n",
    "place_fields = np.nanargmax(rate_map_pc,axis=1)+1 # place field\n",
    "\n",
    "if sort_by_nodes:\n",
    "    ordering = np.argsort(-np.nanargmax(rate_map_pc,axis=1))\n",
    "else:\n",
    "    ordering = range(num_pc)\n",
    "\n",
    "# normalize tuning curve to [0, 1]\n",
    "rate_map_pc_norm = sklearn.preprocessing.minmax_scale(rate_map_pc, feature_range=(0, 1), axis=1, copy=True)\n",
    "# plot\n",
    "plot_ratemap(rate_map_pc_norm[ordering,:][:,~np.isnan(rate_map_pc_norm[0,])],extent = [0 , 1000, 0 , 300])\n",
    "# save figure\n",
    "filename = \"norm_ratemap_1d.pdf\"\n",
    "if not os.path.exists(directory):\n",
    "    os.makedirs(directory)\n",
    "with PdfPages(os.path.join(directory, filename), \"w\") as f:\n",
    "    plt.savefig(f, format=\"pdf\")\n",
    "    plt.close(fig)"
   ]
  },
  {
   "cell_type": "code",
   "execution_count": 25,
   "metadata": {},
   "outputs": [
    {
     "data": {
      "image/png": "[encoded data removed]",
      "text/plain": [
       "<Figure size 432x288 with 1 Axes>"
      ]
     },
     "metadata": {
      "needs_background": "light"
     },
     "output_type": "display_data"
    }
   ],
   "source": [
    "# ratemap 1d: orderd by shortest path\n",
    "sort_by_path = True\n",
    "num_pc = int(sum(is_placecell_isi))\n",
    "rate_map_pc= rate_map_all[is_placecell_isi==1,]\n",
    "if sort_by_path:\n",
    "    non_shortest_path = list(np.setdiff1d(list(graph.keys()), test_maze.shortest_path))\n",
    "    preferred_nodes = np.nanargmax(rate_map_pc,axis=1)+1 # place field\n",
    "    total_list = shortest_path + non_shortest_path\n",
    "    tmp_index = np.zeros(num_pc)\n",
    "    for i in range(num_pc):\n",
    "        tmp_index[i] =  np.where(total_list == preferred_nodes[i])[0]\n",
    "        \n",
    "    ordering = np.argsort(-tmp_index)\n",
    "else:\n",
    "    ordering = range(num_pc)\n",
    "\n",
    "# normalize tuning curve to [0, 1]\n",
    "rate_map_pc_norm = sklearn.preprocessing.minmax_scale(rate_map_pc, feature_range=(0, 1), axis=1, copy=True)\n",
    "# plot\n",
    "rate_map_ordered = rate_map_pc_norm[ordering,:][:,np.array(total_list)-1]\n",
    "plot_ratemap(rate_map_ordered[:,~np.isnan(rate_map_ordered[0,])],extent = [0 , 1000, 0 , 300])\n",
    "# save figure\n",
    "filename = \"norm_ratemap_1d_path.pdf\"\n",
    "if not os.path.exists(directory):\n",
    "    os.makedirs(directory)\n",
    "with PdfPages(os.path.join(directory, filename), \"w\") as f:\n",
    "    plt.savefig(f, format=\"pdf\")\n",
    "    plt.close(fig)"
   ]
  },
  {
   "cell_type": "code",
   "execution_count": 26,
   "metadata": {},
   "outputs": [
    {
     "name": "stdout",
     "output_type": "stream",
     "text": [
      "% of place fields on shortest path： 85.71%\n",
      " Chance Level: 77.08%\n"
     ]
    }
   ],
   "source": [
    "# shortest path selective %\n",
    "path_prefer_num = 0\n",
    "for i in range(num_pc):\n",
    "    if place_fields[i] in shortest_path:\n",
    "        path_prefer_num += 1\n",
    "        \n",
    "path_ratio = path_prefer_num/num_pc\n",
    "path_ratio_chance = len(shortest_path)/total_bin\n",
    "print(\"% of place fields on shortest path： \" + \"{:.2f}\".format(path_ratio*100) + \"%\\n Chance Level: \" + \"{:.2f}\".format(path_ratio_chance*100)+\"%\" )\n"
   ]
  },
  {
   "cell_type": "code",
   "execution_count": 27,
   "metadata": {},
   "outputs": [
    {
     "name": "stdout",
     "output_type": "stream",
     "text": [
      "% of place fields on decison nodes： 11.69%\n",
      " Chance Level: 11.81%\n"
     ]
    }
   ],
   "source": [
    "# decision node selective %\n",
    "decision_prefer_num = 0\n",
    "for i in range(num_pc):\n",
    "    if place_fields[i] in test_maze.decision_nodes:\n",
    "        decision_prefer_num += 1\n",
    "        \n",
    "decision_ratio = decision_prefer_num/num_pc\n",
    "decision_ratio_chance = len(test_maze.decision_nodes)/total_bin\n",
    "print(\"% of place fields on decison nodes： \" + \"{:.2f}\".format(decision_ratio*100) + \"%\\n Chance Level: \" + \"{:.2f}\".format(decision_ratio_chance*100)+\"%\" )\n"
   ]
  },
  {
   "cell_type": "code",
   "execution_count": 71,
   "metadata": {},
   "outputs": [],
   "source": [
    "# branch selective %\n",
    "## spike node to runs\n",
    "def node_to_run(node, runs):\n",
    "    # transform node number (start from 1) to run number (start from 1)\n",
    "    # for example node 1, to run 1\n",
    "    run_ind = 0\n",
    "    for run_i in runs:\n",
    "        if node in run_i:\n",
    "            run_ind = runs.index(run_i)+1\n",
    "            return run_ind\n",
    "    return run_ind\n",
    "        \n",
    "spike_runs = np.zeros_like(spike_nodes)\n",
    "for i in range(len(spike_nodes)):\n",
    "    spike_runs[i] = node_to_run(spike_nodes[i], test_maze.runs)\n",
    "\n",
    "\n",
    "# occupancy map, in ms\n",
    "_nruns = len(test_maze.runs)\n",
    "_coords_range = [0, _nruns +0.0001 ]\n",
    "occu_time_run, _, run_numbers = scipy.stats.binned_statistic(\n",
    "        spike_runs,\n",
    "        stay_time,\n",
    "        bins=_nruns,\n",
    "        statistic=\"sum\",\n",
    "        range=_coords_range)\n",
    "assert((run_numbers == spike_runs).all())\n",
    "minimum_occu_thres = 50 # ms, occupancy time less than the threshold are set to NAN, preventing large spike rate\n",
    "occu_time_run[occu_time_run<minimum_occu_thres] = np.nan\n",
    "\n",
    "# branch rate map \n",
    "### sum rate map (for first neuron)\n",
    "spikes = Spikes[0,:]\n",
    "# spike_map: total spikes per nodes\n",
    "spike_freq_run, xbin_edges, run_numbers = scipy.stats.binned_statistic(\n",
    "        spike_runs,\n",
    "        spikes,\n",
    "        bins=_nruns,\n",
    "        statistic=\"sum\",\n",
    "        range=_coords_range)\n",
    "rate_map_run = spike_freq_run/(occu_time_run/1000+ 1E-6) # ratemap: spike_map / occupancy_map\n",
    "assert((run_numbers == spike_runs).all())\n",
    "\n",
    "# rate map for branches (for all neuron)\n",
    "n_neuron = Spikes.shape[0]\n",
    "spike_freq_run_all = np.zeros([n_neuron, _nruns])\n",
    "rate_map_run_all =  np.zeros_like(spike_freq_run_all)\n",
    "for i in range(n_neuron):\n",
    "    spike_freq_run_all[i,] ,_ ,_= scipy.stats.binned_statistic(\n",
    "        spike_runs,\n",
    "        Spikes[i,:],\n",
    "        bins=_nruns,\n",
    "        statistic=\"sum\",\n",
    "        range=_coords_range)\n",
    "    rate_map_run_all[i,] = spike_freq_run_all[i,]/(occu_time_run/1000+ 1E-9)"
   ]
  },
  {
   "cell_type": "code",
   "execution_count": 29,
   "metadata": {},
   "outputs": [
    {
     "name": "stderr",
     "output_type": "stream",
     "text": [
      "100%|██████████████████████████████████████████████████████████████████████████████████| 85/85 [00:51<00:00,  1.66it/s]"
     ]
    },
    {
     "name": "stdout",
     "output_type": "stream",
     "text": [
      "# of run cell using time isi shuffle method: 79.0\n"
     ]
    },
    {
     "name": "stderr",
     "output_type": "stream",
     "text": [
      "\n"
     ]
    }
   ],
   "source": [
    "# spatial information for runs(all neurons)\n",
    "t_runs_frac = occu_time_run/1000/ (t_total+ 1E-6)   # time spent in ith bin/total session time\n",
    "\n",
    "# Shuffle ISI: DOI: 10.1523/JNEUROSCI.19-21-09497.1999\n",
    "SI_run_all = np.zeros(n_neuron)\n",
    "is_runcell_isi = np.zeros(n_neuron)\n",
    "\n",
    "for i in tqdm(range(n_neuron)):\n",
    "    SI_run_all[i] = calc_SI(spikes=Spikes[i,], rate_map=rate_map_run_all[i,], t_total=t_total, t_nodes_frac=t_runs_frac)\n",
    "    is_runcell_isi[i] = shuffle_test(SI = SI_run_all[i], spikes = Spikes[i,], spike_nodes=spike_runs, occu_time=occu_time_run, _coords_range=_coords_range, _nbins = _nruns)\n",
    "    \n",
    "print(\"# of run cell using time isi shuffle method:\", np.sum(is_runcell_isi ))\n"
   ]
  },
  {
   "cell_type": "code",
   "execution_count": 30,
   "metadata": {},
   "outputs": [
    {
     "data": {
      "image/png": "[encoded data removed]",
      "text/plain": [
       "<Figure size 432x288 with 1 Axes>"
      ]
     },
     "metadata": {
      "needs_background": "light"
     },
     "output_type": "display_data"
    }
   ],
   "source": [
    "# plot ratemap 1d (all run cells):\n",
    "sort_by_nodes = True\n",
    "num_rc = int(sum(is_runcell_isi))\n",
    "rate_map_rc= rate_map_run_all[is_runcell_isi==1,]\n",
    "run_fields = np.nanargmax(rate_map_rc,axis=1) # run field\n",
    "\n",
    "if sort_by_nodes:\n",
    "    ordering = np.argsort(-np.nanargmax(rate_map_rc,axis=1))\n",
    "else:\n",
    "    ordering = range(num_rc)\n",
    "\n",
    "# normalize tuning curve to [0, 1]\n",
    "rate_map_rc_norm = sklearn.preprocessing.minmax_scale(rate_map_rc, feature_range=(0, 1), axis=1, copy=True)\n",
    "# plot\n",
    "plot_ratemap(rate_map_rc_norm[ordering,:][:,~np.isnan(rate_map_rc_norm[0,])],extent = [0 , 1000, 0 , 300])\n",
    "# save figure\n",
    "filename = \"norm_ratemap_run_1d.pdf\"\n",
    "if not os.path.exists(directory):\n",
    "    os.makedirs(directory)\n",
    "with PdfPages(os.path.join(directory, filename), \"w\") as f:\n",
    "    plt.savefig(f, format=\"pdf\")\n",
    "    plt.close(fig)"
   ]
  },
  {
   "cell_type": "code",
   "execution_count": 31,
   "metadata": {},
   "outputs": [
    {
     "data": {
      "image/png": "[encoded data removed]",
      "text/plain": [
       "<Figure size 432x288 with 1 Axes>"
      ]
     },
     "metadata": {
      "needs_background": "light"
     },
     "output_type": "display_data"
    }
   ],
   "source": [
    "# run ratemap 1d: orderd by shortest path\n",
    "sort_by_path = True\n",
    "num_rc = int(sum(is_runcell_isi))\n",
    "rate_map_rc= rate_map_run_all[is_runcell_isi==1,]\n",
    "run_fields = np.nanargmax(rate_map_rc,axis=1) # place field\n",
    "run_ind = np.arange(len(test_maze.runs))\n",
    "\n",
    "if sort_by_path:\n",
    "    run_on_path = [test_maze.runs[i_run][0] in test_maze.shortest_path for i_run in range(_nruns)]\n",
    "    on_path_runs = run_ind[run_on_path]\n",
    "    non_shortest_path = list(np.setdiff1d(list(run_ind),on_path_runs))\n",
    "    preferred_runs = np.nanargmax(rate_map_rc,axis=1) # run field\n",
    "    total_list = list(on_path_runs) + non_shortest_path\n",
    "    tmp_index = np.zeros(num_rc)\n",
    "    for i in range(num_rc):\n",
    "        tmp_index[i] =  np.where(total_list == preferred_runs[i])[0]\n",
    "        \n",
    "    ordering = np.argsort(-tmp_index)\n",
    "else:\n",
    "    ordering = range(num_rc)\n",
    "\n",
    "# normalize tuning curve to [0, 1]\n",
    "rate_map_rc_norm = sklearn.preprocessing.minmax_scale(rate_map_rc, feature_range=(0, 1), axis=1, copy=True)\n",
    "# plot\n",
    "rate_map_rc_ordered = rate_map_rc_norm[ordering,:][:,np.array(total_list)]\n",
    "plot_ratemap(rate_map_rc_ordered[:,~np.isnan(rate_map_rc_ordered[0,])],extent = [0 , 1000, 0 , 300])\n",
    "# save figure\n",
    "filename = \"norm_ratemap_run_1d_path.pdf\"\n",
    "if not os.path.exists(directory):\n",
    "    os.makedirs(directory)\n",
    "with PdfPages(os.path.join(directory, filename), \"w\") as f:\n",
    "    plt.savefig(f, format=\"pdf\")\n",
    "    plt.close(fig)"
   ]
  },
  {
   "cell_type": "code",
   "execution_count": 35,
   "metadata": {},
   "outputs": [
    {
     "name": "stdout",
     "output_type": "stream",
     "text": [
      "% of run fields on shortest path： 54.43%\n",
      " Chance Level: 51.43%\n"
     ]
    }
   ],
   "source": [
    "# percent of run filed on shortest path\n",
    "\n",
    "num_shortpath_runfield = np.sum([preferred_run in on_path_runs for preferred_run in preferred_runs])\n",
    "run_path_ratio = num_shortpath_runfield/num_rc\n",
    "run_path_ratio_chance = np.sum(run_on_path)/len(test_maze.runs)\n",
    "print(\"% of run fields on shortest path： \" + \"{:.2f}\".format(run_path_ratio*100) + \"%\\n Chance Level: \" + \"{:.2f}\".format(run_path_ratio_chance*100)+\"%\" )\n"
   ]
  },
  {
   "cell_type": "code",
   "execution_count": null,
   "metadata": {},
   "outputs": [],
   "source": []
  },
  {
   "cell_type": "code",
   "execution_count": 33,
   "metadata": {},
   "outputs": [
    {
     "data": {
      "text/plain": [
       "array([ 0,  1,  2,  3,  4,  5,  6,  7,  8,  9, 10, 11, 12, 13, 14, 15, 16,\n",
       "       17, 18, 19, 20, 21, 22, 23, 24, 25, 26, 27, 28, 29, 30, 31, 32, 33,\n",
       "       34])"
      ]
     },
     "execution_count": 33,
     "metadata": {},
     "output_type": "execute_result"
    }
   ],
   "source": [
    "run_ind"
   ]
  },
  {
   "cell_type": "code",
   "execution_count": 82,
   "metadata": {},
   "outputs": [],
   "source": [
    "SI_rand = np.zeros(shuffle_n)\n",
    "t_total = np.nansum(occu_time)/1000\n",
    "t_nodes_frac = occu_time/1000/ (t_total+ 1E-6) \n",
    "spike_ind = np.where(spikes==1)[0] # spike index\n",
    "isi = np.append(spike_ind[0], np.ediff1d(spike_ind)) # get interspike interval\n",
    "for i in range(shuffle_n):\n",
    "    shuffle_isi = np.random.choice(isi, size = len(isi), replace = False) # shuffle interspike interval\n",
    "    shuffle_spike_ind = np.cumsum(shuffle_isi) # shuffled spike index\n",
    "\n",
    "    spikes_rand = np.zeros_like(spikes)        \n",
    "    spikes_rand[shuffle_spike_ind] = 1\n",
    "    spike_freq_rand, _, _ = scipy.stats.binned_statistic(\n",
    "        spike_nodes,\n",
    "        spikes_rand,\n",
    "        bins=_nbins,\n",
    "        statistic=\"sum\",\n",
    "        range=_coords_range)\n",
    "    rate_map_rand = spike_freq_rand/(occu_time/1000+ 1E-6)    \n",
    "    SI_rand[i] = calc_SI(spikes = spikes_rand, rate_map = rate_map_rand, t_total = t_total, t_nodes_frac=t_nodes_frac)\n",
    "is_placecell = SI > np.percentile(SI_rand, 95)\n"
   ]
  },
  {
   "cell_type": "code",
   "execution_count": 143,
   "metadata": {},
   "outputs": [
    {
     "data": {
      "text/plain": [
       "array([24, 15,  7,  8, 19, 10, 20,  9, 21,  1, 16, 12, 13,  6,  5,  3,  2,\n",
       "       18, 22, 11,  4, 23, 14, 17,  0], dtype=int64)"
      ]
     },
     "execution_count": 143,
     "metadata": {},
     "output_type": "execute_result"
    }
   ],
   "source": [
    "ordering"
   ]
  },
  {
   "cell_type": "code",
   "execution_count": 62,
   "metadata": {},
   "outputs": [
    {
     "data": {
      "text/plain": [
       "array([  5,   9,   2,   2, 149,   3,  89,   1,  40,  34,  44,   3,   1,\n",
       "         4,   1,   2,   3,   1,   2, 180,  86,   1,   8,   1,   1,  41,\n",
       "        19,   2,   1,   2,   3,   1,   4,   7,  17,  40,   1,   1,  24,\n",
       "       141,   1,   1,   1,   2,   1,  18,   3,   1,  41,   4,  13,  28,\n",
       "         1,   1,   2,   4,  13,  17,  14, 398,  14,  25,   1,   1,   2,\n",
       "        21,   6,  34,   1,   3,   4,  13,   2,   1,   6,  32,   4, 157,\n",
       "        25,   3,  46,   4,   1,  19,  26,   1,   9,  30,  13,  18, 465,\n",
       "         4,   1,   8,   5,   7,  35,  15,   1,  10,   2,  10,  16,   2,\n",
       "         6,   1,   4,   4,   6,  39,  45,  10,   6,   2,  55,   1,   7,\n",
       "         8,   1,   6,   2,  42,   5,  15,   5,  59,   1,   1,   2,  38,\n",
       "         1,  20,   1,  12,  76,  14,   1,   1,   1,   2,  12,   2,   1,\n",
       "         8,   2,  10,  27,   1,  15,   8,   1,   3,  10,   3,   1,   4,\n",
       "         1,  12,   3,   2,   9,   2,   7,   3,  20,  71,   2,  67,   1,\n",
       "        28,  46,   1,   1,   2,   4, 248,  30,   2,   3,  50,  87,  26,\n",
       "        18,   1,  50,   8,   1,  10,   9,  27,   1,   3,   1,  36,  86,\n",
       "       204,   2,   1, 319,   2,   2,  60,  49,   1,   3,   2,  58,   1,\n",
       "       121,   1,   1,  53,   5,   6,  54,   4,   1,  14,  62,   6,   1,\n",
       "         4,   1,   4,  31,   1,   4,   2, 124,   5,   5,  59,   6,   1,\n",
       "        14,   3,   2,   1, 226,  13,   1,  13,  18,   1,   4,   1,  62,\n",
       "         5,  10,   3,   2,   3,   4,   1,   5,  62, 253,   1,   4,   1,\n",
       "         4,   1,  52,   2,   5,   4, 143,  43, 166,  11,  42, 196,   3,\n",
       "         3,   1,  54,  49,   1,   1,   2,  10,   2,   8,  72,  13,   3,\n",
       "         1,  32], dtype=int64)"
      ]
     },
     "execution_count": 62,
     "metadata": {},
     "output_type": "execute_result"
    }
   ],
   "source": [
    "isi_before_shuffle"
   ]
  },
  {
   "cell_type": "code",
   "execution_count": 154,
   "metadata": {},
   "outputs": [
    {
     "data": {
      "text/plain": [
       "array([6], dtype=int64)"
      ]
     },
     "execution_count": 154,
     "metadata": {},
     "output_type": "execute_result"
    }
   ],
   "source": [
    " np.where(total_list == preferred_nodes[0])[0]"
   ]
  },
  {
   "cell_type": "code",
   "execution_count": 155,
   "metadata": {},
   "outputs": [
    {
     "data": {
      "text/plain": [
       "[1,\n",
       " 13,\n",
       " 14,\n",
       " 26,\n",
       " 27,\n",
       " 15,\n",
       " 3,\n",
       " 4,\n",
       " 5,\n",
       " 6,\n",
       " 18,\n",
       " 17,\n",
       " 29,\n",
       " 30,\n",
       " 31,\n",
       " 19,\n",
       " 20,\n",
       " 21,\n",
       " 9,\n",
       " 10,\n",
       " 11,\n",
       " 12,\n",
       " 24,\n",
       " 23,\n",
       " 22,\n",
       " 34,\n",
       " 33,\n",
       " 32,\n",
       " 44,\n",
       " 45,\n",
       " 46,\n",
       " 47,\n",
       " 48,\n",
       " 60,\n",
       " 59,\n",
       " 58,\n",
       " 57,\n",
       " 56,\n",
       " 68,\n",
       " 69,\n",
       " 70,\n",
       " 71,\n",
       " 72,\n",
       " 84,\n",
       " 83,\n",
       " 95,\n",
       " 94,\n",
       " 82,\n",
       " 81,\n",
       " 80,\n",
       " 92,\n",
       " 104,\n",
       " 103,\n",
       " 91,\n",
       " 90,\n",
       " 78,\n",
       " 79,\n",
       " 67,\n",
       " 55,\n",
       " 54,\n",
       " 66,\n",
       " 65,\n",
       " 64,\n",
       " 63,\n",
       " 75,\n",
       " 74,\n",
       " 62,\n",
       " 50,\n",
       " 51,\n",
       " 39,\n",
       " 38,\n",
       " 37,\n",
       " 49,\n",
       " 61,\n",
       " 73,\n",
       " 85,\n",
       " 97,\n",
       " 109,\n",
       " 110,\n",
       " 122,\n",
       " 123,\n",
       " 111,\n",
       " 112,\n",
       " 100,\n",
       " 99,\n",
       " 87,\n",
       " 88,\n",
       " 76,\n",
       " 77,\n",
       " 89,\n",
       " 101,\n",
       " 102,\n",
       " 114,\n",
       " 113,\n",
       " 125,\n",
       " 124,\n",
       " 136,\n",
       " 137,\n",
       " 138,\n",
       " 126,\n",
       " 127,\n",
       " 115,\n",
       " 116,\n",
       " 117,\n",
       " 129,\n",
       " 141,\n",
       " 142,\n",
       " 130,\n",
       " 131,\n",
       " 132,\n",
       " 144,\n",
       " 2,\n",
       " 7,\n",
       " 8,\n",
       " 16,\n",
       " 25,\n",
       " 28,\n",
       " 35,\n",
       " 36,\n",
       " 40,\n",
       " 41,\n",
       " 42,\n",
       " 43,\n",
       " 52,\n",
       " 53,\n",
       " 86,\n",
       " 93,\n",
       " 96,\n",
       " 98,\n",
       " 105,\n",
       " 106,\n",
       " 107,\n",
       " 108,\n",
       " 118,\n",
       " 119,\n",
       " 120,\n",
       " 121,\n",
       " 128,\n",
       " 133,\n",
       " 134,\n",
       " 135,\n",
       " 139,\n",
       " 140,\n",
       " 143]"
      ]
     },
     "execution_count": 155,
     "metadata": {},
     "output_type": "execute_result"
    }
   ],
   "source": [
    "total_list"
   ]
  },
  {
   "cell_type": "code",
   "execution_count": 65,
   "metadata": {},
   "outputs": [],
   "source": [
    "isi_before_shuffle = isi\n",
    "shuffle_isi = np.random.shuffle(isi_before_shuffle) # shuffle interspike interval\n",
    "shuffle_isi"
   ]
  },
  {
   "cell_type": "code",
   "execution_count": 88,
   "metadata": {},
   "outputs": [
    {
     "ename": "ValueError",
     "evalue": "1 is not in list",
     "output_type": "error",
     "traceback": [
      "\u001b[1;31m---------------------------------------------------------------------------\u001b[0m",
      "\u001b[1;31mValueError\u001b[0m                                Traceback (most recent call last)",
      "\u001b[1;32m<ipython-input-88-2c08d43909c8>\u001b[0m in \u001b[0;36m<module>\u001b[1;34m\u001b[0m\n\u001b[0;32m      1\u001b[0m \u001b[0mtes\u001b[0m \u001b[1;33m=\u001b[0m \u001b[1;33m[\u001b[0m\u001b[1;36m1\u001b[0m\u001b[1;33m,\u001b[0m\u001b[1;36m2\u001b[0m\u001b[1;33m,\u001b[0m\u001b[1;36m3\u001b[0m\u001b[1;33m]\u001b[0m\u001b[1;33m\u001b[0m\u001b[1;33m\u001b[0m\u001b[0m\n\u001b[1;32m----> 2\u001b[1;33m \u001b[0mtes\u001b[0m\u001b[1;33m.\u001b[0m\u001b[0mindex\u001b[0m\u001b[1;33m(\u001b[0m\u001b[1;36m1\u001b[0m\u001b[1;33m,\u001b[0m\u001b[1;36m2\u001b[0m\u001b[1;33m)\u001b[0m\u001b[1;33m\u001b[0m\u001b[1;33m\u001b[0m\u001b[0m\n\u001b[0m",
      "\u001b[1;31mValueError\u001b[0m: 1 is not in list"
     ]
    }
   ],
   "source": [
    "tes = [1,2,3]\n",
    "tes.index(1,2)"
   ]
  },
  {
   "cell_type": "code",
   "execution_count": 72,
   "metadata": {},
   "outputs": [
    {
     "data": {
      "text/plain": [
       "array([None], dtype=object)"
      ]
     },
     "execution_count": 72,
     "metadata": {},
     "output_type": "execute_result"
    }
   ],
   "source": [
    "shuffle_spike_ind = np.cumsum(shuffle_isi)\n",
    "shuffle_spike_ind"
   ]
  },
  {
   "cell_type": "code",
   "execution_count": 76,
   "metadata": {},
   "outputs": [
    {
     "data": {
      "text/plain": [
       "array([None], dtype=object)"
      ]
     },
     "execution_count": 76,
     "metadata": {},
     "output_type": "execute_result"
    }
   ],
   "source": [
    "tmp = isi\n",
    "shuffle_isi = np.random.shuffle(tmp) # shuffle interspike interval\n",
    "shuffle_spike_ind = np.cumsum(shuffle_isi) # shuffled spike index\n",
    "shuffle_spike_ind"
   ]
  },
  {
   "cell_type": "code",
   "execution_count": 162,
   "metadata": {},
   "outputs": [
    {
     "data": {
      "text/plain": [
       "(85, 7188)"
      ]
     },
     "execution_count": 162,
     "metadata": {},
     "output_type": "execute_result"
    }
   ],
   "source": [
    "DeconvSignal_behav.shape"
   ]
  },
  {
   "cell_type": "code",
   "execution_count": 78,
   "metadata": {},
   "outputs": [
    {
     "data": {
      "text/plain": [
       "array([   5,   20,   32,   33,   34,   36,   86,   88,   89,  115,  116,\n",
       "        120,  138,  139,  142,  145,  147,  209,  210,  213,  225,  271,\n",
       "        279,  281,  287,  289,  293,  299,  300,  303,  306,  358,  374,\n",
       "        378,  379,  380,  383,  385,  395,  409,  414,  415,  455,  708,\n",
       "        718,  719,  923,  977, 1039, 1180, 1181, 1194, 1197, 1198, 1199,\n",
       "       1200, 1201, 1203, 1204, 1290, 1291, 1299, 1375, 1376, 1378, 1419,\n",
       "       1422, 1511, 1556, 1699, 1700, 1731, 1732, 1737, 1886, 1887, 1905,\n",
       "       1907, 1911, 2309, 2351, 2599, 2612, 2655, 2663, 2665, 2697, 2698,\n",
       "       2728, 2783, 2808, 2847, 3013, 3016, 3034, 3038, 3048, 3051, 3055,\n",
       "       3072, 3078, 3080, 3081, 3084, 3103, 3104, 3105, 3137, 3208, 3242,\n",
       "       3250, 3251, 3338, 3339, 3360, 3361, 3363, 3589, 3590, 4055, 4059,\n",
       "       4062, 4067, 4068, 4114, 4172, 4174, 4175, 4177, 4178, 4193, 4194,\n",
       "       4196, 4208, 4222, 4225, 4232, 4234, 4235, 4236, 4274, 4298, 4302,\n",
       "       4330, 4333, 4334, 4335, 4338, 4340, 4341, 4346, 4350, 4351, 4352,\n",
       "       4357, 4367, 4407, 4417, 4435, 4439, 4444, 4503, 4504, 4506, 4521,\n",
       "       4524, 4528, 4529, 4588, 4591, 4640, 4647, 4675, 4994, 5000, 5004,\n",
       "       5008, 5009, 5011, 5017, 5059, 5084, 5144, 5157, 5184, 5204, 5208,\n",
       "       5209, 5389, 5393, 5397, 5427, 5429, 5435, 5507, 5509, 5522, 5530,\n",
       "       5531, 5540, 5575, 5579, 5592, 5593, 5714, 5716, 5778, 5786, 5788,\n",
       "       5789, 5790, 5795, 5796, 5810, 5829, 5830, 5987, 5994, 5999, 6012,\n",
       "       6014, 6022, 6032, 6036, 6045, 6072, 6076, 6078, 6079, 6080, 6081,\n",
       "       6167, 6216, 6218, 6228, 6230, 6231, 6241, 6254, 6258, 6269, 6295,\n",
       "       6315, 6324, 6325, 6327, 6331, 6332, 6337, 6338, 6339, 6340, 6394,\n",
       "       6400, 6401, 6403, 6420, 6421, 6422, 6431, 6432, 6473, 6523, 6525,\n",
       "       6526, 6528, 6529, 6532, 6546, 6547, 6581, 6648, 6654, 6656, 6709,\n",
       "       6710, 6754, 6761, 6764, 6770, 6784, 6785, 6981, 6984, 7108, 7144,\n",
       "       7145, 7147], dtype=int64)"
      ]
     },
     "execution_count": 78,
     "metadata": {},
     "output_type": "execute_result"
    }
   ],
   "source": [
    "arr =isi \n",
    "np.random.shuffle(arr)\n",
    "np.cumsum(arr)"
   ]
  },
  {
   "cell_type": "code",
   "execution_count": 244,
   "metadata": {},
   "outputs": [
    {
     "data": {
      "text/plain": [
       "[0,\n",
       " 0,\n",
       " 1,\n",
       " 2,\n",
       " 2,\n",
       " 3,\n",
       " 3,\n",
       " 4,\n",
       " 5,\n",
       " 6,\n",
       " 7,\n",
       " 8,\n",
       " 8,\n",
       " 9,\n",
       " 9,\n",
       " 10,\n",
       " 11,\n",
       " 11,\n",
       " 12,\n",
       " 12,\n",
       " 13,\n",
       " 14,\n",
       " 14,\n",
       " 15,\n",
       " 16,\n",
       " 16,\n",
       " 16,\n",
       " 15,\n",
       " 13,\n",
       " 10,\n",
       " 7,\n",
       " 6,\n",
       " 5,\n",
       " 4,\n",
       " 1]"
      ]
     },
     "execution_count": 244,
     "metadata": {},
     "output_type": "execute_result"
    }
   ],
   "source": [
    "test_maze.run_levels"
   ]
  },
  {
   "cell_type": "code",
   "execution_count": 80,
   "metadata": {},
   "outputs": [
    {
     "data": {
      "text/plain": [
       "array([  5,  15,  12,   1,   1,   2,  50,   2,   1,  26,   1,   4,  18,\n",
       "         1,   3,   3,   2,  62,   1,   3,  12,  46,   8,   2,   6,   2,\n",
       "         4,   6,   1,   3,   3,  52,  16,   4,   1,   1,   3,   2,  10,\n",
       "        14,   5,   1,  40, 253,  10,   1, 204,  54,  62, 141,   1,  13,\n",
       "         3,   1,   1,   1,   1,   2,   1,  86,   1,   8,  76,   1,   2,\n",
       "        41,   3,  89,  45, 143,   1,  31,   1,   5, 149,   1,  18,   2,\n",
       "         4, 398,  42, 248,  13,  43,   8,   2,  32,   1,  30,  55,  25,\n",
       "        39, 166,   3,  18,   4,  10,   3,   4,  17,   6,   2,   1,   3,\n",
       "        19,   1,   1,  32,  71,  34,   8,   1,  87,   1,  21,   1,   2,\n",
       "       226,   1, 465,   4,   3,   5,   1,  46,  58,   2,   1,   2,   1,\n",
       "        15,   1,   2,  12,  14,   3,   7,   2,   1,   1,  38,  24,   4,\n",
       "        28,   3,   1,   1,   3,   2,   1,   5,   4,   1,   1,   5,  10,\n",
       "        40,  10,  18,   4,   5,  59,   1,   2,  15,   3,   4,   1,  59,\n",
       "         3,  49,   7,  28, 319,   6,   4,   4,   1,   2,   6,  42,  25,\n",
       "        60,  13,  27,  20,   4,   1, 180,   4,   4,  30,   2,   6,  72,\n",
       "         2,  13,   8,   1,   9,  35,   4,  13,   1, 121,   2,  62,   8,\n",
       "         2,   1,   1,   5,   1,  14,  19,   1, 157,   7,   5,  13,   2,\n",
       "         8,  10,   4,   9,  27,   4,   2,   1,   1,   1,  86,  49,   2,\n",
       "        10,   2,   1,  10,  13,   4,  11,  26,  20,   9,   1,   2,   4,\n",
       "         1,   5,   1,   1,   1,  54,   6,   1,   2,  17,   1,   1,   9,\n",
       "         1,  41,  50,   2,   1,   2,   1,   3,  14,   1,  34,  67,   6,\n",
       "         2,  53,   1,  44,   7,   3,   6,  14,   1, 196,   3, 124,  36,\n",
       "         1,   2], dtype=int64)"
      ]
     },
     "execution_count": 80,
     "metadata": {},
     "output_type": "execute_result"
    }
   ],
   "source": [
    "arr"
   ]
  },
  {
   "cell_type": "code",
   "execution_count": 237,
   "metadata": {},
   "outputs": [],
   "source": [
    "occu_time, xbin_edges, bin_numbers = scipy.stats.binned_statistic(\n",
    "        spike_nodes,\n",
    "        stay_time,\n",
    "        bins=_nbins,\n",
    "        statistic=\"sum\",\n",
    "        range=_coords_range)\n"
   ]
  },
  {
   "cell_type": "code",
   "execution_count": 261,
   "metadata": {},
   "outputs": [
    {
     "data": {
      "text/plain": [
       "array([  2,  62,  38,  38,  26,  53,  49, 124, 125,  88, 103,  24,  81,\n",
       "        65,   8, 121,  44,   1,  29, 112, 100,  98,  25,   7, 124],\n",
       "      dtype=int64)"
      ]
     },
     "execution_count": 261,
     "metadata": {},
     "output_type": "execute_result"
    }
   ],
   "source": [
    "np.nanargmax(rate_map_pc,axis=1)"
   ]
  },
  {
   "cell_type": "code",
   "execution_count": 4,
   "metadata": {},
   "outputs": [
    {
     "data": {
      "text/plain": [
       "(85, 7188)"
      ]
     },
     "execution_count": 4,
     "metadata": {},
     "output_type": "execute_result"
    }
   ],
   "source": [
    "DeconvSignal_behav.shape"
   ]
  },
  {
   "cell_type": "code",
   "execution_count": 10,
   "metadata": {},
   "outputs": [
    {
     "data": {
      "text/plain": [
       "(85,)"
      ]
     },
     "execution_count": 10,
     "metadata": {},
     "output_type": "execute_result"
    }
   ],
   "source": [
    "np.std(DeconvSignal_behav, axis = 1).shape"
   ]
  },
  {
   "cell_type": "code",
   "execution_count": 12,
   "metadata": {},
   "outputs": [
    {
     "ename": "ValueError",
     "evalue": "operands could not be broadcast together with shapes (85,7188) (85,) ",
     "output_type": "error",
     "traceback": [
      "\u001b[1;31m---------------------------------------------------------------------------\u001b[0m",
      "\u001b[1;31mValueError\u001b[0m                                Traceback (most recent call last)",
      "\u001b[1;32m<ipython-input-12-a986737a39a4>\u001b[0m in \u001b[0;36m<module>\u001b[1;34m\u001b[0m\n\u001b[0;32m      1\u001b[0m \u001b[0mdeconv_sd\u001b[0m \u001b[1;33m=\u001b[0m \u001b[0mnp\u001b[0m\u001b[1;33m.\u001b[0m\u001b[0mstd\u001b[0m\u001b[1;33m(\u001b[0m\u001b[0mDeconvSignal_behav\u001b[0m\u001b[1;33m,\u001b[0m \u001b[0maxis\u001b[0m \u001b[1;33m=\u001b[0m \u001b[1;36m1\u001b[0m\u001b[1;33m)\u001b[0m\u001b[1;33m\u001b[0m\u001b[1;33m\u001b[0m\u001b[0m\n\u001b[1;32m----> 2\u001b[1;33m \u001b[0mtmp\u001b[0m \u001b[1;33m=\u001b[0m \u001b[0mnp\u001b[0m\u001b[1;33m.\u001b[0m\u001b[0mwhere\u001b[0m\u001b[1;33m(\u001b[0m\u001b[0mDeconvSignal_behav\u001b[0m\u001b[1;33m>\u001b[0m\u001b[0mdeconv_sd\u001b[0m\u001b[1;33m,\u001b[0m \u001b[1;36m1\u001b[0m\u001b[1;33m,\u001b[0m \u001b[1;36m0\u001b[0m\u001b[1;33m)\u001b[0m\u001b[1;33m\u001b[0m\u001b[1;33m\u001b[0m\u001b[0m\n\u001b[0m",
      "\u001b[1;31mValueError\u001b[0m: operands could not be broadcast together with shapes (85,7188) (85,) "
     ]
    }
   ],
   "source": [
    "deconv_sd = np.std(DeconvSignal_behav, axis = 1)\n",
    "tmp = np.where(DeconvSignal_behav>deconv_sd, 1, 0)\n"
   ]
  },
  {
   "cell_type": "code",
   "execution_count": 27,
   "metadata": {},
   "outputs": [
    {
     "data": {
      "text/plain": [
       "array([[1],\n",
       "       [1],\n",
       "       [1],\n",
       "       [2],\n",
       "       [2],\n",
       "       [2],\n",
       "       [3],\n",
       "       [3],\n",
       "       [3]])"
      ]
     },
     "execution_count": 27,
     "metadata": {},
     "output_type": "execute_result"
    }
   ],
   "source": [
    "x = np.array([1,2,3])\n",
    "\n",
    "np.repeat(x[:,np.newaxis], 3, 1)\n"
   ]
  },
  {
   "cell_type": "code",
   "execution_count": 20,
   "metadata": {},
   "outputs": [
    {
     "data": {
      "text/plain": [
       "array([[1, 2, 3],\n",
       "       [1, 2, 3],\n",
       "       [1, 2, 3]])"
      ]
     },
     "execution_count": 20,
     "metadata": {},
     "output_type": "execute_result"
    }
   ],
   "source": [
    "np.repeat(x[np.newaxis,:], 3, 0)\n"
   ]
  },
  {
   "cell_type": "code",
   "execution_count": 21,
   "metadata": {},
   "outputs": [],
   "source": [
    "?np.repeat"
   ]
  },
  {
   "cell_type": "code",
   "execution_count": 22,
   "metadata": {},
   "outputs": [
    {
     "data": {
      "text/plain": [
       "(3, 1)"
      ]
     },
     "execution_count": 22,
     "metadata": {},
     "output_type": "execute_result"
    }
   ],
   "source": [
    "x[:,np.newaxis].shape"
   ]
  },
  {
   "cell_type": "code",
   "execution_count": 23,
   "metadata": {},
   "outputs": [
    {
     "data": {
      "text/plain": [
       "(3,)"
      ]
     },
     "execution_count": 23,
     "metadata": {},
     "output_type": "execute_result"
    }
   ],
   "source": [
    "x.shape"
   ]
  },
  {
   "cell_type": "code",
   "execution_count": 30,
   "metadata": {},
   "outputs": [
    {
     "data": {
      "text/plain": [
       "array([[0.02039383, 0.02039383, 0.02039383, ..., 0.02039383, 0.02039383,\n",
       "        0.02039383],\n",
       "       [0.01646271, 0.01646271, 0.01646271, ..., 0.01646271, 0.01646271,\n",
       "        0.01646271],\n",
       "       [0.0312843 , 0.0312843 , 0.0312843 , ..., 0.0312843 , 0.0312843 ,\n",
       "        0.0312843 ],\n",
       "       ...,\n",
       "       [0.00335755, 0.00335755, 0.00335755, ..., 0.00335755, 0.00335755,\n",
       "        0.00335755],\n",
       "       [0.00980338, 0.00980338, 0.00980338, ..., 0.00980338, 0.00980338,\n",
       "        0.00980338],\n",
       "       [0.00695207, 0.00695207, 0.00695207, ..., 0.00695207, 0.00695207,\n",
       "        0.00695207]])"
      ]
     },
     "execution_count": 30,
     "metadata": {},
     "output_type": "execute_result"
    }
   ],
   "source": [
    "np.repeat(deconv_sd[:,np.newaxis], Spikes.shape[1],1)"
   ]
  },
  {
   "cell_type": "code",
   "execution_count": 29,
   "metadata": {},
   "outputs": [
    {
     "data": {
      "text/plain": [
       "7188"
      ]
     },
     "execution_count": 29,
     "metadata": {},
     "output_type": "execute_result"
    }
   ],
   "source": [
    "Spikes.shape[1]"
   ]
  },
  {
   "cell_type": "code",
   "execution_count": 116,
   "metadata": {},
   "outputs": [
    {
     "data": {
      "text/plain": [
       "array([  3,  63,  39,  39,  27,  54,  50, 125, 126,  89, 104,  25,  82,\n",
       "        66,   9, 122,  45,   2,  30, 113, 101,  99,  26,   8, 125],\n",
       "      dtype=int64)"
      ]
     },
     "execution_count": 116,
     "metadata": {},
     "output_type": "execute_result"
    }
   ],
   "source": [
    "preferred_nodes"
   ]
  },
  {
   "cell_type": "code",
   "execution_count": 263,
   "metadata": {},
   "outputs": [
    {
     "data": {
      "text/plain": [
       "array([16, 24, 16, 16,  1, 16, 29,  4, 13, 34, 15, 23, 16, 34,  3, 16, 12,\n",
       "       32, 30,  6, 29, 16,  7,  1,  4,  7, 16, 16, 16,  0,  1,  0,  0, 13,\n",
       "       34], dtype=int64)"
      ]
     },
     "execution_count": 263,
     "metadata": {},
     "output_type": "execute_result"
    }
   ],
   "source": [
    "np.nanargmax(rate_map_rc,axis=1)"
   ]
  },
  {
   "cell_type": "code",
   "execution_count": 268,
   "metadata": {},
   "outputs": [
    {
     "data": {
      "text/plain": [
       "array([[ 0.48651654,  0.        ,  0.        , ...,  0.        ,\n",
       "         0.        ,  0.        ],\n",
       "       [ 0.06950236,  0.16001707,  0.        , ...,  0.        ,\n",
       "         1.33244504,  0.        ],\n",
       "       [ 0.        ,  0.05333902,  0.20684662, ...,  0.        ,\n",
       "         0.        ,  4.63535229],\n",
       "       ...,\n",
       "       [ 3.75312761,  2.45359505,  1.55134967, ...,  0.        ,\n",
       "         0.        ,  1.54511743],\n",
       "       [ 1.04253545,  1.38681459,  0.51711656, ...,  1.87734668,\n",
       "         0.66622252,  0.92707046],\n",
       "       [ 0.62552127,  0.        ,  8.48071155, ...,  0.        ,\n",
       "         0.        , 11.43386897]])"
      ]
     },
     "execution_count": 268,
     "metadata": {},
     "output_type": "execute_result"
    }
   ],
   "source": [
    "rate_map_rc"
   ]
  },
  {
   "cell_type": "code",
   "execution_count": 262,
   "metadata": {},
   "outputs": [
    {
     "data": {
      "text/plain": [
       "array([[ 0.48651654,  0.        ,  0.        , ...,  0.        ,\n",
       "         0.        ,  0.        ],\n",
       "       [ 0.06950236,  0.16001707,  0.        , ...,  0.        ,\n",
       "         1.33244504,  0.        ],\n",
       "       [ 0.        ,  0.05333902,  0.20684662, ...,  0.        ,\n",
       "         0.        ,  4.63535229],\n",
       "       ...,\n",
       "       [ 3.75312761,  2.45359505,  1.55134967, ...,  0.        ,\n",
       "         0.        ,  1.54511743],\n",
       "       [ 1.04253545,  1.38681459,  0.51711656, ...,  1.87734668,\n",
       "         0.66622252,  0.92707046],\n",
       "       [ 0.62552127,  0.        ,  8.48071155, ...,  0.        ,\n",
       "         0.        , 11.43386897]])"
      ]
     },
     "execution_count": 262,
     "metadata": {},
     "output_type": "execute_result"
    }
   ],
   "source": [
    "rate_map_rc"
   ]
  },
  {
   "cell_type": "code",
   "execution_count": 36,
   "metadata": {},
   "outputs": [
    {
     "data": {
      "text/plain": [
       "array([1.49498733, 2.68210212, 1.21811104, 1.27613649, 1.51165436,\n",
       "       0.95051293, 3.32332848, 1.42778632, 0.88717287, 1.36169775,\n",
       "       0.64141668, 0.92343219, 0.71061013, 1.63099632, 0.62419204,\n",
       "       0.80457631, 1.26611799, 2.46820331, 1.61374397, 0.80857087,\n",
       "       0.37737995, 0.89251782, 0.51984037, 0.54127781, 0.38517056,\n",
       "       0.49234618, 0.41793509, 0.51396556, 0.7304565 , 0.45752368,\n",
       "       0.72471165, 0.68850056, 0.51787696, 0.42084189, 0.41336001,\n",
       "       0.29285347, 0.74033092, 0.53754752, 0.41876977, 0.41784021,\n",
       "       0.6797544 , 0.61273766, 0.48301148, 0.59727022, 0.52604189,\n",
       "       0.27478439, 0.42116694, 0.29617716, 0.58270066, 0.18197712,\n",
       "       0.375214  , 0.20759095, 0.56075143, 0.37961457, 0.45162183,\n",
       "       0.33521714, 0.31601146, 0.35404595, 0.18773484, 1.43080486,\n",
       "       0.19953204, 0.37677123, 0.20991828, 0.31443514, 0.69971348,\n",
       "       0.39118486, 0.29961375, 0.28904078, 0.23196357, 0.31444214,\n",
       "       0.25445247, 0.3023009 , 0.16158974, 0.28847575, 0.44621243,\n",
       "       0.26062107, 1.23380594, 1.35966973, 0.95203879, 0.96933293,\n",
       "       0.23375089, 2.01709951, 0.9014517 , 0.88198079, 1.16491273])"
      ]
     },
     "execution_count": 36,
     "metadata": {},
     "output_type": "execute_result"
    }
   ],
   "source": [
    "SI_run_all"
   ]
  },
  {
   "cell_type": "code",
   "execution_count": 5,
   "metadata": {},
   "outputs": [
    {
     "ename": "NameError",
     "evalue": "name 'n_neuron' is not defined",
     "output_type": "error",
     "traceback": [
      "\u001b[1;31m---------------------------------------------------------------------------\u001b[0m",
      "\u001b[1;31mNameError\u001b[0m                                 Traceback (most recent call last)",
      "\u001b[1;32m<ipython-input-5-4af6d955a8c9>\u001b[0m in \u001b[0;36m<module>\u001b[1;34m\u001b[0m\n\u001b[1;32m----> 1\u001b[1;33m \u001b[0mn_neuron\u001b[0m\u001b[1;33m\u001b[0m\u001b[1;33m\u001b[0m\u001b[0m\n\u001b[0m",
      "\u001b[1;31mNameError\u001b[0m: name 'n_neuron' is not defined"
     ]
    }
   ],
   "source": [
    "n_neuron"
   ]
  },
  {
   "cell_type": "code",
   "execution_count": 37,
   "metadata": {},
   "outputs": [
    {
     "data": {
      "text/plain": [
       "array([14388., 18748.,  4971.,  3336.,  4569.,  8410.,  4253.,  2134.,\n",
       "         233.,  1001.,   501.,   466.,  9669.,  6664.,  2935.,  1001.,\n",
       "        1064.,  2037.,   167.,  2201.,   967.,   667.,   668.,  1337.,\n",
       "        3236.,  2203.,  4301.,  1701.,   534.,   267.,   933.,   567.,\n",
       "         567.,   500.,   533.,  1065.,   867.,   567.,   833.,    nan,\n",
       "          nan,  1501.,   934.,   673.,   267.,   633.,   567.,   735.,\n",
       "         567.,   534.,  4269.,  2101.,  1268.,   486.,   768.,   600.,\n",
       "         343.,   967.,   734.,  1367.,  5200.,   467.,   500.,   300.,\n",
       "         434.,   433.,   335.,   567.,   334.,   333.,   601.,   133.,\n",
       "         401.,   301.,   400.,    51.,  1468.,   467.,   399.,   501.,\n",
       "         465.,   368.,   500.,   601.,   299.,    nan,   534.,   567.,\n",
       "         533.,   167.,   401.,   333.,    nan,   968.,    66.,    nan,\n",
       "         334.,    nan,   100.,   767.,   501.,   233.,   633.,   134.,\n",
       "          nan,   199.,  1468.,  1200.,   802.,  1199.,    nan,  1100.,\n",
       "         434.,   544.,   700.,   901.,   532.,  1495.,   701.,  2568.,\n",
       "        1100.,   500.,   901.,   601.,   199.,   434.,  1401.,  1000.,\n",
       "        1167.,  3241.,  4505.,  1901.,  1600.,  1570.,  2667.,  1582.,\n",
       "         500.,  1534.,  2335.,  1425.,  2434.,  2939.,  1998., 36078.])"
      ]
     },
     "execution_count": 37,
     "metadata": {},
     "output_type": "execute_result"
    }
   ],
   "source": [
    "occu_time"
   ]
  },
  {
   "cell_type": "code",
   "execution_count": 39,
   "metadata": {},
   "outputs": [
    {
     "data": {
      "text/plain": [
       "35"
      ]
     },
     "execution_count": 39,
     "metadata": {},
     "output_type": "execute_result"
    }
   ],
   "source": [
    "max(spike_runs)"
   ]
  },
  {
   "cell_type": "code",
   "execution_count": 42,
   "metadata": {},
   "outputs": [
    {
     "ename": "NameError",
     "evalue": "name 'run_i' is not defined",
     "output_type": "error",
     "traceback": [
      "\u001b[1;31m---------------------------------------------------------------------------\u001b[0m",
      "\u001b[1;31mNameError\u001b[0m                                 Traceback (most recent call last)",
      "\u001b[1;32m<ipython-input-42-1e10ca53739b>\u001b[0m in \u001b[0;36m<module>\u001b[1;34m\u001b[0m\n\u001b[0;32m      2\u001b[0m \u001b[1;32mfor\u001b[0m \u001b[0mi\u001b[0m \u001b[1;32min\u001b[0m \u001b[0mrange\u001b[0m\u001b[1;33m(\u001b[0m\u001b[0mlen\u001b[0m\u001b[1;33m(\u001b[0m\u001b[0mspike_nodes\u001b[0m\u001b[1;33m)\u001b[0m\u001b[1;33m)\u001b[0m\u001b[1;33m:\u001b[0m\u001b[1;33m\u001b[0m\u001b[1;33m\u001b[0m\u001b[0m\n\u001b[0;32m      3\u001b[0m     \u001b[0mspike_runs\u001b[0m\u001b[1;33m[\u001b[0m\u001b[0mi\u001b[0m\u001b[1;33m]\u001b[0m \u001b[1;33m=\u001b[0m \u001b[1;33m[\u001b[0m\u001b[0mrun_i\u001b[0m \u001b[1;32mfor\u001b[0m \u001b[0mrun_i\u001b[0m\u001b[1;33m,\u001b[0m \u001b[0mrun\u001b[0m \u001b[1;32min\u001b[0m \u001b[0menumerate\u001b[0m\u001b[1;33m(\u001b[0m\u001b[0mtest_maze\u001b[0m\u001b[1;33m.\u001b[0m\u001b[0mruns\u001b[0m\u001b[1;33m)\u001b[0m \u001b[1;32mif\u001b[0m \u001b[0mspike_nodes\u001b[0m\u001b[1;33m[\u001b[0m\u001b[0mi\u001b[0m\u001b[1;33m]\u001b[0m \u001b[1;32min\u001b[0m \u001b[0mrun\u001b[0m\u001b[1;33m]\u001b[0m\u001b[1;33m[\u001b[0m\u001b[1;36m0\u001b[0m\u001b[1;33m]\u001b[0m \u001b[1;33m+\u001b[0m\u001b[1;36m1\u001b[0m\u001b[1;33m\u001b[0m\u001b[1;33m\u001b[0m\u001b[0m\n\u001b[1;32m----> 4\u001b[1;33m     \u001b[0mprint\u001b[0m\u001b[1;33m(\u001b[0m\u001b[0mrun_i\u001b[0m\u001b[1;33m)\u001b[0m\u001b[1;33m\u001b[0m\u001b[1;33m\u001b[0m\u001b[0m\n\u001b[0m",
      "\u001b[1;31mNameError\u001b[0m: name 'run_i' is not defined"
     ]
    }
   ],
   "source": [
    "spike_runs = np.zeros_like(spike_nodes)\n",
    "for i in range(len(spike_nodes)):\n",
    "    spike_runs[i] = [run_i for run_i, run in enumerate(test_maze.runs) if spike_nodes[i] in run][0] +1\n"
   ]
  },
  {
   "cell_type": "code",
   "execution_count": 47,
   "metadata": {},
   "outputs": [
    {
     "data": {
      "text/plain": [
       "0"
      ]
     },
     "execution_count": 47,
     "metadata": {},
     "output_type": "execute_result"
    }
   ],
   "source": [
    "test_maze.runs.index(test_maze.runs[0])"
   ]
  },
  {
   "cell_type": "code",
   "execution_count": 48,
   "metadata": {},
   "outputs": [],
   "source": [
    "def node_to_run(node, runs):\n",
    "    # transform node number (start from 1) to run number (start from 1)\n",
    "    # for example node 1, to run 1\n",
    "    run_ind = 0\n",
    "    for run_i in runs:\n",
    "        if node in run_i:\n",
    "            run_ind = runs.index(run_i) +1\n",
    "            return run_ind\n",
    "    return run_ind\n",
    "        "
   ]
  },
  {
   "cell_type": "code",
   "execution_count": 51,
   "metadata": {},
   "outputs": [],
   "source": [
    "# run selective %\n",
    "## spike node to runs\n",
    "def node_to_run(node, runs):\n",
    "    # transform node number (start from 1) to run number (start from 1)\n",
    "    # for example node 1, to run 1\n",
    "    run_ind = 0\n",
    "    for run_i in runs:\n",
    "        if node in run_i:\n",
    "            run_ind = runs.index(run_i)+1\n",
    "            return run_ind\n",
    "    return run_ind\n",
    "        \n",
    "spike_runs = np.zeros_like(spike_nodes)\n",
    "for i in range(len(spike_nodes)):\n",
    "    spike_runs[i] = node_to_run(spike_nodes[i], test_maze.runs)\n",
    "\n"
   ]
  },
  {
   "cell_type": "code",
   "execution_count": 65,
   "metadata": {},
   "outputs": [
    {
     "data": {
      "text/plain": [
       "25"
      ]
     },
     "execution_count": 65,
     "metadata": {},
     "output_type": "execute_result"
    }
   ],
   "source": [
    "spike_nodes[850]"
   ]
  },
  {
   "cell_type": "code",
   "execution_count": 63,
   "metadata": {},
   "outputs": [
    {
     "data": {
      "text/plain": [
       "3"
      ]
     },
     "execution_count": 63,
     "metadata": {},
     "output_type": "execute_result"
    }
   ],
   "source": [
    "node_to_run(spike_nodes[851], test_maze.runs)"
   ]
  },
  {
   "cell_type": "code",
   "execution_count": 67,
   "metadata": {},
   "outputs": [
    {
     "data": {
      "text/plain": [
       "35"
      ]
     },
     "execution_count": 67,
     "metadata": {},
     "output_type": "execute_result"
    }
   ],
   "source": [
    "len(test_maze.runs)"
   ]
  },
  {
   "cell_type": "code",
   "execution_count": 68,
   "metadata": {
    "scrolled": true
   },
   "outputs": [
    {
     "data": {
      "text/plain": [
       "[[1],\n",
       " [2],\n",
       " [13],\n",
       " [14, 26, 27, 15, 3, 4, 5, 6],\n",
       " [7, 8],\n",
       " [18, 17],\n",
       " [16, 28],\n",
       " [29, 30],\n",
       " [31, 19, 20, 21, 9, 10, 11, 12, 24],\n",
       " [23,\n",
       "  22,\n",
       "  34,\n",
       "  33,\n",
       "  32,\n",
       "  44,\n",
       "  45,\n",
       "  46,\n",
       "  47,\n",
       "  48,\n",
       "  60,\n",
       "  59,\n",
       "  58,\n",
       "  57,\n",
       "  56,\n",
       "  68,\n",
       "  69,\n",
       "  70,\n",
       "  71,\n",
       "  72,\n",
       "  84],\n",
       " [83, 95, 94],\n",
       " [82, 81, 80, 92, 104, 103, 91, 90, 78, 79, 67, 55],\n",
       " [43],\n",
       " [54],\n",
       " [53],\n",
       " [66, 65, 64, 63, 75, 74, 62, 50, 51],\n",
       " [39],\n",
       " [40],\n",
       " [38, 37, 49, 61, 73, 85, 97],\n",
       " [98, 86],\n",
       " [109],\n",
       " [110,\n",
       "  122,\n",
       "  123,\n",
       "  111,\n",
       "  112,\n",
       "  100,\n",
       "  99,\n",
       "  87,\n",
       "  88,\n",
       "  76,\n",
       "  77,\n",
       "  89,\n",
       "  101,\n",
       "  102,\n",
       "  114,\n",
       "  113,\n",
       "  125,\n",
       "  124,\n",
       "  136,\n",
       "  137,\n",
       "  138,\n",
       "  126,\n",
       "  127,\n",
       "  115,\n",
       "  116,\n",
       "  117,\n",
       "  129],\n",
       " [128, 140, 139],\n",
       " [141, 142],\n",
       " [130],\n",
       " [118, 119, 107, 108, 120],\n",
       " [131, 132, 144],\n",
       " [143],\n",
       " [121, 133, 134, 135],\n",
       " [52],\n",
       " [106, 105, 93],\n",
       " [96],\n",
       " [36, 35],\n",
       " [42, 41],\n",
       " [25]]"
      ]
     },
     "execution_count": 68,
     "metadata": {},
     "output_type": "execute_result"
    }
   ],
   "source": [
    "test_maze.runs"
   ]
  },
  {
   "cell_type": "code",
   "execution_count": 69,
   "metadata": {},
   "outputs": [],
   "source": [
    "_nruns = len(test_maze.runs)\n",
    "_coords_range = [0, _nruns +0.0001 ]\n",
    "occu_time_run, _, run_numbers = scipy.stats.binned_statistic(\n",
    "        spike_runs,\n",
    "        stay_time,\n",
    "        bins=_nruns,\n",
    "        statistic=\"sum\",\n",
    "        range=_coords_range)\n",
    "assert((run_numbers == spike_runs).all())\n",
    "minimum_occu_thres = 50 # ms, occupancy time less than the threshold are set to NAN, preventing large spike rate\n",
    "occu_time_run[occu_time_run<minimum_occu_thres] = np.nan\n"
   ]
  },
  {
   "cell_type": "code",
   "execution_count": 70,
   "metadata": {},
   "outputs": [
    {
     "data": {
      "text/plain": [
       "(35,)"
      ]
     },
     "execution_count": 70,
     "metadata": {},
     "output_type": "execute_result"
    }
   ],
   "source": [
    "occu_time_run.shape"
   ]
  },
  {
   "cell_type": "code",
   "execution_count": 72,
   "metadata": {},
   "outputs": [
    {
     "data": {
      "text/plain": [
       "(85, 35)"
      ]
     },
     "execution_count": 72,
     "metadata": {},
     "output_type": "execute_result"
    }
   ],
   "source": [
    "rate_map_run_all.shape"
   ]
  },
  {
   "cell_type": "code",
   "execution_count": 74,
   "metadata": {},
   "outputs": [
    {
     "data": {
      "text/plain": [
       "[<matplotlib.lines.Line2D at 0x2567cc5d0a0>]"
      ]
     },
     "execution_count": 74,
     "metadata": {},
     "output_type": "execute_result"
    },
    {
     "data": {
      "image/png": "[encoded data removed]",
      "text/plain": [
       "<Figure size 432x288 with 3 Axes>"
      ]
     },
     "metadata": {
      "needs_background": "light"
     },
     "output_type": "display_data"
    }
   ],
   "source": [
    "plt.subplot(311)\n",
    "plt.plot(FiltTraces_behav[1,:])\n",
    "plt.subplot(312)\n",
    "plt.plot(FiltTraces_behav[2,:])\n",
    "plt.subplot(313)\n",
    "plt.plot(FiltTraces_behav[3,:])"
   ]
  },
  {
   "cell_type": "code",
   "execution_count": 4,
   "metadata": {},
   "outputs": [
    {
     "data": {
      "text/plain": [
       "[150.295,\n",
       " 90.473,\n",
       " 0.6242316254651781,\n",
       " 0.5079365079365079,\n",
       " array([33088., 12688., 43584.,  5728.,  2207., 10016., 12592.,  1584.,\n",
       "         5825.,  1760.,  9738.,   870.,  8208.,  7552., 23632.,  7440.,\n",
       "        54256.])]"
      ]
     },
     "execution_count": 4,
     "metadata": {},
     "output_type": "execute_result"
    }
   ],
   "source": [
    "test"
   ]
  },
  {
   "cell_type": "code",
   "execution_count": 9,
   "metadata": {},
   "outputs": [
    {
     "data": {
      "text/plain": [
       "<Closed HDF5 group>"
      ]
     },
     "execution_count": 9,
     "metadata": {},
     "output_type": "execute_result"
    }
   ],
   "source": [
    "ms_mat"
   ]
  },
  {
   "cell_type": "code",
   "execution_count": 25,
   "metadata": {},
   "outputs": [
    {
     "data": {
      "text/plain": [
       "(85,)"
      ]
     },
     "execution_count": 25,
     "metadata": {},
     "output_type": "execute_result"
    }
   ],
   "source": [
    "spike_times.shape"
   ]
  },
  {
   "cell_type": "code",
   "execution_count": 14,
   "metadata": {},
   "outputs": [],
   "source": [
    "?spike_times."
   ]
  },
  {
   "cell_type": "code",
   "execution_count": 6,
   "metadata": {},
   "outputs": [
    {
     "data": {
      "text/plain": [
       "array([  1,   1,   1, ..., 144, 144, 144])"
      ]
     },
     "execution_count": 6,
     "metadata": {},
     "output_type": "execute_result"
    }
   ],
   "source": [
    "spike_nodes"
   ]
  },
  {
   "cell_type": "code",
   "execution_count": 7,
   "metadata": {},
   "outputs": [
    {
     "data": {
      "text/plain": [
       "(array([ 0,  0,  0, ..., 11, 11, 11], dtype=int32),\n",
       " array([ 0,  0,  0, ..., 11, 11, 11], dtype=int32))"
      ]
     },
     "execution_count": 7,
     "metadata": {},
     "output_type": "execute_result"
    }
   ],
   "source": [
    "spike_bins"
   ]
  },
  {
   "cell_type": "code",
   "execution_count": 13,
   "metadata": {},
   "outputs": [
    {
     "data": {
      "text/plain": [
       "array([ 4837.,    nan,    67.,   802.,  1000.,   967.,  1268.,  2784.,\n",
       "          nan,    nan,    nan,    nan,  8304.,  6970.,  2868.,  2533.,\n",
       "        1767.,  3702.,  2271.,  2368.,   337.,   659.,   600.,   867.,\n",
       "        1820.,  8304.,  1700.,   466.,  1301.,  1200.,   567.,   433.,\n",
       "         400.,  1573.,  2336.,  3968.,  3134.,  4195.,  4906.,   801.,\n",
       "         467.,   902.,   500.,  1834.,  1568.,   634.,   434.,   100.,\n",
       "        1334.,  2200.,  3134.,   967.,    nan,   671.,  1665.,  1531.,\n",
       "        1042.,  1066.,  1168.,  1367.,   868.,  1571.,  2334.,  1368.,\n",
       "        1723.,   997.,   570.,  2102.,  1403.,  1533.,  1301.,   867.,\n",
       "         699.,   664.,   768.,   768.,  1100.,   430.,   966.,  1201.,\n",
       "         933.,   734.,   749.,  1335.,   768.,    nan,   433.,  1302.,\n",
       "        3402.,   835.,   301.,   534.,   501.,  1902.,  3070.,  1132.,\n",
       "         935.,   200.,  1405.,  1595.,  3100.,   834.,   595.,   637.,\n",
       "         932.,  1038.,   859.,   467.,  1366.,  8367.,   734.,  1471.,\n",
       "        1134.,  3201.,   269.,   767.,  1468.,  1601.,  3370.,  1867.,\n",
       "        1037.,  3637.,   832.,  3336.,  2300.,  1502.,  1901.,  1235.,\n",
       "        2960.,  2384.,   732.,   969.,  2565.,  1567.,  1867.,  2404.,\n",
       "        3102.,  2201.,  2101.,  3685.,  3586.,  3402.,  4177., 20435.])"
      ]
     },
     "execution_count": 13,
     "metadata": {},
     "output_type": "execute_result"
    }
   ],
   "source": [
    "occu_time"
   ]
  },
  {
   "cell_type": "code",
   "execution_count": 14,
   "metadata": {},
   "outputs": [
    {
     "data": {
      "text/plain": [
       "array([  1,   1,   1, ..., 144, 144, 144])"
      ]
     },
     "execution_count": 14,
     "metadata": {},
     "output_type": "execute_result"
    }
   ],
   "source": [
    "spike_nodes"
   ]
  },
  {
   "cell_type": "code",
   "execution_count": 18,
   "metadata": {},
   "outputs": [
    {
     "data": {
      "text/plain": [
       "array([0, 0, 0, ..., 0, 0, 0])"
      ]
     },
     "execution_count": 18,
     "metadata": {},
     "output_type": "execute_result"
    }
   ],
   "source": [
    "spikes"
   ]
  },
  {
   "cell_type": "code",
   "execution_count": null,
   "metadata": {},
   "outputs": [],
   "source": []
  }
 ],
 "metadata": {
  "kernelspec": {
   "display_name": "Python 3",
   "language": "python",
   "name": "python3"
  },
  "language_info": {
   "codemirror_mode": {
    "name": "ipython",
    "version": 3
   },
   "file_extension": ".py",
   "mimetype": "text/x-python",
   "name": "python",
   "nbconvert_exporter": "python",
   "pygments_lexer": "ipython3",
   "version": "3.8.5"
  }
 },
 "nbformat": 4,
 "nbformat_minor": 4
}
